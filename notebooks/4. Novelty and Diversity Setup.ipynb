{
 "cells": [
  {
   "cell_type": "markdown",
   "id": "fedada7b-2db3-4c61-b03c-46b8f05a9aca",
   "metadata": {},
   "source": [
    "# Package Imports"
   ]
  },
  {
   "cell_type": "code",
   "execution_count": 13,
   "id": "8297c768-00b6-4e04-a58d-84a36ba2ff9d",
   "metadata": {},
   "outputs": [],
   "source": [
    "from collections import defaultdict, Counter\n",
    "from tqdm.notebook import tqdm\n",
    "import networkx as nx\n",
    "from tqdm.auto import tqdm\n",
    "import random\n",
    "import math\n",
    "import pickle\n",
    "import torch\n",
    "from torch import Tensor\n",
    "import pandas as pd\n",
    "import torch_geometric\n",
    "from torch_geometric.data import HeteroData\n",
    "import torch_geometric.transforms as T\n",
    "from torch_geometric.utils.convert import to_networkx, from_networkx\n",
    "from torch_geometric.utils import to_undirected, is_undirected\n",
    "import numpy as np\n",
    "from networkx import to_dict_of_dicts\n",
    "from torch_geometric.loader import NeighborLoader, LinkNeighborLoader, HGTLoader,NeighborSampler\n",
    "from torch_geometric.utils import mask_select, index_to_mask\n",
    "from gensim.models import Word2Vec\n",
    "from sklearn.manifold import TSNE\n",
    "import matplotlib.pyplot as plt\n",
    "from sklearn.preprocessing import MinMaxScaler\n",
    "import plotly.graph_objects as go\n",
    "import os"
   ]
  },
  {
   "cell_type": "code",
   "execution_count": 7,
   "id": "246b4907-3391-471b-bf55-8082578e622f",
   "metadata": {},
   "outputs": [
    {
     "data": {
      "text/html": [
       "<div>\n",
       "<style scoped>\n",
       "    .dataframe tbody tr th:only-of-type {\n",
       "        vertical-align: middle;\n",
       "    }\n",
       "\n",
       "    .dataframe tbody tr th {\n",
       "        vertical-align: top;\n",
       "    }\n",
       "\n",
       "    .dataframe thead th {\n",
       "        text-align: right;\n",
       "    }\n",
       "</style>\n",
       "<table border=\"1\" class=\"dataframe\">\n",
       "  <thead>\n",
       "    <tr style=\"text-align: right;\">\n",
       "      <th></th>\n",
       "      <th>Artist</th>\n",
       "      <th>Song_Name</th>\n",
       "      <th>Song_Node_ID</th>\n",
       "    </tr>\n",
       "  </thead>\n",
       "  <tbody>\n",
       "    <tr>\n",
       "      <th>0</th>\n",
       "      <td>Black Kids</td>\n",
       "      <td>I'm Not Gonna Teach Your Boyfriend How to Danc...</td>\n",
       "      <td>3307</td>\n",
       "    </tr>\n",
       "    <tr>\n",
       "      <th>1</th>\n",
       "      <td>Black Kids</td>\n",
       "      <td>Hit The Heartbrakes</td>\n",
       "      <td>3308</td>\n",
       "    </tr>\n",
       "    <tr>\n",
       "      <th>2</th>\n",
       "      <td>Black Kids</td>\n",
       "      <td>I've Underestimated My Charm (Again)</td>\n",
       "      <td>3309</td>\n",
       "    </tr>\n",
       "    <tr>\n",
       "      <th>3</th>\n",
       "      <td>Black Kids</td>\n",
       "      <td>Partie Traumatic</td>\n",
       "      <td>3310</td>\n",
       "    </tr>\n",
       "    <tr>\n",
       "      <th>4</th>\n",
       "      <td>Black Kids</td>\n",
       "      <td>I'm Making Eyes at You</td>\n",
       "      <td>3311</td>\n",
       "    </tr>\n",
       "    <tr>\n",
       "      <th>...</th>\n",
       "      <td>...</td>\n",
       "      <td>...</td>\n",
       "      <td>...</td>\n",
       "    </tr>\n",
       "    <tr>\n",
       "      <th>252008</th>\n",
       "      <td>Jamie Lancaster</td>\n",
       "      <td>Boys Don't Cry</td>\n",
       "      <td>255203</td>\n",
       "    </tr>\n",
       "    <tr>\n",
       "      <th>252009</th>\n",
       "      <td>Sleeperstar</td>\n",
       "      <td>I Was Wrong</td>\n",
       "      <td>255208</td>\n",
       "    </tr>\n",
       "    <tr>\n",
       "      <th>252010</th>\n",
       "      <td>Anthony Naples</td>\n",
       "      <td>Mad Disrespect</td>\n",
       "      <td>255228</td>\n",
       "    </tr>\n",
       "    <tr>\n",
       "      <th>252011</th>\n",
       "      <td>Irene</td>\n",
       "      <td>Stardust</td>\n",
       "      <td>255253</td>\n",
       "    </tr>\n",
       "    <tr>\n",
       "      <th>252012</th>\n",
       "      <td>Mahmut Orhan</td>\n",
       "      <td>Feel - Radio Edit</td>\n",
       "      <td>255296</td>\n",
       "    </tr>\n",
       "  </tbody>\n",
       "</table>\n",
       "<p>252013 rows × 3 columns</p>\n",
       "</div>"
      ],
      "text/plain": [
       "                 Artist                                          Song_Name  \\\n",
       "0            Black Kids  I'm Not Gonna Teach Your Boyfriend How to Danc...   \n",
       "1            Black Kids                                Hit The Heartbrakes   \n",
       "2            Black Kids               I've Underestimated My Charm (Again)   \n",
       "3            Black Kids                                   Partie Traumatic   \n",
       "4            Black Kids                             I'm Making Eyes at You   \n",
       "...                 ...                                                ...   \n",
       "252008  Jamie Lancaster                                     Boys Don't Cry   \n",
       "252009      Sleeperstar                                        I Was Wrong   \n",
       "252010   Anthony Naples                                     Mad Disrespect   \n",
       "252011            Irene                                           Stardust   \n",
       "252012     Mahmut Orhan                                  Feel - Radio Edit   \n",
       "\n",
       "        Song_Node_ID  \n",
       "0               3307  \n",
       "1               3308  \n",
       "2               3309  \n",
       "3               3310  \n",
       "4               3311  \n",
       "...              ...  \n",
       "252008        255203  \n",
       "252009        255208  \n",
       "252010        255228  \n",
       "252011        255253  \n",
       "252012        255296  \n",
       "\n",
       "[252013 rows x 3 columns]"
      ]
     },
     "execution_count": 7,
     "metadata": {},
     "output_type": "execute_result"
    }
   ],
   "source": [
    "# Load New Mapping: \n",
    "artist_tracks_mapping = pd.read_csv('data/new_artist_tracks_mapping_df.csv')\n",
    "artist_tracks_mapping"
   ]
  },
  {
   "cell_type": "markdown",
   "id": "610179e4-c770-4cb4-97a3-11e6a65affb5",
   "metadata": {},
   "source": [
    "# Evaluation Metrics"
   ]
  },
  {
   "cell_type": "code",
   "execution_count": 8,
   "id": "e6fcf41c-7151-4d2e-9de4-bbfdba8e7e89",
   "metadata": {},
   "outputs": [],
   "source": [
    "# import 2 node graph\n",
    "data = torch.load('data/pyg_data/train_hetero_data_2_nodes_co.pt')"
   ]
  },
  {
   "cell_type": "code",
   "execution_count": 9,
   "id": "a2025680",
   "metadata": {},
   "outputs": [
    {
     "data": {
      "text/plain": [
       "HeteroData(\n",
       "  users={ node_id=[3307] },\n",
       "  songs={ node_id=[252013] },\n",
       "  (users, listens_to, songs)={ edge_index=[2, 2564907] },\n",
       "  (users, is_friends_with, users)={ edge_index=[2, 142919] },\n",
       "  (songs, rev_listens_to, users)={ edge_index=[2, 2564907] },\n",
       "  (users, rev_is_friends_with, users)={ edge_index=[2, 142919] }\n",
       ")"
      ]
     },
     "execution_count": 9,
     "metadata": {},
     "output_type": "execute_result"
    }
   ],
   "source": [
    "data"
   ]
  },
  {
   "cell_type": "code",
   "execution_count": 10,
   "id": "e815685d-c130-471c-ab1c-f6878b213e76",
   "metadata": {},
   "outputs": [
    {
     "data": {
      "text/plain": [
       "(255320, 5415652)"
      ]
     },
     "execution_count": 10,
     "metadata": {},
     "output_type": "execute_result"
    }
   ],
   "source": [
    "data.num_nodes, data.num_edges"
   ]
  },
  {
   "cell_type": "code",
   "execution_count": 11,
   "id": "f51737e9-c3ac-4b09-a9a3-84e797426957",
   "metadata": {},
   "outputs": [],
   "source": [
    "# transform pyg to nx graph\n",
    "user_track_graph = to_networkx(data)"
   ]
  },
  {
   "cell_type": "code",
   "execution_count": 9,
   "id": "a9c7e6ef-ef1e-46e8-8d7d-2cab56210fe7",
   "metadata": {},
   "outputs": [
    {
     "data": {
      "text/plain": [
       "(255320, 5129814)"
      ]
     },
     "execution_count": 9,
     "metadata": {},
     "output_type": "execute_result"
    }
   ],
   "source": [
    "len(user_track_graph), len(user_track_graph.edges) # transformation correct form pyg to nx"
   ]
  },
  {
   "cell_type": "markdown",
   "id": "df26b387-f88d-4a25-a471-27f7c2e61c48",
   "metadata": {},
   "source": [
    "## Louvain Communities"
   ]
  },
  {
   "cell_type": "code",
   "execution_count": 27,
   "id": "60242516-1ab8-4812-af66-481422a8b8f1",
   "metadata": {},
   "outputs": [
    {
     "name": "stdout",
     "output_type": "stream",
     "text": [
      "Communities loaded from file.\n"
     ]
    }
   ],
   "source": [
    "from networkx.algorithms.community import louvain_communities\n",
    "# Define the path to save or load the communities\n",
    "communities_path = 'data/communities/louvain_communities.pkl'\n",
    "\n",
    "# Check if the communities file exists\n",
    "if os.path.exists(communities_path):\n",
    "    # Load the communities if the file exists\n",
    "    with open(communities_path, 'rb') as f:\n",
    "        communities = pickle.load(f)\n",
    "    print(\"Communities loaded from file.\")\n",
    "else:\n",
    "    # Run and save the communities if the file does not exist\n",
    "    communities = louvain_communities(co_nx, seed=42)\n",
    "    with open(communities_path, 'wb') as f:\n",
    "        pickle.dump(l_com, f)\n",
    "    print(\"Communities generated and saved to file.\")\n"
   ]
  },
  {
   "cell_type": "code",
   "execution_count": 28,
   "id": "cf059183-2b73-40fb-a8c8-41a06e5dbbfb",
   "metadata": {},
   "outputs": [
    {
     "name": "stdout",
     "output_type": "stream",
     "text": [
      "Number of Communities: 9\n"
     ]
    }
   ],
   "source": [
    "print(f'Number of Communities: {len(communities)}')"
   ]
  },
  {
   "cell_type": "markdown",
   "id": "e5e12930-e4da-489a-9f4d-e14691baea60",
   "metadata": {},
   "source": [
    "#### Community Distribution:"
   ]
  },
  {
   "cell_type": "code",
   "execution_count": 29,
   "id": "44ea06b0-9adb-42df-aa7e-b84ddbc1b9b8",
   "metadata": {},
   "outputs": [],
   "source": [
    "# dictionary that shows all nodes and their assigment to their community (from 0 - 10)\n",
    "node_community = {}\n",
    "for c, group in enumerate(communities):\n",
    "    for u in group:\n",
    "        node_community[u] = c"
   ]
  },
  {
   "cell_type": "code",
   "execution_count": 30,
   "id": "25ec32c4-e86f-4434-8094-f1205ef3a48f",
   "metadata": {
    "scrolled": true
   },
   "outputs": [
    {
     "data": {
      "text/plain": [
       "252013"
      ]
     },
     "execution_count": 30,
     "metadata": {},
     "output_type": "execute_result"
    }
   ],
   "source": [
    "len(node_community) - 3307"
   ]
  },
  {
   "cell_type": "code",
   "execution_count": 31,
   "id": "a557d447-dda2-4294-a155-cb8ecf2da081",
   "metadata": {
    "scrolled": true
   },
   "outputs": [
    {
     "data": {
      "text/plain": [
       "{16385: 0,\n",
       " 188420: 0,\n",
       " 32778: 0,\n",
       " 188426: 0,\n",
       " 188429: 0,\n",
       " 172046: 0,\n",
       " 163855: 0,\n",
       " 32787: 0,\n",
       " 32788: 0,\n",
       " 24595: 0,\n",
       " 57364: 0,\n",
       " 73748: 0,\n",
       " 73754: 0,\n",
       " 49185: 0,\n",
       " 49187: 0,\n",
       " 49189: 0,\n",
       " 73765: 0,\n",
       " 245802: 0,\n",
       " 32813: 0,\n",
       " 213041: 0,\n",
       " 213043: 0,\n",
       " 180275: 0,\n",
       " 213045: 0,\n",
       " 213047: 0,\n",
       " 24640: 0,\n",
       " 81985: 0,\n",
       " 49226: 0,\n",
       " 8271: 0,\n",
       " 65616: 0,\n",
       " 32849: 0,\n",
       " 204881: 0,\n",
       " 32853: 0,\n",
       " 16471: 0,\n",
       " 57433: 0,\n",
       " 90203: 0,\n",
       " 98396: 0,\n",
       " 98397: 0,\n",
       " 122978: 0,\n",
       " 32876: 0,\n",
       " 73843: 0,\n",
       " 24691: 0,\n",
       " 57460: 0,\n",
       " 73844: 0,\n",
       " 65662: 0,\n",
       " 73864: 0,\n",
       " 180362: 0,\n",
       " 57485: 0,\n",
       " 16528: 0,\n",
       " 163996: 0,\n",
       " 229532: 0,\n",
       " 98462: 0,\n",
       " 32927: 0,\n",
       " 172197: 0,\n",
       " 73897: 0,\n",
       " 237741: 0,\n",
       " 172206: 0,\n",
       " 57519: 0,\n",
       " 90288: 0,\n",
       " 172207: 0,\n",
       " 229558: 0,\n",
       " 32956: 0,\n",
       " 229574: 0,\n",
       " 204998: 0,\n",
       " 229576: 0,\n",
       " 8395: 0,\n",
       " 155852: 0,\n",
       " 237772: 0,\n",
       " 155854: 0,\n",
       " 57547: 0,\n",
       " 57548: 0,\n",
       " 57549: 0,\n",
       " 164050: 0,\n",
       " 155858: 0,\n",
       " 155862: 0,\n",
       " 155864: 0,\n",
       " 155866: 0,\n",
       " 57562: 0,\n",
       " 155868: 0,\n",
       " 16605: 0,\n",
       " 155871: 0,\n",
       " 32994: 0,\n",
       " 228: 0,\n",
       " 213220: 0,\n",
       " 16614: 0,\n",
       " 213222: 0,\n",
       " 90340: 0,\n",
       " 221414: 0,\n",
       " 221416: 0,\n",
       " 24814: 0,\n",
       " 114934: 0,\n",
       " 98551: 0,\n",
       " 98550: 0,\n",
       " 229629: 0,\n",
       " 98572: 0,\n",
       " 155919: 0,\n",
       " 237840: 0,\n",
       " 24851: 0,\n",
       " 24852: 0,\n",
       " 172308: 0,\n",
       " 237846: 0,\n",
       " 180503: 0,\n",
       " 90391: 0,\n",
       " 188706: 0,\n",
       " 164131: 0,\n",
       " 229668: 0,\n",
       " 33061: 0,\n",
       " 98596: 0,\n",
       " 106787: 0,\n",
       " 106791: 0,\n",
       " 188710: 0,\n",
       " 57642: 0,\n",
       " 57643: 0,\n",
       " 106790: 0,\n",
       " 106792: 0,\n",
       " 106794: 0,\n",
       " 114997: 0,\n",
       " 114998: 0,\n",
       " 57656: 0,\n",
       " 164153: 0,\n",
       " 57657: 0,\n",
       " 115004: 0,\n",
       " 164157: 0,\n",
       " 318: 0,\n",
       " 82239: 0,\n",
       " 49473: 0,\n",
       " 188737: 0,\n",
       " 33092: 0,\n",
       " 33093: 0,\n",
       " 82246: 0,\n",
       " 82244: 0,\n",
       " 221519: 0,\n",
       " 246096: 0,\n",
       " 213329: 0,\n",
       " 74070: 0,\n",
       " 90467: 0,\n",
       " 65894: 0,\n",
       " 246119: 0,\n",
       " 65896: 0,\n",
       " 65900: 0,\n",
       " 65906: 0,\n",
       " 371: 0,\n",
       " 90487: 0,\n",
       " 180602: 0,\n",
       " 74112: 0,\n",
       " 57733: 0,\n",
       " 90503: 0,\n",
       " 33162: 0,\n",
       " 33163: 0,\n",
       " 33164: 0,\n",
       " 188810: 0,\n",
       " 164243: 0,\n",
       " 172436: 0,\n",
       " 156051: 0,\n",
       " 41369: 0,\n",
       " 57754: 0,\n",
       " 65949: 0,\n",
       " 246174: 0,\n",
       " 98719: 0,\n",
       " 98720: 0,\n",
       " 16798: 0,\n",
       " 213414: 0,\n",
       " 139690: 0,\n",
       " 213423: 0,\n",
       " 74161: 0,\n",
       " 180658: 0,\n",
       " 180660: 0,\n",
       " 82366: 0,\n",
       " 115137: 0,\n",
       " 16835: 0,\n",
       " 49605: 0,\n",
       " 16837: 0,\n",
       " 33230: 0,\n",
       " 221647: 0,\n",
       " 115152: 0,\n",
       " 180689: 0,\n",
       " 57812: 0,\n",
       " 180697: 0,\n",
       " 57819: 0,\n",
       " 115166: 0,\n",
       " 57825: 0,\n",
       " 221666: 0,\n",
       " 180710: 0,\n",
       " 74218: 0,\n",
       " 238059: 0,\n",
       " 115181: 0,\n",
       " 98806: 0,\n",
       " 57849: 0,\n",
       " 57852: 0,\n",
       " 66044: 0,\n",
       " 57856: 0,\n",
       " 115201: 0,\n",
       " 74243: 0,\n",
       " 90635: 0,\n",
       " 213517: 0,\n",
       " 188942: 0,\n",
       " 90646: 0,\n",
       " 8728: 0,\n",
       " 8729: 0,\n",
       " 254492: 0,\n",
       " 66077: 0,\n",
       " 74269: 0,\n",
       " 66079: 0,\n",
       " 66080: 0,\n",
       " 172582: 0,\n",
       " 82471: 0,\n",
       " 172584: 0,\n",
       " 172583: 0,\n",
       " 197168: 0,\n",
       " 246323: 0,\n",
       " 254523: 0,\n",
       " 57916: 0,\n",
       " 74302: 0,\n",
       " 90689: 0,\n",
       " 66115: 0,\n",
       " 98892: 0,\n",
       " 57935: 0,\n",
       " 41554: 0,\n",
       " 229973: 0,\n",
       " 172629: 0,\n",
       " 98904: 0,\n",
       " 57944: 0,\n",
       " 115290: 0,\n",
       " 98906: 0,\n",
       " 16988: 0,\n",
       " 98908: 0,\n",
       " 74334: 0,\n",
       " 57953: 0,\n",
       " 98914: 0,\n",
       " 213604: 0,\n",
       " 33394: 0,\n",
       " 33395: 0,\n",
       " 221810: 0,\n",
       " 156278: 0,\n",
       " 33402: 0,\n",
       " 33403: 0,\n",
       " 33406: 0,\n",
       " 82560: 0,\n",
       " 246402: 0,\n",
       " 49794: 0,\n",
       " 107143: 0,\n",
       " 57992: 0,\n",
       " 57993: 0,\n",
       " 49802: 0,\n",
       " 57994: 0,\n",
       " 90766: 0,\n",
       " 90768: 0,\n",
       " 164498: 0,\n",
       " 90770: 0,\n",
       " 221844: 0,\n",
       " 230040: 0,\n",
       " 33437: 0,\n",
       " 164510: 0,\n",
       " 17055: 0,\n",
       " 74399: 0,\n",
       " 74404: 0,\n",
       " 74405: 0,\n",
       " 678: 0,\n",
       " 213671: 0,\n",
       " 90788: 0,\n",
       " 90790: 0,\n",
       " 246442: 0,\n",
       " 90795: 0,\n",
       " 90798: 0,\n",
       " 90799: 0,\n",
       " 107192: 0,\n",
       " 25275: 0,\n",
       " 139965: 0,\n",
       " 139967: 0,\n",
       " 25286: 0,\n",
       " 189127: 0,\n",
       " 156360: 0,\n",
       " 66262: 0,\n",
       " 172758: 0,\n",
       " 66264: 0,\n",
       " 172761: 0,\n",
       " 17118: 0,\n",
       " 82659: 0,\n",
       " 82661: 0,\n",
       " 17127: 0,\n",
       " 164585: 0,\n",
       " 140016: 0,\n",
       " 164597: 0,\n",
       " 123640: 0,\n",
       " 140026: 0,\n",
       " 74492: 0,\n",
       " 164605: 0,\n",
       " 25344: 0,\n",
       " 164609: 0,\n",
       " 164610: 0,\n",
       " 164612: 0,\n",
       " 58117: 0,\n",
       " 115465: 0,\n",
       " 164619: 0,\n",
       " 181003: 0,\n",
       " 82701: 0,\n",
       " 115467: 0,\n",
       " 74511: 0,\n",
       " 221963: 0,\n",
       " 49936: 0,\n",
       " 82705: 0,\n",
       " 115474: 0,\n",
       " 82707: 0,\n",
       " 82709: 0,\n",
       " 82710: 0,\n",
       " 82711: 0,\n",
       " 58130: 0,\n",
       " 164633: 0,\n",
       " 164634: 0,\n",
       " 17178: 0,\n",
       " 66333: 0,\n",
       " 33567: 0,\n",
       " 90913: 0,\n",
       " 107298: 0,\n",
       " 107300: 0,\n",
       " 107302: 0,\n",
       " 107303: 0,\n",
       " 82733: 0,\n",
       " 197426: 0,\n",
       " 189236: 0,\n",
       " 164661: 0,\n",
       " 99128: 0,\n",
       " 99129: 0,\n",
       " 181049: 0,\n",
       " 99131: 0,\n",
       " 172862: 0,\n",
       " 107328: 0,\n",
       " 90945: 0,\n",
       " 164674: 0,\n",
       " 107330: 0,\n",
       " 74563: 0,\n",
       " 74564: 0,\n",
       " 9030: 0,\n",
       " 9031: 0,\n",
       " 90958: 0,\n",
       " 246610: 0,\n",
       " 17238: 0,\n",
       " 33624: 0,\n",
       " 33625: 0,\n",
       " 189272: 0,\n",
       " 90970: 0,\n",
       " 90977: 0,\n",
       " 50018: 0,\n",
       " 189285: 0,\n",
       " 123758: 0,\n",
       " 172912: 0,\n",
       " 254834: 0,\n",
       " 189299: 0,\n",
       " 172916: 0,\n",
       " 172914: 0,\n",
       " 58228: 0,\n",
       " 246649: 0,\n",
       " 222078: 0,\n",
       " 17284: 0,\n",
       " 82822: 0,\n",
       " 66439: 0,\n",
       " 50060: 0,\n",
       " 254864: 0,\n",
       " 25490: 0,\n",
       " 99220: 0,\n",
       " 58260: 0,\n",
       " 164772: 0,\n",
       " 181157: 0,\n",
       " 181159: 0,\n",
       " 91047: 0,\n",
       " 140201: 0,\n",
       " 99242: 0,\n",
       " 66475: 0,\n",
       " 123817: 0,\n",
       " 189353: 0,\n",
       " 230318: 0,\n",
       " 99248: 0,\n",
       " 115633: 0,\n",
       " 230323: 0,\n",
       " 164789: 0,\n",
       " 230327: 0,\n",
       " 230328: 0,\n",
       " 82871: 0,\n",
       " 230331: 0,\n",
       " 66491: 0,\n",
       " 230333: 0,\n",
       " 115646: 0,\n",
       " 115647: 0,\n",
       " 115648: 0,\n",
       " 115649: 0,\n",
       " 33729: 0,\n",
       " 33731: 0,\n",
       " 33732: 0,\n",
       " 58303: 0,\n",
       " 58307: 0,\n",
       " 58309: 0,\n",
       " 222151: 0,\n",
       " 222152: 0,\n",
       " 115661: 0,\n",
       " 9165: 0,\n",
       " 115663: 0,\n",
       " 25551: 0,\n",
       " 115665: 0,\n",
       " 9167: 0,\n",
       " 115667: 0,\n",
       " 115669: 0,\n",
       " 91099: 0,\n",
       " 33759: 0,\n",
       " 33760: 0,\n",
       " 99298: 0,\n",
       " 58344: 0,\n",
       " 99305: 0,\n",
       " 99306: 0,\n",
       " 99307: 0,\n",
       " 99308: 0,\n",
       " 58345: 0,\n",
       " 82926: 0,\n",
       " 58346: 0,\n",
       " 58350: 0,\n",
       " 58352: 0,\n",
       " 33778: 0,\n",
       " 58353: 0,\n",
       " 17401: 0,\n",
       " 1017: 0,\n",
       " 123904: 0,\n",
       " 58372: 0,\n",
       " 91143: 0,\n",
       " 99336: 0,\n",
       " 107529: 0,\n",
       " 25610: 0,\n",
       " 25612: 0,\n",
       " 17422: 0,\n",
       " 214032: 0,\n",
       " 33809: 0,\n",
       " 214034: 0,\n",
       " 214035: 0,\n",
       " 42004: 0,\n",
       " 214037: 0,\n",
       " 42002: 0,\n",
       " 91157: 0,\n",
       " 156696: 0,\n",
       " 91161: 0,\n",
       " 156699: 0,\n",
       " 156700: 0,\n",
       " 42012: 0,\n",
       " 107549: 0,\n",
       " 156701: 0,\n",
       " 91168: 0,\n",
       " 91169: 0,\n",
       " 91170: 0,\n",
       " 74787: 0,\n",
       " 91172: 0,\n",
       " 91173: 0,\n",
       " 148528: 0,\n",
       " 58431: 0,\n",
       " 66626: 0,\n",
       " 230475: 0,\n",
       " 140363: 0,\n",
       " 58446: 0,\n",
       " 164945: 0,\n",
       " 66642: 0,\n",
       " 115795: 0,\n",
       " 115794: 0,\n",
       " 1105: 0,\n",
       " 91219: 0,\n",
       " 115802: 0,\n",
       " 91228: 0,\n",
       " 25692: 0,\n",
       " 115807: 0,\n",
       " 115814: 0,\n",
       " 115815: 0,\n",
       " 115816: 0,\n",
       " 115817: 0,\n",
       " 115818: 0,\n",
       " 115820: 0,\n",
       " 66684: 0,\n",
       " 148605: 0,\n",
       " 222332: 0,\n",
       " 148607: 0,\n",
       " 222333: 0,\n",
       " 91263: 0,\n",
       " 1157: 0,\n",
       " 66694: 0,\n",
       " 115848: 0,\n",
       " 165009: 0,\n",
       " 165012: 0,\n",
       " 66711: 0,\n",
       " 165017: 0,\n",
       " 33945: 0,\n",
       " 189598: 0,\n",
       " 140447: 0,\n",
       " 66720: 0,\n",
       " 230560: 0,\n",
       " 33958: 0,\n",
       " 33959: 0,\n",
       " 115882: 0,\n",
       " 91307: 0,\n",
       " 91308: 0,\n",
       " 140461: 0,\n",
       " 91309: 0,\n",
       " 214197: 0,\n",
       " 91321: 0,\n",
       " 255167: 0,\n",
       " 91339: 0,\n",
       " 42188: 0,\n",
       " 66766: 0,\n",
       " 66767: 0,\n",
       " 66770: 0,\n",
       " 74963: 0,\n",
       " 74967: 0,\n",
       " 189658: 0,\n",
       " 165084: 0,\n",
       " 99557: 0,\n",
       " 34023: 0,\n",
       " 58608: 0,\n",
       " 58609: 0,\n",
       " 189687: 0,\n",
       " 58617: 0,\n",
       " 58623: 0,\n",
       " 238851: 0,\n",
       " 115972: 0,\n",
       " 115973: 0,\n",
       " 115974: 0,\n",
       " 58629: 0,\n",
       " 124167: 0,\n",
       " 58631: 0,\n",
       " 58633: 0,\n",
       " 58634: 0,\n",
       " 58637: 0,\n",
       " 58638: 0,\n",
       " 91410: 0,\n",
       " 66838: 0,\n",
       " 115993: 0,\n",
       " 58649: 0,\n",
       " 58652: 0,\n",
       " 247070: 0,\n",
       " 58654: 0,\n",
       " 58655: 0,\n",
       " 58657: 0,\n",
       " 58658: 0,\n",
       " 58659: 0,\n",
       " 214308: 0,\n",
       " 189742: 0,\n",
       " 58675: 0,\n",
       " 58676: 0,\n",
       " 58677: 0,\n",
       " 58680: 0,\n",
       " 83258: 0,\n",
       " 34107: 0,\n",
       " 165183: 0,\n",
       " 91455: 0,\n",
       " 91456: 0,\n",
       " 91458: 0,\n",
       " 58693: 0,\n",
       " 58694: 0,\n",
       " 91463: 0,\n",
       " 58698: 0,\n",
       " 58699: 0,\n",
       " 58701: 0,\n",
       " 34127: 0,\n",
       " 58703: 0,\n",
       " 173393: 0,\n",
       " 58706: 0,\n",
       " 165203: 0,\n",
       " 42321: 0,\n",
       " 58709: 0,\n",
       " 58710: 0,\n",
       " 255319: 0,\n",
       " 58712: 0,\n",
       " 165209: 0,\n",
       " 165210: 0,\n",
       " 173398: 0,\n",
       " 58715: 0,\n",
       " 189795: 0,\n",
       " 58724: 0,\n",
       " 140645: 0,\n",
       " 58725: 0,\n",
       " 34153: 0,\n",
       " 58731: 0,\n",
       " 17772: 0,\n",
       " 230765: 0,\n",
       " 230766: 0,\n",
       " 17775: 0,\n",
       " 189805: 0,\n",
       " 34161: 0,\n",
       " 75118: 0,\n",
       " 58739: 0,\n",
       " 58740: 0,\n",
       " 116088: 0,\n",
       " 83322: 0,\n",
       " 124283: 0,\n",
       " 83324: 0,\n",
       " 165249: 0,\n",
       " 173447: 0,\n",
       " 34194: 0,\n",
       " 34195: 0,\n",
       " 58778: 0,\n",
       " 116126: 0,\n",
       " 116131: 0,\n",
       " 116132: 0,\n",
       " 116133: 0,\n",
       " 116134: 0,\n",
       " 116135: 0,\n",
       " 116136: 0,\n",
       " 116137: 0,\n",
       " 116139: 0,\n",
       " 75179: 0,\n",
       " 116141: 0,\n",
       " 230830: 0,\n",
       " 116143: 0,\n",
       " 116144: 0,\n",
       " 116145: 0,\n",
       " 116146: 0,\n",
       " 116147: 0,\n",
       " 91564: 0,\n",
       " 222639: 0,\n",
       " 116150: 0,\n",
       " 83385: 0,\n",
       " 67003: 0,\n",
       " 116157: 0,\n",
       " 34237: 0,\n",
       " 116161: 0,\n",
       " 67009: 0,\n",
       " 91585: 0,\n",
       " 222658: 0,\n",
       " 91594: 0,\n",
       " 58834: 0,\n",
       " 157139: 0,\n",
       " 75221: 0,\n",
       " 50646: 0,\n",
       " 75222: 0,\n",
       " 67032: 0,\n",
       " 58848: 0,\n",
       " 247269: 0,\n",
       " 124390: 0,\n",
       " 247276: 0,\n",
       " 17904: 0,\n",
       " 230899: 0,\n",
       " 247285: 0,\n",
       " 75254: 0,\n",
       " 230903: 0,\n",
       " 108023: 0,\n",
       " 230907: 0,\n",
       " 222717: 0,\n",
       " 222721: 0,\n",
       " 222722: 0,\n",
       " 222724: 0,\n",
       " 67079: 0,\n",
       " 58887: 0,\n",
       " 140811: 0,\n",
       " 34319: 0,\n",
       " 67088: 0,\n",
       " 34321: 0,\n",
       " 58900: 0,\n",
       " 181783: 0,\n",
       " 181786: 0,\n",
       " 83485: 0,\n",
       " 58916: 0,\n",
       " 58918: 0,\n",
       " 17962: 0,\n",
       " 17963: 0,\n",
       " 17964: 0,\n",
       " 116271: 0,\n",
       " 116273: 0,\n",
       " 83505: 0,\n",
       " 91703: 0,\n",
       " 91705: 0,\n",
       " 91706: 0,\n",
       " 116289: 0,\n",
       " 230977: 0,\n",
       " 116292: 0,\n",
       " 214596: 0,\n",
       " 247367: 0,\n",
       " 34377: 0,\n",
       " 58956: 0,\n",
       " 58957: 0,\n",
       " 181839: 0,\n",
       " 230998: 0,\n",
       " 42583: 0,\n",
       " 231000: 0,\n",
       " 247389: 0,\n",
       " 91746: 0,\n",
       " 124529: 0,\n",
       " 124533: 0,\n",
       " 124536: 0,\n",
       " 140921: 0,\n",
       " 165498: 0,\n",
       " 124538: 0,\n",
       " 124541: 0,\n",
       " 83582: 0,\n",
       " 124542: 0,\n",
       " 247430: 0,\n",
       " 124550: 0,\n",
       " 1672: 0,\n",
       " 18056: 0,\n",
       " 50828: 0,\n",
       " 67213: 0,\n",
       " 50831: 0,\n",
       " 124564: 0,\n",
       " 124565: 0,\n",
       " 99990: 0,\n",
       " 181912: 0,\n",
       " 99992: 0,\n",
       " 124568: 0,\n",
       " 124570: 0,\n",
       " 222876: 0,\n",
       " 190109: 0,\n",
       " 59039: 0,\n",
       " 181920: 0,\n",
       " 83617: 0,\n",
       " 181922: 0,\n",
       " 67235: 0,\n",
       " 59040: 0,\n",
       " 124575: 0,\n",
       " 18086: 0,\n",
       " 239270: 0,\n",
       " 124584: 0,\n",
       " 67241: 0,\n",
       " 75434: 0,\n",
       " 116395: 0,\n",
       " 198316: 0,\n",
       " 198317: 0,\n",
       " 124588: 0,\n",
       " 67247: 0,\n",
       " 198319: 0,\n",
       " 67248: 0,\n",
       " 67250: 0,\n",
       " 239277: 0,\n",
       " 67252: 0,\n",
       " 67253: 0,\n",
       " 67254: 0,\n",
       " 116407: 0,\n",
       " 124591: 0,\n",
       " 83641: 0,\n",
       " 59057: 0,\n",
       " 91826: 0,\n",
       " 91831: 0,\n",
       " 91834: 0,\n",
       " 26300: 0,\n",
       " 91840: 0,\n",
       " 173760: 0,\n",
       " 91842: 0,\n",
       " 190145: 0,\n",
       " 67268: 0,\n",
       " 165573: 0,\n",
       " 165574: 0,\n",
       " 222919: 0,\n",
       " 67271: 0,\n",
       " 165576: 0,\n",
       " 67273: 0,\n",
       " 67274: 0,\n",
       " 165578: 0,\n",
       " 247495: 0,\n",
       " 247496: 0,\n",
       " 83658: 0,\n",
       " 247503: 0,\n",
       " 247505: 0,\n",
       " 157387: 0,\n",
       " 239309: 0,\n",
       " 157391: 0,\n",
       " 91861: 0,\n",
       " 91862: 0,\n",
       " 91863: 0,\n",
       " 26327: 0,\n",
       " 26329: 0,\n",
       " 91864: 0,\n",
       " 83678: 0,\n",
       " 83692: 0,\n",
       " 124653: 0,\n",
       " 174573: 0,\n",
       " 239347: 0,\n",
       " 222969: 0,\n",
       " 222972: 0,\n",
       " 34560: 0,\n",
       " 116481: 0,\n",
       " 165633: 0,\n",
       " 59137: 0,\n",
       " 59138: 0,\n",
       " 18182: 0,\n",
       " 26374: 0,\n",
       " 50952: 0,\n",
       " 50955: 0,\n",
       " 42766: 0,\n",
       " 18197: 0,\n",
       " 182046: 0,\n",
       " 59167: 0,\n",
       " 165666: 0,\n",
       " 165667: 0,\n",
       " 165669: 0,\n",
       " 108325: 0,\n",
       " 59174: 0,\n",
       " 75561: 0,\n",
       " 59178: 0,\n",
       " 59184: 0,\n",
       " 59185: 0,\n",
       " 59187: 0,\n",
       " 50996: 0,\n",
       " 239412: 0,\n",
       " 182070: 0,\n",
       " 190260: 0,\n",
       " 59192: 0,\n",
       " 59193: 0,\n",
       " 116536: 0,\n",
       " 116537: 0,\n",
       " 239418: 0,\n",
       " 239414: 0,\n",
       " 239415: 0,\n",
       " 34620: 0,\n",
       " 116540: 0,\n",
       " 116541: 0,\n",
       " 116542: 0,\n",
       " 116544: 0,\n",
       " 116546: 0,\n",
       " 116547: 0,\n",
       " 116548: 0,\n",
       " 190274: 0,\n",
       " 67404: 0,\n",
       " 91980: 0,\n",
       " 67406: 0,\n",
       " 75598: 0,\n",
       " 91983: 0,\n",
       " 165713: 0,\n",
       " 51026: 0,\n",
       " 67410: 0,\n",
       " 51028: 0,\n",
       " 51029: 0,\n",
       " 91984: 0,\n",
       " 51031: 0,\n",
       " 91985: 0,\n",
       " 83801: 0,\n",
       " 67418: 0,\n",
       " 67413: 0,\n",
       " 67420: 0,\n",
       " 67423: 0,\n",
       " 67424: 0,\n",
       " 67426: 0,\n",
       " 67427: 0,\n",
       " 67429: 0,\n",
       " 59241: 0,\n",
       " 26429: 0,\n",
       " 231279: 0,\n",
       " 190319: 0,\n",
       " 116601: 0,\n",
       " 173947: 0,\n",
       " 173949: 0,\n",
       " 173953: 0,\n",
       " 173955: 0,\n",
       " 59270: 0,\n",
       " 190342: 0,\n",
       " 59271: 0,\n",
       " 239495: 0,\n",
       " 141196: 0,\n",
       " 198544: 0,\n",
       " 26515: 0,\n",
       " 83871: 0,\n",
       " 83872: 0,\n",
       " 116642: 0,\n",
       " 116643: 0,\n",
       " 239523: 0,\n",
       " 223140: 0,\n",
       " 231347: 0,\n",
       " 75700: 0,\n",
       " 59316: 0,\n",
       " 157627: 0,\n",
       " 108482: 0,\n",
       " 116679: 0,\n",
       " 116682: 0,\n",
       " 116690: 0,\n",
       " 116691: 0,\n",
       " 59355: 0,\n",
       " 165855: 0,\n",
       " 108512: 0,\n",
       " 165857: 0,\n",
       " 141286: 0,\n",
       " 174061: 0,\n",
       " 83950: 0,\n",
       " 83953: 0,\n",
       " 51189: 0,\n",
       " 174072: 0,\n",
       " 108537: 0,\n",
       " 239610: 0,\n",
       " 174075: 0,\n",
       " 83962: 0,\n",
       " 231419: 0,\n",
       " 174078: 0,\n",
       " 26620: 0,\n",
       " 116733: 0,\n",
       " 116734: 0,\n",
       " 174082: 0,\n",
       " 51203: 0,\n",
       " 174084: 0,\n",
       " 75781: 0,\n",
       " 51206: 0,\n",
       " 92166: 0,\n",
       " 174087: 0,\n",
       " 83977: 0,\n",
       " 51210: 0,\n",
       " 239627: 0,\n",
       " 43019: 0,\n",
       " 223238: 0,\n",
       " 59398: 0,\n",
       " 190470: 0,\n",
       " 51226: 0,\n",
       " 223264: 0,\n",
       " 43041: 0,\n",
       " 174123: 0,\n",
       " 34860: 0,\n",
       " 84013: 0,\n",
       " 231470: 0,\n",
       " 59438: 0,\n",
       " 34866: 0,\n",
       " 75827: 0,\n",
       " 182327: 0,\n",
       " 223287: 0,\n",
       " 182330: 0,\n",
       " 59450: 0,\n",
       " 223291: 0,\n",
       " 174142: 0,\n",
       " 59456: 0,\n",
       " 59458: 0,\n",
       " 84037: 0,\n",
       " 59467: 0,\n",
       " 59468: 0,\n",
       " 174160: 0,\n",
       " 174161: 0,\n",
       " 174162: 0,\n",
       " 198739: 0,\n",
       " 206933: 0,\n",
       " 108630: 0,\n",
       " 206935: 0,\n",
       " 108629: 0,\n",
       " 18528: 0,\n",
       " 18529: 0,\n",
       " 84065: 0,\n",
       " 198770: 0,\n",
       " 92274: 0,\n",
       " 108674: 0,\n",
       " 141442: 0,\n",
       " 239752: 0,\n",
       " 231561: 0,\n",
       " 51337: 0,\n",
       " 223373: 0,\n",
       " 51343: 0,\n",
       " 92306: 0,\n",
       " 198809: 0,\n",
       " 198810: 0,\n",
       " 59545: 0,\n",
       " 34976: 0,\n",
       " 108706: 0,\n",
       " 43170: 0,\n",
       " 149668: 0,\n",
       " 108708: 0,\n",
       " 108710: 0,\n",
       " 231596: 0,\n",
       " 198835: 0,\n",
       " 100534: 0,\n",
       " 198839: 0,\n",
       " 100536: 0,\n",
       " 59575: 0,\n",
       " 59577: 0,\n",
       " 100540: 0,\n",
       " 108732: 0,\n",
       " 231618: 0,\n",
       " 67779: 0,\n",
       " 75973: 0,\n",
       " 67782: 0,\n",
       " 67785: 0,\n",
       " 59593: 0,\n",
       " 67787: 0,\n",
       " 166092: 0,\n",
       " 59595: 0,\n",
       " 67790: 0,\n",
       " 125135: 0,\n",
       " 59600: 0,\n",
       " 35025: 0,\n",
       " 59602: 0,\n",
       " 59603: 0,\n",
       " 59604: 0,\n",
       " 59605: 0,\n",
       " 2258: 0,\n",
       " 67796: 0,\n",
       " 67800: 0,\n",
       " 116956: 0,\n",
       " 92381: 0,\n",
       " 59614: 0,\n",
       " 174302: 0,\n",
       " 59615: 0,\n",
       " 157918: 0,\n",
       " 157923: 0,\n",
       " 76004: 0,\n",
       " 231653: 0,\n",
       " 157927: 0,\n",
       " 157946: 0,\n",
       " 157948: 0,\n",
       " 157949: 0,\n",
       " 239870: 0,\n",
       " 84231: 0,\n",
       " 84235: 0,\n",
       " 84236: 0,\n",
       " 84237: 0,\n",
       " 84238: 0,\n",
       " 190731: 0,\n",
       " 174352: 0,\n",
       " 84241: 0,\n",
       " 76045: 0,\n",
       " 84251: 0,\n",
       " ...}"
      ]
     },
     "execution_count": 31,
     "metadata": {},
     "output_type": "execute_result"
    }
   ],
   "source": [
    "node_community"
   ]
  },
  {
   "cell_type": "code",
   "execution_count": 32,
   "id": "0bab130f-005a-4c31-b733-dfc64fb38011",
   "metadata": {},
   "outputs": [],
   "source": [
    "com_counter = {community: 0 for community in range(len(communities))}\n",
    "for com in communities:\n",
    "    for i in com:\n",
    "        if i in range(0,3307):\n",
    "            #print(i)\n",
    "            #get track community of track ID\n",
    "            community = node_community.get(i)\n",
    "            #print(community)\n",
    "            # count up for the belonging commmunity\n",
    "            com_counter[community] += 1"
   ]
  },
  {
   "cell_type": "code",
   "execution_count": 33,
   "id": "d1b6d844-08ac-48ad-85bb-21a73f705044",
   "metadata": {},
   "outputs": [
    {
     "data": {
      "text/plain": [
       "{0: 11, 1: 71, 2: 8, 3: 225, 4: 526, 5: 933, 6: 808, 7: 4, 8: 721}"
      ]
     },
     "execution_count": 33,
     "metadata": {},
     "output_type": "execute_result"
    }
   ],
   "source": [
    "com_counter"
   ]
  },
  {
   "cell_type": "code",
   "execution_count": 34,
   "id": "40d523f7",
   "metadata": {},
   "outputs": [
    {
     "data": {
      "image/png": "[encoded data removed]",
      "text/plain": [
       "<Figure size 640x480 with 1 Axes>"
      ]
     },
     "metadata": {},
     "output_type": "display_data"
    }
   ],
   "source": [
    "import matplotlib.pyplot as plt\n",
    "\n",
    "plt.bar(com_counter.keys(), com_counter.values())\n",
    "plt.xlabel('Community')\n",
    "plt.ylabel('Count')\n",
    "plt.title('Community Distribution')\n",
    "plt.show()\n"
   ]
  },
  {
   "cell_type": "markdown",
   "id": "9bf3eb4b-9f5a-40cc-bdb3-ebb5ed89458a",
   "metadata": {},
   "source": [
    "# Structural Dissimilarity:"
   ]
  },
  {
   "cell_type": "markdown",
   "id": "f5a89805-619c-4500-bb2b-a3595886aa07",
   "metadata": {},
   "source": [
    "## Structural Tracks Embedding"
   ]
  },
  {
   "cell_type": "markdown",
   "id": "757c309e-0419-4270-aac7-c8a900de5522",
   "metadata": {},
   "source": [
    "### User-Track Graph Embeddings\n",
    "Consumption rate of songs to user groups are used to calculate structural song embeddings in the length of the user communities defined by louvain (8) in our case"
   ]
  },
  {
   "cell_type": "code",
   "execution_count": 36,
   "id": "298bea6e-5dfa-47e5-ad86-27e167c02d25",
   "metadata": {},
   "outputs": [],
   "source": [
    "# laod df\n",
    "train_graph_df = pd.read_csv('data/train_graph_df_clean.csv')\n",
    "## create TrackID - Track NAme Mapping\n",
    "song_id_name_dict = dict(zip(train_graph_df['Song_ID'], train_graph_df['Song_Name']))\n",
    "\n"
   ]
  },
  {
   "cell_type": "markdown",
   "id": "7ab440bd-5ea7-4929-a323-4ee850afe4a1",
   "metadata": {},
   "source": [
    "#### Create Track - User Dictionary:\n",
    "Mapping of Track ID - to User ID. Which Tracks were listened to by which users."
   ]
  },
  {
   "cell_type": "code",
   "execution_count": 59,
   "id": "6d46d479-2030-4ac0-9fac-ac26452076a7",
   "metadata": {},
   "outputs": [],
   "source": [
    "import os\n",
    "import pickle\n",
    "\n",
    "track_user_dict_path = 'data/mappings/track_user_dict.pickle'\n",
    "user_track_dict_path = 'data/mappings/user_track_dict.pickle'\n",
    "\n",
    "if os.path.exists(track_user_dict_path):\n",
    "    with open(track_user_dict_path, 'rb') as f:\n",
    "        track_user_dict = pickle.load(f)\n",
    "else:\n",
    "    users = data[\"users\"].node_id.numpy()\n",
    "    songs = data[\"songs\"].node_id.numpy()\n",
    "    edge_index = data[\"users\", \"songs\"].edge_index.numpy()\n",
    "\n",
    "    def convert_tensor_to_dict(tensor, reverse=False):\n",
    "        dictionary = {}\n",
    "        if reverse:\n",
    "            targets, sources = tensor\n",
    "        else:\n",
    "            sources, targets = tensor\n",
    "        for source, target in zip(sources.tolist(), targets.tolist()):\n",
    "            if source not in dictionary:\n",
    "                dictionary[source] = []\n",
    "            dictionary[source].append(target)\n",
    "        return dictionary\n",
    "\n",
    "    track_user_dict = convert_tensor_to_dict(edge_index, reverse=True)\n",
    "    user_track_dict = convert_tensor_to_dict(edge_index)\n",
    "\n",
    "    with open(track_user_dict_path, 'wb') as f:\n",
    "        pickle.dump(track_user_dict, f)\n",
    "    with open(user_track_dict_path, 'wb') as f:\n",
    "        pickle.dump(user_track_dict, f)"
   ]
  },
  {
   "cell_type": "code",
   "execution_count": 38,
   "id": "7efe6aaa-7f5a-4e93-82ff-a735625111be",
   "metadata": {},
   "outputs": [
    {
     "data": {
      "text/html": [
       "<div>\n",
       "<style scoped>\n",
       "    .dataframe tbody tr th:only-of-type {\n",
       "        vertical-align: middle;\n",
       "    }\n",
       "\n",
       "    .dataframe tbody tr th {\n",
       "        vertical-align: top;\n",
       "    }\n",
       "\n",
       "    .dataframe thead th {\n",
       "        text-align: right;\n",
       "    }\n",
       "</style>\n",
       "<table border=\"1\" class=\"dataframe\">\n",
       "  <thead>\n",
       "    <tr style=\"text-align: right;\">\n",
       "      <th></th>\n",
       "      <th>index</th>\n",
       "      <th>User_ID</th>\n",
       "      <th>Song_ID</th>\n",
       "      <th>Scrobbles</th>\n",
       "      <th>Position</th>\n",
       "      <th>Date</th>\n",
       "      <th>Artist</th>\n",
       "      <th>Song_Name</th>\n",
       "    </tr>\n",
       "  </thead>\n",
       "  <tbody>\n",
       "    <tr>\n",
       "      <th>0</th>\n",
       "      <td>0</td>\n",
       "      <td>0</td>\n",
       "      <td>2928</td>\n",
       "      <td>22</td>\n",
       "      <td>196.0</td>\n",
       "      <td>Wednesday 22 Sep 2021, 10:41am</td>\n",
       "      <td>Boniface</td>\n",
       "      <td>Making Peace With Suburbia</td>\n",
       "    </tr>\n",
       "  </tbody>\n",
       "</table>\n",
       "</div>"
      ],
      "text/plain": [
       "   index  User_ID  Song_ID  Scrobbles  Position  \\\n",
       "0      0        0     2928         22     196.0   \n",
       "\n",
       "                             Date    Artist                   Song_Name  \n",
       "0  Wednesday 22 Sep 2021, 10:41am  Boniface  Making Peace With Suburbia  "
      ]
     },
     "execution_count": 38,
     "metadata": {},
     "output_type": "execute_result"
    }
   ],
   "source": [
    "# checking if  Track - User Dict is correct\n",
    "train_graph_df[train_graph_df[\"Song_ID\"] == 2928]"
   ]
  },
  {
   "cell_type": "markdown",
   "id": "ab425cbd-70ef-419f-adac-27e02a133088",
   "metadata": {},
   "source": [
    "#### Create Structural Track Embeddings\n",
    "\n",
    "Reverse Consumptio Rate: Calculates and returns a dictionary containing track consumption rate embeddings. \n",
    "\"Consumption rate\" is defined by: Users are divided into user communities by louvain. User is part of com = 1. Users have listened to a specific list of songs. All songs that have been listened to by that user get a count + 1 in their embedding dimension corresponding to the number if the user community. The embedding lenght of the songs is the same size as the user communities. \n",
    "\n",
    "\n",
    "By using the reverse consumption rate, I am essentially creating an embedding that reflects how a track connects to different user communities. This projects the track's popularity or appeal within various user groups."
   ]
  },
  {
   "cell_type": "code",
   "execution_count": 39,
   "id": "92445f7d-2cf9-4970-a886-f36bf68969bb",
   "metadata": {},
   "outputs": [],
   "source": [
    "\n",
    "def rev_consumption_rate_embedding(track_user_dict):\n",
    "  \"\"\"\n",
    "  Calculates and returns a dictionary containing track consumption rate embeddings.\n",
    "\n",
    "  Args:\n",
    "      track_user_dict: A dictionary where keys are track IDs and values are lists of users who listened to the track.\n",
    "      communities: A list containing all community IDs.\n",
    "\n",
    "  Returns:\n",
    "      A dictionary where keys are track IDs and values are NumPy arrays representing the normalized consumption rates for each community.\n",
    "  \"\"\"\n",
    "  # Initialize an empty dictionary to store track embeddings\n",
    "  track_embeddings = {}\n",
    "\n",
    "  # Iterate over tracks and users\n",
    "  for track, users in tqdm(track_user_dict.items()):\n",
    "    # Get track community for each user\n",
    "    communities_of_users = [node_community.get(user) for user in users]\n",
    "\n",
    "    # Count occurrences of each community in users' list (using np.bincount)\n",
    "    community_counts = np.bincount(communities_of_users, minlength=len(communities))\n",
    "\n",
    "    # Normalize community counts by total users for the track\n",
    "    total_users = len(users)\n",
    "    consumption_rate = community_counts / total_users\n",
    "\n",
    "    # Add track embedding to the dictionary\n",
    "    track_embeddings[track] = consumption_rate\n",
    "\n",
    "  return track_embeddings"
   ]
  },
  {
   "cell_type": "code",
   "execution_count": 40,
   "id": "b39d6707-a5bb-4a0a-9124-c1177b9cc6b2",
   "metadata": {},
   "outputs": [
    {
     "name": "stderr",
     "output_type": "stream",
     "text": [
      "100%|██████████| 252013/252013 [00:00<00:00, 293805.85it/s]\n"
     ]
    }
   ],
   "source": [
    "structural_track_embeddings = rev_consumption_rate_embedding(track_user_dict)"
   ]
  },
  {
   "cell_type": "code",
   "execution_count": 41,
   "id": "f8f79300-26dc-4fe0-a90c-97bff85c0f3a",
   "metadata": {
    "scrolled": true
   },
   "outputs": [
    {
     "data": {
      "text/plain": [
       "{2928: array([0., 0., 0., 0., 0., 1., 0., 0., 0.]),\n",
       " 3039: array([0., 0., 0., 0., 0., 1., 0., 0., 0.]),\n",
       " 3153: array([0., 0., 0., 0., 0., 1., 0., 0., 0.]),\n",
       " 3040: array([0., 0., 0., 0., 0., 1., 0., 0., 0.]),\n",
       " 2810: array([0., 0., 0., 0., 0., 1., 0., 0., 0.]),\n",
       " 2610: array([0., 0., 0., 0., 0., 1., 0., 0., 0.]),\n",
       " 2809: array([0., 0., 0., 0., 0., 1., 0., 0., 0.]),\n",
       " 2808: array([0., 0., 0., 0., 0., 1., 0., 0., 0.]),\n",
       " 2927: array([0., 0., 0., 0., 0., 1., 0., 0., 0.]),\n",
       " 2500: array([0., 0., 0., 0., 0., 1., 0., 0., 0.]),\n",
       " 2719: array([0., 0., 0., 0., 0., 1., 0., 0., 0.]),\n",
       " 4825: array([0., 0., 0., 0., 0., 1., 0., 0., 0.]),\n",
       " 3742: array([0., 0., 0., 0., 0., 1., 0., 0., 0.]),\n",
       " 4140: array([0., 0., 0., 0., 0., 1., 0., 0., 0.]),\n",
       " 3592: array([0., 0., 0., 0., 0., 1., 0., 0., 0.]),\n",
       " 4345: array([0., 0., 0., 0., 0., 1., 0., 0., 0.]),\n",
       " 2867: array([0., 0., 0., 0., 0., 1., 0., 0., 0.]),\n",
       " 5243: array([0., 0., 0., 0., 0., 1., 0., 0., 0.]),\n",
       " 3121: array([0., 0., 0., 0., 0., 1., 0., 0., 0.]),\n",
       " 3368: array([0., 0., 0., 0., 0., 1., 0., 0., 0.]),\n",
       " 3005: array([0., 0., 0., 0., 0., 1., 0., 0., 0.]),\n",
       " 3002: array([0., 0., 0., 0., 0., 1., 0., 0., 0.]),\n",
       " 2576: array([0., 0., 0., 0., 0., 1., 0., 0., 0.]),\n",
       " 3003: array([0., 0., 0., 0., 0., 1., 0., 0., 0.]),\n",
       " 2689: array([0., 0., 0., 0., 0., 1., 0., 0., 0.]),\n",
       " 3004: array([0., 0., 0., 0., 0., 1., 0., 0., 0.]),\n",
       " 2784: array([0., 0., 0., 0., 0., 1., 0., 0., 0.]),\n",
       " 2688: array([0., 0., 0., 0., 0., 1., 0., 0., 0.]),\n",
       " 2892: array([0., 0., 0., 0., 0., 1., 0., 0., 0.]),\n",
       " 2783: array([0., 0., 0., 0., 0., 1., 0., 0., 0.]),\n",
       " 2893: array([0., 0., 0., 0., 0., 1., 0., 0., 0.]),\n",
       " 3001: array([0., 0., 0., 0., 0., 1., 0., 0., 0.]),\n",
       " 4691: array([0., 0., 0., 0., 0., 1., 0., 0., 0.]),\n",
       " 4212: array([0., 0., 0., 0., 0., 1., 0., 0., 0.]),\n",
       " 5011: array([0., 0., 0., 0., 0., 1., 0., 0., 0.]),\n",
       " 5012: array([0., 0., 0., 0., 0., 1., 0., 0., 0.]),\n",
       " 4692: array([0., 0., 0., 0., 0., 1., 0., 0., 0.]),\n",
       " 4693: array([0., 0., 0., 0., 0., 1., 0., 0., 0.]),\n",
       " 3640: array([0., 0., 0., 0., 0., 1., 0., 0., 0.]),\n",
       " 3317: array([0., 0., 0., 0., 0., 1., 0., 0., 0.]),\n",
       " 3433: array([0., 0., 0., 0., 0., 1., 0., 0., 0.]),\n",
       " 5179: array([0., 0., 0., 0., 0., 1., 0., 0., 0.]),\n",
       " 5180: array([0., 0., 0., 0., 0., 1., 0., 0., 0.]),\n",
       " 4539: array([0., 0., 0., 0., 0., 1., 0., 0., 0.]),\n",
       " 4309: array([0., 0., 0., 0., 0., 1., 0., 0., 0.]),\n",
       " 4092: array([0., 0., 0., 0., 0., 1., 0., 0., 0.]),\n",
       " 5609: array([0., 0., 0., 0., 0., 1., 0., 0., 0.]),\n",
       " 4896: array([0., 0., 0., 0., 0., 1., 0., 0., 0.]),\n",
       " 5222: array([0., 0., 0., 0., 0., 1., 0., 0., 0.]),\n",
       " 5546: array([0., 0., 0., 0., 0., 1., 0., 0., 0.]),\n",
       " 5547: array([0., 0., 0., 0., 0., 1., 0., 0., 0.]),\n",
       " 4857: array([0., 0., 0., 0., 0., 1., 0., 0., 0.]),\n",
       " 5178: array([0., 0., 0., 0., 0., 1., 0., 0., 0.]),\n",
       " 5176: array([0., 0., 0., 0., 0., 1., 0., 0., 0.]),\n",
       " 3894: array([0., 0., 0., 0., 0., 1., 0., 0., 0.]),\n",
       " 4859: array([0., 0., 0., 0., 0., 1., 0., 0., 0.]),\n",
       " 5721: array([0., 0., 0., 0., 0., 1., 0., 0., 0.]),\n",
       " 3833: array([0., 0., 0., 0., 0., 1., 0., 0., 0.]),\n",
       " 3832: array([0., 0., 0., 0., 0., 1., 0., 0., 0.]),\n",
       " 4041: array([0., 0., 0., 0., 0., 1., 0., 0., 0.]),\n",
       " 3548: array([0., 0., 0., 0., 0., 1., 0., 0., 0.]),\n",
       " 3549: array([0., 0., 0., 0., 0., 1., 0., 0., 0.]),\n",
       " 5532: array([0., 0., 0., 0., 0., 1., 0., 0., 0.]),\n",
       " 4850: array([0., 0., 0., 0., 0., 1., 0., 0., 0.]),\n",
       " 5527: array([0., 0., 0., 0., 0., 1., 0., 0., 0.]),\n",
       " 5531: array([0., 0., 0., 0., 0., 1., 0., 0., 0.]),\n",
       " 5533: array([0., 0., 0., 0., 0., 1., 0., 0., 0.]),\n",
       " 5529: array([0., 0., 0., 0., 0., 1., 0., 0., 0.]),\n",
       " 5163: array([0., 0., 0., 0., 0., 1., 0., 0., 0.]),\n",
       " 5164: array([0., 0., 0., 0., 0., 1., 0., 0., 0.]),\n",
       " 5528: array([0., 0., 0., 0., 0., 1., 0., 0., 0.]),\n",
       " 5534: array([0., 0., 0., 0., 0., 1., 0., 0., 0.]),\n",
       " 0: array([0.00680272, 0.        , 0.        , 0.        , 0.06122449,\n",
       "        0.78231293, 0.0952381 , 0.        , 0.05442177]),\n",
       " 1: array([0.        , 0.        , 0.        , 0.        , 0.        ,\n",
       "        0.91891892, 0.02702703, 0.        , 0.05405405]),\n",
       " 2: array([0.        , 0.02222222, 0.        , 0.02222222, 0.06666667,\n",
       "        0.84444444, 0.02222222, 0.        , 0.02222222]),\n",
       " 3: array([0.        , 0.        , 0.        , 0.02777778, 0.02777778,\n",
       "        0.83333333, 0.08333333, 0.        , 0.02777778]),\n",
       " 4: array([0.        , 0.        , 0.        , 0.        , 0.        ,\n",
       "        0.88571429, 0.05714286, 0.        , 0.05714286]),\n",
       " 5: array([0.        , 0.02631579, 0.        , 0.        , 0.02631579,\n",
       "        0.89473684, 0.02631579, 0.        , 0.02631579]),\n",
       " 6: array([0.01298701, 0.        , 0.        , 0.        , 0.07792208,\n",
       "        0.79220779, 0.06493506, 0.        , 0.05194805]),\n",
       " 7: array([0.        , 0.03030303, 0.        , 0.        , 0.03030303,\n",
       "        0.81818182, 0.06060606, 0.        , 0.06060606]),\n",
       " 8: array([0.        , 0.        , 0.        , 0.03448276, 0.03448276,\n",
       "        0.86206897, 0.03448276, 0.        , 0.03448276]),\n",
       " 9: array([0.        , 0.03846154, 0.        , 0.03846154, 0.        ,\n",
       "        0.88461538, 0.03846154, 0.        , 0.        ]),\n",
       " 124739: array([0.00961538, 0.        , 0.00961538, 0.07692308, 0.00961538,\n",
       "        0.46153846, 0.33653846, 0.        , 0.09615385]),\n",
       " 29: array([0.        , 0.        , 0.        , 0.        , 0.05405405,\n",
       "        0.24324324, 0.35135135, 0.        , 0.35135135]),\n",
       " 30: array([0.00436681, 0.02620087, 0.        , 0.03056769, 0.06331878,\n",
       "        0.63100437, 0.19213974, 0.        , 0.05240175]),\n",
       " 31: array([0.06666667, 0.        , 0.        , 0.        , 0.        ,\n",
       "        0.8       , 0.06666667, 0.        , 0.06666667]),\n",
       " 32: array([0.        , 0.        , 0.        , 0.07692308, 0.        ,\n",
       "        0.48076923, 0.40384615, 0.        , 0.03846154]),\n",
       " 124740: array([0.01298701, 0.        , 0.01298701, 0.06493506, 0.01298701,\n",
       "        0.44155844, 0.41558442, 0.        , 0.03896104]),\n",
       " 34: array([0.        , 0.00316456, 0.        , 0.03481013, 0.05063291,\n",
       "        0.70886076, 0.15506329, 0.        , 0.04746835]),\n",
       " 35: array([0.        , 0.        , 0.        , 0.08333333, 0.        ,\n",
       "        0.5       , 0.375     , 0.        , 0.04166667]),\n",
       " 36: array([0. , 0. , 0. , 0. , 0. , 0.9, 0.1, 0. , 0. ]),\n",
       " 37: array([0.01785714, 0.        , 0.        , 0.        , 0.01785714,\n",
       "        0.73214286, 0.08928571, 0.        , 0.14285714]),\n",
       " 38: array([0.00869565, 0.        , 0.        , 0.        , 0.00869565,\n",
       "        0.68695652, 0.20869565, 0.        , 0.08695652]),\n",
       " 39: array([0.00909091, 0.        , 0.        , 0.        , 0.00909091,\n",
       "        0.7       , 0.21818182, 0.        , 0.06363636]),\n",
       " 40: array([0.        , 0.        , 0.        , 0.        , 0.        ,\n",
       "        0.83333333, 0.08333333, 0.        , 0.08333333]),\n",
       " 41: array([0.        , 0.        , 0.        , 0.13953488, 0.        ,\n",
       "        0.46511628, 0.37209302, 0.        , 0.02325581]),\n",
       " 42: array([0. , 0. , 0. , 0. , 0. , 0.8, 0.2, 0. , 0. ]),\n",
       " 43: array([0.02857143, 0.        , 0.        , 0.        , 0.02857143,\n",
       "        0.74285714, 0.08571429, 0.        , 0.11428571]),\n",
       " 44: array([0.        , 0.        , 0.        , 0.        , 0.        ,\n",
       "        0.66666667, 0.22222222, 0.        , 0.11111111]),\n",
       " 45: array([0.004, 0.   , 0.004, 0.052, 0.016, 0.392, 0.424, 0.   , 0.108]),\n",
       " 46: array([0.02857143, 0.        , 0.        , 0.        , 0.02857143,\n",
       "        0.74285714, 0.11428571, 0.        , 0.08571429]),\n",
       " 48: array([0.  , 0.  , 0.  , 0.  , 0.  , 0.75, 0.25, 0.  , 0.  ]),\n",
       " 49: array([0.        , 0.        , 0.        , 0.10810811, 0.        ,\n",
       "        0.45945946, 0.43243243, 0.        , 0.        ]),\n",
       " 50: array([0.00454545, 0.00909091, 0.00454545, 0.00454545, 0.02727273,\n",
       "        0.64090909, 0.23181818, 0.        , 0.07727273]),\n",
       " 51: array([0.        , 0.        , 0.        , 0.        , 0.        ,\n",
       "        0.90909091, 0.04545455, 0.        , 0.04545455]),\n",
       " 52: array([0.        , 0.        , 0.        , 0.06896552, 0.01724138,\n",
       "        0.48275862, 0.39655172, 0.        , 0.03448276]),\n",
       " 53: array([0.00263852, 0.        , 0.        , 0.04221636, 0.05277045,\n",
       "        0.67546174, 0.17150396, 0.        , 0.05540897]),\n",
       " 54: array([0. , 0. , 0. , 0. , 0. , 0.5, 0. , 0. , 0.5]),\n",
       " 55: array([0.00408163, 0.00408163, 0.00408163, 0.02040816, 0.0122449 ,\n",
       "        0.62857143, 0.24897959, 0.        , 0.07755102]),\n",
       " 57: array([0.        , 0.        , 0.        , 0.        , 0.        ,\n",
       "        0.85714286, 0.07142857, 0.        , 0.07142857]),\n",
       " 58: array([0.        , 0.        , 0.        , 0.07317073, 0.        ,\n",
       "        0.51219512, 0.3902439 , 0.        , 0.02439024]),\n",
       " 59: array([0.00479616, 0.00239808, 0.        , 0.03597122, 0.05035971,\n",
       "        0.63069544, 0.22541966, 0.        , 0.05035971]),\n",
       " 60: array([0.5, 0. , 0. , 0. , 0. , 0.5, 0. , 0. , 0. ]),\n",
       " 62: array([0.        , 0.        , 0.        , 0.        , 0.        ,\n",
       "        0.71428571, 0.14285714, 0.        , 0.14285714]),\n",
       " 63: array([0.        , 0.        , 0.        , 0.        , 0.04166667,\n",
       "        0.83333333, 0.04166667, 0.        , 0.08333333]),\n",
       " 64: array([0.        , 0.        , 0.        , 0.09677419, 0.        ,\n",
       "        0.5483871 , 0.35483871, 0.        , 0.        ]),\n",
       " 65: array([0.        , 0.        , 0.        , 0.        , 0.        ,\n",
       "        0.82352941, 0.11764706, 0.        , 0.05882353]),\n",
       " 66: array([0.00325733, 0.        , 0.        , 0.03257329, 0.05537459,\n",
       "        0.71009772, 0.14983713, 0.        , 0.04885993]),\n",
       " 67: array([0.00662252, 0.00662252, 0.        , 0.00662252, 0.01986755,\n",
       "        0.70860927, 0.20529801, 0.        , 0.04635762]),\n",
       " 68: array([0.   , 0.   , 0.   , 0.   , 0.   , 0.875, 0.125, 0.   , 0.   ]),\n",
       " 71: array([0.01052632, 0.        , 0.        , 0.        , 0.02105263,\n",
       "        0.73684211, 0.2       , 0.        , 0.03157895]),\n",
       " 72: array([0.02150538, 0.        , 0.01075269, 0.01075269, 0.01075269,\n",
       "        0.46236559, 0.34408602, 0.        , 0.13978495]),\n",
       " 73: array([0.        , 0.        , 0.        , 0.04391892, 0.04391892,\n",
       "        0.67905405, 0.18918919, 0.        , 0.04391892]),\n",
       " 74: array([0.00740741, 0.        , 0.        , 0.00740741, 0.00740741,\n",
       "        0.68148148, 0.22962963, 0.        , 0.06666667]),\n",
       " 75: array([0.        , 0.        , 0.        , 0.        , 0.        ,\n",
       "        0.88888889, 0.11111111, 0.        , 0.        ]),\n",
       " 76: array([0.33333333, 0.33333333, 0.        , 0.        , 0.        ,\n",
       "        0.33333333, 0.        , 0.        , 0.        ]),\n",
       " 77: array([0.5, 0. , 0. , 0. , 0. , 0.5, 0. , 0. , 0. ]),\n",
       " 78: array([0.00546448, 0.01639344, 0.        , 0.00546448, 0.03825137,\n",
       "        0.65027322, 0.20218579, 0.        , 0.08196721]),\n",
       " 79: array([0.        , 0.        , 0.        , 0.04166667, 0.07083333,\n",
       "        0.675     , 0.15416667, 0.        , 0.05833333]),\n",
       " 80: array([0.        , 0.00381679, 0.00381679, 0.01526718, 0.01908397,\n",
       "        0.56870229, 0.28625954, 0.        , 0.10305344]),\n",
       " 81: array([0.        , 0.        , 0.        , 0.        , 0.        ,\n",
       "        0.83333333, 0.16666667, 0.        , 0.        ]),\n",
       " 82: array([0.01960784, 0.02941176, 0.        , 0.02941176, 0.03921569,\n",
       "        0.66666667, 0.14705882, 0.        , 0.06862745]),\n",
       " 84: array([0.   , 0.   , 0.   , 0.   , 0.   , 0.75 , 0.125, 0.   , 0.125]),\n",
       " 86: array([0.00454545, 0.00454545, 0.        , 0.00454545, 0.04090909,\n",
       "        0.51363636, 0.37727273, 0.        , 0.05454545]),\n",
       " 88: array([0.01190476, 0.        , 0.01190476, 0.04761905, 0.        ,\n",
       "        0.42857143, 0.42857143, 0.        , 0.07142857]),\n",
       " 89: array([0.00458716, 0.00458716, 0.00229358, 0.04587156, 0.0733945 ,\n",
       "        0.58944954, 0.20642202, 0.        , 0.0733945 ]),\n",
       " 91: array([0.        , 0.        , 0.02857143, 0.05714286, 0.        ,\n",
       "        0.48571429, 0.37142857, 0.        , 0.05714286]),\n",
       " 92: array([0.        , 0.        , 0.        , 0.03065134, 0.07279693,\n",
       "        0.68582375, 0.1532567 , 0.        , 0.05747126]),\n",
       " 93: array([0.5, 0. , 0. , 0. , 0. , 0.5, 0. , 0. , 0. ]),\n",
       " 94: array([0., 0., 0., 0., 0., 1., 0., 0., 0.]),\n",
       " 95: array([0.01960784, 0.        , 0.        , 0.        , 0.01960784,\n",
       "        0.88235294, 0.01960784, 0.        , 0.05882353]),\n",
       " 96: array([0.03508772, 0.        , 0.        , 0.03508772, 0.01754386,\n",
       "        0.68421053, 0.1754386 , 0.        , 0.05263158]),\n",
       " 97: array([0.  , 0.  , 0.  , 0.  , 0.  , 0.75, 0.25, 0.  , 0.  ]),\n",
       " 98: array([0.01075269, 0.        , 0.        , 0.01075269, 0.        ,\n",
       "        0.69892473, 0.21505376, 0.        , 0.06451613]),\n",
       " 99: array([0.5, 0. , 0. , 0. , 0. , 0.5, 0. , 0. , 0. ]),\n",
       " 100: array([0.00609756, 0.        , 0.        , 0.07317073, 0.04878049,\n",
       "        0.78658537, 0.02439024, 0.        , 0.06097561]),\n",
       " 101: array([0., 0., 0., 0., 0., 1., 0., 0., 0.]),\n",
       " 102: array([0.        , 0.        , 0.        , 0.04347826, 0.        ,\n",
       "        0.91304348, 0.04347826, 0.        , 0.        ]),\n",
       " 103: array([0.5, 0. , 0. , 0. , 0. , 0.5, 0. , 0. , 0. ]),\n",
       " 104: array([0., 0., 0., 0., 0., 1., 0., 0., 0.]),\n",
       " 105: array([0.        , 0.02040816, 0.        , 0.05102041, 0.04081633,\n",
       "        0.66326531, 0.17346939, 0.        , 0.05102041]),\n",
       " 106: array([0.        , 0.        , 0.        , 0.        , 0.        ,\n",
       "        0.92307692, 0.        , 0.        , 0.07692308]),\n",
       " 107: array([0.        , 0.        , 0.        , 0.04166667, 0.        ,\n",
       "        0.6875    , 0.14583333, 0.        , 0.125     ]),\n",
       " 108: array([0.00558659, 0.        , 0.        , 0.03910615, 0.03910615,\n",
       "        0.79888268, 0.04469274, 0.        , 0.0726257 ]),\n",
       " 109: array([0.00694444, 0.        , 0.        , 0.02777778, 0.04166667,\n",
       "        0.8125    , 0.03472222, 0.        , 0.07638889]),\n",
       " 110: array([0.        , 0.        , 0.        , 0.        , 0.        ,\n",
       "        0.66666667, 0.22222222, 0.        , 0.11111111]),\n",
       " 111: array([0.11111111, 0.        , 0.        , 0.        , 0.        ,\n",
       "        0.33333333, 0.33333333, 0.        , 0.22222222]),\n",
       " 112: array([0.  , 0.  , 0.  , 0.  , 0.  , 0.75, 0.25, 0.  , 0.  ]),\n",
       " 113: array([0.00873362, 0.        , 0.        , 0.04803493, 0.05676856,\n",
       "        0.7510917 , 0.069869  , 0.        , 0.06550218]),\n",
       " 114: array([0.00564972, 0.03389831, 0.        , 0.02259887, 0.05084746,\n",
       "        0.50847458, 0.30508475, 0.        , 0.07344633]),\n",
       " 115: array([0. , 0. , 0. , 0. , 0. , 0.5, 0.5, 0. , 0. ]),\n",
       " 116: array([0. , 0. , 0. , 0. , 0. , 0.7, 0.3, 0. , 0. ]),\n",
       " 118: array([0., 0., 0., 0., 0., 1., 0., 0., 0.]),\n",
       " 119: array([0.25, 0.  , 0.  , 0.  , 0.  , 0.5 , 0.25, 0.  , 0.  ]),\n",
       " 120: array([0.        , 0.        , 0.        , 0.        , 0.        ,\n",
       "        0.93333333, 0.        , 0.        , 0.06666667]),\n",
       " 121: array([0.33333333, 0.        , 0.        , 0.        , 0.        ,\n",
       "        0.66666667, 0.        , 0.        , 0.        ]),\n",
       " 122: array([0., 0., 0., 0., 0., 1., 0., 0., 0.]),\n",
       " 123: array([0.        , 0.        , 0.        , 0.        , 0.        ,\n",
       "        0.91304348, 0.        , 0.        , 0.08695652]),\n",
       " 124: array([0.00823045, 0.01234568, 0.        , 0.03292181, 0.06584362,\n",
       "        0.58024691, 0.20987654, 0.        , 0.09053498]),\n",
       " 125: array([0.00522193, 0.00261097, 0.        , 0.04177546, 0.02872063,\n",
       "        0.30287206, 0.54569191, 0.        , 0.07310705]),\n",
       " 126: array([0.00429185, 0.        , 0.        , 0.06008584, 0.04291845,\n",
       "        0.74678112, 0.06008584, 0.00858369, 0.07725322]),\n",
       " 127: array([0., 0., 0., 0., 0., 1., 0., 0., 0.]),\n",
       " 128: array([0.00687285, 0.01718213, 0.00343643, 0.03092784, 0.09965636,\n",
       "        0.55670103, 0.19587629, 0.        , 0.08934708]),\n",
       " 129: array([0.25, 0.  , 0.  , 0.  , 0.  , 0.5 , 0.25, 0.  , 0.  ]),\n",
       " 130: array([0.01111111, 0.12222222, 0.        , 0.01111111, 0.03333333,\n",
       "        0.43333333, 0.33333333, 0.        , 0.05555556]),\n",
       " 132: array([0., 0., 0., 0., 0., 1., 0., 0., 0.]),\n",
       " 133: array([0.        , 0.        , 0.03703704, 0.03703704, 0.11111111,\n",
       "        0.25925926, 0.40740741, 0.        , 0.14814815]),\n",
       " 134: array([0.01428571, 0.01428571, 0.        , 0.01428571, 0.05714286,\n",
       "        0.48571429, 0.37142857, 0.        , 0.04285714]),\n",
       " 135: array([0.00943396, 0.        , 0.        , 0.02830189, 0.04716981,\n",
       "        0.64150943, 0.16981132, 0.        , 0.10377358]),\n",
       " 136: array([0.        , 0.        , 0.        , 0.09090909, 0.        ,\n",
       "        0.81818182, 0.09090909, 0.        , 0.        ]),\n",
       " 137: array([0.00651466, 0.00651466, 0.        , 0.00651466, 0.03257329,\n",
       "        0.36482085, 0.45276873, 0.00325733, 0.12703583]),\n",
       " 138: array([0.01851852, 0.00925926, 0.        , 0.00925926, 0.01851852,\n",
       "        0.37962963, 0.50925926, 0.        , 0.05555556]),\n",
       " 139: array([0.02272727, 0.        , 0.        , 0.        , 0.        ,\n",
       "        0.70454545, 0.11363636, 0.        , 0.15909091]),\n",
       " 140: array([0.01886792, 0.        , 0.        , 0.        , 0.        ,\n",
       "        0.69811321, 0.1509434 , 0.        , 0.13207547]),\n",
       " 141: array([0.5, 0. , 0. , 0. , 0. , 0.5, 0. , 0. , 0. ]),\n",
       " 142: array([0.        , 0.        , 0.        , 0.        , 0.        ,\n",
       "        0.83333333, 0.        , 0.        , 0.16666667]),\n",
       " 143: array([0.        , 0.00904977, 0.        , 0.02262443, 0.01809955,\n",
       "        0.28506787, 0.61538462, 0.        , 0.04977376]),\n",
       " 144: array([0.00537634, 0.02150538, 0.        , 0.01075269, 0.01612903,\n",
       "        0.27956989, 0.6344086 , 0.        , 0.03225806]),\n",
       " 145: array([0.08333333, 0.        , 0.        , 0.        , 0.        ,\n",
       "        0.5       , 0.33333333, 0.        , 0.08333333]),\n",
       " 146: array([0.        , 0.00738007, 0.        , 0.00369004, 0.02583026,\n",
       "        0.39852399, 0.43542435, 0.        , 0.12915129]),\n",
       " 147: array([0.00431034, 0.0387931 , 0.        , 0.00862069, 0.06034483,\n",
       "        0.68103448, 0.05603448, 0.        , 0.15086207]),\n",
       " 148: array([0.        , 0.        , 0.        , 0.        , 0.01639344,\n",
       "        0.45901639, 0.47540984, 0.        , 0.04918033]),\n",
       " 149: array([0., 0., 0., 0., 0., 1., 0., 0., 0.]),\n",
       " 150: array([0.00925926, 0.00925926, 0.        , 0.01851852, 0.02777778,\n",
       "        0.5       , 0.37962963, 0.        , 0.05555556]),\n",
       " 151: array([0.        , 0.        , 0.        , 0.07142857, 0.        ,\n",
       "        0.71428571, 0.07142857, 0.        , 0.14285714]),\n",
       " 152: array([0.        , 0.        , 0.        , 0.        , 0.        ,\n",
       "        0.66666667, 0.2       , 0.        , 0.13333333]),\n",
       " 153: array([0.33333333, 0.        , 0.        , 0.        , 0.        ,\n",
       "        0.33333333, 0.33333333, 0.        , 0.        ]),\n",
       " 154: array([0.        , 0.        , 0.        , 0.        , 0.        ,\n",
       "        0.66666667, 0.20833333, 0.        , 0.125     ]),\n",
       " 155: array([0.  , 0.  , 0.  , 0.  , 0.  , 0.68, 0.12, 0.  , 0.2 ]),\n",
       " 156: array([0. , 0. , 0. , 0. , 0. , 0.8, 0.2, 0. , 0. ]),\n",
       " 157: array([0.        , 0.        , 0.        , 0.        , 0.        ,\n",
       "        0.81818182, 0.18181818, 0.        , 0.        ]),\n",
       " 158: array([0., 0., 0., 0., 0., 1., 0., 0., 0.]),\n",
       " 159: array([0.02173913, 0.02173913, 0.        , 0.02173913, 0.02173913,\n",
       "        0.58695652, 0.23913043, 0.        , 0.08695652]),\n",
       " 160: array([0.03333333, 0.        , 0.        , 0.        , 0.        ,\n",
       "        0.7       , 0.03333333, 0.        , 0.23333333]),\n",
       " 161: array([0., 0., 0., 0., 0., 1., 0., 0., 0.]),\n",
       " 162: array([0.        , 0.02380952, 0.        , 0.07142857, 0.04761905,\n",
       "        0.5952381 , 0.19047619, 0.        , 0.07142857]),\n",
       " 163: array([0.        , 0.        , 0.        , 0.03409091, 0.00568182,\n",
       "        0.52272727, 0.35795455, 0.        , 0.07954545]),\n",
       " 164: array([0.00793651, 0.11111111, 0.        , 0.00793651, 0.05555556,\n",
       "        0.30952381, 0.47619048, 0.        , 0.03174603]),\n",
       " 165: array([0.00826446, 0.02479339, 0.        , 0.00826446, 0.00826446,\n",
       "        0.2892562 , 0.62809917, 0.        , 0.03305785]),\n",
       " 166: array([0.25, 0.  , 0.  , 0.  , 0.  , 0.5 , 0.25, 0.  , 0.  ]),\n",
       " 167: array([0.25, 0.  , 0.  , 0.  , 0.  , 0.25, 0.5 , 0.  , 0.  ]),\n",
       " 168: array([0.        , 0.        , 0.        , 0.05882353, 0.        ,\n",
       "        0.88235294, 0.05882353, 0.        , 0.        ]),\n",
       " 169: array([0.        , 0.        , 0.        , 0.        , 0.04545455,\n",
       "        0.81818182, 0.09090909, 0.        , 0.04545455]),\n",
       " 170: array([0.        , 0.00510204, 0.        , 0.04081633, 0.09183673,\n",
       "        0.28061224, 0.53571429, 0.        , 0.04591837]),\n",
       " 171: array([0.        , 0.        , 0.        , 0.03508772, 0.        ,\n",
       "        0.63157895, 0.22807018, 0.        , 0.10526316]),\n",
       " 172: array([0.02941176, 0.02941176, 0.        , 0.02941176, 0.02941176,\n",
       "        0.73529412, 0.08823529, 0.        , 0.05882353]),\n",
       " 173: array([0., 0., 0., 0., 0., 1., 0., 0., 0.]),\n",
       " 174: array([0.01724138, 0.        , 0.        , 0.01724138, 0.01724138,\n",
       "        0.65517241, 0.0862069 , 0.        , 0.20689655]),\n",
       " 175: array([0.16666667, 0.        , 0.        , 0.        , 0.        ,\n",
       "        0.5       , 0.16666667, 0.        , 0.16666667]),\n",
       " 176: array([0.        , 0.03225806, 0.        , 0.03225806, 0.03225806,\n",
       "        0.77419355, 0.03225806, 0.        , 0.09677419]),\n",
       " 177: array([0.        , 0.        , 0.        , 0.06451613, 0.        ,\n",
       "        0.58064516, 0.16129032, 0.        , 0.19354839]),\n",
       " 178: array([0.01724138, 0.        , 0.        , 0.        , 0.        ,\n",
       "        0.12068966, 0.77586207, 0.        , 0.0862069 ]),\n",
       " 179: array([0., 0., 0., 0., 0., 1., 0., 0., 0.]),\n",
       " 180: array([0.        , 0.        , 0.        , 0.        , 0.        ,\n",
       "        0.82352941, 0.17647059, 0.        , 0.        ]),\n",
       " 181: array([0.        , 0.00303951, 0.        , 0.04255319, 0.07294833,\n",
       "        0.23708207, 0.56534954, 0.        , 0.07902736]),\n",
       " 182: array([0., 0., 0., 0., 0., 1., 0., 0., 0.]),\n",
       " 183: array([0.02380952, 0.        , 0.        , 0.        , 0.        ,\n",
       "        0.11904762, 0.73809524, 0.        , 0.11904762]),\n",
       " 184: array([0.01754386, 0.        , 0.        , 0.        , 0.        ,\n",
       "        0.15789474, 0.71929825, 0.        , 0.10526316]),\n",
       " 185: array([0.        , 0.        , 0.        , 0.02173913, 0.        ,\n",
       "        0.76086957, 0.08695652, 0.        , 0.13043478]),\n",
       " 186: array([0.        , 0.03703704, 0.        , 0.        , 0.01851852,\n",
       "        0.5       , 0.35185185, 0.        , 0.09259259]),\n",
       " 187: array([0.01219512, 0.        , 0.        , 0.        , 0.02439024,\n",
       "        0.7195122 , 0.08536585, 0.        , 0.15853659]),\n",
       " 188: array([0.        , 0.        , 0.        , 0.06617647, 0.10294118,\n",
       "        0.20588235, 0.57352941, 0.        , 0.05147059]),\n",
       " 189: array([0. , 0. , 0. , 0. , 0. , 0.5, 0.5, 0. , 0. ]),\n",
       " 190: array([0.        , 0.09230769, 0.        , 0.        , 0.01538462,\n",
       "        0.72307692, 0.03076923, 0.        , 0.13846154]),\n",
       " 191: array([0., 0., 0., 0., 0., 1., 0., 0., 0.]),\n",
       " 193: array([0.        , 0.        , 0.        , 0.08333333, 0.        ,\n",
       "        0.625     , 0.16666667, 0.        , 0.125     ]),\n",
       " 194: array([0., 0., 0., 0., 0., 1., 0., 0., 0.]),\n",
       " 195: array([0.        , 0.        , 0.        , 0.        , 0.04109589,\n",
       "        0.52054795, 0.35616438, 0.        , 0.08219178]),\n",
       " 196: array([0.       , 0.0234375, 0.       , 0.0078125, 0.0703125, 0.203125 ,\n",
       "        0.6328125, 0.       , 0.0625   ]),\n",
       " 197: array([0. , 0. , 0.1, 0. , 0. , 0.7, 0.2, 0. , 0. ]),\n",
       " 198: array([0.        , 0.        , 0.02564103, 0.02564103, 0.02564103,\n",
       "        0.35897436, 0.43589744, 0.        , 0.12820513]),\n",
       " 199: array([0.0037594 , 0.0037594 , 0.        , 0.03759398, 0.02255639,\n",
       "        0.52255639, 0.2443609 , 0.0037594 , 0.16165414]),\n",
       " 200: array([0.        , 0.11111111, 0.        , 0.        , 0.11111111,\n",
       "        0.55555556, 0.22222222, 0.        , 0.        ]),\n",
       " 201: array([0.        , 0.        , 0.        , 0.        , 0.        ,\n",
       "        0.73333333, 0.2       , 0.        , 0.06666667]),\n",
       " 202: array([0.        , 0.        , 0.        , 0.        , 0.        ,\n",
       "        0.85714286, 0.14285714, 0.        , 0.        ]),\n",
       " 203: array([0.        , 0.        , 0.        , 0.05555556, 0.        ,\n",
       "        0.66666667, 0.19444444, 0.        , 0.08333333]),\n",
       " 204: array([0.00763359, 0.        , 0.        , 0.04580153, 0.04580153,\n",
       "        0.77862595, 0.03816794, 0.        , 0.08396947]),\n",
       " 205: array([0.01587302, 0.00396825, 0.        , 0.01190476, 0.03571429,\n",
       "        0.54761905, 0.18253968, 0.        , 0.20238095]),\n",
       " 206: array([0. , 0. , 0. , 0. , 0.1, 0.7, 0.2, 0. , 0. ]),\n",
       " 207: array([0.        , 0.02777778, 0.        , 0.05555556, 0.02777778,\n",
       "        0.80555556, 0.05555556, 0.        , 0.02777778]),\n",
       " 208: array([0.0106383 , 0.0106383 , 0.        , 0.04255319, 0.0212766 ,\n",
       "        0.63829787, 0.10638298, 0.        , 0.17021277]),\n",
       " 209: array([0.00458716, 0.02752294, 0.        , 0.00458716, 0.03669725,\n",
       "        0.34862385, 0.49082569, 0.        , 0.08715596]),\n",
       " 210: array([0.        , 0.03759398, 0.        , 0.0075188 , 0.06766917,\n",
       "        0.69924812, 0.16541353, 0.        , 0.02255639]),\n",
       " 211: array([0.01020408, 0.        , 0.        , 0.        , 0.04081633,\n",
       "        0.85714286, 0.05102041, 0.        , 0.04081633]),\n",
       " 212: array([0.2, 0. , 0. , 0. , 0.2, 0.2, 0.2, 0. , 0.2]),\n",
       " 213: array([0.        , 0.        , 0.        , 0.04761905, 0.02380952,\n",
       "        0.88095238, 0.04761905, 0.        , 0.        ]),\n",
       " 215: array([0., 0., 0., 0., 0., 1., 0., 0., 0.]),\n",
       " 216: array([0., 0., 0., 0., 0., 1., 0., 0., 0.]),\n",
       " 217: array([0.00888889, 0.        , 0.        , 0.02222222, 0.05333333,\n",
       "        0.52888889, 0.22666667, 0.        , 0.16      ]),\n",
       " 218: array([0.        , 0.        , 0.        , 0.        , 0.        ,\n",
       "        0.71428571, 0.28571429, 0.        , 0.        ]),\n",
       " 219: array([0.        , 0.        , 0.        , 0.        , 0.        ,\n",
       "        0.70588235, 0.11764706, 0.        , 0.17647059]),\n",
       " 220: array([0.        , 0.        , 0.        , 0.08333333, 0.08333333,\n",
       "        0.75      , 0.08333333, 0.        , 0.        ]),\n",
       " 221: array([0.        , 0.02777778, 0.        , 0.08333333, 0.        ,\n",
       "        0.75      , 0.11111111, 0.        , 0.02777778]),\n",
       " 222: array([0.   , 0.   , 0.   , 0.125, 0.   , 0.875, 0.   , 0.   , 0.   ]),\n",
       " 223: array([0.        , 0.        , 0.        , 0.        , 0.06666667,\n",
       "        0.8       , 0.        , 0.        , 0.13333333]),\n",
       " 224: array([0.        , 0.        , 0.        , 0.05882353, 0.05882353,\n",
       "        0.82352941, 0.05882353, 0.        , 0.        ]),\n",
       " 225: array([0.        , 0.        , 0.        , 0.06060606, 0.03030303,\n",
       "        0.54545455, 0.21212121, 0.        , 0.15151515]),\n",
       " 226: array([0.00666667, 0.        , 0.        , 0.04      , 0.04      ,\n",
       "        0.82      , 0.05333333, 0.        , 0.04      ]),\n",
       " 227: array([0.        , 0.01923077, 0.        , 0.07692308, 0.05769231,\n",
       "        0.67307692, 0.07692308, 0.        , 0.09615385]),\n",
       " 228: array([0.0075188 , 0.03007519, 0.        , 0.        , 0.07518797,\n",
       "        0.33834586, 0.5112782 , 0.        , 0.03759398]),\n",
       " 229: array([0.00806452, 0.02419355, 0.        , 0.00806452, 0.00806452,\n",
       "        0.27419355, 0.62903226, 0.        , 0.0483871 ]),\n",
       " 230: array([0.        , 0.        , 0.        , 0.        , 0.        ,\n",
       "        0.83333333, 0.        , 0.        , 0.16666667]),\n",
       " 231: array([0.   , 0.   , 0.   , 0.125, 0.   , 0.75 , 0.   , 0.   , 0.125]),\n",
       " 232: array([0.2, 0. , 0. , 0. , 0. , 0.4, 0.4, 0. , 0. ]),\n",
       " 233: array([0.33333333, 0.        , 0.        , 0.        , 0.        ,\n",
       "        0.33333333, 0.33333333, 0.        , 0.        ]),\n",
       " 234: array([0., 0., 0., 0., 0., 1., 0., 0., 0.]),\n",
       " 235: array([0.00431034, 0.00431034, 0.        , 0.05603448, 0.08189655,\n",
       "        0.24137931, 0.56034483, 0.        , 0.05172414]),\n",
       " 236: array([0.        , 0.        , 0.        , 0.04615385, 0.08461538,\n",
       "        0.20769231, 0.62307692, 0.        , 0.03846154]),\n",
       " 237: array([0.        , 0.        , 0.        , 0.07407407, 0.        ,\n",
       "        0.66666667, 0.18518519, 0.        , 0.07407407]),\n",
       " 238: array([0.        , 0.0212766 , 0.        , 0.08510638, 0.06382979,\n",
       "        0.72340426, 0.04255319, 0.        , 0.06382979]),\n",
       " 239: array([0.        , 0.        , 0.        , 0.00909091, 0.02727273,\n",
       "        0.47272727, 0.39090909, 0.        , 0.1       ]),\n",
       " 240: array([0.        , 0.        , 0.        , 0.        , 0.05555556,\n",
       "        0.5       , 0.33333333, 0.        , 0.11111111]),\n",
       " 241: array([0.        , 0.        , 0.        , 0.07142857, 0.        ,\n",
       "        0.92857143, 0.        , 0.        , 0.        ]),\n",
       " 242: array([0.        , 0.        , 0.        , 0.        , 0.01612903,\n",
       "        0.91935484, 0.01612903, 0.        , 0.0483871 ]),\n",
       " 243: array([0.        , 0.        , 0.        , 0.01449275, 0.02898551,\n",
       "        0.24637681, 0.34057971, 0.        , 0.36956522]),\n",
       " 244: array([0. , 0. , 0. , 0. , 0. , 0.6, 0.4, 0. , 0. ]),\n",
       " 245: array([0.        , 0.        , 0.        , 0.        , 0.08333333,\n",
       "        0.91666667, 0.        , 0.        , 0.        ]),\n",
       " 246: array([0., 0., 0., 0., 0., 1., 0., 0., 0.]),\n",
       " 247: array([0.        , 0.        , 0.        , 0.05185185, 0.11111111,\n",
       "        0.25185185, 0.53333333, 0.        , 0.05185185]),\n",
       " 248: array([0.        , 0.        , 0.        , 0.07692308, 0.        ,\n",
       "        0.5       , 0.23076923, 0.        , 0.19230769]),\n",
       " 249: array([0., 0., 0., 0., 0., 1., 0., 0., 0.]),\n",
       " 250: array([0.00352113, 0.00704225, 0.        , 0.00704225, 0.07042254,\n",
       "        0.6971831 , 0.07394366, 0.00352113, 0.13732394]),\n",
       " 251: array([0.        , 0.        , 0.        , 0.06060606, 0.01515152,\n",
       "        0.51515152, 0.36363636, 0.        , 0.04545455]),\n",
       " 252: array([0.        , 0.01550388, 0.        , 0.01550388, 0.03100775,\n",
       "        0.24806202, 0.65116279, 0.        , 0.03875969]),\n",
       " 253: array([0.        , 0.        , 0.        , 0.        , 0.04046243,\n",
       "        0.84393064, 0.0867052 , 0.        , 0.02890173]),\n",
       " 254: array([0.00296736, 0.        , 0.00296736, 0.        , 0.0504451 ,\n",
       "        0.75074184, 0.14243323, 0.        , 0.0504451 ]),\n",
       " 255: array([0.00990099, 0.01980198, 0.        , 0.00990099, 0.11881188,\n",
       "        0.53465347, 0.27722772, 0.        , 0.02970297]),\n",
       " 256: array([0.        , 0.        , 0.        , 0.04761905, 0.04761905,\n",
       "        0.80952381, 0.0952381 , 0.        , 0.        ]),\n",
       " 258: array([0.    , 0.125 , 0.    , 0.    , 0.    , 0.75  , 0.0625, 0.    ,\n",
       "        0.0625]),\n",
       " 259: array([0.01290323, 0.        , 0.        , 0.01935484, 0.01935484,\n",
       "        0.63225806, 0.13548387, 0.        , 0.18064516]),\n",
       " 260: array([0.00561798, 0.03932584, 0.        , 0.00561798, 0.04494382,\n",
       "        0.41573034, 0.42696629, 0.        , 0.06179775]),\n",
       " 261: array([0.00813008, 0.02439024, 0.        , 0.01626016, 0.01626016,\n",
       "        0.32520325, 0.58536585, 0.        , 0.02439024]),\n",
       " 262: array([0.00178891, 0.02504472, 0.00178891, 0.02325581, 0.06797853,\n",
       "        0.54203936, 0.20572451, 0.        , 0.13237925]),\n",
       " 263: array([0.        , 0.        , 0.        , 0.06666667, 0.        ,\n",
       "        0.73333333, 0.2       , 0.        , 0.        ]),\n",
       " 264: array([0.01492537, 0.        , 0.        , 0.01492537, 0.02985075,\n",
       "        0.34328358, 0.44776119, 0.        , 0.14925373]),\n",
       " 265: array([0.00990099, 0.        , 0.        , 0.00990099, 0.        ,\n",
       "        0.74257426, 0.10891089, 0.        , 0.12871287]),\n",
       " 266: array([0.0625, 0.    , 0.    , 0.    , 0.0625, 0.6875, 0.0625, 0.    ,\n",
       "        0.125 ]),\n",
       " 267: array([0.       , 0.       , 0.       , 0.0546875, 0.109375 , 0.2578125,\n",
       "        0.5234375, 0.       , 0.0546875]),\n",
       " 268: array([0.        , 0.02564103, 0.        , 0.1025641 , 0.05128205,\n",
       "        0.74358974, 0.02564103, 0.        , 0.05128205]),\n",
       " 269: array([0.004, 0.008, 0.   , 0.032, 0.008, 0.232, 0.684, 0.   , 0.032]),\n",
       " 270: array([0.        , 0.        , 0.        , 0.00862069, 0.        ,\n",
       "        0.25      , 0.38793103, 0.        , 0.35344828]),\n",
       " 271: array([0.0021978 , 0.03736264, 0.0021978 , 0.04615385, 0.03296703,\n",
       "        0.38241758, 0.3010989 , 0.        , 0.1956044 ]),\n",
       " 272: array([0.        , 0.11111111, 0.        , 0.        , 0.11111111,\n",
       "        0.66666667, 0.11111111, 0.        , 0.        ]),\n",
       " 273: array([0.  , 0.08, 0.  , 0.  , 0.08, 0.76, 0.08, 0.  , 0.  ]),\n",
       " 274: array([0.00442478, 0.        , 0.        , 0.07079646, 0.07522124,\n",
       "        0.18584071, 0.59734513, 0.        , 0.06637168]),\n",
       " 275: array([0.        , 0.        , 0.        , 0.02112676, 0.08450704,\n",
       "        0.23239437, 0.59859155, 0.        , 0.06338028]),\n",
       " 276: array([0.        , 0.        , 0.        , 0.07142857, 0.        ,\n",
       "        0.71428571, 0.14285714, 0.        , 0.07142857]),\n",
       " 277: array([0. , 0. , 0. , 0. , 0. , 0.5, 0.5, 0. , 0. ]),\n",
       " 278: array([0., 0., 0., 0., 0., 1., 0., 0., 0.]),\n",
       " 279: array([0.00740741, 0.        , 0.00740741, 0.00740741, 0.01481481,\n",
       "        0.53333333, 0.39259259, 0.        , 0.03703704]),\n",
       " 280: array([0.        , 0.        , 0.        , 0.14285714, 0.        ,\n",
       "        0.85714286, 0.        , 0.        , 0.        ]),\n",
       " 281: array([0.01351351, 0.04054054, 0.        , 0.01351351, 0.        ,\n",
       "        0.24324324, 0.64864865, 0.        , 0.04054054]),\n",
       " 282: array([0.00657895, 0.01973684, 0.        , 0.01315789, 0.01315789,\n",
       "        0.17105263, 0.71710526, 0.        , 0.05921053]),\n",
       " 283: array([0.02631579, 0.        , 0.        , 0.02631579, 0.        ,\n",
       "        0.76315789, 0.10526316, 0.        , 0.07894737]),\n",
       " 285: array([0.01136364, 0.        , 0.        , 0.02651515, 0.01893939,\n",
       "        0.56818182, 0.18560606, 0.        , 0.18939394]),\n",
       " 286: array([0.01298701, 0.        , 0.        , 0.01298701, 0.07792208,\n",
       "        0.71428571, 0.03896104, 0.        , 0.14285714]),\n",
       " 287: array([0.00917431, 0.        , 0.        , 0.        , 0.06422018,\n",
       "        0.76146789, 0.04587156, 0.        , 0.11926606]),\n",
       " 288: array([0., 0., 0., 0., 0., 1., 0., 0., 0.]),\n",
       " 289: array([0. , 0. , 0. , 0. , 0. , 0.7, 0.3, 0. , 0. ]),\n",
       " 290: array([0.00198807, 0.00198807, 0.        , 0.027833  , 0.02982107,\n",
       "        0.38170974, 0.47117296, 0.        , 0.08548708]),\n",
       " 291: array([0.01136364, 0.02272727, 0.        , 0.00568182, 0.03977273,\n",
       "        0.34090909, 0.50568182, 0.        , 0.07386364]),\n",
       " 293: array([0.        , 0.        , 0.        , 0.04545455, 0.04545455,\n",
       "        0.63636364, 0.22727273, 0.        , 0.04545455]),\n",
       " 294: array([0. , 0. , 0. , 0. , 0. , 0.8, 0.2, 0. , 0. ]),\n",
       " 295: array([0.  , 0.  , 0.  , 0.  , 0.  , 0.75, 0.2 , 0.  , 0.05]),\n",
       " 296: array([0.01149425, 0.        , 0.        , 0.08045977, 0.03448276,\n",
       "        0.63218391, 0.14942529, 0.        , 0.09195402]),\n",
       " 297: array([0.01265823, 0.        , 0.        , 0.02531646, 0.        ,\n",
       "        0.24050633, 0.6835443 , 0.        , 0.03797468]),\n",
       " 298: array([0.01298701, 0.        , 0.        , 0.01298701, 0.06493506,\n",
       "        0.83116883, 0.06493506, 0.        , 0.01298701]),\n",
       " 299: array([0.00613497, 0.01840491, 0.00613497, 0.01840491, 0.08588957,\n",
       "        0.71165644, 0.12269939, 0.        , 0.03067485]),\n",
       " 300: array([0.00184162, 0.02025783, 0.00184162, 0.02946593, 0.06998158,\n",
       "        0.61141805, 0.16022099, 0.        , 0.10497238]),\n",
       " 301: array([0.   , 0.   , 0.   , 0.125, 0.   , 0.75 , 0.125, 0.   , 0.   ]),\n",
       " 302: array([0.00571429, 0.        , 0.        , 0.01714286, 0.02285714,\n",
       "        0.55428571, 0.24      , 0.        , 0.16      ]),\n",
       " 303: array([0.        , 0.        , 0.        , 0.05494505, 0.02197802,\n",
       "        0.61538462, 0.27472527, 0.        , 0.03296703]),\n",
       " 304: array([0.        , 0.        , 0.        , 0.05555556, 0.0952381 ,\n",
       "        0.23809524, 0.56349206, 0.        , 0.04761905]),\n",
       " 305: array([0.00806452, 0.00806452, 0.        , 0.01612903, 0.08064516,\n",
       "        0.73387097, 0.04032258, 0.        , 0.11290323]),\n",
       " 306: array([0.        , 0.05607477, 0.        , 0.01869159, 0.01869159,\n",
       "        0.12149533, 0.73831776, 0.        , 0.04672897]),\n",
       " 307: array([0.00413223, 0.02066116, 0.        , 0.01239669, 0.03719008,\n",
       "        0.2107438 , 0.66115702, 0.        , 0.05371901]),\n",
       " 308: array([0.        , 0.        , 0.        , 0.06666667, 0.        ,\n",
       "        0.8       , 0.06666667, 0.        , 0.06666667]),\n",
       " 309: array([0.01149425, 0.03448276, 0.        , 0.        , 0.04597701,\n",
       "        0.43678161, 0.42528736, 0.        , 0.04597701]),\n",
       " 310: array([0.00757576, 0.00378788, 0.        , 0.02272727, 0.06818182,\n",
       "        0.31439394, 0.47348485, 0.        , 0.10984848]),\n",
       " 311: array([0.02564103, 0.25641026, 0.        , 0.02564103, 0.02564103,\n",
       "        0.51282051, 0.15384615, 0.        , 0.        ]),\n",
       " 312: array([0.   , 0.   , 0.   , 0.125, 0.   , 0.875, 0.   , 0.   , 0.   ]),\n",
       " 313: array([0.        , 0.        , 0.        , 0.07692308, 0.        ,\n",
       "        0.84615385, 0.07692308, 0.        , 0.        ]),\n",
       " 314: array([0.        , 0.        , 0.        , 0.07692308, 0.        ,\n",
       "        0.84615385, 0.        , 0.        , 0.07692308]),\n",
       " 315: array([0.        , 0.        , 0.        , 0.14285714, 0.        ,\n",
       "        0.85714286, 0.        , 0.        , 0.        ]),\n",
       " 316: array([0.        , 0.        , 0.        , 0.        , 0.04347826,\n",
       "        0.93478261, 0.02173913, 0.        , 0.        ]),\n",
       " 317: array([0.        , 0.01351351, 0.        , 0.        , 0.02702703,\n",
       "        0.90540541, 0.01351351, 0.        , 0.04054054]),\n",
       " 318: array([0.        , 0.        , 0.        , 0.        , 0.        ,\n",
       "        0.25757576, 0.33333333, 0.        , 0.40909091]),\n",
       " 319: array([0., 0., 0., 0., 0., 1., 0., 0., 0.]),\n",
       " 320: array([0.        , 0.02564103, 0.        , 0.01709402, 0.05982906,\n",
       "        0.64102564, 0.09401709, 0.        , 0.16239316]),\n",
       " 321: array([0.01010101, 0.        , 0.        , 0.02020202, 0.02020202,\n",
       "        0.5959596 , 0.21212121, 0.        , 0.14141414]),\n",
       " 324: array([0.06666667, 0.        , 0.        , 0.        , 0.        ,\n",
       "        0.86666667, 0.        , 0.        , 0.06666667]),\n",
       " 325: array([0.        , 0.        , 0.        , 0.        , 0.        ,\n",
       "        0.82352941, 0.        , 0.        , 0.17647059]),\n",
       " 326: array([0.        , 0.        , 0.        , 0.05982906, 0.05982906,\n",
       "        0.5042735 , 0.33333333, 0.        , 0.04273504]),\n",
       " 327: array([0.        , 0.00900901, 0.        , 0.05405405, 0.02702703,\n",
       "        0.6036036 , 0.26126126, 0.        , 0.04504505]),\n",
       " 328: array([0.        , 0.        , 0.        , 0.        , 0.        ,\n",
       "        0.95238095, 0.        , 0.        , 0.04761905]),\n",
       " 329: array([0. , 0. , 0. , 0. , 0. , 0.7, 0.2, 0. , 0.1]),\n",
       " 330: array([0.        , 0.        , 0.        , 0.        , 0.16666667,\n",
       "        0.66666667, 0.16666667, 0.        , 0.        ]),\n",
       " 331: array([0.        , 0.        , 0.        , 0.        , 0.        ,\n",
       "        0.83333333, 0.16666667, 0.        , 0.        ]),\n",
       " 333: array([0., 0., 0., 0., 0., 1., 0., 0., 0.]),\n",
       " 334: array([0.  , 0.  , 0.  , 0.25, 0.  , 0.75, 0.  , 0.  , 0.  ]),\n",
       " 335: array([0.        , 0.03821656, 0.        , 0.01273885, 0.03821656,\n",
       "        0.17834395, 0.67515924, 0.        , 0.05732484]),\n",
       " 336: array([0.        , 0.        , 0.        , 0.        , 0.        ,\n",
       "        0.66666667, 0.33333333, 0.        , 0.        ]),\n",
       " 337: array([0.        , 0.        , 0.        , 0.14285714, 0.        ,\n",
       "        0.85714286, 0.        , 0.        , 0.        ]),\n",
       " 338: array([0.01724138, 0.        , 0.        , 0.        , 0.03448276,\n",
       "        0.70689655, 0.20689655, 0.        , 0.03448276]),\n",
       " 339: array([0.00283286, 0.02266289, 0.        , 0.01416431, 0.06232295,\n",
       "        0.32577904, 0.49291785, 0.        , 0.07932011]),\n",
       " 340: array([0.00843882, 0.00421941, 0.        , 0.02109705, 0.0464135 ,\n",
       "        0.29535865, 0.52320675, 0.00421941, 0.09704641]),\n",
       " 341: array([0.00892857, 0.00892857, 0.        , 0.00892857, 0.        ,\n",
       "        0.25      , 0.65178571, 0.        , 0.07142857]),\n",
       " 342: array([0. , 0. , 0. , 0.2, 0. , 0.8, 0. , 0. , 0. ]),\n",
       " 343: array([0., 0., 0., 0., 0., 1., 0., 0., 0.]),\n",
       " 344: array([0.01149425, 0.        , 0.        , 0.02298851, 0.03448276,\n",
       "        0.75862069, 0.05747126, 0.        , 0.11494253]),\n",
       " 345: array([0.        , 0.        , 0.        , 0.03211009, 0.01376147,\n",
       "        0.41284404, 0.41284404, 0.        , 0.12844037]),\n",
       " 347: array([0.        , 0.        , 0.        , 0.08      , 0.08      ,\n",
       "        0.21333333, 0.56666667, 0.        , 0.06      ]),\n",
       " 348: array([0., 0., 0., 0., 0., 1., 0., 0., 0.]),\n",
       " 349: array([0.        , 0.        , 0.        , 0.14285714, 0.        ,\n",
       "        0.85714286, 0.        , 0.        , 0.        ]),\n",
       " 350: array([0. , 0. , 0. , 0. , 0.2, 0.8, 0. , 0. , 0. ]),\n",
       " 351: array([0.        , 0.        , 0.        , 0.        , 0.        ,\n",
       "        0.92857143, 0.07142857, 0.        , 0.        ]),\n",
       " 352: array([0.01851852, 0.        , 0.        , 0.03703704, 0.12962963,\n",
       "        0.62962963, 0.12962963, 0.        , 0.05555556]),\n",
       " 353: array([0.00641026, 0.00641026, 0.        , 0.02564103, 0.03205128,\n",
       "        0.62179487, 0.10897436, 0.00641026, 0.19230769]),\n",
       " 354: array([0.01265823, 0.03797468, 0.        , 0.02531646, 0.        ,\n",
       "        0.2278481 , 0.65822785, 0.        , 0.03797468]),\n",
       " 355: array([0.        , 0.        , 0.        , 0.        , 0.04166667,\n",
       "        0.5       , 0.375     , 0.        , 0.08333333]),\n",
       " 356: array([0.        , 0.        , 0.        , 0.        , 0.06963788,\n",
       "        0.70194986, 0.15041783, 0.        , 0.07799443]),\n",
       " 357: array([0., 0., 0., 0., 0., 1., 0., 0., 0.]),\n",
       " 358: array([0.01449275, 0.        , 0.        , 0.02898551, 0.02898551,\n",
       "        0.57971014, 0.1884058 , 0.        , 0.15942029]),\n",
       " 359: array([0.01098901, 0.        , 0.        , 0.02197802, 0.01098901,\n",
       "        0.57142857, 0.1978022 , 0.        , 0.18681319]),\n",
       " 360: array([0.        , 0.        , 0.        , 0.        , 0.        ,\n",
       "        0.77777778, 0.        , 0.        , 0.22222222]),\n",
       " 361: array([0.   , 0.   , 0.   , 0.064, 0.088, 0.264, 0.536, 0.   , 0.048]),\n",
       " 362: array([0.        , 0.        , 0.        , 0.09090909, 0.        ,\n",
       "        0.54545455, 0.22727273, 0.        , 0.13636364]),\n",
       " 363: array([0.01298701, 0.        , 0.        , 0.01298701, 0.07792208,\n",
       "        0.42857143, 0.42857143, 0.        , 0.03896104]),\n",
       " 364: array([0.00892857, 0.        , 0.        , 0.02678571, 0.03571429,\n",
       "        0.84821429, 0.03571429, 0.        , 0.04464286]),\n",
       " 365: array([0.2, 0. , 0. , 0. , 0. , 0.6, 0. , 0. , 0.2]),\n",
       " 366: array([0.06666667, 0.        , 0.        , 0.        , 0.        ,\n",
       "        0.8       , 0.13333333, 0.        , 0.        ]),\n",
       " 367: array([0.        , 0.        , 0.        , 0.04545455, 0.        ,\n",
       "        0.90909091, 0.04545455, 0.        , 0.        ]),\n",
       " 368: array([0., 0., 0., 0., 0., 1., 0., 0., 0.]),\n",
       " 369: array([0.01111111, 0.        , 0.        , 0.03333333, 0.04444444,\n",
       "        0.67777778, 0.06666667, 0.        , 0.16666667]),\n",
       " 371: array([0.00547945, 0.        , 0.00273973, 0.02465753, 0.01917808,\n",
       "        0.47945205, 0.25479452, 0.00273973, 0.2109589 ]),\n",
       " 372: array([0.00689655, 0.        , 0.        , 0.0137931 , 0.02068966,\n",
       "        0.65517241, 0.12413793, 0.        , 0.17931034]),\n",
       " 373: array([0.04, 0.04, 0.  , 0.  , 0.  , 0.44, 0.16, 0.  , 0.32]),\n",
       " 374: array([0. , 0. , 0. , 0.1, 0. , 0.9, 0. , 0. , 0. ]),\n",
       " 375: array([0.        , 0.04918033, 0.        , 0.00819672, 0.00819672,\n",
       "        0.18032787, 0.71311475, 0.        , 0.04098361]),\n",
       " 376: array([0.        , 0.        , 0.        , 0.01538462, 0.        ,\n",
       "        0.33846154, 0.6       , 0.        , 0.04615385]),\n",
       " 377: array([0. , 0. , 0. , 0. , 0. , 0.8, 0.2, 0. , 0. ]),\n",
       " 378: array([0.125, 0.   , 0.   , 0.125, 0.25 , 0.375, 0.   , 0.   , 0.125]),\n",
       " 379: array([0.  , 0.  , 0.  , 0.05, 0.05, 0.35, 0.45, 0.  , 0.1 ]),\n",
       " 380: array([0.        , 0.        , 0.        , 0.03448276, 0.03448276,\n",
       "        0.44827586, 0.4137931 , 0.        , 0.06896552]),\n",
       " 381: array([0.        , 0.        , 0.        , 0.        , 0.16666667,\n",
       "        0.66666667, 0.        , 0.        , 0.16666667]),\n",
       " 384: array([0.        , 0.        , 0.        , 0.05555556, 0.02222222,\n",
       "        0.58888889, 0.3       , 0.        , 0.03333333]),\n",
       " 385: array([0. , 0. , 0. , 0. , 0. , 0.8, 0.2, 0. , 0. ]),\n",
       " 386: array([0.        , 0.04477612, 0.        , 0.01492537, 0.01492537,\n",
       "        0.14179104, 0.73880597, 0.        , 0.04477612]),\n",
       " 387: array([0.02325581, 0.        , 0.        , 0.02325581, 0.06976744,\n",
       "        0.72093023, 0.11627907, 0.        , 0.04651163]),\n",
       " 388: array([0.01086957, 0.01086957, 0.        , 0.02173913, 0.02173913,\n",
       "        0.7173913 , 0.07608696, 0.01086957, 0.13043478]),\n",
       " 389: array([0.        , 0.        , 0.        , 0.        , 0.04166667,\n",
       "        0.83333333, 0.04166667, 0.        , 0.08333333]),\n",
       " 390: array([0.01204819, 0.        , 0.        , 0.02409639, 0.01204819,\n",
       "        0.85542169, 0.08433735, 0.        , 0.01204819]),\n",
       " 391: array([0.02439024, 0.        , 0.        , 0.02439024, 0.02439024,\n",
       "        0.80487805, 0.09756098, 0.        , 0.02439024]),\n",
       " 392: array([0.0625, 0.    , 0.    , 0.0625, 0.    , 0.8125, 0.0625, 0.    ,\n",
       "        0.    ]),\n",
       " 393: array([0.        , 0.        , 0.        , 0.01923077, 0.05769231,\n",
       "        0.86538462, 0.        , 0.        , 0.05769231]),\n",
       " 394: array([0.        , 0.        , 0.        , 0.        , 0.01694915,\n",
       "        0.81355932, 0.15254237, 0.        , 0.01694915]),\n",
       " 395: array([0., 0., 0., 0., 0., 1., 0., 0., 0.]),\n",
       " 396: array([0.        , 0.        , 0.04347826, 0.04347826, 0.        ,\n",
       "        0.30434783, 0.47826087, 0.        , 0.13043478]),\n",
       " 397: array([0.        , 0.        , 0.        , 0.05882353, 0.        ,\n",
       "        0.64705882, 0.23529412, 0.        , 0.05882353]),\n",
       " 398: array([0.16666667, 0.        , 0.        , 0.        , 0.        ,\n",
       "        0.5       , 0.16666667, 0.        , 0.16666667]),\n",
       " 399: array([0.        , 0.        , 0.        , 0.        , 0.        ,\n",
       "        0.85714286, 0.14285714, 0.        , 0.        ]),\n",
       " 400: array([0.        , 0.        , 0.        , 0.        , 0.09090909,\n",
       "        0.81818182, 0.09090909, 0.        , 0.        ]),\n",
       " 401: array([0., 0., 0., 0., 0., 1., 0., 0., 0.]),\n",
       " 402: array([0. , 0. , 0. , 0.2, 0. , 0.8, 0. , 0. , 0. ]),\n",
       " 403: array([0.  , 0.  , 0.  , 0.  , 0.05, 0.45, 0.45, 0.  , 0.05]),\n",
       " 404: array([0.        , 0.        , 0.        , 0.00900901, 0.00900901,\n",
       "        0.26126126, 0.36936937, 0.        , 0.35135135]),\n",
       " 405: array([0.01234568, 0.        , 0.        , 0.01234568, 0.03703704,\n",
       "        0.58024691, 0.25925926, 0.        , 0.09876543]),\n",
       " 406: array([0.        , 0.        , 0.        , 0.05426357, 0.03875969,\n",
       "        0.58139535, 0.28682171, 0.        , 0.03875969]),\n",
       " 407: array([0.        , 0.        , 0.        , 0.06451613, 0.02150538,\n",
       "        0.62365591, 0.2688172 , 0.        , 0.02150538]),\n",
       " 409: array([0. , 0. , 0. , 0. , 0. , 0.8, 0.2, 0. , 0. ]),\n",
       " 410: array([0.0212766 , 0.        , 0.        , 0.0212766 , 0.        ,\n",
       "        0.34042553, 0.55319149, 0.        , 0.06382979]),\n",
       " 411: array([0.        , 0.        , 0.        , 0.02631579, 0.03508772,\n",
       "        0.36842105, 0.48245614, 0.        , 0.0877193 ]),\n",
       " 412: array([0.        , 0.        , 0.        , 0.        , 0.14285714,\n",
       "        0.57142857, 0.28571429, 0.        , 0.        ]),\n",
       " 413: array([0.        , 0.        , 0.        , 0.02564103, 0.05982906,\n",
       "        0.37606838, 0.47008547, 0.        , 0.06837607]),\n",
       " 414: array([0.        , 0.        , 0.        , 0.        , 0.        ,\n",
       "        0.30681818, 0.32954545, 0.        , 0.36363636]),\n",
       " 415: array([0.       , 0.       , 0.       , 0.       , 0.0390625, 0.8125   ,\n",
       "        0.140625 , 0.       , 0.0078125]),\n",
       " 416: array([0. , 0.1, 0. , 0. , 0. , 0.6, 0. , 0. , 0.3]),\n",
       " 417: array([0., 0., 0., 0., 0., 1., 0., 0., 0.]),\n",
       " 419: array([0.   , 0.   , 0.   , 0.   , 0.125, 0.625, 0.25 , 0.   , 0.   ]),\n",
       " 420: array([0.        , 0.05263158, 0.        , 0.05263158, 0.05263158,\n",
       "        0.63157895, 0.15789474, 0.        , 0.05263158]),\n",
       " 421: array([0.  , 0.  , 0.  , 0.  , 0.  , 0.75, 0.25, 0.  , 0.  ]),\n",
       " 422: array([0. , 0. , 0. , 0. , 0. , 0.8, 0.2, 0. , 0. ]),\n",
       " 423: array([0.00961538, 0.00480769, 0.        , 0.04326923, 0.06971154,\n",
       "        0.29567308, 0.47596154, 0.        , 0.10096154]),\n",
       " 424: array([0.01587302, 0.        , 0.        , 0.03174603, 0.01058201,\n",
       "        0.61904762, 0.16402116, 0.        , 0.15873016]),\n",
       " 426: array([0.        , 0.05263158, 0.        , 0.02105263, 0.03157895,\n",
       "        0.12631579, 0.71578947, 0.        , 0.05263158]),\n",
       " 427: array([0.        , 0.03529412, 0.        , 0.00588235, 0.02941176,\n",
       "        0.21176471, 0.66470588, 0.        , 0.05294118]),\n",
       " 428: array([0. , 0. , 0. , 0. , 0.2, 0.6, 0.2, 0. , 0. ]),\n",
       " 429: array([0.        , 0.        , 0.        , 0.        , 0.03333333,\n",
       "        0.8       , 0.1       , 0.        , 0.06666667]),\n",
       " 430: array([0.        , 0.        , 0.        , 0.06666667, 0.        ,\n",
       "        0.8       , 0.        , 0.        , 0.13333333]),\n",
       " 431: array([0.        , 0.        , 0.        , 0.        , 0.08333333,\n",
       "        0.33333333, 0.41666667, 0.        , 0.16666667]),\n",
       " 432: array([0.00666667, 0.        , 0.        , 0.        , 0.03333333,\n",
       "        0.80666667, 0.14      , 0.        , 0.01333333]),\n",
       " 433: array([0.        , 0.1025641 , 0.        , 0.        , 0.02564103,\n",
       "        0.71794872, 0.07692308, 0.        , 0.07692308]),\n",
       " 434: array([0.  , 0.1 , 0.  , 0.  , 0.  , 0.72, 0.08, 0.  , 0.1 ]),\n",
       " 435: array([0.        , 0.        , 0.        , 0.04347826, 0.        ,\n",
       "        0.91304348, 0.04347826, 0.        , 0.        ]),\n",
       " 436: array([0.        , 0.        , 0.        , 0.07142857, 0.07142857,\n",
       "        0.57142857, 0.28571429, 0.        , 0.        ]),\n",
       " 437: array([0.01388889, 0.        , 0.        , 0.06944444, 0.02777778,\n",
       "        0.625     , 0.22222222, 0.        , 0.04166667]),\n",
       " 438: array([0.00334448, 0.        , 0.        , 0.04013378, 0.02006689,\n",
       "        0.74247492, 0.12040134, 0.        , 0.0735786 ]),\n",
       " 439: array([0.01492537, 0.04477612, 0.        , 0.02985075, 0.01492537,\n",
       "        0.52238806, 0.26865672, 0.        , 0.10447761]),\n",
       " 440: array([0.        , 0.        , 0.        , 0.05263158, 0.        ,\n",
       "        0.84210526, 0.10526316, 0.        , 0.        ]),\n",
       " 441: array([0.        , 0.05714286, 0.        , 0.00952381, 0.00952381,\n",
       "        0.1047619 , 0.78095238, 0.        , 0.03809524]),\n",
       " 442: array([0.        , 0.        , 0.        , 0.04117647, 0.02352941,\n",
       "        0.37647059, 0.47058824, 0.        , 0.08823529]),\n",
       " 443: array([0.        , 0.        , 0.        , 0.        , 0.05555556,\n",
       "        0.88888889, 0.        , 0.        , 0.05555556]),\n",
       " 444: array([0.        , 0.        , 0.        , 0.14285714, 0.        ,\n",
       "        0.85714286, 0.        , 0.        , 0.        ]),\n",
       " 446: array([0.01010101, 0.        , 0.        , 0.02020202, 0.03030303,\n",
       "        0.60606061, 0.08080808, 0.01010101, 0.24242424]),\n",
       " 447: array([0., 0., 0., 0., 0., 1., 0., 0., 0.]),\n",
       " 448: array([0.00424628, 0.00424628, 0.00212314, 0.01698514, 0.07218684,\n",
       "        0.60509554, 0.17409766, 0.        , 0.12101911]),\n",
       " 449: array([0.00442478, 0.00442478, 0.        , 0.00884956, 0.05752212,\n",
       "        0.7079646 , 0.12831858, 0.        , 0.08849558]),\n",
       " 450: array([0.  , 0.  , 0.  , 0.05, 0.  , 0.85, 0.05, 0.  , 0.05]),\n",
       " 451: array([0.        , 0.        , 0.        , 0.01204819, 0.        ,\n",
       "        0.27710843, 0.31325301, 0.        , 0.39759036]),\n",
       " 452: array([0., 0., 0., 0., 0., 1., 0., 0., 0.]),\n",
       " 453: array([0.        , 0.        , 0.        , 0.        , 0.03333333,\n",
       "        0.86666667, 0.1       , 0.        , 0.        ]),\n",
       " 454: array([0.   , 0.   , 0.   , 0.   , 0.125, 0.5  , 0.375, 0.   , 0.   ]),\n",
       " 455: array([0.        , 0.        , 0.        , 0.02953586, 0.06751055,\n",
       "        0.68776371, 0.16455696, 0.        , 0.05063291]),\n",
       " 456: array([0.        , 0.        , 0.        , 0.03243243, 0.02162162,\n",
       "        0.61081081, 0.15135135, 0.        , 0.18378378]),\n",
       " 457: array([0.00687285, 0.        , 0.        , 0.02749141, 0.03780069,\n",
       "        0.55670103, 0.14776632, 0.        , 0.2233677 ]),\n",
       " 458: array([0.        , 0.        , 0.        , 0.        , 0.16666667,\n",
       "        0.33333333, 0.16666667, 0.        , 0.33333333]),\n",
       " 459: array([0.00699301, 0.        , 0.        , 0.00699301, 0.05594406,\n",
       "        0.74825175, 0.04195804, 0.        , 0.13986014]),\n",
       " 460: array([0.00628931, 0.00628931, 0.        , 0.00628931, 0.03144654,\n",
       "        0.81761006, 0.03144654, 0.        , 0.10062893]),\n",
       " 461: array([0.0130719 , 0.        , 0.00653595, 0.07189542, 0.01960784,\n",
       "        0.58169935, 0.22222222, 0.        , 0.08496732]),\n",
       " 462: array([0.07142857, 0.        , 0.        , 0.        , 0.        ,\n",
       "        0.78571429, 0.14285714, 0.        , 0.        ]),\n",
       " 463: array([0.04166667, 0.        , 0.        , 0.08333333, 0.08333333,\n",
       "        0.75      , 0.04166667, 0.        , 0.        ]),\n",
       " 464: array([0.06666667, 0.        , 0.        , 0.06666667, 0.        ,\n",
       "        0.66666667, 0.2       , 0.        , 0.        ]),\n",
       " 465: array([0.00534759, 0.00534759, 0.        , 0.01604278, 0.03743316,\n",
       "        0.74331551, 0.11764706, 0.        , 0.07486631]),\n",
       " 466: array([0.        , 0.        , 0.        , 0.08333333, 0.        ,\n",
       "        0.83333333, 0.        , 0.        , 0.08333333]),\n",
       " 467: array([0.00473934, 0.        , 0.        , 0.01421801, 0.00947867,\n",
       "        0.1943128 , 0.43601896, 0.        , 0.34123223]),\n",
       " 468: array([0. , 0. , 0. , 0.1, 0. , 0.4, 0.5, 0. , 0. ]),\n",
       " 469: array([0.        , 0.        , 0.07692308, 0.07692308, 0.        ,\n",
       "        0.30769231, 0.46153846, 0.        , 0.07692308]),\n",
       " 470: array([0.        , 0.        , 0.        , 0.02857143, 0.08571429,\n",
       "        0.68571429, 0.05714286, 0.        , 0.14285714]),\n",
       " 471: array([0.00796813, 0.        , 0.        , 0.04780876, 0.03187251,\n",
       "        0.5059761 , 0.23904382, 0.        , 0.16733068]),\n",
       " 472: array([0.00980392, 0.00490196, 0.        , 0.04411765, 0.03921569,\n",
       "        0.55392157, 0.18137255, 0.        , 0.16666667]),\n",
       " 473: array([0.00222717, 0.00668151, 0.00222717, 0.03340757, 0.03786192,\n",
       "        0.36971047, 0.31180401, 0.00222717, 0.23385301]),\n",
       " 475: array([0.01058201, 0.        , 0.        , 0.02645503, 0.02116402,\n",
       "        0.57671958, 0.15343915, 0.        , 0.21164021]),\n",
       " 476: array([0.00826446, 0.        , 0.        , 0.        , 0.04958678,\n",
       "        0.7768595 , 0.04132231, 0.        , 0.12396694]),\n",
       " 477: array([0.01149425, 0.04597701, 0.        , 0.02298851, 0.02298851,\n",
       "        0.50574713, 0.32183908, 0.        , 0.06896552]),\n",
       " 478: array([0.01724138, 0.01724138, 0.        , 0.05172414, 0.03448276,\n",
       "        0.48275862, 0.31034483, 0.        , 0.0862069 ]),\n",
       " 479: array([0.        , 0.        , 0.        , 0.        , 0.        ,\n",
       "        0.08695652, 0.89130435, 0.        , 0.02173913]),\n",
       " 480: array([0.05263158, 0.        , 0.        , 0.05263158, 0.        ,\n",
       "        0.78947368, 0.10526316, 0.        , 0.        ]),\n",
       " 481: array([0.00378788, 0.04166667, 0.        , 0.00378788, 0.0530303 ,\n",
       "        0.6969697 , 0.12121212, 0.        , 0.07954545]),\n",
       " 482: array([0.    , 0.    , 0.    , 0.0625, 0.    , 0.3125, 0.5   , 0.    ,\n",
       "        0.125 ]),\n",
       " 484: array([0.        , 0.        , 0.        , 0.        , 0.        ,\n",
       "        0.8       , 0.06666667, 0.        , 0.13333333]),\n",
       " 485: array([0.0044843 , 0.        , 0.        , 0.04035874, 0.04035874,\n",
       "        0.48878924, 0.38565022, 0.        , 0.04035874]),\n",
       " 486: array([0.        , 0.        , 0.        , 0.        , 0.16666667,\n",
       "        0.66666667, 0.16666667, 0.        , 0.        ]),\n",
       " 487: array([0.008, 0.004, 0.   , 0.044, 0.08 , 0.324, 0.44 , 0.   , 0.1  ]),\n",
       " 488: array([0.01408451, 0.        , 0.        , 0.        , 0.02816901,\n",
       "        0.76056338, 0.04225352, 0.        , 0.15492958]),\n",
       " 489: array([0.02222222, 0.04444444, 0.        , 0.04444444, 0.02222222,\n",
       "        0.46666667, 0.33333333, 0.        , 0.06666667]),\n",
       " 490: array([0.        , 0.        , 0.        , 0.        , 0.        ,\n",
       "        0.85714286, 0.14285714, 0.        , 0.        ]),\n",
       " 491: array([0.00396825, 0.        , 0.        , 0.02380952, 0.03968254,\n",
       "        0.38492063, 0.45238095, 0.        , 0.0952381 ]),\n",
       " 492: array([0.05555556, 0.        , 0.        , 0.05555556, 0.11111111,\n",
       "        0.66666667, 0.11111111, 0.        , 0.        ]),\n",
       " 493: array([0.04, 0.  , 0.  , 0.04, 0.08, 0.68, 0.12, 0.  , 0.04]),\n",
       " 494: array([0.00561798, 0.00561798, 0.        , 0.03370787, 0.00561798,\n",
       "        0.64606742, 0.10674157, 0.        , 0.19662921]),\n",
       " 495: array([0.02380952, 0.02380952, 0.        , 0.02380952, 0.04761905,\n",
       "        0.66666667, 0.11904762, 0.        , 0.0952381 ]),\n",
       " 496: array([0.        , 0.        , 0.        , 0.        , 0.        ,\n",
       "        0.46666667, 0.46666667, 0.        , 0.06666667]),\n",
       " 497: array([0.        , 0.        , 0.        , 0.04761905, 0.0952381 ,\n",
       "        0.42857143, 0.33333333, 0.        , 0.0952381 ]),\n",
       " 498: array([0. , 0. , 0. , 0. , 0. , 0.4, 0.6, 0. , 0. ]),\n",
       " 499: array([0.00529101, 0.01058201, 0.        , 0.        , 0.05820106,\n",
       "        0.8042328 , 0.1005291 , 0.        , 0.02116402]),\n",
       " 500: array([0.04347826, 0.        , 0.        , 0.        , 0.13043478,\n",
       "        0.30434783, 0.47826087, 0.        , 0.04347826]),\n",
       " 501: array([0.        , 0.05555556, 0.        , 0.        , 0.02777778,\n",
       "        0.72222222, 0.02777778, 0.        , 0.16666667]),\n",
       " 502: array([0.        , 0.        , 0.        , 0.13888889, 0.11111111,\n",
       "        0.25      , 0.44444444, 0.        , 0.05555556]),\n",
       " 503: array([0.        , 0.        , 0.        , 0.        , 0.        ,\n",
       "        0.90909091, 0.09090909, 0.        , 0.        ]),\n",
       " 504: array([0.02439024, 0.01219512, 0.        , 0.02439024, 0.03658537,\n",
       "        0.24390244, 0.62195122, 0.        , 0.03658537]),\n",
       " 505: array([0.00862069, 0.00862069, 0.        , 0.00862069, 0.06034483,\n",
       "        0.73275862, 0.04310345, 0.        , 0.13793103]),\n",
       " 506: array([0.        , 0.        , 0.        , 0.11111111, 0.        ,\n",
       "        0.77777778, 0.        , 0.        , 0.11111111]),\n",
       " 507: array([0.00373134, 0.03731343, 0.        , 0.04477612, 0.05223881,\n",
       "        0.42910448, 0.24253731, 0.        , 0.19029851]),\n",
       " 508: array([0.00217865, 0.00217865, 0.00217865, 0.03267974, 0.03921569,\n",
       "        0.34422658, 0.38126362, 0.        , 0.19607843]),\n",
       " 509: array([0.        , 0.04054054, 0.        , 0.        , 0.04054054,\n",
       "        0.41891892, 0.40540541, 0.01351351, 0.08108108]),\n",
       " 510: array([0.01190476, 0.01190476, 0.        , 0.        , 0.03571429,\n",
       "        0.83333333, 0.05952381, 0.        , 0.04761905]),\n",
       " 511: array([0.        , 0.        , 0.        , 0.14285714, 0.        ,\n",
       "        0.85714286, 0.        , 0.        , 0.        ]),\n",
       " 512: array([0.        , 0.        , 0.        , 0.        , 0.17647059,\n",
       "        0.47058824, 0.35294118, 0.        , 0.        ]),\n",
       " 513: array([0.        , 0.        , 0.        , 0.04918033, 0.04918033,\n",
       "        0.72131148, 0.03278689, 0.        , 0.14754098]),\n",
       " 514: array([0.02040816, 0.        , 0.        , 0.02040816, 0.04081633,\n",
       "        0.55102041, 0.28571429, 0.        , 0.08163265]),\n",
       " 515: array([0.        , 0.        , 0.        , 0.02325581, 0.03488372,\n",
       "        0.60465116, 0.20930233, 0.        , 0.12790698]),\n",
       " 516: array([0.        , 0.        , 0.        , 0.07142857, 0.        ,\n",
       "        0.92857143, 0.        , 0.        , 0.        ]),\n",
       " 518: array([0.        , 0.        , 0.        , 0.        , 0.        ,\n",
       "        0.66666667, 0.22222222, 0.        , 0.11111111]),\n",
       " 519: array([0.        , 0.        , 0.        , 0.        , 0.        ,\n",
       "        0.76923077, 0.15384615, 0.        , 0.07692308]),\n",
       " 520: array([0.00401606, 0.        , 0.        , 0.01606426, 0.03614458,\n",
       "        0.77911647, 0.09236948, 0.        , 0.07228916]),\n",
       " 521: array([0.00480769, 0.        , 0.        , 0.        , 0.03846154,\n",
       "        0.72596154, 0.10096154, 0.        , 0.12980769]),\n",
       " 522: array([0.        , 0.        , 0.        , 0.        , 0.        ,\n",
       "        0.66666667, 0.33333333, 0.        , 0.        ]),\n",
       " 523: array([0.25, 0.  , 0.  , 0.  , 0.  , 0.25, 0.25, 0.  , 0.25]),\n",
       " 524: array([0. , 0. , 0. , 0. , 0. , 0.6, 0.2, 0. , 0.2]),\n",
       " 525: array([0.00714286, 0.10714286, 0.        , 0.02142857, 0.02142857,\n",
       "        0.52142857, 0.23571429, 0.        , 0.08571429]),\n",
       " 526: array([0.        , 0.06578947, 0.        , 0.        , 0.02631579,\n",
       "        0.11842105, 0.73684211, 0.        , 0.05263158]),\n",
       " 528: array([0.00657895, 0.        , 0.00657895, 0.01315789, 0.01315789,\n",
       "        0.51973684, 0.38157895, 0.        , 0.05921053]),\n",
       " 529: array([0.        , 0.        , 0.        , 0.14285714, 0.        ,\n",
       "        0.85714286, 0.        , 0.        , 0.        ]),\n",
       " 530: array([0.08333333, 0.        , 0.        , 0.        , 0.        ,\n",
       "        0.75      , 0.16666667, 0.        , 0.        ]),\n",
       " 531: array([0.0625, 0.    , 0.    , 0.    , 0.    , 0.75  , 0.1875, 0.    ,\n",
       "        0.    ]),\n",
       " 532: array([0.  , 0.  , 0.  , 0.  , 0.25, 0.5 , 0.25, 0.  , 0.  ]),\n",
       " 533: array([0., 0., 0., 0., 0., 1., 0., 0., 0.]),\n",
       " 534: array([0.        , 0.        , 0.        , 0.        , 0.01754386,\n",
       "        0.87719298, 0.07017544, 0.        , 0.03508772]),\n",
       " 535: array([0.0060241 , 0.        , 0.        , 0.0060241 , 0.03614458,\n",
       "        0.79518072, 0.09638554, 0.        , 0.06024096]),\n",
       " 536: array([0.        , 0.07407407, 0.        , 0.01851852, 0.03703704,\n",
       "        0.74074074, 0.03703704, 0.        , 0.09259259]),\n",
       " 537: array([0.        , 0.        , 0.        , 0.        , 0.04761905,\n",
       "        0.47619048, 0.47619048, 0.        , 0.        ]),\n",
       " 538: array([0.00299401, 0.03592814, 0.        , 0.04790419, 0.03592814,\n",
       "        0.34131737, 0.39820359, 0.        , 0.13772455]),\n",
       " 539: array([0.02857143, 0.        , 0.        , 0.02857143, 0.08571429,\n",
       "        0.2       , 0.6       , 0.        , 0.05714286]),\n",
       " 540: array([0.00980392, 0.        , 0.        , 0.03921569, 0.0245098 ,\n",
       "        0.78921569, 0.07843137, 0.        , 0.05882353]),\n",
       " 541: array([0.0097561 , 0.00487805, 0.        , 0.03902439, 0.01463415,\n",
       "        0.59512195, 0.16585366, 0.        , 0.17073171]),\n",
       " 542: array([0.00740741, 0.        , 0.        , 0.02222222, 0.02222222,\n",
       "        0.59259259, 0.14814815, 0.        , 0.20740741]),\n",
       " 543: array([0., 0., 0., 0., 0., 1., 0., 0., 0.]),\n",
       " 545: array([0.01694915, 0.05084746, 0.        , 0.03389831, 0.01694915,\n",
       "        0.52542373, 0.25423729, 0.        , 0.10169492]),\n",
       " 546: array([0.04761905, 0.        , 0.        , 0.04761905, 0.        ,\n",
       "        0.57142857, 0.28571429, 0.        , 0.04761905]),\n",
       " 547: array([0.00531915, 0.        , 0.        , 0.05851064, 0.06382979,\n",
       "        0.59574468, 0.21276596, 0.00531915, 0.05851064]),\n",
       " 548: array([0.00510204, 0.00510204, 0.        , 0.0255102 , 0.03061224,\n",
       "        0.39285714, 0.46938776, 0.        , 0.07142857]),\n",
       " 549: array([0.00684932, 0.        , 0.        , 0.        , 0.03424658,\n",
       "        0.7739726 , 0.15068493, 0.        , 0.03424658]),\n",
       " 550: array([0.        , 0.        , 0.        , 0.04411765, 0.02941176,\n",
       "        0.72058824, 0.08823529, 0.        , 0.11764706]),\n",
       " 551: array([0.        , 0.03603604, 0.        , 0.00900901, 0.00900901,\n",
       "        0.13513514, 0.77477477, 0.        , 0.03603604]),\n",
       " 552: array([0.        , 0.        , 0.        , 0.        , 0.05263158,\n",
       "        0.84210526, 0.07017544, 0.        , 0.03508772]),\n",
       " 553: array([0. , 0. , 0. , 0.2, 0. , 0.8, 0. , 0. , 0. ]),\n",
       " 554: array([0.    , 0.    , 0.    , 0.    , 0.0625, 0.5   , 0.375 , 0.    ,\n",
       "        0.0625]),\n",
       " 555: array([0.  , 0.  , 0.  , 0.  , 0.1 , 0.55, 0.3 , 0.  , 0.05]),\n",
       " 556: array([0.02380952, 0.        , 0.02380952, 0.        , 0.02380952,\n",
       "        0.71428571, 0.16666667, 0.        , 0.04761905]),\n",
       " 557: array([0.05, 0.  , 0.  , 0.  , 0.  , 0.75, 0.1 , 0.  , 0.1 ]),\n",
       " 558: array([0.        , 0.        , 0.        , 0.03629032, 0.06451613,\n",
       "        0.7016129 , 0.14919355, 0.        , 0.0483871 ]),\n",
       " 559: array([0.2, 0. , 0. , 0. , 0. , 0.8, 0. , 0. , 0. ]),\n",
       " 560: array([0.00497512, 0.        , 0.00497512, 0.02985075, 0.01492537,\n",
       "        0.27363184, 0.54228856, 0.        , 0.12935323]),\n",
       " 561: array([0.00980392, 0.02941176, 0.        , 0.01960784, 0.04901961,\n",
       "        0.5       , 0.29411765, 0.        , 0.09803922]),\n",
       " 562: array([0.1, 0. , 0. , 0. , 0.2, 0.6, 0.1, 0. , 0. ]),\n",
       " 563: array([0.        , 0.        , 0.        , 0.01923077, 0.01923077,\n",
       "        0.71153846, 0.07692308, 0.        , 0.17307692]),\n",
       " 564: array([0.        , 0.        , 0.        , 0.02777778, 0.05555556,\n",
       "        0.43055556, 0.40277778, 0.        , 0.08333333]),\n",
       " 565: array([0.        , 0.        , 0.        , 0.        , 0.        ,\n",
       "        0.35714286, 0.57142857, 0.        , 0.07142857]),\n",
       " 566: array([0., 0., 0., 0., 0., 1., 0., 0., 0.]),\n",
       " 567: array([0.01923077, 0.21153846, 0.        , 0.01923077, 0.        ,\n",
       "        0.21153846, 0.51923077, 0.        , 0.01923077]),\n",
       " 568: array([0.        , 0.02173913, 0.        , 0.00724638, 0.02173913,\n",
       "        0.23188406, 0.6884058 , 0.        , 0.02898551]),\n",
       " 569: array([0.        , 0.        , 0.        , 0.        , 0.01818182,\n",
       "        0.30909091, 0.27272727, 0.        , 0.4       ]),\n",
       " 570: array([0.        , 0.        , 0.        , 0.        , 0.05555556,\n",
       "        0.5       , 0.33333333, 0.        , 0.11111111]),\n",
       " 571: array([0.00694444, 0.        , 0.        , 0.00694444, 0.03472222,\n",
       "        0.63888889, 0.13194444, 0.        , 0.18055556]),\n",
       " 572: array([0., 0., 0., 0., 0., 1., 0., 0., 0.]),\n",
       " 573: array([0., 0., 0., 0., 0., 1., 0., 0., 0.]),\n",
       " 574: array([0.01098901, 0.02197802, 0.        , 0.        , 0.04395604,\n",
       "        0.51648352, 0.36263736, 0.        , 0.04395604]),\n",
       " 575: array([0.00707965, 0.00530973, 0.        , 0.05309735, 0.05840708,\n",
       "        0.26371681, 0.48318584, 0.00176991, 0.12743363]),\n",
       " 576: array([0.00877193, 0.        , 0.        , 0.03508772, 0.04385965,\n",
       "        0.8245614 , 0.01754386, 0.        , 0.07017544]),\n",
       " 577: array([0.01069519, 0.        , 0.        , 0.04278075, 0.01604278,\n",
       "        0.80748663, 0.06417112, 0.        , 0.05882353]),\n",
       " 578: array([0.07692308, 0.07692308, 0.        , 0.        , 0.07692308,\n",
       "        0.46153846, 0.07692308, 0.        , 0.23076923]),\n",
       " 579: array([0.01754386, 0.07017544, 0.        , 0.03508772, 0.03508772,\n",
       "        0.50877193, 0.24561404, 0.        , 0.0877193 ]),\n",
       " 580: array([0.01123596, 0.        , 0.        , 0.        , 0.02247191,\n",
       "        0.86516854, 0.06741573, 0.        , 0.03370787]),\n",
       " 581: array([0.00869565, 0.        , 0.        , 0.03478261, 0.04347826,\n",
       "        0.76521739, 0.11304348, 0.        , 0.03478261]),\n",
       " 582: array([0.00862069, 0.        , 0.        , 0.01724138, 0.02586207,\n",
       "        0.40517241, 0.48275862, 0.        , 0.06034483]),\n",
       " 583: array([0.03448276, 0.        , 0.        , 0.        , 0.06896552,\n",
       "        0.75862069, 0.10344828, 0.        , 0.03448276]),\n",
       " 584: array([0.        , 0.        , 0.        , 0.03174603, 0.06349206,\n",
       "        0.47619048, 0.34920635, 0.        , 0.07936508]),\n",
       " 585: array([0., 0., 0., 0., 0., 1., 0., 0., 0.]),\n",
       " 586: array([0.        , 0.        , 0.        , 0.02631579, 0.02631579,\n",
       "        0.26315789, 0.65789474, 0.        , 0.02631579]),\n",
       " 587: array([0.00641026, 0.        , 0.        , 0.01282051, 0.03846154,\n",
       "        0.74358974, 0.12179487, 0.        , 0.07692308]),\n",
       " 588: array([0.        , 0.        , 0.        , 0.        , 0.26666667,\n",
       "        0.4       , 0.26666667, 0.        , 0.06666667]),\n",
       " 589: array([0.        , 0.05555556, 0.        , 0.        , 0.11111111,\n",
       "        0.27777778, 0.5       , 0.        , 0.05555556]),\n",
       " 590: array([0.        , 0.        , 0.        , 0.02083333, 0.0625    ,\n",
       "        0.66666667, 0.08333333, 0.        , 0.16666667]),\n",
       " 591: array([0.00787402, 0.00787402, 0.        , 0.06299213, 0.01574803,\n",
       "        0.52755906, 0.23622047, 0.        , 0.14173228]),\n",
       " 592: array([0.01818182, 0.        , 0.        , 0.03636364, 0.01818182,\n",
       "        0.54545455, 0.27272727, 0.        , 0.10909091]),\n",
       " 596: array([0.00613497, 0.        , 0.        , 0.01226994, 0.04907975,\n",
       "        0.80368098, 0.06748466, 0.        , 0.06134969]),\n",
       " 597: array([0., 0., 0., 0., 0., 1., 0., 0., 0.]),\n",
       " 598: array([0.03125, 0.     , 0.     , 0.03125, 0.03125, 0.3125 , 0.5625 ,\n",
       "        0.     , 0.03125]),\n",
       " 599: array([0.02325581, 0.        , 0.        , 0.02325581, 0.04651163,\n",
       "        0.27906977, 0.62790698, 0.        , 0.        ]),\n",
       " 600: array([0.02380952, 0.01190476, 0.        , 0.01190476, 0.07142857,\n",
       "        0.39285714, 0.47619048, 0.        , 0.01190476]),\n",
       " 601: array([0.01140684, 0.00380228, 0.        , 0.01520913, 0.02661597,\n",
       "        0.62737643, 0.14068441, 0.        , 0.17490494]),\n",
       " 602: array([0.04166667, 0.        , 0.        , 0.        , 0.        ,\n",
       "        0.35416667, 0.5       , 0.        , 0.10416667]),\n",
       " 603: array([0. , 0. , 0. , 0. , 0. , 0.8, 0.1, 0. , 0.1]),\n",
       " 604: array([0., 0., 0., 0., 0., 1., 0., 0., 0.]),\n",
       " 607: array([0.01219512, 0.04878049, 0.        , 0.03658537, 0.04878049,\n",
       "        0.53658537, 0.23170732, 0.        , 0.08536585]),\n",
       " 608: array([0.00353357, 0.        , 0.        , 0.04240283, 0.02826855,\n",
       "        0.3180212 , 0.50530035, 0.        , 0.1024735 ]),\n",
       " 609: array([0.00609756, 0.        , 0.        , 0.03658537, 0.0304878 ,\n",
       "        0.31097561, 0.5304878 , 0.        , 0.08536585]),\n",
       " 610: array([0.00359712, 0.        , 0.        , 0.03597122, 0.03597122,\n",
       "        0.44604317, 0.39208633, 0.        , 0.08633094]),\n",
       " 611: array([0.00806452, 0.        , 0.00806452, 0.01612903, 0.02419355,\n",
       "        0.67741935, 0.18548387, 0.        , 0.08064516]),\n",
       " 612: array([0.        , 0.        , 0.        , 0.        , 0.08333333,\n",
       "        0.83333333, 0.        , 0.        , 0.08333333]),\n",
       " 613: array([0.01785714, 0.        , 0.        , 0.01785714, 0.01785714,\n",
       "        0.375     , 0.5       , 0.        , 0.07142857]),\n",
       " 614: array([0.        , 0.        , 0.        , 0.        , 0.        ,\n",
       "        0.31578947, 0.60526316, 0.        , 0.07894737]),\n",
       " 615: array([0.01041667, 0.02083333, 0.        , 0.        , 0.05208333,\n",
       "        0.34375   , 0.54166667, 0.        , 0.03125   ]),\n",
       " 617: array([0.        , 0.        , 0.        , 0.02068966, 0.05517241,\n",
       "        0.73793103, 0.06206897, 0.        , 0.12413793]),\n",
       " 618: array([0.        , 0.        , 0.        , 0.        , 0.10526316,\n",
       "        0.42105263, 0.42105263, 0.        , 0.05263158]),\n",
       " 619: array([0.        , 0.08108108, 0.        , 0.        , 0.        ,\n",
       "        0.75675676, 0.02702703, 0.        , 0.13513514]),\n",
       " 620: array([0.        , 0.        , 0.        , 0.        , 0.        ,\n",
       "        0.5       , 0.33333333, 0.        , 0.16666667]),\n",
       " 621: array([0.        , 0.        , 0.08333333, 0.08333333, 0.        ,\n",
       "        0.41666667, 0.33333333, 0.        , 0.08333333]),\n",
       " 622: array([0.01923077, 0.        , 0.        , 0.01923077, 0.03846154,\n",
       "        0.59615385, 0.23076923, 0.        , 0.09615385]),\n",
       " 623: array([0.02083333, 0.        , 0.        , 0.02083333, 0.04166667,\n",
       "        0.54166667, 0.20833333, 0.        , 0.16666667]),\n",
       " 625: array([0.   , 0.025, 0.   , 0.   , 0.025, 0.45 , 0.45 , 0.   , 0.05 ]),\n",
       " 626: array([0.        , 0.        , 0.        , 0.        , 0.        ,\n",
       "        0.85714286, 0.07142857, 0.        , 0.07142857]),\n",
       " 627: array([0.008, 0.   , 0.   , 0.016, 0.008, 0.864, 0.056, 0.   , 0.048]),\n",
       " 628: array([0., 0., 0., 0., 0., 1., 0., 0., 0.]),\n",
       " 629: array([0.09090909, 0.        , 0.        , 0.        , 0.        ,\n",
       "        0.36363636, 0.45454545, 0.        , 0.09090909]),\n",
       " 630: array([0.00552486, 0.        , 0.        , 0.02762431, 0.03314917,\n",
       "        0.59116022, 0.16022099, 0.        , 0.18232044]),\n",
       " 631: array([0.03125 , 0.      , 0.      , 0.015625, 0.      , 0.265625,\n",
       "        0.59375 , 0.      , 0.09375 ]),\n",
       " 632: array([0.        , 0.0462963 , 0.        , 0.        , 0.00925926,\n",
       "        0.12962963, 0.75      , 0.        , 0.06481481]),\n",
       " 633: array([0.00295858, 0.00295858, 0.        , 0.03846154, 0.0443787 ,\n",
       "        0.33136095, 0.48816568, 0.        , 0.09171598]),\n",
       " 634: array([0.00724638, 0.        , 0.00724638, 0.01449275, 0.        ,\n",
       "        0.47101449, 0.44202899, 0.        , 0.05797101]),\n",
       " 635: array([0.14285714, 0.        , 0.        , 0.        , 0.        ,\n",
       "        0.71428571, 0.14285714, 0.        , 0.        ]),\n",
       " 636: array([0.        , 0.        , 0.        , 0.01941748, 0.02912621,\n",
       "        0.39805825, 0.41747573, 0.        , 0.13592233]),\n",
       " 637: array([0.        , 0.        , 0.        , 0.        , 0.        ,\n",
       "        0.88888889, 0.05555556, 0.        , 0.05555556]),\n",
       " 638: array([0.00724638, 0.00724638, 0.        , 0.00724638, 0.05797101,\n",
       "        0.72463768, 0.10869565, 0.        , 0.08695652]),\n",
       " 639: array([0.03571429, 0.03571429, 0.        , 0.07142857, 0.        ,\n",
       "        0.25      , 0.57142857, 0.        , 0.03571429]),\n",
       " 640: array([0.07142857, 0.        , 0.        , 0.        , 0.        ,\n",
       "        0.85714286, 0.07142857, 0.        , 0.        ]),\n",
       " 641: array([0.07692308, 0.        , 0.        , 0.07692308, 0.07692308,\n",
       "        0.61538462, 0.15384615, 0.        , 0.        ]),\n",
       " 642: array([0.        , 0.        , 0.        , 0.04761905, 0.        ,\n",
       "        0.23809524, 0.61904762, 0.        , 0.0952381 ]),\n",
       " 643: array([0.        , 0.08333333, 0.        , 0.08333333, 0.        ,\n",
       "        0.33333333, 0.33333333, 0.        , 0.16666667]),\n",
       " 644: array([0.02083333, 0.        , 0.        , 0.        , 0.        ,\n",
       "        0.75      , 0.16666667, 0.        , 0.0625    ]),\n",
       " 645: array([0.00552486, 0.        , 0.00552486, 0.01104972, 0.02209945,\n",
       "        0.7679558 , 0.13812155, 0.        , 0.04972376]),\n",
       " 646: array([0.003125, 0.      , 0.      , 0.015625, 0.0375  , 0.721875,\n",
       "        0.13125 , 0.      , 0.090625]),\n",
       " 647: array([0.05714286, 0.        , 0.        , 0.02857143, 0.        ,\n",
       "        0.17142857, 0.74285714, 0.        , 0.        ]),\n",
       " 648: array([0.03333333, 0.        , 0.        , 0.03333333, 0.        ,\n",
       "        0.26666667, 0.63333333, 0.        , 0.03333333]),\n",
       " 649: array([0.01428571, 0.        , 0.        , 0.03571429, 0.01428571,\n",
       "        0.58571429, 0.17142857, 0.        , 0.17857143]),\n",
       " 650: array([0.01204819, 0.        , 0.        , 0.        , 0.01204819,\n",
       "        0.24096386, 0.63855422, 0.        , 0.09638554]),\n",
       " 651: array([0.        , 0.        , 0.        , 0.        , 0.06060606,\n",
       "        0.75757576, 0.09090909, 0.        , 0.09090909]),\n",
       " 652: array([0.        , 0.08333333, 0.        , 0.        , 0.        ,\n",
       "        0.83333333, 0.        , 0.        , 0.08333333]),\n",
       " 653: array([0.  , 0.  , 0.  , 0.  , 0.  , 0.75, 0.25, 0.  , 0.  ]),\n",
       " 654: array([0. , 0. , 0. , 0.2, 0. , 0.6, 0.2, 0. , 0. ]),\n",
       " 655: array([0.  , 0.  , 0.  , 0.05, 0.  , 0.9 , 0.05, 0.  , 0.  ]),\n",
       " 656: array([0.        , 0.        , 0.        , 0.03349282, 0.06220096,\n",
       "        0.73205742, 0.12440191, 0.        , 0.04784689]),\n",
       " 657: array([0.02222222, 0.        , 0.02222222, 0.04444444, 0.        ,\n",
       "        0.66666667, 0.17777778, 0.        , 0.06666667]),\n",
       " 658: array([0., 0., 0., 0., 0., 1., 0., 0., 0.]),\n",
       " 659: array([0.        , 0.        , 0.        , 0.05882353, 0.        ,\n",
       "        0.35294118, 0.52941176, 0.        , 0.05882353]),\n",
       " 660: array([0., 0., 0., 0., 0., 1., 0., 0., 0.]),\n",
       " 661: array([0.25, 0.  , 0.  , 0.25, 0.  , 0.5 , 0.  , 0.  , 0.  ]),\n",
       " 662: array([0.00526316, 0.        , 0.        , 0.01578947, 0.02105263,\n",
       "        0.75789474, 0.1       , 0.        , 0.1       ]),\n",
       " 663: array([0.        , 0.        , 0.        , 0.        , 0.05882353,\n",
       "        0.35294118, 0.47058824, 0.        , 0.11764706]),\n",
       " 664: array([0.        , 0.        , 0.        , 0.        , 0.02857143,\n",
       "        0.94285714, 0.        , 0.        , 0.02857143]),\n",
       " 666: array([0.        , 0.        , 0.        , 0.        , 0.08333333,\n",
       "        0.5       , 0.33333333, 0.        , 0.08333333]),\n",
       " 667: array([0.        , 0.04166667, 0.        , 0.        , 0.04166667,\n",
       "        0.83333333, 0.04166667, 0.        , 0.04166667]),\n",
       " 668: array([0.03125, 0.     , 0.     , 0.125  , 0.125  , 0.25   , 0.375  ,\n",
       "        0.     , 0.09375]),\n",
       " 669: array([0.02941176, 0.        , 0.02941176, 0.        , 0.        ,\n",
       "        0.70588235, 0.17647059, 0.        , 0.05882353]),\n",
       " 670: array([0.01470588, 0.        , 0.        , 0.01470588, 0.05882353,\n",
       "        0.51470588, 0.23529412, 0.        , 0.16176471]),\n",
       " 672: array([0.        , 0.        , 0.        , 0.        , 0.05555556,\n",
       "        0.88888889, 0.05555556, 0.        , 0.        ]),\n",
       " 673: array([0.        , 0.01052632, 0.        , 0.        , 0.03157895,\n",
       "        0.88421053, 0.02105263, 0.        , 0.05263158]),\n",
       " 674: array([0.00990099, 0.0049505 , 0.        , 0.04950495, 0.06435644,\n",
       "        0.28217822, 0.48019802, 0.        , 0.10891089]),\n",
       " 675: array([0. , 0. , 0. , 0. , 0. , 0.5, 0.5, 0. , 0. ]),\n",
       " 676: array([0.        , 0.        , 0.        , 0.        , 0.        ,\n",
       "        0.66666667, 0.33333333, 0.        , 0.        ]),\n",
       " 677: array([0.03333333, 0.        , 0.        , 0.03333333, 0.03333333,\n",
       "        0.76666667, 0.1       , 0.        , 0.03333333]),\n",
       " 678: array([0.01449275, 0.        , 0.        , 0.        , 0.        ,\n",
       "        0.94202899, 0.02898551, 0.        , 0.01449275]),\n",
       " 679: array([0.        , 0.        , 0.        , 0.01492537, 0.01492537,\n",
       "        0.85074627, 0.05970149, 0.01492537, 0.04477612]),\n",
       " 680: array([0.        , 0.        , 0.        , 0.02325581, 0.        ,\n",
       "        0.88372093, 0.02325581, 0.        , 0.06976744]),\n",
       " 681: array([0.        , 0.        , 0.        , 0.        , 0.        ,\n",
       "        0.57142857, 0.35714286, 0.        , 0.07142857]),\n",
       " 682: array([0.        , 0.        , 0.        , 0.0212766 , 0.06382979,\n",
       "        0.63829787, 0.08510638, 0.        , 0.19148936]),\n",
       " 683: array([0.00197628, 0.01976285, 0.00197628, 0.03359684, 0.04940711,\n",
       "        0.37351779, 0.3083004 , 0.        , 0.21146245]),\n",
       " 684: array([0.05263158, 0.        , 0.        , 0.        , 0.        ,\n",
       "        0.31578947, 0.57894737, 0.        , 0.05263158]),\n",
       " 685: array([0.        , 0.        , 0.        , 0.02521008, 0.05882353,\n",
       "        0.32773109, 0.50420168, 0.        , 0.08403361]),\n",
       " 686: array([0.        , 0.        , 0.        , 0.04424779, 0.07079646,\n",
       "        0.24778761, 0.55752212, 0.        , 0.07964602]),\n",
       " 687: array([0.        , 0.        , 0.        , 0.03846154, 0.03846154,\n",
       "        0.26923077, 0.55128205, 0.        , 0.1025641 ]),\n",
       " 688: array([0.        , 0.        , 0.        , 0.01298701, 0.07792208,\n",
       "        0.32467532, 0.53246753, 0.        , 0.05194805]),\n",
       " 689: array([0.        , 0.        , 0.        , 0.33333333, 0.        ,\n",
       "        0.66666667, 0.        , 0.        , 0.        ]),\n",
       " 690: array([0.01428571, 0.        , 0.        , 0.        , 0.        ,\n",
       "        0.11428571, 0.87142857, 0.        , 0.        ]),\n",
       " 691: array([0.        , 0.01785714, 0.        , 0.01190476, 0.        ,\n",
       "        0.10714286, 0.81547619, 0.        , 0.04761905]),\n",
       " 692: array([0.25, 0.  , 0.  , 0.25, 0.  , 0.5 , 0.  , 0.  , 0.  ]),\n",
       " 693: array([0.04761905, 0.        , 0.        , 0.        , 0.        ,\n",
       "        0.71428571, 0.23809524, 0.        , 0.        ]),\n",
       " 694: array([0.        , 0.07407407, 0.        , 0.        , 0.03703704,\n",
       "        0.81481481, 0.03703704, 0.        , 0.03703704]),\n",
       " 695: array([0.        , 0.        , 0.        , 0.11764706, 0.23529412,\n",
       "        0.17647059, 0.47058824, 0.        , 0.        ]),\n",
       " 696: array([0.01298701, 0.        , 0.        , 0.01298701, 0.01298701,\n",
       "        0.79220779, 0.14285714, 0.        , 0.02597403]),\n",
       " 697: array([0.00487805, 0.        , 0.        , 0.0097561 , 0.04390244,\n",
       "        0.80487805, 0.07317073, 0.        , 0.06341463]),\n",
       " 698: array([0.        , 0.        , 0.        , 0.01754386, 0.01754386,\n",
       "        0.85087719, 0.07017544, 0.        , 0.04385965]),\n",
       " 699: array([0.2, 0. , 0. , 0. , 0. , 0.4, 0.2, 0. , 0.2]),\n",
       " 700: array([0.00662252, 0.00662252, 0.        , 0.06622517, 0.03311258,\n",
       "        0.7615894 , 0.06622517, 0.        , 0.05960265]),\n",
       " 701: array([0.01094891, 0.        , 0.        , 0.02189781, 0.03284672,\n",
       "        0.6350365 , 0.13138686, 0.        , 0.16788321]),\n",
       " 702: array([0.02272727, 0.        , 0.        , 0.        , 0.        ,\n",
       "        0.34090909, 0.56818182, 0.        , 0.06818182]),\n",
       " 703: array([0.03571429, 0.        , 0.        , 0.        , 0.        ,\n",
       "        0.39285714, 0.53571429, 0.        , 0.03571429]),\n",
       " 704: array([0.        , 0.06666667, 0.        , 0.        , 0.06666667,\n",
       "        0.73333333, 0.06666667, 0.        , 0.06666667]),\n",
       " 707: array([0.   , 0.   , 0.   , 0.   , 0.   , 0.5  , 0.375, 0.   , 0.125]),\n",
       " 708: array([0.04545455, 0.        , 0.        , 0.04545455, 0.        ,\n",
       "        0.59090909, 0.31818182, 0.        , 0.        ]),\n",
       " 709: array([0.        , 0.        , 0.        , 0.02061856, 0.03092784,\n",
       "        0.82474227, 0.07216495, 0.        , 0.05154639]),\n",
       " 710: array([0.0047619 , 0.        , 0.        , 0.03333333, 0.03333333,\n",
       "        0.34761905, 0.47619048, 0.        , 0.1047619 ]),\n",
       " 711: array([0.03225806, 0.        , 0.        , 0.09677419, 0.06451613,\n",
       "        0.64516129, 0.12903226, 0.        , 0.03225806]),\n",
       " 712: array([0.        , 0.        , 0.        , 0.02222222, 0.02222222,\n",
       "        0.88888889, 0.02222222, 0.        , 0.04444444]),\n",
       " 713: array([0.02380952, 0.        , 0.        , 0.02380952, 0.16666667,\n",
       "        0.57142857, 0.16666667, 0.        , 0.04761905]),\n",
       " 714: array([0.        , 0.        , 0.        , 0.        , 0.        ,\n",
       "        0.30434783, 0.60869565, 0.        , 0.08695652]),\n",
       " 715: array([0.        , 0.        , 0.        , 0.04046243, 0.04046243,\n",
       "        0.50867052, 0.23121387, 0.        , 0.17919075]),\n",
       " 716: array([0.        , 0.        , 0.        , 0.03278689, 0.04371585,\n",
       "        0.53551913, 0.2295082 , 0.        , 0.15846995]),\n",
       " 717: array([0.00420168, 0.        , 0.        , 0.01260504, 0.06722689,\n",
       "        0.68487395, 0.12184874, 0.        , 0.1092437 ]),\n",
       " 718: array([0.        , 0.01724138, 0.        , 0.        , 0.05172414,\n",
       "        0.44827586, 0.44827586, 0.        , 0.03448276]),\n",
       " 719: array([0.02380952, 0.02380952, 0.        , 0.02380952, 0.02380952,\n",
       "        0.35714286, 0.5       , 0.        , 0.04761905]),\n",
       " 720: array([0.        , 0.        , 0.        , 0.04195804, 0.03496503,\n",
       "        0.24475524, 0.56643357, 0.        , 0.11188811]),\n",
       " 721: array([0.        , 0.        , 0.        , 0.14285714, 0.14285714,\n",
       "        0.42857143, 0.28571429, 0.        , 0.        ]),\n",
       " 722: array([0.01428571, 0.        , 0.        , 0.        , 0.        ,\n",
       "        0.08571429, 0.84285714, 0.        , 0.05714286]),\n",
       " 723: array([0.01273885, 0.        , 0.        , 0.00636943, 0.07006369,\n",
       "        0.73248408, 0.13375796, 0.        , 0.04458599]),\n",
       " 724: array([0.        , 0.        , 0.        , 0.        , 0.02325581,\n",
       "        0.95348837, 0.        , 0.        , 0.02325581]),\n",
       " 725: array([0.  , 0.  , 0.  , 0.  , 0.05, 0.95, 0.  , 0.  , 0.  ]),\n",
       " 726: array([0.        , 0.        , 0.        , 0.09090909, 0.18181818,\n",
       "        0.31818182, 0.36363636, 0.        , 0.04545455]),\n",
       " 727: array([0.        , 0.07692308, 0.07692308, 0.07692308, 0.        ,\n",
       "        0.38461538, 0.30769231, 0.        , 0.07692308]),\n",
       " 728: array([0.        , 0.        , 0.04166667, 0.04166667, 0.        ,\n",
       "        0.33333333, 0.45833333, 0.        , 0.125     ]),\n",
       " 729: array([0.00961538, 0.00961538, 0.        , 0.03846154, 0.02884615,\n",
       "        0.54807692, 0.21153846, 0.        , 0.15384615]),\n",
       " 730: array([0.01075269, 0.        , 0.        , 0.05376344, 0.02150538,\n",
       "        0.48387097, 0.33333333, 0.        , 0.09677419]),\n",
       " 731: array([0.01052632, 0.        , 0.        , 0.02105263, 0.01052632,\n",
       "        0.48421053, 0.33684211, 0.        , 0.13684211]),\n",
       " 732: array([0.        , 0.        , 0.        , 0.02061856, 0.        ,\n",
       "        0.88659794, 0.05154639, 0.        , 0.04123711]),\n",
       " 733: array([0.01351351, 0.        , 0.        , 0.02702703, 0.01351351,\n",
       "        0.85135135, 0.08108108, 0.        , 0.01351351]),\n",
       " 734: array([0., 0., 0., 0., 0., 1., 0., 0., 0.]),\n",
       " 735: array([0.00452489, 0.        , 0.        , 0.00904977, 0.04524887,\n",
       "        0.66515837, 0.19909502, 0.        , 0.07692308]),\n",
       " 736: array([0.03703704, 0.        , 0.        , 0.03703704, 0.03703704,\n",
       "        0.22222222, 0.66666667, 0.        , 0.        ]),\n",
       " 737: array([0.00881057, 0.01321586, 0.        , 0.04405286, 0.07929515,\n",
       "        0.34801762, 0.42290749, 0.        , 0.08370044]),\n",
       " 738: array([0.5, 0. , 0. , 0. , 0. , 0.5, 0. , 0. , 0. ]),\n",
       " 739: array([0.00314465, 0.        , 0.00314465, 0.03144654, 0.02830189,\n",
       "        0.70754717, 0.13522013, 0.        , 0.09119497]),\n",
       " 740: array([0.01081081, 0.        , 0.        , 0.03243243, 0.01621622,\n",
       "        0.80540541, 0.08648649, 0.        , 0.04864865]),\n",
       " 741: array([0.00514139, 0.00257069, 0.        , 0.02570694, 0.0437018 ,\n",
       "        0.53727506, 0.1722365 , 0.        , 0.21336761]),\n",
       " 742: array([0.02857143, 0.        , 0.        , 0.        , 0.        ,\n",
       "        0.4       , 0.51428571, 0.        , 0.05714286]),\n",
       " 743: array([0., 0., 0., 0., 0., 1., 0., 0., 0.]),\n",
       " 744: array([0.        , 0.        , 0.        , 0.08333333, 0.        ,\n",
       "        0.83333333, 0.08333333, 0.        , 0.        ]),\n",
       " 745: array([0.02272727, 0.02272727, 0.        , 0.04545455, 0.        ,\n",
       "        0.52272727, 0.29545455, 0.        , 0.09090909]),\n",
       " 746: array([0.  , 0.  , 0.  , 0.05, 0.  , 0.5 , 0.35, 0.  , 0.1 ]),\n",
       " 747: array([0.        , 0.        , 0.        , 0.        , 0.        ,\n",
       "        0.54545455, 0.36363636, 0.        , 0.09090909]),\n",
       " 748: array([0.        , 0.02931596, 0.        , 0.02605863, 0.01302932,\n",
       "        0.11400651, 0.74918567, 0.        , 0.06840391]),\n",
       " 749: array([0.        , 0.        , 0.        , 0.05263158, 0.        ,\n",
       "        0.73684211, 0.15789474, 0.        , 0.05263158]),\n",
       " 750: array([0.        , 0.        , 0.        , 0.03571429, 0.03571429,\n",
       "        0.89285714, 0.        , 0.        , 0.03571429]),\n",
       " 751: array([0.00833333, 0.        , 0.        , 0.00833333, 0.03333333,\n",
       "        0.475     , 0.425     , 0.        , 0.05      ]),\n",
       " 752: array([0.01538462, 0.        , 0.        , 0.03076923, 0.        ,\n",
       "        0.36923077, 0.52307692, 0.        , 0.06153846]),\n",
       " 753: array([0.125, 0.   , 0.   , 0.   , 0.   , 0.75 , 0.125, 0.   , 0.   ]),\n",
       " 754: array([0.05555556, 0.        , 0.        , 0.        , 0.22222222,\n",
       "        0.66666667, 0.        , 0.        , 0.05555556]),\n",
       " 755: array([0.        , 0.02173913, 0.        , 0.01086957, 0.01086957,\n",
       "        0.17391304, 0.75      , 0.        , 0.0326087 ]),\n",
       " 756: array([0.14285714, 0.        , 0.        , 0.        , 0.        ,\n",
       "        0.71428571, 0.14285714, 0.        , 0.        ]),\n",
       " 757: array([0.03571429, 0.        , 0.        , 0.        , 0.03571429,\n",
       "        0.89285714, 0.03571429, 0.        , 0.        ]),\n",
       " 758: array([0. , 0. , 0. , 0. , 0. , 0.5, 0.5, 0. , 0. ]),\n",
       " 759: array([0.        , 0.        , 0.        , 0.        , 0.09090909,\n",
       "        0.81818182, 0.        , 0.        , 0.09090909]),\n",
       " 760: array([0.00862069, 0.02586207, 0.        , 0.01724138, 0.04310345,\n",
       "        0.06896552, 0.65517241, 0.        , 0.18103448]),\n",
       " 761: array([0. , 0. , 0. , 0. , 0. , 0.5, 0.5, 0. , 0. ]),\n",
       " 762: array([0.   , 0.025, 0.   , 0.075, 0.025, 0.45 , 0.375, 0.   , 0.05 ]),\n",
       " 763: array([0.        , 0.        , 0.        , 0.11111111, 0.16666667,\n",
       "        0.38888889, 0.27777778, 0.        , 0.05555556]),\n",
       " 764: array([0.        , 0.        , 0.04347826, 0.04347826, 0.        ,\n",
       "        0.30434783, 0.39130435, 0.        , 0.2173913 ]),\n",
       " 765: array([0.01818182, 0.16363636, 0.        , 0.01818182, 0.03636364,\n",
       "        0.6       , 0.01818182, 0.        , 0.14545455]),\n",
       " 766: array([0.        , 0.        , 0.        , 0.        , 0.        ,\n",
       "        0.66666667, 0.16666667, 0.        , 0.16666667]),\n",
       " 767: array([0.00892857, 0.        , 0.        , 0.04464286, 0.00892857,\n",
       "        0.47321429, 0.35714286, 0.        , 0.10714286]),\n",
       " 768: array([0. , 0. , 0. , 0. , 0.1, 0.6, 0.3, 0. , 0. ]),\n",
       " 769: array([0.    , 0.    , 0.    , 0.    , 0.0625, 0.8125, 0.125 , 0.    ,\n",
       "        0.    ]),\n",
       " 770: array([0.  , 0.  , 0.  , 0.  , 0.  , 0.75, 0.25, 0.  , 0.  ]),\n",
       " 771: array([0.002849  , 0.00712251, 0.        , 0.05413105, 0.04700855,\n",
       "        0.17663818, 0.6011396 , 0.        , 0.11111111]),\n",
       " 772: array([0.00996016, 0.00398406, 0.        , 0.05378486, 0.06772908,\n",
       "        0.27689243, 0.45418327, 0.00199203, 0.1314741 ]),\n",
       " 773: array([0.0044843 , 0.0044843 , 0.        , 0.02242152, 0.04035874,\n",
       "        0.78026906, 0.05829596, 0.        , 0.0896861 ]),\n",
       " 774: array([0.004329  , 0.        , 0.        , 0.02164502, 0.05194805,\n",
       "        0.81818182, 0.05194805, 0.        , 0.05194805]),\n",
       " 775: array([0.        , 0.07142857, 0.        , 0.        , 0.07142857,\n",
       "        0.64285714, 0.07142857, 0.        , 0.14285714]),\n",
       " 776: array([0. , 0. , 0. , 0.5, 0. , 0.5, 0. , 0. , 0. ]),\n",
       " 778: array([0.        , 0.        , 0.        , 0.        , 0.        ,\n",
       "        0.73684211, 0.26315789, 0.        , 0.        ]),\n",
       " 779: array([0., 0., 0., 0., 0., 1., 0., 0., 0.]),\n",
       " 780: array([0.        , 0.        , 0.        , 0.03196347, 0.0456621 ,\n",
       "        0.3652968 , 0.47945205, 0.        , 0.07762557]),\n",
       " 781: array([0.01315789, 0.        , 0.01315789, 0.        , 0.02631579,\n",
       "        0.82894737, 0.07894737, 0.        , 0.03947368]),\n",
       " 782: array([0.        , 0.        , 0.        , 0.05555556, 0.05555556,\n",
       "        0.66666667, 0.16666667, 0.        , 0.05555556]),\n",
       " 783: array([0. , 0. , 0. , 0. , 0. , 0.9, 0.1, 0. , 0. ]),\n",
       " 784: array([0.        , 0.        , 0.        , 0.05263158, 0.        ,\n",
       "        0.84210526, 0.05263158, 0.        , 0.05263158]),\n",
       " 785: array([0.01515152, 0.        , 0.        , 0.07575758, 0.16666667,\n",
       "        0.51515152, 0.16666667, 0.        , 0.06060606]),\n",
       " 786: array([0., 0., 0., 0., 0., 1., 0., 0., 0.]),\n",
       " 787: array([0.07692308, 0.        , 0.        , 0.        , 0.23076923,\n",
       "        0.69230769, 0.        , 0.        , 0.        ]),\n",
       " 788: array([0.1, 0. , 0. , 0. , 0.2, 0.6, 0.1, 0. , 0. ]),\n",
       " 789: array([0.        , 0.        , 0.        , 0.        , 0.03448276,\n",
       "        0.31034483, 0.5862069 , 0.        , 0.06896552]),\n",
       " 790: array([0.        , 0.0106383 , 0.        , 0.03191489, 0.05851064,\n",
       "        0.49468085, 0.2287234 , 0.        , 0.17553191]),\n",
       " 791: array([0.03225806, 0.        , 0.        , 0.        , 0.03225806,\n",
       "        0.32258065, 0.61290323, 0.        , 0.        ]),\n",
       " 792: array([0.        , 0.01470588, 0.        , 0.02941176, 0.        ,\n",
       "        0.19117647, 0.76470588, 0.        , 0.        ]),\n",
       " 793: array([0.        , 0.        , 0.        , 0.0212766 , 0.03191489,\n",
       "        0.25531915, 0.53191489, 0.        , 0.15957447]),\n",
       " 794: array([0.        , 0.        , 0.        , 0.        , 0.        ,\n",
       "        0.4       , 0.26666667, 0.        , 0.33333333]),\n",
       " 795: array([0.        , 0.        , 0.        , 0.05555556, 0.16666667,\n",
       "        0.38888889, 0.27777778, 0.        , 0.11111111]),\n",
       " 796: array([0.        , 0.        , 0.02439024, 0.02439024, 0.02439024,\n",
       "        0.34146341, 0.48780488, 0.        , 0.09756098]),\n",
       " 797: array([0.        , 0.        , 0.        , 0.01869159, 0.02803738,\n",
       "        0.8317757 , 0.07476636, 0.        , 0.04672897]),\n",
       " 798: array([0.00569801, 0.002849  , 0.        , 0.05698006, 0.07122507,\n",
       "        0.26495726, 0.49002849, 0.        , 0.10826211]),\n",
       " 799: array([0.01156069, 0.        , 0.        , 0.02890173, 0.02890173,\n",
       "        0.80346821, 0.0867052 , 0.        , 0.04046243]),\n",
       " 800: array([0., 0., 0., 0., 0., 1., 0., 0., 0.]),\n",
       " 801: array([0.04347826, 0.04347826, 0.        , 0.        , 0.08695652,\n",
       "        0.69565217, 0.04347826, 0.        , 0.08695652]),\n",
       " 802: array([0.        , 0.        , 0.        , 0.14285714, 0.        ,\n",
       "        0.85714286, 0.        , 0.        , 0.        ]),\n",
       " 804: array([0., 0., 0., 0., 0., 1., 0., 0., 0.]),\n",
       " 805: array([0.08333333, 0.        , 0.        , 0.08333333, 0.16666667,\n",
       "        0.58333333, 0.08333333, 0.        , 0.        ]),\n",
       " 806: array([0.        , 0.        , 0.        , 0.        , 0.        ,\n",
       "        0.27272727, 0.68181818, 0.        , 0.04545455]),\n",
       " 807: array([0.        , 0.        , 0.        , 0.04347826, 0.0621118 ,\n",
       "        0.52173913, 0.20496894, 0.        , 0.16770186]),\n",
       " 808: array([0.        , 0.02469136, 0.        , 0.        , 0.0617284 ,\n",
       "        0.38271605, 0.49382716, 0.        , 0.03703704]),\n",
       " 809: array([0.        , 0.        , 0.        , 0.03174603, 0.05555556,\n",
       "        0.32539683, 0.52380952, 0.        , 0.06349206]),\n",
       " 810: array([0.        , 0.        , 0.        , 0.        , 0.        ,\n",
       "        0.84848485, 0.09090909, 0.        , 0.06060606]),\n",
       " 811: array([0., 0., 0., 0., 0., 1., 0., 0., 0.]),\n",
       " 812: array([0.01, 0.  , 0.  , 0.  , 0.  , 0.12, 0.84, 0.  , 0.03]),\n",
       " 813: array([0.        , 0.02739726, 0.        , 0.01369863, 0.        ,\n",
       "        0.20547945, 0.71232877, 0.        , 0.04109589]),\n",
       " 814: array([0.        , 0.        , 0.        , 0.09090909, 0.        ,\n",
       "        0.27272727, 0.54545455, 0.        , 0.09090909]),\n",
       " 815: array([0.        , 0.        , 0.        , 0.        , 0.03333333,\n",
       "        0.93333333, 0.        , 0.        , 0.03333333]),\n",
       " 816: array([0.01333333, 0.01333333, 0.        , 0.06666667, 0.06666667,\n",
       "        0.16      , 0.57333333, 0.        , 0.10666667]),\n",
       " 817: array([0.008, 0.   , 0.   , 0.032, 0.024, 0.472, 0.328, 0.   , 0.136]),\n",
       " 818: array([0.0070922 , 0.0070922 , 0.        , 0.03546099, 0.0141844 ,\n",
       "        0.56028369, 0.23404255, 0.        , 0.14184397]),\n",
       " 819: array([0.        , 0.        , 0.        , 0.05882353, 0.05882353,\n",
       "        0.82352941, 0.05882353, 0.        , 0.        ]),\n",
       " 820: array([0.   , 0.   , 0.   , 0.   , 0.   , 0.875, 0.125, 0.   , 0.   ]),\n",
       " 821: array([0.        , 0.01666667, 0.        , 0.        , 0.01666667,\n",
       "        0.9       , 0.06666667, 0.        , 0.        ]),\n",
       " 822: array([0.01369863, 0.        , 0.        , 0.        , 0.02739726,\n",
       "        0.8630137 , 0.06849315, 0.        , 0.02739726]),\n",
       " 824: array([0.01570681, 0.        , 0.        , 0.02094241, 0.03141361,\n",
       "        0.64397906, 0.10471204, 0.        , 0.18324607]),\n",
       " 825: array([0.01357466, 0.        , 0.        , 0.02262443, 0.02714932,\n",
       "        0.62443439, 0.11312217, 0.        , 0.19909502]),\n",
       " 826: array([0.03125, 0.     , 0.     , 0.     , 0.03125, 0.28125, 0.65625,\n",
       "        0.     , 0.     ]),\n",
       " 124754: array([0.    , 0.    , 0.    , 0.0625, 0.    , 0.375 , 0.0625, 0.    ,\n",
       "        0.5   ]),\n",
       " 827: array([0.        , 0.11111111, 0.        , 0.        , 0.11111111,\n",
       "        0.77777778, 0.        , 0.        , 0.        ]),\n",
       " 828: array([0.01960784, 0.        , 0.        , 0.        , 0.07843137,\n",
       "        0.70588235, 0.07843137, 0.        , 0.11764706]),\n",
       " 829: array([0.        , 0.11111111, 0.        , 0.        , 0.11111111,\n",
       "        0.66666667, 0.11111111, 0.        , 0.        ]),\n",
       " 831: array([0.02941176, 0.02941176, 0.        , 0.05882353, 0.        ,\n",
       "        0.55882353, 0.26470588, 0.        , 0.05882353]),\n",
       " 832: array([0.02702703, 0.        , 0.        , 0.        , 0.        ,\n",
       "        0.16216216, 0.7027027 , 0.        , 0.10810811]),\n",
       " 833: array([0. , 0. , 0. , 0. , 0. , 0.3, 0.6, 0. , 0.1]),\n",
       " 834: array([0.        , 0.        , 0.        , 0.        , 0.        ,\n",
       "        0.30769231, 0.53846154, 0.        , 0.15384615]),\n",
       " 835: array([0.        , 0.06896552, 0.        , 0.        , 0.01724138,\n",
       "        0.12068966, 0.75862069, 0.        , 0.03448276]),\n",
       " 836: array([0.        , 0.        , 0.        , 0.02777778, 0.06018519,\n",
       "        0.73148148, 0.125     , 0.        , 0.05555556]),\n",
       " 837: array([0.02564103, 0.        , 0.        , 0.12820513, 0.02564103,\n",
       "        0.74358974, 0.07692308, 0.        , 0.        ]),\n",
       " 838: array([0.01315789, 0.        , 0.        , 0.        , 0.03947368,\n",
       "        0.88157895, 0.05263158, 0.        , 0.01315789]),\n",
       " 839: array([0.        , 0.        , 0.        , 0.        , 0.        ,\n",
       "        0.91666667, 0.        , 0.04166667, 0.04166667]),\n",
       " 840: array([0.01492537, 0.        , 0.        , 0.01492537, 0.02985075,\n",
       "        0.43283582, 0.47761194, 0.        , 0.02985075]),\n",
       " 841: array([0.        , 0.        , 0.        , 0.06666667, 0.06666667,\n",
       "        0.46666667, 0.4       , 0.        , 0.        ]),\n",
       " 842: array([0.    , 0.    , 0.    , 0.    , 0.    , 0.9375, 0.0625, 0.    ,\n",
       "        0.    ]),\n",
       " 843: array([0.04545455, 0.        , 0.        , 0.        , 0.04545455,\n",
       "        0.27272727, 0.63636364, 0.        , 0.        ]),\n",
       " 844: array([0.        , 0.01587302, 0.        , 0.01587302, 0.06349206,\n",
       "        0.38888889, 0.48412698, 0.        , 0.03174603]),\n",
       " 845: array([0., 0., 0., 0., 0., 1., 0., 0., 0.]),\n",
       " 846: array([0.008, 0.   , 0.   , 0.   , 0.   , 0.096, 0.864, 0.   , 0.032]),\n",
       " 847: array([0.        , 0.02298851, 0.        , 0.01149425, 0.        ,\n",
       "        0.17241379, 0.77011494, 0.        , 0.02298851]),\n",
       " 848: array([0.        , 0.        , 0.        , 0.01515152, 0.06060606,\n",
       "        0.76515152, 0.10606061, 0.        , 0.0530303 ]),\n",
       " 849: array([0.        , 0.        , 0.        , 0.06451613, 0.06451613,\n",
       "        0.83870968, 0.03225806, 0.        , 0.        ]),\n",
       " 850: array([0.        , 0.        , 0.        , 0.02222222, 0.02222222,\n",
       "        0.37777778, 0.26666667, 0.        , 0.31111111]),\n",
       " 852: array([0., 0., 0., 0., 0., 1., 0., 0., 0.]),\n",
       " 853: array([0.        , 0.        , 0.        , 0.        , 0.23076923,\n",
       "        0.38461538, 0.30769231, 0.        , 0.07692308]),\n",
       " 854: array([0., 0., 0., 0., 0., 1., 0., 0., 0.]),\n",
       " 855: array([0.        , 0.        , 0.        , 0.        , 0.33333333,\n",
       "        0.33333333, 0.33333333, 0.        , 0.        ]),\n",
       " 856: array([0.        , 0.        , 0.02222222, 0.        , 0.        ,\n",
       "        0.75555556, 0.17777778, 0.        , 0.04444444]),\n",
       " 857: array([0.07692308, 0.        , 0.        , 0.        , 0.        ,\n",
       "        0.69230769, 0.15384615, 0.        , 0.07692308]),\n",
       " 858: array([0.        , 0.        , 0.        , 0.04347826, 0.        ,\n",
       "        0.69565217, 0.2173913 , 0.        , 0.04347826]),\n",
       " 860: array([0.11111111, 0.        , 0.        , 0.        , 0.        ,\n",
       "        0.22222222, 0.66666667, 0.        , 0.        ]),\n",
       " 861: array([0.07142857, 0.        , 0.        , 0.        , 0.        ,\n",
       "        0.28571429, 0.57142857, 0.        , 0.07142857]),\n",
       " 862: array([0., 0., 0., 0., 0., 1., 0., 0., 0.]),\n",
       " 863: array([0.01515152, 0.        , 0.        , 0.03030303, 0.01515152,\n",
       "        0.57575758, 0.33333333, 0.        , 0.03030303]),\n",
       " 864: array([0.        , 0.        , 0.        , 0.01754386, 0.        ,\n",
       "        0.90350877, 0.05263158, 0.        , 0.02631579]),\n",
       " 865: array([0.1, 0.1, 0. , 0. , 0.1, 0.6, 0.1, 0. , 0. ]),\n",
       " 867: array([0., 0., 0., 0., 0., 1., 0., 0., 0.]),\n",
       " 869: array([0.        , 0.        , 0.        , 0.04761905, 0.        ,\n",
       "        0.85714286, 0.04761905, 0.        , 0.04761905]),\n",
       " 870: array([0.        , 0.03759398, 0.        , 0.02255639, 0.0075188 ,\n",
       "        0.12030075, 0.7518797 , 0.        , 0.06015038]),\n",
       " 871: array([0.08333333, 0.        , 0.        , 0.08333333, 0.        ,\n",
       "        0.66666667, 0.16666667, 0.        , 0.        ]),\n",
       " 872: array([0.00869565, 0.        , 0.        , 0.0173913 , 0.04347826,\n",
       "        0.76521739, 0.04347826, 0.        , 0.12173913]),\n",
       " 873: array([0.        , 0.        , 0.        , 0.02040816, 0.02721088,\n",
       "        0.70748299, 0.10204082, 0.        , 0.14285714]),\n",
       " 874: array([0., 0., 0., 0., 0., 1., 0., 0., 0.]),\n",
       " 876: array([0.        , 0.01030928, 0.        , 0.01030928, 0.13402062,\n",
       "        0.27835052, 0.51546392, 0.        , 0.05154639]),\n",
       " 877: array([0.        , 0.        , 0.        , 0.        , 0.        ,\n",
       "        0.27272727, 0.68181818, 0.        , 0.04545455]),\n",
       " 878: array([0.        , 0.01369863, 0.        , 0.        , 0.05479452,\n",
       "        0.69863014, 0.09589041, 0.        , 0.1369863 ]),\n",
       " 879: array([0.01086957, 0.01086957, 0.        , 0.01086957, 0.06521739,\n",
       "        0.70652174, 0.09782609, 0.        , 0.09782609]),\n",
       " 880: array([0.        , 0.        , 0.        , 0.33333333, 0.        ,\n",
       "        0.66666667, 0.        , 0.        , 0.        ]),\n",
       " 881: array([0.        , 0.        , 0.        , 0.        , 0.        ,\n",
       "        0.875     , 0.04166667, 0.        , 0.08333333]),\n",
       " 882: array([0.        , 0.02290076, 0.        , 0.01526718, 0.        ,\n",
       "        0.16793893, 0.76335878, 0.        , 0.03053435]),\n",
       " 883: array([0.        , 0.        , 0.        , 0.        , 0.        ,\n",
       "        0.83333333, 0.16666667, 0.        , 0.        ]),\n",
       " 884: array([0.        , 0.        , 0.        , 0.        , 0.        ,\n",
       "        0.32307692, 0.26153846, 0.        , 0.41538462]),\n",
       " 885: array([0.        , 0.01886792, 0.        , 0.05660377, 0.01886792,\n",
       "        0.49056604, 0.35849057, 0.        , 0.05660377]),\n",
       " 886: array([0.04166667, 0.        , 0.        , 0.04166667, 0.04166667,\n",
       "        0.66666667, 0.20833333, 0.        , 0.        ]),\n",
       " 887: array([0.00263852, 0.0237467 , 0.        , 0.03430079, 0.03693931,\n",
       "        0.63060686, 0.1055409 , 0.        , 0.16622691]),\n",
       " 888: array([0.03333333, 0.        , 0.        , 0.        , 0.03333333,\n",
       "        0.23333333, 0.66666667, 0.        , 0.03333333]),\n",
       " 889: array([0.01818182, 0.        , 0.        , 0.01818182, 0.        ,\n",
       "        0.56363636, 0.32727273, 0.        , 0.07272727]),\n",
       " 890: array([0.01694915, 0.        , 0.        , 0.01694915, 0.        ,\n",
       "        0.54237288, 0.3559322 , 0.        , 0.06779661]),\n",
       " 891: array([0.01052632, 0.        , 0.        , 0.02105263, 0.01052632,\n",
       "        0.68421053, 0.23157895, 0.        , 0.04210526]),\n",
       " 893: array([0.01388889, 0.        , 0.        , 0.02777778, 0.05555556,\n",
       "        0.79166667, 0.06944444, 0.        , 0.04166667]),\n",
       " 894: array([0.        , 0.        , 0.        , 0.        , 0.06666667,\n",
       "        0.4       , 0.46666667, 0.        , 0.06666667]),\n",
       " 895: array([0.        , 0.01204819, 0.        , 0.15060241, 0.06024096,\n",
       "        0.22289157, 0.40963855, 0.        , 0.14457831]),\n",
       " 896: array([0.00520833, 0.00520833, 0.        , 0.046875  , 0.078125  ,\n",
       "        0.36979167, 0.390625  , 0.        , 0.10416667]),\n",
       " 897: array([0.0052356 , 0.02443281, 0.        , 0.06631763, 0.06631763,\n",
       "        0.27050611, 0.44153578, 0.0017452 , 0.12390925]),\n",
       " 898: array([0.01, 0.  , 0.  , 0.07, 0.01, 0.72, 0.14, 0.  , 0.05]),\n",
       " 899: array([0.        , 0.07692308, 0.        , 0.        , 0.15384615,\n",
       "        0.69230769, 0.        , 0.        , 0.07692308]),\n",
       " 900: array([0.        , 0.        , 0.        , 0.        , 0.        ,\n",
       "        0.83333333, 0.16666667, 0.        , 0.        ]),\n",
       " 901: array([0.02325581, 0.        , 0.        , 0.02325581, 0.        ,\n",
       "        0.51162791, 0.30232558, 0.        , 0.13953488]),\n",
       " 902: array([0.        , 0.        , 0.        , 0.07692308, 0.        ,\n",
       "        0.84615385, 0.07692308, 0.        , 0.        ]),\n",
       " 903: array([0.        , 0.        , 0.        , 0.03738318, 0.04672897,\n",
       "        0.87850467, 0.02803738, 0.        , 0.00934579]),\n",
       " 904: array([0.03571429, 0.        , 0.        , 0.07142857, 0.01785714,\n",
       "        0.57142857, 0.19642857, 0.        , 0.10714286]),\n",
       " 905: array([0.01086957, 0.        , 0.        , 0.0326087 , 0.0326087 ,\n",
       "        0.66304348, 0.06521739, 0.        , 0.19565217]),\n",
       " 906: array([0.01282051, 0.        , 0.        , 0.        , 0.02564103,\n",
       "        0.80769231, 0.11538462, 0.        , 0.03846154]),\n",
       " 907: array([0., 0., 0., 0., 0., 1., 0., 0., 0.]),\n",
       " 908: array([0.  , 0.  , 0.  , 0.  , 0.  , 0.75, 0.25, 0.  , 0.  ]),\n",
       " 909: array([0.01030928, 0.        , 0.        , 0.        , 0.05154639,\n",
       "        0.60824742, 0.17525773, 0.        , 0.15463918]),\n",
       " 910: array([0.        , 0.00689655, 0.        , 0.02758621, 0.04827586,\n",
       "        0.53103448, 0.20689655, 0.        , 0.17931034]),\n",
       " 911: array([0.00636943, 0.00636943, 0.        , 0.        , 0.06369427,\n",
       "        0.75159236, 0.08280255, 0.        , 0.08917197]),\n",
       " 912: array([0., 0., 0., 0., 0., 1., 0., 0., 0.]),\n",
       " 913: array([0.00740741, 0.        , 0.        , 0.01481481, 0.08888889,\n",
       "        0.67407407, 0.11851852, 0.        , 0.0962963 ]),\n",
       " 914: array([0.01030928, 0.        , 0.        , 0.        , 0.05154639,\n",
       "        0.74226804, 0.10309278, 0.        , 0.09278351]),\n",
       " 915: array([0.0625, 0.    , 0.    , 0.    , 0.    , 0.375 , 0.5625, 0.    ,\n",
       "        0.    ]),\n",
       " 916: array([0.        , 0.        , 0.        , 0.        , 0.        ,\n",
       "        0.88461538, 0.03846154, 0.        , 0.07692308]),\n",
       " 917: array([0.01851852, 0.        , 0.        , 0.01851852, 0.        ,\n",
       "        0.05555556, 0.88888889, 0.        , 0.01851852]),\n",
       " 918: array([0.        , 0.        , 0.        , 0.05555556, 0.02777778,\n",
       "        0.80555556, 0.02777778, 0.        , 0.08333333]),\n",
       " 919: array([0.        , 0.        , 0.        , 0.06666667, 0.1       ,\n",
       "        0.8       , 0.        , 0.        , 0.03333333]),\n",
       " 920: array([0.        , 0.        , 0.        , 0.08333333, 0.        ,\n",
       "        0.33333333, 0.5       , 0.        , 0.08333333]),\n",
       " 921: array([0.        , 0.        , 0.        , 0.07692308, 0.        ,\n",
       "        0.30769231, 0.38461538, 0.        , 0.23076923]),\n",
       " 922: array([0.        , 0.        , 0.        , 0.01162791, 0.01162791,\n",
       "        0.23255814, 0.37209302, 0.        , 0.37209302]),\n",
       " 923: array([0. , 0. , 0. , 0. , 0. , 0.5, 0.5, 0. , 0. ]),\n",
       " 924: array([0.        , 0.        , 0.        , 0.09090909, 0.        ,\n",
       "        0.36363636, 0.45454545, 0.        , 0.09090909]),\n",
       " 925: array([0., 0., 0., 0., 0., 1., 0., 0., 0.]),\n",
       " 926: array([0.01234568, 0.        , 0.        , 0.02469136, 0.02469136,\n",
       "        0.77777778, 0.14814815, 0.        , 0.01234568]),\n",
       " 927: array([0.  , 0.02, 0.  , 0.  , 0.04, 0.8 , 0.04, 0.  , 0.1 ]),\n",
       " 928: array([0. , 0. , 0. , 0. , 0. , 0.5, 0.5, 0. , 0. ]),\n",
       " 929: array([0.05, 0.  , 0.  , 0.05, 0.  , 0.25, 0.65, 0.  , 0.  ]),\n",
       " 930: array([0.008, 0.004, 0.   , 0.056, 0.092, 0.312, 0.432, 0.   , 0.096]),\n",
       " 931: array([0., 0., 0., 0., 0., 1., 0., 0., 0.]),\n",
       " 932: array([0.        , 0.11111111, 0.        , 0.        , 0.11111111,\n",
       "        0.77777778, 0.        , 0.        , 0.        ]),\n",
       " 934: array([0.        , 0.        , 0.        , 0.11111111, 0.11111111,\n",
       "        0.66666667, 0.11111111, 0.        , 0.        ]),\n",
       " 935: array([0.        , 0.        , 0.        , 0.03846154, 0.03846154,\n",
       "        0.76923077, 0.15384615, 0.        , 0.        ]),\n",
       " 936: array([0.00492611, 0.        , 0.        , 0.03448276, 0.01970443,\n",
       "        0.64039409, 0.13300493, 0.        , 0.16748768]),\n",
       " 937: array([0.01234568, 0.        , 0.01234568, 0.        , 0.04938272,\n",
       "        0.83950617, 0.04938272, 0.        , 0.03703704]),\n",
       " 938: array([0.02272727, 0.        , 0.        , 0.02272727, 0.02272727,\n",
       "        0.36363636, 0.52272727, 0.        , 0.04545455]),\n",
       " 940: array([0.        , 0.        , 0.        , 0.        , 0.        ,\n",
       "        0.5625    , 0.35416667, 0.        , 0.08333333]),\n",
       " 941: array([0.        , 0.00628931, 0.        , 0.01886792, 0.00628931,\n",
       "        0.19496855, 0.70440252, 0.        , 0.06918239]),\n",
       " 942: array([0.        , 0.        , 0.        , 0.33333333, 0.        ,\n",
       "        0.66666667, 0.        , 0.        , 0.        ]),\n",
       " 943: array([0.    , 0.    , 0.    , 0.    , 0.    , 0.8125, 0.0625, 0.    ,\n",
       "        0.125 ]),\n",
       " 944: array([0.02564103, 0.        , 0.        , 0.        , 0.07692308,\n",
       "        0.76923077, 0.05128205, 0.        , 0.07692308]),\n",
       " 945: array([0.        , 0.        , 0.        , 0.        , 0.04444444,\n",
       "        0.82222222, 0.13333333, 0.        , 0.        ]),\n",
       " 946: array([0.        , 0.        , 0.        , 0.        , 0.        ,\n",
       "        0.81818182, 0.18181818, 0.        , 0.        ]),\n",
       " 947: array([0.03333333, 0.        , 0.        , 0.06666667, 0.03333333,\n",
       "        0.3       , 0.46666667, 0.        , 0.1       ]),\n",
       " 948: array([0.  , 0.  , 0.  , 0.25, 0.  , 0.5 , 0.25, 0.  , 0.  ]),\n",
       " 950: array([0.02564103, 0.        , 0.02564103, 0.        , 0.        ,\n",
       "        0.66666667, 0.23076923, 0.        , 0.05128205]),\n",
       " 951: array([0.2, 0. , 0. , 0. , 0. , 0.8, 0. , 0. , 0. ]),\n",
       " 952: array([0.        , 0.        , 0.        , 0.01538462, 0.06153846,\n",
       "        0.76923077, 0.09230769, 0.        , 0.06153846]),\n",
       " 953: array([0.        , 0.        , 0.        , 0.        , 0.02380952,\n",
       "        0.95238095, 0.        , 0.        , 0.02380952]),\n",
       " 954: array([0., 0., 0., 0., 0., 1., 0., 0., 0.]),\n",
       " 955: array([0., 0., 0., 0., 0., 1., 0., 0., 0.]),\n",
       " 956: array([0.04545455, 0.        , 0.        , 0.04545455, 0.        ,\n",
       "        0.18181818, 0.72727273, 0.        , 0.        ]),\n",
       " 957: array([0.01503759, 0.        , 0.        , 0.04511278, 0.05263158,\n",
       "        0.63909774, 0.09774436, 0.        , 0.15037594]),\n",
       " 958: array([0.04761905, 0.        , 0.        , 0.        , 0.        ,\n",
       "        0.42857143, 0.52380952, 0.        , 0.        ]),\n",
       " 960: array([0.01408451, 0.        , 0.        , 0.        , 0.02816901,\n",
       "        0.87323944, 0.02816901, 0.        , 0.05633803]),\n",
       " 961: array([0.        , 0.        , 0.        , 0.        , 0.        ,\n",
       "        0.66666667, 0.33333333, 0.        , 0.        ]),\n",
       " 962: array([0.        , 0.        , 0.        , 0.        , 0.        ,\n",
       "        0.46153846, 0.46153846, 0.        , 0.07692308]),\n",
       " 963: array([0.        , 0.        , 0.        , 0.        , 0.        ,\n",
       "        0.26666667, 0.66666667, 0.        , 0.06666667]),\n",
       " 964: array([0., 0., 0., 0., 0., 1., 0., 0., 0.]),\n",
       " 965: array([0.        , 0.        , 0.        , 0.14285714, 0.        ,\n",
       "        0.85714286, 0.        , 0.        , 0.        ]),\n",
       " 966: array([0.        , 0.        , 0.        , 0.05882353, 0.05882353,\n",
       "        0.82352941, 0.        , 0.        , 0.05882353]),\n",
       " 967: array([0.00588235, 0.        , 0.        , 0.02352941, 0.02941176,\n",
       "        0.38235294, 0.49411765, 0.        , 0.06470588]),\n",
       " 968: array([0.00552486, 0.        , 0.        , 0.04972376, 0.02762431,\n",
       "        0.35911602, 0.46961326, 0.        , 0.08839779]),\n",
       " 969: array([0.00571429, 0.        , 0.        , 0.02857143, 0.02285714,\n",
       "        0.66857143, 0.16571429, 0.        , 0.10857143]),\n",
       " 970: array([0.01111111, 0.01111111, 0.        , 0.        , 0.03333333,\n",
       "        0.85555556, 0.05555556, 0.        , 0.03333333]),\n",
       " 971: array([0.        , 0.        , 0.        , 0.        , 0.01369863,\n",
       "        0.91780822, 0.05479452, 0.        , 0.01369863]),\n",
       " 972: array([0., 0., 0., 0., 0., 1., 0., 0., 0.]),\n",
       " 973: array([0.        , 0.        , 0.        , 0.        , 0.        ,\n",
       "        0.83333333, 0.08333333, 0.        , 0.08333333]),\n",
       " 974: array([0.        , 0.        , 0.        , 0.01960784, 0.        ,\n",
       "        0.54901961, 0.33333333, 0.        , 0.09803922]),\n",
       " 975: array([0.02564103, 0.        , 0.        , 0.07692308, 0.        ,\n",
       "        0.53846154, 0.30769231, 0.        , 0.05128205]),\n",
       " 976: array([0.        , 0.        , 0.        , 0.05405405, 0.02702703,\n",
       "        0.72972973, 0.08108108, 0.        , 0.10810811]),\n",
       " 977: array([0.        , 0.        , 0.        , 0.03448276, 0.03448276,\n",
       "        0.5862069 , 0.13793103, 0.        , 0.20689655]),\n",
       " 978: array([0.    , 0.    , 0.    , 0.    , 0.    , 0.3125, 0.625 , 0.    ,\n",
       "        0.0625]),\n",
       " 979: array([0.25, 0.  , 0.  , 0.  , 0.  , 0.5 , 0.  , 0.  , 0.25]),\n",
       " 980: array([0.        , 0.        , 0.        , 0.01123596, 0.06741573,\n",
       "        0.29213483, 0.56179775, 0.        , 0.06741573]),\n",
       " 981: array([0.        , 0.01111111, 0.        , 0.02222222, 0.01111111,\n",
       "        0.22222222, 0.66666667, 0.        , 0.06666667]),\n",
       " 982: array([0.        , 0.        , 0.        , 0.33333333, 0.        ,\n",
       "        0.66666667, 0.        , 0.        , 0.        ]),\n",
       " 983: array([0.        , 0.        , 0.        , 0.        , 0.        ,\n",
       "        0.84210526, 0.05263158, 0.        , 0.10526316]),\n",
       " 984: array([0.        , 0.01388889, 0.        , 0.00694444, 0.09027778,\n",
       "        0.63888889, 0.23611111, 0.        , 0.01388889]),\n",
       " 985: array([0.        , 0.00714286, 0.        , 0.00714286, 0.03571429,\n",
       "        0.52857143, 0.38571429, 0.        , 0.03571429]),\n",
       " 986: array([0.02702703, 0.        , 0.        , 0.02702703, 0.02702703,\n",
       "        0.83783784, 0.02702703, 0.        , 0.05405405]),\n",
       " 987: array([0.02941176, 0.        , 0.        , 0.        , 0.05882353,\n",
       "        0.79411765, 0.05882353, 0.        , 0.05882353]),\n",
       " 988: array([0.        , 0.        , 0.        , 0.        , 0.09090909,\n",
       "        0.8030303 , 0.09090909, 0.        , 0.01515152]),\n",
       " 989: array([0.        , 0.        , 0.        , 0.03174603, 0.03174603,\n",
       "        0.74603175, 0.04761905, 0.        , 0.14285714]),\n",
       " 990: array([0.        , 0.        , 0.        , 0.09090909, 0.        ,\n",
       "        0.27272727, 0.45454545, 0.        , 0.18181818]),\n",
       " 991: array([0.        , 0.        , 0.        , 0.        , 0.02222222,\n",
       "        0.93333333, 0.        , 0.        , 0.04444444]),\n",
       " 992: array([0.        , 0.        , 0.        , 0.        , 0.04761905,\n",
       "        0.95238095, 0.        , 0.        , 0.        ]),\n",
       " 993: array([0.02061856, 0.        , 0.        , 0.01030928, 0.07216495,\n",
       "        0.77319588, 0.08247423, 0.        , 0.04123711]),\n",
       " 995: array([0., 0., 0., 0., 0., 1., 0., 0., 0.]),\n",
       " 996: array([0.        , 0.        , 0.        , 0.        , 0.        ,\n",
       "        0.63636364, 0.18181818, 0.        , 0.18181818]),\n",
       " 997: array([0.        , 0.        , 0.        , 0.08333333, 0.        ,\n",
       "        0.83333333, 0.        , 0.        , 0.08333333]),\n",
       " 998: array([0.        , 0.        , 0.        , 0.07142857, 0.21428571,\n",
       "        0.35714286, 0.28571429, 0.        , 0.07142857]),\n",
       " 999: array([0.        , 0.        , 0.        , 0.        , 0.        ,\n",
       "        0.91666667, 0.08333333, 0.        , 0.        ]),\n",
       " 1000: array([0. , 0. , 0. , 0. , 0. , 0.9, 0. , 0. , 0.1]),\n",
       " 1001: array([0. , 0. , 0. , 0. , 0. , 0.7, 0.2, 0. , 0.1]),\n",
       " 1002: array([0.        , 0.        , 0.        , 0.02380952, 0.        ,\n",
       "        0.86904762, 0.07142857, 0.        , 0.03571429]),\n",
       " ...}"
      ]
     },
     "execution_count": 41,
     "metadata": {},
     "output_type": "execute_result"
    }
   ],
   "source": [
    "structural_track_embeddings"
   ]
  },
  {
   "cell_type": "code",
   "execution_count": 70,
   "id": "f319bea8",
   "metadata": {},
   "outputs": [
    {
     "name": "stdout",
     "output_type": "stream",
     "text": [
      "Total embeddings: 252013\n",
      "Embeddings with only one non-zero dimension: 81927 (32.51%)\n",
      "Embeddings with multiple non-zero dimensions: 170086 (67.49%)\n"
     ]
    }
   ],
   "source": [
    "# Count embeddings with only one non-zero dimension and those with multiple non-zero dimensions\n",
    "single_dimension_count = 0\n",
    "multiple_dimension_count = 0\n",
    "\n",
    "for embedding in structural_track_embeddings.values():\n",
    "    non_zero_dimensions = np.count_nonzero(embedding)\n",
    "    if non_zero_dimensions == 1:\n",
    "        single_dimension_count += 1\n",
    "    elif non_zero_dimensions > 1:\n",
    "        multiple_dimension_count += 1\n",
    "\n",
    "total_embeddings = len(structural_track_embeddings)\n",
    "\n",
    "print(f\"Total embeddings: {total_embeddings}\")\n",
    "print(f\"Embeddings with only one non-zero dimension: {single_dimension_count} ({single_dimension_count/total_embeddings:.2%})\")\n",
    "print(f\"Embeddings with multiple non-zero dimensions: {multiple_dimension_count} ({multiple_dimension_count/total_embeddings:.2%})\")\n"
   ]
  },
  {
   "cell_type": "code",
   "execution_count": 42,
   "id": "f23f559c-3e14-4436-83a8-d99d90f70d26",
   "metadata": {},
   "outputs": [],
   "source": [
    "with open('data/embeddings/structural_track_embeddings.pickle', 'wb') as f:\n",
    "    pickle.dump(structural_track_embeddings, f)"
   ]
  },
  {
   "cell_type": "markdown",
   "id": "e07d68dc-1176-4f4b-9853-3c591df8e874",
   "metadata": {},
   "source": [
    "#### Visualize Structural Track Embeddings"
   ]
  },
  {
   "cell_type": "code",
   "execution_count": 43,
   "id": "796875db-b987-4d6b-a375-666e3396e392",
   "metadata": {},
   "outputs": [],
   "source": [
    "from sklearn.manifold import TSNE\n",
    "import plotly.express as px\n",
    "\n",
    "\n",
    "def plot_track_embeddings_tsne_plotly(track_embeddings, node_community, song_id_name_dict, sample_size=1000):\n",
    "  \"\"\"\n",
    "  Plots a t-SNE visualization of a sample of track embeddings using Plotly, with song names in hover info.\n",
    "\n",
    "  Args:\n",
    "      track_embeddings: A dictionary where keys are track IDs and values are NumPy arrays representing consumption rate embeddings.\n",
    "      node_community: A dictionary where keys are node IDs (potentially user IDs) and values are community IDs.\n",
    "      song_id_name_dict: A dictionary where keys are track IDs and values are song names.\n",
    "      sample_size: Number of track embeddings to sample for visualization (default: 1000).\n",
    "  \"\"\"\n",
    "  # Sample track IDs and embeddings\n",
    "  sampled_tracks = np.random.choice(list(track_embeddings.keys()), sample_size)\n",
    "  sampled_embeddings = [track_embeddings[track] for track in sampled_tracks]\n",
    "\n",
    "  # Reshape embeddings into a 2D array (n_samples, n_features)\n",
    "  embeddings_array = np.stack(sampled_embeddings)  # Stack embeddings vertically\n",
    "\n",
    "  # Reduce dimensionality with t-SNE\n",
    "  tsne = TSNE(n_components=2, random_state=42)  # Adjust n_components and random_state as needed\n",
    "  tsne_data = tsne.fit_transform(embeddings_array)\n",
    "\n",
    "  # Extract colors based on node_community\n",
    "  colors = [node_community.get(track, 0) for track in sampled_tracks]  # Handle missing communities\n",
    "    \n",
    "  # Create a dictionary for hover information (including song names)\n",
    "  hover_data = {\"Track ID\": sampled_tracks, \"Community\": colors, \"Song Name\": [song_id_name_dict.get(t) for t in sampled_tracks]}\n",
    "\n",
    "  # Create a Plotly Express scatter plot\n",
    "  fig = px.scatter(x=tsne_data[:, 0], y=tsne_data[:, 1], color=colors,\n",
    "                   title=\"t-SNE Visualization of Track Embeddings (Sample)\", hover_data=hover_data)\n",
    "\n",
    "  # Update marker size (optional)\n",
    "  fig.update_traces(marker=dict(size=10))  # Adjust marker size as needed\n",
    "\n",
    "  # Set the layout size (optional)\n",
    "  fig.update_layout(width=1000, height=1000)  # Uncomment for 1000x1000 layout\n",
    "\n",
    "  # Show the Plotly figure\n",
    "  fig.show()\n"
   ]
  },
  {
   "cell_type": "code",
   "execution_count": 44,
   "id": "8b451d7e-022f-4262-9aff-d139b1cc817e",
   "metadata": {},
   "outputs": [
    {
     "data": {
      "application/vnd.plotly.v1+json": {
       "config": {
        "plotlyServerURL": "https://plot.ly"
       },
       "data": [
        {
         "customdata": [
          [
           158970,
           8,
           "Heaven"
          ],
          [
           245237,
           8,
           "Access Mike (failure to Connect)"
          ],
          [
           130958,
           4,
           "Magic"
          ],
          [
           1411,
           5,
           "The Ancient Commonsense of Things"
          ],
          [
           251650,
           8,
           "Old Days Born Anew"
          ],
          [
           62646,
           3,
           "Bells of New York City"
          ],
          [
           239598,
           6,
           "Picking Up the Pieces"
          ],
          [
           237768,
           5,
           "Canção das Antigas Amizades"
          ],
          [
           58858,
           7,
           "Mundo Novo"
          ],
          [
           116626,
           5,
           "The Great Escape (Carmen Rizzo Mix)"
          ],
          [
           248466,
           8,
           "Heaven Sent"
          ],
          [
           153787,
           5,
           "A Different Feeling"
          ],
          [
           68925,
           8,
           "Dolores"
          ],
          [
           241180,
           8,
           "Drop"
          ],
          [
           246755,
           3,
           "Master Of The Universe"
          ],
          [
           153011,
           4,
           "Two Days Short Tomorrow"
          ],
          [
           100576,
           8,
           "Lives ago, far away"
          ],
          [
           143748,
           5,
           "The Lost Art Of Goat Sacrificing"
          ],
          [
           58775,
           6,
           "Seventeen"
          ],
          [
           239936,
           8,
           "No Control"
          ],
          [
           186601,
           1,
           "Runaway"
          ],
          [
           244067,
           1,
           "O' Ancient World, Arise!"
          ],
          [
           83876,
           6,
           "Wear It Like a Crown"
          ],
          [
           87366,
           6,
           "Heaven Can Wait"
          ],
          [
           99516,
           5,
           "Dos soledades"
          ],
          [
           89506,
           5,
           "Gravity of Love [Judgement Day Club Mix]"
          ],
          [
           174932,
           4,
           "Sand"
          ],
          [
           130547,
           8,
           "Ghost Song"
          ],
          [
           188084,
           4,
           "Involved"
          ],
          [
           197709,
           4,
           "Public Service Announcement"
          ],
          [
           132935,
           5,
           "My Gun"
          ],
          [
           171149,
           8,
           "Nightly Cares"
          ],
          [
           89966,
           8,
           "Here Is Your Paradise"
          ],
          [
           129055,
           6,
           "True Love Will Find You In The End"
          ],
          [
           137975,
           3,
           "Never Will Be Mine"
          ],
          [
           112180,
           5,
           "Woman"
          ],
          [
           63980,
           3,
           "Salitre"
          ],
          [
           195870,
           8,
           "Lord Give Me a Sign"
          ],
          [
           102144,
           8,
           "J.P.R.I.P."
          ],
          [
           231757,
           3,
           "She Walks"
          ],
          [
           45199,
           4,
           "Скажи, Не Молчи"
          ],
          [
           132169,
           5,
           "Something to Rap About (feat. Tyler, The Creator)"
          ],
          [
           23231,
           6,
           "Accept and Embrace"
          ],
          [
           13218,
           5,
           "Early A.M. Attitude"
          ],
          [
           48260,
           5,
           "Paranormal Echoes"
          ],
          [
           9963,
           5,
           "The Thrill Is Gone"
          ],
          [
           205061,
           8,
           "Romance Ideal"
          ],
          [
           140971,
           4,
           "Listen to My Heart"
          ],
          [
           46542,
           5,
           "Medellín - Offer Nissim Madame X In The Sphinx"
          ],
          [
           176909,
           8,
           "Good King Wenceslas"
          ],
          [
           220480,
           5,
           "Hello My Future"
          ],
          [
           184733,
           5,
           "My Friend Marcus"
          ],
          [
           147569,
           1,
           "Вселенная бесконечна?"
          ],
          [
           127831,
           3,
           "Plastic Doll"
          ],
          [
           43992,
           8,
           "Renewal"
          ],
          [
           44714,
           8,
           "The Persuaded"
          ],
          [
           120965,
           4,
           "Music Is My Medication"
          ],
          [
           12458,
           8,
           "Her Way"
          ],
          [
           182862,
           5,
           "Burn in Hell"
          ],
          [
           232628,
           4,
           "Zero M2"
          ],
          [
           195796,
           5,
           "Getting Better - Remastered 2009"
          ],
          [
           128225,
           4,
           "Cannibal Resource"
          ],
          [
           179971,
           5,
           "Last Breath"
          ],
          [
           47171,
           8,
           "Rip This!"
          ],
          [
           136796,
           3,
           "Learnin' the Blues"
          ],
          [
           153251,
           5,
           "Piano Nono"
          ],
          [
           117068,
           8,
           "Nearly Dead Bat Make up"
          ],
          [
           23062,
           1,
           "Love It or Leave It"
          ],
          [
           100606,
           4,
           "Mother Mary"
          ],
          [
           180125,
           8,
           "Jessica"
          ],
          [
           70102,
           5,
           "Estrella"
          ],
          [
           179689,
           6,
           "Stella d'argento"
          ],
          [
           62462,
           3,
           "The Light from One"
          ],
          [
           76475,
           5,
           "Orfeo"
          ],
          [
           211722,
           3,
           "Fake Out"
          ],
          [
           73624,
           8,
           "Az Chi Begam"
          ],
          [
           209322,
           6,
           "Off Balance"
          ],
          [
           151528,
           8,
           "Promised Land Blues"
          ],
          [
           81095,
           6,
           "Botch Up and Die"
          ],
          [
           218341,
           1,
           "Deep Folk Song"
          ],
          [
           124285,
           3,
           "Elm"
          ],
          [
           75489,
           8,
           "Rubber Ball - Unpeeled"
          ],
          [
           98134,
           3,
           "Niiv"
          ],
          [
           36847,
           6,
           "My Name on a Car"
          ],
          [
           228981,
           6,
           "Looking For Someone"
          ],
          [
           123994,
           8,
           "Don't Talk (Put Your Head On My Shoulder) [Stereo]"
          ],
          [
           236458,
           4,
           "Dirty Little Thing"
          ],
          [
           158517,
           6,
           "Nobody to Love"
          ],
          [
           25442,
           5,
           "エレクトロ・ワールド"
          ],
          [
           150073,
           8,
           "The Games We Play"
          ],
          [
           192802,
           5,
           "Desire"
          ],
          [
           50659,
           8,
           "Somewhere North of Nashville"
          ],
          [
           145821,
           8,
           "Monte Castelo"
          ],
          [
           25265,
           5,
           "Dear G-d"
          ],
          [
           143575,
           7,
           "ripple"
          ],
          [
           63408,
           8,
           "O Amor Viajou"
          ],
          [
           209997,
           3,
           "Tamale"
          ],
          [
           119212,
           1,
           "We Are the Ones"
          ],
          [
           75171,
           5,
           "Down With My Baby"
          ],
          [
           95341,
           3,
           "I Could Have Stopped It"
          ],
          [
           100109,
           3,
           "Out Of Love"
          ],
          [
           192592,
           4,
           "How I Roll"
          ],
          [
           148538,
           5,
           "Mamichula - con Nicki Nicole"
          ],
          [
           33738,
           8,
           "Mausam"
          ],
          [
           177521,
           4,
           "ASL"
          ],
          [
           228384,
           6,
           "What Do You Take Me For?"
          ],
          [
           124835,
           5,
           "The Truth About Heaven"
          ],
          [
           7092,
           5,
           "I Think I'm Paranoid"
          ],
          [
           83471,
           4,
           "Chant No.1"
          ],
          [
           99067,
           1,
           "Pans Labyrinth Lullaby"
          ],
          [
           195930,
           6,
           "Smothered in Hugs"
          ],
          [
           109280,
           4,
           "Dreams Bleed On"
          ],
          [
           222211,
           4,
           "Bess' Sons"
          ],
          [
           130511,
           5,
           "Nobody's Perfect"
          ],
          [
           161501,
           5,
           "Taste of India"
          ],
          [
           15449,
           3,
           "Little Victories"
          ],
          [
           231702,
           8,
           "Me and You"
          ],
          [
           246364,
           8,
           "Happy People"
          ],
          [
           182430,
           5,
           "Guns for Show, Knives for a Pro"
          ],
          [
           199112,
           6,
           "Daybreak"
          ],
          [
           112195,
           5,
           "Dark Side"
          ],
          [
           213054,
           8,
           "Innocent Child"
          ],
          [
           95383,
           5,
           "A Mermaid's Tale (Deep ocean's mix)"
          ],
          [
           118933,
           4,
           "Chiaraluce"
          ],
          [
           36901,
           6,
           "The Gallery"
          ],
          [
           165156,
           5,
           "Estoy Aquí/Dónde Estás Corazón Medley - El Dorado World Tour Live"
          ],
          [
           122512,
           4,
           "crisis management"
          ],
          [
           171629,
           6,
           "Mood Indigo"
          ],
          [
           166936,
           6,
           "Psycho Love"
          ],
          [
           194853,
           8,
           "More Than A Dream"
          ],
          [
           144743,
           5,
           "Bitch"
          ],
          [
           201244,
           3,
           "Lose Your Smile"
          ],
          [
           212106,
           4,
           "Strings of Death"
          ],
          [
           204603,
           1,
           "Loveless Hearts"
          ],
          [
           71651,
           5,
           "Straight Ahead"
          ],
          [
           77895,
           6,
           "I Confess"
          ],
          [
           182328,
           5,
           "Re: They Have No Reflections"
          ],
          [
           130533,
           6,
           "Doomsday"
          ],
          [
           86165,
           6,
           "Fault Line"
          ],
          [
           20579,
           8,
           "Noisy Summer"
          ],
          [
           131700,
           6,
           "Mass Destruction"
          ],
          [
           153460,
           3,
           "Letter to Dana"
          ],
          [
           49903,
           4,
           "Sans cesse, mon chéri"
          ],
          [
           159769,
           5,
           "Static Resistance"
          ],
          [
           237512,
           5,
           "Po Dangum"
          ],
          [
           8893,
           5,
           "Rio Vermelho"
          ],
          [
           244094,
           5,
           "Blue Eyes Don't Lie"
          ],
          [
           55678,
           6,
           "Bye Bye Love"
          ],
          [
           232839,
           8,
           "Arcade (feat. FLETCHER)"
          ],
          [
           180052,
           6,
           "Baby Boomer"
          ],
          [
           14870,
           1,
           "What We Did Last Summer..."
          ],
          [
           12152,
           4,
           "Yearnin' Learnin'"
          ],
          [
           118307,
           4,
           "Sobb Story"
          ],
          [
           19155,
           4,
           "Cryin'"
          ],
          [
           18080,
           4,
           "Rüyalarda Buruşmuşum"
          ],
          [
           191263,
           3,
           "Last Night"
          ],
          [
           38385,
           8,
           "A Walk Along The Ganges"
          ],
          [
           197581,
           8,
           "Ain't Got You"
          ],
          [
           139773,
           5,
           "You Showed Me"
          ],
          [
           118142,
           4,
           "Тонем"
          ],
          [
           43250,
           8,
           "Benny"
          ],
          [
           106064,
           4,
           "Hole in My Head"
          ],
          [
           46089,
           5,
           "Light In Your Eyes"
          ],
          [
           66868,
           6,
           "Park Music"
          ],
          [
           116348,
           5,
           "The Wizard - 2014 Remaster"
          ],
          [
           12236,
           8,
           "Per Fare A Meno Di Te"
          ],
          [
           151511,
           1,
           "Valiente"
          ],
          [
           22583,
           1,
           "Don't Play With Guns"
          ],
          [
           220545,
           5,
           "El Caminos In The West"
          ],
          [
           232840,
           8,
           "Storytelling of Ravens"
          ],
          [
           229411,
           8,
           "Save the Children"
          ],
          [
           177531,
           4,
           "Do Not Look Down"
          ],
          [
           200893,
           8,
           "Still Standing (Feat. Ludacris)"
          ],
          [
           67731,
           5,
           "Adrenaline"
          ],
          [
           224634,
           3,
           "Thief"
          ],
          [
           4312,
           5,
           "Body Language (Intro)"
          ],
          [
           148508,
           5,
           "Yak"
          ],
          [
           223509,
           5,
           "Savior Complex"
          ],
          [
           248124,
           3,
           "AM"
          ],
          [
           37545,
           4,
           "Outside"
          ],
          [
           60016,
           4,
           "Funeral Song"
          ],
          [
           77732,
           4,
           "Money Money Money"
          ],
          [
           100714,
           4,
           "In the Sun"
          ],
          [
           17762,
           5,
           "Here We Go Again"
          ],
          [
           49706,
           5,
           "Christmas With You"
          ],
          [
           145320,
           4,
           "Per Aspera Ad Inferi"
          ],
          [
           109927,
           1,
           "World's Goin Down"
          ],
          [
           200328,
           5,
           "Past Time With Good Company"
          ],
          [
           182733,
           5,
           "Misterioso"
          ],
          [
           210659,
           5,
           "Fok Julie Naaiers"
          ],
          [
           85854,
           6,
           "I'll Never Love Again - Film Version - Radio Edit"
          ],
          [
           59240,
           5,
           "Falling of the Rain"
          ],
          [
           202403,
           4,
           "We Deal with the Freak'n (Intermission)"
          ],
          [
           68857,
           1,
           "Firmamento (Wrong Girl To Play With)"
          ],
          [
           116508,
           4,
           "Discovery"
          ],
          [
           37746,
           4,
           "Harbour"
          ],
          [
           128358,
           8,
           "Give a Little Bit"
          ],
          [
           65296,
           3,
           "Saints & Sinners"
          ],
          [
           67154,
           4,
           "Whisper"
          ],
          [
           66802,
           5,
           "What Do I Do Now"
          ],
          [
           25097,
           1,
           "Slaughter killing carnage (The meaning of words)"
          ],
          [
           25053,
           4,
           "Riff Raff"
          ],
          [
           165024,
           8,
           "Born on a Horse"
          ],
          [
           163728,
           6,
           "I Am a River"
          ],
          [
           147011,
           1,
           "Bought a Bride"
          ],
          [
           42509,
           4,
           "This River Deep"
          ],
          [
           85603,
           8,
           "Elaine Brown (Interlude)"
          ],
          [
           43079,
           6,
           "The Blankout Agreement"
          ],
          [
           12547,
           8,
           "I Just Want to Make It New With You"
          ],
          [
           156331,
           6,
           "Summerlong"
          ],
          [
           213752,
           5,
           "Tootsee Roll"
          ],
          [
           58099,
           8,
           "Cigarettes"
          ],
          [
           144443,
           3,
           "Put Your Hearts Up"
          ],
          [
           72237,
           5,
           "Beautiful Thorn"
          ],
          [
           179086,
           6,
           "You May Emerge from This More Dead Than Alive"
          ],
          [
           156851,
           4,
           "The Ballad Of Curtis Loew"
          ],
          [
           53514,
           8,
           "Communique"
          ],
          [
           38859,
           8,
           "Dalliance"
          ],
          [
           53688,
           6,
           "Butterbean"
          ],
          [
           243265,
           8,
           "Honeymoon Suite"
          ],
          [
           183107,
           4,
           "The Numbers Game"
          ],
          [
           129692,
           6,
           "No Line on the Horizon"
          ],
          [
           115737,
           5,
           "Scaldron"
          ],
          [
           235352,
           6,
           "All Or Nothing"
          ],
          [
           218590,
           4,
           "Due destini"
          ],
          [
           124398,
           8,
           "Shoot You Down (Remastered)"
          ],
          [
           190416,
           8,
           "Las Pequeñas Cosas"
          ],
          [
           223362,
           8,
           "Até Ao Verão"
          ],
          [
           39951,
           1,
           "There Is No Day"
          ],
          [
           53855,
           0,
           "Amazing Grace"
          ],
          [
           132403,
           3,
           "Gremlins"
          ],
          [
           48568,
           5,
           "Chinook"
          ],
          [
           103438,
           4,
           "Dying Breed"
          ],
          [
           128435,
           4,
           "We Cry"
          ],
          [
           114027,
           5,
           "Earthbound"
          ],
          [
           184497,
           6,
           "Some Die Young"
          ],
          [
           104279,
           6,
           "Verum Aeternus"
          ],
          [
           164339,
           3,
           "Uncanny"
          ],
          [
           201563,
           6,
           "Elements"
          ],
          [
           154261,
           5,
           "Custom Concern"
          ],
          [
           41624,
           5,
           "Herringbone"
          ],
          [
           149532,
           5,
           "Change The World"
          ],
          [
           26697,
           3,
           "Regarde"
          ],
          [
           111835,
           6,
           "The Dark Ages"
          ],
          [
           210750,
           4,
           "Make The World Go Away"
          ],
          [
           58709,
           0,
           "Book of Love"
          ],
          [
           145667,
           4,
           "Roll Credits"
          ],
          [
           18913,
           3,
           "Six Cold Feet"
          ],
          [
           202866,
           8,
           "The Patriarch"
          ],
          [
           35460,
           6,
           "Laredo"
          ],
          [
           81672,
           3,
           "Hoje é Dia de Maldade"
          ],
          [
           96927,
           4,
           "Force Fed"
          ],
          [
           35268,
           6,
           "Break"
          ],
          [
           139870,
           6,
           "Movin' Out (Anthony's Song)"
          ],
          [
           197997,
           5,
           "I Need This"
          ],
          [
           229394,
           6,
           "Better To Be Loved"
          ],
          [
           43168,
           5,
           "My Fair Lady"
          ],
          [
           203350,
           8,
           "I Think It Is Beautiful That You Are 256 Colors Too"
          ],
          [
           100334,
           8,
           "49 Bye-Byes"
          ],
          [
           35134,
           4,
           "Bad Kidneys"
          ],
          [
           218586,
           5,
           "Spellbound"
          ],
          [
           222891,
           6,
           "Plastic Girl"
          ],
          [
           145318,
           4,
           "Infestissumam"
          ],
          [
           245562,
           4,
           "Sotm"
          ],
          [
           110194,
           4,
           "Sunday Glide"
          ],
          [
           213657,
           8,
           "Wild Sex (In The Working Class)"
          ],
          [
           2262,
           6,
           "Charmer"
          ],
          [
           251152,
           5,
           "So Glad"
          ],
          [
           33196,
           6,
           "Road Head"
          ],
          [
           5017,
           5,
           "Eu Vou Lá"
          ],
          [
           233584,
           3,
           "Seen Your Video"
          ],
          [
           68835,
           5,
           "Caroline Shut Up"
          ],
          [
           63984,
           6,
           "Esperanza"
          ],
          [
           65939,
           4,
           "This Ship Was Built To Last"
          ],
          [
           91571,
           4,
           "I'm Your Bass Creator"
          ],
          [
           108835,
           4,
           "Bones and Born Again"
          ],
          [
           195301,
           3,
           "I'll Remember You"
          ],
          [
           66064,
           8,
           "Undercover Angel"
          ],
          [
           70574,
           5,
           "...Coda"
          ],
          [
           228325,
           8,
           "Los Bajos Vibran En Mi Pecho"
          ],
          [
           52879,
           8,
           "Tanto (I Want You)"
          ],
          [
           21050,
           4,
           "untitled 05 09.21.2014."
          ],
          [
           3142,
           4,
           "Hello"
          ],
          [
           1580,
           3,
           "Horchata"
          ],
          [
           106877,
           8,
           "Run for Home"
          ],
          [
           240880,
           8,
           "Love Bomb"
          ],
          [
           38666,
           4,
           "If I Could"
          ],
          [
           63070,
           5,
           "Please Read Me"
          ],
          [
           91882,
           4,
           "How Do I Let Go"
          ],
          [
           48209,
           6,
           "Crooked"
          ],
          [
           119055,
           1,
           "Autumn Leaves"
          ],
          [
           83567,
           8,
           "Volta Bebê, Volta Neném"
          ],
          [
           70230,
           3,
           "Thieves In The Temple"
          ],
          [
           117900,
           5,
           "19 (feat. Gustavo Cerati)"
          ],
          [
           95077,
           6,
           "Harmonics"
          ],
          [
           49942,
           6,
           "Still Fly"
          ],
          [
           38180,
           5,
           "The Fall"
          ],
          [
           103856,
           8,
           "The Return of Jackie and Judy"
          ],
          [
           10954,
           5,
           "Drunk in Love"
          ],
          [
           25602,
           5,
           "Cast a Shadow"
          ],
          [
           246827,
           5,
           "Bones"
          ],
          [
           20003,
           8,
           "Till I'm Gone (feat. Wiz Khalifa)"
          ],
          [
           233441,
           8,
           "Colder Heavens"
          ],
          [
           26283,
           5,
           "Tamiflop 2"
          ],
          [
           102634,
           4,
           "King Of Sodom And Gomorrah"
          ],
          [
           25733,
           3,
           "Aural Pleasure"
          ],
          [
           114051,
           3,
           "Fallin"
          ],
          [
           58052,
           4,
           "What I Can Give You"
          ],
          [
           92751,
           3,
           "Be With You"
          ],
          [
           227958,
           8,
           "The Thanks I Get"
          ],
          [
           131466,
           5,
           "The Zookeeper's Boy"
          ],
          [
           94683,
           6,
           "Firecracker"
          ],
          [
           128536,
           6,
           "Shadow"
          ],
          [
           235278,
           8,
           "Dream Lover"
          ],
          [
           188909,
           8,
           "Festina lente"
          ],
          [
           10363,
           5,
           "Who Wants to Live Forever"
          ],
          [
           50606,
           1,
           "Devolva-Me - ao vivo"
          ],
          [
           81872,
           4,
           "Seu Polícia - Ao Vivo"
          ],
          [
           64529,
           3,
           "Sweet Cheetah"
          ],
          [
           193026,
           5,
           "Work from Home (feat. Ty Dolla $ign)"
          ],
          [
           241638,
           5,
           "Make Me Lose Control"
          ],
          [
           173524,
           5,
           "Queer Fellow"
          ],
          [
           216606,
           8,
           "Newman"
          ],
          [
           59894,
           8,
           "Love Song #2"
          ],
          [
           68250,
           4,
           "Crisis"
          ],
          [
           185949,
           5,
           "Decadence Dance"
          ],
          [
           85698,
           4,
           "Lovers Never Die"
          ],
          [
           230233,
           6,
           "Wanna Get To Know You"
          ],
          [
           135327,
           5,
           "To Hell & Back Again"
          ],
          [
           70179,
           4,
           "Home"
          ],
          [
           210678,
           8,
           "Trátame Suavemente - Remasterizado 2007"
          ],
          [
           193667,
           5,
           "Seventeen"
          ],
          [
           106299,
           4,
           "One Time"
          ],
          [
           115197,
           6,
           "Parabatu"
          ],
          [
           60575,
           6,
           "Infinite Rotation"
          ],
          [
           180945,
           8,
           "Say Something (Featuring Drake)"
          ],
          [
           176769,
           8,
           "Loves Boy"
          ],
          [
           100324,
           8,
           "In My Own Words"
          ],
          [
           46551,
           5,
           "Tones Of Town"
          ],
          [
           239666,
           6,
           "Metrópole"
          ],
          [
           193956,
           4,
           "IOIO"
          ],
          [
           216790,
           8,
           "One Fine Day"
          ],
          [
           46541,
           4,
           "Living For Love - Live"
          ],
          [
           25745,
           5,
           "Infierno"
          ],
          [
           84355,
           4,
           "Hello It's Me"
          ],
          [
           249476,
           8,
           "Rennen"
          ],
          [
           98570,
           8,
           "Pujari Vision"
          ],
          [
           29446,
           4,
           "Only the Strong Survive"
          ],
          [
           115160,
           6,
           "Some Bizarre"
          ],
          [
           196023,
           6,
           "I don't wanna"
          ],
          [
           34368,
           6,
           "Stasera mi butto"
          ],
          [
           59080,
           3,
           "Heavy Flow"
          ],
          [
           244348,
           8,
           "Sworn to the Black"
          ],
          [
           84627,
           8,
           "Some Kinda Love (live)"
          ],
          [
           12060,
           8,
           "I Crush Everything"
          ],
          [
           201125,
           3,
           "Trans 7"
          ],
          [
           82732,
           8,
           "Bird In A Gale"
          ],
          [
           93207,
           8,
           "Saturnine"
          ],
          [
           66280,
           6,
           "Could You Be Loved"
          ],
          [
           52923,
           8,
           "Untitled"
          ],
          [
           32733,
           6,
           "What a Diff'rence a Day Makes"
          ],
          [
           120343,
           6,
           "Spiral Tower"
          ],
          [
           93350,
           8,
           "Love Won't Wait"
          ],
          [
           155897,
           6,
           "Don't Hate Me"
          ],
          [
           223182,
           5,
           "Darya"
          ],
          [
           213270,
           1,
           "Separate"
          ],
          [
           237182,
           5,
           "I'll Get My Just Deserve"
          ],
          [
           53934,
           4,
           "Precious Memories"
          ],
          [
           192487,
           5,
           "Hypnotic - Vanic Remix"
          ],
          [
           197807,
           6,
           "Turning Corners"
          ],
          [
           199783,
           6,
           "Before You Hit The Ground"
          ],
          [
           244456,
           1,
           "Cake"
          ],
          [
           207298,
           8,
           "garbagemx"
          ],
          [
           84842,
           5,
           "Clout (feat. 21 Savage)"
          ],
          [
           77843,
           4,
           "Let It Roll"
          ],
          [
           45667,
           4,
           "5am"
          ],
          [
           234943,
           4,
           "Underneath the Waves"
          ],
          [
           103393,
           4,
           "Mick's Blessings"
          ],
          [
           44212,
           5,
           "At the Stake"
          ],
          [
           85336,
           6,
           "Deaths Head Mask"
          ],
          [
           190793,
           4,
           "If I Only Had the Heart"
          ],
          [
           246833,
           5,
           "Restless (Original Mix)"
          ],
          [
           66338,
           8,
           "The Boho Dance"
          ],
          [
           57381,
           6,
           "Nothing Was Delivered"
          ],
          [
           193242,
           5,
           "Stay The Night"
          ],
          [
           64364,
           8,
           "Quetzalcoatl"
          ],
          [
           78835,
           3,
           "Начало"
          ],
          [
           41032,
           8,
           "Garden"
          ],
          [
           26370,
           8,
           "Hot and Cold"
          ],
          [
           211471,
           8,
           "Forever"
          ],
          [
           82383,
           6,
           "The Illness (Album Mix)"
          ],
          [
           192518,
           5,
           "Next To You"
          ],
          [
           175791,
           6,
           "Riguarda Noi"
          ],
          [
           18187,
           4,
           "Circle Of Shit"
          ],
          [
           239203,
           6,
           "New North-Side Air"
          ],
          [
           131364,
           6,
           "Prayer"
          ],
          [
           127653,
           8,
           "Singing Softly To Me"
          ],
          [
           191892,
           5,
           "Yarilo"
          ],
          [
           61860,
           3,
           "Bachata En Fukuoka"
          ],
          [
           105238,
           3,
           "Smuggler's Blues"
          ],
          [
           227390,
           4,
           "Vai e Vem"
          ],
          [
           109031,
           4,
           "me inhibe"
          ],
          [
           56008,
           6,
           "Summer Jam 2003 - Remix"
          ],
          [
           203755,
           8,
           "Disfraz de tigre"
          ],
          [
           89555,
           4,
           "Apologize"
          ],
          [
           35614,
           8,
           "4 o'Clock"
          ],
          [
           11108,
           5,
           "Heaven and Hell"
          ],
          [
           27274,
           5,
           "Mouth"
          ],
          [
           134337,
           8,
           "Get Lucky"
          ],
          [
           42979,
           5,
           "J'Ai Peur Parfois"
          ],
          [
           146020,
           3,
           "Dear Dictator"
          ],
          [
           3968,
           5,
           "Will You Dance"
          ],
          [
           233498,
           6,
           "Anchors Aweigh"
          ],
          [
           128469,
           5,
           "The Feel Good Drag"
          ],
          [
           43828,
           5,
           "Unbalanced Pieces"
          ],
          [
           65688,
           4,
           "Isn't It A Pity"
          ],
          [
           143971,
           5,
           "Endless Armageddon"
          ],
          [
           223939,
           5,
           "Dead Love"
          ],
          [
           243657,
           3,
           "Skarakesh"
          ],
          [
           97814,
           8,
           "Eclipse"
          ],
          [
           154885,
           4,
           "Lock Groove"
          ],
          [
           66535,
           3,
           "Frip Job"
          ],
          [
           76343,
           5,
           "Wonderful Witches"
          ],
          [
           143695,
           8,
           "Only Got One"
          ],
          [
           55179,
           5,
           "Please Don't Talk About Me When I'm Gone"
          ],
          [
           104359,
           5,
           "Only Love (Jerome Isma-Ae remix)"
          ],
          [
           182703,
           8,
           "Come to Me High"
          ],
          [
           33113,
           6,
           "Horus The Chorus"
          ],
          [
           117233,
           6,
           "Blaze of the Grail"
          ],
          [
           91759,
           6,
           "The Thief"
          ],
          [
           220018,
           6,
           "Father Time"
          ],
          [
           2812,
           6,
           "Good Time"
          ],
          [
           9916,
           5,
           "Televators"
          ],
          [
           129556,
           8,
           "Window Blues"
          ],
          [
           74281,
           4,
           "Limousine"
          ],
          [
           132110,
           8,
           "Third Confluence"
          ],
          [
           7740,
           5,
           "Bang Bang (My Baby Shot Me Down)"
          ],
          [
           219461,
           8,
           "Rever"
          ],
          [
           239436,
           4,
           "Rising Power"
          ],
          [
           212739,
           1,
           "Spend A Lifetime"
          ],
          [
           110716,
           6,
           "Pennies from Heaven"
          ],
          [
           189656,
           8,
           "Lowdown"
          ],
          [
           107949,
           8,
           "Xmas Curtain"
          ],
          [
           174675,
           4,
           "Contradiction"
          ],
          [
           172529,
           6,
           "The Happiest Christmas Tree"
          ],
          [
           157601,
           3,
           "Declaration of War"
          ],
          [
           82186,
           5,
           "Ragtime Cat (feat. Lilja Bloom)"
          ],
          [
           121405,
           5,
           "You Kill Me"
          ],
          [
           245174,
           5,
           "Beeline"
          ],
          [
           71382,
           8,
           "Thinkin' One Thing And Doin' Another"
          ],
          [
           239392,
           4,
           "Drive On"
          ],
          [
           241640,
           5,
           "Bump It"
          ],
          [
           132886,
           8,
           "Oh Yeah"
          ],
          [
           232822,
           4,
           "Loading Zones"
          ],
          [
           227125,
           1,
           "Christmas Is Coming Soon"
          ],
          [
           97072,
           3,
           "Slowpoke"
          ],
          [
           125095,
           8,
           "Condom of Hate"
          ],
          [
           139482,
           3,
           "Quítame Ese Hombre Del Corazón - Norteña Version"
          ],
          [
           14102,
           5,
           "Big Girl Now"
          ],
          [
           192716,
           6,
           "Do My Thang"
          ],
          [
           36969,
           3,
           "Hunnerkongens Sorgsvarte Ferd Over Steppene"
          ],
          [
           30157,
           5,
           "Sinner's Prayer"
          ],
          [
           42042,
           4,
           "Introspect"
          ],
          [
           169350,
           6,
           "'S Wonderful"
          ],
          [
           126704,
           6,
           "Disposition"
          ],
          [
           47805,
           5,
           "Bird Set Free - Live from The Village"
          ],
          [
           103907,
           5,
           "Tic Tic Tic It Wears Off"
          ],
          [
           44020,
           8,
           "Sectarian"
          ],
          [
           4918,
           6,
           "Boys and Diamonds"
          ],
          [
           179743,
           4,
           "Be My Guest"
          ],
          [
           82567,
           4,
           "Döpt I Oheligt Vatten"
          ],
          [
           26194,
           4,
           "Roxxy"
          ],
          [
           181839,
           0,
           "Venceremos"
          ],
          [
           159573,
           6,
           "Come Un Eroe Della Marvel"
          ],
          [
           119560,
           6,
           "Black Country"
          ],
          [
           24780,
           8,
           "Tick Tock"
          ],
          [
           169076,
           8,
           "Stick with You"
          ],
          [
           84319,
           8,
           "So Frail"
          ],
          [
           146373,
           2,
           "Leaders of the Free World"
          ],
          [
           49071,
           4,
           "Here And There"
          ],
          [
           214110,
           5,
           "Brother"
          ],
          [
           221052,
           8,
           "Push It"
          ],
          [
           123089,
           8,
           "Opposition"
          ],
          [
           208503,
           4,
           "(You Keep Me) Hangin' On"
          ],
          [
           122101,
           0,
           "En El Jardín De La Duermevela"
          ],
          [
           115876,
           3,
           "Alright (DJ Tonk Remix)"
          ],
          [
           106015,
           8,
           "Foreign Country"
          ],
          [
           2833,
           5,
           "Wake Me Up"
          ],
          [
           164819,
           6,
           "Hopelessly Addicted"
          ],
          [
           142096,
           4,
           "The Fly"
          ],
          [
           42433,
           6,
           "Endlich am Ziel"
          ],
          [
           155993,
           8,
           "Bloodhounds On My Trail"
          ],
          [
           74436,
           4,
           "Unravel"
          ],
          [
           104492,
           3,
           "Arrival / The Intention Craft"
          ],
          [
           156477,
           6,
           "I Walk Alone"
          ],
          [
           35110,
           6,
           "Focus Shall Not Fail"
          ],
          [
           169264,
           4,
           "Firehouse"
          ],
          [
           54681,
           4,
           "Don't Let Me Go"
          ],
          [
           190456,
           5,
           "Ya No Quiero"
          ],
          [
           69513,
           8,
           "Proteggi questo tuo ragazzo"
          ],
          [
           63926,
           1,
           "Return To The Sun"
          ],
          [
           60836,
           5,
           "Give Me All Night"
          ],
          [
           247804,
           4,
           "History Never Repeats"
          ],
          [
           127904,
           6,
           "Give It Away"
          ],
          [
           124360,
           6,
           "I'll Be Waiting"
          ],
          [
           1025,
           3,
           "Merry Happy"
          ],
          [
           94111,
           4,
           "Innocence (feat. AlunaGeorge)"
          ],
          [
           65541,
           6,
           "Tal Coat - Remastered 2004"
          ],
          [
           219793,
           5,
           "Big Dipper"
          ],
          [
           250944,
           5,
           "Arrows"
          ],
          [
           179347,
           5,
           "Pond Song"
          ],
          [
           52654,
           5,
           "Greyhound Bound For Nowhere"
          ],
          [
           183358,
           3,
           "Dramastically Different"
          ],
          [
           168543,
           8,
           "Memories"
          ],
          [
           213384,
           4,
           "Dying Breed"
          ],
          [
           149324,
           4,
           "Butterfly"
          ],
          [
           21006,
           6,
           "Feed The Addiction"
          ],
          [
           15708,
           5,
           "There Are Good Guys, Bad Guys, And Me"
          ],
          [
           241417,
           5,
           "Death or Jail"
          ],
          [
           11348,
           7,
           "How Fare the Gods?"
          ],
          [
           200762,
           5,
           "Yalla Chant"
          ],
          [
           94523,
           3,
           "La Fille Du Père Noël"
          ],
          [
           212101,
           8,
           "The Unbreakable"
          ],
          [
           100289,
           8,
           "Spring But Dark"
          ],
          [
           59217,
           1,
           "Gentle Earthquakes"
          ],
          [
           163528,
           3,
           "Can't Say No"
          ],
          [
           251130,
           4,
           "Moonlight Rendezvous"
          ],
          [
           175749,
           8,
           "Night Like This (feat. Kendall Schmidt)"
          ],
          [
           76678,
           8,
           "Say What You Will"
          ],
          [
           69482,
           8,
           "Everyday"
          ],
          [
           180448,
           5,
           "Mask"
          ],
          [
           59146,
           6,
           "Chicago"
          ],
          [
           151547,
           4,
           "Xanadu"
          ],
          [
           116019,
           6,
           "Into my arms"
          ],
          [
           57277,
           6,
           "Dynamite"
          ],
          [
           47121,
           8,
           "Angels Too Tied To The Ground"
          ],
          [
           90980,
           4,
           "Biting Bullets"
          ],
          [
           216903,
           5,
           "C'mon C'mon"
          ],
          [
           52637,
           6,
           "Aquarela do Brasil"
          ],
          [
           6211,
           5,
           "Buddy Holly"
          ],
          [
           14172,
           6,
           "Not That Beautiful"
          ],
          [
           106919,
           5,
           "Killers & Kings"
          ],
          [
           171605,
           5,
           "Sofa Rockers (Richard Dorfmeister Remix)"
          ],
          [
           108425,
           8,
           "Dusted"
          ],
          [
           178229,
           6,
           "Do Your Duty"
          ],
          [
           58844,
           4,
           "Sunshine, Lollipops And Rainbows"
          ],
          [
           170919,
           5,
           "#SELFIE - Caked Up Remix"
          ],
          [
           4422,
           5,
           "Saturday Sun"
          ],
          [
           242427,
           6,
           "(They Long To Be) Close To You"
          ],
          [
           33566,
           5,
           "Teen Years"
          ],
          [
           154831,
           1,
           "Cherokee"
          ],
          [
           125152,
           4,
           "Rain Dance"
          ],
          [
           244441,
           4,
           "Life Cycles"
          ],
          [
           205275,
           8,
           "Bang to Rights"
          ],
          [
           115096,
           5,
           "Wieża radości, wieża samotności"
          ],
          [
           196508,
           8,
           "Swamp"
          ],
          [
           133744,
           5,
           "Sara Smile"
          ],
          [
           70003,
           5,
           "Bye Bye Love"
          ],
          [
           81958,
           3,
           "At the River (Bliss Mix)"
          ],
          [
           119077,
           3,
           "Cries From a Restless Soul"
          ],
          [
           204871,
           4,
           "Bound Away"
          ],
          [
           241708,
           6,
           "I Will See You In Far-Off Places"
          ],
          [
           206835,
           5,
           "It Ain't Easy"
          ],
          [
           27209,
           8,
           "Radioactive"
          ],
          [
           23223,
           3,
           "Lullaby"
          ],
          [
           680,
           4,
           "It's My Own Cheating Heart That Makes Me Cry"
          ],
          [
           64265,
           6,
           "Unutamadim"
          ],
          [
           138190,
           4,
           "Mistakes"
          ],
          [
           235509,
           3,
           "Daniel"
          ],
          [
           248404,
           4,
           "Hurt"
          ],
          [
           41152,
           8,
           "Apartment 5F"
          ],
          [
           2281,
           6,
           "Unstoppable"
          ],
          [
           208840,
           4,
           "Think Nothing About It"
          ],
          [
           43833,
           5,
           "The Great Escape"
          ],
          [
           227896,
           5,
           "Twin Rivers"
          ],
          [
           68308,
           5,
           "Boten Anna - Radio Edit"
          ],
          [
           196023,
           6,
           "I don't wanna"
          ],
          [
           207414,
           5,
           "Advent"
          ],
          [
           88977,
           8,
           "One Day Like This"
          ],
          [
           69090,
           5,
           "Renegades"
          ],
          [
           14234,
           5,
           "Keep the Change"
          ],
          [
           77240,
           6,
           "Bubblin' In the Cut"
          ],
          [
           179290,
           5,
           "Unrockbar"
          ],
          [
           197108,
           5,
           "Lightning Man"
          ],
          [
           185118,
           1,
           "The Season"
          ],
          [
           198151,
           6,
           "Monstar"
          ],
          [
           163983,
           5,
           "TG4M"
          ],
          [
           140345,
           8,
           "Shuffle A Dream"
          ],
          [
           34320,
           8,
           "Randy Scouse Git"
          ],
          [
           78542,
           6,
           "O Que Vem Depois (Ao Vivo)"
          ],
          [
           192282,
           6,
           "Izzit True What They Tell Me"
          ],
          [
           106328,
           5,
           "Jah, Jah, Jah, Jah, Jah"
          ],
          [
           86581,
           5,
           "What A Day"
          ],
          [
           159537,
           6,
           "For Annabelle"
          ],
          [
           27564,
           3,
           "African Drug"
          ],
          [
           251186,
           3,
           "Permanent Heartbreak"
          ],
          [
           215960,
           5,
           "Somewhere In The Night"
          ],
          [
           214591,
           8,
           "Quando O Galo Cantou"
          ],
          [
           206441,
           5,
           "Bitters & Absolut"
          ],
          [
           92590,
           8,
           "Cry and Smile"
          ],
          [
           4506,
           5,
           "Love Like A River"
          ],
          [
           40194,
           5,
           "Szumila liszczyna"
          ],
          [
           165571,
           6,
           "Kill the DJ (feat. Massive Attack)"
          ],
          [
           146690,
           5,
           "My Week Beats Your Year"
          ],
          [
           173847,
           4,
           "Drunk On Shadows"
          ],
          [
           62979,
           5,
           "Storybook Love"
          ],
          [
           123502,
           3,
           "Brown Paper Bag"
          ],
          [
           65896,
           0,
           "War Is Over"
          ],
          [
           230613,
           1,
           "El Amor Coloca"
          ],
          [
           41164,
           3,
           "Flashpoint"
          ],
          [
           228193,
           3,
           "Waiting for Kirsten"
          ],
          [
           45161,
           4,
           "A Little Bit of Soul"
          ],
          [
           10066,
           5,
           "Billie Holiday"
          ],
          [
           82010,
           4,
           "Tennessee Pusher"
          ],
          [
           55791,
           0,
           "Señor and the Queen"
          ],
          [
           198207,
           6,
           "The Jet Set"
          ],
          [
           212689,
           1,
           "Varsovie"
          ],
          [
           185810,
           6,
           "Deceptacon"
          ],
          [
           190512,
           3,
           "The Spirit Of Giving"
          ],
          [
           151642,
           4,
           "Turn Loose The Doves"
          ],
          [
           94440,
           5,
           "Himmelblau"
          ],
          [
           227672,
           6,
           "Fernet Tastes Good"
          ],
          [
           103644,
           8,
           "Before the Poison"
          ],
          [
           203741,
           3,
           "The Hangman"
          ],
          [
           218058,
           6,
           "Names Mean Nothing"
          ],
          [
           63063,
           6,
           "Me Falta El Aliento"
          ],
          [
           6300,
           8,
           "Sympathy for the Devil"
          ],
          [
           19521,
           6,
           "Gekommen Um Zu Bleiben"
          ],
          [
           217848,
           5,
           "Intestinal Incubation"
          ],
          [
           129158,
           6,
           "Poppin' Champagne"
          ],
          [
           243678,
           3,
           "J'Adore Hardcore"
          ],
          [
           105833,
           3,
           "Don't Rush"
          ],
          [
           104744,
           3,
           "The Wedding Samba"
          ],
          [
           170772,
           6,
           "Leather Jacket II"
          ],
          [
           52336,
           4,
           "Something"
          ],
          [
           26357,
           5,
           "без нас"
          ],
          [
           151464,
           1,
           "Integral Birth"
          ],
          [
           141620,
           5,
           "Magic Mountain"
          ],
          [
           187366,
           5,
           "Hymne"
          ],
          [
           137386,
           6,
           "Pesadilla"
          ],
          [
           784,
           5,
           "S.A.D. Light"
          ],
          [
           95870,
           8,
           "Enchantment"
          ],
          [
           22445,
           6,
           "Gold & Silver"
          ],
          [
           244759,
           1,
           "On My Mind"
          ],
          [
           215778,
           3,
           "Soul on Ice"
          ],
          [
           182261,
           4,
           "Peaceable Kingdom"
          ],
          [
           181343,
           5,
           "Plastic Plants"
          ],
          [
           15325,
           4,
           "Safe"
          ],
          [
           240029,
           4,
           "In the Acts of Violence"
          ],
          [
           247503,
           0,
           "Stone a Pig"
          ],
          [
           8391,
           5,
           "Carrusel"
          ],
          [
           35419,
           6,
           "One Million Years Ago"
          ],
          [
           106117,
           5,
           "Should've Known Better"
          ],
          [
           243180,
           1,
           "Keep On Walking"
          ],
          [
           251736,
           5,
           "U Make Me Wanna Drink More"
          ],
          [
           31684,
           5,
           "Comprei um Lança"
          ],
          [
           232659,
           5,
           "The Way"
          ],
          [
           40514,
           3,
           "Love Is The Future"
          ],
          [
           46544,
           4,
           "Candy Shop - Live"
          ],
          [
           94547,
           3,
           "House Work"
          ],
          [
           226475,
           6,
           "Human After All (Sebastian remix)"
          ],
          [
           245266,
           8,
           "Nothing Left to Say"
          ],
          [
           155094,
           5,
           "Nautica"
          ],
          [
           159455,
           5,
           "last"
          ],
          [
           219901,
           4,
           "Ulna"
          ],
          [
           131485,
           5,
           "Do You"
          ],
          [
           4171,
           5,
           "You Really Got a Hold on Me"
          ],
          [
           206910,
           5,
           "Pass This On - Shaken-Up Version"
          ],
          [
           200953,
           6,
           "Sweet Thing"
          ],
          [
           43399,
           1,
           "It's a Life"
          ],
          [
           20667,
           5,
           "Burnin' Sky"
          ],
          [
           138756,
           8,
           "She's My Winona"
          ],
          [
           18529,
           0,
           "Wir sind Kral"
          ],
          [
           220119,
           5,
           "Gilt Complex"
          ],
          [
           205940,
           4,
           "The Edge of Heaven"
          ],
          [
           234404,
           8,
           "Do I Make You Feel Shy?"
          ],
          [
           62548,
           8,
           "Remembrance Day"
          ],
          [
           59269,
           8,
           "Singular Indestructible Droid"
          ],
          [
           167162,
           8,
           "Over the Wall"
          ],
          [
           103406,
           4,
           "The Bastards, the Vultures, the Wolves"
          ],
          [
           24298,
           8,
           "That's What I Am"
          ],
          [
           937,
           5,
           "Strobe"
          ],
          [
           66019,
           8,
           "Escape"
          ],
          [
           94210,
           6,
           "Safe From Harm (Just A Dub)"
          ],
          [
           94801,
           3,
           "The Traitor"
          ],
          [
           187998,
           6,
           "Spend Your Life"
          ],
          [
           16241,
           6,
           "Bible Basher"
          ],
          [
           120709,
           5,
           "Love Is On The Way (Real Love)"
          ],
          [
           16419,
           4,
           "It Feels Good To Be Around You (Feat. Air France)"
          ],
          [
           85158,
           5,
           "Horny Hippies"
          ],
          [
           152715,
           8,
           "Higher"
          ],
          [
           31340,
           8,
           "Look But You Can't Touch"
          ],
          [
           104342,
           4,
           "Halloween"
          ],
          [
           11154,
           8,
           "Days Are Forgotten"
          ],
          [
           130501,
           6,
           "Visions of Gideon"
          ],
          [
           105908,
           4,
           "Get Carter"
          ],
          [
           191350,
           5,
           "Kyrie"
          ],
          [
           200305,
           6,
           "Keys to Imagination"
          ],
          [
           244748,
           3,
           "D'Estate"
          ],
          [
           69763,
           4,
           "In the Hall of the Mountain King"
          ],
          [
           213457,
           5,
           "He-Man"
          ],
          [
           154348,
           5,
           "Ol' Bunkhouse"
          ],
          [
           231270,
           5,
           "Skyscraper"
          ],
          [
           124263,
           8,
           "Dandy - Mono Mix"
          ],
          [
           104984,
           4,
           "Cyborg Bette"
          ],
          [
           95296,
           1,
           "Nothing"
          ],
          [
           69340,
           8,
           "She's Gone"
          ],
          [
           17538,
           4,
           "Reverence (Living in the Heart)"
          ],
          [
           225336,
           5,
           "Blood In My Eyes"
          ],
          [
           81628,
           8,
           "A Picture Postcard"
          ],
          [
           218043,
           8,
           "Stofstuktoon"
          ],
          [
           157448,
           5,
           "Cold War"
          ],
          [
           5619,
           5,
           "I Came as a Rat"
          ],
          [
           250390,
           3,
           "How To Lose A Girl"
          ],
          [
           151423,
           3,
           "My Own Life"
          ],
          [
           104526,
           8,
           "Derelict Days"
          ],
          [
           113337,
           5,
           "Benedicta es, caelorum regina"
          ],
          [
           59893,
           3,
           "Black & Blue"
          ],
          [
           66102,
           8,
           "Make Me Your Baby"
          ],
          [
           95664,
           5,
           "C11 H17 O2 N2 S Na"
          ],
          [
           72047,
           0,
           "S.H.E"
          ],
          [
           212715,
           4,
           "Selfish"
          ],
          [
           1503,
           5,
           "We Intertwined"
          ],
          [
           94762,
           8,
           "Rispetto"
          ],
          [
           181191,
           5,
           "Refazenda"
          ],
          [
           219963,
           5,
           "Rudy, A Message to You"
          ],
          [
           39430,
           3,
           "Let's Get Sick"
          ],
          [
           5028,
           5,
           "Problemas"
          ],
          [
           179389,
           3,
           "Lizzy"
          ],
          [
           67829,
           8,
           "Little Boxes"
          ],
          [
           113524,
           5,
           "Faye"
          ],
          [
           171196,
           6,
           "Brighter"
          ],
          [
           108369,
           5,
           "Wicked Game"
          ],
          [
           102170,
           5,
           "Songline"
          ],
          [
           128417,
           8,
           "Kill Rock 'n Roll"
          ],
          [
           221558,
           6,
           "Resource"
          ],
          [
           76278,
           8,
           "Read About Seymour"
          ],
          [
           207035,
           4,
           "Playing with Fire"
          ],
          [
           108259,
           3,
           "Girl"
          ],
          [
           9897,
           5,
           "Whip It"
          ],
          [
           205931,
           6,
           "I've Had Enough"
          ],
          [
           82230,
           4,
           "Thanks, Mr Jones"
          ],
          [
           176337,
           4,
           "I'll Remember April"
          ],
          [
           95481,
           5,
           "Black Embrace"
          ],
          [
           60921,
           6,
           "Andalucia"
          ],
          [
           106062,
           4,
           "Sentimental"
          ],
          [
           200409,
           8,
           "Phantom of the Opera Song"
          ],
          [
           239603,
           6,
           "Evenflow"
          ],
          [
           234181,
           3,
           "Buona Vita"
          ],
          [
           231741,
           8,
           "I Fall in Love Too Easliy"
          ],
          [
           50949,
           6,
           "Rhythm Is Love"
          ],
          [
           118302,
           5,
           "The Kettle Black"
          ],
          [
           250332,
           6,
           "Humannequin"
          ],
          [
           161063,
           8,
           "Out of Reach"
          ],
          [
           203340,
           4,
           "Deutschmaschine"
          ],
          [
           76552,
           4,
           "Sure"
          ],
          [
           116020,
           4,
           "Alô Paixão / Me Abraça / Bem Mais (You And Me) - Live"
          ],
          [
           75946,
           8,
           "One World"
          ],
          [
           226581,
           5,
           "Coloured Bedspread"
          ],
          [
           56161,
           6,
           "Suedehead - 2011 Remaster"
          ],
          [
           33561,
           4,
           "Closure"
          ],
          [
           151791,
           1,
           "Take"
          ],
          [
           161217,
           5,
           "How"
          ],
          [
           248516,
           8,
           "New Messiah"
          ],
          [
           197846,
           6,
           "Call on Me (radio edit)"
          ],
          [
           42168,
           4,
           "Sixteen Tons"
          ],
          [
           50977,
           6,
           "Forest Whitaker"
          ],
          [
           8558,
           5,
           "Chá-Chá-Chá"
          ],
          [
           168664,
           8,
           "Angels We Have Heard on High"
          ],
          [
           231175,
           6,
           "The Last Worthless Evening"
          ],
          [
           95030,
           8,
           "Today, Tomorrow, Forever"
          ],
          [
           160495,
           6,
           "Think"
          ],
          [
           130265,
           6,
           "Cupid's Trick"
          ],
          [
           170632,
           5,
           "Clube Da Esquina Nº2 - Acústico"
          ],
          [
           146403,
           8,
           "Be The Hero"
          ],
          [
           168643,
           5,
           "The Hazards of Love 2 (Wager All)"
          ],
          [
           116422,
           8,
           "Divine Wind"
          ],
          [
           110135,
           3,
           "Things Just Getting Good"
          ],
          [
           208302,
           4,
           "Everything Beautiful Is Far Away"
          ],
          [
           201887,
           3,
           "Head Honcho"
          ],
          [
           106643,
           4,
           "Anonymus"
          ],
          [
           124114,
           6,
           "El Techo De Mi Cuarto"
          ],
          [
           214546,
           4,
           "Never Tell"
          ],
          [
           116706,
           5,
           "Mandan Dink"
          ],
          [
           236327,
           4,
           "Want It With You"
          ],
          [
           214543,
           4,
           "Sweet Misery Blues"
          ],
          [
           96442,
           8,
           "Go to Hell"
          ],
          [
           28606,
           4,
           "Valerie - BBC Radio 1 Live Lounge"
          ],
          [
           120985,
           5,
           "Symphony of Destruction - Live"
          ],
          [
           245120,
           5,
           "Quiz Show"
          ],
          [
           244123,
           4,
           "La Rua Madureira"
          ],
          [
           106339,
           5,
           "Fight!"
          ],
          [
           61172,
           5,
           "Read It in Books"
          ],
          [
           110601,
           6,
           "Calling Old Friends"
          ],
          [
           107718,
           4,
           "Cubes"
          ],
          [
           80202,
           3,
           "DadBod"
          ],
          [
           45232,
           3,
           "Red Wine & Cigarettes"
          ],
          [
           30593,
           8,
           "Still Raining, Still Dreaming"
          ],
          [
           183064,
           5,
           "Euphoria"
          ],
          [
           89924,
           3,
           "Whisper On the Moors"
          ],
          [
           63072,
           6,
           "Don't Take All Night"
          ],
          [
           79322,
           6,
           "Big Foot"
          ],
          [
           239287,
           6,
           "Predators"
          ],
          [
           130541,
           8,
           "Pickled!"
          ],
          [
           51618,
           4,
           "Supermarket"
          ],
          [
           197557,
           5,
           "All Dead, All Dead"
          ],
          [
           45131,
           5,
           "Stranger"
          ],
          [
           32,
           4,
           "Six Weeks"
          ],
          [
           24641,
           5,
           "Exodus Damage"
          ],
          [
           119162,
           8,
           "If Only"
          ],
          [
           103887,
           5,
           "Sunflower"
          ],
          [
           161370,
           5,
           "Reinfo"
          ],
          [
           205606,
           8,
           "Dust In The Wind"
          ],
          [
           106389,
           8,
           "Hopper Jonnus Fang"
          ],
          [
           220673,
           5,
           "Sundara"
          ],
          [
           79958,
           8,
           "Set Me Free"
          ],
          [
           124642,
           6,
           "Kick Dat Bass"
          ],
          [
           196940,
           6,
           "Every Breath You Take - Remastered 2003"
          ],
          [
           76950,
           6,
           "ShiTe"
          ],
          [
           24415,
           6,
           "Shut Up & Kiss Me"
          ],
          [
           7823,
           6,
           "Spring And By Summer Fall"
          ],
          [
           22980,
           3,
           "Money"
          ],
          [
           13612,
           5,
           "Admiration"
          ],
          [
           160081,
           6,
           "Bad Sun"
          ],
          [
           36567,
           8,
           "All My Tears"
          ],
          [
           60415,
           4,
           "Violin Concerto in A Minor, BWV 1041: II. Andante"
          ],
          [
           192965,
           5,
           "Freak"
          ],
          [
           143198,
           4,
           "Veda"
          ],
          [
           64697,
           3,
           "Killed Our Love"
          ],
          [
           98984,
           6,
           "Underdose"
          ],
          [
           35557,
           5,
           "The Traveller"
          ],
          [
           108153,
           3,
           "Des Plumes dans la Tête (Variation 2)"
          ],
          [
           65526,
           4,
           "Ankle Deep"
          ],
          [
           84520,
           6,
           "Lend Me Some Light"
          ],
          [
           205550,
           5,
           "So What the Fuss"
          ],
          [
           127039,
           8,
           "Dear Darkness"
          ],
          [
           236945,
           4,
           "Weak"
          ],
          [
           71308,
           4,
           "The Lie Eternal"
          ],
          [
           89628,
           3,
           "Kuss Mich (Fellfrosch)"
          ],
          [
           214888,
           5,
           "Twentieth Century"
          ],
          [
           53721,
           6,
           "You'd Be so Nice to Come Home To"
          ],
          [
           236247,
           4,
           "Wife You Up"
          ],
          [
           189492,
           4,
           "Don't Tell Me You Love Me"
          ],
          [
           202569,
           3,
           "Night After Sidewalk"
          ],
          [
           201676,
           8,
           "Extracurricular"
          ],
          [
           75457,
           8,
           "Haydi Gel İçelim"
          ],
          [
           151282,
           5,
           "Heaven"
          ],
          [
           63786,
           4,
           "Hospital"
          ],
          [
           237030,
           8,
           "My Half"
          ],
          [
           56155,
           6,
           "Nobody Loves Us"
          ],
          [
           150662,
           3,
           "Borrowed Eyes"
          ],
          [
           224162,
           3,
           "Folon"
          ],
          [
           72392,
           8,
           "Save Me"
          ],
          [
           63730,
           3,
           "You Can't Catch Me - Single Version"
          ],
          [
           186353,
           8,
           "Look What You've Done"
          ],
          [
           38603,
           6,
           "Wormholes"
          ],
          [
           50426,
           8,
           "Od Srca"
          ],
          [
           113872,
           8,
           "St Exuberant"
          ],
          [
           22128,
           8,
           "Juodaan Viinaa"
          ],
          [
           8556,
           5,
           "Os Pilares Da Cultura"
          ],
          [
           175210,
           4,
           "TOES (feat. Lil Baby & Moneybagg Yo)"
          ],
          [
           182978,
           5,
           "Send Away The Tigers"
          ],
          [
           233666,
           4,
           "Che vita meravigliosa"
          ],
          [
           214042,
           5,
           "Moderation"
          ],
          [
           241796,
           6,
           "Lech"
          ],
          [
           190991,
           3,
           "What Your Soul Sings - 2006 Digital Remaster"
          ],
          [
           56387,
           6,
           "What Have You Done (acoustic)"
          ],
          [
           219029,
           5,
           "Make It Up"
          ],
          [
           9811,
           5,
           "Je veux"
          ],
          [
           10472,
           5,
           "Redemption Song"
          ],
          [
           71667,
           8,
           "RENDEZVOUS"
          ],
          [
           88322,
           5,
           "Hotel California"
          ],
          [
           122975,
           5,
           "Paperino"
          ],
          [
           5974,
           4,
           "Videotape"
          ],
          [
           68356,
           1,
           "(I Can't Get No) Satisfaction"
          ],
          [
           188596,
           5,
           "Aerie (Gang Of Eagles)"
          ],
          [
           54232,
           3,
           "Soul Shakedown Party"
          ],
          [
           222331,
           5,
           "Dance of Hope"
          ],
          [
           251655,
           8,
           "Opus Nocturne"
          ],
          [
           16346,
           4,
           "You"
          ],
          [
           48038,
           8,
           "Lost in Blue"
          ],
          [
           209752,
           4,
           "Misty Blue"
          ],
          [
           95752,
           3,
           "Is There Anybody Out There"
          ],
          [
           101995,
           4,
           "Slowly, Through a Vector"
          ],
          [
           79837,
           5,
           "Paradise Garage (DJ Eco Remix)"
          ],
          [
           61231,
           1,
           "White Christmas"
          ],
          [
           21088,
           3,
           "Feels LIke Letting Go"
          ],
          [
           15455,
           6,
           "L'amore acquatico"
          ],
          [
           116801,
           3,
           "Lejoninna"
          ],
          [
           120691,
           6,
           "Casualty"
          ],
          [
           171168,
           6,
           "We Are Not a Football Team"
          ],
          [
           173675,
           3,
           "Turn It Up"
          ],
          [
           125098,
           8,
           "Bad Blood"
          ],
          [
           146192,
           4,
           "Happiness in Your Face"
          ],
          [
           251576,
           3,
           "Nova (Daniel vs. Kris O'Neil Remix)"
          ],
          [
           213254,
           5,
           "Lonesome"
          ],
          [
           233905,
           8,
           "We All Know"
          ],
          [
           52270,
           5,
           "The Beat Goes On"
          ],
          [
           77982,
           8,
           "Blues De Cris"
          ],
          [
           74625,
           3,
           "Montreal"
          ],
          [
           32804,
           4,
           "We Give Up Sometimes"
          ],
          [
           161161,
           6,
           "Yeah! New York"
          ],
          [
           108822,
           5,
           "The Laughter"
          ],
          [
           183010,
           4,
           "Chain Sling"
          ],
          [
           60860,
           5,
           "Two Miles An Hour"
          ],
          [
           40337,
           4,
           "Burn Rubber"
          ],
          [
           60380,
           3,
           "Those Who Slay Together, Stay Together"
          ],
          [
           184937,
           6,
           "Goin' Home"
          ],
          [
           4655,
           5,
           "Money"
          ],
          [
           196311,
           6,
           "Mi Viejo"
          ],
          [
           185705,
           8,
           "Numb"
          ],
          [
           156539,
           4,
           "B Minor"
          ],
          [
           66086,
           6,
           "Cease"
          ],
          [
           235637,
           5,
           "Creatures of the Night"
          ],
          [
           160429,
           5,
           "Radio Bikini"
          ],
          [
           19457,
           6,
           "Faz Uma Loucura Por Mim"
          ],
          [
           36032,
           5,
           "Como El Agua"
          ],
          [
           23921,
           6,
           "Instagram"
          ],
          [
           51475,
           8,
           "Sign Your Name"
          ],
          [
           52124,
           8,
           "Reflection (2020) - From \"Mulan\""
          ],
          [
           67219,
           8,
           "Witch"
          ],
          [
           22966,
           4,
           "Unicorn In Uniform"
          ],
          [
           82367,
           6,
           "Reaching For The Sky"
          ],
          [
           182433,
           4,
           "Within the Mind"
          ],
          [
           12676,
           8,
           "Regina"
          ],
          [
           154376,
           5,
           "UR"
          ],
          [
           21471,
           5,
           "Carnival"
          ],
          [
           111965,
           4,
           "Mz.Hyde"
          ],
          [
           72283,
           5,
           "Selbstportrait mit Kater"
          ],
          [
           149462,
           6,
           "Coming Home"
          ],
          [
           140928,
           6,
           "Keep Time"
          ],
          [
           188559,
           4,
           "Bad Religion"
          ],
          [
           225945,
           3,
           "Capricorn"
          ],
          [
           217031,
           6,
           "A Trick of the Tail"
          ],
          [
           168111,
           8,
           "Tak 1"
          ],
          [
           221382,
           5,
           "process"
          ],
          [
           184051,
           6,
           "You Can't Have Friends"
          ],
          [
           131185,
           8,
           "Summer Sun"
          ],
          [
           7257,
           5,
           "Magdalena"
          ],
          [
           148109,
           5,
           "Crawling Back to You"
          ],
          [
           226025,
           8,
           "Circustance"
          ],
          [
           209816,
           4,
           "Passionate Friend"
          ],
          [
           209233,
           8,
           "Tired Of Being Alive"
          ],
          [
           114954,
           5,
           "I Did It for You"
          ],
          [
           172327,
           6,
           "Confident"
          ],
          [
           235106,
           4,
           "Presence of God"
          ],
          [
           103853,
           5,
           "Plan 9 Channel 7"
          ],
          [
           176259,
           8,
           "Vicious World"
          ],
          [
           164712,
           8,
           "Groovejet (If This Ain't Love) - 2020"
          ],
          [
           176414,
           5,
           "New Angel"
          ],
          [
           8766,
           6,
           "Antes de Tentar"
          ],
          [
           11201,
           6,
           "It Won't Be Long"
          ],
          [
           243872,
           6,
           "Family"
          ],
          [
           135434,
           4,
           "Ebethron"
          ],
          [
           237736,
           5,
           "Guayaquil city"
          ],
          [
           248761,
           8,
           "I Can't See You"
          ],
          [
           159082,
           4,
           "NTR"
          ],
          [
           157628,
           6,
           "Machine"
          ],
          [
           232718,
           4,
           "Dead To Rights"
          ],
          [
           73136,
           8,
           "Breathing Underwater"
          ],
          [
           130618,
           5,
           "The Space in Between"
          ],
          [
           155761,
           6,
           "Hallelujah California"
          ],
          [
           42921,
           5,
           "My Love Sees You"
          ],
          [
           66473,
           8,
           "To the Brink"
          ],
          [
           187667,
           5,
           "Mistur"
          ],
          [
           115296,
           4,
           "Around The World (la la la la la) [Radio Version]"
          ],
          [
           38799,
           3,
           "Smokey Places"
          ],
          [
           15380,
           8,
           "Watch Where You're Christopher Walken"
          ],
          [
           15754,
           5,
           "Open"
          ],
          [
           123022,
           5,
           "Road To Istanbul"
          ],
          [
           237349,
           6,
           "Supermassiccio"
          ],
          [
           16559,
           4,
           "Coast"
          ],
          [
           231371,
           4,
           "Idiot"
          ],
          [
           92626,
           3,
           "Knife"
          ],
          [
           5122,
           5,
           "Headlock"
          ],
          [
           235100,
           6,
           "Life After Death"
          ],
          [
           63978,
           6,
           "The Killing Words"
          ],
          [
           103458,
           3,
           "Black Fairy"
          ],
          [
           233281,
           6,
           "Fear in Flight"
          ],
          [
           178755,
           4,
           "Get High"
          ],
          [
           220380,
           4,
           "Help Me"
          ],
          [
           121852,
           8,
           "CO2"
          ],
          [
           132878,
           1,
           "Travesuras - Remix"
          ],
          [
           13019,
           5,
           "Upstream"
          ],
          [
           13110,
           4,
           "YOU AND I"
          ],
          [
           202174,
           6,
           "Styrofoam Meltdown"
          ],
          [
           36813,
           4,
           "Severed"
          ],
          [
           190903,
           3,
           "Male In Polvere"
          ],
          [
           45092,
           5,
           "Marry Me"
          ],
          [
           128181,
           4,
           "Afraid"
          ],
          [
           165462,
           5,
           "The Road Is A Grey Tape"
          ],
          [
           184392,
           6,
           "The Tree"
          ],
          [
           35361,
           8,
           "Poor Little City Boy"
          ],
          [
           39427,
           3,
           "Another Day"
          ],
          [
           238410,
           6,
           "Blue Moon"
          ],
          [
           147834,
           8,
           "I Won't Kneel"
          ],
          [
           144226,
           6,
           "Scent"
          ],
          [
           82665,
           3,
           "Move Like This"
          ],
          [
           120957,
           4,
           "Symphony Of Destruction (Demo)"
          ],
          [
           43739,
           8,
           "Samurai Samba"
          ]
         ],
         "hovertemplate": "x=%{x}<br>y=%{y}<br>Track ID=%{customdata[0]}<br>Community=%{customdata[1]}<br>Song Name=%{customdata[2]}<br>color=%{marker.color}<extra></extra>",
         "legendgroup": "",
         "marker": {
          "color": [
           8,
           8,
           4,
           5,
           8,
           3,
           6,
           5,
           7,
           5,
           8,
           5,
           8,
           8,
           3,
           4,
           8,
           5,
           6,
           8,
           1,
           1,
           6,
           6,
           5,
           5,
           4,
           8,
           4,
           4,
           5,
           8,
           8,
           6,
           3,
           5,
           3,
           8,
           8,
           3,
           4,
           5,
           6,
           5,
           5,
           5,
           8,
           4,
           5,
           8,
           5,
           5,
           1,
           3,
           8,
           8,
           4,
           8,
           5,
           4,
           5,
           4,
           5,
           8,
           3,
           5,
           8,
           1,
           4,
           8,
           5,
           6,
           3,
           5,
           3,
           8,
           6,
           8,
           6,
           1,
           3,
           8,
           3,
           6,
           6,
           8,
           4,
           6,
           5,
           8,
           5,
           8,
           8,
           5,
           7,
           8,
           3,
           1,
           5,
           3,
           3,
           4,
           5,
           8,
           4,
           6,
           5,
           5,
           4,
           1,
           6,
           4,
           4,
           5,
           5,
           3,
           8,
           8,
           5,
           6,
           5,
           8,
           5,
           4,
           6,
           5,
           4,
           6,
           6,
           8,
           5,
           3,
           4,
           1,
           5,
           6,
           5,
           6,
           6,
           8,
           6,
           3,
           4,
           5,
           5,
           5,
           5,
           6,
           8,
           6,
           1,
           4,
           4,
           4,
           4,
           3,
           8,
           8,
           5,
           4,
           8,
           4,
           5,
           6,
           5,
           8,
           1,
           1,
           5,
           8,
           8,
           4,
           8,
           5,
           3,
           5,
           5,
           5,
           3,
           4,
           4,
           4,
           4,
           5,
           5,
           4,
           1,
           5,
           5,
           5,
           6,
           5,
           4,
           1,
           4,
           4,
           8,
           3,
           4,
           5,
           1,
           4,
           8,
           6,
           1,
           4,
           8,
           6,
           8,
           6,
           5,
           8,
           3,
           5,
           6,
           4,
           8,
           8,
           6,
           8,
           4,
           6,
           5,
           6,
           4,
           8,
           8,
           8,
           1,
           0,
           3,
           5,
           4,
           4,
           5,
           6,
           6,
           3,
           6,
           5,
           5,
           5,
           3,
           6,
           4,
           0,
           4,
           3,
           8,
           6,
           3,
           4,
           6,
           6,
           5,
           6,
           5,
           8,
           8,
           4,
           5,
           6,
           4,
           4,
           4,
           8,
           6,
           5,
           6,
           5,
           3,
           5,
           6,
           4,
           4,
           4,
           3,
           8,
           5,
           8,
           8,
           4,
           4,
           3,
           8,
           8,
           4,
           5,
           4,
           6,
           1,
           8,
           3,
           5,
           6,
           6,
           5,
           8,
           5,
           5,
           5,
           8,
           8,
           5,
           4,
           3,
           3,
           4,
           3,
           8,
           5,
           6,
           6,
           8,
           8,
           5,
           1,
           4,
           3,
           5,
           5,
           5,
           8,
           8,
           4,
           5,
           4,
           6,
           5,
           4,
           8,
           5,
           4,
           6,
           6,
           8,
           8,
           8,
           5,
           6,
           4,
           8,
           4,
           5,
           4,
           8,
           8,
           4,
           6,
           6,
           6,
           3,
           8,
           8,
           8,
           3,
           8,
           8,
           6,
           8,
           6,
           6,
           8,
           6,
           5,
           1,
           5,
           4,
           5,
           6,
           6,
           1,
           8,
           5,
           4,
           4,
           4,
           4,
           5,
           6,
           4,
           5,
           8,
           6,
           5,
           8,
           3,
           8,
           8,
           8,
           6,
           5,
           6,
           4,
           6,
           6,
           8,
           5,
           3,
           3,
           4,
           4,
           6,
           8,
           4,
           8,
           5,
           5,
           8,
           5,
           3,
           5,
           6,
           5,
           5,
           4,
           5,
           5,
           3,
           8,
           4,
           3,
           5,
           8,
           5,
           5,
           8,
           6,
           6,
           6,
           6,
           6,
           5,
           8,
           4,
           8,
           5,
           8,
           4,
           1,
           6,
           8,
           8,
           4,
           6,
           3,
           5,
           5,
           5,
           8,
           4,
           5,
           8,
           4,
           1,
           3,
           8,
           3,
           5,
           6,
           3,
           5,
           4,
           6,
           6,
           5,
           5,
           8,
           6,
           4,
           4,
           4,
           0,
           6,
           6,
           8,
           8,
           8,
           2,
           4,
           5,
           8,
           8,
           4,
           0,
           3,
           8,
           5,
           6,
           4,
           6,
           8,
           4,
           3,
           6,
           6,
           4,
           4,
           5,
           8,
           1,
           5,
           4,
           6,
           6,
           3,
           4,
           6,
           5,
           5,
           5,
           5,
           3,
           8,
           4,
           4,
           6,
           5,
           5,
           7,
           5,
           3,
           8,
           8,
           1,
           3,
           4,
           8,
           8,
           8,
           5,
           6,
           4,
           6,
           6,
           8,
           4,
           5,
           6,
           5,
           6,
           5,
           5,
           8,
           6,
           4,
           5,
           5,
           6,
           5,
           1,
           4,
           4,
           8,
           5,
           8,
           5,
           5,
           3,
           3,
           4,
           6,
           5,
           8,
           3,
           4,
           6,
           4,
           3,
           4,
           8,
           6,
           4,
           5,
           5,
           5,
           6,
           5,
           8,
           5,
           5,
           6,
           5,
           5,
           1,
           6,
           5,
           8,
           8,
           6,
           6,
           5,
           5,
           6,
           3,
           3,
           5,
           8,
           5,
           8,
           5,
           5,
           6,
           5,
           4,
           5,
           3,
           0,
           1,
           3,
           3,
           4,
           5,
           4,
           0,
           6,
           1,
           6,
           3,
           4,
           5,
           6,
           8,
           3,
           6,
           6,
           8,
           6,
           5,
           6,
           3,
           3,
           3,
           6,
           4,
           5,
           1,
           5,
           5,
           6,
           5,
           8,
           6,
           1,
           3,
           4,
           5,
           4,
           4,
           0,
           5,
           6,
           5,
           1,
           5,
           5,
           5,
           3,
           4,
           3,
           6,
           8,
           5,
           5,
           4,
           5,
           5,
           5,
           6,
           1,
           5,
           8,
           0,
           5,
           4,
           8,
           8,
           8,
           8,
           4,
           8,
           5,
           8,
           6,
           3,
           6,
           6,
           5,
           4,
           5,
           8,
           8,
           4,
           8,
           6,
           4,
           5,
           6,
           3,
           4,
           5,
           5,
           5,
           8,
           4,
           1,
           8,
           4,
           5,
           8,
           8,
           5,
           5,
           3,
           3,
           8,
           5,
           3,
           8,
           5,
           0,
           4,
           5,
           8,
           5,
           5,
           3,
           5,
           3,
           8,
           5,
           6,
           5,
           5,
           8,
           6,
           8,
           4,
           3,
           5,
           6,
           4,
           4,
           5,
           6,
           4,
           8,
           6,
           3,
           8,
           6,
           5,
           6,
           8,
           4,
           4,
           4,
           8,
           5,
           6,
           4,
           1,
           5,
           8,
           6,
           4,
           6,
           5,
           8,
           6,
           8,
           6,
           6,
           5,
           8,
           5,
           8,
           3,
           4,
           3,
           4,
           6,
           4,
           5,
           4,
           4,
           8,
           4,
           5,
           5,
           4,
           5,
           5,
           6,
           4,
           3,
           3,
           8,
           5,
           3,
           6,
           6,
           6,
           8,
           4,
           5,
           5,
           4,
           5,
           8,
           5,
           5,
           8,
           8,
           5,
           8,
           6,
           6,
           6,
           6,
           6,
           3,
           5,
           6,
           8,
           4,
           5,
           4,
           3,
           6,
           5,
           3,
           4,
           6,
           5,
           8,
           4,
           4,
           3,
           5,
           6,
           4,
           4,
           3,
           8,
           8,
           5,
           4,
           8,
           6,
           3,
           3,
           8,
           3,
           8,
           6,
           8,
           8,
           8,
           5,
           4,
           5,
           4,
           5,
           6,
           3,
           6,
           5,
           5,
           5,
           8,
           5,
           5,
           4,
           1,
           5,
           3,
           5,
           8,
           4,
           8,
           4,
           3,
           4,
           5,
           1,
           3,
           6,
           3,
           6,
           6,
           3,
           8,
           4,
           3,
           5,
           8,
           5,
           8,
           3,
           4,
           6,
           5,
           4,
           5,
           4,
           3,
           6,
           5,
           6,
           8,
           4,
           6,
           5,
           5,
           6,
           5,
           6,
           8,
           8,
           8,
           4,
           6,
           4,
           8,
           5,
           5,
           4,
           5,
           6,
           6,
           4,
           3,
           6,
           8,
           5,
           6,
           8,
           5,
           5,
           8,
           4,
           8,
           5,
           6,
           4,
           5,
           8,
           8,
           5,
           6,
           6,
           6,
           4,
           5,
           8,
           4,
           6,
           4,
           8,
           5,
           6,
           5,
           8,
           5,
           4,
           3,
           8,
           5,
           5,
           6,
           4,
           4,
           3,
           5,
           6,
           6,
           3,
           6,
           4,
           4,
           8,
           1,
           5,
           4,
           6,
           4,
           3,
           5,
           4,
           5,
           6,
           8,
           3,
           6,
           8,
           6,
           3,
           4,
           8
          ],
          "coloraxis": "coloraxis",
          "size": 10,
          "symbol": "circle"
         },
         "mode": "markers",
         "name": "",
         "orientation": "v",
         "showlegend": false,
         "type": "scatter",
         "x": [
          -9.565064430236816,
          7.385573863983154,
          -12.294715881347656,
          18.767026901245117,
          -6.479943752288818,
          -19.032499313354492,
          -11.10340404510498,
          -7.311656951904297,
          -12.36256217956543,
          7.028011322021484,
          -11.566924095153809,
          12.954845428466797,
          3.33127498626709,
          11.81397819519043,
          8.444748878479004,
          15.4219970703125,
          5.498658657073975,
          -11.844392776489258,
          0.1685001701116562,
          0.1948142647743225,
          -18.76366424560547,
          7.765956878662109,
          -0.1611887663602829,
          -10.278792381286621,
          27.045650482177734,
          -12.450349807739258,
          0.8057075142860413,
          12.508212089538574,
          -10.973468780517578,
          -1.653139352798462,
          -14.55008602142334,
          15.82659912109375,
          -24.679962158203125,
          13.829885482788086,
          -20.184749603271484,
          24.834836959838867,
          25.272897720336914,
          3.491410732269287,
          26.32405662536621,
          4.659537315368652,
          0.36058327555656433,
          -7.416423797607422,
          2.4485666751861572,
          1.3243955373764038,
          15.82036018371582,
          -1.6119751930236816,
          -3.719745397567749,
          -6.252534866333008,
          -20.111936569213867,
          25.71141242980957,
          5.216009616851807,
          9.063578605651855,
          -8.537236213684082,
          -11.140059471130371,
          -15.402633666992188,
          10.585309028625488,
          4.745148181915283,
          2.9596288204193115,
          -11.302911758422852,
          13.739928245544434,
          6.136258602142334,
          18.741046905517578,
          -5.504860877990723,
          -7.105819225311279,
          -5.955755233764648,
          7.028011322021484,
          1.5600762367248535,
          -4.2203545570373535,
          26.227327346801758,
          -4.295543193817139,
          9.574466705322266,
          15.040645599365234,
          3.8696701526641846,
          4.659503936767578,
          18.767026901245117,
          -24.047151565551758,
          2.5045523643493652,
          1.0871773958206177,
          -8.968255996704102,
          3.521529197692871,
          28.603090286254883,
          -5.455957889556885,
          -12.78211498260498,
          14.97390365600586,
          -1.7301422357559204,
          15.796090126037598,
          -11.10340404510498,
          -13.046138763427734,
          -7.070383071899414,
          -14.330059051513672,
          -11.039484977722168,
          -11.976845741271973,
          -9.603428840637207,
          -4.745282173156738,
          -5.006682872772217,
          -11.629974365234375,
          -0.14378145337104797,
          2.495502471923828,
          2.80246901512146,
          -5.504922389984131,
          -18.37864112854004,
          -15.933685302734375,
          -18.55990219116211,
          9.216300964355469,
          -12.719498634338379,
          -19.56999969482422,
          -6.944055557250977,
          2.1967108249664307,
          27.767553329467773,
          -0.7708903551101685,
          18.821346282958984,
          -15.150715827941895,
          -24.047151565551758,
          -13.781034469604492,
          -8.938838005065918,
          -13.411800384521484,
          25.72770118713379,
          1.6079367399215698,
          -11.302911758422852,
          9.66262435913086,
          -14.195364952087402,
          -13.914116859436035,
          7.028011322021484,
          -24.047151565551758,
          -11.736334800720215,
          -18.943336486816406,
          6.350924491882324,
          1.32438063621521,
          -13.311694145202637,
          -3.3353583812713623,
          -0.9692609906196594,
          26.015262603759766,
          14.973097801208496,
          -12.558247566223145,
          5.36953067779541,
          5.498658657073975,
          -10.186902046203613,
          7.962125778198242,
          -12.366923332214355,
          27.263181686401367,
          -1.4234561920166016,
          -8.08584976196289,
          13.95706558227539,
          28.110746383666992,
          -21.483428955078125,
          -12.870391845703125,
          -11.044716835021973,
          -12.29764175415039,
          -11.9332275390625,
          27.45105743408203,
          6.350924491882324,
          3.4779229164123535,
          6.350924491882324,
          13.188817024230957,
          13.323714256286621,
          15.422036170959473,
          13.774412155151367,
          -20.502670288085938,
          6.817193984985352,
          7.028011322021484,
          5.575748443603516,
          26.626209259033203,
          12.377068519592285,
          -6.005663871765137,
          29.096900939941406,
          -18.698070526123047,
          -2.1050808429718018,
          2.495502471923828,
          27.7093563079834,
          -8.537209510803223,
          2.0954251289367676,
          -9.272241592407227,
          -12.103105545043945,
          4.226583957672119,
          -11.950703620910645,
          -7.368852615356445,
          5.496272087097168,
          7.577574729919434,
          -20.098682403564453,
          2.3552582263946533,
          -12.659588813781738,
          6.226260185241699,
          -10.982561111450195,
          -13.58317756652832,
          -11.978132247924805,
          -10.842296600341797,
          -0.021893488243222237,
          -16.617740631103516,
          9.525543212890625,
          2.5921478271484375,
          -12.993989944458008,
          -24.047151565551758,
          -2.2157986164093018,
          -7.168300628662109,
          -21.220813751220703,
          -11.622943878173828,
          -5.874080657958984,
          -5.455359935760498,
          -7.105819225311279,
          12.857601165771484,
          15.847931861877441,
          15.847931861877441,
          2.365478277206421,
          -3.551417827606201,
          -4.618621349334717,
          14.973097801208496,
          -19.702747344970703,
          11.128494262695312,
          -7.304159164428711,
          24.806228637695312,
          2.592776298522949,
          -5.455246448516846,
          -20.827289581298828,
          -0.021893488243222237,
          9.27010726928711,
          -5.249307155609131,
          -17.276594161987305,
          11.596009254455566,
          25.509681701660156,
          -14.74211597442627,
          9.42874813079834,
          2.0363526344299316,
          5.403756141662598,
          -19.236385345458984,
          -4.887996196746826,
          24.946624755859375,
          -8.961565971374512,
          0.9339622855186462,
          26.322908401489258,
          -12.297649383544922,
          15.421424865722656,
          3.0116522312164307,
          -0.7626829147338867,
          -10.045493125915527,
          6.32712984085083,
          -9.917000770568848,
          -1.7087712287902832,
          -6.999477386474609,
          6.119589805603027,
          16.86085319519043,
          26.679492950439453,
          5.210245132446289,
          6.32712984085083,
          26.063562393188477,
          -17.05570411682129,
          -17.05570411682129,
          10.310190200805664,
          -1.7955578565597534,
          -9.493169784545898,
          13.398731231689453,
          -19.64565086364746,
          -14.712979316711426,
          -14.377592086791992,
          -3.8251891136169434,
          -20.412273406982422,
          -21.328292846679688,
          25.033349990844727,
          15.1769437789917,
          -2.335404396057129,
          13.185078620910645,
          -12.026020050048828,
          -18.37864112854004,
          -10.194851875305176,
          7.2934393882751465,
          -24.679962158203125,
          -13.116584777832031,
          11.901616096496582,
          14.569477081298828,
          11.659825325012207,
          -2.5737106800079346,
          13.44309139251709,
          -14.859888076782227,
          0.7742571234703064,
          27.9095516204834,
          5.403756141662598,
          27.9095516204834,
          -12.006964683532715,
          -3.9371979236602783,
          5.36953067779541,
          27.222578048706055,
          -7.509429931640625,
          15.03455924987793,
          -12.506562232971191,
          11.57543659210205,
          -17.057674407958984,
          -19.143043518066406,
          -5.5652265548706055,
          13.185078620910645,
          9.573241233825684,
          6.972769737243652,
          -14.97011947631836,
          -15.296205520629883,
          0.774043083190918,
          26.838611602783203,
          -23.852872848510742,
          3.7290210723876953,
          4.887993812561035,
          2.52951717376709,
          -10.761214256286621,
          12.37707805633545,
          7.080323696136475,
          -19.315027236938477,
          -5.455729961395264,
          10.311002731323242,
          -12.670553207397461,
          4.619045257568359,
          4.73375940322876,
          -12.819385528564453,
          -8.662681579589844,
          12.377058982849121,
          9.935044288635254,
          -11.976978302001953,
          16.772531509399414,
          -7.556356430053711,
          3.331275224685669,
          -5.245217323303223,
          -11.147893905639648,
          -10.527256965637207,
          -12.025833129882812,
          -15.537454605102539,
          -9.711393356323242,
          11.553987503051758,
          14.97390079498291,
          -13.481464385986328,
          -6.551900386810303,
          -10.345354080200195,
          -19.702844619750977,
          5.570149898529053,
          -0.5125364065170288,
          15.785555839538574,
          9.840869903564453,
          14.28881549835205,
          5.923574924468994,
          4.143669605255127,
          -12.025629043579102,
          -12.839119911193848,
          25.761951446533203,
          -18.378679275512695,
          15.847931861877441,
          -15.215012550354004,
          10.597015380859375,
          -0.25686731934547424,
          -19.9204044342041,
          -9.329968452453613,
          -7.4163970947265625,
          -4.985644340515137,
          3.7731564044952393,
          -5.273550510406494,
          5.403756141662598,
          -15.296154975891113,
          -24.55711555480957,
          2.5381526947021484,
          -13.76659107208252,
          13.582651138305664,
          2.5361721515655518,
          10.310111045837402,
          -24.016342163085938,
          -13.942826271057129,
          -17.057151794433594,
          -23.852872848510742,
          3.684992790222168,
          -13.75096607208252,
          -21.4809513092041,
          -2.8769309520721436,
          -24.016342163085938,
          1.4982213973999023,
          -13.648557662963867,
          0.9339622855186462,
          24.817331314086914,
          0.9339662194252014,
          0.7742571234703064,
          -0.7243385314941406,
          6.2215495109558105,
          4.093043327331543,
          4.348321437835693,
          -21.151845932006836,
          16.357009887695312,
          -0.5127458572387695,
          -4.99100399017334,
          -15.344635963439941,
          -8.08674144744873,
          4.619045257568359,
          -11.977783203125,
          0.7740737199783325,
          -12.894712448120117,
          -8.69859504699707,
          -4.237280368804932,
          25.905378341674805,
          26.81575584411621,
          6.901679039001465,
          13.592434883117676,
          -11.273078918457031,
          -19.67222785949707,
          -13.68931770324707,
          -12.23872184753418,
          -9.921748161315918,
          13.63464641571045,
          -14.39151382446289,
          -9.444605827331543,
          -9.15946102142334,
          -8.961565971374512,
          27.706235885620117,
          -20.628192901611328,
          25.792570114135742,
          -22.004480361938477,
          -2.2913320064544678,
          -7.831301212310791,
          1.559543251991272,
          -5.504836082458496,
          27.218551635742188,
          -0.5103592872619629,
          9.841979026794434,
          -4.936974048614502,
          -7.22706413269043,
          10.548567771911621,
          -4.787502765655518,
          -4.237276077270508,
          16.046348571777344,
          6.182096004486084,
          -12.931046485900879,
          10.310989379882812,
          25.351343154907227,
          15.82036018371582,
          9.114557266235352,
          2.776048421859741,
          5.482561111450195,
          1.3244599103927612,
          -0.10325730592012405,
          -7.417407512664795,
          25.32390785217285,
          14.010162353515625,
          8.28022575378418,
          1.017107605934143,
          13.324342727661133,
          -21.417253494262695,
          3.2299585342407227,
          -0.23063668608665466,
          -20.52134895324707,
          -13.289155960083008,
          26.05149269104004,
          7.558926105499268,
          25.745935440063477,
          27.031259536743164,
          10.027307510375977,
          25.33685302734375,
          1.744867205619812,
          13.404465675354004,
          26.70328140258789,
          26.770198822021484,
          13.279343605041504,
          -2.5422258377075195,
          9.233264923095703,
          14.60063648223877,
          4.758051872253418,
          26.29593849182129,
          -17.05655288696289,
          -10.964956283569336,
          -19.971134185791016,
          -14.360910415649414,
          -15.843578338623047,
          -11.622943878173828,
          -4.599498748779297,
          2.828854560852051,
          -11.980463981628418,
          -4.5386962890625,
          -20.991039276123047,
          5.333948135375977,
          -19.627073287963867,
          25.15228271484375,
          -18.378232955932617,
          -14.05895709991455,
          7.727299213409424,
          -12.396252632141113,
          26.5251522064209,
          26.576698303222656,
          6.136258602142334,
          -20.143213272094727,
          -14.0068998336792,
          11.607595443725586,
          1.9311078786849976,
          12.467418670654297,
          2.1812376976013184,
          6.192368507385254,
          4.728902816772461,
          26.22838020324707,
          7.028011322021484,
          27.74032974243164,
          -9.764127731323242,
          -21.721561431884766,
          5.379056930541992,
          5.212003707885742,
          9.799625396728516,
          -5.454878330230713,
          -18.378273010253906,
          -13.196928977966309,
          -14.663595199584961,
          -7.484475612640381,
          -21.809438705444336,
          -7.024084091186523,
          26.39492416381836,
          -13.075165748596191,
          -11.147786140441895,
          -0.46773257851600647,
          9.313626289367676,
          7.794970512390137,
          -4.402672290802002,
          15.421720504760742,
          26.107051849365234,
          28.319841384887695,
          -11.778931617736816,
          26.73659896850586,
          -9.619707107543945,
          12.197105407714844,
          15.796137809753418,
          -4.728452682495117,
          15.79893684387207,
          -4.8526458740234375,
          -13.934983253479004,
          -8.537175178527832,
          -2.9535348415374756,
          5.190280914306641,
          -2.104985475540161,
          -8.05008316040039,
          13.950739860534668,
          -20.016460418701172,
          13.701956748962402,
          8.974637031555176,
          -19.936683654785156,
          -11.889968872070312,
          15.80473518371582,
          -2.1052587032318115,
          -21.661588668823242,
          -3.9980344772338867,
          4.892410755157471,
          -11.713897705078125,
          -5.455314636230469,
          -2.9535348415374756,
          -4.647678375244141,
          5.346297740936279,
          1.6244239807128906,
          -11.736390113830566,
          -13.161219596862793,
          9.416179656982422,
          27.27606773376465,
          -5.455219268798828,
          -12.781281471252441,
          -20.388038635253906,
          -8.961565971374512,
          8.92233943939209,
          1.4982213973999023,
          4.638516902923584,
          5.119048595428467,
          -8.702448844909668,
          28.35395050048828,
          -11.716678619384766,
          -0.2066720575094223,
          -0.29211539030075073,
          -17.057151794433594,
          6.226738452911377,
          -11.117197036743164,
          27.339176177978516,
          26.993555068969727,
          1.780331015586853,
          -17.057151794433594,
          13.323714256286621,
          13.977478981018066,
          1.5179903507232666,
          -10.363774299621582,
          -18.564754486083984,
          2.970365047454834,
          -9.298301696777344,
          9.925615310668945,
          5.340080738067627,
          13.887731552124023,
          -2.1963582038879395,
          -11.976978302001953,
          -15.296154975891113,
          -10.997867584228516,
          -11.71667766571045,
          -19.42879295349121,
          -7.415802478790283,
          11.128494262695312,
          -13.170053482055664,
          0.8921273350715637,
          8.531548500061035,
          -13.732845306396484,
          -15.972508430480957,
          10.529568672180176,
          -2.454730272293091,
          -11.146026611328125,
          -19.673858642578125,
          7.044722557067871,
          -6.496949672698975,
          13.193204879760742,
          10.311609268188477,
          -11.1467924118042,
          3.3312761783599854,
          -5.309631824493408,
          14.078192710876465,
          -19.21019172668457,
          16.906824111938477,
          3.3307385444641113,
          -3.808534860610962,
          9.42454719543457,
          -7.237435340881348,
          -24.561311721801758,
          4.084291458129883,
          -20.953615188598633,
          -6.177751541137695,
          -15.41689395904541,
          27.830902099609375,
          -5.455650329589844,
          14.231959342956543,
          25.827409744262695,
          -0.510550856590271,
          -5.71267032623291,
          -11.092360496520996,
          -13.03520393371582,
          26.643770217895508,
          -11.990211486816406,
          -24.55711555480957,
          8.92233943939209,
          15.421424865722656,
          -8.702448844909668,
          -11.865721702575684,
          -12.006423950195312,
          0.5618109107017517,
          9.394441604614258,
          -12.470304489135742,
          -10.689376831054688,
          -1.1839823722839355,
          2.0954432487487793,
          -24.679962158203125,
          16.75783920288086,
          -13.066327095031738,
          10.310810089111328,
          -12.480860710144043,
          13.093785285949707,
          -11.714097023010254,
          28.52882957458496,
          13.740694999694824,
          -13.35216999053955,
          1.5600762367248535,
          6.226738452911377,
          -4.45898962020874,
          2.8201491832733154,
          -2.1964774131774902,
          2.726396322250366,
          -1.7069118022918701,
          5.464428901672363,
          12.503841400146484,
          28.26605224609375,
          27.67290687561035,
          -6.298679828643799,
          6.226738452911377,
          -10.712912559509277,
          28.877180099487305,
          9.59371566772461,
          -20.642318725585938,
          -14.859723091125488,
          15.8310546875,
          6.226738452911377,
          6.226738452911377,
          28.740928649902344,
          28.05406379699707,
          13.531487464904785,
          8.780985832214355,
          27.35976219177246,
          5.238083839416504,
          -23.852872848510742,
          -4.767174243927002,
          -10.11275863647461,
          3.3307385444641113,
          15.820531845092773,
          -8.638052940368652,
          15.162879943847656,
          -2.104820489883423,
          -11.66399097442627,
          15.72038745880127,
          -14.33659553527832,
          -14.562606811523438,
          13.838850975036621,
          -13.443509101867676,
          -7.413967609405518,
          1.160935878753662,
          3.1693031787872314,
          -12.832257270812988,
          6.226738452911377,
          28.72461700439453,
          15.788976669311523,
          2.2970547676086426,
          -14.411892890930176,
          13.759427070617676,
          7.875532150268555,
          -4.746511936187744,
          28.886415481567383,
          5.434933662414551,
          -19.828853607177734,
          29.43574333190918,
          6.226738452911377,
          -12.302675247192383,
          6.350924491882324,
          8.18038272857666,
          -24.561311721801758,
          -17.057151794433594,
          2.1167285442352295,
          -8.96835994720459,
          -12.299808502197266,
          0.24880334734916687,
          15.421424865722656,
          6.226738452911377,
          28.00440216064453,
          11.513463973999023,
          -18.573610305786133,
          3.7731521129608154,
          7.234533786773682,
          6.226738452911377,
          -12.086613655090332,
          3.927639961242676,
          -13.252753257751465,
          0.774043083190918,
          2.2256507873535156,
          2.030975341796875,
          -17.057151794433594,
          -1.4605542421340942,
          12.1080322265625,
          1.4982213973999023,
          28.11025047302246,
          -5.743891716003418,
          -12.029677391052246,
          0.7742571830749512,
          -12.006400108337402,
          -11.146028518676758,
          4.799844264984131,
          -4.318583965301514,
          2.2256507873535156,
          10.311002731323242,
          -20.86467170715332,
          28.466602325439453,
          0.8930073380470276,
          2.9121875762939453,
          8.209698677062988,
          13.775928497314453,
          -13.903756141662598,
          10.31283950805664,
          26.93791961669922,
          -7.414175033569336,
          2.31712007522583,
          -21.245458602905273,
          12.88215446472168,
          5.480845928192139,
          26.510826110839844,
          -7.556368350982666,
          3.033820152282715,
          -0.6171315908432007,
          -20.931678771972656,
          -19.878076553344727,
          -11.146028518676758,
          8.794689178466797,
          6.136258602142334,
          -19.18415641784668,
          27.55360984802246,
          2.312422037124634,
          -9.821212768554688,
          -13.619990348815918,
          -2.3353991508483887,
          15.790042877197266,
          -14.785857200622559,
          -13.732845306396484,
          5.94070291519165,
          -11.318580627441406,
          -5.222902297973633,
          13.912957191467285,
          -19.875953674316406,
          -24.016342163085938,
          16.255908966064453,
          -14.777615547180176,
          27.2056884765625,
          27.55360984802246,
          9.14505386352539,
          -24.561311721801758,
          29.072017669677734,
          3.0648627281188965,
          13.95668888092041,
          -8.662384986877441,
          3.0627405643463135,
          27.256738662719727,
          -5.218427658081055,
          -12.849115371704102,
          13.287994384765625,
          6.136258602142334,
          9.394432067871094,
          15.788976669311523,
          28.26711654663086,
          -1.4162036180496216,
          4.799844264984131,
          27.229084014892578,
          3.986076831817627,
          -9.623906135559082,
          -24.561311721801758,
          29.057626724243164,
          -12.781265258789062,
          -14.020654678344727,
          13.663313865661621,
          -2.196300983428955,
          -5.880187034606934,
          27.932342529296875,
          -4.865441799163818,
          28.873666763305664,
          -12.576851844787598,
          28.48369789123535,
          29.359045028686523,
          4.659502983093262,
          -24.561311721801758,
          -5.455359935760498,
          -19.009334564208984,
          5.594355583190918,
          -5.008818626403809,
          -0.021893488243222237,
          -11.542352676391602,
          14.372114181518555,
          -20.395994186401367,
          2.7526824474334717,
          8.327855110168457,
          -5.273590564727783,
          -24.561311721801758,
          -11.169660568237305,
          1.324400782585144,
          29.2750301361084,
          3.0712294578552246,
          -24.561311721801758,
          13.984219551086426,
          -2.5604989528656006,
          -5.454878330230713,
          5.242267608642578,
          10.583067893981934,
          13.363595962524414,
          -12.029436111450195,
          -9.438865661621094,
          -3.360645294189453,
          0.9319210052490234,
          0.9319947957992554,
          -11.43405532836914,
          5.2412214279174805,
          2.9517009258270264,
          -5.273590564727783,
          5.668233871459961,
          0.774043083190918,
          8.786009788513184,
          29.67129135131836,
          -18.37864112854004,
          10.311002731323242,
          -0.9692609906196594,
          -21.737363815307617,
          -19.090740203857422,
          7.194730758666992,
          5.480908393859863,
          28.48369789123535,
          -12.084087371826172,
          -11.876862525939941,
          -11.933206558227539,
          11.975244522094727,
          -11.981400489807129,
          8.67680835723877,
          -8.694830894470215,
          9.394438743591309,
          -11.146016120910645,
          12.403251647949219,
          -5.791730880737305,
          -1.2251372337341309,
          -21.791004180908203,
          -11.146857261657715,
          29.685054779052734,
          10.894390106201172,
          -7.105819225311279,
          -4.458789825439453,
          5.238073348999023,
          -24.047151565551758,
          -11.503663063049316,
          -20.52187728881836,
          15.820329666137695,
          -5.750699520111084,
          -20.31392478942871,
          -8.96835994720459,
          2.959608793258667,
          -11.713603019714355,
          3.0641372203826904,
          29.618812561035156,
          -14.510199546813965,
          -13.712939262390137,
          1.0482090711593628,
          -22.03527069091797,
          4.178040027618408,
          13.970666885375977,
          5.306664943695068,
          -2.9143497943878174,
          16.357009887695312,
          -7.701845169067383,
          10.548055648803711,
          29.535097122192383,
          2.8099119663238525,
          13.171931266784668,
          -0.4002424478530884,
          -16.681867599487305,
          9.216218948364258,
          28.387413024902344,
          -15.361654281616211,
          13.44309139251709,
          11.441824913024902,
          12.86418628692627,
          -15.433895111083984,
          5.333947658538818,
          -15.172486305236816,
          -11.715373039245605,
          2.5924391746520996,
          -19.591861724853516,
          3.9860281944274902,
          -14.56261157989502,
          -11.713603019714355,
          -20.947452545166016,
          15.63036823272705,
          15.421424865722656,
          5.534646511077881,
          -10.277957916259766,
          10.370397567749023,
          -10.341032981872559,
          28.387413024902344,
          -11.046961784362793,
          -0.9692609906196594,
          -10.260570526123047,
          10.548567771911621,
          -10.258796691894531,
          -4.458091735839844,
          -17.83639907836914,
          9.580519676208496,
          9.408272743225098,
          4.659537315368652,
          8.655115127563477,
          -4.2610182762146,
          -13.96019458770752,
          -0.9692609906196594,
          -4.584099769592285,
          -7.785000324249268,
          28.387413024902344,
          -12.918246269226074,
          -1.2555679082870483,
          -3.294950008392334,
          11.266412734985352,
          -21.2551212310791,
          -20.834186553955078,
          -12.633687973022461,
          1.2563421726226807,
          10.311609268188477,
          -7.414120197296143,
          -0.6155878901481628,
          5.3340373039245605,
          28.387413024902344,
          -15.296205520629883,
          -11.566925048828125,
          -14.788939476013184,
          -1.0935347080230713,
          -20.693265914916992,
          7.527843952178955,
          10.547730445861816,
          9.15972900390625,
          -11.030278205871582,
          31.116127014160156,
          -13.5106782913208,
          15.421424865722656,
          4.178040027618408,
          2.891718864440918,
          -9.951000213623047,
          10.779467582702637,
          -7.3660888671875,
          8.922319412231445,
          -6.5512824058532715,
          -6.348150253295898,
          -13.07455062866211,
          5.534646511077881,
          -5.455219268798828,
          -5.504918098449707,
          -24.047151565551758,
          0.7734595537185669,
          5.534646511077881,
          -20.505399703979492,
          15.421424865722656,
          -14.118632316589355,
          16.253782272338867,
          -13.082789421081543,
          -7.154894828796387,
          5.270211219787598,
          -23.58529281616211,
          28.387413024902344,
          -2.104670763015747,
          28.387413024902344,
          6.910677433013916,
          -1.7069118022918701,
          29.604358673095703,
          -13.358400344848633,
          3.743018388748169
         ],
         "xaxis": "x",
         "y": [
          -10.390932083129883,
          -28.296464920043945,
          -11.496360778808594,
          4.129100322723389,
          7.265221118927002,
          -18.822233200073242,
          4.979445934295654,
          11.322433471679688,
          26.18364143371582,
          -27.045848846435547,
          15.670073509216309,
          0.2068597376346588,
          -10.177172660827637,
          -13.711341857910156,
          6.216724395751953,
          -6.717983245849609,
          -27.293048858642578,
          25.568161010742188,
          3.9117138385772705,
          4.769128799438477,
          -20.079479217529297,
          -27.367475509643555,
          -2.50421404838562,
          -4.838919162750244,
          9.991196632385254,
          27.450868606567383,
          16.376083374023438,
          1.0152175426483154,
          -11.969640731811523,
          4.534094333648682,
          -13.317630767822266,
          -3.772387742996216,
          9.070939064025879,
          3.3446407318115234,
          -17.574726104736328,
          9.940752983093262,
          8.658209800720215,
          -16.958913803100586,
          7.433694362640381,
          -7.706166744232178,
          -15.669767379760742,
          8.025187492370605,
          -7.743088722229004,
          -12.099396705627441,
          -3.4755327701568604,
          2.7732908725738525,
          11.542755126953125,
          12.880990982055664,
          -19.858509063720703,
          9.72557544708252,
          -27.876752853393555,
          6.21271276473999,
          9.438050270080566,
          -12.198562622070312,
          27.621410369873047,
          -1.6459555625915527,
          -29.21632194519043,
          -17.392841339111328,
          26.39253044128418,
          -11.397014617919922,
          2.1759586334228516,
          4.195374965667725,
          -4.606812000274658,
          14.95808219909668,
          3.5223748683929443,
          -27.045848846435547,
          10.400224685668945,
          -7.0533528327941895,
          10.222071647644043,
          -9.225675582885742,
          -16.587657928466797,
          1.924397587776184,
          -4.840397357940674,
          -7.706132411956787,
          4.129100322723389,
          9.154654502868652,
          9.482240676879883,
          16.85513687133789,
          10.145153999328613,
          -8.752020835876465,
          7.649949073791504,
          -9.559394836425781,
          13.790075302124023,
          -8.256893157958984,
          0.6350404620170593,
          -4.5390801429748535,
          4.979445934295654,
          -12.340250015258789,
          13.006497383117676,
          28.41425132751465,
          -12.1382417678833,
          -4.691851615905762,
          4.847100734710693,
          9.063654899597168,
          -12.586441040039062,
          25.855506896972656,
          2.7798495292663574,
          9.446558952331543,
          -1.7762657403945923,
          -4.606675148010254,
          10.304044723510742,
          -14.959891319274902,
          -19.294803619384766,
          -17.380817413330078,
          26.750593185424805,
          -17.652667999267578,
          13.427216529846191,
          4.494388103485107,
          7.124987602233887,
          -2.4007692337036133,
          4.194830894470215,
          26.158212661743164,
          9.154654502868652,
          -12.51680850982666,
          5.906578063964844,
          26.508378982543945,
          11.4103422164917,
          -12.33043384552002,
          26.39253044128418,
          2.6346726417541504,
          25.336469650268555,
          26.070768356323242,
          -27.045848846435547,
          9.154654502868652,
          14.923379898071289,
          -18.147991180419922,
          -29.152000427246094,
          -12.099377632141113,
          25.15353012084961,
          -12.591790199279785,
          17.32834815979004,
          7.375132083892822,
          -8.25675106048584,
          -11.443938255310059,
          -17.003084182739258,
          -27.293048858642578,
          4.609251976013184,
          -15.598456382751465,
          25.283071517944336,
          8.570167541503906,
          4.434494495391846,
          13.58065414428711,
          -11.924840927124023,
          8.483796119689941,
          -18.0488224029541,
          25.13367462158203,
          4.101931095123291,
          -6.13791036605835,
          -14.934556007385254,
          8.096854209899902,
          -29.152000427246094,
          -13.990531921386719,
          -29.152000427246094,
          -11.769346237182617,
          -11.42110538482666,
          -6.71812629699707,
          -12.10296630859375,
          -17.527273178100586,
          -1.4675724506378174,
          -27.045848846435547,
          -6.469829559326172,
          8.875410079956055,
          4.680354595184326,
          3.4076223373413086,
          7.906118869781494,
          -18.553070068359375,
          5.841074466705322,
          9.446558952331543,
          8.827384948730469,
          9.437933921813965,
          -16.434383392333984,
          11.046802520751953,
          -12.592833518981934,
          -27.14409637451172,
          -11.341071128845215,
          -9.109821319580078,
          -14.781996726989746,
          -0.6120845079421997,
          -20.426794052124023,
          -8.048480987548828,
          27.1651668548584,
          -29.87113380432129,
          27.660154342651367,
          -10.639521598815918,
          -4.691841125488281,
          13.948882102966309,
          17.827966690063477,
          11.271817207336426,
          -12.633991241455078,
          4.20518159866333,
          -9.134705543518066,
          9.154654502868652,
          -12.888533592224121,
          11.26210880279541,
          -19.44222068786621,
          15.37764835357666,
          5.175440788269043,
          -9.561616897583008,
          14.95808219909668,
          4.49484920501709,
          -2.889517068862915,
          -2.889517068862915,
          8.539752006530762,
          11.309040069580078,
          12.526400566101074,
          -8.25675106048584,
          -20.876983642578125,
          -14.459540367126465,
          -9.16451358795166,
          9.005986213684082,
          4.204866409301758,
          -9.562393188476562,
          -19.127721786499023,
          17.827966690063477,
          -11.762350082397461,
          11.138121604919434,
          10.57116985321045,
          4.960668087005615,
          10.056963920593262,
          27.202043533325195,
          -12.997769355773926,
          2.5642054080963135,
          -26.244901657104492,
          -18.386512756347656,
          -2.2344086170196533,
          10.387529373168945,
          -11.018815994262695,
          -15.810073852539062,
          11.087759017944336,
          -6.137906074523926,
          -6.717586994171143,
          -17.502662658691406,
          -2.6826846599578857,
          -10.677690505981445,
          -26.13654899597168,
          -10.293458938598633,
          17.046567916870117,
          14.856555938720703,
          -13.698299407958984,
          4.747070789337158,
          11.208176612854004,
          -27.89950942993164,
          -26.13654899597168,
          11.686594009399414,
          10.997636795043945,
          10.997636795043945,
          -15.482406616210938,
          -0.06919854134321213,
          14.550433158874512,
          -12.086648941040039,
          -19.965452194213867,
          25.629356384277344,
          27.8396053314209,
          -0.5724075436592102,
          -19.11517333984375,
          -17.932558059692383,
          8.350656509399414,
          -5.684807777404785,
          0.360954612493515,
          -11.729074478149414,
          14.34738826751709,
          10.304044723510742,
          13.579973220825195,
          -28.00168800354004,
          9.070939064025879,
          27.296398162841797,
          1.5090663433074951,
          -9.318961143493652,
          0.7803852558135986,
          10.825163841247559,
          4.323781967163086,
          -10.872382164001465,
          -2.318828821182251,
          9.551504135131836,
          -26.244901657104492,
          9.551504135131836,
          -3.66283917427063,
          9.929927825927734,
          -17.003084182739258,
          9.430481910705566,
          1.610272765159607,
          -2.2274811267852783,
          -11.710063934326172,
          0.9095357060432434,
          10.997026443481445,
          -20.0272274017334,
          4.652835369110107,
          -11.729074478149414,
          -16.587690353393555,
          -26.281993865966797,
          26.3381404876709,
          -10.266297340393066,
          -2.3187999725341797,
          7.7452263832092285,
          8.613426208496094,
          -16.603500366210938,
          -8.888052940368652,
          9.362726211547852,
          -11.485624313354492,
          4.680323123931885,
          -28.768213272094727,
          -20.655046463012695,
          -9.562603950500488,
          -15.48208999633789,
          28.322404861450195,
          -26.62371063232422,
          -27.85303497314453,
          26.235198974609375,
          2.3626022338867188,
          4.6803812980651855,
          5.473455905914307,
          -4.69261360168457,
          4.469416618347168,
          15.540284156799316,
          -10.17717170715332,
          9.994789123535156,
          3.570040225982666,
          -10.255425453186035,
          14.347211837768555,
          -14.577624320983887,
          3.511578321456909,
          -13.59518814086914,
          -8.256889343261719,
          27.213449478149414,
          14.524316787719727,
          12.273886680603027,
          -18.299184799194336,
          -14.263702392578125,
          6.0009684562683105,
          -4.536271572113037,
          -0.5989161133766174,
          2.127709150314331,
          -26.760387420654297,
          -27.49924087524414,
          14.347201347351074,
          -13.630410194396973,
          8.581984519958496,
          10.304079055786133,
          -2.889517068862915,
          -10.276538848876953,
          -15.098433494567871,
          15.920167922973633,
          -19.373245239257812,
          11.387507438659668,
          8.025128364562988,
          -7.259404182434082,
          -11.21988296508789,
          -3.677135944366455,
          -26.244901657104492,
          -10.266228675842285,
          9.154783248901367,
          9.349324226379395,
          25.192228317260742,
          -12.145654678344727,
          9.35142707824707,
          -15.481762886047363,
          8.364801406860352,
          27.32512855529785,
          10.996686935424805,
          8.613426208496094,
          -13.507761001586914,
          27.585721969604492,
          -18.54039192199707,
          0.029820706695318222,
          8.364801406860352,
          16.651906967163086,
          25.799409866333008,
          -15.810073852539062,
          9.518697738647461,
          -15.810074806213379,
          -2.318828821182251,
          6.374939441680908,
          -27.074050903320312,
          -16.068769454956055,
          -28.858327865600586,
          -18.813684463500977,
          2.7902841567993164,
          6.001346111297607,
          13.915550231933594,
          26.823606491088867,
          12.914734840393066,
          -26.62371063232422,
          -4.694636344909668,
          -2.3190572261810303,
          -13.442483901977539,
          12.483067512512207,
          8.004347801208496,
          10.419303894042969,
          9.834441184997559,
          -29.608800888061523,
          -12.146257400512695,
          27.14570426940918,
          -20.386260986328125,
          26.776931762695312,
          28.164981842041016,
          12.781634330749512,
          0.39419448375701904,
          25.85030746459961,
          2.991422653198242,
          5.2006731033325195,
          -11.018815994262695,
          10.712968826293945,
          -20.866662979125977,
          9.189809799194336,
          -19.001455307006836,
          16.858003616333008,
          14.148773193359375,
          10.399871826171875,
          -4.606550216674805,
          7.728353023529053,
          6.000777721405029,
          -0.5987570881843567,
          11.245414733886719,
          13.094049453735352,
          5.349928379058838,
          -12.54936695098877,
          8.004230499267578,
          -6.122337341308594,
          -27.039348602294922,
          25.67427635192871,
          -15.482589721679688,
          7.755250453948975,
          -3.4755327701568604,
          2.903386354446411,
          -17.145238876342773,
          -28.77838897705078,
          -12.099493026733398,
          15.803424835205078,
          8.024840354919434,
          9.339449882507324,
          0.00716082938015461,
          -0.7616347670555115,
          5.8168816566467285,
          3.1270880699157715,
          -20.371673583984375,
          -5.24982213973999,
          2.1581156253814697,
          -18.59881019592285,
          25.91834831237793,
          9.018363952636719,
          -28.8228702545166,
          8.00812816619873,
          10.744123458862305,
          -15.880352973937988,
          11.16829776763916,
          5.8622307777404785,
          -12.090106010437012,
          10.341439247131348,
          7.08624267578125,
          -11.456578254699707,
          -0.12279801070690155,
          -15.294901847839355,
          -5.974176406860352,
          -4.464132785797119,
          8.614436149597168,
          10.998747825622559,
          26.991220474243164,
          -18.6531925201416,
          -12.132688522338867,
          -14.874628067016602,
          15.37764835357666,
          -1.8313850164413452,
          9.22703742980957,
          -4.694121837615967,
          10.59478759765625,
          -19.87468719482422,
          -6.207465648651123,
          9.862546920776367,
          10.748218536376953,
          10.303603172302246,
          26.39295196533203,
          -27.658180236816406,
          25.772289276123047,
          10.656023979187012,
          8.225200653076172,
          2.1759586334228516,
          -18.81582260131836,
          26.976104736328125,
          3.195075750350952,
          -12.59408950805664,
          -1.868704080581665,
          -16.188385009765625,
          -26.544490814208984,
          -28.17676544189453,
          8.089229583740234,
          -27.045848846435547,
          7.6878533363342285,
          4.254735946655273,
          -19.66570281982422,
          -16.8616886138916,
          -28.255006790161133,
          3.5379836559295654,
          -9.561564445495605,
          10.303637504577637,
          -11.292040824890137,
          26.78813362121582,
          15.431303977966309,
          -18.424243927001953,
          -9.536458015441895,
          9.709263801574707,
          27.01682472229004,
          3.570481777191162,
          4.118873596191406,
          -12.576265335083008,
          -28.305564880371094,
          -8.753405570983887,
          -6.71773099899292,
          9.633427619934082,
          8.000907897949219,
          27.791067123413086,
          9.455766677856445,
          -9.63693904876709,
          3.150881290435791,
          -4.540070056915283,
          -7.053982257843018,
          -4.539768218994141,
          7.7982611656188965,
          28.273719787597656,
          9.43790054321289,
          16.75503158569336,
          -26.85035514831543,
          5.84105920791626,
          14.91185474395752,
          -11.932677268981934,
          -20.916288375854492,
          2.6790273189544678,
          -17.95029067993164,
          -19.801097869873047,
          28.0489501953125,
          -4.541558742523193,
          5.840793132781982,
          -20.209260940551758,
          10.120803833007812,
          -29.513097763061523,
          -4.650561809539795,
          -9.561647415161133,
          16.75503158569336,
          10.33715534210205,
          2.173602342605591,
          6.159244537353516,
          14.923439025878906,
          26.423213958740234,
          -16.91047477722168,
          10.548351287841797,
          -9.5623779296875,
          13.789690017700195,
          -18.081727981567383,
          -11.018815994262695,
          -1.2100003957748413,
          16.651906967163086,
          -28.995229721069336,
          -28.560029983520508,
          12.594600677490234,
          8.998345375061035,
          -4.6649017333984375,
          2.1669411659240723,
          4.834369659423828,
          10.996686935424805,
          -28.033063888549805,
          28.05137062072754,
          9.363125801086426,
          8.356144905090332,
          -15.75417709350586,
          10.996686935424805,
          -11.42110538482666,
          3.68127703666687,
          -2.1561272144317627,
          -11.811080932617188,
          -19.69612693786621,
          -8.221677780151367,
          10.67634391784668,
          -0.6041890382766724,
          -28.71967887878418,
          -12.031231880187988,
          -12.953680992126465,
          -4.69261360168457,
          -10.266228675842285,
          14.027934074401855,
          -4.664904594421387,
          -18.94019317626953,
          8.019960403442383,
          -14.459540367126465,
          27.704395294189453,
          16.63959503173828,
          -18.865436553955078,
          -12.648720741271973,
          -15.00056266784668,
          -1.6398488283157349,
          -1.1614012718200684,
          3.568338632583618,
          -18.955392837524414,
          -28.727750778198242,
          -5.799733638763428,
          2.2034835815429688,
          -15.482723236083984,
          3.5685689449310303,
          -10.177190780639648,
          -7.725770473480225,
          0.11648393422365189,
          -19.53704261779785,
          4.580225944519043,
          -10.177395820617676,
          7.463465213775635,
          -15.440696716308594,
          13.951615333557129,
          8.484908103942871,
          -27.81096649169922,
          -18.641334533691406,
          -9.80019474029541,
          27.131744384765625,
          8.31432819366455,
          -9.562553405761719,
          2.5739450454711914,
          10.724970817565918,
          5.999868392944336,
          4.967667579650879,
          -12.254186630249023,
          -12.077747344970703,
          9.091946601867676,
          26.406387329101562,
          9.154783248901367,
          -1.2100003957748413,
          -6.717586994171143,
          12.594600677490234,
          26.920595169067383,
          -3.66241192817688,
          4.800006866455078,
          6.006406307220459,
          27.706363677978516,
          3.856149196624756,
          3.4496614933013916,
          -16.434432983398438,
          9.070939064025879,
          3.338775157928467,
          -9.479292869567871,
          -15.482540130615234,
          13.85672664642334,
          -0.06758143752813339,
          -4.656398773193359,
          8.586211204528809,
          2.753479242324829,
          28.64308738708496,
          10.400224685668945,
          -28.033063888549805,
          12.809761047363281,
          9.783533096313477,
          -12.953509330749512,
          9.776141166687012,
          17.046951293945312,
          -16.2503604888916,
          -1.8330833911895752,
          9.843865394592285,
          11.26117992401123,
          -6.906434059143066,
          -28.033063888549805,
          -12.028060913085938,
          8.930266380310059,
          -0.21652640402317047,
          -18.398963928222656,
          -10.872395515441895,
          -3.9234800338745117,
          -28.033063888549805,
          -28.033063888549805,
          9.552380561828613,
          10.680288314819336,
          2.216803550720215,
          -0.49291664361953735,
          11.71008014678955,
          -14.092869758605957,
          8.613426208496094,
          9.508214950561523,
          4.327960014343262,
          -10.177395820617676,
          -3.475586414337158,
          4.264841079711914,
          3.710005760192871,
          5.841094493865967,
          27.449832916259766,
          -1.9840419292449951,
          26.58193588256836,
          -11.403035163879395,
          2.5635828971862793,
          27.98553466796875,
          8.020060539245605,
          -11.674934387207031,
          8.980428695678711,
          27.927772521972656,
          -28.033063888549805,
          10.16073989868164,
          -4.537633419036865,
          6.0688958168029785,
          27.37969970703125,
          -11.405394554138184,
          -0.7603422999382019,
          -6.487460136413574,
          9.361698150634766,
          -7.320149898529053,
          9.340082168579102,
          8.531572341918945,
          -28.033063888549805,
          26.67949676513672,
          -29.152000427246094,
          -19.467533111572266,
          8.484908103942871,
          10.996686935424805,
          -14.653352737426758,
          10.143351554870605,
          28.60890007019043,
          1.845234990119934,
          -6.717586994171143,
          -28.033063888549805,
          9.096163749694824,
          2.7377922534942627,
          -18.91212272644043,
          -11.219697952270508,
          -29.265438079833984,
          -28.033063888549805,
          27.169696807861328,
          -11.5671968460083,
          28.231464385986328,
          -2.3187999725341797,
          -1.965681552886963,
          3.3945343494415283,
          10.996686935424805,
          -12.206015586853027,
          -12.239119529724121,
          16.651906967163086,
          10.225729942321777,
          13.734365463256836,
          14.349900245666504,
          -2.318829298019409,
          -3.6624135971069336,
          3.568345308303833,
          -27.32077980041504,
          10.6322603225708,
          -1.965681552886963,
          -15.48208999633789,
          -17.982868194580078,
          10.432229995727539,
          5.5703020095825195,
          -7.892409801483154,
          -19.453670501708984,
          -11.412124633789062,
          27.92392349243164,
          0.6904960870742798,
          11.854609489440918,
          8.020137786865234,
          7.167766094207764,
          -19.254220962524414,
          0.7368690967559814,
          -9.54239559173584,
          11.865675926208496,
          15.540271759033203,
          8.09134292602539,
          17.457347869873047,
          -17.616548538208008,
          -18.25040626525879,
          3.568345308303833,
          0.2983015477657318,
          2.1759586334228516,
          -17.869415283203125,
          10.106674194335938,
          3.7085022926330566,
          14.341557502746582,
          -12.552844047546387,
          0.36092865467071533,
          -4.536474704742432,
          27.721525192260742,
          -12.648720741271973,
          -9.082027435302734,
          28.433706283569336,
          -7.571325778961182,
          3.377514362335205,
          -17.631799697875977,
          8.364801406860352,
          2.676217794418335,
          28.27370834350586,
          11.22211742401123,
          10.106674194335938,
          2.384629487991333,
          8.484908103942871,
          8.292896270751953,
          9.461528778076172,
          -11.575414657592773,
          2.3627254962921143,
          9.455452919006348,
          7.0619025230407715,
          -7.743108749389648,
          28.639785766601562,
          -11.996209144592285,
          2.1759586334228516,
          6.006349086761475,
          -4.537633419036865,
          7.315280914306641,
          0.7777243256568909,
          -27.32077980041504,
          8.91468334197998,
          -8.643464088439941,
          4.40458345413208,
          8.484908103942871,
          9.967182159423828,
          13.789924621582031,
          28.770265579223633,
          -10.633915901184082,
          -12.953577995300293,
          4.906991481781006,
          11.516942024230957,
          -8.838281631469727,
          10.952760696411133,
          29.121931076049805,
          11.26667308807373,
          10.561798095703125,
          -7.706162452697754,
          8.484908103942871,
          -9.561616897583008,
          -20.415178298950195,
          -27.1581974029541,
          -1.827191710472107,
          17.827966690063477,
          -10.996419906616211,
          3.309264898300171,
          -20.111825942993164,
          9.781583786010742,
          -0.43963372707366943,
          -3.677145481109619,
          8.484908103942871,
          -11.313316345214844,
          -12.099420547485352,
          11.007493019104004,
          9.545388221740723,
          8.484908103942871,
          -11.662440299987793,
          -0.56971275806427,
          -9.561564445495605,
          -9.30701732635498,
          3.8460357189178467,
          -11.399243354797363,
          14.349852561950684,
          13.512568473815918,
          -12.640878677368164,
          -15.808489799499512,
          -15.80864429473877,
          16.077722549438477,
          -4.510647773742676,
          9.739090919494629,
          -3.677145481109619,
          -28.872623443603516,
          -2.3187999725341797,
          -18.356904983520508,
          10.274785041809082,
          10.304044723510742,
          -15.48208999633789,
          17.32834815979004,
          -19.90907859802246,
          -19.395687103271484,
          -27.89885711669922,
          -9.54226016998291,
          11.26667308807373,
          29.349308013916016,
          28.910701751708984,
          -14.934617042541504,
          4.573483467102051,
          -4.685647964477539,
          -1.1528288125991821,
          10.809728622436523,
          6.006407737731934,
          3.5687129497528076,
          2.0001394748687744,
          -4.90665340423584,
          3.733180284500122,
          -18.923158645629883,
          3.5689594745635986,
          9.734009742736816,
          2.1891424655914307,
          14.95808219909668,
          10.233600616455078,
          -14.092998504638672,
          9.154654502868652,
          28.837207794189453,
          -19.535930633544922,
          -3.475510835647583,
          7.1887736320495605,
          -19.2650203704834,
          10.143351554870605,
          -17.393253326416016,
          -4.6549153327941895,
          9.461481094360352,
          9.403855323791504,
          29.142562866210938,
          29.377300262451172,
          6.384840488433838,
          -19.450397491455078,
          -28.372434616088867,
          -11.602364540100098,
          -16.58294677734375,
          0.37576717138290405,
          2.7902841567993164,
          -8.223193168640137,
          5.350887775421143,
          8.948246002197266,
          9.783584594726562,
          3.581268548965454,
          -1.2386432886123657,
          11.22788143157959,
          -17.380802154541016,
          13.174304008483887,
          28.023447036743164,
          4.323781967163086,
          0.7123480439186096,
          3.299105644226074,
          -14.581719398498535,
          -6.207465648651123,
          28.54123878479004,
          -4.6526265144348145,
          4.2054524421691895,
          -19.42104721069336,
          -8.6434326171875,
          -11.40304946899414,
          -4.6549153327941895,
          -20.531972885131836,
          -0.6575397849082947,
          -6.717586994171143,
          -29.587499618530273,
          17.920331954956055,
          3.1648876667022705,
          -11.090795516967773,
          13.174304008483887,
          4.0345458984375,
          17.32834815979004,
          17.661672592163086,
          5.349928379058838,
          17.91552734375,
          12.811214447021484,
          10.566722869873047,
          -16.589292526245117,
          2.6873137950897217,
          -7.706166744232178,
          -15.935829162597656,
          10.530598640441895,
          -11.194330215454102,
          17.32834815979004,
          -12.509862899780273,
          15.873770713806152,
          13.174304008483887,
          -12.28812026977539,
          16.990894317626953,
          16.704530715942383,
          0.6842786073684692,
          -20.705862045288086,
          -19.726531982421875,
          29.61018943786621,
          4.552524566650391,
          -15.482723236083984,
          8.02036190032959,
          5.81196403503418,
          -6.207932949066162,
          13.174304008483887,
          -10.266297340393066,
          15.670072555541992,
          28.920114517211914,
          4.81126070022583,
          -20.18514060974121,
          -0.20939841866493225,
          5.350848197937012,
          1.7352120876312256,
          -10.631439208984375,
          8.54578971862793,
          28.813764572143555,
          -6.717586994171143,
          -28.372434616088867,
          9.245414733886719,
          14.254203796386719,
          -14.878279685974121,
          1.5394703149795532,
          -1.2101176977157593,
          14.524178504943848,
          6.954529285430908,
          29.285083770751953,
          -29.587499618530273,
          -9.5623779296875,
          -4.606666088104248,
          9.154654502868652,
          -2.3183276653289795,
          -29.587499618530273,
          -20.92129898071289,
          -6.717586994171143,
          29.452194213867188,
          2.673384428024292,
          -9.618756294250488,
          -8.407788276672363,
          -6.413370609283447,
          8.85029411315918,
          13.174304008483887,
          5.8408379554748535,
          13.174304008483887,
          -1.688021183013916,
          17.046951293945312,
          6.3534626960754395,
          29.633602142333984,
          -13.657593727111816
         ],
         "yaxis": "y"
        }
       ],
       "layout": {
        "coloraxis": {
         "colorbar": {
          "title": {
           "text": "color"
          }
         },
         "colorscale": [
          [
           0,
           "#0d0887"
          ],
          [
           0.1111111111111111,
           "#46039f"
          ],
          [
           0.2222222222222222,
           "#7201a8"
          ],
          [
           0.3333333333333333,
           "#9c179e"
          ],
          [
           0.4444444444444444,
           "#bd3786"
          ],
          [
           0.5555555555555556,
           "#d8576b"
          ],
          [
           0.6666666666666666,
           "#ed7953"
          ],
          [
           0.7777777777777778,
           "#fb9f3a"
          ],
          [
           0.8888888888888888,
           "#fdca26"
          ],
          [
           1,
           "#f0f921"
          ]
         ]
        },
        "height": 1000,
        "legend": {
         "tracegroupgap": 0
        },
        "template": {
         "data": {
          "bar": [
           {
            "error_x": {
             "color": "#2a3f5f"
            },
            "error_y": {
             "color": "#2a3f5f"
            },
            "marker": {
             "line": {
              "color": "#E5ECF6",
              "width": 0.5
             },
             "pattern": {
              "fillmode": "overlay",
              "size": 10,
              "solidity": 0.2
             }
            },
            "type": "bar"
           }
          ],
          "barpolar": [
           {
            "marker": {
             "line": {
              "color": "#E5ECF6",
              "width": 0.5
             },
             "pattern": {
              "fillmode": "overlay",
              "size": 10,
              "solidity": 0.2
             }
            },
            "type": "barpolar"
           }
          ],
          "carpet": [
           {
            "aaxis": {
             "endlinecolor": "#2a3f5f",
             "gridcolor": "white",
             "linecolor": "white",
             "minorgridcolor": "white",
             "startlinecolor": "#2a3f5f"
            },
            "baxis": {
             "endlinecolor": "#2a3f5f",
             "gridcolor": "white",
             "linecolor": "white",
             "minorgridcolor": "white",
             "startlinecolor": "#2a3f5f"
            },
            "type": "carpet"
           }
          ],
          "choropleth": [
           {
            "colorbar": {
             "outlinewidth": 0,
             "ticks": ""
            },
            "type": "choropleth"
           }
          ],
          "contour": [
           {
            "colorbar": {
             "outlinewidth": 0,
             "ticks": ""
            },
            "colorscale": [
             [
              0,
              "#0d0887"
             ],
             [
              0.1111111111111111,
              "#46039f"
             ],
             [
              0.2222222222222222,
              "#7201a8"
             ],
             [
              0.3333333333333333,
              "#9c179e"
             ],
             [
              0.4444444444444444,
              "#bd3786"
             ],
             [
              0.5555555555555556,
              "#d8576b"
             ],
             [
              0.6666666666666666,
              "#ed7953"
             ],
             [
              0.7777777777777778,
              "#fb9f3a"
             ],
             [
              0.8888888888888888,
              "#fdca26"
             ],
             [
              1,
              "#f0f921"
             ]
            ],
            "type": "contour"
           }
          ],
          "contourcarpet": [
           {
            "colorbar": {
             "outlinewidth": 0,
             "ticks": ""
            },
            "type": "contourcarpet"
           }
          ],
          "heatmap": [
           {
            "colorbar": {
             "outlinewidth": 0,
             "ticks": ""
            },
            "colorscale": [
             [
              0,
              "#0d0887"
             ],
             [
              0.1111111111111111,
              "#46039f"
             ],
             [
              0.2222222222222222,
              "#7201a8"
             ],
             [
              0.3333333333333333,
              "#9c179e"
             ],
             [
              0.4444444444444444,
              "#bd3786"
             ],
             [
              0.5555555555555556,
              "#d8576b"
             ],
             [
              0.6666666666666666,
              "#ed7953"
             ],
             [
              0.7777777777777778,
              "#fb9f3a"
             ],
             [
              0.8888888888888888,
              "#fdca26"
             ],
             [
              1,
              "#f0f921"
             ]
            ],
            "type": "heatmap"
           }
          ],
          "heatmapgl": [
           {
            "colorbar": {
             "outlinewidth": 0,
             "ticks": ""
            },
            "colorscale": [
             [
              0,
              "#0d0887"
             ],
             [
              0.1111111111111111,
              "#46039f"
             ],
             [
              0.2222222222222222,
              "#7201a8"
             ],
             [
              0.3333333333333333,
              "#9c179e"
             ],
             [
              0.4444444444444444,
              "#bd3786"
             ],
             [
              0.5555555555555556,
              "#d8576b"
             ],
             [
              0.6666666666666666,
              "#ed7953"
             ],
             [
              0.7777777777777778,
              "#fb9f3a"
             ],
             [
              0.8888888888888888,
              "#fdca26"
             ],
             [
              1,
              "#f0f921"
             ]
            ],
            "type": "heatmapgl"
           }
          ],
          "histogram": [
           {
            "marker": {
             "pattern": {
              "fillmode": "overlay",
              "size": 10,
              "solidity": 0.2
             }
            },
            "type": "histogram"
           }
          ],
          "histogram2d": [
           {
            "colorbar": {
             "outlinewidth": 0,
             "ticks": ""
            },
            "colorscale": [
             [
              0,
              "#0d0887"
             ],
             [
              0.1111111111111111,
              "#46039f"
             ],
             [
              0.2222222222222222,
              "#7201a8"
             ],
             [
              0.3333333333333333,
              "#9c179e"
             ],
             [
              0.4444444444444444,
              "#bd3786"
             ],
             [
              0.5555555555555556,
              "#d8576b"
             ],
             [
              0.6666666666666666,
              "#ed7953"
             ],
             [
              0.7777777777777778,
              "#fb9f3a"
             ],
             [
              0.8888888888888888,
              "#fdca26"
             ],
             [
              1,
              "#f0f921"
             ]
            ],
            "type": "histogram2d"
           }
          ],
          "histogram2dcontour": [
           {
            "colorbar": {
             "outlinewidth": 0,
             "ticks": ""
            },
            "colorscale": [
             [
              0,
              "#0d0887"
             ],
             [
              0.1111111111111111,
              "#46039f"
             ],
             [
              0.2222222222222222,
              "#7201a8"
             ],
             [
              0.3333333333333333,
              "#9c179e"
             ],
             [
              0.4444444444444444,
              "#bd3786"
             ],
             [
              0.5555555555555556,
              "#d8576b"
             ],
             [
              0.6666666666666666,
              "#ed7953"
             ],
             [
              0.7777777777777778,
              "#fb9f3a"
             ],
             [
              0.8888888888888888,
              "#fdca26"
             ],
             [
              1,
              "#f0f921"
             ]
            ],
            "type": "histogram2dcontour"
           }
          ],
          "mesh3d": [
           {
            "colorbar": {
             "outlinewidth": 0,
             "ticks": ""
            },
            "type": "mesh3d"
           }
          ],
          "parcoords": [
           {
            "line": {
             "colorbar": {
              "outlinewidth": 0,
              "ticks": ""
             }
            },
            "type": "parcoords"
           }
          ],
          "pie": [
           {
            "automargin": true,
            "type": "pie"
           }
          ],
          "scatter": [
           {
            "fillpattern": {
             "fillmode": "overlay",
             "size": 10,
             "solidity": 0.2
            },
            "type": "scatter"
           }
          ],
          "scatter3d": [
           {
            "line": {
             "colorbar": {
              "outlinewidth": 0,
              "ticks": ""
             }
            },
            "marker": {
             "colorbar": {
              "outlinewidth": 0,
              "ticks": ""
             }
            },
            "type": "scatter3d"
           }
          ],
          "scattercarpet": [
           {
            "marker": {
             "colorbar": {
              "outlinewidth": 0,
              "ticks": ""
             }
            },
            "type": "scattercarpet"
           }
          ],
          "scattergeo": [
           {
            "marker": {
             "colorbar": {
              "outlinewidth": 0,
              "ticks": ""
             }
            },
            "type": "scattergeo"
           }
          ],
          "scattergl": [
           {
            "marker": {
             "colorbar": {
              "outlinewidth": 0,
              "ticks": ""
             }
            },
            "type": "scattergl"
           }
          ],
          "scattermapbox": [
           {
            "marker": {
             "colorbar": {
              "outlinewidth": 0,
              "ticks": ""
             }
            },
            "type": "scattermapbox"
           }
          ],
          "scatterpolar": [
           {
            "marker": {
             "colorbar": {
              "outlinewidth": 0,
              "ticks": ""
             }
            },
            "type": "scatterpolar"
           }
          ],
          "scatterpolargl": [
           {
            "marker": {
             "colorbar": {
              "outlinewidth": 0,
              "ticks": ""
             }
            },
            "type": "scatterpolargl"
           }
          ],
          "scatterternary": [
           {
            "marker": {
             "colorbar": {
              "outlinewidth": 0,
              "ticks": ""
             }
            },
            "type": "scatterternary"
           }
          ],
          "surface": [
           {
            "colorbar": {
             "outlinewidth": 0,
             "ticks": ""
            },
            "colorscale": [
             [
              0,
              "#0d0887"
             ],
             [
              0.1111111111111111,
              "#46039f"
             ],
             [
              0.2222222222222222,
              "#7201a8"
             ],
             [
              0.3333333333333333,
              "#9c179e"
             ],
             [
              0.4444444444444444,
              "#bd3786"
             ],
             [
              0.5555555555555556,
              "#d8576b"
             ],
             [
              0.6666666666666666,
              "#ed7953"
             ],
             [
              0.7777777777777778,
              "#fb9f3a"
             ],
             [
              0.8888888888888888,
              "#fdca26"
             ],
             [
              1,
              "#f0f921"
             ]
            ],
            "type": "surface"
           }
          ],
          "table": [
           {
            "cells": {
             "fill": {
              "color": "#EBF0F8"
             },
             "line": {
              "color": "white"
             }
            },
            "header": {
             "fill": {
              "color": "#C8D4E3"
             },
             "line": {
              "color": "white"
             }
            },
            "type": "table"
           }
          ]
         },
         "layout": {
          "annotationdefaults": {
           "arrowcolor": "#2a3f5f",
           "arrowhead": 0,
           "arrowwidth": 1
          },
          "autotypenumbers": "strict",
          "coloraxis": {
           "colorbar": {
            "outlinewidth": 0,
            "ticks": ""
           }
          },
          "colorscale": {
           "diverging": [
            [
             0,
             "#8e0152"
            ],
            [
             0.1,
             "#c51b7d"
            ],
            [
             0.2,
             "#de77ae"
            ],
            [
             0.3,
             "#f1b6da"
            ],
            [
             0.4,
             "#fde0ef"
            ],
            [
             0.5,
             "#f7f7f7"
            ],
            [
             0.6,
             "#e6f5d0"
            ],
            [
             0.7,
             "#b8e186"
            ],
            [
             0.8,
             "#7fbc41"
            ],
            [
             0.9,
             "#4d9221"
            ],
            [
             1,
             "#276419"
            ]
           ],
           "sequential": [
            [
             0,
             "#0d0887"
            ],
            [
             0.1111111111111111,
             "#46039f"
            ],
            [
             0.2222222222222222,
             "#7201a8"
            ],
            [
             0.3333333333333333,
             "#9c179e"
            ],
            [
             0.4444444444444444,
             "#bd3786"
            ],
            [
             0.5555555555555556,
             "#d8576b"
            ],
            [
             0.6666666666666666,
             "#ed7953"
            ],
            [
             0.7777777777777778,
             "#fb9f3a"
            ],
            [
             0.8888888888888888,
             "#fdca26"
            ],
            [
             1,
             "#f0f921"
            ]
           ],
           "sequentialminus": [
            [
             0,
             "#0d0887"
            ],
            [
             0.1111111111111111,
             "#46039f"
            ],
            [
             0.2222222222222222,
             "#7201a8"
            ],
            [
             0.3333333333333333,
             "#9c179e"
            ],
            [
             0.4444444444444444,
             "#bd3786"
            ],
            [
             0.5555555555555556,
             "#d8576b"
            ],
            [
             0.6666666666666666,
             "#ed7953"
            ],
            [
             0.7777777777777778,
             "#fb9f3a"
            ],
            [
             0.8888888888888888,
             "#fdca26"
            ],
            [
             1,
             "#f0f921"
            ]
           ]
          },
          "colorway": [
           "#636efa",
           "#EF553B",
           "#00cc96",
           "#ab63fa",
           "#FFA15A",
           "#19d3f3",
           "#FF6692",
           "#B6E880",
           "#FF97FF",
           "#FECB52"
          ],
          "font": {
           "color": "#2a3f5f"
          },
          "geo": {
           "bgcolor": "white",
           "lakecolor": "white",
           "landcolor": "#E5ECF6",
           "showlakes": true,
           "showland": true,
           "subunitcolor": "white"
          },
          "hoverlabel": {
           "align": "left"
          },
          "hovermode": "closest",
          "mapbox": {
           "style": "light"
          },
          "paper_bgcolor": "white",
          "plot_bgcolor": "#E5ECF6",
          "polar": {
           "angularaxis": {
            "gridcolor": "white",
            "linecolor": "white",
            "ticks": ""
           },
           "bgcolor": "#E5ECF6",
           "radialaxis": {
            "gridcolor": "white",
            "linecolor": "white",
            "ticks": ""
           }
          },
          "scene": {
           "xaxis": {
            "backgroundcolor": "#E5ECF6",
            "gridcolor": "white",
            "gridwidth": 2,
            "linecolor": "white",
            "showbackground": true,
            "ticks": "",
            "zerolinecolor": "white"
           },
           "yaxis": {
            "backgroundcolor": "#E5ECF6",
            "gridcolor": "white",
            "gridwidth": 2,
            "linecolor": "white",
            "showbackground": true,
            "ticks": "",
            "zerolinecolor": "white"
           },
           "zaxis": {
            "backgroundcolor": "#E5ECF6",
            "gridcolor": "white",
            "gridwidth": 2,
            "linecolor": "white",
            "showbackground": true,
            "ticks": "",
            "zerolinecolor": "white"
           }
          },
          "shapedefaults": {
           "line": {
            "color": "#2a3f5f"
           }
          },
          "ternary": {
           "aaxis": {
            "gridcolor": "white",
            "linecolor": "white",
            "ticks": ""
           },
           "baxis": {
            "gridcolor": "white",
            "linecolor": "white",
            "ticks": ""
           },
           "bgcolor": "#E5ECF6",
           "caxis": {
            "gridcolor": "white",
            "linecolor": "white",
            "ticks": ""
           }
          },
          "title": {
           "x": 0.05
          },
          "xaxis": {
           "automargin": true,
           "gridcolor": "white",
           "linecolor": "white",
           "ticks": "",
           "title": {
            "standoff": 15
           },
           "zerolinecolor": "white",
           "zerolinewidth": 2
          },
          "yaxis": {
           "automargin": true,
           "gridcolor": "white",
           "linecolor": "white",
           "ticks": "",
           "title": {
            "standoff": 15
           },
           "zerolinecolor": "white",
           "zerolinewidth": 2
          }
         }
        },
        "title": {
         "text": "t-SNE Visualization of Track Embeddings (Sample)"
        },
        "width": 1000,
        "xaxis": {
         "anchor": "y",
         "domain": [
          0,
          1
         ],
         "title": {
          "text": "x"
         }
        },
        "yaxis": {
         "anchor": "x",
         "domain": [
          0,
          1
         ],
         "title": {
          "text": "y"
         }
        }
       }
      }
     },
     "metadata": {},
     "output_type": "display_data"
    }
   ],
   "source": [
    "# Example usage (assuming you have track_embeddings and node_community)\n",
    "plot_track_embeddings_tsne_plotly(structural_track_embeddings, node_community, song_id_name_dict,sample_size=1000)"
   ]
  },
  {
   "cell_type": "markdown",
   "id": "dc7d6c1e-d131-46fd-a790-0e02cf54ba3a",
   "metadata": {},
   "source": [
    "# Content Based Dissimilarity: "
   ]
  },
  {
   "cell_type": "markdown",
   "id": "825d50fd-bf89-44c1-8e9b-262121a9c5d2",
   "metadata": {},
   "source": [
    "## Data Load and Statistics"
   ]
  },
  {
   "cell_type": "code",
   "execution_count": 72,
   "id": "4619e070-447d-40c8-89e3-ef4c1f3f6b11",
   "metadata": {},
   "outputs": [],
   "source": [
    "train_graph_df = pd.read_csv('data/train_graph_df_clean.csv').rename(columns={\"Artist\": \"Artist\", \"Song_Name\": \"Song\"})"
   ]
  },
  {
   "cell_type": "code",
   "execution_count": 73,
   "id": "fa5d3c73-26e5-4e64-8f4a-b1c8d80e3bbf",
   "metadata": {},
   "outputs": [],
   "source": [
    "song_tags_df = pd.read_csv('data/tags_audio/song_tags_df.csv')\n",
    "song_tags_df = song_tags_df.rename(columns={\"Artist\": \"Artist\", \"Song_Name\": \"Song\", \"Song_Tags\": \"Tags\"})"
   ]
  },
  {
   "cell_type": "code",
   "execution_count": 74,
   "id": "fe0e70f9-5067-4989-847a-e2112a3057ad",
   "metadata": {},
   "outputs": [
    {
     "data": {
      "text/html": [
       "<div>\n",
       "<style scoped>\n",
       "    .dataframe tbody tr th:only-of-type {\n",
       "        vertical-align: middle;\n",
       "    }\n",
       "\n",
       "    .dataframe tbody tr th {\n",
       "        vertical-align: top;\n",
       "    }\n",
       "\n",
       "    .dataframe thead th {\n",
       "        text-align: right;\n",
       "    }\n",
       "</style>\n",
       "<table border=\"1\" class=\"dataframe\">\n",
       "  <thead>\n",
       "    <tr style=\"text-align: right;\">\n",
       "      <th></th>\n",
       "      <th>Artist</th>\n",
       "      <th>Song</th>\n",
       "      <th>Tags</th>\n",
       "      <th>Song_ID</th>\n",
       "    </tr>\n",
       "  </thead>\n",
       "  <tbody>\n",
       "    <tr>\n",
       "      <th>0</th>\n",
       "      <td>Black Kids</td>\n",
       "      <td>I'm Not Gonna Teach Your Boyfriend How to Danc...</td>\n",
       "      <td>indie, indie pop, indie rock, black kids, love...</td>\n",
       "      <td>3307</td>\n",
       "    </tr>\n",
       "    <tr>\n",
       "      <th>1</th>\n",
       "      <td>Black Kids</td>\n",
       "      <td>Hit The Heartbrakes</td>\n",
       "      <td>indie, indie rock, indie pop, rock, catchy</td>\n",
       "      <td>3308</td>\n",
       "    </tr>\n",
       "    <tr>\n",
       "      <th>2</th>\n",
       "      <td>Black Kids</td>\n",
       "      <td>I've Underestimated My Charm (Again)</td>\n",
       "      <td>indie, black kids, indie pop, rock, alternative</td>\n",
       "      <td>3309</td>\n",
       "    </tr>\n",
       "    <tr>\n",
       "      <th>3</th>\n",
       "      <td>Black Kids</td>\n",
       "      <td>Partie Traumatic</td>\n",
       "      <td>indie, indie pop, pop, alternative rock, indie...</td>\n",
       "      <td>3310</td>\n",
       "    </tr>\n",
       "    <tr>\n",
       "      <th>4</th>\n",
       "      <td>Black Kids</td>\n",
       "      <td>I'm Making Eyes at You</td>\n",
       "      <td>indie, indie pop, black kids, 2008, pop</td>\n",
       "      <td>3311</td>\n",
       "    </tr>\n",
       "    <tr>\n",
       "      <th>...</th>\n",
       "      <td>...</td>\n",
       "      <td>...</td>\n",
       "      <td>...</td>\n",
       "      <td>...</td>\n",
       "    </tr>\n",
       "    <tr>\n",
       "      <th>252008</th>\n",
       "      <td>Juveniles</td>\n",
       "      <td>Ambitions</td>\n",
       "      <td>french, electro, 10s</td>\n",
       "      <td>19818</td>\n",
       "    </tr>\n",
       "    <tr>\n",
       "      <th>252009</th>\n",
       "      <td>Daedelus</td>\n",
       "      <td>Get Off Your HiHats</td>\n",
       "      <td>american i like, electronic, funky, chill, dub...</td>\n",
       "      <td>204002</td>\n",
       "    </tr>\n",
       "    <tr>\n",
       "      <th>252010</th>\n",
       "      <td>Floetry</td>\n",
       "      <td>Let Me In</td>\n",
       "      <td>Neo-Soul, soul, floetry, rnb, smooth</td>\n",
       "      <td>222619</td>\n",
       "    </tr>\n",
       "    <tr>\n",
       "      <th>252011</th>\n",
       "      <td>Katatonia</td>\n",
       "      <td>Sleeper</td>\n",
       "      <td>doom metal, Progressive metal, metal, Progress...</td>\n",
       "      <td>145949</td>\n",
       "    </tr>\n",
       "    <tr>\n",
       "      <th>252012</th>\n",
       "      <td>Diana Ross and the Supremes</td>\n",
       "      <td>You Can't Hurry Love</td>\n",
       "      <td>motown, soul, oldies, 60s, pop</td>\n",
       "      <td>64203</td>\n",
       "    </tr>\n",
       "  </tbody>\n",
       "</table>\n",
       "<p>252013 rows × 4 columns</p>\n",
       "</div>"
      ],
      "text/plain": [
       "                             Artist  \\\n",
       "0                        Black Kids   \n",
       "1                        Black Kids   \n",
       "2                        Black Kids   \n",
       "3                        Black Kids   \n",
       "4                        Black Kids   \n",
       "...                             ...   \n",
       "252008                    Juveniles   \n",
       "252009                     Daedelus   \n",
       "252010                      Floetry   \n",
       "252011                    Katatonia   \n",
       "252012  Diana Ross and the Supremes   \n",
       "\n",
       "                                                     Song  \\\n",
       "0       I'm Not Gonna Teach Your Boyfriend How to Danc...   \n",
       "1                                     Hit The Heartbrakes   \n",
       "2                    I've Underestimated My Charm (Again)   \n",
       "3                                        Partie Traumatic   \n",
       "4                                  I'm Making Eyes at You   \n",
       "...                                                   ...   \n",
       "252008                                          Ambitions   \n",
       "252009                                Get Off Your HiHats   \n",
       "252010                                          Let Me In   \n",
       "252011                                            Sleeper   \n",
       "252012                               You Can't Hurry Love   \n",
       "\n",
       "                                                     Tags  Song_ID  \n",
       "0       indie, indie pop, indie rock, black kids, love...     3307  \n",
       "1              indie, indie rock, indie pop, rock, catchy     3308  \n",
       "2         indie, black kids, indie pop, rock, alternative     3309  \n",
       "3       indie, indie pop, pop, alternative rock, indie...     3310  \n",
       "4                 indie, indie pop, black kids, 2008, pop     3311  \n",
       "...                                                   ...      ...  \n",
       "252008                               french, electro, 10s    19818  \n",
       "252009  american i like, electronic, funky, chill, dub...   204002  \n",
       "252010               Neo-Soul, soul, floetry, rnb, smooth   222619  \n",
       "252011  doom metal, Progressive metal, metal, Progress...   145949  \n",
       "252012                     motown, soul, oldies, 60s, pop    64203  \n",
       "\n",
       "[252013 rows x 4 columns]"
      ]
     },
     "execution_count": 74,
     "metadata": {},
     "output_type": "execute_result"
    }
   ],
   "source": [
    "song_tags_df"
   ]
  },
  {
   "cell_type": "code",
   "execution_count": 75,
   "id": "ad1b0a20-8564-411e-84ee-21f26d112761",
   "metadata": {},
   "outputs": [
    {
     "data": {
      "text/html": [
       "<div>\n",
       "<style scoped>\n",
       "    .dataframe tbody tr th:only-of-type {\n",
       "        vertical-align: middle;\n",
       "    }\n",
       "\n",
       "    .dataframe tbody tr th {\n",
       "        vertical-align: top;\n",
       "    }\n",
       "\n",
       "    .dataframe thead th {\n",
       "        text-align: right;\n",
       "    }\n",
       "</style>\n",
       "<table border=\"1\" class=\"dataframe\">\n",
       "  <thead>\n",
       "    <tr style=\"text-align: right;\">\n",
       "      <th></th>\n",
       "      <th>Artist</th>\n",
       "      <th>Song</th>\n",
       "      <th>Tags</th>\n",
       "      <th>Song_ID</th>\n",
       "    </tr>\n",
       "  </thead>\n",
       "  <tbody>\n",
       "  </tbody>\n",
       "</table>\n",
       "</div>"
      ],
      "text/plain": [
       "Empty DataFrame\n",
       "Columns: [Artist, Song, Tags, Song_ID]\n",
       "Index: []"
      ]
     },
     "execution_count": 75,
     "metadata": {},
     "output_type": "execute_result"
    }
   ],
   "source": [
    "song_tags_df[song_tags_df[\"Song\"].isnull()]"
   ]
  },
  {
   "cell_type": "code",
   "execution_count": 76,
   "id": "947f3232-7652-43bd-99de-cbcd5e35f422",
   "metadata": {},
   "outputs": [
    {
     "data": {
      "text/html": [
       "<div>\n",
       "<style scoped>\n",
       "    .dataframe tbody tr th:only-of-type {\n",
       "        vertical-align: middle;\n",
       "    }\n",
       "\n",
       "    .dataframe tbody tr th {\n",
       "        vertical-align: top;\n",
       "    }\n",
       "\n",
       "    .dataframe thead th {\n",
       "        text-align: right;\n",
       "    }\n",
       "</style>\n",
       "<table border=\"1\" class=\"dataframe\">\n",
       "  <thead>\n",
       "    <tr style=\"text-align: right;\">\n",
       "      <th></th>\n",
       "      <th>Artist</th>\n",
       "      <th>Song</th>\n",
       "      <th>Tags</th>\n",
       "      <th>Song_ID</th>\n",
       "    </tr>\n",
       "  </thead>\n",
       "  <tbody>\n",
       "  </tbody>\n",
       "</table>\n",
       "</div>"
      ],
      "text/plain": [
       "Empty DataFrame\n",
       "Columns: [Artist, Song, Tags, Song_ID]\n",
       "Index: []"
      ]
     },
     "execution_count": 76,
     "metadata": {},
     "output_type": "execute_result"
    }
   ],
   "source": [
    "song_tags_df[song_tags_df[\"Song_ID\"] == 68691]"
   ]
  },
  {
   "cell_type": "code",
   "execution_count": 77,
   "id": "27e3765a-a167-4c72-8407-e62ddda489b8",
   "metadata": {},
   "outputs": [],
   "source": [
    "#Same function but wrote it myself\n",
    "New_Song_ID_dict = {}\n",
    "new_ID_Counter = 0\n",
    "missing_id = 68691\n",
    "\n",
    "for song_id in np.sort(song_tags_df['Song_ID'].unique()):\n",
    "    #print(song_id)\n",
    "    if song_id != missing_id:\n",
    "        \n",
    "        #new_ID = new_ID_Counter\n",
    "        New_Song_ID_dict[song_id] = new_ID_Counter\n",
    "        new_ID_Counter += 1\n",
    "        #print(New_Song_ID)\n",
    "\n",
    "#New_Song_ID_dict\n"
   ]
  },
  {
   "cell_type": "code",
   "execution_count": 78,
   "id": "55308520-cb4b-47ef-a907-556780cf332a",
   "metadata": {},
   "outputs": [],
   "source": [
    "# Apply the mapping to the dataset\n",
    "song_tags_df['Song_ID'] = song_tags_df['Song_ID'].map(New_Song_ID_dict)"
   ]
  },
  {
   "cell_type": "code",
   "execution_count": 79,
   "id": "d219946e-5151-4de6-96f5-d682f3c2f27d",
   "metadata": {},
   "outputs": [
    {
     "data": {
      "text/html": [
       "<div>\n",
       "<style scoped>\n",
       "    .dataframe tbody tr th:only-of-type {\n",
       "        vertical-align: middle;\n",
       "    }\n",
       "\n",
       "    .dataframe tbody tr th {\n",
       "        vertical-align: top;\n",
       "    }\n",
       "\n",
       "    .dataframe thead th {\n",
       "        text-align: right;\n",
       "    }\n",
       "</style>\n",
       "<table border=\"1\" class=\"dataframe\">\n",
       "  <thead>\n",
       "    <tr style=\"text-align: right;\">\n",
       "      <th></th>\n",
       "      <th>Artist</th>\n",
       "      <th>Song</th>\n",
       "      <th>Tags</th>\n",
       "      <th>Song_ID</th>\n",
       "    </tr>\n",
       "  </thead>\n",
       "  <tbody>\n",
       "    <tr>\n",
       "      <th>97169</th>\n",
       "      <td>BaianaSystem</td>\n",
       "      <td>Capim Guiné</td>\n",
       "      <td>seen live</td>\n",
       "      <td>252012</td>\n",
       "    </tr>\n",
       "  </tbody>\n",
       "</table>\n",
       "</div>"
      ],
      "text/plain": [
       "             Artist         Song       Tags  Song_ID\n",
       "97169  BaianaSystem  Capim Guiné  seen live   252012"
      ]
     },
     "execution_count": 79,
     "metadata": {},
     "output_type": "execute_result"
    }
   ],
   "source": [
    "song_tags_df[song_tags_df['Song_ID'] == 252012]"
   ]
  },
  {
   "cell_type": "code",
   "execution_count": 80,
   "id": "913842a0-b7fe-49ed-9696-db4812987cb8",
   "metadata": {},
   "outputs": [
    {
     "data": {
      "text/plain": [
       "'indie, indie pop, indie rock, black kids, love at first listen'"
      ]
     },
     "execution_count": 80,
     "metadata": {},
     "output_type": "execute_result"
    }
   ],
   "source": [
    "song_tags_df[\"Tags\"][0]"
   ]
  },
  {
   "cell_type": "code",
   "execution_count": 81,
   "id": "f9ab4a36-0755-4995-b5ed-e46f2fd11422",
   "metadata": {},
   "outputs": [
    {
     "data": {
      "text/html": [
       "<div>\n",
       "<style scoped>\n",
       "    .dataframe tbody tr th:only-of-type {\n",
       "        vertical-align: middle;\n",
       "    }\n",
       "\n",
       "    .dataframe tbody tr th {\n",
       "        vertical-align: top;\n",
       "    }\n",
       "\n",
       "    .dataframe thead th {\n",
       "        text-align: right;\n",
       "    }\n",
       "</style>\n",
       "<table border=\"1\" class=\"dataframe\">\n",
       "  <thead>\n",
       "    <tr style=\"text-align: right;\">\n",
       "      <th></th>\n",
       "      <th>Artist</th>\n",
       "      <th>Song</th>\n",
       "      <th>Tags</th>\n",
       "      <th>Song_ID</th>\n",
       "    </tr>\n",
       "  </thead>\n",
       "  <tbody>\n",
       "    <tr>\n",
       "      <th>0</th>\n",
       "      <td>Black Kids</td>\n",
       "      <td>I'm Not Gonna Teach Your Boyfriend How to Danc...</td>\n",
       "      <td>indie, indie pop, indie rock, black kids, love...</td>\n",
       "      <td>0</td>\n",
       "    </tr>\n",
       "    <tr>\n",
       "      <th>1</th>\n",
       "      <td>Black Kids</td>\n",
       "      <td>Hit The Heartbrakes</td>\n",
       "      <td>indie, indie rock, indie pop, rock, catchy</td>\n",
       "      <td>1</td>\n",
       "    </tr>\n",
       "    <tr>\n",
       "      <th>2</th>\n",
       "      <td>Black Kids</td>\n",
       "      <td>I've Underestimated My Charm (Again)</td>\n",
       "      <td>indie, black kids, indie pop, rock, alternative</td>\n",
       "      <td>2</td>\n",
       "    </tr>\n",
       "    <tr>\n",
       "      <th>3</th>\n",
       "      <td>Black Kids</td>\n",
       "      <td>Partie Traumatic</td>\n",
       "      <td>indie, indie pop, pop, alternative rock, indie...</td>\n",
       "      <td>3</td>\n",
       "    </tr>\n",
       "    <tr>\n",
       "      <th>4</th>\n",
       "      <td>Black Kids</td>\n",
       "      <td>I'm Making Eyes at You</td>\n",
       "      <td>indie, indie pop, black kids, 2008, pop</td>\n",
       "      <td>4</td>\n",
       "    </tr>\n",
       "    <tr>\n",
       "      <th>...</th>\n",
       "      <td>...</td>\n",
       "      <td>...</td>\n",
       "      <td>...</td>\n",
       "      <td>...</td>\n",
       "    </tr>\n",
       "    <tr>\n",
       "      <th>252008</th>\n",
       "      <td>Juveniles</td>\n",
       "      <td>Ambitions</td>\n",
       "      <td>french, electro, 10s</td>\n",
       "      <td>16511</td>\n",
       "    </tr>\n",
       "    <tr>\n",
       "      <th>252009</th>\n",
       "      <td>Daedelus</td>\n",
       "      <td>Get Off Your HiHats</td>\n",
       "      <td>american i like, electronic, funky, chill, dub...</td>\n",
       "      <td>200694</td>\n",
       "    </tr>\n",
       "    <tr>\n",
       "      <th>252010</th>\n",
       "      <td>Floetry</td>\n",
       "      <td>Let Me In</td>\n",
       "      <td>Neo-Soul, soul, floetry, rnb, smooth</td>\n",
       "      <td>219311</td>\n",
       "    </tr>\n",
       "    <tr>\n",
       "      <th>252011</th>\n",
       "      <td>Katatonia</td>\n",
       "      <td>Sleeper</td>\n",
       "      <td>doom metal, Progressive metal, metal, Progress...</td>\n",
       "      <td>142641</td>\n",
       "    </tr>\n",
       "    <tr>\n",
       "      <th>252012</th>\n",
       "      <td>Diana Ross and the Supremes</td>\n",
       "      <td>You Can't Hurry Love</td>\n",
       "      <td>motown, soul, oldies, 60s, pop</td>\n",
       "      <td>60896</td>\n",
       "    </tr>\n",
       "  </tbody>\n",
       "</table>\n",
       "<p>252013 rows × 4 columns</p>\n",
       "</div>"
      ],
      "text/plain": [
       "                             Artist  \\\n",
       "0                        Black Kids   \n",
       "1                        Black Kids   \n",
       "2                        Black Kids   \n",
       "3                        Black Kids   \n",
       "4                        Black Kids   \n",
       "...                             ...   \n",
       "252008                    Juveniles   \n",
       "252009                     Daedelus   \n",
       "252010                      Floetry   \n",
       "252011                    Katatonia   \n",
       "252012  Diana Ross and the Supremes   \n",
       "\n",
       "                                                     Song  \\\n",
       "0       I'm Not Gonna Teach Your Boyfriend How to Danc...   \n",
       "1                                     Hit The Heartbrakes   \n",
       "2                    I've Underestimated My Charm (Again)   \n",
       "3                                        Partie Traumatic   \n",
       "4                                  I'm Making Eyes at You   \n",
       "...                                                   ...   \n",
       "252008                                          Ambitions   \n",
       "252009                                Get Off Your HiHats   \n",
       "252010                                          Let Me In   \n",
       "252011                                            Sleeper   \n",
       "252012                               You Can't Hurry Love   \n",
       "\n",
       "                                                     Tags  Song_ID  \n",
       "0       indie, indie pop, indie rock, black kids, love...        0  \n",
       "1              indie, indie rock, indie pop, rock, catchy        1  \n",
       "2         indie, black kids, indie pop, rock, alternative        2  \n",
       "3       indie, indie pop, pop, alternative rock, indie...        3  \n",
       "4                 indie, indie pop, black kids, 2008, pop        4  \n",
       "...                                                   ...      ...  \n",
       "252008                               french, electro, 10s    16511  \n",
       "252009  american i like, electronic, funky, chill, dub...   200694  \n",
       "252010               Neo-Soul, soul, floetry, rnb, smooth   219311  \n",
       "252011  doom metal, Progressive metal, metal, Progress...   142641  \n",
       "252012                     motown, soul, oldies, 60s, pop    60896  \n",
       "\n",
       "[252013 rows x 4 columns]"
      ]
     },
     "execution_count": 81,
     "metadata": {},
     "output_type": "execute_result"
    }
   ],
   "source": [
    "song_tags_df"
   ]
  },
  {
   "cell_type": "code",
   "execution_count": 82,
   "id": "8e1bf41f-bcb4-4572-8d0d-fc24ae0379fa",
   "metadata": {},
   "outputs": [
    {
     "name": "stdout",
     "output_type": "stream",
     "text": [
      "Number of unique tags (including 'NaN'): 51724\n",
      "Number of NaN tags: 160\n",
      "Average appearances of tags: 22.37769700719202\n",
      "Maximum appearances of a tag: 55153\n",
      "Minimum appearances of a tag: 1\n"
     ]
    }
   ],
   "source": [
    "# Import necessary libraries\n",
    "import pandas as pd\n",
    "import numpy as np\n",
    "\n",
    "# Load your DataFrame\n",
    "# Assuming your DataFrame is named song_tags_df\n",
    "# song_tags_df = pd.read_csv(\"your_dataset.csv\")\n",
    "\n",
    "# Fill NaN values in the 'Tags' column with a special token\n",
    "song_tags_df['Tags'] = song_tags_df['Tags'].fillna('NaN')\n",
    "\n",
    "# Split the tags in each row by \",\"\n",
    "song_tags_df['Tags'] = song_tags_df['Tags'].apply(lambda x: x.split(', ') if isinstance(x, str) else [])\n",
    "\n",
    "# Flatten the list of lists into a single list of tags\n",
    "all_tags = [tag.strip() for tags_list in song_tags_df['Tags'] for tag in tags_list]\n",
    "\n",
    "# Calculate the number of unique tags (including 'NaN')\n",
    "unique_tags = set(all_tags)\n",
    "num_unique_tags = len(unique_tags)\n",
    "\n",
    "# Calculate the number of NaN tags\n",
    "num_nan_tags = all_tags.count('NaN')\n",
    "\n",
    "# Calculate the average, maximum, and minimum appearances of tags\n",
    "tag_appearances = pd.Series(all_tags).value_counts()\n",
    "average_appearances = tag_appearances.mean()\n",
    "max_appearances = tag_appearances.max()\n",
    "min_appearances = tag_appearances.min()\n",
    "\n",
    "# Print the results\n",
    "print(\"Number of unique tags (including 'NaN'):\", num_unique_tags)\n",
    "print(\"Number of NaN tags:\", num_nan_tags)\n",
    "print(\"Average appearances of tags:\", average_appearances)\n",
    "print(\"Maximum appearances of a tag:\", max_appearances)\n",
    "print(\"Minimum appearances of a tag:\", min_appearances)\n"
   ]
  },
  {
   "cell_type": "code",
   "execution_count": 83,
   "id": "170d4704-45a0-465a-89b5-2d9248a4ee28",
   "metadata": {},
   "outputs": [
    {
     "name": "stdout",
     "output_type": "stream",
     "text": [
      "Average number of tags per row: 4.5928741771257835\n",
      "Maximum number of tags per row: 8\n",
      "Minimum number of tags per row: 1\n"
     ]
    }
   ],
   "source": [
    "# Calculate the average, maximum, and minimum number of tags per row\n",
    "num_tags_per_row = song_tags_df['Tags'].apply(len)\n",
    "average_tags_per_row = num_tags_per_row.mean()\n",
    "max_tags_per_row = num_tags_per_row.max()\n",
    "min_tags_per_row = num_tags_per_row.min()\n",
    "\n",
    "# Print the results\n",
    "print(\"Average number of tags per row:\", average_tags_per_row)\n",
    "print(\"Maximum number of tags per row:\", max_tags_per_row)\n",
    "print(\"Minimum number of tags per row:\", min_tags_per_row)\n"
   ]
  },
  {
   "cell_type": "markdown",
   "id": "cd29c593-de54-4ea0-bbb9-f53015f19eb8",
   "metadata": {},
   "source": [
    "## Pre Processing Training Data"
   ]
  },
  {
   "cell_type": "code",
   "execution_count": 84,
   "id": "793a6548-cc91-4d4e-beef-d6c80f19e7c9",
   "metadata": {},
   "outputs": [],
   "source": [
    "# Define functions for preprocessing (optional)\n",
    "def preprocess_tag(tag):\n",
    "  # Lowercase, remove punctuation, etc. (implement your desired cleaning)\n",
    "  return tag.lower().replace(' ', '-').strip()\n"
   ]
  },
  {
   "cell_type": "code",
   "execution_count": 85,
   "id": "33a4e903-5119-47e6-b3dd-90abb708e68f",
   "metadata": {},
   "outputs": [],
   "source": [
    "# Preprocess tags (optional)\n",
    "preprocessed_tags = [[preprocess_tag(tag) for tag in song_tags] for song_tags in song_tags_df[\"Tags\"]]"
   ]
  },
  {
   "cell_type": "code",
   "execution_count": 86,
   "id": "75a852d7-8945-4be7-9e80-dd0c99ad84e9",
   "metadata": {},
   "outputs": [
    {
     "data": {
      "text/plain": [
       "252013"
      ]
     },
     "execution_count": 86,
     "metadata": {},
     "output_type": "execute_result"
    }
   ],
   "source": [
    "len(preprocessed_tags)"
   ]
  },
  {
   "cell_type": "code",
   "execution_count": 87,
   "id": "42ecddcd-4bcb-463d-a26e-686d620f71b1",
   "metadata": {},
   "outputs": [
    {
     "data": {
      "text/plain": [
       "['indie', 'indie-pop', 'indie-rock', 'black-kids', 'love-at-first-listen']"
      ]
     },
     "execution_count": 87,
     "metadata": {},
     "output_type": "execute_result"
    }
   ],
   "source": [
    "preprocessed_tags[0]"
   ]
  },
  {
   "cell_type": "markdown",
   "id": "8f30fa80-5543-40b2-b2ff-a23ad1ffe6d7",
   "metadata": {},
   "source": [
    "## Word 2 Vec Gensim Model"
   ]
  },
  {
   "cell_type": "code",
   "execution_count": 88,
   "id": "00d06fb8-7827-4ce4-a028-98ba543284f7",
   "metadata": {},
   "outputs": [
    {
     "name": "stdout",
     "output_type": "stream",
     "text": [
      "Recommended parameters:\n",
      "vector_size: 227\n",
      "min_count: 44\n",
      "window: 9\n"
     ]
    }
   ],
   "source": [
    "# Import libraries\n",
    "import numpy as np\n",
    "\n",
    "# Define statistics for your tags data\n",
    "num_unique_tags = 51724  # Including NaN\n",
    "avg_tag_appearances = 22.377697\n",
    "avg_tags_per_row = 4.592874\n",
    "\n",
    "# Set vector_size based on the number of unique tags (consider a trade-off between accuracy and efficiency)\n",
    "vector_size = min(300, int(np.sqrt(num_unique_tags)))  # Adjust upper limit as needed\n",
    "\n",
    "# Set min_count to filter out very rare tags (considering the average appearances)\n",
    "min_count = int(max(5, 2 * avg_tag_appearances))  # Adjust multiplier as needed\n",
    "\n",
    "# Set window size based on the average number of tags per row\n",
    "window = int(2 * avg_tags_per_row)  # Adjust multiplier as needed\n",
    "\n",
    "print(f\"Recommended parameters:\")\n",
    "print(f\"vector_size: {vector_size}\")\n",
    "print(f\"min_count: {min_count}\")\n",
    "print(f\"window: {window}\")\n",
    "vector_size = 300"
   ]
  },
  {
   "cell_type": "code",
   "execution_count": 89,
   "id": "e892b94b-15d6-417c-843f-c77808d9961a",
   "metadata": {},
   "outputs": [],
   "source": [
    "#train Model\n",
    "def train_w2c_model(vector_size = 300, min_count = 5, window = 9):\n",
    "  # Define training parameters\n",
    "  vector_size = vector_size  # Embedding dimension (adjustable) vector_size:\n",
    "                      #A common rule of thumb is to set vector_size to be around\n",
    "                      #the square root of the number of unique tokens.\n",
    "                      #In your case, with 51724 unique tags (including NaN),\n",
    "                      #this suggests a vector_size of around sqrt(51724) ≈ 227.\n",
    "\n",
    "  min_count = min_count  # Minimum tag frequency (filter out rare tags)\n",
    "                  #This parameter filters out infrequent tags. With an average appearance of 22.38 per tag,\n",
    "                  #you can set a min_count of at least 5 to filter out very rare tags that might not\n",
    "                  #contribute much to meaningful embeddings. You can adjust this further based on your data.\n",
    "                  #For instance, if you have many tags with appearances close to the average (22.38),\n",
    "                  #you might consider setting min_count to a higher value (e.g., 10) to avoid filtering out potentially useful tags.\n",
    "\n",
    "  window = window # Context window for capturing tag relationships\n",
    "\n",
    "  # Train the Word2Vec model on the preprocessed tags\n",
    "  #model = Word2Vec(preprocessed_tags_flat, vector_size=vector_size, min_count=min_count, window=window) # this gives only 37 embeddings that make sense\n",
    "\n",
    "  model = Word2Vec(preprocessed_tags, vector_size=vector_size, min_count=min_count, window=window)\n",
    "  return model\n"
   ]
  },
  {
   "cell_type": "code",
   "execution_count": 90,
   "id": "a1c741bd-fb85-44e4-9b05-91eea295ab6a",
   "metadata": {},
   "outputs": [],
   "source": [
    "model = train_w2c_model(vector_size = 300, min_count = 5, window = 9)"
   ]
  },
  {
   "cell_type": "markdown",
   "id": "2177e85a-d488-4f00-93da-e9b9e3dff7ab",
   "metadata": {},
   "source": [
    "## Process Embeddings"
   ]
  },
  {
   "cell_type": "code",
   "execution_count": 91,
   "id": "c2ab3a97-fef3-490d-a71b-887ecb233e82",
   "metadata": {},
   "outputs": [],
   "source": [
    "# Function to get tag embedding\n",
    "def get_tag_embedding(tag):\n",
    "  # Preprocess the tag\n",
    "  preprocessed_tag = preprocess_tag(tag)\n",
    "  # Check if the tag exists in the vocabulary (trained on)\n",
    "  if preprocessed_tag in model.wv:\n",
    "    return model.wv[preprocessed_tag]\n",
    "  else:\n",
    "    # Handle unseen tags (e.g., return zero vector)\n",
    "    return np.zeros(vector_size)  # Replace with your preferred handling\n"
   ]
  },
  {
   "cell_type": "code",
   "execution_count": 92,
   "id": "76633dd9-c098-4733-85f2-f704db497c2a",
   "metadata": {},
   "outputs": [],
   "source": [
    "def create_unique_embeddings(preprocessed_tags):\n",
    "  tags_flat = [item for sublist in preprocessed_tags for item in sublist]\n",
    "  print(len(tags_flat), \"Number of all tags across all songs (non unqiue)\") ## all seperated tags of all songs\n",
    "  tags_flat_set = set(tags_flat) # all unique tags over all songs\n",
    "  print(len(tags_flat_set), \"Number of unique tags across all songs\")\n",
    "\n",
    "  #loop over tags and store embeddings\n",
    "  tag_embeddings_unique = []\n",
    "  tags_embedding_mapping = {}\n",
    "\n",
    "\n",
    "  for tag in tqdm(tags_flat_set):\n",
    "    current_tag_embedding = get_tag_embedding(tag)\n",
    "    tag_embeddings_unique.append(current_tag_embedding)\n",
    "    tags_embedding_mapping[tag] = current_tag_embedding\n",
    "\n",
    "  return tags_embedding_mapping, tag_embeddings_unique"
   ]
  },
  {
   "cell_type": "code",
   "execution_count": 93,
   "id": "60e70411-7d0d-4925-86a5-4b537f196af6",
   "metadata": {},
   "outputs": [],
   "source": [
    "def count_nonzero_embeddings(embeddings):\n",
    "    count_nonzero = 0\n",
    "    for emb in embeddings:\n",
    "        if any(emb):\n",
    "            count_nonzero += 1\n",
    "    return count_nonzero"
   ]
  },
  {
   "cell_type": "code",
   "execution_count": 94,
   "id": "497de17b-68aa-4f00-a47a-bce115c6ebf3",
   "metadata": {},
   "outputs": [
    {
     "name": "stdout",
     "output_type": "stream",
     "text": [
      "1157464 Number of all tags across all songs (non unqiue)\n",
      "51277 Number of unique tags across all songs\n"
     ]
    },
    {
     "name": "stderr",
     "output_type": "stream",
     "text": [
      "100%|██████████| 51277/51277 [00:00<00:00, 601551.00it/s]\n"
     ]
    },
    {
     "name": "stdout",
     "output_type": "stream",
     "text": [
      "Number of embeddings with at least one non-zero dimension in the list: 9080 / 51277\n"
     ]
    }
   ],
   "source": [
    "model = train_w2c_model(vector_size = 300, min_count = 5, window = 9)\n",
    "\n",
    "tags_embedding_mapping, tag_embeddings_unique = create_unique_embeddings(preprocessed_tags)\n",
    "\n",
    "# Assuming tag_embeddings is your list of tag embeddings\n",
    "nonzero_count_list = count_nonzero_embeddings(tag_embeddings_unique)\n",
    "print(\"Number of embeddings with at least one non-zero dimension in the list:\", nonzero_count_list ,\"/\", len(tag_embeddings_unique))"
   ]
  },
  {
   "cell_type": "code",
   "execution_count": 95,
   "id": "62b55ca4",
   "metadata": {},
   "outputs": [
    {
     "name": "stdout",
     "output_type": "stream",
     "text": [
      "Number of tags that only appear once over all songs: 31092\n"
     ]
    }
   ],
   "source": [
    "tags_flat = [item for sublist in preprocessed_tags for item in sublist]\n",
    "\n",
    "unique_tags, tag_counts = np.unique(tags_flat, return_counts=True)\n",
    "single_appearance_tags = unique_tags[tag_counts == 1]\n",
    "print(\"Number of tags that only appear once over all songs:\", len(single_appearance_tags))\n"
   ]
  },
  {
   "cell_type": "code",
   "execution_count": 96,
   "id": "affa1068",
   "metadata": {},
   "outputs": [
    {
     "name": "stdout",
     "output_type": "stream",
     "text": [
      "Number of tags that appear a maximum of 4 times over all songs: 42197\n"
     ]
    }
   ],
   "source": [
    "tags_flat = [item for sublist in preprocessed_tags for item in sublist]\n",
    "\n",
    "unique_tags, tag_counts = np.unique(tags_flat, return_counts=True)\n",
    "max_four_appearance_tags = unique_tags[tag_counts <= 4]\n",
    "print(\"Number of tags that appear a maximum of 4 times over all songs:\", len(max_four_appearance_tags))\n"
   ]
  },
  {
   "cell_type": "code",
   "execution_count": 97,
   "id": "4463bd7e",
   "metadata": {},
   "outputs": [
    {
     "data": {
      "text/plain": [
       "9080"
      ]
     },
     "execution_count": 97,
     "metadata": {},
     "output_type": "execute_result"
    }
   ],
   "source": [
    "51277  - 42197"
   ]
  },
  {
   "cell_type": "markdown",
   "id": "ed8bfed4-f8b1-4586-9c2e-401e4c1e4823",
   "metadata": {},
   "source": [
    "this means most tags are not really appearing often, but there are 9k tags that appear a lot.\n",
    "my idea: if we average tags for each song we ignore the non important tags = the tags with 0 values in all dims,\n",
    "and are left with the 9k \"good\" tags like genres hopefully, eg \"Rock\" etc\""
   ]
  },
  {
   "cell_type": "code",
   "execution_count": 98,
   "id": "de1964d6-1245-4cf7-a6d9-05db48afe807",
   "metadata": {},
   "outputs": [
    {
     "data": {
      "text/plain": [
       "(51277, 300)"
      ]
     },
     "execution_count": 98,
     "metadata": {},
     "output_type": "execute_result"
    }
   ],
   "source": [
    "np.array(tag_embeddings_unique).shape"
   ]
  },
  {
   "cell_type": "code",
   "execution_count": 99,
   "id": "5ddaf8fc-b1a4-49ac-8f3f-0f7bd4f92f2d",
   "metadata": {},
   "outputs": [
    {
     "data": {
      "text/plain": [
       "300"
      ]
     },
     "execution_count": 99,
     "metadata": {},
     "output_type": "execute_result"
    }
   ],
   "source": [
    "len(tag_embeddings_unique[0])"
   ]
  },
  {
   "cell_type": "code",
   "execution_count": 101,
   "id": "e8de58e5-9d79-4ed8-9597-18faa5d2129f",
   "metadata": {},
   "outputs": [
    {
     "name": "stdout",
     "output_type": "stream",
     "text": [
      "Embedding for 'rock': [-0.2481667  -0.07970792  0.63635415 -0.20228952 -1.5209972  -0.00857482\n",
      "  1.1068778   0.11205181 -0.5973965  -1.0289012   0.3331486  -0.47604823\n",
      " -0.9805915   0.3088863  -0.15215077  0.22726944  0.39892584  0.5833486\n",
      " -0.31184062 -0.7686684  -0.26552293  0.16649748 -0.281003    0.2695509\n",
      " -0.6406708  -0.47782323 -0.21597487 -0.565144   -0.6711407   0.00727797\n",
      " -0.33750102  0.44795388 -0.50018823  0.38529626  0.54808885 -0.7408688\n",
      "  0.08570392 -1.4593297   0.87085295 -0.0936271  -0.24918973  0.09241427\n",
      "  0.09690522 -0.15769728 -0.06336109  0.5194622  -0.46606025  0.2820695\n",
      "  0.12083843  0.63949406 -0.2845865   0.28756815  0.1593369   0.4631325\n",
      " -0.474204    0.20675932  0.5772976   0.3783916   0.3115435   0.30530807\n",
      " -0.04657818  0.42130575 -0.46614054 -0.46236357 -0.11606097  0.04040605\n",
      " -1.4626671  -0.6794307  -0.10968447  0.62050194  0.07196193  0.774023\n",
      "  0.12795098  0.29620194  1.1962022   0.3236052   0.32717875  0.02605738\n",
      " -0.40495852  0.3307878   0.47898412 -0.08319848  0.14590007  0.06090985\n",
      " -0.0122902   0.52257365 -0.2684399  -0.46868387  0.12037703  0.52500266\n",
      " -0.05345978 -0.6346772  -0.49470368  0.109952    0.14356363  0.2394319\n",
      "  0.5084484  -0.1577253   0.33960757 -0.586      -0.12252699  0.63165647\n",
      "  0.23077658 -0.2964185   0.01133881  0.48814228 -0.21296528  0.3071454\n",
      " -0.25075945 -0.20776291 -0.2727211   0.36807993 -0.4044308   0.54520273\n",
      " -0.31975582 -0.25866637  0.5603478   1.0899588  -0.467017   -0.64674133\n",
      " -0.2718276  -0.3640883   0.418836   -0.22359325  0.6284144   0.6596282\n",
      " -1.2115412   0.5700279  -0.02420654  0.6930239  -0.29567203 -0.15260859\n",
      " -0.05049552 -0.47715092 -0.5318132  -0.04344814  0.36246544  1.3124866\n",
      "  1.1455623  -0.41824424 -0.00297522  0.49530226  0.9409516  -0.1430549\n",
      " -0.0206604  -0.11655723 -0.05952136  0.22412296  0.21880771  0.23031831\n",
      "  0.08508325 -0.39861482  0.5022152   0.02001756 -0.3954495   0.42332602\n",
      "  0.20029196  0.19074883 -0.39009637  1.0195858  -0.7552624  -0.24011984\n",
      "  0.6814669   0.13231802  0.28340957 -0.31217778  0.2146663   0.10496645\n",
      "  0.09919693 -0.07916905  0.34545332 -0.11896407  0.6224919  -0.4340364\n",
      "  0.47305873 -0.4187223  -0.4578145  -0.35441294 -0.2458164   0.28526413\n",
      "  0.12646924  0.31549236 -0.68795115  0.10218722 -0.10041201 -0.20568442\n",
      " -0.43336105 -0.448053   -0.29213312 -0.75147796  0.3910856  -0.78800535\n",
      "  0.14194882 -0.34811383 -0.3047292  -0.38003165 -0.89133966  0.35068244\n",
      " -0.45599234  0.3960857  -0.7737664  -0.07307921  0.2690335   0.16174954\n",
      "  0.3927262   0.37151155  0.7038145   0.26506487  0.08959108  0.9655219\n",
      " -0.22432056 -0.4269053   0.92546976  0.5677023   0.26291278 -0.05557704\n",
      "  0.24623357  0.3050704   0.00982472 -0.05455465  0.14940125  0.4007301\n",
      " -0.19456683 -0.27875686  0.36902243  0.35294008  0.50161546 -0.15443538\n",
      "  0.17704068 -0.2125511   0.5481664   0.37811834 -0.08537363  0.20201068\n",
      "  0.2844167   0.14361958 -0.11238485  0.0621966  -0.10708627  0.4598848\n",
      " -0.28835988  0.08150257 -0.02649776 -0.22099158 -0.16565755  0.18632792\n",
      " -0.633858   -0.74921995  0.42019275 -0.86633754  0.40568665  0.13549511\n",
      "  0.0692886  -0.3239051  -0.01965829 -0.6198968  -0.27116627  0.23013899\n",
      " -0.07994728  0.10663458 -0.31209368 -0.786161    0.16668245  0.52499676\n",
      " -0.4551117  -0.04583004  0.36720216 -0.14924884  0.07398368  0.39828336\n",
      "  0.4363052  -0.00980991 -0.87317276 -0.50487685 -0.18882082  0.0249275\n",
      "  0.2491533   0.7243759  -0.39746988  0.11556379 -0.75595605  0.22384219\n",
      "  0.36662507 -0.09121018  0.33624768  0.5850236  -0.03364482 -0.23719983\n",
      "  0.7073652  -0.67628014  0.00519304 -0.24219371 -0.09795618 -0.29217646\n",
      " -0.99268407 -0.25404686  0.19538088  0.5774556  -0.0758829  -0.45524305]\n"
     ]
    }
   ],
   "source": [
    "# Example usage: Get embedding for a specific tag\n",
    "tag = \"rock\"\n",
    "tag_embedding = get_tag_embedding(tag)\n",
    "print(f\"Embedding for '{tag}': {tag_embedding}\")"
   ]
  },
  {
   "cell_type": "markdown",
   "id": "9fdaae0e-27da-4c94-bafc-83bb8e364a8b",
   "metadata": {},
   "source": [
    "## Embedding Quality Check:"
   ]
  },
  {
   "cell_type": "markdown",
   "id": "3fed67f4-ad72-4cd1-8711-01671a07ef0a",
   "metadata": {},
   "source": [
    "## Averaging Song Embeddings\n",
    "= Content Based Track Embeddings"
   ]
  },
  {
   "cell_type": "code",
   "execution_count": 104,
   "id": "9796faac-b237-4741-8cd1-72b336d867b7",
   "metadata": {},
   "outputs": [],
   "source": [
    "# Assuming 'song_tags_df' is your DataFrame with songs, artists, and tags\n",
    "# Assuming 'tags_embedding_mapping' is a dictionary mapping tags to their embeddings\n",
    "def create_avrg_song_embeddings(song_tags_df, tags_embedding_mapping):\n",
    "\n",
    "  song_embeddings = {}  # Dictionary to store song and its average embedding\n",
    "\n",
    "  #iterate over all songs\n",
    "  for index, row in tqdm(song_tags_df.iterrows(), total=len(song_tags_df)):\n",
    "    song_id = row[\"Song_ID\"]\n",
    "    song_name = row[\"Song\"]\n",
    "    song_tags = row[\"Tags\"]\n",
    "\n",
    "    #average the tag embeddings per song\n",
    "    song_embedding_sum = np.zeros(len(tags_embedding_mapping[list(tags_embedding_mapping.keys())[0]]))  # Initialize with zero vector\n",
    "    for tag in song_tags:\n",
    "      tag = preprocess_tag(tag)\n",
    "      if tag in tags_embedding_mapping:  # Handle missing tags (optional)\n",
    "        song_embedding_sum += tags_embedding_mapping[tag]\n",
    "      else:\n",
    "        break\n",
    "        print(tag, \" is not in Embedding Dictionary\")\n",
    "\n",
    "    if len(song_tags) > 0:  # Avoid division by zero (optional)\n",
    "      average_embedding = song_embedding_sum / len(song_tags)\n",
    "    else:\n",
    "      average_embedding = np.zeros_like(song_embedding_sum)  # Assign zero vector for songs with no tags\n",
    "      print(song_name, song_id, song_tags, \" has no Tags\")\n",
    "\n",
    "    song_embeddings[song_id] = average_embedding\n",
    "  return song_embeddings\n"
   ]
  },
  {
   "cell_type": "code",
   "execution_count": 105,
   "id": "8f8f1353-9ceb-4cfa-bdf1-1adb0c5353b1",
   "metadata": {},
   "outputs": [
    {
     "name": "stderr",
     "output_type": "stream",
     "text": [
      "100%|██████████| 252013/252013 [02:27<00:00, 1706.64it/s]\n"
     ]
    },
    {
     "name": "stdout",
     "output_type": "stream",
     "text": [
      "Embeddings created and saved to data/embeddings/content_based_track_embeddings.pickle\n"
     ]
    }
   ],
   "source": [
    "# Define the path to save the embeddings\n",
    "embeddings_path = 'data/embeddings/content_based_track_embeddings.pickle'\n",
    "\n",
    "# Check if the embeddings file already exists\n",
    "if os.path.exists(embeddings_path):\n",
    "    # If it exists, load the embeddings\n",
    "    with open(embeddings_path, 'rb') as f:\n",
    "        song_embeddings = pickle.load(f)\n",
    "    print(f\"Embeddings loaded from {embeddings_path}\")\n",
    "else:\n",
    "    # If not, create the embeddings, save them, and then load\n",
    "    song_embeddings = create_avrg_song_embeddings(song_tags_df, tags_embedding_mapping)\n",
    "    with open(embeddings_path, 'wb') as f:\n",
    "        pickle.dump(song_embeddings, f)\n",
    "    print(f\"Embeddings created and saved to {embeddings_path}\")"
   ]
  },
  {
   "cell_type": "code",
   "execution_count": 107,
   "id": "3e571e61-a20a-4d90-980b-d143e12e700f",
   "metadata": {},
   "outputs": [
    {
     "data": {
      "text/plain": [
       "252013"
      ]
     },
     "execution_count": 107,
     "metadata": {},
     "output_type": "execute_result"
    }
   ],
   "source": [
    "len(song_embeddings)"
   ]
  },
  {
   "cell_type": "markdown",
   "id": "c3dd1ec9-4eb0-42b6-8775-ab22dd478697",
   "metadata": {},
   "source": [
    "# Vizualization of Embeddings"
   ]
  },
  {
   "cell_type": "code",
   "execution_count": 108,
   "id": "884929ef-8b77-471a-b0e8-4c389cbb79b5",
   "metadata": {},
   "outputs": [
    {
     "data": {
      "text/plain": [
       "252013"
      ]
     },
     "execution_count": 108,
     "metadata": {},
     "output_type": "execute_result"
    }
   ],
   "source": [
    "len(song_embeddings)"
   ]
  },
  {
   "cell_type": "markdown",
   "id": "e4733542-9f27-4ab7-b497-12dcbc9a32a2",
   "metadata": {},
   "source": [
    "### Select Artists / Songs to Plot"
   ]
  },
  {
   "cell_type": "code",
   "execution_count": 109,
   "id": "b73c3f2d-b4de-40ca-8f3e-1f6d1d9450f6",
   "metadata": {},
   "outputs": [],
   "source": [
    "## create TrackID - Track NAme Mapping\n",
    "song_name_id_dict = dict(zip(song_tags_df['Song_ID'], song_tags_df['Song']))\n",
    "artist_info = dict(zip(song_tags_df['Artist'], song_tags_df['Song_ID']))\n",
    "#song_id_name_dict"
   ]
  },
  {
   "cell_type": "code",
   "execution_count": 110,
   "id": "9169fc19-63dd-48f4-8fbf-8b5fec067690",
   "metadata": {},
   "outputs": [
    {
     "name": "stderr",
     "output_type": "stream",
     "text": [
      "100%|██████████| 252013/252013 [00:03<00:00, 69129.75it/s]\n"
     ]
    }
   ],
   "source": [
    "\n",
    "# Assuming 'songdf' is your DataFrame with Artist and Song_ID columns\n",
    "song_name_id_dict = {}\n",
    "artist_info = {}\n",
    "\n",
    "for index, row in tqdm(song_tags_df.iterrows(), total= len(song_tags_df)):\n",
    "  artist_name = row[\"Artist\"]\n",
    "  song_id = row[\"Song_ID\"]\n",
    "  song_name = row[\"Song\"]\n",
    "\n",
    "  # Check if artist exists in the dictionary\n",
    "  if artist_name not in artist_info:\n",
    "    artist_info[artist_name] = []  # Initialize an empty list for song IDs\n",
    "\n",
    "  # Append song ID to the artist's list\n",
    "  artist_info[artist_name].append(song_id)\n",
    "  song_name_id_dict[song_id] = song_name\n",
    "\n",
    "# Now 'artist_info' is a dictionary with {artist: [song_ID1, song_ID2, ...]} structure\n"
   ]
  },
  {
   "cell_type": "code",
   "execution_count": 111,
   "id": "780945d9-afb6-4144-8cb9-4e345c85005c",
   "metadata": {},
   "outputs": [],
   "source": [
    "artists = ['Black Kids', 'Taylor Swift', 'Slipknot', 'Linkin Park', 'Red Hot Chili Peppers', 'Falco', 'Miles Davis', 'Martin Garrix', \"John Coltrane\", \"Foo Fighters\", \"Johann Sebastian Bach\" ]"
   ]
  },
  {
   "cell_type": "code",
   "execution_count": 112,
   "id": "3640f598-638d-4c1f-84b0-c9b0af9d4aa5",
   "metadata": {
    "scrolled": true
   },
   "outputs": [],
   "source": [
    "#artist_info['Taylor Swift']"
   ]
  },
  {
   "cell_type": "code",
   "execution_count": 113,
   "id": "6473c6e1-8249-44cf-a1dd-d2cffb3f69cf",
   "metadata": {
    "scrolled": true
   },
   "outputs": [],
   "source": [
    "selected_songs = []\n",
    "selected_artists = {}\n",
    "# not working yet\n",
    "color_map = {}\n",
    "\n",
    "for artist in artists:\n",
    "  for idx in artist_info[artist]:\n",
    "    #print(idx)\n",
    "    selected_songs.append(idx)\n",
    "    selected_artists[idx] = artist\n",
    "\n",
    "    #color_map[artist] = cm.get_cmap('tab10')\n",
    "#selected_songs"
   ]
  },
  {
   "cell_type": "code",
   "execution_count": 114,
   "id": "cd4c4645-cb0d-448e-820a-fbbf9d1b44b1",
   "metadata": {},
   "outputs": [],
   "source": [
    "# Define a list of song IDs for comparison (replace with your choices from different artists)\n",
    "\n",
    "selected_song_embeddings = []\n",
    "for song_id in selected_songs:\n",
    "  selected_song_embeddings.append(song_embeddings[song_id])\n",
    "\n",
    "selected_song_embeddings = np.array(selected_song_embeddings)"
   ]
  },
  {
   "cell_type": "code",
   "execution_count": 115,
   "id": "ed6abaf1-e0e1-410c-979c-d7d995168307",
   "metadata": {},
   "outputs": [
    {
     "data": {
      "text/plain": [
       "(1146, 300)"
      ]
     },
     "execution_count": 115,
     "metadata": {},
     "output_type": "execute_result"
    }
   ],
   "source": [
    "selected_song_embeddings.shape"
   ]
  },
  {
   "cell_type": "code",
   "execution_count": 116,
   "id": "40d17e72-57c4-46c8-940a-569f538a5b5e",
   "metadata": {},
   "outputs": [],
   "source": [
    "colors = ['red', 'blue', 'green', 'purple', 'yellow', 'orange', 'black', 'white',\n",
    "          'cyan', 'magenta', 'lime', 'pink', 'teal', 'aqua', 'fuchsia', 'gray',\n",
    "          'maroon', 'navy', 'olive', 'silver']  # Added more colors\n",
    "\n",
    "artist_colors = {}\n",
    "for artist in artists:\n",
    "  # Check if colors are still available\n",
    "  if colors:\n",
    "    color = colors.pop()  # Pop removes and returns the last element\n",
    "    artist_colors[artist] = color\n",
    "  else:\n",
    "    print(f\"Not enough colors for all artists. Assigning 'gray' to {artist}\")\n",
    "    artist_colors[artist] = 'gray'"
   ]
  },
  {
   "cell_type": "markdown",
   "id": "2afbc341-dfbe-42c1-b2f4-1318f24fdc53",
   "metadata": {},
   "source": [
    "### Genre Embeddings"
   ]
  },
  {
   "cell_type": "code",
   "execution_count": 117,
   "id": "6c64b65f-7d48-48eb-bd3f-78115613f167",
   "metadata": {},
   "outputs": [],
   "source": [
    "# Genre List:\n",
    "genres = [\"pop\", \"rock\", \"jazz\", \"indie\", \"classic\", \"electronic\", \"metal\", \"blues\", \"alternative\", \"ambient\", \"Hip-Hop\", \"instrumental\"]"
   ]
  },
  {
   "cell_type": "code",
   "execution_count": 118,
   "id": "995a525d",
   "metadata": {},
   "outputs": [],
   "source": [
    "genre_colors = {}\n",
    "colors = ['red', 'blue', 'green', 'purple', 'yellow', 'orange', 'black', 'white',\n",
    "          'cyan', 'magenta', 'lime', 'pink', 'teal', 'aqua', 'fuchsia', 'gray',\n",
    "          'maroon', 'navy', 'olive', 'silver']\n",
    "for i, genre in enumerate(genres):\n",
    "    color = colors[i % len(colors)]  # Use modulo to cycle through colors if genres exceed available colors\n",
    "    genre_colors[genre] = color\n"
   ]
  },
  {
   "cell_type": "code",
   "execution_count": 119,
   "id": "336ea51a",
   "metadata": {},
   "outputs": [
    {
     "data": {
      "text/plain": [
       "{'pop': 'red',\n",
       " 'rock': 'blue',\n",
       " 'jazz': 'green',\n",
       " 'indie': 'purple',\n",
       " 'classic': 'yellow',\n",
       " 'electronic': 'orange',\n",
       " 'metal': 'black',\n",
       " 'blues': 'white',\n",
       " 'alternative': 'cyan',\n",
       " 'ambient': 'magenta',\n",
       " 'Hip-Hop': 'lime',\n",
       " 'instrumental': 'pink'}"
      ]
     },
     "execution_count": 119,
     "metadata": {},
     "output_type": "execute_result"
    }
   ],
   "source": [
    "genre_colors"
   ]
  },
  {
   "cell_type": "code",
   "execution_count": 120,
   "id": "6f190ffc-0556-4303-b5d7-37f96b9fd9e5",
   "metadata": {},
   "outputs": [],
   "source": [
    "genre_embeddings = []\n",
    "for genre in genres:\n",
    "  genre_embeddings.append(get_tag_embedding(genre))\n",
    "\n",
    "genre_embeddings = np.array(genre_embeddings)\n"
   ]
  },
  {
   "cell_type": "markdown",
   "id": "b3c7d5a6-5cc9-479f-80a8-78f4190b5b15",
   "metadata": {},
   "source": [
    "### T-SNE Dim reduction 2D"
   ]
  },
  {
   "cell_type": "code",
   "execution_count": 121,
   "id": "9fcb3b5a-5ab0-4722-85ff-e1d711526634",
   "metadata": {},
   "outputs": [],
   "source": [
    "from sklearn.preprocessing import MinMaxScaler\n",
    "\n",
    "# Assuming song_embeddings and genre_embeddings are your data structures\n",
    "scaler = MinMaxScaler()  # Create a MinMaxScaler object\n",
    "scaled_song_embeddings = scaler.fit_transform(selected_song_embeddings)\n",
    "scaled_genre_embeddings = scaler.fit_transform(genre_embeddings)\n",
    "\n",
    "# Combine scaled embeddings\n",
    "combined_embeddings = np.concatenate((scaled_song_embeddings, scaled_genre_embeddings), axis=0)\n",
    "\n",
    "# Perplexity (adjust as needed)\n",
    "perplexity = 10  # Experiment with different values\n",
    "\n",
    "# Run t-SNE on combined data\n",
    "tsne_model = TSNE(n_components=2, perplexity=perplexity)\n",
    "combined_embeddings_2d = tsne_model.fit_transform(combined_embeddings)\n",
    "\n",
    "# Extract separate embeddings for visualization (optional)\n",
    "song_embeddings_2d = combined_embeddings_2d[:len(selected_song_embeddings)]  # Assuming song embeddings come first\n",
    "genre_embeddings_2d = combined_embeddings_2d[len(selected_song_embeddings):]\n",
    "\n",
    "# Use song_embeddings_2d and genre_embeddings_2d for plotting\n"
   ]
  },
  {
   "cell_type": "markdown",
   "id": "8bee20d4-ec2d-4250-ae65-fd09d09cb0a1",
   "metadata": {},
   "source": [
    "### Plotting"
   ]
  },
  {
   "cell_type": "code",
   "execution_count": 122,
   "id": "b15d8b5a",
   "metadata": {},
   "outputs": [
    {
     "data": {
      "application/vnd.plotly.v1+json": {
       "config": {
        "plotlyServerURL": "https://plot.ly"
       },
       "data": [
        {
         "hoverinfo": "text",
         "marker": {
          "color": "rgb(127,63,63)",
          "line": {
           "color": "rgb(127,63,63)",
           "width": 2
          },
          "opacity": 0.3,
          "size": 100
         },
         "mode": "markers+text",
         "name": "pop",
         "showlegend": false,
         "text": "pop",
         "textposition": "middle center",
         "type": "scatter",
         "x": [
          2.514915943145752
         ],
         "y": [
          -29.58040428161621
         ]
        },
        {
         "hoverinfo": "text",
         "marker": {
          "color": "rgb(127,95,63)",
          "line": {
           "color": "rgb(127,95,63)",
           "width": 2
          },
          "opacity": 0.3,
          "size": 100
         },
         "mode": "markers+text",
         "name": "rock",
         "showlegend": false,
         "text": "rock",
         "textposition": "middle center",
         "type": "scatter",
         "x": [
          -50.80400466918945
         ],
         "y": [
          12.847891807556152
         ]
        },
        {
         "hoverinfo": "text",
         "marker": {
          "color": "rgb(127,127,63)",
          "line": {
           "color": "rgb(127,127,63)",
           "width": 2
          },
          "opacity": 0.3,
          "size": 100
         },
         "mode": "markers+text",
         "name": "jazz",
         "showlegend": false,
         "text": "jazz",
         "textposition": "middle center",
         "type": "scatter",
         "x": [
          48.359317779541016
         ],
         "y": [
          82.49343872070312
         ]
        },
        {
         "hoverinfo": "text",
         "marker": {
          "color": "rgb(95,127,63)",
          "line": {
           "color": "rgb(95,127,63)",
           "width": 2
          },
          "opacity": 0.3,
          "size": 100
         },
         "mode": "markers+text",
         "name": "indie",
         "showlegend": false,
         "text": "indie",
         "textposition": "middle center",
         "type": "scatter",
         "x": [
          -30.667625427246094
         ],
         "y": [
          -32.54448318481445
         ]
        },
        {
         "hoverinfo": "text",
         "marker": {
          "color": "rgb(63,127,63)",
          "line": {
           "color": "rgb(63,127,63)",
           "width": 2
          },
          "opacity": 0.3,
          "size": 100
         },
         "mode": "markers+text",
         "name": "classic",
         "showlegend": false,
         "text": "classic",
         "textposition": "middle center",
         "type": "scatter",
         "x": [
          17.32884407043457
         ],
         "y": [
          -11.50232219696045
         ]
        },
        {
         "hoverinfo": "text",
         "marker": {
          "color": "rgb(63,127,95)",
          "line": {
           "color": "rgb(63,127,95)",
           "width": 2
          },
          "opacity": 0.3,
          "size": 100
         },
         "mode": "markers+text",
         "name": "electronic",
         "showlegend": false,
         "text": "electronic",
         "textposition": "middle center",
         "type": "scatter",
         "x": [
          -7.817366600036621
         ],
         "y": [
          -11.169217109680176
         ]
        },
        {
         "hoverinfo": "text",
         "marker": {
          "color": "rgb(63,127,127)",
          "line": {
           "color": "rgb(63,127,127)",
           "width": 2
          },
          "opacity": 0.3,
          "size": 100
         },
         "mode": "markers+text",
         "name": "metal",
         "showlegend": false,
         "text": "metal",
         "textposition": "middle center",
         "type": "scatter",
         "x": [
          -12.858015060424805
         ],
         "y": [
          77.95442962646484
         ]
        },
        {
         "hoverinfo": "text",
         "marker": {
          "color": "rgb(63,95,127)",
          "line": {
           "color": "rgb(63,95,127)",
           "width": 2
          },
          "opacity": 0.3,
          "size": 100
         },
         "mode": "markers+text",
         "name": "blues",
         "showlegend": false,
         "text": "blues",
         "textposition": "middle center",
         "type": "scatter",
         "x": [
          47.01805877685547
         ],
         "y": [
          4.68626594543457
         ]
        },
        {
         "hoverinfo": "text",
         "marker": {
          "color": "rgb(63,63,127)",
          "line": {
           "color": "rgb(63,63,127)",
           "width": 2
          },
          "opacity": 0.3,
          "size": 100
         },
         "mode": "markers+text",
         "name": "alternative",
         "showlegend": false,
         "text": "alternative",
         "textposition": "middle center",
         "type": "scatter",
         "x": [
          -34.507667541503906
         ],
         "y": [
          -12.406360626220703
         ]
        },
        {
         "hoverinfo": "text",
         "marker": {
          "color": "rgb(95,63,127)",
          "line": {
           "color": "rgb(95,63,127)",
           "width": 2
          },
          "opacity": 0.3,
          "size": 100
         },
         "mode": "markers+text",
         "name": "ambient",
         "showlegend": false,
         "text": "ambient",
         "textposition": "middle center",
         "type": "scatter",
         "x": [
          57.02817916870117
         ],
         "y": [
          -6.6996564865112305
         ]
        },
        {
         "hoverinfo": "text",
         "marker": {
          "color": "rgb(127,63,127)",
          "line": {
           "color": "rgb(127,63,127)",
           "width": 2
          },
          "opacity": 0.3,
          "size": 100
         },
         "mode": "markers+text",
         "name": "Hip-Hop",
         "showlegend": false,
         "text": "Hip-Hop",
         "textposition": "middle center",
         "type": "scatter",
         "x": [
          2.9143314361572266
         ],
         "y": [
          -9.567431449890137
         ]
        },
        {
         "hoverinfo": "text",
         "marker": {
          "color": "rgb(127,63,95)",
          "line": {
           "color": "rgb(127,63,95)",
           "width": 2
          },
          "opacity": 0.3,
          "size": 100
         },
         "mode": "markers+text",
         "name": "instrumental",
         "showlegend": false,
         "text": "instrumental",
         "textposition": "middle center",
         "type": "scatter",
         "x": [
          54.12660598754883
         ],
         "y": [
          -39.68585205078125
         ]
        },
        {
         "hoverinfo": "text",
         "marker": {
          "color": "lime",
          "line": {
           "color": "DarkSlateGrey",
           "width": 1
          },
          "size": 8
         },
         "mode": "markers",
         "name": "Foo Fighters",
         "showlegend": true,
         "text": [
          "Foo Fighters - Everlong",
          "Foo Fighters - The Pretender",
          "Foo Fighters - Best of You",
          "Foo Fighters - All My Life",
          "Foo Fighters - Learn to Fly",
          "Foo Fighters - My Hero",
          "Foo Fighters - Times Like These",
          "Foo Fighters - Monkey Wrench",
          "Foo Fighters - Walk",
          "Foo Fighters - Long Road to Ruin",
          "Foo Fighters - Rope",
          "Foo Fighters - Breakout",
          "Foo Fighters - Bridge Burning",
          "Foo Fighters - Arlandria",
          "Foo Fighters - Big Me",
          "Foo Fighters - These Days",
          "Foo Fighters - Walking After You",
          "Foo Fighters - Dear Rosemary",
          "Foo Fighters - White Limo",
          "Foo Fighters - Let It Die",
          "Foo Fighters - DOA",
          "Foo Fighters - This Is a Call",
          "Foo Fighters - Back & Forth",
          "Foo Fighters - I Should Have Known",
          "Foo Fighters - A Matter of Time",
          "Foo Fighters - Life Of Illusion",
          "Foo Fighters - No Son of Mine",
          "Foo Fighters - Dirty Water",
          "Foo Fighters - Cloudspotter",
          "Foo Fighters - Savior Breath",
          "Foo Fighters - The Ballad of the Beaconsfield Miners",
          "Foo Fighters - Rope - deadmau5 mix",
          "Foo Fighters - Chasing Birds",
          "Foo Fighters - Iron and Stone",
          "Foo Fighters - The Sign",
          "Foo Fighters - Walking After You - Single Mix",
          "Foo Fighters - Walking A Line",
          "Foo Fighters - What If I Do",
          "Foo Fighters - Making a Fire",
          "Foo Fighters - Sean",
          "Foo Fighters - The Neverending Sigh",
          "Foo Fighters - Have a Cigar",
          "Foo Fighters - How I Miss You",
          "Foo Fighters - Medicine at Midnight",
          "Foo Fighters - Concrete and Gold",
          "Foo Fighters - Happy Ever After (Zero Hour)",
          "Foo Fighters - Wheels",
          "Foo Fighters - Miss the Misery",
          "Foo Fighters - Come Alive",
          "Foo Fighters - Generator",
          "Foo Fighters - Next Year",
          "Foo Fighters - Stranger Things Have Happened",
          "Foo Fighters - No Way Back",
          "Foo Fighters - Something from Nothing",
          "Foo Fighters - Low",
          "Foo Fighters - Erase/Replace",
          "Foo Fighters - Doll",
          "Foo Fighters - Stacked Actors",
          "Foo Fighters - I'll Stick Around",
          "Foo Fighters - Hey, Johnny Park!",
          "Foo Fighters - Resolve",
          "Foo Fighters - February Stars",
          "Foo Fighters - Skin and Bones",
          "Foo Fighters - Aurora",
          "Foo Fighters - Home",
          "Foo Fighters - Summer's End",
          "Foo Fighters - Congregation",
          "Foo Fighters - Tired Of You",
          "Foo Fighters - Statues",
          "Foo Fighters - Enough Space",
          "Foo Fighters - Gimme Stitches",
          "Foo Fighters - Cold Day in the Sun",
          "Foo Fighters - In Your Honor",
          "Foo Fighters - My Poor Brain",
          "Foo Fighters - Up in Arms",
          "Foo Fighters - Wind Up",
          "Foo Fighters - See You",
          "Foo Fighters - Another Round",
          "Foo Fighters - Over and Out",
          "Foo Fighters - Headwires",
          "Foo Fighters - Disenchanted Lullaby",
          "Foo Fighters - Have It All",
          "Foo Fighters - Razor",
          "Foo Fighters - Ain't It the Life",
          "Foo Fighters - Virginia Moon",
          "Foo Fighters - Outside",
          "Foo Fighters - Halo",
          "Foo Fighters - Hell",
          "Foo Fighters - New Way Home",
          "Foo Fighters - Friend of a Friend",
          "Foo Fighters - Lonely As You",
          "Foo Fighters - Overdrive",
          "Foo Fighters - Run",
          "Foo Fighters - The Sky Is A Neighborhood",
          "Foo Fighters - The Last Song",
          "Foo Fighters - Burn Away",
          "Foo Fighters - For All the Cows",
          "Foo Fighters - Free Me",
          "Foo Fighters - Good Grief",
          "Foo Fighters - Come Back",
          "Foo Fighters - Miracle",
          "Foo Fighters - Exhausted",
          "Foo Fighters - The Feast and the Famine",
          "Foo Fighters - Word Forward",
          "Foo Fighters - But, Honestly",
          "Foo Fighters - Weenie Beenie",
          "Foo Fighters - Live-In Skin",
          "Foo Fighters - Floaty",
          "Foo Fighters - X-Static",
          "Foo Fighters - Cheer Up, Boys (Your Make Up Is Running)",
          "Foo Fighters - Wattershed",
          "Foo Fighters - The Deepest Blues Are Black",
          "Foo Fighters - End Over End",
          "Foo Fighters - M.I.A.",
          "Foo Fighters - Oh, George",
          "Foo Fighters - Alone + Easy Target",
          "Foo Fighters - On The Mend",
          "Foo Fighters - Still",
          "Foo Fighters - Everlong - acoustic version",
          "Foo Fighters - In the Clear",
          "Foo Fighters - I Am a River",
          "Foo Fighters - Sister Europe",
          "Foo Fighters - Love Dies Young",
          "Foo Fighters - Holding Poison",
          "Foo Fighters - Iron Rooster",
          "Foo Fighters - Born on the Bayou",
          "Foo Fighters - The Colour and the Shape",
          "Foo Fighters - Kiss the Bottle",
          "Foo Fighters - Winnebago",
          "Foo Fighters - The One",
          "Foo Fighters - Saint Cecilia",
          "Foo Fighters - What Did I Do?/God as My Witness",
          "Foo Fighters - Subterranean",
          "Foo Fighters - Waiting on a War",
          "Foo Fighters - Shame Shame",
          "Foo Fighters - Make It Right",
          "Foo Fighters - La Dee Da",
          "Foo Fighters - T-Shirt"
         ],
         "type": "scatter",
         "x": [
          -74.93946838378906,
          -69.53934478759766,
          -66.67691040039062,
          -68.73616027832031,
          -63.826175689697266,
          -68.73616027832031,
          -70.45365905761719,
          -80.1487808227539,
          -50.15781021118164,
          -56.63652420043945,
          -47.617794036865234,
          -71.3692398071289,
          -54.6324462890625,
          -54.6324462890625,
          -74.93946838378906,
          -58.6420783996582,
          -72.89259338378906,
          -54.6324462890625,
          -54.6324462890625,
          -69.79041290283203,
          -65.56800079345703,
          -80.1487808227539,
          -54.6324462890625,
          -47.617794036865234,
          -55.65726852416992,
          -84.38361358642578,
          -41.670223236083984,
          -34.58984375,
          -42.602149963378906,
          -49.391502380371094,
          -64.79158020019531,
          -7.89923620223999,
          -27.45257568359375,
          -51.6324462890625,
          -86.27227783203125,
          -52.67073440551758,
          -46.49620819091797,
          -19.92169761657715,
          -41.30324172973633,
          12.920858383178711,
          -49.391502380371094,
          -52.513282775878906,
          -25.667449951171875,
          -27.13495445251465,
          -32.51801300048828,
          -32.836883544921875,
          -50.697052001953125,
          -54.6324462890625,
          -45.887115478515625,
          -69.49578094482422,
          -63.030738830566406,
          -70.41868591308594,
          -64.91954803466797,
          -46.50132751464844,
          -64.00508880615234,
          -45.14382553100586,
          -63.80767822265625,
          -62.28580093383789,
          -80.1487808227539,
          -73.89646911621094,
          -60.16424560546875,
          -61.66812515258789,
          -66.64485168457031,
          -68.17709350585938,
          -72.05943298339844,
          -66.0662612915039,
          -40.64326858520508,
          -67.58882904052734,
          -71.25784301757812,
          -44.31255340576172,
          -66.0662612915039,
          -66.0662612915039,
          -45.599361419677734,
          -49.25009536743164,
          -67.89288330078125,
          -80.1487808227539,
          -63.555660247802734,
          -70.41868591308594,
          -67.28400421142578,
          -66.57628631591797,
          -46.619598388671875,
          -60.16424560546875,
          -70.41868591308594,
          -73.24191284179688,
          -68.55279541015625,
          -40.64326858520508,
          -60.16424560546875,
          -60.16424560546875,
          -43.4510612487793,
          -70.41868591308594,
          -69.03231811523438,
          -65.80165100097656,
          -34.58984375,
          -34.58984375,
          -63.826175689697266,
          -46.98769760131836,
          -67.58882904052734,
          -65.4853515625,
          -80.1487808227539,
          -67.7140884399414,
          -66.64485168457031,
          -82.3912582397461,
          -40.64326858520508,
          -45.9803581237793,
          -45.62669372558594,
          -80.1487808227539,
          -48.29756164550781,
          -80.1487808227539,
          -80.1487808227539,
          -44.02823257446289,
          -44.74386215209961,
          -56.717262268066406,
          -56.717262268066406,
          -67.7140884399414,
          -73.89646911621094,
          -80.1487808227539,
          -70.41868591308594,
          -65.4853515625,
          -67.28400421142578,
          -41.42909622192383,
          -54.6324462890625,
          -116.89785766601562,
          -25.673057556152344,
          -25.64316749572754,
          -52.67073440551758,
          -52.24176025390625,
          -4.705018520355225,
          -51.66987609863281,
          -27.167858123779297,
          -47.1522102355957,
          -30.896568298339844,
          -41.42909622192383,
          -54.6324462890625,
          -42.0221061706543,
          -28.71112632751465,
          -34.58984375,
          -31.38892364501953,
          -32.08328628540039
         ],
         "y": [
          -61.557945251464844,
          -31.991947174072266,
          -29.257787704467773,
          -29.048524856567383,
          -34.1886100769043,
          -29.048524856567383,
          -30.332841873168945,
          -65.94070434570312,
          46.54671859741211,
          57.004268646240234,
          49.429725646972656,
          -32.235565185546875,
          60.431114196777344,
          60.431114196777344,
          -61.557945251464844,
          57.001800537109375,
          -61.00418472290039,
          60.431114196777344,
          60.431114196777344,
          -36.10026550292969,
          -35.441200256347656,
          -65.94070434570312,
          60.431114196777344,
          49.429725646972656,
          56.33466339111328,
          83.18077087402344,
          48.050968170166016,
          57.389137268066406,
          51.23199462890625,
          47.391048431396484,
          -6.4931111335754395,
          -3.897968053817749,
          31.0380802154541,
          32.856849670410156,
          -20.21149253845215,
          -17.777936935424805,
          51.250244140625,
          20.79237174987793,
          46.642032623291016,
          -10.658255577087402,
          47.391048431396484,
          32.06732940673828,
          -0.8531551361083984,
          28.941402435302734,
          57.36974334716797,
          55.17346954345703,
          48.10948944091797,
          60.431114196777344,
          73.11244201660156,
          -33.99400329589844,
          -28.41024398803711,
          -12.376455307006836,
          -28.51266860961914,
          48.41383361816406,
          -32.10174560546875,
          70.70897674560547,
          -36.51089859008789,
          -32.42539978027344,
          -65.94070434570312,
          -39.05946350097656,
          -35.0655517578125,
          -30.51034927368164,
          -8.30014419555664,
          -33.09812545776367,
          -14.1484956741333,
          -33.12196731567383,
          51.557430267333984,
          -35.10090255737305,
          -34.3282585144043,
          74.0780258178711,
          -33.12196731567383,
          -33.12196731567383,
          71.94343566894531,
          52.40882110595703,
          -37.297611236572266,
          -65.94070434570312,
          -30.322933197021484,
          -12.376455307006836,
          -7.016637325286865,
          -27.35427474975586,
          71.11168670654297,
          -35.0655517578125,
          -12.376455307006836,
          -29.180187225341797,
          -5.432362079620361,
          51.557430267333984,
          -35.0655517578125,
          -35.0655517578125,
          72.84248352050781,
          -12.376455307006836,
          -25.39541244506836,
          -37.33871078491211,
          57.389137268066406,
          57.389137268066406,
          -34.1886100769043,
          73.8055648803711,
          -35.10090255737305,
          -30.77195167541504,
          -65.94070434570312,
          -31.198402404785156,
          -8.30014419555664,
          -67.85324096679688,
          51.557430267333984,
          -0.7445856928825378,
          74.44196319580078,
          -65.94070434570312,
          51.13375473022461,
          -65.94070434570312,
          -65.94070434570312,
          71.52201843261719,
          72.78540802001953,
          55.82878112792969,
          55.82878112792969,
          -31.198402404785156,
          -39.05946350097656,
          -65.94070434570312,
          -12.376455307006836,
          -30.77195167541504,
          -7.016637325286865,
          52.67534637451172,
          60.431114196777344,
          40.49685287475586,
          29.65390396118164,
          29.50008773803711,
          -17.777936935424805,
          30.576139450073242,
          48.55656814575195,
          30.095739364624023,
          0.5083324313163757,
          72.3841781616211,
          21.01088523864746,
          52.67534637451172,
          60.431114196777344,
          48.50682830810547,
          28.266536712646484,
          57.389137268066406,
          55.13987731933594,
          55.79752731323242
         ]
        },
        {
         "hoverinfo": "text",
         "marker": {
          "color": "pink",
          "line": {
           "color": "DarkSlateGrey",
           "width": 1
          },
          "size": 8
         },
         "mode": "markers",
         "name": "John Coltrane",
         "showlegend": true,
         "text": [
          "John Coltrane - Naima",
          "John Coltrane - My Favorite Things",
          "John Coltrane - Mr. Syms",
          "John Coltrane - Greensleeves",
          "John Coltrane - Spiritual",
          "John Coltrane - Too Young to Go Steady",
          "John Coltrane - Blue Train (Alternate Take)",
          "John Coltrane - Dahomey Dance",
          "John Coltrane - Trane's Slo Blues",
          "John Coltrane - Up 'Gainst the Wall",
          "John Coltrane - Traneing In",
          "John Coltrane - Lazy Bird (Alternate Take)",
          "John Coltrane - Mars",
          "John Coltrane - Time After Time",
          "John Coltrane - Ogunde",
          "John Coltrane - Stardust",
          "John Coltrane - They Say It's Wonderful",
          "John Coltrane - I'm Old Fashioned - Remastered 2003/Rudy Van Gelder Edition",
          "John Coltrane - While My Lady Sleeps",
          "John Coltrane - A Love Supreme, Pt. II - Resolution",
          "John Coltrane - The Night Has a Thousand Eyes",
          "John Coltrane - Jupiter",
          "John Coltrane - Jupiter Variation",
          "John Coltrane - Leo",
          "John Coltrane - Blue World",
          "John Coltrane - Violets for Your Furs",
          "John Coltrane - Bakai",
          "John Coltrane - A Love Supreme, Pt. III - Pursuance",
          "John Coltrane - A Love Supreme, Pt. IV - Psalm",
          "John Coltrane - Say It (Over and Over Again)",
          "John Coltrane - Wise One",
          "John Coltrane - Serenity",
          "John Coltrane - Consequences",
          "John Coltrane - Mr. Day",
          "John Coltrane - Olé",
          "John Coltrane - A Love Supreme, Pt. 1: Acknowledgement",
          "John Coltrane - Satellite",
          "John Coltrane - 26-2",
          "John Coltrane - Giant Steps",
          "John Coltrane - Blue Train",
          "John Coltrane - Cousin Mary",
          "John Coltrane - Countdown",
          "John Coltrane - Moment's Notice",
          "John Coltrane - Mr. P.C.",
          "John Coltrane - Syeeda's Song Flute",
          "John Coltrane - Spiral",
          "John Coltrane - Lush Life",
          "John Coltrane - I'm Old Fashioned",
          "John Coltrane - Everytime We Say Goodbye",
          "John Coltrane - Lazy Bird",
          "John Coltrane - My One And Only Love",
          "John Coltrane - Summertime",
          "John Coltrane - Locomotion",
          "John Coltrane - Central Park West",
          "John Coltrane - Acknowledgement",
          "John Coltrane - I Want to Talk About You",
          "John Coltrane - Impressions",
          "John Coltrane - After the Rain",
          "John Coltrane - But Not for Me",
          "John Coltrane - Equinox",
          "John Coltrane - Like Someone in Love",
          "John Coltrane - Body and Soul",
          "John Coltrane - Alabama",
          "John Coltrane - You Say You Care",
          "John Coltrane - Venus",
          "John Coltrane - Saturn",
          "John Coltrane - Blue Train - Remastered 2003",
          "John Coltrane - Blues to You",
          "John Coltrane - Feelin' Good",
          "John Coltrane - Iris",
          "John Coltrane - Sun Ship",
          "John Coltrane - Little Old Lady",
          "John Coltrane - Amen",
          "John Coltrane - Compassion",
          "John Coltrane - Softly as In a Morning Sunrise",
          "John Coltrane - Bahia",
          "John Coltrane - Do I Love You Because You're Beautiful?",
          "John Coltrane - Liberia",
          "John Coltrane - Theme for Ernie",
          "John Coltrane - I'll Wait and Pray",
          "John Coltrane - Soul Eyes",
          "John Coltrane - I Hear a Rhapsody",
          "John Coltrane - Welcome",
          "John Coltrane - Like Sonny",
          "John Coltrane - Aisha",
          "John Coltrane - Nature Boy",
          "John Coltrane - Dedicated to You",
          "John Coltrane - Afro Blue"
         ],
         "type": "scatter",
         "x": [
          34.444313049316406,
          29.02681541442871,
          33.818519592285156,
          29.02681541442871,
          25.63356590270996,
          13.878202438354492,
          29.02681541442871,
          78.01190185546875,
          72.89136505126953,
          37.377899169921875,
          30.04116439819336,
          39.17368698120117,
          15.470585823059082,
          67.33987426757812,
          23.91617202758789,
          24.265098571777344,
          24.96956443786621,
          26.374069213867188,
          70.83989715576172,
          24.21550750732422,
          18.264930725097656,
          21.44336700439453,
          19.899471282958984,
          17.563133239746094,
          13.802754402160645,
          69.93525695800781,
          72.94393157958984,
          24.21550750732422,
          23.995813369750977,
          26.662151336669922,
          21.981647491455078,
          21.123394012451172,
          23.51677131652832,
          48.5195198059082,
          22.296892166137695,
          27.97119140625,
          67.3862533569336,
          21.94205093383789,
          29.02681541442871,
          32.79823303222656,
          34.444313049316406,
          23.46209716796875,
          84.86888885498047,
          29.930688858032227,
          32.652095794677734,
          20.212343215942383,
          18.264612197875977,
          20.18744659423828,
          27.477720260620117,
          84.86888885498047,
          65.95465850830078,
          81.87443542480469,
          32.79823303222656,
          29.28922462463379,
          16.596349716186523,
          77.95276641845703,
          15.387872695922852,
          40.08073043823242,
          29.02681541442871,
          17.186260223388672,
          21.123394012451172,
          38.86403274536133,
          29.640026092529297,
          67.31473541259766,
          16.596349716186523,
          15.014291763305664,
          49.83956527709961,
          25.05983543395996,
          63.260494232177734,
          64.3103256225586,
          15.470585823059082,
          83.35321807861328,
          66.11249542236328,
          66.42404174804688,
          16.0723819732666,
          39.73143005371094,
          25.793825149536133,
          69.92290496826172,
          26.209712982177734,
          71.19546508789062,
          28.77202606201172,
          35.054256439208984,
          23.685468673706055,
          72.23731231689453,
          21.396268844604492,
          19.84897804260254,
          23.619464874267578,
          16.596349716186523
         ],
         "y": [
          46.727901458740234,
          43.927452087402344,
          44.76272964477539,
          43.927452087402344,
          -1.3505085706710815,
          6.159206867218018,
          43.927452087402344,
          -19.46817970275879,
          -18.360942840576172,
          22.612215042114258,
          20.975963592529297,
          3.0898749828338623,
          40.757930755615234,
          50.536128997802734,
          10.14163875579834,
          31.645784378051758,
          21.869796752929688,
          30.12495231628418,
          -21.26279067993164,
          -15.747577667236328,
          0.4644017219543457,
          28.207195281982422,
          28.794633865356445,
          41.82394790649414,
          3.207643747329712,
          -21.05694580078125,
          -22.238283157348633,
          -15.747577667236328,
          -1.000624418258667,
          25.290468215942383,
          -1.765302062034607,
          29.370006561279297,
          9.6184720993042,
          17.401079177856445,
          -3.2553088665008545,
          41.807106018066406,
          -18.04461097717285,
          2.810035467147827,
          43.927452087402344,
          44.344608306884766,
          46.727901458740234,
          30.23749542236328,
          -20.38680648803711,
          42.641624450683594,
          45.51329040527344,
          3.372192144393921,
          42.30603790283203,
          27.779712677001953,
          21.889562606811523,
          -20.38680648803711,
          -9.371820449829102,
          -20.104537963867188,
          44.344608306884766,
          22.037837982177734,
          39.725711822509766,
          -19.814029693603516,
          37.96673583984375,
          -2.9881770610809326,
          43.927452087402344,
          1.7527912855148315,
          29.370006561279297,
          13.389678955078125,
          5.64797830581665,
          -21.281452178955078,
          39.725711822509766,
          39.316246032714844,
          80.5858154296875,
          29.386831283569336,
          -14.08370304107666,
          -18.53970718383789,
          40.757930755615234,
          -20.256141662597656,
          -20.11489486694336,
          -19.624475479125977,
          6.3042311668396,
          37.99311828613281,
          22.119319915771484,
          -19.576047897338867,
          24.084367752075195,
          -20.626083374023438,
          5.818354606628418,
          16.421979904174805,
          24.640277862548828,
          -19.50916290283203,
          -3.1901402473449707,
          -1.9734890460968018,
          24.26079559326172,
          39.725711822509766
         ]
        },
        {
         "hoverinfo": "text",
         "marker": {
          "color": "olive",
          "line": {
           "color": "DarkSlateGrey",
           "width": 1
          },
          "size": 8
         },
         "mode": "markers",
         "name": "Taylor Swift",
         "showlegend": true,
         "text": [
          "Taylor Swift - Shake It Off",
          "Taylor Swift - Love Story",
          "Taylor Swift - Blank Space",
          "Taylor Swift - You Belong with Me",
          "Taylor Swift - We Are Never Ever Getting Back Together",
          "Taylor Swift - Style",
          "Taylor Swift - exile",
          "Taylor Swift - You’re Not Sorry (Taylor’s Version)",
          "Taylor Swift - The Way I Loved You (Taylor’s Version)",
          "Taylor Swift - You All Over Me (feat. Maren Morris) (Taylor’s Version) (From the Vault)",
          "Taylor Swift - Breathe (feat. Colbie Caillat) (Taylor’s Version)",
          "Taylor Swift - Mean - Live 2011",
          "Taylor Swift - Mine - Live 2011",
          "Taylor Swift - Sparks Fly - Live 2011",
          "Taylor Swift - Change (Taylor’s Version)",
          "Taylor Swift - The Best Day (Taylor’s Version)",
          "Taylor Swift - Treacherous - Original Demo Recording",
          "Taylor Swift - this is me trying - the long pond studio sessions",
          "Taylor Swift - the lakes - the long pond studio sessions",
          "Taylor Swift - cardigan - the long pond studio sessions",
          "Taylor Swift - hoax - the long pond studio sessions",
          "Taylor Swift - illicit affairs - the long pond studio sessions",
          "Taylor Swift - invisible string - the long pond studio sessions",
          "Taylor Swift - mirrorball - the long pond studio sessions",
          "Taylor Swift - my tears ricochet - the long pond studio sessions",
          "Taylor Swift - seven - the long pond studio sessions",
          "Taylor Swift - the 1 - the long pond studio sessions",
          "Taylor Swift - the last great american dynasty - the long pond studio sessions",
          "Taylor Swift - Love Story (Taylor's Version) - Elvira Remix",
          "Taylor Swift - the lakes - original version",
          "Taylor Swift - willow - moonlit witch version",
          "Taylor Swift - betty - Live from the 2020 Academy of Country Music Awards",
          "Taylor Swift - Death By A Thousand Cuts - Live From Paris",
          "Taylor Swift - it’s time to go",
          "Taylor Swift - Don’t You (Taylor’s Version) (From the Vault)",
          "Taylor Swift - We Were Happy (Taylor’s Version) (From the Vault)",
          "Taylor Swift - The Other Side of the Door (Taylor’s Version)",
          "Taylor Swift - Beautiful Ghosts - From The Motion Picture Soundtrack \"Cats\"",
          "Taylor Swift - Drops Of Jupiter (Live 2011)",
          "Taylor Swift - White Horse (Taylor’s Version)",
          "Taylor Swift - The Man - Live From Paris",
          "Taylor Swift - willow - dancing witch version (Elvira remix)",
          "Taylor Swift - Teardrops on My Guitar - Radio Single Remix",
          "Taylor Swift - The Story of Us (Live)",
          "Taylor Swift - Fifteen (Taylor’s Version)",
          "Taylor Swift - Hey Stephen (Taylor’s Version)",
          "Taylor Swift - Today Was a Fairytale (Taylor’s Version)",
          "Taylor Swift - It's Nice to Have a Friend",
          "Taylor Swift - the lakes",
          "Taylor Swift - You Need to Calm Down - Clean Bandit Remix",
          "Taylor Swift - exile (feat. Bon Iver) - the long pond studio sessions",
          "Taylor Swift - right where you left me - bonus track",
          "Taylor Swift - it’s time to go - bonus track",
          "Taylor Swift - Cornelia Street - Live From Paris",
          "Taylor Swift - Come Back...Be Here",
          "Taylor Swift - Look What You Made Me Do",
          "Taylor Swift - Mine",
          "Taylor Swift - 22",
          "Taylor Swift - Red",
          "Taylor Swift - I Knew You Were Trouble",
          "Taylor Swift - Out of the Woods",
          "Taylor Swift - Back to December",
          "Taylor Swift - Fearless",
          "Taylor Swift - Bad Blood",
          "Taylor Swift - Wildest Dreams",
          "Taylor Swift - White Horse",
          "Taylor Swift - Fifteen",
          "Taylor Swift - Mean",
          "Taylor Swift - All You Had to Do Was Stay",
          "Taylor Swift - Speak Now",
          "Taylor Swift - Welcome to New York",
          "Taylor Swift - Sparks Fly",
          "Taylor Swift - You Need to Calm Down",
          "Taylor Swift - The Story of Us",
          "Taylor Swift - ...Ready for It?",
          "Taylor Swift - Hey Stephen",
          "Taylor Swift - Begin Again",
          "Taylor Swift - Forever & Always",
          "Taylor Swift - Delicate",
          "Taylor Swift - Enchanted",
          "Taylor Swift - You're Not Sorry",
          "Taylor Swift - I Know Places",
          "Taylor Swift - All Too Well",
          "Taylor Swift - State of Grace",
          "Taylor Swift - New Romantics",
          "Taylor Swift - How You Get the Girl",
          "Taylor Swift - Our Song",
          "Taylor Swift - I Wish You Would",
          "Taylor Swift - Haunted",
          "Taylor Swift - Better Than Revenge",
          "Taylor Swift - Change",
          "Taylor Swift - Clean",
          "Taylor Swift - Tell Me Why",
          "Taylor Swift - This Love",
          "Taylor Swift - Should've Said No",
          "Taylor Swift - ME! (feat. Brendon Urie of Panic! at the Disco)",
          "Taylor Swift - Wonderland",
          "Taylor Swift - Long Live",
          "Taylor Swift - The Way I Loved You",
          "Taylor Swift - Lover",
          "Taylor Swift - Picture to Burn",
          "Taylor Swift - I Did Something Bad",
          "Taylor Swift - Breathe",
          "Taylor Swift - Dear John",
          "Taylor Swift - I Almost Do",
          "Taylor Swift - Starlight",
          "Taylor Swift - cardigan",
          "Taylor Swift - Treacherous",
          "Taylor Swift - Crazier",
          "Taylor Swift - Stay Stay Stay",
          "Taylor Swift - Ours",
          "Taylor Swift - The Man",
          "Taylor Swift - Call It What You Want",
          "Taylor Swift - Never Grow Up",
          "Taylor Swift - Gorgeous",
          "Taylor Swift - Innocent",
          "Taylor Swift - The Best Day",
          "Taylor Swift - Last Kiss",
          "Taylor Swift - Getaway Car",
          "Taylor Swift - Holy Ground",
          "Taylor Swift - Tim McGraw",
          "Taylor Swift - The Lucky One",
          "Taylor Swift - Today Was a Fairytale",
          "Taylor Swift - End Game",
          "Taylor Swift - Cruel Summer",
          "Taylor Swift - Jump Then Fall",
          "Taylor Swift - A Place in This World",
          "Taylor Swift - You Are in Love",
          "Taylor Swift - exile (feat. Bon Iver)",
          "Taylor Swift - If This Was a Movie",
          "Taylor Swift - I'm Only Me When I'm with You",
          "Taylor Swift - Dancing With Our Hands Tied",
          "Taylor Swift - willow",
          "Taylor Swift - Cold as You",
          "Taylor Swift - Sad Beautiful Tragic",
          "Taylor Swift - the 1",
          "Taylor Swift - Eyes Open",
          "Taylor Swift - The Archer",
          "Taylor Swift - Don’t Blame Me",
          "Taylor Swift - august",
          "Taylor Swift - Miss Americana & the Heartbreak Prince",
          "Taylor Swift - Untouchable",
          "Taylor Swift - So It Goes...",
          "Taylor Swift - King of My Heart",
          "Taylor Swift - Cornelia Street",
          "Taylor Swift - I Forgot That You Existed",
          "Taylor Swift - Superman",
          "Taylor Swift - Come in with the Rain",
          "Taylor Swift - the last great american dynasty",
          "Taylor Swift - Death by a Thousand Cuts",
          "Taylor Swift - my tears ricochet",
          "Taylor Swift - Paper Rings",
          "Taylor Swift - London Boy",
          "Taylor Swift - False God",
          "Taylor Swift - The Moment I Knew",
          "Taylor Swift - SuperStar",
          "Taylor Swift - Invisible",
          "Taylor Swift - I Think He Knows",
          "Taylor Swift - seven",
          "Taylor Swift - Stay Beautiful",
          "Taylor Swift - The Other Side of the Door",
          "Taylor Swift - Mary's Song (Oh My My My)",
          "Taylor Swift - Tied Together with a Smile",
          "Taylor Swift - The Outside",
          "Taylor Swift - this is me trying",
          "Taylor Swift - Dress",
          "Taylor Swift - Girl at Home",
          "Taylor Swift - Forever & Always (Piano Version)",
          "Taylor Swift - mirrorball",
          "Taylor Swift - Afterglow",
          "Taylor Swift - illicit affairs",
          "Taylor Swift - invisible string",
          "Taylor Swift - betty",
          "Taylor Swift - A Perfectly Good Heart",
          "Taylor Swift - mad woman",
          "Taylor Swift - epiphany",
          "Taylor Swift - champagne problems",
          "Taylor Swift - Daylight",
          "Taylor Swift - Back to December (acoustic)",
          "Taylor Swift - peace",
          "Taylor Swift - Ronan",
          "Taylor Swift - hoax",
          "Taylor Swift - gold rush",
          "Taylor Swift - This Is Why We Can’t Have Nice Things",
          "Taylor Swift - no body, no crime (feat. HAIM)",
          "Taylor Swift - Everything Has Changed",
          "Taylor Swift - tolerate it",
          "Taylor Swift - Last Christmas",
          "Taylor Swift - happiness",
          "Taylor Swift - ‘tis the damn season",
          "Taylor Swift - Jump Then Fall (Taylor’s Version)",
          "Taylor Swift - Red - Original Demo Recording",
          "Taylor Swift - right where you left me",
          "Taylor Swift - august - the long pond studio sessions",
          "Taylor Swift - Mine - POP Mix",
          "Taylor Swift - September - Recorded at The Tracking Room Nashville",
          "Taylor Swift - Daylight - Live From Paris",
          "Taylor Swift - willow - 90's trend remix",
          "Taylor Swift - Forever & Always (Taylor’s Version)",
          "Taylor Swift - That’s When (feat. Keith Urban) (Taylor’s Version) (From the Vault)",
          "Taylor Swift - Bye Bye Baby (Taylor’s Version) (From the Vault)",
          "Taylor Swift - Untouchable (Taylor’s Version)",
          "Taylor Swift - Love Story (Taylor’s Version)",
          "Taylor Swift - New Year’s Day",
          "Taylor Swift - The Last Time",
          "Taylor Swift - closure",
          "Taylor Swift - cowboy like me",
          "Taylor Swift - Soon You’ll Get Better (feat. Dixie Chicks)",
          "Taylor Swift - coney island (feat. The National)",
          "Taylor Swift - Christmases When You Were Mine",
          "Taylor Swift - marjorie",
          "Taylor Swift - ivy",
          "Taylor Swift - long story short",
          "Taylor Swift - You Belong with Me (Taylor’s Version)",
          "Taylor Swift - evermore (feat. Bon Iver)",
          "Taylor Swift - dorothea",
          "Taylor Swift - Santa Baby",
          "Taylor Swift - Safe & Sound - from The Hunger Games Soundtrack",
          "Taylor Swift - Christmas Must Be Something More",
          "Taylor Swift - Only The Young - Featured in Miss Americana",
          "Taylor Swift - Teardrops on My Guitar (Pop Version)",
          "Taylor Swift - I Know Places (Voice Memo)",
          "Taylor Swift - Mr. Perfectly Fine (Taylor’s Version) (From the Vault)",
          "Taylor Swift - the lakes - bonus track",
          "Taylor Swift - Lover (Remix) [feat. Shawn Mendes]",
          "Taylor Swift - White Christmas"
         ],
         "type": "scatter",
         "x": [
          8.831950187683105,
          -2.977999448776245,
          7.986695289611816,
          -3.565675973892212,
          -5.251743793487549,
          0.8368662595748901,
          -16.823274612426758,
          -4.257870197296143,
          -9.762561798095703,
          -8.15805435180664,
          -10.303606033325195,
          27.959501266479492,
          27.959501266479492,
          0.22820056974887848,
          -12.223854064941406,
          -10.501527786254883,
          11.66898250579834,
          -36.265228271484375,
          -36.265228271484375,
          -37.672725677490234,
          -33.74692153930664,
          -37.31356430053711,
          -35.36561584472656,
          -29.25870704650879,
          -38.54978942871094,
          -37.126708984375,
          -34.615726470947266,
          -36.39973831176758,
          27.959501266479492,
          -16.313617706298828,
          -5.870283126831055,
          -10.632061958312988,
          -15.048185348510742,
          27.959501266479492,
          -13.644424438476562,
          -12.223854064941406,
          -13.912858963012695,
          12.779747009277344,
          -50.792938232421875,
          -13.912858963012695,
          -14.068696975708008,
          -7.846816062927246,
          15.885709762573242,
          27.959501266479492,
          -3.386188507080078,
          -12.223854064941406,
          -10.501527786254883,
          -8.733985900878906,
          -26.7440242767334,
          -8.016542434692383,
          -34.615726470947266,
          -11.385513305664062,
          -17.898130416870117,
          -15.148815155029297,
          24.754850387573242,
          -6.085062026977539,
          20.916648864746094,
          19.173730850219727,
          10.583610534667969,
          13.636344909667969,
          2.6749937534332275,
          11.450448036193848,
          11.454262733459473,
          0.3915806710720062,
          -6.773459434509277,
          0.5225834250450134,
          11.12106704711914,
          9.302969932556152,
          1.978320598602295,
          13.88853645324707,
          -0.006540441885590553,
          10.651297569274902,
          4.452582359313965,
          9.022221565246582,
          3.3317549228668213,
          21.28645896911621,
          -5.0120954513549805,
          4.210042953491211,
          -2.559670925140381,
          -3.3658156394958496,
          4.210042953491211,
          -11.039163589477539,
          -6.792073726654053,
          -2.7824783325195312,
          0.015042855404317379,
          1.8177409172058105,
          21.998563766479492,
          3.2967259883880615,
          9.884858131408691,
          -3.034468412399292,
          15.486658096313477,
          -11.34331226348877,
          12.265914916992188,
          3.1374664306640625,
          20.40106964111328,
          9.780986785888672,
          -3.5748493671417236,
          12.39610767364502,
          23.42508316040039,
          -2.345696449279785,
          -6.503139495849609,
          -5.515097618103027,
          9.515046119689941,
          14.488998413085938,
          12.74735164642334,
          12.062385559082031,
          -32.107460021972656,
          13.25271987915039,
          21.998563766479492,
          7.39103364944458,
          21.998563766479492,
          7.595097541809082,
          -2.0535261631011963,
          8.054436683654785,
          8.783581733703613,
          13.876710891723633,
          12.865299224853516,
          18.250463485717773,
          -1.7851676940917969,
          14.61591911315918,
          0.05152426287531853,
          4.210042953491211,
          22.343875885009766,
          3.5559580326080322,
          -3.605968713760376,
          -6.143559455871582,
          1.394091010093689,
          1.106350064277649,
          -21.2252254486084,
          19.113662719726562,
          12.305201530456543,
          -8.543938636779785,
          -24.772872924804688,
          7.914735794067383,
          18.250463485717773,
          -19.44617462158203,
          18.345684051513672,
          -7.433987617492676,
          8.339481353759766,
          -31.037696838378906,
          -6.5469560623168945,
          22.774229049682617,
          7.052764892578125,
          7.202653884887695,
          -3.7010250091552734,
          -0.24778355658054352,
          11.454262733459473,
          0.2713043987751007,
          -21.001182556152344,
          -1.0279465913772583,
          -19.720970153808594,
          5.704580307006836,
          6.838338851928711,
          2.765961170196533,
          -5.677039623260498,
          2.8635191917419434,
          -0.7114522457122803,
          -4.128116607666016,
          -32.33724594116211,
          14.754292488098145,
          1.6136778593063354,
          9.108627319335938,
          10.875032424926758,
          12.675960540771484,
          -31.43482208251953,
          6.074707508087158,
          18.9808292388916,
          -5.370844841003418,
          -24.746601104736328,
          -6.189406394958496,
          -32.70453643798828,
          -22.325145721435547,
          -9.992350578308105,
          0.10220524668693542,
          -23.01152992248535,
          -25.467878341674805,
          -26.380659103393555,
          -3.8822531700134277,
          -1.6654304265975952,
          -28.36930274963379,
          -4.998140335083008,
          -25.99886703491211,
          -23.759809494018555,
          12.918105125427246,
          -6.606954574584961,
          13.703356742858887,
          -25.55690574645996,
          5.687124252319336,
          -29.71476936340332,
          -13.60039234161377,
          -12.223854064941406,
          10.759194374084473,
          -8.999460220336914,
          -38.129371643066406,
          -0.8853331804275513,
          5.587975978851318,
          12.93444538116455,
          -8.016542434692383,
          -14.28963851928711,
          -12.223854064941406,
          -13.912858963012695,
          -12.223854064941406,
          -5.632409572601318,
          13.315789222717285,
          13.078446388244629,
          -27.7922306060791,
          -22.206207275390625,
          11.381017684936523,
          -24.233715057373047,
          9.93203067779541,
          -27.409170150756836,
          -25.016572952270508,
          -21.189453125,
          -7.234119415283203,
          -22.507949829101562,
          -29.331462860107422,
          9.490066528320312,
          -8.10896110534668,
          6.668543338775635,
          -9.718711853027344,
          12.143965721130371,
          10.498480796813965,
          -4.938199520111084,
          -23.914648056030273,
          10.558374404907227,
          5.306610584259033
         ],
         "y": [
          -24.41557502746582,
          -76.23872375488281,
          -26.57781410217285,
          -78.17708587646484,
          -79.93182373046875,
          -26.399524688720703,
          -50.746124267578125,
          -94.41088104248047,
          -90.9989013671875,
          -82.80464935302734,
          -94.98426818847656,
          -75.30081939697266,
          -75.30081939697266,
          -66.51371002197266,
          -96.77749633789062,
          -93.14607238769531,
          -14.732389450073242,
          -63.24589157104492,
          -63.24589157104492,
          -65.17304992675781,
          -62.51304626464844,
          -63.968406677246094,
          -64.38506317138672,
          -55.470741271972656,
          -64.02996826171875,
          -62.07972717285156,
          -61.034603118896484,
          -65.09144592285156,
          -75.30081939697266,
          -49.582340240478516,
          -33.34128952026367,
          -62.19161605834961,
          -51.63523864746094,
          -75.30081939697266,
          -98.54695892333984,
          -96.77749633789062,
          -91.25193786621094,
          -22.289541244506836,
          29.417787551879883,
          -91.25193786621094,
          -50.23134231567383,
          -21.757957458496094,
          -72.18331909179688,
          -75.30081939697266,
          -94.57041931152344,
          -96.77749633789062,
          -93.14607238769531,
          -23.94180679321289,
          -52.95193099975586,
          -19.82264518737793,
          -61.034603118896484,
          -62.7044563293457,
          -50.93693542480469,
          -51.2829475402832,
          -59.340484619140625,
          -20.662343978881836,
          -57.196388244628906,
          -66.55609130859375,
          -75.05418395996094,
          -63.18916320800781,
          -33.252925872802734,
          -76.21876525878906,
          -61.66416549682617,
          -25.217531204223633,
          -30.333219528198242,
          -61.365089416503906,
          -73.45487213134766,
          -73.86112213134766,
          -32.58003234863281,
          -78.6296157836914,
          -32.39330291748047,
          -77.25493621826172,
          -20.4918270111084,
          -77.28385162353516,
          -12.395621299743652,
          -59.73848342895508,
          -75.93424224853516,
          -69.92667388916016,
          -27.918861389160156,
          -78.09577178955078,
          -69.92667388916016,
          -32.24335479736328,
          -74.95919799804688,
          -95.70330810546875,
          -26.108596801757812,
          -33.31169891357422,
          -58.291927337646484,
          -34.97996139526367,
          -78.5489501953125,
          -93.91056823730469,
          -62.028663635253906,
          -32.3194465637207,
          -74.71481323242188,
          -31.856121063232422,
          -58.583168029785156,
          -23.272035598754883,
          -28.636356353759766,
          -77.78665924072266,
          -57.740177154541016,
          -79.4404525756836,
          -78.9434814453125,
          -22.356626510620117,
          -75.96292877197266,
          -76.9499740600586,
          -61.726219177246094,
          -60.357322692871094,
          -55.209598541259766,
          -71.38986206054688,
          -58.291927337646484,
          -76.79275512695312,
          -58.291927337646484,
          -22.38165855407715,
          -27.353588104248047,
          -75.12864685058594,
          -29.784109115600586,
          -75.11426544189453,
          -76.4439697265625,
          -55.131099700927734,
          -28.757078170776367,
          -71.69758605957031,
          -60.57772445678711,
          -69.92667388916016,
          -56.70436477661133,
          -13.066278457641602,
          -26.956098556518555,
          -78.12203979492188,
          -59.55194091796875,
          -35.04863357543945,
          -49.586456298828125,
          -54.74075698852539,
          -62.838966369628906,
          -18.367525100708008,
          -56.623992919921875,
          -78.6046142578125,
          -55.131099700927734,
          -52.26702880859375,
          -53.069854736328125,
          -30.470483779907227,
          -22.105274200439453,
          -50.86186981201172,
          -28.19141960144043,
          -59.588260650634766,
          -33.93628692626953,
          -31.701757431030273,
          -32.319820404052734,
          -31.090599060058594,
          -61.66416549682617,
          -66.85425567626953,
          -47.10697555541992,
          -33.20756149291992,
          -48.37620162963867,
          -21.661985397338867,
          -34.58921813964844,
          -26.32562828063965,
          -75.36833190917969,
          -61.16704177856445,
          -59.52909851074219,
          -33.04328536987305,
          -52.57374572753906,
          -64.6971664428711,
          -60.161102294921875,
          -79.98368835449219,
          -80.34919738769531,
          -79.93016052246094,
          -50.659671783447266,
          -27.473064422607422,
          -66.20891571044922,
          -63.460018157958984,
          -57.30788803100586,
          -29.257972717285156,
          -55.27372741699219,
          -46.65486526489258,
          -61.618953704833984,
          -58.35152816772461,
          -48.077186584472656,
          -46.176876068115234,
          -51.59951400756836,
          -34.98866271972656,
          -94.21034240722656,
          -50.9845085144043,
          -63.3226432800293,
          -49.917633056640625,
          -47.744842529296875,
          -16.130882263183594,
          -84.72416687011719,
          -33.21546936035156,
          -51.282222747802734,
          -54.450927734375,
          -56.923744201660156,
          -48.800479888916016,
          -96.77749633789062,
          -29.67380142211914,
          -60.80922317504883,
          -62.80888366699219,
          -79.74444580078125,
          -68.66412353515625,
          -25.043081283569336,
          -19.82264518737793,
          -89.46439361572266,
          -96.77749633789062,
          -91.25193786621094,
          -96.77749633789062,
          -81.22634887695312,
          -32.81997299194336,
          -31.27646827697754,
          -22.22343635559082,
          -55.073062896728516,
          -78.72512817382812,
          -54.69721984863281,
          -53.19751739501953,
          -55.45570373535156,
          -53.874305725097656,
          -45.19850540161133,
          -84.06981658935547,
          -50.90814208984375,
          -55.109657287597656,
          -53.27982711791992,
          -62.511436462402344,
          -53.95817947387695,
          -20.38052749633789,
          -64.2232894897461,
          -29.180709838867188,
          -81.71134185791016,
          -48.91416549682617,
          -23.407339096069336,
          -54.69727325439453
         ]
        },
        {
         "hoverinfo": "text",
         "marker": {
          "color": "magenta",
          "line": {
           "color": "DarkSlateGrey",
           "width": 1
          },
          "size": 8
         },
         "mode": "markers",
         "name": "Johann Sebastian Bach",
         "showlegend": true,
         "text": [
          "Johann Sebastian Bach - Goldberg Variations, BWV 988: Aria",
          "Johann Sebastian Bach - Variation 23",
          "Johann Sebastian Bach - The Well-Tempered Clavier: Book 1, BWV 846-869: 1. Prelude in C Major, BWV 846",
          "Johann Sebastian Bach - Air, Orchestral Suite No. 3 In D Major, Bwv 1068. Great for Baby's Brain, Mozart Effect, Stress Reduction and Pure Enjoyment.",
          "Johann Sebastian Bach - Concerto n°5 en Ré majeur BWV 1050: II. Affettuoso",
          "Johann Sebastian Bach - Brandenburg Concerto No. 3 in G Major, BWV 1048: III. Allegro",
          "Johann Sebastian Bach - Violin Partita No. 3 in E Major, BWV 1006: I. Preludio",
          "Johann Sebastian Bach - Unaccompanied Cello Suite No. 1 in G Major, BWV 1007: II. Allemande",
          "Johann Sebastian Bach - Brandenburg Concerto No. 4 in G Major, BWV 1049: I. Allegro",
          "Johann Sebastian Bach - Ich ruf zu dir, Herr Jesu Christ, BWV 639",
          "Johann Sebastian Bach - Jesu Joy Of Man'S Desiring, Bwv 147",
          "Johann Sebastian Bach - Violin Concerto in A Minor, BWV 1041: II. Andante",
          "Johann Sebastian Bach - Die Kunst der Fuge (The Art of Fugue), BWV 1080: Contrapunctus VII a 4 per Augmentationem et Diminutionem",
          "Johann Sebastian Bach - St. Matthew Passion, BWV 244: Pt. I: No. 1, Chorus. Kommt, ihr Tochter, helft mir klagen (Chorus, Soprano in ripieno)",
          "Johann Sebastian Bach - Suite for Violoncello Solo No. 1 in G Major, BWV 1007: I. Prelude",
          "Johann Sebastian Bach - Violin Partita No. 3 in E major, BWV 1006 (arr. P. Galbraith): III. Gavotte en rondeau",
          "Johann Sebastian Bach - Wachet aur, ruft uns die Stimme, BWV 140 (arr. G. Bantock)",
          "Johann Sebastian Bach - Goldberg-Variationen, BWV 988: I. Aria",
          "Johann Sebastian Bach - Prelude & Fugue in C Minor (Well-Tempered Clavier, Book I, No. 2), BWV 847: 1. Prelude",
          "Johann Sebastian Bach - Variation 8",
          "Johann Sebastian Bach - Variation 26",
          "Johann Sebastian Bach - Variation 29",
          "Johann Sebastian Bach - JESU, JOY OF MAN'S DESIRING'",
          "Johann Sebastian Bach - Variation 7",
          "Johann Sebastian Bach - Bach: Brandenburg Concerto No. 2 in F Major, BWV 1047: I. (without tempo indication)",
          "Johann Sebastian Bach - Goldberg Variations, BWV 988: Var. 13 a 2 Clav.",
          "Johann Sebastian Bach - Keyboard Concerto No. 5 in F minor, BWV 1056: II. Largo",
          "Johann Sebastian Bach - Bach: Prelude And Fugue In C - Ulrich Schnauss Rework",
          "Johann Sebastian Bach - Orchestral Suite No. 3 in D Major, BWV 1068: II. Air \"On a G String\" (Arr. for Piano)",
          "Johann Sebastian Bach - Goldberg Variations, BWV 988: Aria da capo",
          "Johann Sebastian Bach - Orchestral Suite No. 3 in D major, BWV 1068: II. Air",
          "Johann Sebastian Bach - Variation 5",
          "Johann Sebastian Bach - Variation 4",
          "Johann Sebastian Bach - Wachet auf, ruft uns die Stimme, Cantata BWV 140: 4. \"Zion hört die Wächter singen\"",
          "Johann Sebastian Bach - Organ Sonata No. 4, BWV 528: 2. Andante [Adagio] (Transcr. by August Stradal)",
          "Johann Sebastian Bach - Orchestral Suite No. 2 in B Minor, BWV 1067: VII. Badinerie",
          "Johann Sebastian Bach - Ave Maria",
          "Johann Sebastian Bach - Goldberg Variations, BWV 988: Variation 3 a 1 Clav. Canone All'Unisono",
          "Johann Sebastian Bach - Nun komm, der Heiden Heiland, BWV 659",
          "Johann Sebastian Bach - Variation 11",
          "Johann Sebastian Bach - Arioso",
          "Johann Sebastian Bach - Cello Suite No. 1 in G Major, BWV 1007: I. Prélude",
          "Johann Sebastian Bach - Sheep May Safely Graze",
          "Johann Sebastian Bach - Concerto en ré mineur, BWV 974: II. Adagio"
         ],
         "type": "scatter",
         "x": [
          50.02842330932617,
          64.39195251464844,
          55.0660285949707,
          55.0660285949707,
          14.922919273376465,
          48.3119010925293,
          46.008697509765625,
          55.0660285949707,
          49.84313201904297,
          15.64584732055664,
          60.49811553955078,
          45.5972900390625,
          52.993743896484375,
          55.51689529418945,
          54.4055290222168,
          55.0660285949707,
          55.0660285949707,
          55.0660285949707,
          55.0660285949707,
          64.05042266845703,
          64.39195251464844,
          60.76948928833008,
          46.77418518066406,
          64.05042266845703,
          52.993743896484375,
          57.12376022338867,
          59.7073860168457,
          55.0660285949707,
          55.51689529418945,
          54.4055290222168,
          46.6298713684082,
          62.47991943359375,
          63.08241271972656,
          55.0660285949707,
          52.455810546875,
          45.17537307739258,
          50.97434997558594,
          57.585205078125,
          50.02731704711914,
          62.924713134765625,
          47.71917724609375,
          46.179039001464844,
          52.6940803527832,
          57.585205078125
         ],
         "y": [
          -42.0905876159668,
          -42.458377838134766,
          -54.9387092590332,
          -54.9387092590332,
          -11.624773979187012,
          -39.841651916503906,
          -47.26704025268555,
          -54.9387092590332,
          -42.819602966308594,
          -11.916254043579102,
          -46.48173522949219,
          -47.571495056152344,
          -56.654273986816406,
          -57.62539291381836,
          -52.411624908447266,
          -54.9387092590332,
          -54.9387092590332,
          -54.9387092590332,
          -54.9387092590332,
          -43.98299026489258,
          -42.458377838134766,
          -46.78397750854492,
          -40.910301208496094,
          -43.98299026489258,
          -56.654273986816406,
          -53.260528564453125,
          -48.10200881958008,
          -54.9387092590332,
          -57.62539291381836,
          -52.411624908447266,
          -40.03225326538086,
          -43.89616775512695,
          -42.876983642578125,
          -54.9387092590332,
          -54.208351135253906,
          -46.589847564697266,
          -42.65166091918945,
          -55.86237716674805,
          -40.76726531982422,
          -41.8280029296875,
          -41.10163497924805,
          -38.42307662963867,
          -40.978843688964844,
          -55.86237716674805
         ]
        },
        {
         "hoverinfo": "text",
         "marker": {
          "color": "navy",
          "line": {
           "color": "DarkSlateGrey",
           "width": 1
          },
          "size": 8
         },
         "mode": "markers",
         "name": "Slipknot",
         "showlegend": true,
         "text": [
          "Slipknot - Duality",
          "Slipknot - Wait and Bleed",
          "Slipknot - Before I Forget",
          "Slipknot - All Hope Is Gone",
          "Slipknot - Butcher's Hook",
          "Slipknot - Dead Memories",
          "Slipknot - Gehenna",
          "Slipknot - Gematria (The Killing Name)",
          "Slipknot - Sulfur",
          "Slipknot - This Cold Black",
          "Slipknot - Vendetta",
          "Slipknot - Wherein Lies Continue",
          "Slipknot - Snuff",
          "Slipknot - Goodbye",
          "Slipknot - Skeptic",
          "Slipknot - Eeyore",
          "Slipknot - Til We Die",
          "Slipknot - Don't Get Close",
          "Slipknot - Nomadic",
          "Slipknot - Nero Forte",
          "Slipknot - If Rain Is What You Want",
          "Slipknot - Drum Solo",
          "Slipknot - Death Because of Death",
          "Slipknot - Red Flag",
          "Slipknot - Danger, Keep Away",
          "Slipknot - The One That Kills the Least",
          "Slipknot - Spit It Out [Hyper Version]",
          "Slipknot - My plague - New abuse mix",
          "Slipknot - Vermilion - Live Version",
          "Slipknot - Vermilion - Alternate Mix; U.S. Edit Full Length [U.S. Edit Full Length]",
          "Slipknot - Insert Coin",
          "Slipknot - Orphan",
          "Slipknot - What's Next",
          "Slipknot - The Nameless - Live Version",
          "Slipknot - Danger (Keep Away)",
          "Slipknot - All Out Life",
          "Slipknot - Vermilion Pt. 2 (Bloodstone Mix)",
          "Slipknot - Psychosocial",
          "Slipknot - Vermilion",
          "Slipknot - People = Shit",
          "Slipknot - Left Behind",
          "Slipknot - Spit It Out",
          "Slipknot - Eyeless",
          "Slipknot - My Plague",
          "Slipknot - (Sic)",
          "Slipknot - Vermilion, Pt. 2",
          "Slipknot - The Blister Exists",
          "Slipknot - Surfacing",
          "Slipknot - The Heretic Anthem",
          "Slipknot - The Nameless",
          "Slipknot - Disasterpiece",
          "Slipknot - The Devil in I",
          "Slipknot - Pulse of the Maggots",
          "Slipknot - Circle",
          "Slipknot - Everything Ends",
          "Slipknot - Opium of the People",
          "Slipknot - Gently",
          "Slipknot - Prelude 3.0",
          "Slipknot - Three Nil",
          "Slipknot - I Am Hated",
          "Slipknot - Purity",
          "Slipknot - Only One",
          "Slipknot - Liberate",
          "Slipknot - Killpop",
          "Slipknot - The Shape",
          "Slipknot - New Abortion",
          "Slipknot - Welcome",
          "Slipknot - 742617000027",
          "Slipknot - No Life",
          "Slipknot - Skin Ticket",
          "Slipknot - Metabolic",
          "Slipknot - Prosthetics",
          "Slipknot - The Virus of Life",
          "Slipknot - Be Prepared for Hell",
          "Slipknot - A Liar's Funeral",
          "Slipknot - Birth of the Cruel",
          "Slipknot - Critical Darling",
          "Slipknot - Solway Firth",
          "Slipknot - Scissors",
          "Slipknot - The Negative One",
          "Slipknot - Get This",
          "Slipknot - Diluted",
          "Slipknot - Me Inside",
          "Slipknot - Unsainted",
          "Slipknot - .execute.",
          "Slipknot - AOV",
          "Slipknot - Tattered & Torn",
          "Slipknot - Custer",
          "Slipknot - XIX",
          "Slipknot - Sarcastrophe",
          "Slipknot - Lech",
          "Slipknot - Scream"
         ],
         "type": "scatter",
         "x": [
          -2.0470263957977295,
          10.763354301452637,
          10.763354301452637,
          -6.3038763999938965,
          6.539507865905762,
          -2.0470263957977295,
          4.891808986663818,
          8.197750091552734,
          -15.899402618408203,
          7.525696754455566,
          -10.530985832214355,
          7.525696754455566,
          2.978494644165039,
          -9.635529518127441,
          -12.135644912719727,
          0.5193237662315369,
          0.3276798129081726,
          0.038165315985679626,
          -10.917133331298828,
          -11.548863410949707,
          0.41517579555511475,
          0.45531490445137024,
          -12.624993324279785,
          -10.662646293640137,
          5.491504192352295,
          -13.738112449645996,
          -14.16128158569336,
          1.502325415611267,
          -12.61833381652832,
          -12.61833381652832,
          -6.383395195007324,
          -14.487120628356934,
          -6.383395195007324,
          -12.61833381652832,
          0.6558476090431213,
          -10.900679588317871,
          12.38797378540039,
          -10.112528800964355,
          5.5663323402404785,
          13.653626441955566,
          4.531159400939941,
          5.923525810241699,
          -10.530985832214355,
          4.277285575866699,
          -10.530985832214355,
          3.9349162578582764,
          -10.530985832214355,
          7.525696754455566,
          -2.749540090560913,
          3.886754274368286,
          11.915421485900879,
          -12.135644912719727,
          7.809601783752441,
          -5.870479106903076,
          11.915421485900879,
          3.1333067417144775,
          9.768494606018066,
          -7.101716995239258,
          6.58227014541626,
          11.683218955993652,
          -10.530985832214355,
          5.84017276763916,
          3.886754274368286,
          -13.641996383666992,
          8.274469375610352,
          6.248135089874268,
          -10.530985832214355,
          8.805314064025879,
          -10.530985832214355,
          7.937264919281006,
          10.901337623596191,
          8.805314064025879,
          9.514052391052246,
          -9.635529518127441,
          -9.138975143432617,
          2.4128456115722656,
          -13.970976829528809,
          6.228250980377197,
          8.805314064025879,
          -13.641996383666992,
          -2.9464797973632812,
          9.590896606445312,
          9.590896606445312,
          -0.42896392941474915,
          -5.271859645843506,
          -12.135644912719727,
          -3.0313024520874023,
          -12.135644912719727,
          -10.917133331298828,
          -3.4413204193115234,
          0.5193237662315369,
          10.763354301452637
         ],
         "y": [
          54.080650329589844,
          72.27803039550781,
          72.27803039550781,
          56.43734359741211,
          80.060546875,
          54.080650329589844,
          79.85610961914062,
          91.03802490234375,
          106.65628814697266,
          81.69343566894531,
          71.73986053466797,
          81.69343566894531,
          57.20652389526367,
          56.10421371459961,
          58.91409683227539,
          89.51416778564453,
          53.478458404541016,
          55.9278678894043,
          61.14528274536133,
          64.66500854492188,
          90.6124496459961,
          57.18236541748047,
          39.395721435546875,
          54.19099426269531,
          57.64888000488281,
          61.64303207397461,
          42.301055908203125,
          58.822471618652344,
          75.98372650146484,
          75.98372650146484,
          36.08273696899414,
          40.84837341308594,
          36.08273696899414,
          75.98372650146484,
          55.32160568237305,
          63.218990325927734,
          -18.33176612854004,
          70.06775665283203,
          81.20268249511719,
          88.0636215209961,
          83.89309692382812,
          77.11746215820312,
          71.73986053466797,
          78.2529525756836,
          71.73986053466797,
          57.2945671081543,
          71.73986053466797,
          81.69343566894531,
          76.80064392089844,
          81.86614227294922,
          89.22767639160156,
          58.91409683227539,
          77.66799926757812,
          58.640655517578125,
          89.22767639160156,
          79.92424774169922,
          82.60875701904297,
          57.35893630981445,
          84.26988983154297,
          88.12793731689453,
          71.73986053466797,
          82.781005859375,
          81.86614227294922,
          58.99171829223633,
          83.73880004882812,
          78.70005798339844,
          71.73986053466797,
          93.8963394165039,
          71.73986053466797,
          79.4407958984375,
          88.8296127319336,
          93.8963394165039,
          78.47968292236328,
          56.10421371459961,
          62.956451416015625,
          90.50042724609375,
          40.55445861816406,
          90.71480560302734,
          93.8963394165039,
          58.99171829223633,
          76.35962677001953,
          80.54695129394531,
          80.54695129394531,
          90.00923919677734,
          60.045406341552734,
          58.91409683227539,
          51.29916763305664,
          58.91409683227539,
          61.14528274536133,
          75.45420837402344,
          89.51416778564453,
          72.27803039550781
         ]
        },
        {
         "hoverinfo": "text",
         "marker": {
          "color": "aqua",
          "line": {
           "color": "DarkSlateGrey",
           "width": 1
          },
          "size": 8
         },
         "mode": "markers",
         "name": "Miles Davis",
         "showlegend": true,
         "text": [
          "Miles Davis - So What",
          "Miles Davis - Blue in Green",
          "Miles Davis - Freddie Freeloader",
          "Miles Davis - All Blues",
          "Miles Davis - Flamenco Sketches",
          "Miles Davis - Nefertiti",
          "Miles Davis - Générique - BOF \"Ascenseur pour l'échafaud\"",
          "Miles Davis - Sonya",
          "Miles Davis - You're My Everything",
          "Miles Davis - Full Nelson",
          "Miles Davis - Au bar du petit bac",
          "Miles Davis - Julien dans l'ascenseur",
          "Miles Davis - Someday My Prince Will Come",
          "Miles Davis - Seven Steps to Heaven",
          "Miles Davis - Circle",
          "Miles Davis - Agitation",
          "Miles Davis - Little Melonae",
          "Miles Davis - Mood",
          "Miles Davis - A Night in Tunisia",
          "Miles Davis - New Rhumba",
          "Miles Davis - Yesterdays",
          "Miles Davis - Portia",
          "Miles Davis - Backyard Ritual",
          "Miles Davis - Chocolate Chip",
          "Miles Davis - Joshua",
          "Miles Davis - So Near, So Far",
          "Miles Davis - It Could Happen to You",
          "Miles Davis - Fantasy",
          "Miles Davis - Saeta",
          "Miles Davis - Tadd's Delight",
          "Miles Davis - Rated X",
          "Miles Davis - Great Expectations",
          "Miles Davis - Fall",
          "Miles Davis - Gingerbread Boy",
          "Miles Davis - Dr. Jackle",
          "Miles Davis - Solar",
          "Miles Davis - Tomaas",
          "Miles Davis - Sid's Ahead",
          "Miles Davis - Yesternow",
          "Miles Davis - Half Nelson",
          "Miles Davis - The Doo Bop Song",
          "Miles Davis - Duke Booty",
          "Miles Davis - Visite du vigile",
          "Miles Davis - Prayer (Oh Doctor Jesus)",
          "Miles Davis - Lonely Fire",
          "Miles Davis - Ife",
          "Miles Davis - Sweet Sue, Just You",
          "Miles Davis - When I Fall in Love",
          "Miles Davis - Enigma",
          "Miles Davis - Fran Dance",
          "Miles Davis - Madness",
          "Miles Davis - Orbits",
          "Miles Davis - Eighty-One",
          "Miles Davis - Little One",
          "Miles Davis - The Sorcerer",
          "Miles Davis - Once Upon a Summertime",
          "Miles Davis - Springsville",
          "Miles Davis - The Duke",
          "Miles Davis - The Serpent's Tooth (Take 1)",
          "Miles Davis - Blue Haze",
          "Miles Davis - Red China Blues",
          "Miles Davis - Billy Boy",
          "Miles Davis - Love Me or Leave Me",
          "Miles Davis - Nuit sur les Champs-Elysees (Take 2)",
          "Miles Davis - Bess, You Is My Woman Now",
          "Miles Davis - Gone, Gone, Gone",
          "Miles Davis - Double Image",
          "Miles Davis - Stuff",
          "Miles Davis - Budo (Alternate Take)",
          "Miles Davis - Tadd's Delight (Alternate Take)",
          "Miles Davis - Ghetto Walkin'",
          "Miles Davis - Old Folks",
          "Miles Davis - Recollections",
          "Miles Davis - Somethin' Else",
          "Miles Davis - Two Faced",
          "Miles Davis - Well You Needn't",
          "Miles Davis - Bags' Groove (Take 1)",
          "Miles Davis - I See Your Face Before Me",
          "Miles Davis - Surrey With the Fringe On Top",
          "Miles Davis - Thinkin' One Thing And Doin' Another",
          "Miles Davis - Freddie Freeloader (Studio Sequence 1)",
          "Miles Davis - Song of Our Country",
          "Miles Davis - Concierto de Aranjuez: Adagio",
          "Miles Davis - Bemsha Swing",
          "Miles Davis - It Ain't Necessarily So",
          "Miles Davis - My old flame",
          "Miles Davis - It's Only a Paper Moon",
          "Miles Davis - Duran",
          "Miles Davis - Freedom Jazz Dance (Evolution of the Groove)",
          "Miles Davis - Prince Of Darkness",
          "Miles Davis - Donna",
          "Miles Davis - Mtume",
          "Miles Davis - Petits machins (Little Stuff)",
          "Miles Davis - Tout de suite",
          "Miles Davis - Love for Sale",
          "Miles Davis - Riot",
          "Miles Davis - Pinocchio",
          "Miles Davis - Dolores",
          "Miles Davis - Honky Tonk",
          "Miles Davis - Iris",
          "Miles Davis - R.J.",
          "Miles Davis - Basin Street Blues",
          "Miles Davis - How Deep Is the Ocean",
          "Miles Davis - Smooch",
          "Miles Davis - My Ship",
          "Miles Davis - Now's the Time",
          "Miles Davis - Blues By Five",
          "Miles Davis - In Your Own Sweet Way",
          "Miles Davis - Blow",
          "Miles Davis - Evasion De Julien",
          "Miles Davis - Chez le photographe du motel",
          "Miles Davis - Dîner au motel",
          "Miles Davis - Jean Pierre",
          "Miles Davis - Gone",
          "Miles Davis - Rubberband Of Life (feat. Ledisi)",
          "Miles Davis - Green Haze",
          "Miles Davis - He Loved Him Madly",
          "Miles Davis - Maiysha",
          "Miles Davis - Some Day My Prince Will Come",
          "Miles Davis - Water On The Pond",
          "Miles Davis - Penetration - Live at Vienne Jazz Festival, 1991",
          "Miles Davis - Seven Steps To Heaven - Live",
          "Miles Davis - Changes",
          "Miles Davis - Go Ahead John (part two A)",
          "Miles Davis - Wait Till You See Her",
          "Miles Davis - Hannibal",
          "Miles Davis - Violets (feat. Phonte)",
          "Miles Davis - Fishermen, Strawberry And Devil Crab",
          "Miles Davis - Oh Bess, Oh Where's My Bess",
          "Miles Davis - Flamenco Sketches - Alternate Take",
          "Miles Davis - Will You Still Be Mine?",
          "Miles Davis - Just Squeeze Me",
          "Miles Davis - So What - Studio Sequence 1",
          "Miles Davis - Milestones [Alternate Take]",
          "Miles Davis - Billy Preston",
          "Miles Davis - Lament",
          "Miles Davis - 'Round Midnight (feat. John Coltrane)",
          "Miles Davis - So What (feat. John Coltrane, Cannonball Adderley & Bill Evans)",
          "Miles Davis - U-Turnaround",
          "Miles Davis - Minnie",
          "Miles Davis - On The Corner (Unedited Master)",
          "Miles Davis - On The Corner/New York Girl/Thinkin' Of One Thing And Doin' Another/Vote For Miles",
          "Miles Davis - Straight, No Chaser [Alternate Take]",
          "Miles Davis - Fran-Dance (Alternate Take)",
          "Miles Davis - Two Bass Hit [Alternate Take]",
          "Miles Davis - Ah-Leu-Cha (Alternate Take)",
          "Miles Davis - All Of You [Alternate Take]",
          "Miles Davis - Bye Bye Blackbird (Alternate Take)",
          "Miles Davis - Dear Old Stockholm [Alternate Take]",
          "Miles Davis - Freddie Freeloader [False Start]",
          "Miles Davis - Sweet Sue, Just You [alternate take]",
          "Miles Davis - Sweet Sue, Just You [First Version]",
          "Miles Davis - Petits Machins",
          "Miles Davis - I Wants To Stay Here (AKA I Loves You Porgy)",
          "Miles Davis - Out of the Blue",
          "Miles Davis - One For Daddy-O",
          "Miles Davis - Weirdo",
          "Miles Davis - Morpheus",
          "Miles Davis - Aos Pes Da Cruz",
          "Miles Davis - Odjenar",
          "Miles Davis - Talking Shit",
          "Miles Davis - Go Ahead John (part 1)",
          "Miles Davis - Filles De Kilimanjaro (Girls of Kilimanjaro)",
          "Miles Davis - Florence sur les champs-elysées",
          "Miles Davis - Pee Wee",
          "Miles Davis - Frelon Brun",
          "Miles Davis - Limbo",
          "Miles Davis - Go Ahead John",
          "Miles Davis - Splash",
          "Miles Davis - Water Babies",
          "Miles Davis - Black Comedy",
          "Miles Davis - Paraphernalia",
          "Miles Davis - Sweet Pea",
          "Miles Davis - Tempus Fugit",
          "Miles Davis - 'Round Midnight",
          "Miles Davis - Summertime",
          "Miles Davis - Bye Bye Blackbird",
          "Miles Davis - Move",
          "Miles Davis - Budo",
          "Miles Davis - Spanish Key",
          "Miles Davis - It Never Entered My Mind",
          "Miles Davis - Stella By Starlight",
          "Miles Davis - Jeru",
          "Miles Davis - My Funny Valentine",
          "Miles Davis - Moon Dreams",
          "Miles Davis - Boplicity",
          "Miles Davis - Autumn Leaves",
          "Miles Davis - If I Were a Bell",
          "Miles Davis - Miles Runs the Voodoo Down",
          "Miles Davis - Two Bass Hit",
          "Miles Davis - Tutu",
          "Miles Davis - John McLaughlin",
          "Miles Davis - Human Nature",
          "Miles Davis - On Green Dolphin Street",
          "Miles Davis - Godchild",
          "Miles Davis - Deception",
          "Miles Davis - Dear Old Stockholm",
          "Miles Davis - Venus de Milo",
          "Miles Davis - Masqualero",
          "Miles Davis - Hand Jive",
          "Miles Davis - Round About Midnight",
          "Miles Davis - Footprints",
          "Miles Davis - Out of Nowhere",
          "Miles Davis - Amandla",
          "Miles Davis - Baby Won't You Please Come Home",
          "Miles Davis - When Lights Are Low",
          "Miles Davis - The Maids of Cadiz",
          "Miles Davis - Blues for Pablo",
          "Miles Davis - Airegin",
          "Miles Davis - Compulsion",
          "Miles Davis - I'll Remember April",
          "Miles Davis - Fat Time",
          "Miles Davis - High Speed Chase",
          "Miles Davis - Conception",
          "Miles Davis - My Man's Gone Now",
          "Miles Davis - Feio",
          "Miles Davis - Guinnevere",
          "Miles Davis - Orange Lady",
          "Miles Davis - The Little Blue Frog",
          "Miles Davis - Miles Davis Comments",
          "Miles Davis - Summer Night",
          "Miles Davis - Calypso Frelimo",
          "Miles Davis - Shhh / Peaceful",
          "Miles Davis - Teo",
          "Miles Davis - Rouge",
          "Miles Davis - Four",
          "Miles Davis - I Fall In Love Too Easily",
          "Miles Davis - Miles Ahead",
          "Miles Davis - Sanctuary",
          "Miles Davis - Rocker",
          "Miles Davis - All of You",
          "Miles Davis - Oleo",
          "Miles Davis - Straight, No Chaser",
          "Miles Davis - Darn That Dream",
          "Miles Davis - Israel",
          "Miles Davis - The Pan Piper",
          "Miles Davis - Black Satin",
          "Miles Davis - Time After Time",
          "Miles Davis - Ah-Leu-Cha",
          "Miles Davis - The Theme",
          "Miles Davis - Mystery",
          "Miles Davis - I Thought About You",
          "Miles Davis - Solea",
          "Miles Davis - Will O' the Wisp",
          "Miles Davis - Sur L'Autoroute",
          "Miles Davis - L'Assassinat de Carala"
         ],
         "type": "scatter",
         "x": [
          65.80933380126953,
          84.99695587158203,
          40.79453659057617,
          51.42102813720703,
          87.66107177734375,
          86.18453216552734,
          43.44503402709961,
          46.50511932373047,
          41.28670120239258,
          66.29783630371094,
          40.13370895385742,
          40.97001266479492,
          41.968807220458984,
          42.61132049560547,
          26.796541213989258,
          42.728145599365234,
          87.27120208740234,
          32.34317398071289,
          42.37275314331055,
          88.54824829101562,
          42.568870544433594,
          91.83642578125,
          53.426734924316406,
          32.46458053588867,
          91.33296203613281,
          91.33296203613281,
          30.87528419494629,
          58.78851318359375,
          88.54824829101562,
          58.29974365234375,
          65.1056137084961,
          67.6683578491211,
          73.64822387695312,
          61.30146789550781,
          72.72323608398438,
          87.00901794433594,
          78.00931549072266,
          85.55286407470703,
          44.83671951293945,
          29.436527252197266,
          60.00029373168945,
          61.825401306152344,
          41.834144592285156,
          40.58741760253906,
          49.76478958129883,
          63.37834930419922,
          40.65654754638672,
          37.41703796386719,
          51.22718811035156,
          15.236473083496094,
          71.53604125976562,
          21.721054077148438,
          41.85272216796875,
          40.21512222290039,
          28.3623046875,
          58.55788803100586,
          70.9957046508789,
          20.91334342956543,
          17.8912353515625,
          49.870113372802734,
          51.23594665527344,
          44.3319206237793,
          15.035316467285156,
          41.29130935668945,
          45.71726989746094,
          49.80052185058594,
          63.7567138671875,
          46.0335693359375,
          49.83956527709961,
          24.182331085205078,
          41.75587844848633,
          57.882537841796875,
          66.87020874023438,
          45.143375396728516,
          50.53160095214844,
          69.87474060058594,
          31.16946029663086,
          79.96470642089844,
          58.56092834472656,
          69.31742858886719,
          76.37122344970703,
          40.81014633178711,
          17.011842727661133,
          45.056427001953125,
          28.793930053710938,
          41.8651008605957,
          38.4188346862793,
          72.42845153808594,
          20.995269775390625,
          23.804182052612305,
          48.451053619384766,
          65.43109130859375,
          40.85204315185547,
          61.81830596923828,
          72.67728424072266,
          72.26071166992188,
          70.95161437988281,
          40.36329650878906,
          67.76606750488281,
          31.220914840698242,
          29.762760162353516,
          41.22679138183594,
          71.5670394897461,
          50.26564407348633,
          39.05083084106445,
          66.4157943725586,
          41.32478332519531,
          68.43103790283203,
          58.17787551879883,
          40.79923629760742,
          42.93949508666992,
          66.44019317626953,
          73.99345397949219,
          48.5989875793457,
          12.636882781982422,
          64.80036163330078,
          57.695438385009766,
          61.23524475097656,
          74.74137878417969,
          23.62742042541504,
          41.75587844848633,
          43.44503402709961,
          21.42042350769043,
          49.83956527709961,
          40.13007354736328,
          53.24476623535156,
          41.75587844848633,
          40.122947692871094,
          17.74485206604004,
          26.25631332397461,
          49.83956527709961,
          67.19725799560547,
          22.855613708496094,
          47.07919692993164,
          67.6683578491211,
          48.474395751953125,
          43.44503402709961,
          74.4271469116211,
          17.92099380493164,
          17.55477523803711,
          67.97293853759766,
          64.67902374267578,
          33.748348236083984,
          25.874340057373047,
          22.63361167907715,
          43.44503402709961,
          49.83956527709961,
          42.985626220703125,
          21.62337303161621,
          69.22308349609375,
          26.51325035095215,
          21.357784271240234,
          57.127689361572266,
          43.44503402709961,
          71.96312713623047,
          18.1152286529541,
          72.1958236694336,
          91.33296203613281,
          59.82368469238281,
          23.259506225585938,
          41.75587844848633,
          22.797222137451172,
          49.83956527709961,
          39.52696990966797,
          39.228546142578125,
          61.59603500366211,
          65.32546997070312,
          63.960975646972656,
          43.17436981201172,
          29.28767204284668,
          62.71308517456055,
          70.4608154296875,
          50.90207290649414,
          44.51279067993164,
          64.34385681152344,
          84.89229583740234,
          67.72692108154297,
          63.97243118286133,
          65.13337707519531,
          68.84223937988281,
          58.4021110534668,
          39.19438171386719,
          67.75186920166016,
          39.12914276123047,
          65.80933380126953,
          86.23033142089844,
          52.55691146850586,
          28.244901657104492,
          69.1406478881836,
          91.33296203613281,
          67.69927978515625,
          70.04255676269531,
          91.7994613647461,
          87.45174407958984,
          62.68138122558594,
          66.48220825195312,
          63.4213981628418,
          65.80933380126953,
          41.84278869628906,
          72.26071166992188,
          67.54396057128906,
          41.84278869628906,
          26.781463623046875,
          50.38351058959961,
          38.767391204833984,
          38.937931060791016,
          91.33296203613281,
          41.659080505371094,
          28.75007438659668,
          74.39427947998047,
          91.33296203613281,
          74.98253631591797,
          62.267520904541016,
          26.270858764648438,
          56.624691009521484,
          62.86811828613281,
          57.523311614990234,
          46.31264114379883,
          71.01946258544922,
          49.83956527709961,
          56.19518280029297,
          66.58284759521484,
          57.83711242675781,
          73.3779296875,
          66.27983856201172,
          91.33296203613281,
          64.34385681152344,
          91.33296203613281,
          69.06061553955078,
          66.27983856201172,
          62.68539047241211,
          63.39265060424805,
          91.33296203613281,
          57.31605911254883,
          86.51032257080078,
          78.00837707519531,
          69.1406478881836,
          91.7994613647461,
          64.54309844970703,
          69.328125,
          58.49751281738281,
          42.65479278564453,
          87.27120208740234,
          88.91770935058594,
          40.13370895385742,
          40.97001266479492
         ],
         "y": [
          46.41572952270508,
          -1.2868661880493164,
          28.284915924072266,
          1.713464617729187,
          1.1423840522766113,
          1.2546799182891846,
          69.33661651611328,
          25.11215591430664,
          30.981542587280273,
          18.32404327392578,
          -16.1227970123291,
          -19.04279136657715,
          24.914989471435547,
          30.461366653442383,
          14.938281059265137,
          26.779401779174805,
          -2.6555163860321045,
          16.269424438476562,
          32.52835464477539,
          -1.3914952278137207,
          22.408061981201172,
          -6.8081817626953125,
          12.529192924499512,
          12.751398086547852,
          -19.917186737060547,
          -19.917186737060547,
          13.706695556640625,
          24.688005447387695,
          -1.3914952278137207,
          49.892269134521484,
          13.333833694458008,
          23.38142967224121,
          -9.890993118286133,
          -22.223468780517578,
          -12.932005882263184,
          -20.460834503173828,
          -1.5322144031524658,
          -2.624769449234009,
          21.13700294494629,
          12.779631614685059,
          23.369338989257812,
          22.51534080505371,
          -17.924846649169922,
          3.488795042037964,
          18.02789306640625,
          12.936545372009277,
          36.76432800292969,
          26.43914031982422,
          2.976228713989258,
          5.443253993988037,
          -9.211971282958984,
          7.391883373260498,
          -3.268876552581787,
          -4.45164680480957,
          13.229803085327148,
          -21.576330184936523,
          -14.757253646850586,
          -0.13604407012462616,
          15.696067810058594,
          1.8032797574996948,
          5.468721389770508,
          33.44782638549805,
          4.573449611663818,
          -19.952613830566406,
          32.670223236083984,
          2.624797821044922,
          14.49898910522461,
          25.745580673217773,
          80.5858154296875,
          14.21686840057373,
          70.06616973876953,
          -20.325876235961914,
          34.174739837646484,
          3.347519874572754,
          18.67159080505371,
          -14.369414329528809,
          22.92856788635254,
          -2.6095190048217773,
          49.84620666503906,
          27.434036254882812,
          -8.620194435119629,
          -6.490746974945068,
          15.131316184997559,
          71.84021759033203,
          10.920927047729492,
          28.368534088134766,
          23.494110107421875,
          -0.9879478216171265,
          13.87807559967041,
          4.576855659484863,
          2.9977500438690186,
          17.457693099975586,
          -7.079714775085449,
          14.823451042175293,
          -13.601771354675293,
          -9.945444107055664,
          -12.5299072265625,
          35.42072296142578,
          16.488521575927734,
          15.19200611114502,
          13.80792236328125,
          34.08537673950195,
          -5.103612899780273,
          3.5482850074768066,
          13.019384384155273,
          -22.694103240966797,
          -3.3246870040893555,
          -12.482966423034668,
          23.240385055541992,
          -21.441280364990234,
          -20.388683319091797,
          34.258567810058594,
          -1.2869447469711304,
          24.620296478271484,
          2.0635297298431396,
          33.91032409667969,
          -5.428642749786377,
          13.340971946716309,
          -3.308870315551758,
          2.3356447219848633,
          70.06616973876953,
          69.33661651611328,
          6.2007246017456055,
          80.5858154296875,
          13.972137451171875,
          12.584161758422852,
          70.06616973876953,
          3.342113733291626,
          14.788156509399414,
          14.509706497192383,
          80.5858154296875,
          36.09038162231445,
          1.439813494682312,
          25.893129348754883,
          23.38142967224121,
          0.5841682553291321,
          69.33661651611328,
          -7.185797214508057,
          -7.668820858001709,
          -8.424384117126465,
          16.058916091918945,
          8.557206153869629,
          15.982551574707031,
          2.3882861137390137,
          0.02306627482175827,
          69.33661651611328,
          80.5858154296875,
          72.55069732666016,
          -4.56708288192749,
          -10.780105590820312,
          5.511962413787842,
          14.297294616699219,
          15.762174606323242,
          69.33661651611328,
          -7.7987446784973145,
          4.994096755981445,
          -4.665183067321777,
          -19.917186737060547,
          -21.839475631713867,
          16.049386978149414,
          70.06616973876953,
          3.4346063137054443,
          80.5858154296875,
          -18.374757766723633,
          19.210296630859375,
          13.873221397399902,
          -22.1746883392334,
          9.784305572509766,
          -3.5803639888763428,
          14.538418769836426,
          -15.223255157470703,
          -11.335528373718262,
          18.03312110900879,
          34.752891540527344,
          44.61094665527344,
          0.19962424039840698,
          47.22110366821289,
          46.31338119506836,
          49.002662658691406,
          24.14568328857422,
          -20.305086135864258,
          25.180856704711914,
          45.55236053466797,
          25.650606155395508,
          46.41572952270508,
          -0.1513877511024475,
          1.7793302536010742,
          26.855655670166016,
          22.809757232666016,
          -19.917186737060547,
          24.870500564575195,
          24.261396408081055,
          -5.20818567276001,
          -0.2797553837299347,
          47.06374740600586,
          48.21449279785156,
          48.56485366821289,
          46.41572952270508,
          35.02503967285156,
          -9.945444107055664,
          -9.595916748046875,
          35.02503967285156,
          12.672832489013672,
          4.70735502243042,
          28.575510025024414,
          18.983076095581055,
          -19.917186737060547,
          25.299114227294922,
          26.888198852539062,
          -13.120383262634277,
          -19.917186737060547,
          -0.6380757093429565,
          23.217544555664062,
          18.187740325927734,
          16.40134620666504,
          21.873647689819336,
          16.56722068786621,
          27.170358657836914,
          22.89812469482422,
          80.5858154296875,
          42.84578323364258,
          33.103309631347656,
          -5.012362480163574,
          -8.748085021972656,
          44.34346008300781,
          -19.917186737060547,
          44.61094665527344,
          -19.917186737060547,
          25.190271377563477,
          44.34346008300781,
          45.34123992919922,
          -13.76832389831543,
          -19.917186737060547,
          43.31235122680664,
          -1.3264175653457642,
          -1.5322448015213013,
          22.809757232666016,
          -5.20818567276001,
          47.62883758544922,
          28.696008682250977,
          19.25486946105957,
          31.233945846557617,
          -2.6555163860321045,
          0.26992863416671753,
          -16.1227970123291,
          -19.04279136657715
         ]
        },
        {
         "hoverinfo": "text",
         "marker": {
          "color": "silver",
          "line": {
           "color": "DarkSlateGrey",
           "width": 1
          },
          "size": 8
         },
         "mode": "markers",
         "name": "Black Kids",
         "showlegend": true,
         "text": [
          "Black Kids - I'm Not Gonna Teach Your Boyfriend How to Dance With You",
          "Black Kids - Hit The Heartbrakes",
          "Black Kids - I've Underestimated My Charm (Again)",
          "Black Kids - Partie Traumatic",
          "Black Kids - I'm Making Eyes at You",
          "Black Kids - Listen To Your Body Tonight",
          "Black Kids - Hurricane Jane",
          "Black Kids - Look at Me (When I Rock Wichoo)",
          "Black Kids - Love Me Already",
          "Black Kids - I Wanna Be Your Limousine",
          "Black Kids - My Christian Name",
          "Black Kids - Obligatory Drugs",
          "Black Kids - V-Card (Not Nuthin’)",
          "Black Kids - Natural Born Kissers",
          "Black Kids - In A Song",
          "Black Kids - If My Heart Is Broken",
          "Black Kids - All The Emotions",
          "Black Kids - Way Into Leather",
          "Black Kids - Hurricane Jane (The Cansecos Remix)",
          "Black Kids - I'm Making Eyes At You (Joy Electric Remix)",
          "Black Kids - I'm Not Gonna Teach Your Boyfriend How to Dance with You - The Twelves Remix"
         ],
         "type": "scatter",
         "x": [
          -33.986351013183594,
          -32.8978385925293,
          -32.249874114990234,
          -28.604385375976562,
          -27.98036003112793,
          -33.33831787109375,
          -34.46120071411133,
          -32.77185821533203,
          -28.12347412109375,
          -29.746458053588867,
          13.861806869506836,
          7.23468017578125,
          -31.334379196166992,
          -31.334379196166992,
          -31.334379196166992,
          -32.44852828979492,
          -31.334379196166992,
          -31.334379196166992,
          12.003870010375977,
          15.135539054870605,
          -32.96811294555664
         ],
         "y": [
          -27.438243865966797,
          -24.030872344970703,
          -22.9427490234375,
          -25.638919830322266,
          -24.729263305664062,
          -26.426408767700195,
          -25.324325561523438,
          -26.738733291625977,
          -23.96119499206543,
          -26.934139251708984,
          -14.66003131866455,
          -17.28281021118164,
          -29.866294860839844,
          -29.866294860839844,
          -29.866294860839844,
          -31.073747634887695,
          -29.866294860839844,
          -29.866294860839844,
          -10.269749641418457,
          -13.551410675048828,
          -29.780853271484375
         ]
        },
        {
         "hoverinfo": "text",
         "marker": {
          "color": "maroon",
          "line": {
           "color": "DarkSlateGrey",
           "width": 1
          },
          "size": 8
         },
         "mode": "markers",
         "name": "Linkin Park",
         "showlegend": true,
         "text": [
          "Linkin Park - Numb",
          "Linkin Park - In the End",
          "Linkin Park - One Step Closer",
          "Linkin Park - Crawling",
          "Linkin Park - Faint",
          "Linkin Park - What I've Done",
          "Linkin Park - Somewhere I Belong",
          "Linkin Park - Papercut",
          "Linkin Park - Breaking the Habit",
          "Linkin Park - Leave Out All the Rest",
          "Linkin Park - Bleed It Out",
          "Linkin Park - Points of Authority",
          "Linkin Park - Lying from You",
          "Linkin Park - From the Inside",
          "Linkin Park - A Place for My Head",
          "Linkin Park - Burn It Down",
          "Linkin Park - By Myself",
          "Linkin Park - Shadow of the Day",
          "Linkin Park - With You",
          "Linkin Park - Pushing Me Away",
          "Linkin Park - Runaway",
          "Linkin Park - Don't Stay",
          "Linkin Park - Forgotten",
          "Linkin Park - Given Up",
          "Linkin Park - New Divide",
          "Linkin Park - Drawbar (feat. Tom Morello)",
          "Linkin Park - The Summoning",
          "Linkin Park - Mark the Graves",
          "Linkin Park - Numb - One More Light Live",
          "Linkin Park - From The Inside - Live LP Underground Tour 2003",
          "Linkin Park - Easier To Run - Live LP Underground Tour 2003",
          "Linkin Park - P5hng Me A*wy (Mike Shinoda Reanimation) [feat. Stephen Richards]",
          "Linkin Park - Pts.Of.Athrty - Jay Gordon Reanimation",
          "Linkin Park - Sharp Edges - One More Light Live",
          "Linkin Park - Crawling - One More Light Live",
          "Linkin Park - 1Stp Klosr (The Humble Brothers Reanimation) [feat. Jonathan Davis]",
          "Linkin Park - Nobody`s Listening",
          "Linkin Park - Guilty All the Same (feat. Rakim)",
          "Linkin Park - Lying from You (Live)",
          "Linkin Park - Krwlng (Mike Shinoda Reanimation) [feat. Aaron Lewis]",
          "Linkin Park - Lying From You - Live LP Underground Tour 2003",
          "Linkin Park - Foreword",
          "Linkin Park - Waiting for the End",
          "Linkin Park - The Catalyst",
          "Linkin Park - Castle of Glass",
          "Linkin Park - Lost in the Echo",
          "Linkin Park - Hit the Floor",
          "Linkin Park - Easier to Run",
          "Linkin Park - Figure.09",
          "Linkin Park - No More Sorrow",
          "Linkin Park - Hands Held High",
          "Linkin Park - In Pieces",
          "Linkin Park - Iridescent",
          "Linkin Park - Valentine's Day",
          "Linkin Park - Session",
          "Linkin Park - Burning in the Skies",
          "Linkin Park - In My Remains",
          "Linkin Park - Cure for the Itch",
          "Linkin Park - When They Come for Me",
          "Linkin Park - The Little Things Give You Away",
          "Linkin Park - In Between",
          "Linkin Park - My December",
          "Linkin Park - Blackout",
          "Linkin Park - Wake",
          "Linkin Park - Robot Boy",
          "Linkin Park - I'll Be Gone",
          "Linkin Park - The Requiem",
          "Linkin Park - Lies Greed Misery",
          "Linkin Park - Roads Untraveled",
          "Linkin Park - The Messenger",
          "Linkin Park - Powerless",
          "Linkin Park - The Radiance",
          "Linkin Park - Victimized",
          "Linkin Park - Skin to Bone",
          "Linkin Park - Jornada del Muerto",
          "Linkin Park - Final Masquerade",
          "Linkin Park - Fallout",
          "Linkin Park - Until It Breaks",
          "Linkin Park - Heavy (feat. Kiiara)",
          "Linkin Park - Wisdom, Justice, and Love",
          "Linkin Park - Wretches and Kings",
          "Linkin Park - Tinfoil",
          "Linkin Park - High Voltage",
          "Linkin Park - Until It's Gone",
          "Linkin Park - Opening",
          "Linkin Park - One More Light",
          "Linkin Park - Not Alone",
          "Linkin Park - What I've Done (Live)",
          "Linkin Park - Talking to Myself",
          "Linkin Park - Battle Symphony",
          "Linkin Park - Wastelands",
          "Linkin Park - Sharp Edges",
          "Linkin Park - Good Goodbye (feat. Pusha T and Stormzy)",
          "Linkin Park - Sorry for Now",
          "Linkin Park - Keys to the Kingdom",
          "Linkin Park - Rebellion (feat. Daron Malakian)",
          "Linkin Park - Nobody Can Save Me",
          "Linkin Park - Invisible",
          "Linkin Park - A Light That Never Comes",
          "Linkin Park - War",
          "Linkin Park - A Line in the Sand"
         ],
         "type": "scatter",
         "x": [
          -8.038926124572754,
          -10.531060218811035,
          -5.966773509979248,
          -10.52978801727295,
          -10.965876579284668,
          -6.555394649505615,
          -11.806279182434082,
          -4.321072578430176,
          -13.81529712677002,
          -4.670070171356201,
          -7.936391353607178,
          -5.801854133605957,
          -11.822763442993164,
          -9.169601440429688,
          -9.80125904083252,
          -23.8731632232666,
          -9.376173973083496,
          -13.352839469909668,
          -7.572160243988037,
          -12.1056489944458,
          -6.183058261871338,
          -7.978404521942139,
          -7.643085479736328,
          -10.320757865905762,
          -12.240903854370117,
          -19.453777313232422,
          -16.901973724365234,
          -1.6872535943984985,
          -52.67073440551758,
          2.8097715377807617,
          -1.2536144256591797,
          -52.67073440551758,
          -52.67073440551758,
          -52.67073440551758,
          -52.67073440551758,
          -52.67073440551758,
          -11.615582466125488,
          -17.659975051879883,
          -20.996849060058594,
          -7.6365461349487305,
          -1.2536144256591797,
          -10.98306941986084,
          -7.71707010269165,
          -10.076314926147461,
          -23.626188278198242,
          -6.620305061340332,
          -9.124054908752441,
          -11.774449348449707,
          -7.870993137359619,
          -13.476983070373535,
          -14.331413269042969,
          -8.723471641540527,
          -7.71707010269165,
          -6.695466041564941,
          -15.316933631896973,
          -7.71707010269165,
          -0.3489442467689514,
          -2.9647531509399414,
          -19.39885902404785,
          -9.969551086425781,
          -3.4613842964172363,
          -3.4613842964172363,
          -3.7341206073760986,
          -15.316933631896973,
          -3.7341206073760986,
          -0.3489442467689514,
          -21.19838523864746,
          -10.287033081054688,
          -23.626188278198242,
          -67.69388580322266,
          -25.29155921936035,
          -7.71707010269165,
          -2.7253811359405518,
          -6.620305061340332,
          -3.7341206073760986,
          -18.2582950592041,
          -3.7341206073760986,
          -25.601402282714844,
          -27.25464630126953,
          -3.7341206073760986,
          -6.223871231079102,
          -18.451976776123047,
          -3.4613842964172363,
          -3.4613842964172363,
          -17.397409439086914,
          -28.94313621520996,
          -24.855310440063477,
          -28.44024085998535,
          -33.00837707519531,
          -31.763446807861328,
          -18.2582950592041,
          -29.036720275878906,
          2.1365585327148438,
          1.845199465751648,
          -2.090365409851074,
          -17.11705207824707,
          -29.036720275878906,
          -31.763446807861328,
          -6.627981185913086,
          -5.898881912231445,
          -1.4009616374969482
         ],
         "y": [
          29.022390365600586,
          26.743154525756836,
          29.776443481445312,
          25.050676345825195,
          28.435779571533203,
          27.948163986206055,
          30.087932586669922,
          25.743972778320312,
          24.85894775390625,
          27.823137283325195,
          30.90998649597168,
          24.355880737304688,
          23.867168426513672,
          26.09583854675293,
          30.04520034790039,
          -0.898615837097168,
          28.0262508392334,
          28.689672470092773,
          23.96697998046875,
          25.607704162597656,
          26.213184356689453,
          27.14366912841797,
          25.520984649658203,
          23.099485397338867,
          27.213098526000977,
          9.47828483581543,
          12.311654090881348,
          47.49696731567383,
          -17.777936935424805,
          55.55580520629883,
          43.593257904052734,
          -17.777936935424805,
          -17.777936935424805,
          -17.777936935424805,
          -17.777936935424805,
          -17.777936935424805,
          38.591495513916016,
          35.55525207519531,
          33.027252197265625,
          71.43901824951172,
          43.593257904052734,
          33.16403579711914,
          0.9004420638084412,
          -1.8151328563690186,
          -0.04558156803250313,
          -0.28935807943344116,
          24.419050216674805,
          21.698204040527344,
          20.764148712158203,
          22.873620986938477,
          26.742263793945312,
          22.580209732055664,
          0.9004420638084412,
          22.45256805419922,
          13.08021068572998,
          0.9004420638084412,
          29.82909393310547,
          3.2544031143188477,
          34.41469955444336,
          20.905773162841797,
          21.81719970703125,
          21.81719970703125,
          5.522984027862549,
          13.08021068572998,
          5.522984027862549,
          29.82909393310547,
          19.755212783813477,
          -1.1929419040679932,
          -0.04558156803250313,
          -8.933717727661133,
          -2.297868251800537,
          0.9004420638084412,
          49.694114685058594,
          -0.28935807943344116,
          5.522984027862549,
          36.07020568847656,
          5.522984027862549,
          5.177463054656982,
          -15.15477180480957,
          5.522984027862549,
          2.0198516845703125,
          10.167070388793945,
          21.81719970703125,
          21.81719970703125,
          12.954619407653809,
          -15.852570533752441,
          0.2698865234851837,
          -17.105022430419922,
          -12.855364799499512,
          -13.238495826721191,
          36.07020568847656,
          -14.301427841186523,
          -8.1741304397583,
          -7.764181613922119,
          47.284854888916016,
          38.31111145019531,
          -14.301427841186523,
          -13.238495826721191,
          -3.7870194911956787,
          47.798824310302734,
          46.327598571777344
         ]
        },
        {
         "hoverinfo": "text",
         "marker": {
          "color": "fuchsia",
          "line": {
           "color": "DarkSlateGrey",
           "width": 1
          },
          "size": 8
         },
         "mode": "markers",
         "name": "Falco",
         "showlegend": true,
         "text": [
          "Falco - Junge Roemer",
          "Falco - Egoist",
          "Falco - Auf der Flucht",
          "Falco - Ganz Wien",
          "Falco - The Sound of Musik",
          "Falco - Zuviel Hitze",
          "Falco - Rock Me Amadeus (Falco Symphonic)",
          "Falco - Der Kommissar (Club 69 Radio Mix)",
          "Falco - Der Kommissar",
          "Falco - Jeanny",
          "Falco - Vienna Calling",
          "Falco - Out of the Dark"
         ],
         "type": "scatter",
         "x": [
          25.111156463623047,
          29.938541412353516,
          27.55903434753418,
          27.266855239868164,
          26.807039260864258,
          28.123416900634766,
          25.67784309387207,
          12.162507057189941,
          26.17237663269043,
          28.123416900634766,
          24.833494186401367,
          28.659317016601562
         ],
         "y": [
          -32.07605743408203,
          -32.83563232421875,
          -33.98795700073242,
          -31.91201400756836,
          -32.973087310791016,
          -32.75811767578125,
          -30.812175750732422,
          -23.155086517333984,
          -34.865928649902344,
          -32.75811767578125,
          -34.027462005615234,
          -34.39130401611328
         ]
        },
        {
         "hoverinfo": "text",
         "marker": {
          "color": "gray",
          "line": {
           "color": "DarkSlateGrey",
           "width": 1
          },
          "size": 8
         },
         "mode": "markers",
         "name": "Red Hot Chili Peppers",
         "showlegend": true,
         "text": [
          "Red Hot Chili Peppers - Under the Bridge",
          "Red Hot Chili Peppers - Scar Tissue",
          "Red Hot Chili Peppers - Californication",
          "Red Hot Chili Peppers - Otherside",
          "Red Hot Chili Peppers - By the Way",
          "Red Hot Chili Peppers - Dani California",
          "Red Hot Chili Peppers - Can't Stop",
          "Red Hot Chili Peppers - The Zephyr Song",
          "Red Hot Chili Peppers - Give It Away",
          "Red Hot Chili Peppers - Snow (Hey Oh)",
          "Red Hot Chili Peppers - Around the World",
          "Red Hot Chili Peppers - Parallel Universe",
          "Red Hot Chili Peppers - Road Trippin'",
          "Red Hot Chili Peppers - The Adventures of Rain Dance Maggie",
          "Red Hot Chili Peppers - Suck My Kiss",
          "Red Hot Chili Peppers - Tell Me Baby",
          "Red Hot Chili Peppers - Universally Speaking",
          "Red Hot Chili Peppers - Hump de Bump",
          "Red Hot Chili Peppers - Feasting on the Flowers",
          "Red Hot Chili Peppers - Me and My Friends",
          "Red Hot Chili Peppers - Higher Ground - Remastered",
          "Red Hot Chili Peppers - Subterranean Homesick Blues",
          "Red Hot Chili Peppers - Organic Anti-Beat Box Band",
          "Red Hot Chili Peppers - Quixoticelixer - 2006 Remaster",
          "Red Hot Chili Peppers - I Get Around - Live",
          "Red Hot Chili Peppers - Melancholy Mechanics",
          "Red Hot Chili Peppers - Mercy Mercy",
          "Red Hot Chili Peppers - True Men Don't Kill Coyotes - 2002 Digital Remaster",
          "Red Hot Chili Peppers - Bicycle Song - 2006 Remaster",
          "Red Hot Chili Peppers - Out in L.A. (Demo Version)",
          "Red Hot Chili Peppers - Taste The Pain - Remastered",
          "Red Hot Chili Peppers - Magpies on Fire",
          "Red Hot Chili Peppers - Brave From Afar",
          "Red Hot Chili Peppers - Lately",
          "Red Hot Chili Peppers - Never Is a Long Time",
          "Red Hot Chili Peppers - Walkin' on Down the Road",
          "Red Hot Chili Peppers - Skinny Sweaty Man",
          "Red Hot Chili Peppers - Long Progression",
          "Red Hot Chili Peppers - Funny Face",
          "Red Hot Chili Peppers - Nevermind",
          "Red Hot Chili Peppers - Love Trilogy",
          "Red Hot Chili Peppers - Breaking the Girl",
          "Red Hot Chili Peppers - Easily",
          "Red Hot Chili Peppers - Dosed",
          "Red Hot Chili Peppers - My Friends",
          "Red Hot Chili Peppers - Higher Ground",
          "Red Hot Chili Peppers - Soul to Squeeze",
          "Red Hot Chili Peppers - Don't Forget Me",
          "Red Hot Chili Peppers - Stadium Arcadium",
          "Red Hot Chili Peppers - Look Around",
          "Red Hot Chili Peppers - Monarchy of Roses",
          "Red Hot Chili Peppers - Charlie",
          "Red Hot Chili Peppers - Dark Necessities",
          "Red Hot Chili Peppers - Did I Let You Know",
          "Red Hot Chili Peppers - Aeroplane",
          "Red Hot Chili Peppers - Get on Top",
          "Red Hot Chili Peppers - Porcelain",
          "Red Hot Chili Peppers - I Could Die for You",
          "Red Hot Chili Peppers - This Velvet Glove",
          "Red Hot Chili Peppers - Factory of Faith",
          "Red Hot Chili Peppers - I Could Have Lied",
          "Red Hot Chili Peppers - Desecration Smile",
          "Red Hot Chili Peppers - Fortune Faded",
          "Red Hot Chili Peppers - Torture Me",
          "Red Hot Chili Peppers - Brendan's Death Song",
          "Red Hot Chili Peppers - Slow Cheetah",
          "Red Hot Chili Peppers - Emit Remmus",
          "Red Hot Chili Peppers - Strip My Mind",
          "Red Hot Chili Peppers - This Is the Place",
          "Red Hot Chili Peppers - Ethiopia",
          "Red Hot Chili Peppers - Hard to Concentrate",
          "Red Hot Chili Peppers - Throw Away Your Television",
          "Red Hot Chili Peppers - Especially in Michigan",
          "Red Hot Chili Peppers - Wet Sand",
          "Red Hot Chili Peppers - Cabron",
          "Red Hot Chili Peppers - 21st Century",
          "Red Hot Chili Peppers - Minor Thing",
          "Red Hot Chili Peppers - She's Only 18",
          "Red Hot Chili Peppers - Annie Wants a Baby",
          "Red Hot Chili Peppers - Right on Time",
          "Red Hot Chili Peppers - Venice Queen",
          "Red Hot Chili Peppers - Blood Sugar Sex Magik",
          "Red Hot Chili Peppers - I Like Dirt",
          "Red Hot Chili Peppers - Police Station",
          "Red Hot Chili Peppers - Hey",
          "Red Hot Chili Peppers - Purple Stain",
          "Red Hot Chili Peppers - Savior",
          "Red Hot Chili Peppers - On Mercury",
          "Red Hot Chili Peppers - She Looks to Me",
          "Red Hot Chili Peppers - Midnight",
          "Red Hot Chili Peppers - Tear",
          "Red Hot Chili Peppers - If You Have to Ask",
          "Red Hot Chili Peppers - Goodbye Hooray",
          "Red Hot Chili Peppers - Meet Me at the Corner",
          "Red Hot Chili Peppers - The Power of Equality",
          "Red Hot Chili Peppers - Dance, Dance, Dance",
          "Red Hot Chili Peppers - Happiness Loves Company",
          "Red Hot Chili Peppers - Warlocks",
          "Red Hot Chili Peppers - Death of a Martian",
          "Red Hot Chili Peppers - Make You Feel Better",
          "Red Hot Chili Peppers - Turn It Again",
          "Red Hot Chili Peppers - Funky Monks",
          "Red Hot Chili Peppers - Readymade",
          "Red Hot Chili Peppers - Naked in the Rain",
          "Red Hot Chili Peppers - Even You Brutus?",
          "Red Hot Chili Peppers - We Believe",
          "Red Hot Chili Peppers - Warm Tape",
          "Red Hot Chili Peppers - Apache Rose Peacock",
          "Red Hot Chili Peppers - The Greeting Song",
          "Red Hot Chili Peppers - Animal Bar",
          "Red Hot Chili Peppers - My Lovely Man",
          "Red Hot Chili Peppers - The Getaway",
          "Red Hot Chili Peppers - C'mon Girl",
          "Red Hot Chili Peppers - Knock Me Down",
          "Red Hot Chili Peppers - Storm in a Teacup",
          "Red Hot Chili Peppers - So Much I",
          "Red Hot Chili Peppers - Sir Psycho Sexy",
          "Red Hot Chili Peppers - Coffee Shop",
          "Red Hot Chili Peppers - Warped",
          "Red Hot Chili Peppers - Mellowship Slinky in B Major",
          "Red Hot Chili Peppers - Walkabout",
          "Red Hot Chili Peppers - Pea",
          "Red Hot Chili Peppers - Save the Population",
          "Red Hot Chili Peppers - The Righteous & The Wicked",
          "Red Hot Chili Peppers - They're Red Hot",
          "Red Hot Chili Peppers - No Chump Love Sucker",
          "Red Hot Chili Peppers - Special Secret Song Inside",
          "Red Hot Chili Peppers - Hometown Gypsy",
          "Red Hot Chili Peppers - Strange Man",
          "Red Hot Chili Peppers - Catch My Death",
          "Red Hot Chili Peppers - Millionaires Against Hunger",
          "Red Hot Chili Peppers - If",
          "Red Hot Chili Peppers - Taste the Pain",
          "Red Hot Chili Peppers - Fire",
          "Red Hot Chili Peppers - Goodbye Angels",
          "Red Hot Chili Peppers - Go Robot",
          "Red Hot Chili Peppers - One Big Mob",
          "Red Hot Chili Peppers - Deep Kick",
          "Red Hot Chili Peppers - Fight Like a Brave",
          "Red Hot Chili Peppers - Falling Into Grace",
          "Red Hot Chili Peppers - One Hot Minute",
          "Red Hot Chili Peppers - Tearjerker",
          "Red Hot Chili Peppers - Transcending",
          "Red Hot Chili Peppers - Backwoods",
          "Red Hot Chili Peppers - Shallow Be Thy Game",
          "Red Hot Chili Peppers - Sexy Mexican Maid",
          "Red Hot Chili Peppers - True Men Don't Kill Coyotes",
          "Red Hot Chili Peppers - We Turn Red",
          "Red Hot Chili Peppers - Sick Love",
          "Red Hot Chili Peppers - If You Want Me to Stay",
          "Red Hot Chili Peppers - The Longest Wave",
          "Red Hot Chili Peppers - Behind the Sun",
          "Red Hot Chili Peppers - Encore",
          "Red Hot Chili Peppers - Catholic School Girls Rule",
          "Red Hot Chili Peppers - The Hunter",
          "Red Hot Chili Peppers - This Ticonderoga",
          "Red Hot Chili Peppers - Dreams of a Samurai",
          "Red Hot Chili Peppers - Johnny, Kick a Hole in the Sky",
          "Red Hot Chili Peppers - Freaky Styley",
          "Red Hot Chili Peppers - Jungle Man",
          "Red Hot Chili Peppers - The Brothers Cup",
          "Red Hot Chili Peppers - Sikamikanico"
         ],
         "type": "scatter",
         "x": [
          -75.93707275390625,
          -112.6995849609375,
          -112.6995849609375,
          -112.6995849609375,
          -112.6995849609375,
          -109.22702026367188,
          -108.23335266113281,
          -111.95988464355469,
          -79.10623931884766,
          -109.22702026367188,
          -111.95988464355469,
          -36.142940521240234,
          -68.43831634521484,
          -39.139068603515625,
          -78.1111831665039,
          -111.95988464355469,
          -39.03790283203125,
          -90.01187896728516,
          -36.154212951660156,
          -80.22479248046875,
          16.012636184692383,
          -72.90337371826172,
          -85.7807388305664,
          -51.202354431152344,
          -54.38636016845703,
          -76.43848419189453,
          -22.82200813293457,
          -51.202354431152344,
          -51.202354431152344,
          -58.29322814941406,
          -51.202354431152344,
          -31.01625633239746,
          -53.066131591796875,
          -26.952102661132812,
          -38.87887191772461,
          -80.22479248046875,
          -85.7807388305664,
          -109.31145477294922,
          -28.290742874145508,
          -90.04885864257812,
          -85.7807388305664,
          -75.93707275390625,
          -37.198848724365234,
          -111.95988464355469,
          -74.71488952636719,
          -72.90337371826172,
          -112.6995849609375,
          -112.6995849609375,
          -111.95988464355469,
          -35.345550537109375,
          -37.91345977783203,
          -78.1111831665039,
          -34.498050689697266,
          -36.06485366821289,
          -85.85407257080078,
          -87.89151763916016,
          -39.377742767333984,
          -40.835140228271484,
          -84.75198364257812,
          -39.765663146972656,
          -37.38497543334961,
          -112.6995849609375,
          -85.26703643798828,
          -111.95988464355469,
          -39.75271224975586,
          -111.95988464355469,
          -39.06258773803711,
          -112.6995849609375,
          -111.95988464355469,
          -87.89151763916016,
          -111.95988464355469,
          -115.56219482421875,
          -107.6287612915039,
          -111.95988464355469,
          -111.95988464355469,
          -42.75944900512695,
          -87.85931396484375,
          -111.95988464355469,
          -87.85931396484375,
          -87.65583038330078,
          -40.84075927734375,
          -87.85931396484375,
          -89.46774291992188,
          -38.05619430541992,
          -42.78354263305664,
          -83.68700408935547,
          -43.784080505371094,
          -87.85931396484375,
          -41.30152130126953,
          -111.95988464355469,
          -42.73476028442383,
          -87.85931396484375,
          -19.518497467041016,
          -44.532958984375,
          -80.22479248046875,
          -41.18801498413086,
          -90.04885864257812,
          -85.26703643798828,
          -111.95988464355469,
          -41.10850143432617,
          -85.55044555664062,
          -80.22479248046875,
          -41.109249114990234,
          -90.7575912475586,
          -83.33139038085938,
          -111.95988464355469,
          -37.1741828918457,
          -80.22479248046875,
          -82.48377227783203,
          -41.96718215942383,
          -85.81438446044922,
          -33.60285949707031,
          -111.95988464355469,
          -90.63591003417969,
          -87.85931396484375,
          -111.95988464355469,
          -80.22479248046875,
          -111.95988464355469,
          -82.20759582519531,
          -80.22479248046875,
          -80.22479248046875,
          -25.073213577270508,
          -43.07488250732422,
          -87.85931396484375,
          -73.20143127441406,
          -77.07899475097656,
          -77.13528442382812,
          -87.85931396484375,
          -87.85931396484375,
          -21.054113388061523,
          -90.10919189453125,
          -44.72246170043945,
          -80.22479248046875,
          -54.5972900390625,
          -34.31967544555664,
          -36.154212951660156,
          -93.51962280273438,
          -85.7807388305664,
          -80.22479248046875,
          -91.37451934814453,
          -111.95988464355469,
          -75.93707275390625,
          -111.95988464355469,
          -87.85931396484375,
          -88.58198547363281,
          -85.7807388305664,
          -80.22479248046875,
          -35.26969909667969,
          -35.26969909667969,
          -80.22479248046875,
          -36.154212951660156,
          -80.22479248046875,
          -35.26969909667969,
          -87.85931396484375,
          -35.26969909667969,
          -36.154212951660156,
          -35.26969909667969,
          -85.7807388305664,
          -90.04885864257812,
          -87.85931396484375,
          -87.85931396484375,
          -121.68367767333984
         ],
         "y": [
          -60.233680725097656,
          -15.300836563110352,
          -15.300836563110352,
          -15.300836563110352,
          -15.300836563110352,
          -16.167078018188477,
          -18.643720626831055,
          -19.13418197631836,
          18.39441680908203,
          -16.167078018188477,
          -19.13418197631836,
          5.184981346130371,
          -7.9156999588012695,
          7.809671401977539,
          16.88283920288086,
          -19.13418197631836,
          -1.4774045944213867,
          15.254915237426758,
          28.081695556640625,
          40.58003616333008,
          -13.616598129272461,
          35.445552825927734,
          47.055850982666016,
          10.658164024353027,
          27.25257110595703,
          16.460643768310547,
          2.4508063793182373,
          10.658164024353027,
          10.658164024353027,
          -95.43729400634766,
          10.658164024353027,
          19.440736770629883,
          9.431496620178223,
          4.014461517333984,
          3.1362104415893555,
          40.58003616333008,
          47.055850982666016,
          -54.705867767333984,
          4.669302940368652,
          43.693355560302734,
          47.055850982666016,
          -60.233680725097656,
          3.2904391288757324,
          -19.13418197631836,
          -59.80172348022461,
          35.445552825927734,
          -15.300836563110352,
          -15.300836563110352,
          -19.13418197631836,
          3.261047601699829,
          1.666571021080017,
          16.88283920288086,
          25.401668548583984,
          1.3265589475631714,
          16.081636428833008,
          15.220708847045898,
          5.9729533195495605,
          0.44710394740104675,
          11.689918518066406,
          4.355078220367432,
          6.72899866104126,
          -15.300836563110352,
          13.995393753051758,
          -19.13418197631836,
          1.81739342212677,
          -19.13418197631836,
          0.34051448106765747,
          -15.300836563110352,
          -19.13418197631836,
          15.220708847045898,
          -19.13418197631836,
          -17.75240135192871,
          -22.361242294311523,
          -19.13418197631836,
          -19.13418197631836,
          -0.3006095290184021,
          11.86207103729248,
          -19.13418197631836,
          11.86207103729248,
          8.54274845123291,
          2.7893950939178467,
          11.86207103729248,
          8.621013641357422,
          4.8175740242004395,
          3.130640745162964,
          10.125225067138672,
          1.3434112071990967,
          11.86207103729248,
          4.181834697723389,
          -19.13418197631836,
          4.901744842529297,
          11.86207103729248,
          21.11060333251953,
          5.0380659103393555,
          40.58003616333008,
          7.699338912963867,
          43.693355560302734,
          13.995393753051758,
          -19.13418197631836,
          -1.4251633882522583,
          9.822088241577148,
          40.58003616333008,
          5.861312389373779,
          9.99195384979248,
          12.839184761047363,
          -19.13418197631836,
          -0.3432638347148895,
          40.58003616333008,
          34.691158294677734,
          1.6285685300827026,
          8.090509414672852,
          29.014406204223633,
          -19.13418197631836,
          13.51561164855957,
          11.86207103729248,
          -19.13418197631836,
          40.58003616333008,
          -19.13418197631836,
          34.70912551879883,
          40.58003616333008,
          40.58003616333008,
          1.8687537908554077,
          6.8101606369018555,
          11.86207103729248,
          34.686668395996094,
          42.40580749511719,
          70.36164855957031,
          11.86207103729248,
          11.86207103729248,
          3.2330503463745117,
          41.81741714477539,
          3.0190255641937256,
          40.58003616333008,
          27.027647018432617,
          27.82880401611328,
          28.081695556640625,
          14.514641761779785,
          47.055850982666016,
          40.58003616333008,
          11.769843101501465,
          -19.13418197631836,
          -60.233680725097656,
          -19.13418197631836,
          11.86207103729248,
          47.42061996459961,
          47.055850982666016,
          40.58003616333008,
          29.898386001586914,
          29.898386001586914,
          40.58003616333008,
          28.081695556640625,
          40.58003616333008,
          29.898386001586914,
          11.86207103729248,
          29.898386001586914,
          28.081695556640625,
          29.898386001586914,
          47.055850982666016,
          43.693355560302734,
          11.86207103729248,
          11.86207103729248,
          23.36670684814453
         ]
        },
        {
         "hoverinfo": "text",
         "marker": {
          "color": "teal",
          "line": {
           "color": "DarkSlateGrey",
           "width": 1
          },
          "size": 8
         },
         "mode": "markers",
         "name": "Martin Garrix",
         "showlegend": true,
         "text": [
          "Martin Garrix - Wizard",
          "Martin Garrix - Don't Look Down (feat. Usher)",
          "Martin Garrix - Pressure (feat. Tove Lo)",
          "Martin Garrix - No Sleep (feat. Bonn)",
          "Martin Garrix - In The Name Of Love - The Him Remix",
          "Martin Garrix - The Only Way Is Up",
          "Martin Garrix - Drown (feat. Clinton Kane)",
          "Martin Garrix - We Are The People (feat. Bono & The Edge) - Official UEFA EURO 2020 Song",
          "Martin Garrix - Animals",
          "Martin Garrix - Scared to Be Lonely",
          "Martin Garrix - In the Name of Love",
          "Martin Garrix - There for You",
          "Martin Garrix - Higher Ground (feat. John Martin)",
          "Martin Garrix - Summer Days (feat. Macklemore & Patrick Stump of Fall Out Boy)",
          "Martin Garrix - Ocean (feat. Khalid)",
          "Martin Garrix - High On Life (feat. Bonn)"
         ],
         "type": "scatter",
         "x": [
          -6.47812557220459,
          -9.216631889343262,
          -8.440614700317383,
          -14.232954025268555,
          -11.641860008239746,
          13.62158489227295,
          -10.971887588500977,
          4.250091552734375,
          -10.066153526306152,
          -6.073881149291992,
          5.1215057373046875,
          -6.965198993682861,
          -14.232954025268555,
          -10.298421859741211,
          -2.396446466445923,
          15.750640869140625
         ],
         "y": [
          -13.634178161621094,
          -14.589314460754395,
          -13.6074800491333,
          -15.76534652709961,
          -12.784173011779785,
          -13.826918601989746,
          -14.453038215637207,
          -17.66679573059082,
          -14.20841121673584,
          -14.327289581298828,
          -19.698158264160156,
          -19.138839721679688,
          -15.76534652709961,
          -15.757253646850586,
          -23.50245475769043,
          -15.440495491027832
         ]
        }
       ],
       "layout": {
        "height": 800,
        "hovermode": "closest",
        "legend": {
         "title": {
          "text": "Artists"
         }
        },
        "template": {
         "data": {
          "bar": [
           {
            "error_x": {
             "color": "#2a3f5f"
            },
            "error_y": {
             "color": "#2a3f5f"
            },
            "marker": {
             "line": {
              "color": "white",
              "width": 0.5
             },
             "pattern": {
              "fillmode": "overlay",
              "size": 10,
              "solidity": 0.2
             }
            },
            "type": "bar"
           }
          ],
          "barpolar": [
           {
            "marker": {
             "line": {
              "color": "white",
              "width": 0.5
             },
             "pattern": {
              "fillmode": "overlay",
              "size": 10,
              "solidity": 0.2
             }
            },
            "type": "barpolar"
           }
          ],
          "carpet": [
           {
            "aaxis": {
             "endlinecolor": "#2a3f5f",
             "gridcolor": "#C8D4E3",
             "linecolor": "#C8D4E3",
             "minorgridcolor": "#C8D4E3",
             "startlinecolor": "#2a3f5f"
            },
            "baxis": {
             "endlinecolor": "#2a3f5f",
             "gridcolor": "#C8D4E3",
             "linecolor": "#C8D4E3",
             "minorgridcolor": "#C8D4E3",
             "startlinecolor": "#2a3f5f"
            },
            "type": "carpet"
           }
          ],
          "choropleth": [
           {
            "colorbar": {
             "outlinewidth": 0,
             "ticks": ""
            },
            "type": "choropleth"
           }
          ],
          "contour": [
           {
            "colorbar": {
             "outlinewidth": 0,
             "ticks": ""
            },
            "colorscale": [
             [
              0,
              "#0d0887"
             ],
             [
              0.1111111111111111,
              "#46039f"
             ],
             [
              0.2222222222222222,
              "#7201a8"
             ],
             [
              0.3333333333333333,
              "#9c179e"
             ],
             [
              0.4444444444444444,
              "#bd3786"
             ],
             [
              0.5555555555555556,
              "#d8576b"
             ],
             [
              0.6666666666666666,
              "#ed7953"
             ],
             [
              0.7777777777777778,
              "#fb9f3a"
             ],
             [
              0.8888888888888888,
              "#fdca26"
             ],
             [
              1,
              "#f0f921"
             ]
            ],
            "type": "contour"
           }
          ],
          "contourcarpet": [
           {
            "colorbar": {
             "outlinewidth": 0,
             "ticks": ""
            },
            "type": "contourcarpet"
           }
          ],
          "heatmap": [
           {
            "colorbar": {
             "outlinewidth": 0,
             "ticks": ""
            },
            "colorscale": [
             [
              0,
              "#0d0887"
             ],
             [
              0.1111111111111111,
              "#46039f"
             ],
             [
              0.2222222222222222,
              "#7201a8"
             ],
             [
              0.3333333333333333,
              "#9c179e"
             ],
             [
              0.4444444444444444,
              "#bd3786"
             ],
             [
              0.5555555555555556,
              "#d8576b"
             ],
             [
              0.6666666666666666,
              "#ed7953"
             ],
             [
              0.7777777777777778,
              "#fb9f3a"
             ],
             [
              0.8888888888888888,
              "#fdca26"
             ],
             [
              1,
              "#f0f921"
             ]
            ],
            "type": "heatmap"
           }
          ],
          "heatmapgl": [
           {
            "colorbar": {
             "outlinewidth": 0,
             "ticks": ""
            },
            "colorscale": [
             [
              0,
              "#0d0887"
             ],
             [
              0.1111111111111111,
              "#46039f"
             ],
             [
              0.2222222222222222,
              "#7201a8"
             ],
             [
              0.3333333333333333,
              "#9c179e"
             ],
             [
              0.4444444444444444,
              "#bd3786"
             ],
             [
              0.5555555555555556,
              "#d8576b"
             ],
             [
              0.6666666666666666,
              "#ed7953"
             ],
             [
              0.7777777777777778,
              "#fb9f3a"
             ],
             [
              0.8888888888888888,
              "#fdca26"
             ],
             [
              1,
              "#f0f921"
             ]
            ],
            "type": "heatmapgl"
           }
          ],
          "histogram": [
           {
            "marker": {
             "pattern": {
              "fillmode": "overlay",
              "size": 10,
              "solidity": 0.2
             }
            },
            "type": "histogram"
           }
          ],
          "histogram2d": [
           {
            "colorbar": {
             "outlinewidth": 0,
             "ticks": ""
            },
            "colorscale": [
             [
              0,
              "#0d0887"
             ],
             [
              0.1111111111111111,
              "#46039f"
             ],
             [
              0.2222222222222222,
              "#7201a8"
             ],
             [
              0.3333333333333333,
              "#9c179e"
             ],
             [
              0.4444444444444444,
              "#bd3786"
             ],
             [
              0.5555555555555556,
              "#d8576b"
             ],
             [
              0.6666666666666666,
              "#ed7953"
             ],
             [
              0.7777777777777778,
              "#fb9f3a"
             ],
             [
              0.8888888888888888,
              "#fdca26"
             ],
             [
              1,
              "#f0f921"
             ]
            ],
            "type": "histogram2d"
           }
          ],
          "histogram2dcontour": [
           {
            "colorbar": {
             "outlinewidth": 0,
             "ticks": ""
            },
            "colorscale": [
             [
              0,
              "#0d0887"
             ],
             [
              0.1111111111111111,
              "#46039f"
             ],
             [
              0.2222222222222222,
              "#7201a8"
             ],
             [
              0.3333333333333333,
              "#9c179e"
             ],
             [
              0.4444444444444444,
              "#bd3786"
             ],
             [
              0.5555555555555556,
              "#d8576b"
             ],
             [
              0.6666666666666666,
              "#ed7953"
             ],
             [
              0.7777777777777778,
              "#fb9f3a"
             ],
             [
              0.8888888888888888,
              "#fdca26"
             ],
             [
              1,
              "#f0f921"
             ]
            ],
            "type": "histogram2dcontour"
           }
          ],
          "mesh3d": [
           {
            "colorbar": {
             "outlinewidth": 0,
             "ticks": ""
            },
            "type": "mesh3d"
           }
          ],
          "parcoords": [
           {
            "line": {
             "colorbar": {
              "outlinewidth": 0,
              "ticks": ""
             }
            },
            "type": "parcoords"
           }
          ],
          "pie": [
           {
            "automargin": true,
            "type": "pie"
           }
          ],
          "scatter": [
           {
            "fillpattern": {
             "fillmode": "overlay",
             "size": 10,
             "solidity": 0.2
            },
            "type": "scatter"
           }
          ],
          "scatter3d": [
           {
            "line": {
             "colorbar": {
              "outlinewidth": 0,
              "ticks": ""
             }
            },
            "marker": {
             "colorbar": {
              "outlinewidth": 0,
              "ticks": ""
             }
            },
            "type": "scatter3d"
           }
          ],
          "scattercarpet": [
           {
            "marker": {
             "colorbar": {
              "outlinewidth": 0,
              "ticks": ""
             }
            },
            "type": "scattercarpet"
           }
          ],
          "scattergeo": [
           {
            "marker": {
             "colorbar": {
              "outlinewidth": 0,
              "ticks": ""
             }
            },
            "type": "scattergeo"
           }
          ],
          "scattergl": [
           {
            "marker": {
             "colorbar": {
              "outlinewidth": 0,
              "ticks": ""
             }
            },
            "type": "scattergl"
           }
          ],
          "scattermapbox": [
           {
            "marker": {
             "colorbar": {
              "outlinewidth": 0,
              "ticks": ""
             }
            },
            "type": "scattermapbox"
           }
          ],
          "scatterpolar": [
           {
            "marker": {
             "colorbar": {
              "outlinewidth": 0,
              "ticks": ""
             }
            },
            "type": "scatterpolar"
           }
          ],
          "scatterpolargl": [
           {
            "marker": {
             "colorbar": {
              "outlinewidth": 0,
              "ticks": ""
             }
            },
            "type": "scatterpolargl"
           }
          ],
          "scatterternary": [
           {
            "marker": {
             "colorbar": {
              "outlinewidth": 0,
              "ticks": ""
             }
            },
            "type": "scatterternary"
           }
          ],
          "surface": [
           {
            "colorbar": {
             "outlinewidth": 0,
             "ticks": ""
            },
            "colorscale": [
             [
              0,
              "#0d0887"
             ],
             [
              0.1111111111111111,
              "#46039f"
             ],
             [
              0.2222222222222222,
              "#7201a8"
             ],
             [
              0.3333333333333333,
              "#9c179e"
             ],
             [
              0.4444444444444444,
              "#bd3786"
             ],
             [
              0.5555555555555556,
              "#d8576b"
             ],
             [
              0.6666666666666666,
              "#ed7953"
             ],
             [
              0.7777777777777778,
              "#fb9f3a"
             ],
             [
              0.8888888888888888,
              "#fdca26"
             ],
             [
              1,
              "#f0f921"
             ]
            ],
            "type": "surface"
           }
          ],
          "table": [
           {
            "cells": {
             "fill": {
              "color": "#EBF0F8"
             },
             "line": {
              "color": "white"
             }
            },
            "header": {
             "fill": {
              "color": "#C8D4E3"
             },
             "line": {
              "color": "white"
             }
            },
            "type": "table"
           }
          ]
         },
         "layout": {
          "annotationdefaults": {
           "arrowcolor": "#2a3f5f",
           "arrowhead": 0,
           "arrowwidth": 1
          },
          "autotypenumbers": "strict",
          "coloraxis": {
           "colorbar": {
            "outlinewidth": 0,
            "ticks": ""
           }
          },
          "colorscale": {
           "diverging": [
            [
             0,
             "#8e0152"
            ],
            [
             0.1,
             "#c51b7d"
            ],
            [
             0.2,
             "#de77ae"
            ],
            [
             0.3,
             "#f1b6da"
            ],
            [
             0.4,
             "#fde0ef"
            ],
            [
             0.5,
             "#f7f7f7"
            ],
            [
             0.6,
             "#e6f5d0"
            ],
            [
             0.7,
             "#b8e186"
            ],
            [
             0.8,
             "#7fbc41"
            ],
            [
             0.9,
             "#4d9221"
            ],
            [
             1,
             "#276419"
            ]
           ],
           "sequential": [
            [
             0,
             "#0d0887"
            ],
            [
             0.1111111111111111,
             "#46039f"
            ],
            [
             0.2222222222222222,
             "#7201a8"
            ],
            [
             0.3333333333333333,
             "#9c179e"
            ],
            [
             0.4444444444444444,
             "#bd3786"
            ],
            [
             0.5555555555555556,
             "#d8576b"
            ],
            [
             0.6666666666666666,
             "#ed7953"
            ],
            [
             0.7777777777777778,
             "#fb9f3a"
            ],
            [
             0.8888888888888888,
             "#fdca26"
            ],
            [
             1,
             "#f0f921"
            ]
           ],
           "sequentialminus": [
            [
             0,
             "#0d0887"
            ],
            [
             0.1111111111111111,
             "#46039f"
            ],
            [
             0.2222222222222222,
             "#7201a8"
            ],
            [
             0.3333333333333333,
             "#9c179e"
            ],
            [
             0.4444444444444444,
             "#bd3786"
            ],
            [
             0.5555555555555556,
             "#d8576b"
            ],
            [
             0.6666666666666666,
             "#ed7953"
            ],
            [
             0.7777777777777778,
             "#fb9f3a"
            ],
            [
             0.8888888888888888,
             "#fdca26"
            ],
            [
             1,
             "#f0f921"
            ]
           ]
          },
          "colorway": [
           "#636efa",
           "#EF553B",
           "#00cc96",
           "#ab63fa",
           "#FFA15A",
           "#19d3f3",
           "#FF6692",
           "#B6E880",
           "#FF97FF",
           "#FECB52"
          ],
          "font": {
           "color": "#2a3f5f"
          },
          "geo": {
           "bgcolor": "white",
           "lakecolor": "white",
           "landcolor": "white",
           "showlakes": true,
           "showland": true,
           "subunitcolor": "#C8D4E3"
          },
          "hoverlabel": {
           "align": "left"
          },
          "hovermode": "closest",
          "mapbox": {
           "style": "light"
          },
          "paper_bgcolor": "white",
          "plot_bgcolor": "white",
          "polar": {
           "angularaxis": {
            "gridcolor": "#EBF0F8",
            "linecolor": "#EBF0F8",
            "ticks": ""
           },
           "bgcolor": "white",
           "radialaxis": {
            "gridcolor": "#EBF0F8",
            "linecolor": "#EBF0F8",
            "ticks": ""
           }
          },
          "scene": {
           "xaxis": {
            "backgroundcolor": "white",
            "gridcolor": "#DFE8F3",
            "gridwidth": 2,
            "linecolor": "#EBF0F8",
            "showbackground": true,
            "ticks": "",
            "zerolinecolor": "#EBF0F8"
           },
           "yaxis": {
            "backgroundcolor": "white",
            "gridcolor": "#DFE8F3",
            "gridwidth": 2,
            "linecolor": "#EBF0F8",
            "showbackground": true,
            "ticks": "",
            "zerolinecolor": "#EBF0F8"
           },
           "zaxis": {
            "backgroundcolor": "white",
            "gridcolor": "#DFE8F3",
            "gridwidth": 2,
            "linecolor": "#EBF0F8",
            "showbackground": true,
            "ticks": "",
            "zerolinecolor": "#EBF0F8"
           }
          },
          "shapedefaults": {
           "line": {
            "color": "#2a3f5f"
           }
          },
          "ternary": {
           "aaxis": {
            "gridcolor": "#DFE8F3",
            "linecolor": "#A2B1C6",
            "ticks": ""
           },
           "baxis": {
            "gridcolor": "#DFE8F3",
            "linecolor": "#A2B1C6",
            "ticks": ""
           },
           "bgcolor": "white",
           "caxis": {
            "gridcolor": "#DFE8F3",
            "linecolor": "#A2B1C6",
            "ticks": ""
           }
          },
          "title": {
           "x": 0.05
          },
          "xaxis": {
           "automargin": true,
           "gridcolor": "#EBF0F8",
           "linecolor": "#EBF0F8",
           "ticks": "",
           "title": {
            "standoff": 15
           },
           "zerolinecolor": "#EBF0F8",
           "zerolinewidth": 2
          },
          "yaxis": {
           "automargin": true,
           "gridcolor": "#EBF0F8",
           "linecolor": "#EBF0F8",
           "ticks": "",
           "title": {
            "standoff": 15
           },
           "zerolinecolor": "#EBF0F8",
           "zerolinewidth": 2
          }
         }
        },
        "title": {
         "text": "t-SNE Visualization of Songs and Genres"
        },
        "updatemenus": [
         {
          "buttons": [
           {
            "args": [
             {
              "visible": [
               true,
               true,
               true,
               true,
               true,
               true,
               true,
               true,
               true,
               true,
               true,
               true,
               true,
               true,
               true,
               true,
               true,
               true,
               true,
               true,
               true,
               true,
               true
              ]
             }
            ],
            "label": "Show All",
            "method": "update"
           },
           {
            "args": [
             {
              "visible": [
               true,
               true,
               true,
               true,
               true,
               true,
               true,
               true,
               true,
               true,
               true,
               true,
               false,
               false,
               false,
               false,
               false,
               false,
               false,
               false,
               false,
               false,
               false
              ]
             }
            ],
            "label": "Hide All Artists",
            "method": "update"
           }
          ],
          "direction": "left",
          "pad": {
           "r": 10,
           "t": 10
          },
          "showactive": true,
          "type": "buttons",
          "x": 0.11,
          "xanchor": "left",
          "y": 1.1,
          "yanchor": "top"
         }
        ],
        "width": 1000,
        "xaxis": {
         "anchor": "y",
         "domain": [
          0,
          1
         ],
         "title": {
          "text": "t-SNE Dimension 1"
         }
        },
        "yaxis": {
         "anchor": "x",
         "domain": [
          0,
          1
         ],
         "title": {
          "text": "t-SNE Dimension 2"
         }
        }
       }
      }
     },
     "metadata": {},
     "output_type": "display_data"
    }
   ],
   "source": [
    "import plotly.graph_objects as go\n",
    "from plotly.subplots import make_subplots\n",
    "import colorsys\n",
    "\n",
    "# Function to generate distinct colors\n",
    "def generate_distinct_colors(n):\n",
    "    HSV_tuples = [(x * 1.0 / n, 0.5, 0.5) for x in range(n)]\n",
    "    RGB_tuples = [colorsys.hsv_to_rgb(*x) for x in HSV_tuples]\n",
    "    return ['rgb({},{},{})'.format(int(r*255), int(g*255), int(b*255)) for r, g, b in RGB_tuples]\n",
    "\n",
    "# Assuming genre_embeddings_2d, song_embeddings_2d, genres, artist_colors, selected_songs, selected_artists, and song_name_id_dict are already defined\n",
    "\n",
    "# Create figure\n",
    "fig = make_subplots(rows=1, cols=1)\n",
    "\n",
    "# Generate colors for genres\n",
    "genre_colors = generate_distinct_colors(len(genres))\n",
    "\n",
    "# Genre bubbles\n",
    "for i, genre in enumerate(genres):\n",
    "    fig.add_trace(go.Scatter(\n",
    "        x=[genre_embeddings_2d[i][0]],\n",
    "        y=[genre_embeddings_2d[i][1]],\n",
    "        mode='markers+text',\n",
    "        marker=dict(\n",
    "            size=100,\n",
    "            color=genre_colors[i],\n",
    "            opacity=0.3,\n",
    "            line=dict(width=2, color=genre_colors[i])\n",
    "        ),\n",
    "        text=genre,\n",
    "        textposition=\"middle center\",\n",
    "        name=genre,\n",
    "        hoverinfo='text',\n",
    "        showlegend=False\n",
    "    ))\n",
    "\n",
    "# Songs by artist\n",
    "for artist in set(selected_artists.values()):\n",
    "    artist_songs = [song_id for song_id, art in selected_artists.items() if art == artist]\n",
    "    x = [song_embeddings_2d[selected_songs.index(song_id)][0] for song_id in artist_songs]\n",
    "    y = [song_embeddings_2d[selected_songs.index(song_id)][1] for song_id in artist_songs]\n",
    "    text = [f\"{artist} - {song_name_id_dict.get(song_id, 'Unknown')}\" for song_id in artist_songs]\n",
    "    \n",
    "    fig.add_trace(go.Scatter(\n",
    "        x=x,\n",
    "        y=y,\n",
    "        mode='markers',\n",
    "        marker=dict(\n",
    "            size=8,\n",
    "            color=artist_colors.get(artist, 'gray'),\n",
    "            line=dict(width=1, color='DarkSlateGrey')\n",
    "        ),\n",
    "        text=text,\n",
    "        name=artist,\n",
    "        hoverinfo='text',\n",
    "        showlegend=True\n",
    "    ))\n",
    "\n",
    "# Update layout\n",
    "fig.update_layout(\n",
    "    title=\"t-SNE Visualization of Songs and Genres\",\n",
    "    xaxis_title=\"t-SNE Dimension 1\",\n",
    "    yaxis_title=\"t-SNE Dimension 2\",\n",
    "    legend_title=\"Artists\",\n",
    "    hovermode='closest',\n",
    "    updatemenus=[\n",
    "        dict(\n",
    "            type=\"buttons\",\n",
    "            direction=\"left\",\n",
    "            buttons=list([\n",
    "                dict(\n",
    "                    args=[{\"visible\": [True] * len(fig.data)}],\n",
    "                    label=\"Show All\",\n",
    "                    method=\"update\"\n",
    "                ),\n",
    "                dict(\n",
    "                    args=[{\"visible\": [True] * len(genres) + [False] * (len(fig.data) - len(genres))}],\n",
    "                    label=\"Hide All Artists\",\n",
    "                    method=\"update\"\n",
    "                )\n",
    "            ]),\n",
    "            pad={\"r\": 10, \"t\": 10},\n",
    "            showactive=True,\n",
    "            x=0.11,\n",
    "            xanchor=\"left\",\n",
    "            y=1.1,\n",
    "            yanchor=\"top\"\n",
    "        ),\n",
    "    ],\n",
    "    width=1000,\n",
    "    height=800,\n",
    "    template=\"plotly_white\"\n",
    ")\n",
    "\n",
    "# Show the plot\n",
    "fig.show()"
   ]
  }
 ],
 "metadata": {
  "kernelspec": {
   "display_name": "Python 3 (ipykernel)",
   "language": "python",
   "name": "python3"
  },
  "language_info": {
   "codemirror_mode": {
    "name": "ipython",
    "version": 3
   },
   "file_extension": ".py",
   "mimetype": "text/x-python",
   "name": "python",
   "nbconvert_exporter": "python",
   "pygments_lexer": "ipython3",
   "version": "3.12.2"
  }
 },
 "nbformat": 4,
 "nbformat_minor": 5
}
