{
 "cells": [
  {
   "cell_type": "markdown",
   "id": "2e08eced-b2a0-4b27-bd21-43ca585a0977",
   "metadata": {},
   "source": [
    "# Package Imports"
   ]
  },
  {
   "cell_type": "code",
   "execution_count": 1,
   "id": "5b61ecba-12a0-4cc3-a067-8a451c829efc",
   "metadata": {},
   "outputs": [
    {
     "name": "stderr",
     "output_type": "stream",
     "text": [
      "c:\\Users\\Timo\\.pyenv\\pyenv-win\\versions\\3.12.2\\Lib\\site-packages\\tqdm\\auto.py:21: TqdmWarning: IProgress not found. Please update jupyter and ipywidgets. See https://ipywidgets.readthedocs.io/en/stable/user_install.html\n",
      "  from .autonotebook import tqdm as notebook_tqdm\n"
     ]
    }
   ],
   "source": [
    "#from pymongo import MongoClient\n",
    "from collections import defaultdict, Counter\n",
    "from tqdm.auto import tqdm\n",
    "import networkx as nx\n",
    "import random\n",
    "import math\n",
    "import pickle\n",
    "import torch\n",
    "import pandas as pd\n",
    "import torch_geometric\n",
    "from torch_geometric.data import HeteroData\n",
    "import torch_geometric.transforms as T\n",
    "from torch_geometric.utils.convert import to_networkx, from_networkx\n",
    "from torch_geometric.utils import to_undirected, is_undirected\n",
    "import numpy as np\n",
    "from networkx import to_dict_of_dicts\n",
    "from torch_geometric.loader import NeighborLoader\n",
    "import matplotlib.pyplot as plt\n"
   ]
  },
  {
   "cell_type": "code",
   "execution_count": 2,
   "id": "7127281d-ba87-4c42-9248-df7e8c53cf5f",
   "metadata": {},
   "outputs": [
    {
     "name": "stdout",
     "output_type": "stream",
     "text": [
      "2.2.2+cu118\n",
      "2.5.3\n"
     ]
    }
   ],
   "source": [
    "print(torch.__version__)\n",
    "print(torch_geometric.__version__)"
   ]
  },
  {
   "cell_type": "markdown",
   "id": "f4ff93f3-5aa3-4a04-b560-c4158b0f7f2c",
   "metadata": {},
   "source": [
    "# Load Data"
   ]
  },
  {
   "cell_type": "markdown",
   "id": "2fa3cfd0-487d-4110-9241-d48d33edd8d1",
   "metadata": {},
   "source": [
    "## Load User Track Graph"
   ]
  },
  {
   "cell_type": "code",
   "execution_count": 3,
   "id": "17ca352d-7529-435c-b4df-f126261cc675",
   "metadata": {},
   "outputs": [],
   "source": [
    "import pickle\n",
    "\n",
    "# First, extract the contents of dataset.rar to a folder\n",
    "\n",
    "# Then, load the data from the dataset.pickle file\n",
    "with open('data/MRecury_data/dataset.pickle', 'rb') as f:\n",
    "    dataset = pickle.load(f)\n",
    "\n",
    "# access the different parts of the dataset:\n",
    "full_graph = dataset['full']\n",
    "train_graph = dataset['train']\n",
    "test_graph = dataset['test']\n",
    "users_mapping = dataset['users']\n",
    "#artist_tracks_mapping = dataset['artist-tracks']\n",
    "# Load New Mapping: \n",
    "artist_tracks_mapping = pd.read_csv('data/new_artist_tracks_mapping_df.csv')\n",
    "\n",
    "\n",
    "# Accessing nodes and edges of the graphs:\n",
    "# For example, to access nodes and edges of the full graph:\n",
    "full_nodes = full_graph.nodes()\n",
    "full_edges = full_graph.edges()\n",
    "\n",
    "train_nodes = train_graph.nodes()\n",
    "train_edges = train_graph.edges()\n",
    "\n"
   ]
  },
  {
   "cell_type": "code",
   "execution_count": 4,
   "id": "e2a4c6af",
   "metadata": {},
   "outputs": [
    {
     "name": "stderr",
     "output_type": "stream",
     "text": [
      "100%|██████████| 3307/3307 [00:01<00:00, 2226.33it/s]\n",
      "100%|██████████| 3307/3307 [00:01<00:00, 2755.49it/s]\n",
      "100%|██████████| 3307/3307 [00:00<00:00, 18159.01it/s]\n"
     ]
    }
   ],
   "source": [
    "def create_dataframe_from_graph(graph):\n",
    "    # Initialize lists to store extracted information\n",
    "    user_ids = []\n",
    "    song_ids = []\n",
    "    scrobbles = []\n",
    "    positions = []\n",
    "    dates = []\n",
    "\n",
    "    # Iterate over users\n",
    "    for user_id in tqdm(range(3307)):\n",
    "        if user_id in graph:\n",
    "            # Iterate over the songs\n",
    "            for song_id, songs_info in graph[user_id].items():\n",
    "                user_ids.append(user_id)\n",
    "                song_ids.append(song_id)\n",
    "                scrobbles.append(songs_info['scrobbles'])\n",
    "                positions.append(songs_info['pos'])\n",
    "                dates.append(songs_info['date'])\n",
    "                \n",
    "    # Create a DataFrame from the lists\n",
    "    graph_df = pd.DataFrame({\n",
    "        'User_ID': user_ids,\n",
    "        'Song_ID': song_ids,\n",
    "        'Scrobbles': scrobbles,\n",
    "        'Position': positions,\n",
    "        'Date': dates\n",
    "    })\n",
    "    \n",
    "    return graph_df\n",
    "\n",
    "full_graph_df = create_dataframe_from_graph(full_graph)\n",
    "train_graph_df = create_dataframe_from_graph(train_graph)\n",
    "test_graph_df = create_dataframe_from_graph(test_graph)"
   ]
  },
  {
   "cell_type": "code",
   "execution_count": 5,
   "id": "f303301c",
   "metadata": {},
   "outputs": [
    {
     "data": {
      "text/html": [
       "<div>\n",
       "<style scoped>\n",
       "    .dataframe tbody tr th:only-of-type {\n",
       "        vertical-align: middle;\n",
       "    }\n",
       "\n",
       "    .dataframe tbody tr th {\n",
       "        vertical-align: top;\n",
       "    }\n",
       "\n",
       "    .dataframe thead th {\n",
       "        text-align: right;\n",
       "    }\n",
       "</style>\n",
       "<table border=\"1\" class=\"dataframe\">\n",
       "  <thead>\n",
       "    <tr style=\"text-align: right;\">\n",
       "      <th></th>\n",
       "      <th>User_ID</th>\n",
       "      <th>Song_ID</th>\n",
       "      <th>Scrobbles</th>\n",
       "      <th>Position</th>\n",
       "      <th>Date</th>\n",
       "    </tr>\n",
       "  </thead>\n",
       "  <tbody>\n",
       "    <tr>\n",
       "      <th>0</th>\n",
       "      <td>0</td>\n",
       "      <td>3307</td>\n",
       "      <td>370</td>\n",
       "      <td>inf</td>\n",
       "      <td>None</td>\n",
       "    </tr>\n",
       "    <tr>\n",
       "      <th>1</th>\n",
       "      <td>0</td>\n",
       "      <td>3308</td>\n",
       "      <td>357</td>\n",
       "      <td>inf</td>\n",
       "      <td>None</td>\n",
       "    </tr>\n",
       "    <tr>\n",
       "      <th>2</th>\n",
       "      <td>0</td>\n",
       "      <td>3309</td>\n",
       "      <td>349</td>\n",
       "      <td>inf</td>\n",
       "      <td>None</td>\n",
       "    </tr>\n",
       "    <tr>\n",
       "      <th>3</th>\n",
       "      <td>0</td>\n",
       "      <td>3310</td>\n",
       "      <td>347</td>\n",
       "      <td>inf</td>\n",
       "      <td>None</td>\n",
       "    </tr>\n",
       "    <tr>\n",
       "      <th>4</th>\n",
       "      <td>0</td>\n",
       "      <td>3311</td>\n",
       "      <td>346</td>\n",
       "      <td>inf</td>\n",
       "      <td>None</td>\n",
       "    </tr>\n",
       "    <tr>\n",
       "      <th>...</th>\n",
       "      <td>...</td>\n",
       "      <td>...</td>\n",
       "      <td>...</td>\n",
       "      <td>...</td>\n",
       "      <td>...</td>\n",
       "    </tr>\n",
       "    <tr>\n",
       "      <th>3018204</th>\n",
       "      <td>3306</td>\n",
       "      <td>3815</td>\n",
       "      <td>1</td>\n",
       "      <td>inf</td>\n",
       "      <td>None</td>\n",
       "    </tr>\n",
       "    <tr>\n",
       "      <th>3018205</th>\n",
       "      <td>3306</td>\n",
       "      <td>14156</td>\n",
       "      <td>1</td>\n",
       "      <td>800.0</td>\n",
       "      <td>Saturday 23 Jan 2010, 3:01pm</td>\n",
       "    </tr>\n",
       "    <tr>\n",
       "      <th>3018206</th>\n",
       "      <td>3306</td>\n",
       "      <td>12191</td>\n",
       "      <td>1</td>\n",
       "      <td>inf</td>\n",
       "      <td>None</td>\n",
       "    </tr>\n",
       "    <tr>\n",
       "      <th>3018207</th>\n",
       "      <td>3306</td>\n",
       "      <td>173432</td>\n",
       "      <td>1</td>\n",
       "      <td>inf</td>\n",
       "      <td>None</td>\n",
       "    </tr>\n",
       "    <tr>\n",
       "      <th>3018208</th>\n",
       "      <td>3306</td>\n",
       "      <td>233483</td>\n",
       "      <td>1</td>\n",
       "      <td>1224.0</td>\n",
       "      <td>Wednesday 6 Jan 2010, 9:22pm</td>\n",
       "    </tr>\n",
       "  </tbody>\n",
       "</table>\n",
       "<p>3018209 rows × 5 columns</p>\n",
       "</div>"
      ],
      "text/plain": [
       "         User_ID  Song_ID  Scrobbles  Position                          Date\n",
       "0              0     3307        370       inf                          None\n",
       "1              0     3308        357       inf                          None\n",
       "2              0     3309        349       inf                          None\n",
       "3              0     3310        347       inf                          None\n",
       "4              0     3311        346       inf                          None\n",
       "...          ...      ...        ...       ...                           ...\n",
       "3018204     3306     3815          1       inf                          None\n",
       "3018205     3306    14156          1     800.0  Saturday 23 Jan 2010, 3:01pm\n",
       "3018206     3306    12191          1       inf                          None\n",
       "3018207     3306   173432          1       inf                          None\n",
       "3018208     3306   233483          1    1224.0  Wednesday 6 Jan 2010, 9:22pm\n",
       "\n",
       "[3018209 rows x 5 columns]"
      ]
     },
     "execution_count": 5,
     "metadata": {},
     "output_type": "execute_result"
    }
   ],
   "source": [
    "full_graph_df"
   ]
  },
  {
   "cell_type": "code",
   "execution_count": 8,
   "id": "22e6dcc4",
   "metadata": {},
   "outputs": [
    {
     "name": "stdout",
     "output_type": "stream",
     "text": [
      "The maximum Song_ID in the full dataset is: 255320\n",
      "The maximum Song_ID in the training set is: 255320\n",
      "The maximum Song_ID in the test set is: 255320\n",
      "The maximum Song_ID is consistent across all datasets.\n"
     ]
    }
   ],
   "source": [
    "# Check max Song_ID in the full dataset\n",
    "max_song_id = full_graph_df['Song_ID'].max()\n",
    "print(f\"The maximum Song_ID in the full dataset is: {max_song_id}\")\n",
    "\n",
    "# Check max Song_ID in the training set\n",
    "max_song_id_train = train_graph_df['Song_ID'].max()\n",
    "print(f\"The maximum Song_ID in the training set is: {max_song_id_train}\")\n",
    "\n",
    "# Check max Song_ID in the test set\n",
    "max_song_id_test = test_graph_df['Song_ID'].max()\n",
    "print(f\"The maximum Song_ID in the test set is: {max_song_id_test}\")\n",
    "\n",
    "# Verify if the maximum Song_ID is consistent across all datasets\n",
    "if max_song_id == max_song_id_train == max_song_id_test:\n",
    "    print(\"The maximum Song_ID is consistent across all datasets.\")\n",
    "else:\n",
    "    print(\"Warning: The maximum Song_ID is not consistent across all datasets.\")\n"
   ]
  },
  {
   "cell_type": "code",
   "execution_count": 6,
   "id": "4d602fae",
   "metadata": {},
   "outputs": [
    {
     "data": {
      "text/html": [
       "<div>\n",
       "<style scoped>\n",
       "    .dataframe tbody tr th:only-of-type {\n",
       "        vertical-align: middle;\n",
       "    }\n",
       "\n",
       "    .dataframe tbody tr th {\n",
       "        vertical-align: top;\n",
       "    }\n",
       "\n",
       "    .dataframe thead th {\n",
       "        text-align: right;\n",
       "    }\n",
       "</style>\n",
       "<table border=\"1\" class=\"dataframe\">\n",
       "  <thead>\n",
       "    <tr style=\"text-align: right;\">\n",
       "      <th></th>\n",
       "      <th>User_ID</th>\n",
       "      <th>Song_ID</th>\n",
       "      <th>Scrobbles</th>\n",
       "      <th>Position</th>\n",
       "      <th>Date</th>\n",
       "    </tr>\n",
       "  </thead>\n",
       "  <tbody>\n",
       "    <tr>\n",
       "      <th>0</th>\n",
       "      <td>0</td>\n",
       "      <td>6235</td>\n",
       "      <td>22</td>\n",
       "      <td>196.0</td>\n",
       "      <td>Wednesday 22 Sep 2021, 10:41am</td>\n",
       "    </tr>\n",
       "    <tr>\n",
       "      <th>1</th>\n",
       "      <td>0</td>\n",
       "      <td>6346</td>\n",
       "      <td>21</td>\n",
       "      <td>197.0</td>\n",
       "      <td>Wednesday 22 Sep 2021, 10:37am</td>\n",
       "    </tr>\n",
       "    <tr>\n",
       "      <th>2</th>\n",
       "      <td>0</td>\n",
       "      <td>6460</td>\n",
       "      <td>20</td>\n",
       "      <td>198.0</td>\n",
       "      <td>Wednesday 22 Sep 2021, 10:33am</td>\n",
       "    </tr>\n",
       "    <tr>\n",
       "      <th>3</th>\n",
       "      <td>0</td>\n",
       "      <td>6347</td>\n",
       "      <td>21</td>\n",
       "      <td>199.0</td>\n",
       "      <td>Wednesday 22 Sep 2021, 10:30am</td>\n",
       "    </tr>\n",
       "    <tr>\n",
       "      <th>4</th>\n",
       "      <td>0</td>\n",
       "      <td>6117</td>\n",
       "      <td>23</td>\n",
       "      <td>200.0</td>\n",
       "      <td>Wednesday 22 Sep 2021, 10:26am</td>\n",
       "    </tr>\n",
       "    <tr>\n",
       "      <th>...</th>\n",
       "      <td>...</td>\n",
       "      <td>...</td>\n",
       "      <td>...</td>\n",
       "      <td>...</td>\n",
       "      <td>...</td>\n",
       "    </tr>\n",
       "    <tr>\n",
       "      <th>2564903</th>\n",
       "      <td>3306</td>\n",
       "      <td>222754</td>\n",
       "      <td>1</td>\n",
       "      <td>inf</td>\n",
       "      <td>None</td>\n",
       "    </tr>\n",
       "    <tr>\n",
       "      <th>2564904</th>\n",
       "      <td>3306</td>\n",
       "      <td>8500</td>\n",
       "      <td>1</td>\n",
       "      <td>inf</td>\n",
       "      <td>None</td>\n",
       "    </tr>\n",
       "    <tr>\n",
       "      <th>2564905</th>\n",
       "      <td>3306</td>\n",
       "      <td>3815</td>\n",
       "      <td>1</td>\n",
       "      <td>inf</td>\n",
       "      <td>None</td>\n",
       "    </tr>\n",
       "    <tr>\n",
       "      <th>2564906</th>\n",
       "      <td>3306</td>\n",
       "      <td>12191</td>\n",
       "      <td>1</td>\n",
       "      <td>inf</td>\n",
       "      <td>None</td>\n",
       "    </tr>\n",
       "    <tr>\n",
       "      <th>2564907</th>\n",
       "      <td>3306</td>\n",
       "      <td>173432</td>\n",
       "      <td>1</td>\n",
       "      <td>inf</td>\n",
       "      <td>None</td>\n",
       "    </tr>\n",
       "  </tbody>\n",
       "</table>\n",
       "<p>2564908 rows × 5 columns</p>\n",
       "</div>"
      ],
      "text/plain": [
       "         User_ID  Song_ID  Scrobbles  Position                            Date\n",
       "0              0     6235         22     196.0  Wednesday 22 Sep 2021, 10:41am\n",
       "1              0     6346         21     197.0  Wednesday 22 Sep 2021, 10:37am\n",
       "2              0     6460         20     198.0  Wednesday 22 Sep 2021, 10:33am\n",
       "3              0     6347         21     199.0  Wednesday 22 Sep 2021, 10:30am\n",
       "4              0     6117         23     200.0  Wednesday 22 Sep 2021, 10:26am\n",
       "...          ...      ...        ...       ...                             ...\n",
       "2564903     3306   222754          1       inf                            None\n",
       "2564904     3306     8500          1       inf                            None\n",
       "2564905     3306     3815          1       inf                            None\n",
       "2564906     3306    12191          1       inf                            None\n",
       "2564907     3306   173432          1       inf                            None\n",
       "\n",
       "[2564908 rows x 5 columns]"
      ]
     },
     "execution_count": 6,
     "metadata": {},
     "output_type": "execute_result"
    }
   ],
   "source": [
    "train_graph_df"
   ]
  },
  {
   "cell_type": "code",
   "execution_count": 7,
   "id": "f843b5e0",
   "metadata": {},
   "outputs": [
    {
     "data": {
      "text/html": [
       "<div>\n",
       "<style scoped>\n",
       "    .dataframe tbody tr th:only-of-type {\n",
       "        vertical-align: middle;\n",
       "    }\n",
       "\n",
       "    .dataframe tbody tr th {\n",
       "        vertical-align: top;\n",
       "    }\n",
       "\n",
       "    .dataframe thead th {\n",
       "        text-align: right;\n",
       "    }\n",
       "</style>\n",
       "<table border=\"1\" class=\"dataframe\">\n",
       "  <thead>\n",
       "    <tr style=\"text-align: right;\">\n",
       "      <th></th>\n",
       "      <th>User_ID</th>\n",
       "      <th>Song_ID</th>\n",
       "      <th>Scrobbles</th>\n",
       "      <th>Position</th>\n",
       "      <th>Date</th>\n",
       "    </tr>\n",
       "  </thead>\n",
       "  <tbody>\n",
       "    <tr>\n",
       "      <th>0</th>\n",
       "      <td>0</td>\n",
       "      <td>188713</td>\n",
       "      <td>8</td>\n",
       "      <td>130</td>\n",
       "      <td>Thursday 23 Sep 2021, 9:31am</td>\n",
       "    </tr>\n",
       "    <tr>\n",
       "      <th>1</th>\n",
       "      <td>0</td>\n",
       "      <td>8573</td>\n",
       "      <td>10</td>\n",
       "      <td>131</td>\n",
       "      <td>Thursday 23 Sep 2021, 9:22am</td>\n",
       "    </tr>\n",
       "    <tr>\n",
       "      <th>2</th>\n",
       "      <td>0</td>\n",
       "      <td>4256</td>\n",
       "      <td>53</td>\n",
       "      <td>132</td>\n",
       "      <td>Thursday 23 Sep 2021, 9:19am</td>\n",
       "    </tr>\n",
       "    <tr>\n",
       "      <th>3</th>\n",
       "      <td>0</td>\n",
       "      <td>4521</td>\n",
       "      <td>47</td>\n",
       "      <td>133</td>\n",
       "      <td>Thursday 23 Sep 2021, 9:15am</td>\n",
       "    </tr>\n",
       "    <tr>\n",
       "      <th>4</th>\n",
       "      <td>0</td>\n",
       "      <td>4522</td>\n",
       "      <td>47</td>\n",
       "      <td>134</td>\n",
       "      <td>Thursday 23 Sep 2021, 9:12am</td>\n",
       "    </tr>\n",
       "    <tr>\n",
       "      <th>...</th>\n",
       "      <td>...</td>\n",
       "      <td>...</td>\n",
       "      <td>...</td>\n",
       "      <td>...</td>\n",
       "      <td>...</td>\n",
       "    </tr>\n",
       "    <tr>\n",
       "      <th>453296</th>\n",
       "      <td>3306</td>\n",
       "      <td>202755</td>\n",
       "      <td>1</td>\n",
       "      <td>854</td>\n",
       "      <td>Tuesday 19 Jan 2010, 10:17pm</td>\n",
       "    </tr>\n",
       "    <tr>\n",
       "      <th>453297</th>\n",
       "      <td>3306</td>\n",
       "      <td>9790</td>\n",
       "      <td>1</td>\n",
       "      <td>857</td>\n",
       "      <td>Tuesday 19 Jan 2010, 10:05pm</td>\n",
       "    </tr>\n",
       "    <tr>\n",
       "      <th>453298</th>\n",
       "      <td>3306</td>\n",
       "      <td>169252</td>\n",
       "      <td>1</td>\n",
       "      <td>860</td>\n",
       "      <td>Tuesday 19 Jan 2010, 9:51pm</td>\n",
       "    </tr>\n",
       "    <tr>\n",
       "      <th>453299</th>\n",
       "      <td>3306</td>\n",
       "      <td>181742</td>\n",
       "      <td>1</td>\n",
       "      <td>862</td>\n",
       "      <td>Tuesday 19 Jan 2010, 9:43pm</td>\n",
       "    </tr>\n",
       "    <tr>\n",
       "      <th>453300</th>\n",
       "      <td>3306</td>\n",
       "      <td>139568</td>\n",
       "      <td>1</td>\n",
       "      <td>863</td>\n",
       "      <td>Tuesday 19 Jan 2010, 9:39pm</td>\n",
       "    </tr>\n",
       "  </tbody>\n",
       "</table>\n",
       "<p>453301 rows × 5 columns</p>\n",
       "</div>"
      ],
      "text/plain": [
       "        User_ID  Song_ID  Scrobbles  Position                          Date\n",
       "0             0   188713          8       130  Thursday 23 Sep 2021, 9:31am\n",
       "1             0     8573         10       131  Thursday 23 Sep 2021, 9:22am\n",
       "2             0     4256         53       132  Thursday 23 Sep 2021, 9:19am\n",
       "3             0     4521         47       133  Thursday 23 Sep 2021, 9:15am\n",
       "4             0     4522         47       134  Thursday 23 Sep 2021, 9:12am\n",
       "...         ...      ...        ...       ...                           ...\n",
       "453296     3306   202755          1       854  Tuesday 19 Jan 2010, 10:17pm\n",
       "453297     3306     9790          1       857  Tuesday 19 Jan 2010, 10:05pm\n",
       "453298     3306   169252          1       860   Tuesday 19 Jan 2010, 9:51pm\n",
       "453299     3306   181742          1       862   Tuesday 19 Jan 2010, 9:43pm\n",
       "453300     3306   139568          1       863   Tuesday 19 Jan 2010, 9:39pm\n",
       "\n",
       "[453301 rows x 5 columns]"
      ]
     },
     "execution_count": 7,
     "metadata": {},
     "output_type": "execute_result"
    }
   ],
   "source": [
    "test_graph_df"
   ]
  },
  {
   "cell_type": "markdown",
   "id": "6c38f15f-5a52-4e09-a9c5-1c5cc0561555",
   "metadata": {},
   "source": [
    "## Load Social Graph"
   ]
  },
  {
   "cell_type": "code",
   "execution_count": 5,
   "id": "7ddfb25d-3a91-489b-a566-0688c281ce90",
   "metadata": {},
   "outputs": [
    {
     "name": "stderr",
     "output_type": "stream",
     "text": [
      "100%|██████████| 136420/136420 [00:01<00:00, 82771.63it/s]\n",
      "100%|██████████| 1685524/1685524 [00:16<00:00, 101293.56it/s]\n"
     ]
    }
   ],
   "source": [
    "def load_social(file_users, file_edges, users_ids):\n",
    "    df_users = pd.read_csv(file_users, sep='\\t', names=['id', 'user'])\n",
    "    df_edges = pd.read_csv(file_edges, sep=' ', names=['origin', 'destination'])\n",
    "    old_new = {}\n",
    "    for _, r in tqdm(df_users.iterrows(), total=len(df_users)):\n",
    "        if r['user'] in users_ids:\n",
    "            old_new[r['id']] = users_ids[r['user']]\n",
    "    social_graph = nx.DiGraph()\n",
    "    social_graph.add_nodes_from(old_new.values())\n",
    "    for _, r in tqdm(df_edges.iterrows(), total=len(df_edges)):\n",
    "        if r['origin'] in old_new and r['destination'] in old_new:\n",
    "            social_graph.add_edge(old_new[r['origin']], old_new[r['destination']])\n",
    "    return social_graph\n",
    "\n",
    "social_graph = load_social('data/MRecury_data/lastfm.nodes', 'data/MRecury_data/lastfm.edges', users_mapping)"
   ]
  },
  {
   "cell_type": "markdown",
   "id": "2119fc14-013c-4e3c-b819-75abb7f5bae3",
   "metadata": {},
   "source": [
    "# Transformation into PyG Graph"
   ]
  },
  {
   "cell_type": "markdown",
   "id": "01e51c36-6d5d-45db-b414-dd2c3b7fb07d",
   "metadata": {},
   "source": [
    "## Graph Data Inspection for Transformation"
   ]
  },
  {
   "cell_type": "code",
   "execution_count": 6,
   "id": "024f4f66-7121-48b1-a605-5bdb18c9e642",
   "metadata": {},
   "outputs": [
    {
     "name": "stdout",
     "output_type": "stream",
     "text": [
      "Dataset: Graph with 255321 nodes and 2564908 edges:\n",
      "======================\n",
      "Number of nodes: 255321\n",
      "Number of edges: 2564908\n",
      "Number of User Nodes: 3307\n",
      "Number of Tracks Nodes: 252014 (one too much because of wrong original Data)\n",
      "Number of unique Songs: 252013 - Correct Unique Song Numbers\n"
     ]
    }
   ],
   "source": [
    "dataset = train_graph\n",
    "print(f'Dataset: {dataset}:')\n",
    "print('======================')\n",
    "\n",
    "#print(f'Number of graphs: {len(full_graph)}') # seems like the number of graphs is wrong, this is identital with nodes\n",
    "print(f'Number of nodes: {len(train_nodes)}')\n",
    "print(f'Number of edges: {len(train_edges)}')\n",
    "print(f'Number of User Nodes: {len(users_mapping)}') # i know this is the case from my inspection in Notebook 1. Also I could inspect the train_graph_df if needed.\n",
    "print(f'Number of Tracks Nodes: {(len(train_nodes) - len(users_mapping))} (one too much because of wrong original Data)')\n",
    "print(f'Number of unique Songs: {len(artist_tracks_mapping)} - Correct Unique Song Numbers')\n",
    "\n",
    "\n",
    "#print(f'Number of features: {dataset.num_features}')\n",
    "#print(f'Number of classes: {dataset.num_classes}')"
   ]
  },
  {
   "cell_type": "markdown",
   "id": "ad35a1b9-ad6a-4312-88b0-38eff5eb9457",
   "metadata": {},
   "source": [
    "## Train Graph Preprocessing (Skip on Rerun)\n",
    "Cleaning the Train Graph of missing songs and resetting Indices of each Node for Pyg Graph Init\n",
    "\n",
    "Can be Skipped on Re-Runs for the same dataset (eg. Train)"
   ]
  },
  {
   "cell_type": "code",
   "execution_count": 7,
   "id": "fcfdd4ca-48de-4f78-ae5f-f039c98801ed",
   "metadata": {},
   "outputs": [],
   "source": [
    "## Initialize Mapping"
   ]
  },
  {
   "cell_type": "code",
   "execution_count": 8,
   "id": "6bd6d397-fbee-42bc-a6a0-b9ec3e50868d",
   "metadata": {},
   "outputs": [
    {
     "data": {
      "text/html": [
       "<div>\n",
       "<style scoped>\n",
       "    .dataframe tbody tr th:only-of-type {\n",
       "        vertical-align: middle;\n",
       "    }\n",
       "\n",
       "    .dataframe tbody tr th {\n",
       "        vertical-align: top;\n",
       "    }\n",
       "\n",
       "    .dataframe thead th {\n",
       "        text-align: right;\n",
       "    }\n",
       "</style>\n",
       "<table border=\"1\" class=\"dataframe\">\n",
       "  <thead>\n",
       "    <tr style=\"text-align: right;\">\n",
       "      <th></th>\n",
       "      <th>Artist</th>\n",
       "      <th>Song_Name</th>\n",
       "      <th>Song_ID</th>\n",
       "    </tr>\n",
       "  </thead>\n",
       "  <tbody>\n",
       "    <tr>\n",
       "      <th>0</th>\n",
       "      <td>Black Kids</td>\n",
       "      <td>I'm Not Gonna Teach Your Boyfriend How to Danc...</td>\n",
       "      <td>3307</td>\n",
       "    </tr>\n",
       "    <tr>\n",
       "      <th>1</th>\n",
       "      <td>Black Kids</td>\n",
       "      <td>Hit The Heartbrakes</td>\n",
       "      <td>3308</td>\n",
       "    </tr>\n",
       "    <tr>\n",
       "      <th>2</th>\n",
       "      <td>Black Kids</td>\n",
       "      <td>I've Underestimated My Charm (Again)</td>\n",
       "      <td>3309</td>\n",
       "    </tr>\n",
       "    <tr>\n",
       "      <th>3</th>\n",
       "      <td>Black Kids</td>\n",
       "      <td>Partie Traumatic</td>\n",
       "      <td>3310</td>\n",
       "    </tr>\n",
       "    <tr>\n",
       "      <th>4</th>\n",
       "      <td>Black Kids</td>\n",
       "      <td>I'm Making Eyes at You</td>\n",
       "      <td>3311</td>\n",
       "    </tr>\n",
       "    <tr>\n",
       "      <th>...</th>\n",
       "      <td>...</td>\n",
       "      <td>...</td>\n",
       "      <td>...</td>\n",
       "    </tr>\n",
       "    <tr>\n",
       "      <th>252008</th>\n",
       "      <td>Jamie Lancaster</td>\n",
       "      <td>Boys Don't Cry</td>\n",
       "      <td>255203</td>\n",
       "    </tr>\n",
       "    <tr>\n",
       "      <th>252009</th>\n",
       "      <td>Sleeperstar</td>\n",
       "      <td>I Was Wrong</td>\n",
       "      <td>255208</td>\n",
       "    </tr>\n",
       "    <tr>\n",
       "      <th>252010</th>\n",
       "      <td>Anthony Naples</td>\n",
       "      <td>Mad Disrespect</td>\n",
       "      <td>255228</td>\n",
       "    </tr>\n",
       "    <tr>\n",
       "      <th>252011</th>\n",
       "      <td>Irene</td>\n",
       "      <td>Stardust</td>\n",
       "      <td>255253</td>\n",
       "    </tr>\n",
       "    <tr>\n",
       "      <th>252012</th>\n",
       "      <td>Mahmut Orhan</td>\n",
       "      <td>Feel - Radio Edit</td>\n",
       "      <td>255296</td>\n",
       "    </tr>\n",
       "  </tbody>\n",
       "</table>\n",
       "<p>252013 rows × 3 columns</p>\n",
       "</div>"
      ],
      "text/plain": [
       "                 Artist                                          Song_Name  \\\n",
       "0            Black Kids  I'm Not Gonna Teach Your Boyfriend How to Danc...   \n",
       "1            Black Kids                                Hit The Heartbrakes   \n",
       "2            Black Kids               I've Underestimated My Charm (Again)   \n",
       "3            Black Kids                                   Partie Traumatic   \n",
       "4            Black Kids                             I'm Making Eyes at You   \n",
       "...                 ...                                                ...   \n",
       "252008  Jamie Lancaster                                     Boys Don't Cry   \n",
       "252009      Sleeperstar                                        I Was Wrong   \n",
       "252010   Anthony Naples                                     Mad Disrespect   \n",
       "252011            Irene                                           Stardust   \n",
       "252012     Mahmut Orhan                                  Feel - Radio Edit   \n",
       "\n",
       "        Song_ID  \n",
       "0          3307  \n",
       "1          3308  \n",
       "2          3309  \n",
       "3          3310  \n",
       "4          3311  \n",
       "...         ...  \n",
       "252008   255203  \n",
       "252009   255208  \n",
       "252010   255228  \n",
       "252011   255253  \n",
       "252012   255296  \n",
       "\n",
       "[252013 rows x 3 columns]"
      ]
     },
     "execution_count": 8,
     "metadata": {},
     "output_type": "execute_result"
    }
   ],
   "source": [
    "artist_tracks_mapping = pd.read_csv('data/new_artist_tracks_mapping_df.csv')\n",
    "artist_tracks_mapping = artist_tracks_mapping.rename(columns = {'Song_Node_ID':'Song_ID'})\n",
    "artist_tracks_mapping"
   ]
  },
  {
   "cell_type": "code",
   "execution_count": 9,
   "id": "44bf41ff-c3c0-4910-becf-fd1a6d86ce57",
   "metadata": {},
   "outputs": [
    {
     "data": {
      "text/html": [
       "<div>\n",
       "<style scoped>\n",
       "    .dataframe tbody tr th:only-of-type {\n",
       "        vertical-align: middle;\n",
       "    }\n",
       "\n",
       "    .dataframe tbody tr th {\n",
       "        vertical-align: top;\n",
       "    }\n",
       "\n",
       "    .dataframe thead th {\n",
       "        text-align: right;\n",
       "    }\n",
       "</style>\n",
       "<table border=\"1\" class=\"dataframe\">\n",
       "  <thead>\n",
       "    <tr style=\"text-align: right;\">\n",
       "      <th></th>\n",
       "      <th>User_ID</th>\n",
       "      <th>Song_ID</th>\n",
       "      <th>Scrobbles</th>\n",
       "      <th>Position</th>\n",
       "      <th>Date</th>\n",
       "      <th>Artist</th>\n",
       "      <th>Song_Name</th>\n",
       "    </tr>\n",
       "  </thead>\n",
       "  <tbody>\n",
       "    <tr>\n",
       "      <th>0</th>\n",
       "      <td>0</td>\n",
       "      <td>6235</td>\n",
       "      <td>22</td>\n",
       "      <td>196.0</td>\n",
       "      <td>Wednesday 22 Sep 2021, 10:41am</td>\n",
       "      <td>Boniface</td>\n",
       "      <td>Making Peace With Suburbia</td>\n",
       "    </tr>\n",
       "    <tr>\n",
       "      <th>1</th>\n",
       "      <td>0</td>\n",
       "      <td>6346</td>\n",
       "      <td>21</td>\n",
       "      <td>197.0</td>\n",
       "      <td>Wednesday 22 Sep 2021, 10:37am</td>\n",
       "      <td>Boniface</td>\n",
       "      <td>Stay Home</td>\n",
       "    </tr>\n",
       "    <tr>\n",
       "      <th>2</th>\n",
       "      <td>0</td>\n",
       "      <td>6460</td>\n",
       "      <td>20</td>\n",
       "      <td>198.0</td>\n",
       "      <td>Wednesday 22 Sep 2021, 10:33am</td>\n",
       "      <td>Boniface</td>\n",
       "      <td>It's A Joke</td>\n",
       "    </tr>\n",
       "    <tr>\n",
       "      <th>3</th>\n",
       "      <td>0</td>\n",
       "      <td>6347</td>\n",
       "      <td>21</td>\n",
       "      <td>199.0</td>\n",
       "      <td>Wednesday 22 Sep 2021, 10:30am</td>\n",
       "      <td>Boniface</td>\n",
       "      <td>Wake Me Back Up</td>\n",
       "    </tr>\n",
       "    <tr>\n",
       "      <th>4</th>\n",
       "      <td>0</td>\n",
       "      <td>6117</td>\n",
       "      <td>23</td>\n",
       "      <td>200.0</td>\n",
       "      <td>Wednesday 22 Sep 2021, 10:26am</td>\n",
       "      <td>Boniface</td>\n",
       "      <td>Ghosts</td>\n",
       "    </tr>\n",
       "    <tr>\n",
       "      <th>...</th>\n",
       "      <td>...</td>\n",
       "      <td>...</td>\n",
       "      <td>...</td>\n",
       "      <td>...</td>\n",
       "      <td>...</td>\n",
       "      <td>...</td>\n",
       "      <td>...</td>\n",
       "    </tr>\n",
       "    <tr>\n",
       "      <th>2564903</th>\n",
       "      <td>3306</td>\n",
       "      <td>222754</td>\n",
       "      <td>1</td>\n",
       "      <td>inf</td>\n",
       "      <td>None</td>\n",
       "      <td>Killswitch Engage</td>\n",
       "      <td>Never Again</td>\n",
       "    </tr>\n",
       "    <tr>\n",
       "      <th>2564904</th>\n",
       "      <td>3306</td>\n",
       "      <td>8500</td>\n",
       "      <td>1</td>\n",
       "      <td>inf</td>\n",
       "      <td>None</td>\n",
       "      <td>Kings of Leon</td>\n",
       "      <td>The Runner</td>\n",
       "    </tr>\n",
       "    <tr>\n",
       "      <th>2564905</th>\n",
       "      <td>3306</td>\n",
       "      <td>3815</td>\n",
       "      <td>1</td>\n",
       "      <td>inf</td>\n",
       "      <td>None</td>\n",
       "      <td>Kings of Leon</td>\n",
       "      <td>Use Somebody</td>\n",
       "    </tr>\n",
       "    <tr>\n",
       "      <th>2564906</th>\n",
       "      <td>3306</td>\n",
       "      <td>12191</td>\n",
       "      <td>1</td>\n",
       "      <td>inf</td>\n",
       "      <td>None</td>\n",
       "      <td>Kiss</td>\n",
       "      <td>Love Gun</td>\n",
       "    </tr>\n",
       "    <tr>\n",
       "      <th>2564907</th>\n",
       "      <td>3306</td>\n",
       "      <td>173432</td>\n",
       "      <td>1</td>\n",
       "      <td>inf</td>\n",
       "      <td>None</td>\n",
       "      <td>Kittie</td>\n",
       "      <td>Charlotte</td>\n",
       "    </tr>\n",
       "  </tbody>\n",
       "</table>\n",
       "<p>2564908 rows × 7 columns</p>\n",
       "</div>"
      ],
      "text/plain": [
       "         User_ID  Song_ID  Scrobbles  Position  \\\n",
       "0              0     6235         22     196.0   \n",
       "1              0     6346         21     197.0   \n",
       "2              0     6460         20     198.0   \n",
       "3              0     6347         21     199.0   \n",
       "4              0     6117         23     200.0   \n",
       "...          ...      ...        ...       ...   \n",
       "2564903     3306   222754          1       inf   \n",
       "2564904     3306     8500          1       inf   \n",
       "2564905     3306     3815          1       inf   \n",
       "2564906     3306    12191          1       inf   \n",
       "2564907     3306   173432          1       inf   \n",
       "\n",
       "                                   Date             Artist  \\\n",
       "0        Wednesday 22 Sep 2021, 10:41am           Boniface   \n",
       "1        Wednesday 22 Sep 2021, 10:37am           Boniface   \n",
       "2        Wednesday 22 Sep 2021, 10:33am           Boniface   \n",
       "3        Wednesday 22 Sep 2021, 10:30am           Boniface   \n",
       "4        Wednesday 22 Sep 2021, 10:26am           Boniface   \n",
       "...                                 ...                ...   \n",
       "2564903                            None  Killswitch Engage   \n",
       "2564904                            None      Kings of Leon   \n",
       "2564905                            None      Kings of Leon   \n",
       "2564906                            None               Kiss   \n",
       "2564907                            None             Kittie   \n",
       "\n",
       "                          Song_Name  \n",
       "0        Making Peace With Suburbia  \n",
       "1                         Stay Home  \n",
       "2                       It's A Joke  \n",
       "3                   Wake Me Back Up  \n",
       "4                            Ghosts  \n",
       "...                             ...  \n",
       "2564903                 Never Again  \n",
       "2564904                  The Runner  \n",
       "2564905                Use Somebody  \n",
       "2564906                    Love Gun  \n",
       "2564907                   Charlotte  \n",
       "\n",
       "[2564908 rows x 7 columns]"
      ]
     },
     "execution_count": 9,
     "metadata": {},
     "output_type": "execute_result"
    }
   ],
   "source": [
    "# Merge the train_graph_df with artist_tracks_mapping on the \"Song_ID\" column\n",
    "train_graph_df = pd.merge(train_graph_df, artist_tracks_mapping, on=\"Song_ID\", how=\"left\")\n",
    "\n",
    "# Display the structure of the merged DataFrame\n",
    "train_graph_df"
   ]
  },
  {
   "cell_type": "code",
   "execution_count": 10,
   "id": "e68b2640-a3bb-46b3-91a4-dd1696974a55",
   "metadata": {},
   "outputs": [
    {
     "data": {
      "text/plain": [
       "252014"
      ]
     },
     "execution_count": 10,
     "metadata": {},
     "output_type": "execute_result"
    }
   ],
   "source": [
    "## length of the Train Graph df before (and after merge). 14 is wrong, should be 13, since one song was double in the original graph and mapping. Hence we have to remove this song\n",
    "len(train_graph_df[\"Song_ID\"].unique())"
   ]
  },
  {
   "cell_type": "markdown",
   "id": "3de789c7-5e64-4dfd-bcd9-f30a62f439ce",
   "metadata": {},
   "source": [
    "### check for NaNs in Songname or ID\n",
    "Our 1 song \" \tArtist \tSong_Name \tSong_Node_ID\n",
    "74634 \tBanda UÓ \tCavalo de Fogo \tID: '68691\" that was correctly excluded in the new mapping (and appeared twice with different IDs in the old mapping) is still being joined here because\n",
    "it exists in the original Train Df (that we take as the merge input). Hence it will not get left joined with any New Mapping data, and we have to delete it."
   ]
  },
  {
   "cell_type": "code",
   "execution_count": 11,
   "id": "c2f94424-87e4-475b-8035-2fd1cf999af0",
   "metadata": {},
   "outputs": [
    {
     "data": {
      "text/plain": [
       "Series([], Name: Song_ID, dtype: int64)"
      ]
     },
     "execution_count": 11,
     "metadata": {},
     "output_type": "execute_result"
    }
   ],
   "source": [
    "train_graph_df[\"Song_ID\"][train_graph_df[\"Song_ID\"].isnull()]"
   ]
  },
  {
   "cell_type": "code",
   "execution_count": 12,
   "id": "6addd9f1-0b53-4e7f-b930-83c85ceaa735",
   "metadata": {},
   "outputs": [
    {
     "data": {
      "text/html": [
       "<div>\n",
       "<style scoped>\n",
       "    .dataframe tbody tr th:only-of-type {\n",
       "        vertical-align: middle;\n",
       "    }\n",
       "\n",
       "    .dataframe tbody tr th {\n",
       "        vertical-align: top;\n",
       "    }\n",
       "\n",
       "    .dataframe thead th {\n",
       "        text-align: right;\n",
       "    }\n",
       "</style>\n",
       "<table border=\"1\" class=\"dataframe\">\n",
       "  <thead>\n",
       "    <tr style=\"text-align: right;\">\n",
       "      <th></th>\n",
       "      <th>User_ID</th>\n",
       "      <th>Song_ID</th>\n",
       "      <th>Scrobbles</th>\n",
       "      <th>Position</th>\n",
       "      <th>Date</th>\n",
       "      <th>Artist</th>\n",
       "      <th>Song_Name</th>\n",
       "    </tr>\n",
       "  </thead>\n",
       "  <tbody>\n",
       "    <tr>\n",
       "      <th>2157727</th>\n",
       "      <td>2614</td>\n",
       "      <td>68691</td>\n",
       "      <td>22</td>\n",
       "      <td>inf</td>\n",
       "      <td>None</td>\n",
       "      <td>NaN</td>\n",
       "      <td>NaN</td>\n",
       "    </tr>\n",
       "  </tbody>\n",
       "</table>\n",
       "</div>"
      ],
      "text/plain": [
       "         User_ID  Song_ID  Scrobbles  Position  Date Artist Song_Name\n",
       "2157727     2614    68691         22       inf  None    NaN       NaN"
      ]
     },
     "execution_count": 12,
     "metadata": {},
     "output_type": "execute_result"
    }
   ],
   "source": [
    "train_graph_df[train_graph_df[\"Song_Name\"].isnull()]"
   ]
  },
  {
   "cell_type": "code",
   "execution_count": 13,
   "id": "1dce9c88-3f3f-49c5-9f2b-181c2da4199d",
   "metadata": {},
   "outputs": [
    {
     "data": {
      "text/plain": [
       "User_ID       2614\n",
       "Song_ID      68691\n",
       "Scrobbles       22\n",
       "Position       inf\n",
       "Date          None\n",
       "Artist         NaN\n",
       "Song_Name      NaN\n",
       "Name: 2157727, dtype: object"
      ]
     },
     "execution_count": 13,
     "metadata": {},
     "output_type": "execute_result"
    }
   ],
   "source": [
    "train_graph_df.loc[2157727]"
   ]
  },
  {
   "cell_type": "code",
   "execution_count": 14,
   "id": "f6e3b948-e47c-412f-94e9-86ac84f34b3c",
   "metadata": {},
   "outputs": [],
   "source": [
    "## identify this song by ID:\n",
    "#train_graph_df[train_graph_df[\"Song_ID\"] == 68691]"
   ]
  },
  {
   "cell_type": "markdown",
   "id": "bad07676-04a9-44f5-9a15-6bdf2cb22a53",
   "metadata": {},
   "source": [
    "###  remove empty songs / duplicate Song_ID"
   ]
  },
  {
   "cell_type": "code",
   "execution_count": 15,
   "id": "b11c9b0c-96cf-44ac-ba49-2accc2cc4160",
   "metadata": {},
   "outputs": [
    {
     "data": {
      "text/html": [
       "<div>\n",
       "<style scoped>\n",
       "    .dataframe tbody tr th:only-of-type {\n",
       "        vertical-align: middle;\n",
       "    }\n",
       "\n",
       "    .dataframe tbody tr th {\n",
       "        vertical-align: top;\n",
       "    }\n",
       "\n",
       "    .dataframe thead th {\n",
       "        text-align: right;\n",
       "    }\n",
       "</style>\n",
       "<table border=\"1\" class=\"dataframe\">\n",
       "  <thead>\n",
       "    <tr style=\"text-align: right;\">\n",
       "      <th></th>\n",
       "      <th>index</th>\n",
       "      <th>User_ID</th>\n",
       "      <th>Song_ID</th>\n",
       "      <th>Scrobbles</th>\n",
       "      <th>Position</th>\n",
       "      <th>Date</th>\n",
       "      <th>Artist</th>\n",
       "      <th>Song_Name</th>\n",
       "    </tr>\n",
       "  </thead>\n",
       "  <tbody>\n",
       "    <tr>\n",
       "      <th>0</th>\n",
       "      <td>0</td>\n",
       "      <td>0</td>\n",
       "      <td>6235</td>\n",
       "      <td>22</td>\n",
       "      <td>196.0</td>\n",
       "      <td>Wednesday 22 Sep 2021, 10:41am</td>\n",
       "      <td>Boniface</td>\n",
       "      <td>Making Peace With Suburbia</td>\n",
       "    </tr>\n",
       "    <tr>\n",
       "      <th>1</th>\n",
       "      <td>1</td>\n",
       "      <td>0</td>\n",
       "      <td>6346</td>\n",
       "      <td>21</td>\n",
       "      <td>197.0</td>\n",
       "      <td>Wednesday 22 Sep 2021, 10:37am</td>\n",
       "      <td>Boniface</td>\n",
       "      <td>Stay Home</td>\n",
       "    </tr>\n",
       "    <tr>\n",
       "      <th>2</th>\n",
       "      <td>2</td>\n",
       "      <td>0</td>\n",
       "      <td>6460</td>\n",
       "      <td>20</td>\n",
       "      <td>198.0</td>\n",
       "      <td>Wednesday 22 Sep 2021, 10:33am</td>\n",
       "      <td>Boniface</td>\n",
       "      <td>It's A Joke</td>\n",
       "    </tr>\n",
       "    <tr>\n",
       "      <th>3</th>\n",
       "      <td>3</td>\n",
       "      <td>0</td>\n",
       "      <td>6347</td>\n",
       "      <td>21</td>\n",
       "      <td>199.0</td>\n",
       "      <td>Wednesday 22 Sep 2021, 10:30am</td>\n",
       "      <td>Boniface</td>\n",
       "      <td>Wake Me Back Up</td>\n",
       "    </tr>\n",
       "    <tr>\n",
       "      <th>4</th>\n",
       "      <td>4</td>\n",
       "      <td>0</td>\n",
       "      <td>6117</td>\n",
       "      <td>23</td>\n",
       "      <td>200.0</td>\n",
       "      <td>Wednesday 22 Sep 2021, 10:26am</td>\n",
       "      <td>Boniface</td>\n",
       "      <td>Ghosts</td>\n",
       "    </tr>\n",
       "    <tr>\n",
       "      <th>...</th>\n",
       "      <td>...</td>\n",
       "      <td>...</td>\n",
       "      <td>...</td>\n",
       "      <td>...</td>\n",
       "      <td>...</td>\n",
       "      <td>...</td>\n",
       "      <td>...</td>\n",
       "      <td>...</td>\n",
       "    </tr>\n",
       "    <tr>\n",
       "      <th>2564902</th>\n",
       "      <td>2564903</td>\n",
       "      <td>3306</td>\n",
       "      <td>222754</td>\n",
       "      <td>1</td>\n",
       "      <td>inf</td>\n",
       "      <td>None</td>\n",
       "      <td>Killswitch Engage</td>\n",
       "      <td>Never Again</td>\n",
       "    </tr>\n",
       "    <tr>\n",
       "      <th>2564903</th>\n",
       "      <td>2564904</td>\n",
       "      <td>3306</td>\n",
       "      <td>8500</td>\n",
       "      <td>1</td>\n",
       "      <td>inf</td>\n",
       "      <td>None</td>\n",
       "      <td>Kings of Leon</td>\n",
       "      <td>The Runner</td>\n",
       "    </tr>\n",
       "    <tr>\n",
       "      <th>2564904</th>\n",
       "      <td>2564905</td>\n",
       "      <td>3306</td>\n",
       "      <td>3815</td>\n",
       "      <td>1</td>\n",
       "      <td>inf</td>\n",
       "      <td>None</td>\n",
       "      <td>Kings of Leon</td>\n",
       "      <td>Use Somebody</td>\n",
       "    </tr>\n",
       "    <tr>\n",
       "      <th>2564905</th>\n",
       "      <td>2564906</td>\n",
       "      <td>3306</td>\n",
       "      <td>12191</td>\n",
       "      <td>1</td>\n",
       "      <td>inf</td>\n",
       "      <td>None</td>\n",
       "      <td>Kiss</td>\n",
       "      <td>Love Gun</td>\n",
       "    </tr>\n",
       "    <tr>\n",
       "      <th>2564906</th>\n",
       "      <td>2564907</td>\n",
       "      <td>3306</td>\n",
       "      <td>173432</td>\n",
       "      <td>1</td>\n",
       "      <td>inf</td>\n",
       "      <td>None</td>\n",
       "      <td>Kittie</td>\n",
       "      <td>Charlotte</td>\n",
       "    </tr>\n",
       "  </tbody>\n",
       "</table>\n",
       "<p>2564907 rows × 8 columns</p>\n",
       "</div>"
      ],
      "text/plain": [
       "           index  User_ID  Song_ID  Scrobbles  Position  \\\n",
       "0              0        0     6235         22     196.0   \n",
       "1              1        0     6346         21     197.0   \n",
       "2              2        0     6460         20     198.0   \n",
       "3              3        0     6347         21     199.0   \n",
       "4              4        0     6117         23     200.0   \n",
       "...          ...      ...      ...        ...       ...   \n",
       "2564902  2564903     3306   222754          1       inf   \n",
       "2564903  2564904     3306     8500          1       inf   \n",
       "2564904  2564905     3306     3815          1       inf   \n",
       "2564905  2564906     3306    12191          1       inf   \n",
       "2564906  2564907     3306   173432          1       inf   \n",
       "\n",
       "                                   Date             Artist  \\\n",
       "0        Wednesday 22 Sep 2021, 10:41am           Boniface   \n",
       "1        Wednesday 22 Sep 2021, 10:37am           Boniface   \n",
       "2        Wednesday 22 Sep 2021, 10:33am           Boniface   \n",
       "3        Wednesday 22 Sep 2021, 10:30am           Boniface   \n",
       "4        Wednesday 22 Sep 2021, 10:26am           Boniface   \n",
       "...                                 ...                ...   \n",
       "2564902                            None  Killswitch Engage   \n",
       "2564903                            None      Kings of Leon   \n",
       "2564904                            None      Kings of Leon   \n",
       "2564905                            None               Kiss   \n",
       "2564906                            None             Kittie   \n",
       "\n",
       "                          Song_Name  \n",
       "0        Making Peace With Suburbia  \n",
       "1                         Stay Home  \n",
       "2                       It's A Joke  \n",
       "3                   Wake Me Back Up  \n",
       "4                            Ghosts  \n",
       "...                             ...  \n",
       "2564902                 Never Again  \n",
       "2564903                  The Runner  \n",
       "2564904                Use Somebody  \n",
       "2564905                    Love Gun  \n",
       "2564906                   Charlotte  \n",
       "\n",
       "[2564907 rows x 8 columns]"
      ]
     },
     "execution_count": 15,
     "metadata": {},
     "output_type": "execute_result"
    }
   ],
   "source": [
    "train_graph_df = train_graph_df.drop(2157727).reset_index()\n",
    "train_graph_df"
   ]
  },
  {
   "cell_type": "code",
   "execution_count": 16,
   "id": "03bb663e-8cab-47c4-9394-e3a514135ace",
   "metadata": {},
   "outputs": [
    {
     "data": {
      "text/plain": [
       "Series([], Name: Song_Name, dtype: object)"
      ]
     },
     "execution_count": 16,
     "metadata": {},
     "output_type": "execute_result"
    }
   ],
   "source": [
    "## no more empty song names\n",
    "train_graph_df[\"Song_Name\"][train_graph_df[\"Song_Name\"].isnull()]"
   ]
  },
  {
   "cell_type": "markdown",
   "id": "2fe03ddd-62b0-4d86-830b-4bc6301dc57b",
   "metadata": {},
   "source": [
    "### Reset Song Indices of Song IDS:\n",
    "\n"
   ]
  },
  {
   "cell_type": "code",
   "execution_count": 17,
   "id": "cbbd4c5c-10a9-4aa4-ad2c-5fd7d49731e7",
   "metadata": {
    "scrolled": true
   },
   "outputs": [],
   "source": [
    "New_Song_ID_dict = {}\n",
    "new_ID_Counter = 0\n",
    "missing_id = 68691\n",
    "\n",
    "for song_id in np.sort(train_graph_df['Song_ID'].unique()):\n",
    "    #print(song_id)\n",
    "    if song_id != missing_id:\n",
    "        \n",
    "        #new_ID = new_ID_Counter\n",
    "        New_Song_ID_dict[song_id] = new_ID_Counter\n",
    "        new_ID_Counter += 1\n",
    "        #print(New_Song_ID)\n",
    "\n",
    "#New_Song_ID_dict\n"
   ]
  },
  {
   "cell_type": "code",
   "execution_count": 18,
   "id": "dfb261e4-d097-4e5a-8184-9d8c73c202f6",
   "metadata": {},
   "outputs": [],
   "source": [
    "# Apply the mapping to the dataset\n",
    "train_graph_df['Song_ID'] = train_graph_df['Song_ID'].map(New_Song_ID_dict)"
   ]
  },
  {
   "cell_type": "code",
   "execution_count": 19,
   "id": "b9e2c73d-36c9-40f1-9b79-882c5edab178",
   "metadata": {},
   "outputs": [
    {
     "data": {
      "text/html": [
       "<div>\n",
       "<style scoped>\n",
       "    .dataframe tbody tr th:only-of-type {\n",
       "        vertical-align: middle;\n",
       "    }\n",
       "\n",
       "    .dataframe tbody tr th {\n",
       "        vertical-align: top;\n",
       "    }\n",
       "\n",
       "    .dataframe thead th {\n",
       "        text-align: right;\n",
       "    }\n",
       "</style>\n",
       "<table border=\"1\" class=\"dataframe\">\n",
       "  <thead>\n",
       "    <tr style=\"text-align: right;\">\n",
       "      <th></th>\n",
       "      <th>index</th>\n",
       "      <th>User_ID</th>\n",
       "      <th>Song_ID</th>\n",
       "      <th>Scrobbles</th>\n",
       "      <th>Position</th>\n",
       "      <th>Date</th>\n",
       "      <th>Artist</th>\n",
       "      <th>Song_Name</th>\n",
       "    </tr>\n",
       "  </thead>\n",
       "  <tbody>\n",
       "    <tr>\n",
       "      <th>0</th>\n",
       "      <td>0</td>\n",
       "      <td>0</td>\n",
       "      <td>2928</td>\n",
       "      <td>22</td>\n",
       "      <td>196.0</td>\n",
       "      <td>Wednesday 22 Sep 2021, 10:41am</td>\n",
       "      <td>Boniface</td>\n",
       "      <td>Making Peace With Suburbia</td>\n",
       "    </tr>\n",
       "    <tr>\n",
       "      <th>1</th>\n",
       "      <td>1</td>\n",
       "      <td>0</td>\n",
       "      <td>3039</td>\n",
       "      <td>21</td>\n",
       "      <td>197.0</td>\n",
       "      <td>Wednesday 22 Sep 2021, 10:37am</td>\n",
       "      <td>Boniface</td>\n",
       "      <td>Stay Home</td>\n",
       "    </tr>\n",
       "    <tr>\n",
       "      <th>2</th>\n",
       "      <td>2</td>\n",
       "      <td>0</td>\n",
       "      <td>3153</td>\n",
       "      <td>20</td>\n",
       "      <td>198.0</td>\n",
       "      <td>Wednesday 22 Sep 2021, 10:33am</td>\n",
       "      <td>Boniface</td>\n",
       "      <td>It's A Joke</td>\n",
       "    </tr>\n",
       "    <tr>\n",
       "      <th>3</th>\n",
       "      <td>3</td>\n",
       "      <td>0</td>\n",
       "      <td>3040</td>\n",
       "      <td>21</td>\n",
       "      <td>199.0</td>\n",
       "      <td>Wednesday 22 Sep 2021, 10:30am</td>\n",
       "      <td>Boniface</td>\n",
       "      <td>Wake Me Back Up</td>\n",
       "    </tr>\n",
       "    <tr>\n",
       "      <th>4</th>\n",
       "      <td>4</td>\n",
       "      <td>0</td>\n",
       "      <td>2810</td>\n",
       "      <td>23</td>\n",
       "      <td>200.0</td>\n",
       "      <td>Wednesday 22 Sep 2021, 10:26am</td>\n",
       "      <td>Boniface</td>\n",
       "      <td>Ghosts</td>\n",
       "    </tr>\n",
       "    <tr>\n",
       "      <th>...</th>\n",
       "      <td>...</td>\n",
       "      <td>...</td>\n",
       "      <td>...</td>\n",
       "      <td>...</td>\n",
       "      <td>...</td>\n",
       "      <td>...</td>\n",
       "      <td>...</td>\n",
       "      <td>...</td>\n",
       "    </tr>\n",
       "    <tr>\n",
       "      <th>2564902</th>\n",
       "      <td>2564903</td>\n",
       "      <td>3306</td>\n",
       "      <td>219446</td>\n",
       "      <td>1</td>\n",
       "      <td>inf</td>\n",
       "      <td>None</td>\n",
       "      <td>Killswitch Engage</td>\n",
       "      <td>Never Again</td>\n",
       "    </tr>\n",
       "    <tr>\n",
       "      <th>2564903</th>\n",
       "      <td>2564904</td>\n",
       "      <td>3306</td>\n",
       "      <td>5193</td>\n",
       "      <td>1</td>\n",
       "      <td>inf</td>\n",
       "      <td>None</td>\n",
       "      <td>Kings of Leon</td>\n",
       "      <td>The Runner</td>\n",
       "    </tr>\n",
       "    <tr>\n",
       "      <th>2564904</th>\n",
       "      <td>2564905</td>\n",
       "      <td>3306</td>\n",
       "      <td>508</td>\n",
       "      <td>1</td>\n",
       "      <td>inf</td>\n",
       "      <td>None</td>\n",
       "      <td>Kings of Leon</td>\n",
       "      <td>Use Somebody</td>\n",
       "    </tr>\n",
       "    <tr>\n",
       "      <th>2564905</th>\n",
       "      <td>2564906</td>\n",
       "      <td>3306</td>\n",
       "      <td>8884</td>\n",
       "      <td>1</td>\n",
       "      <td>inf</td>\n",
       "      <td>None</td>\n",
       "      <td>Kiss</td>\n",
       "      <td>Love Gun</td>\n",
       "    </tr>\n",
       "    <tr>\n",
       "      <th>2564906</th>\n",
       "      <td>2564907</td>\n",
       "      <td>3306</td>\n",
       "      <td>170124</td>\n",
       "      <td>1</td>\n",
       "      <td>inf</td>\n",
       "      <td>None</td>\n",
       "      <td>Kittie</td>\n",
       "      <td>Charlotte</td>\n",
       "    </tr>\n",
       "  </tbody>\n",
       "</table>\n",
       "<p>2564907 rows × 8 columns</p>\n",
       "</div>"
      ],
      "text/plain": [
       "           index  User_ID  Song_ID  Scrobbles  Position  \\\n",
       "0              0        0     2928         22     196.0   \n",
       "1              1        0     3039         21     197.0   \n",
       "2              2        0     3153         20     198.0   \n",
       "3              3        0     3040         21     199.0   \n",
       "4              4        0     2810         23     200.0   \n",
       "...          ...      ...      ...        ...       ...   \n",
       "2564902  2564903     3306   219446          1       inf   \n",
       "2564903  2564904     3306     5193          1       inf   \n",
       "2564904  2564905     3306      508          1       inf   \n",
       "2564905  2564906     3306     8884          1       inf   \n",
       "2564906  2564907     3306   170124          1       inf   \n",
       "\n",
       "                                   Date             Artist  \\\n",
       "0        Wednesday 22 Sep 2021, 10:41am           Boniface   \n",
       "1        Wednesday 22 Sep 2021, 10:37am           Boniface   \n",
       "2        Wednesday 22 Sep 2021, 10:33am           Boniface   \n",
       "3        Wednesday 22 Sep 2021, 10:30am           Boniface   \n",
       "4        Wednesday 22 Sep 2021, 10:26am           Boniface   \n",
       "...                                 ...                ...   \n",
       "2564902                            None  Killswitch Engage   \n",
       "2564903                            None      Kings of Leon   \n",
       "2564904                            None      Kings of Leon   \n",
       "2564905                            None               Kiss   \n",
       "2564906                            None             Kittie   \n",
       "\n",
       "                          Song_Name  \n",
       "0        Making Peace With Suburbia  \n",
       "1                         Stay Home  \n",
       "2                       It's A Joke  \n",
       "3                   Wake Me Back Up  \n",
       "4                            Ghosts  \n",
       "...                             ...  \n",
       "2564902                 Never Again  \n",
       "2564903                  The Runner  \n",
       "2564904                Use Somebody  \n",
       "2564905                    Love Gun  \n",
       "2564906                   Charlotte  \n",
       "\n",
       "[2564907 rows x 8 columns]"
      ]
     },
     "execution_count": 19,
     "metadata": {},
     "output_type": "execute_result"
    }
   ],
   "source": [
    "train_graph_df"
   ]
  },
  {
   "cell_type": "code",
   "execution_count": 20,
   "id": "479389e9-d3d6-4070-9338-2d69205b5a92",
   "metadata": {},
   "outputs": [
    {
     "data": {
      "text/plain": [
       "array([     0,      1,      2, ..., 252010, 252011, 252012], dtype=int64)"
      ]
     },
     "execution_count": 20,
     "metadata": {},
     "output_type": "execute_result"
    }
   ],
   "source": [
    "np.sort(train_graph_df['Song_ID'].unique())"
   ]
  },
  {
   "cell_type": "code",
   "execution_count": 21,
   "id": "60e2f4c7-10e2-4bf1-861d-463f1fb87219",
   "metadata": {},
   "outputs": [
    {
     "name": "stdout",
     "output_type": "stream",
     "text": [
      "New Song IDs run consecutively from 0.\n"
     ]
    }
   ],
   "source": [
    "# Iterate through the New_Song_ID column and check if IDs run consecutively from 0\n",
    "consecutive = True\n",
    "prev_id = -1\n",
    "\n",
    "for new_id in np.sort(train_graph_df['Song_ID'].unique()):\n",
    "    if new_id != prev_id + 1:\n",
    "        consecutive = False\n",
    "        break\n",
    "    prev_id = new_id\n",
    "\n",
    "# Print the result\n",
    "if consecutive:\n",
    "    print(\"New Song IDs run consecutively from 0.\")\n",
    "else:\n",
    "    print(\"New Song IDs do not run consecutively from 0.\")\n"
   ]
  },
  {
   "cell_type": "code",
   "execution_count": 22,
   "id": "93d7750f-e72a-430b-8fb5-c363855d177b",
   "metadata": {},
   "outputs": [
    {
     "data": {
      "text/plain": [
       "252012"
      ]
     },
     "execution_count": 22,
     "metadata": {},
     "output_type": "execute_result"
    }
   ],
   "source": [
    "train_graph_df[\"Song_ID\"].unique().max()"
   ]
  },
  {
   "cell_type": "markdown",
   "id": "02ff0343-df32-4c83-8c57-894460c332dd",
   "metadata": {},
   "source": [
    "### check number of songs\n",
    "ALL SONG from the FULL DATA are still \"somewhere\" in the train data. BUT not every user that had a \"Listen to\" relation to a song exists.\n",
    "So eg. User 0 could have listened to track 3307 in the Full Graph, but in the Train data this connection is not seen. But for user 1 the connection remains in the training data, so this way we can see the song 3307 at least once in the training data. This means each song is at least listened to by 1 user in the training data. "
   ]
  },
  {
   "cell_type": "code",
   "execution_count": 23,
   "id": "177dd993-5b5c-49b9-8711-b64439e3f8c5",
   "metadata": {
    "scrolled": true
   },
   "outputs": [
    {
     "name": "stdout",
     "output_type": "stream",
     "text": [
      "Length: 252013\n",
      "Max Value: 252012\n"
     ]
    }
   ],
   "source": [
    "unique_song_ids= train_graph_df[\"Song_ID\"].unique()\n",
    "print(\"Length:\", len(unique_song_ids))\n",
    "print(\"Max Value:\", train_graph_df[\"Song_ID\"].unique().max())"
   ]
  },
  {
   "cell_type": "markdown",
   "id": "47b3cc80-4818-4689-a6df-e855867de949",
   "metadata": {},
   "source": [
    "### Save / Load Clean TrainGraph DF"
   ]
  },
  {
   "cell_type": "code",
   "execution_count": 24,
   "id": "57e6c18e-bea4-4600-85e9-f8d0ab466caa",
   "metadata": {},
   "outputs": [],
   "source": [
    "import os\n",
    "\n",
    "# Check if the file already exists\n",
    "if not os.path.exists('data/train_graph_df_clean.csv'):\n",
    "    # Save the merged DataFrame to a CSV file\n",
    "    train_graph_df.to_csv('data/train_graph_df_clean.csv', index=False)\n",
    "else:\n",
    "    # Load the existing CSV file\n",
    "    train_graph_df = pd.read_csv('data/train_graph_df_clean.csv')"
   ]
  },
  {
   "cell_type": "markdown",
   "id": "e2b9b15d-aff3-4002-8098-8ad48318d43e",
   "metadata": {},
   "source": [
    "## Import Clean TrainGraph DF"
   ]
  },
  {
   "cell_type": "code",
   "execution_count": 26,
   "id": "71c1d531",
   "metadata": {},
   "outputs": [
    {
     "data": {
      "text/html": [
       "<div>\n",
       "<style scoped>\n",
       "    .dataframe tbody tr th:only-of-type {\n",
       "        vertical-align: middle;\n",
       "    }\n",
       "\n",
       "    .dataframe tbody tr th {\n",
       "        vertical-align: top;\n",
       "    }\n",
       "\n",
       "    .dataframe thead th {\n",
       "        text-align: right;\n",
       "    }\n",
       "</style>\n",
       "<table border=\"1\" class=\"dataframe\">\n",
       "  <thead>\n",
       "    <tr style=\"text-align: right;\">\n",
       "      <th></th>\n",
       "      <th>index</th>\n",
       "      <th>User_ID</th>\n",
       "      <th>Song_ID</th>\n",
       "      <th>Scrobbles</th>\n",
       "      <th>Position</th>\n",
       "      <th>Date</th>\n",
       "      <th>Artist</th>\n",
       "      <th>Song_Name</th>\n",
       "    </tr>\n",
       "  </thead>\n",
       "  <tbody>\n",
       "    <tr>\n",
       "      <th>38940</th>\n",
       "      <td>38940</td>\n",
       "      <td>5</td>\n",
       "      <td>185405</td>\n",
       "      <td>2</td>\n",
       "      <td>inf</td>\n",
       "      <td>NaN</td>\n",
       "      <td>Phoenix</td>\n",
       "      <td>Oblique City</td>\n",
       "    </tr>\n",
       "    <tr>\n",
       "      <th>65536</th>\n",
       "      <td>65536</td>\n",
       "      <td>8</td>\n",
       "      <td>185405</td>\n",
       "      <td>2</td>\n",
       "      <td>inf</td>\n",
       "      <td>NaN</td>\n",
       "      <td>Phoenix</td>\n",
       "      <td>Oblique City</td>\n",
       "    </tr>\n",
       "    <tr>\n",
       "      <th>275193</th>\n",
       "      <td>275193</td>\n",
       "      <td>169</td>\n",
       "      <td>185405</td>\n",
       "      <td>10</td>\n",
       "      <td>inf</td>\n",
       "      <td>NaN</td>\n",
       "      <td>Phoenix</td>\n",
       "      <td>Oblique City</td>\n",
       "    </tr>\n",
       "    <tr>\n",
       "      <th>355907</th>\n",
       "      <td>355907</td>\n",
       "      <td>267</td>\n",
       "      <td>185405</td>\n",
       "      <td>69</td>\n",
       "      <td>inf</td>\n",
       "      <td>NaN</td>\n",
       "      <td>Phoenix</td>\n",
       "      <td>Oblique City</td>\n",
       "    </tr>\n",
       "    <tr>\n",
       "      <th>949778</th>\n",
       "      <td>949778</td>\n",
       "      <td>1038</td>\n",
       "      <td>185405</td>\n",
       "      <td>30</td>\n",
       "      <td>inf</td>\n",
       "      <td>NaN</td>\n",
       "      <td>Phoenix</td>\n",
       "      <td>Oblique City</td>\n",
       "    </tr>\n",
       "    <tr>\n",
       "      <th>1092864</th>\n",
       "      <td>1092864</td>\n",
       "      <td>1205</td>\n",
       "      <td>185405</td>\n",
       "      <td>25</td>\n",
       "      <td>inf</td>\n",
       "      <td>NaN</td>\n",
       "      <td>Phoenix</td>\n",
       "      <td>Oblique City</td>\n",
       "    </tr>\n",
       "    <tr>\n",
       "      <th>1364441</th>\n",
       "      <td>1364441</td>\n",
       "      <td>1594</td>\n",
       "      <td>185405</td>\n",
       "      <td>8</td>\n",
       "      <td>inf</td>\n",
       "      <td>NaN</td>\n",
       "      <td>Phoenix</td>\n",
       "      <td>Oblique City</td>\n",
       "    </tr>\n",
       "    <tr>\n",
       "      <th>1523905</th>\n",
       "      <td>1523905</td>\n",
       "      <td>1672</td>\n",
       "      <td>185405</td>\n",
       "      <td>1</td>\n",
       "      <td>inf</td>\n",
       "      <td>NaN</td>\n",
       "      <td>Phoenix</td>\n",
       "      <td>Oblique City</td>\n",
       "    </tr>\n",
       "    <tr>\n",
       "      <th>1581941</th>\n",
       "      <td>1581941</td>\n",
       "      <td>1678</td>\n",
       "      <td>185405</td>\n",
       "      <td>2</td>\n",
       "      <td>inf</td>\n",
       "      <td>NaN</td>\n",
       "      <td>Phoenix</td>\n",
       "      <td>Oblique City</td>\n",
       "    </tr>\n",
       "    <tr>\n",
       "      <th>1961853</th>\n",
       "      <td>1961853</td>\n",
       "      <td>2290</td>\n",
       "      <td>185405</td>\n",
       "      <td>103</td>\n",
       "      <td>inf</td>\n",
       "      <td>NaN</td>\n",
       "      <td>Phoenix</td>\n",
       "      <td>Oblique City</td>\n",
       "    </tr>\n",
       "    <tr>\n",
       "      <th>2060889</th>\n",
       "      <td>2060889</td>\n",
       "      <td>2452</td>\n",
       "      <td>185405</td>\n",
       "      <td>31</td>\n",
       "      <td>inf</td>\n",
       "      <td>NaN</td>\n",
       "      <td>Phoenix</td>\n",
       "      <td>Oblique City</td>\n",
       "    </tr>\n",
       "    <tr>\n",
       "      <th>2350336</th>\n",
       "      <td>2350337</td>\n",
       "      <td>2944</td>\n",
       "      <td>185405</td>\n",
       "      <td>9</td>\n",
       "      <td>inf</td>\n",
       "      <td>NaN</td>\n",
       "      <td>Phoenix</td>\n",
       "      <td>Oblique City</td>\n",
       "    </tr>\n",
       "  </tbody>\n",
       "</table>\n",
       "</div>"
      ],
      "text/plain": [
       "           index  User_ID  Song_ID  Scrobbles  Position Date   Artist  \\\n",
       "38940      38940        5   185405          2       inf  NaN  Phoenix   \n",
       "65536      65536        8   185405          2       inf  NaN  Phoenix   \n",
       "275193    275193      169   185405         10       inf  NaN  Phoenix   \n",
       "355907    355907      267   185405         69       inf  NaN  Phoenix   \n",
       "949778    949778     1038   185405         30       inf  NaN  Phoenix   \n",
       "1092864  1092864     1205   185405         25       inf  NaN  Phoenix   \n",
       "1364441  1364441     1594   185405          8       inf  NaN  Phoenix   \n",
       "1523905  1523905     1672   185405          1       inf  NaN  Phoenix   \n",
       "1581941  1581941     1678   185405          2       inf  NaN  Phoenix   \n",
       "1961853  1961853     2290   185405        103       inf  NaN  Phoenix   \n",
       "2060889  2060889     2452   185405         31       inf  NaN  Phoenix   \n",
       "2350336  2350337     2944   185405          9       inf  NaN  Phoenix   \n",
       "\n",
       "            Song_Name  \n",
       "38940    Oblique City  \n",
       "65536    Oblique City  \n",
       "275193   Oblique City  \n",
       "355907   Oblique City  \n",
       "949778   Oblique City  \n",
       "1092864  Oblique City  \n",
       "1364441  Oblique City  \n",
       "1523905  Oblique City  \n",
       "1581941  Oblique City  \n",
       "1961853  Oblique City  \n",
       "2060889  Oblique City  \n",
       "2350336  Oblique City  "
      ]
     },
     "execution_count": 26,
     "metadata": {},
     "output_type": "execute_result"
    }
   ],
   "source": [
    "train_graph_df[train_graph_df[\"Song_Name\"] == \"Oblique City\"]"
   ]
  },
  {
   "cell_type": "code",
   "execution_count": 27,
   "id": "29c89141-12fd-4381-af16-3fffa3638f8f",
   "metadata": {},
   "outputs": [
    {
     "data": {
      "text/html": [
       "<div>\n",
       "<style scoped>\n",
       "    .dataframe tbody tr th:only-of-type {\n",
       "        vertical-align: middle;\n",
       "    }\n",
       "\n",
       "    .dataframe tbody tr th {\n",
       "        vertical-align: top;\n",
       "    }\n",
       "\n",
       "    .dataframe thead th {\n",
       "        text-align: right;\n",
       "    }\n",
       "</style>\n",
       "<table border=\"1\" class=\"dataframe\">\n",
       "  <thead>\n",
       "    <tr style=\"text-align: right;\">\n",
       "      <th></th>\n",
       "      <th>index</th>\n",
       "      <th>User_ID</th>\n",
       "      <th>Song_ID</th>\n",
       "      <th>Scrobbles</th>\n",
       "      <th>Position</th>\n",
       "      <th>Date</th>\n",
       "      <th>Artist</th>\n",
       "      <th>Song_Name</th>\n",
       "    </tr>\n",
       "  </thead>\n",
       "  <tbody>\n",
       "    <tr>\n",
       "      <th>0</th>\n",
       "      <td>0</td>\n",
       "      <td>0</td>\n",
       "      <td>2928</td>\n",
       "      <td>22</td>\n",
       "      <td>196.0</td>\n",
       "      <td>Wednesday 22 Sep 2021, 10:41am</td>\n",
       "      <td>Boniface</td>\n",
       "      <td>Making Peace With Suburbia</td>\n",
       "    </tr>\n",
       "    <tr>\n",
       "      <th>1</th>\n",
       "      <td>1</td>\n",
       "      <td>0</td>\n",
       "      <td>3039</td>\n",
       "      <td>21</td>\n",
       "      <td>197.0</td>\n",
       "      <td>Wednesday 22 Sep 2021, 10:37am</td>\n",
       "      <td>Boniface</td>\n",
       "      <td>Stay Home</td>\n",
       "    </tr>\n",
       "    <tr>\n",
       "      <th>2</th>\n",
       "      <td>2</td>\n",
       "      <td>0</td>\n",
       "      <td>3153</td>\n",
       "      <td>20</td>\n",
       "      <td>198.0</td>\n",
       "      <td>Wednesday 22 Sep 2021, 10:33am</td>\n",
       "      <td>Boniface</td>\n",
       "      <td>It's A Joke</td>\n",
       "    </tr>\n",
       "    <tr>\n",
       "      <th>3</th>\n",
       "      <td>3</td>\n",
       "      <td>0</td>\n",
       "      <td>3040</td>\n",
       "      <td>21</td>\n",
       "      <td>199.0</td>\n",
       "      <td>Wednesday 22 Sep 2021, 10:30am</td>\n",
       "      <td>Boniface</td>\n",
       "      <td>Wake Me Back Up</td>\n",
       "    </tr>\n",
       "    <tr>\n",
       "      <th>4</th>\n",
       "      <td>4</td>\n",
       "      <td>0</td>\n",
       "      <td>2810</td>\n",
       "      <td>23</td>\n",
       "      <td>200.0</td>\n",
       "      <td>Wednesday 22 Sep 2021, 10:26am</td>\n",
       "      <td>Boniface</td>\n",
       "      <td>Ghosts</td>\n",
       "    </tr>\n",
       "    <tr>\n",
       "      <th>...</th>\n",
       "      <td>...</td>\n",
       "      <td>...</td>\n",
       "      <td>...</td>\n",
       "      <td>...</td>\n",
       "      <td>...</td>\n",
       "      <td>...</td>\n",
       "      <td>...</td>\n",
       "      <td>...</td>\n",
       "    </tr>\n",
       "    <tr>\n",
       "      <th>2564902</th>\n",
       "      <td>2564903</td>\n",
       "      <td>3306</td>\n",
       "      <td>219446</td>\n",
       "      <td>1</td>\n",
       "      <td>inf</td>\n",
       "      <td>NaN</td>\n",
       "      <td>Killswitch Engage</td>\n",
       "      <td>Never Again</td>\n",
       "    </tr>\n",
       "    <tr>\n",
       "      <th>2564903</th>\n",
       "      <td>2564904</td>\n",
       "      <td>3306</td>\n",
       "      <td>5193</td>\n",
       "      <td>1</td>\n",
       "      <td>inf</td>\n",
       "      <td>NaN</td>\n",
       "      <td>Kings of Leon</td>\n",
       "      <td>The Runner</td>\n",
       "    </tr>\n",
       "    <tr>\n",
       "      <th>2564904</th>\n",
       "      <td>2564905</td>\n",
       "      <td>3306</td>\n",
       "      <td>508</td>\n",
       "      <td>1</td>\n",
       "      <td>inf</td>\n",
       "      <td>NaN</td>\n",
       "      <td>Kings of Leon</td>\n",
       "      <td>Use Somebody</td>\n",
       "    </tr>\n",
       "    <tr>\n",
       "      <th>2564905</th>\n",
       "      <td>2564906</td>\n",
       "      <td>3306</td>\n",
       "      <td>8884</td>\n",
       "      <td>1</td>\n",
       "      <td>inf</td>\n",
       "      <td>NaN</td>\n",
       "      <td>Kiss</td>\n",
       "      <td>Love Gun</td>\n",
       "    </tr>\n",
       "    <tr>\n",
       "      <th>2564906</th>\n",
       "      <td>2564907</td>\n",
       "      <td>3306</td>\n",
       "      <td>170124</td>\n",
       "      <td>1</td>\n",
       "      <td>inf</td>\n",
       "      <td>NaN</td>\n",
       "      <td>Kittie</td>\n",
       "      <td>Charlotte</td>\n",
       "    </tr>\n",
       "  </tbody>\n",
       "</table>\n",
       "<p>2564907 rows × 8 columns</p>\n",
       "</div>"
      ],
      "text/plain": [
       "           index  User_ID  Song_ID  Scrobbles  Position  \\\n",
       "0              0        0     2928         22     196.0   \n",
       "1              1        0     3039         21     197.0   \n",
       "2              2        0     3153         20     198.0   \n",
       "3              3        0     3040         21     199.0   \n",
       "4              4        0     2810         23     200.0   \n",
       "...          ...      ...      ...        ...       ...   \n",
       "2564902  2564903     3306   219446          1       inf   \n",
       "2564903  2564904     3306     5193          1       inf   \n",
       "2564904  2564905     3306      508          1       inf   \n",
       "2564905  2564906     3306     8884          1       inf   \n",
       "2564906  2564907     3306   170124          1       inf   \n",
       "\n",
       "                                   Date             Artist  \\\n",
       "0        Wednesday 22 Sep 2021, 10:41am           Boniface   \n",
       "1        Wednesday 22 Sep 2021, 10:37am           Boniface   \n",
       "2        Wednesday 22 Sep 2021, 10:33am           Boniface   \n",
       "3        Wednesday 22 Sep 2021, 10:30am           Boniface   \n",
       "4        Wednesday 22 Sep 2021, 10:26am           Boniface   \n",
       "...                                 ...                ...   \n",
       "2564902                             NaN  Killswitch Engage   \n",
       "2564903                             NaN      Kings of Leon   \n",
       "2564904                             NaN      Kings of Leon   \n",
       "2564905                             NaN               Kiss   \n",
       "2564906                             NaN             Kittie   \n",
       "\n",
       "                          Song_Name  \n",
       "0        Making Peace With Suburbia  \n",
       "1                         Stay Home  \n",
       "2                       It's A Joke  \n",
       "3                   Wake Me Back Up  \n",
       "4                            Ghosts  \n",
       "...                             ...  \n",
       "2564902                 Never Again  \n",
       "2564903                  The Runner  \n",
       "2564904                Use Somebody  \n",
       "2564905                    Love Gun  \n",
       "2564906                   Charlotte  \n",
       "\n",
       "[2564907 rows x 8 columns]"
      ]
     },
     "execution_count": 27,
     "metadata": {},
     "output_type": "execute_result"
    }
   ],
   "source": [
    "train_graph_df"
   ]
  },
  {
   "cell_type": "markdown",
   "id": "2cad1b27-5bbb-4963-b5f7-696763fa14b8",
   "metadata": {},
   "source": [
    "## Node Data Setup"
   ]
  },
  {
   "cell_type": "markdown",
   "id": "fc042aa2-7c97-457a-8b16-707353441190",
   "metadata": {},
   "source": [
    "### Select All Unique Users"
   ]
  },
  {
   "cell_type": "code",
   "execution_count": 28,
   "id": "2056fc28-ef04-4fc2-abfc-150db0f9a37a",
   "metadata": {},
   "outputs": [
    {
     "data": {
      "text/plain": [
       "3307"
      ]
     },
     "execution_count": 28,
     "metadata": {},
     "output_type": "execute_result"
    }
   ],
   "source": [
    "user_ids = len(train_graph_df[\"User_ID\"].unique())\n",
    "user_ids"
   ]
  },
  {
   "cell_type": "markdown",
   "id": "4e9a9b65-64c2-4fe6-a6be-294f21f76c78",
   "metadata": {},
   "source": [
    "### Select All Unique Song Nodes"
   ]
  },
  {
   "cell_type": "code",
   "execution_count": 29,
   "id": "1b019c0c-d6e3-4230-98b5-afde0dc3e9fa",
   "metadata": {},
   "outputs": [
    {
     "data": {
      "text/plain": [
       "252013"
      ]
     },
     "execution_count": 29,
     "metadata": {},
     "output_type": "execute_result"
    }
   ],
   "source": [
    "song_ids = len(train_graph_df[\"Song_ID\"].unique())\n",
    "song_ids"
   ]
  },
  {
   "cell_type": "markdown",
   "id": "b499a697-2a3a-4a20-b2b2-77424368b9b9",
   "metadata": {},
   "source": [
    "### Select All Unique Artists"
   ]
  },
  {
   "cell_type": "code",
   "execution_count": 30,
   "id": "92bb0336-622d-44b7-bded-d1c2cdfa035b",
   "metadata": {},
   "outputs": [
    {
     "data": {
      "text/plain": [
       "28120"
      ]
     },
     "execution_count": 30,
     "metadata": {},
     "output_type": "execute_result"
    }
   ],
   "source": [
    "artist_ids = len(train_graph_df[\"Artist\"].unique())\n",
    "artist_ids"
   ]
  },
  {
   "cell_type": "code",
   "execution_count": 31,
   "id": "375a3858-7a00-486d-998f-d3c52af4b46e",
   "metadata": {},
   "outputs": [],
   "source": [
    "unique_artists = train_graph_df[\"Artist\"].unique()"
   ]
  },
  {
   "cell_type": "code",
   "execution_count": 32,
   "id": "9351acc0-a310-4850-9c07-77e62bb11d28",
   "metadata": {
    "scrolled": true
   },
   "outputs": [],
   "source": [
    "# Initialize the starting node ID for artists\n",
    "#reset this to 0! Important because PyG resets indices for each node type on initialization, and then my edge mapping will be wrong if it doesnt start from 0\n",
    "artist_node_id = 0\n",
    "\n",
    "# Dictionary to store node IDs for artists\n",
    "artist_nodes_dic = {}\n",
    "artist_nodes = []\n",
    "\n",
    "# Iterate over each artist and assign node IDs\n",
    "for artist in unique_artists:\n",
    "\n",
    "    artist_nodes_dic[artist] = artist_node_id\n",
    "    \n",
    "    artist_nodes.append(artist_node_id)\n",
    "    artist_node_id += 1\n",
    "\n"
   ]
  },
  {
   "cell_type": "code",
   "execution_count": null,
   "id": "cbc6b870-41a0-4234-83b0-886459aa5690",
   "metadata": {
    "scrolled": true
   },
   "outputs": [],
   "source": [
    "artist_nodes_dic"
   ]
  },
  {
   "cell_type": "code",
   "execution_count": 34,
   "id": "2e7556fc-d146-438d-8922-34efc8dac58d",
   "metadata": {},
   "outputs": [
    {
     "data": {
      "text/plain": [
       "28120"
      ]
     },
     "execution_count": 34,
     "metadata": {},
     "output_type": "execute_result"
    }
   ],
   "source": [
    "len(artist_nodes)"
   ]
  },
  {
   "cell_type": "markdown",
   "id": "9540285a-4272-4f1b-b701-e94b06dae079",
   "metadata": {},
   "source": [
    "## Edge Indices Setup"
   ]
  },
  {
   "cell_type": "markdown",
   "id": "6473ae01-8525-4883-9134-67130e63b01e",
   "metadata": {},
   "source": [
    "### User-Tracks Edges\n",
    "Collect Edge Information from User-Tracks"
   ]
  },
  {
   "cell_type": "markdown",
   "id": "64544c19-490a-45b9-a0b6-67d5efd3ec27",
   "metadata": {},
   "source": [
    "#### Reset Song_ID Index"
   ]
  },
  {
   "cell_type": "markdown",
   "id": "bf973e62-ba65-4429-9549-a14add1ee243",
   "metadata": {},
   "source": [
    "##### With edge attributes as List"
   ]
  },
  {
   "cell_type": "code",
   "execution_count": 35,
   "id": "9f5dec8b-2b68-4855-bfaf-e43ec9319749",
   "metadata": {},
   "outputs": [
    {
     "data": {
      "text/plain": [
       "3307"
      ]
     },
     "execution_count": 35,
     "metadata": {},
     "output_type": "execute_result"
    }
   ],
   "source": [
    "unique_user_ids = len(train_graph_df['User_ID'].unique())\n",
    "unique_user_ids"
   ]
  },
  {
   "cell_type": "markdown",
   "id": "0c05297f-3a0c-4295-b4fe-74a705178615",
   "metadata": {},
   "source": [
    "#### Create User-Track Edge Indices & Attributes"
   ]
  },
  {
   "cell_type": "code",
   "execution_count": 36,
   "id": "c3662828-bafc-4ace-9c66-5f1d4fc1ffea",
   "metadata": {
    "scrolled": true
   },
   "outputs": [],
   "source": [
    "def create_user_track_edge_index_and_attributes(graph_df):\n",
    "    \n",
    "    \"\"\"\n",
    "    Create edge index and attributes from a graph.\n",
    "\n",
    "    Args:\n",
    "    - graph as NetworkX Graph Object\n",
    "\n",
    "    Returns:\n",
    "    - user_song_edge_index (list): List of edges represented by node indices.\n",
    "    - user_song_edge_scrobbel_attributes (list): List of scrobble attributes for each edge.\n",
    "    \"\"\"\n",
    "\n",
    "    # Initialize index and dictionary\n",
    "    user_song_edge_index = []\n",
    "    user_song_edge_scrobbel_attributes = []\n",
    "    \n",
    "    for user_id, song_info in graph_df[[\"User_ID\", \"Song_ID\", \"Scrobbles\"]].groupby(\"User_ID\"):\n",
    "        \n",
    "        scrobbles_per_user_node = []\n",
    "        \n",
    "        song_ids = song_info['Song_ID']#.tolist()\n",
    "        scrobbles = song_info['Scrobbles']\n",
    "        #song_infos = song_info[['Song_ID', 'Scrobbles']]#\n",
    "        #print(song_infos)\n",
    "        #iterate over each song node and add its ID\n",
    "        for song_id in song_ids:\n",
    "            # get user and id information\n",
    "            #print(song_id)\n",
    "            user_id = user_id\n",
    "            song_id = song_id\n",
    "\n",
    "            ## for debudding wrong nodeID error which caused the problem in the LNH Sampler. 13 instead of 12\n",
    "            if song_id == 252013:\n",
    "                print(song_id, user_id)\n",
    "            \n",
    "            #store as edge tuple\n",
    "            current_edge_directed = [user_id, song_id]\n",
    "    \n",
    "            #append to edge list\n",
    "            user_song_edge_index.append(current_edge_directed)\n",
    "            \n",
    "        for scrobble in scrobbles:\n",
    "            # Extract edge attributes and append to list\n",
    "            scrobbles_per_song = scrobble\n",
    "            scrobbles_per_user_node.append(scrobbles_per_song)\n",
    "            \n",
    "        user_song_edge_scrobbel_attributes.extend(scrobbles_per_user_node)\n",
    "    return user_song_edge_index, user_song_edge_scrobbel_attributes\n",
    "        \n",
    "    \n"
   ]
  },
  {
   "cell_type": "code",
   "execution_count": 37,
   "id": "bc55c117-f394-4c6d-b2d0-c192b1913be7",
   "metadata": {},
   "outputs": [],
   "source": [
    "user_song_edge_index, user_song_edge_scrobbel_attributes = create_user_track_edge_index_and_attributes(train_graph_df)"
   ]
  },
  {
   "cell_type": "code",
   "execution_count": 38,
   "id": "87a67c38-02b0-4d0d-b6e9-a29da077c91c",
   "metadata": {},
   "outputs": [
    {
     "name": "stdout",
     "output_type": "stream",
     "text": [
      "2564907 2564907\n"
     ]
    }
   ],
   "source": [
    "print(len(user_song_edge_index), len(user_song_edge_scrobbel_attributes))"
   ]
  },
  {
   "cell_type": "code",
   "execution_count": 39,
   "id": "dc68597d-9515-4759-adf4-e892b2649865",
   "metadata": {
    "scrolled": true
   },
   "outputs": [
    {
     "data": {
      "text/plain": [
       "torch.Size([2564907])"
      ]
     },
     "execution_count": 39,
     "metadata": {},
     "output_type": "execute_result"
    }
   ],
   "source": [
    "# Convert the list of edge attributes to a tensor\n",
    "user_song_edge_attr_tensor = torch.tensor(user_song_edge_scrobbel_attributes, dtype=torch.long)\n",
    "user_song_edge_attr_tensor.t().size()"
   ]
  },
  {
   "cell_type": "code",
   "execution_count": 40,
   "id": "a04d0958-162a-4be7-ab80-18536dcc61a8",
   "metadata": {},
   "outputs": [
    {
     "data": {
      "text/plain": [
       "torch.Size([2, 2564907])"
      ]
     },
     "execution_count": 40,
     "metadata": {},
     "output_type": "execute_result"
    }
   ],
   "source": [
    "# Convert the list of edge index to a tensor\n",
    "user_song_edge_index = torch.tensor(user_song_edge_index , dtype=torch.long)\n",
    "user_song_edge_index.t().size()"
   ]
  },
  {
   "cell_type": "markdown",
   "id": "a8865437-5a54-4409-a4da-8c4e2906a336",
   "metadata": {},
   "source": [
    "### User User Edges\n",
    "Collect User User Edge Information"
   ]
  },
  {
   "cell_type": "markdown",
   "id": "05bb2c8d-4ddf-47c8-874b-c0b673c92e29",
   "metadata": {},
   "source": [
    "#### User User Edge Index"
   ]
  },
  {
   "cell_type": "code",
   "execution_count": 41,
   "id": "c97e9727-6259-4cb4-a08c-09348b73fec7",
   "metadata": {
    "scrolled": true
   },
   "outputs": [],
   "source": [
    "def create_user_user_edge_index(social_graph):\n",
    "    \"\"\"\n",
    "    Create edge index for user-user relationships in a social graph.\n",
    "\n",
    "    Args:\n",
    "    - social_graph: NetworkX Graph Object\n",
    "\n",
    "    Returns:\n",
    "    - user_user_edge_index (list): List of edges represented by node indices.\n",
    "     One way - Directed Only. (Will be made undirected withing PyG\n",
    "    \"\"\"\n",
    "    #initialize index\n",
    "    user_user_edge_index = []\n",
    "    \n",
    "    # Iterate over all user nodes\n",
    "    for user_node in range(3307):\n",
    "        #print(type(user_node))\n",
    "        #print(user_node)\n",
    "           \n",
    "        # iterate over all edges of each user node in the social graph\n",
    "        for key, value in social_graph[user_node].items():\n",
    "            ## add edges twice for undirection - Not necessary since this will be done in PyG\n",
    "            current_edge_directed = [user_node, key]\n",
    "            current_edge_undirected = [key, user_node]\n",
    "            user_user_edge_index.append(current_edge_directed)\n",
    "            #user_user_edge_index.append(current_edge_undirected)\n",
    "    return user_user_edge_index\n",
    "    \n",
    "user_user_edge_index = create_user_user_edge_index(social_graph)"
   ]
  },
  {
   "cell_type": "code",
   "execution_count": 42,
   "id": "ec20c6c3-e102-4fc6-9081-e16c557c9dda",
   "metadata": {},
   "outputs": [
    {
     "data": {
      "text/plain": [
       "torch.Size([2, 142919])"
      ]
     },
     "execution_count": 42,
     "metadata": {},
     "output_type": "execute_result"
    }
   ],
   "source": [
    "user_user_edge_index = torch.tensor(user_user_edge_index , dtype=torch.long)\n",
    "user_user_edge_index.t().size()"
   ]
  },
  {
   "cell_type": "markdown",
   "id": "da898482-23b3-49e1-b8b5-9df6df33a677",
   "metadata": {},
   "source": [
    "###  Artist-Track Edges"
   ]
  },
  {
   "cell_type": "markdown",
   "id": "254e7d21-8b5e-4aff-817c-883ced26cf76",
   "metadata": {},
   "source": [
    "#### Creating a Artist-Track Dictionary to feed into the edge Data"
   ]
  },
  {
   "cell_type": "code",
   "execution_count": null,
   "id": "4b231dd3-acc7-4279-a069-10fffab8dc57",
   "metadata": {
    "scrolled": true
   },
   "outputs": [],
   "source": [
    "artist_nodes_dic"
   ]
  },
  {
   "cell_type": "code",
   "execution_count": 44,
   "id": "a241b72b-7a12-4401-aa51-5e516a46961a",
   "metadata": {},
   "outputs": [
    {
     "data": {
      "text/html": [
       "<div>\n",
       "<style scoped>\n",
       "    .dataframe tbody tr th:only-of-type {\n",
       "        vertical-align: middle;\n",
       "    }\n",
       "\n",
       "    .dataframe tbody tr th {\n",
       "        vertical-align: top;\n",
       "    }\n",
       "\n",
       "    .dataframe thead th {\n",
       "        text-align: right;\n",
       "    }\n",
       "</style>\n",
       "<table border=\"1\" class=\"dataframe\">\n",
       "  <thead>\n",
       "    <tr style=\"text-align: right;\">\n",
       "      <th></th>\n",
       "      <th>Artist</th>\n",
       "      <th>Song_ID</th>\n",
       "      <th>Song_Name</th>\n",
       "    </tr>\n",
       "  </thead>\n",
       "  <tbody>\n",
       "    <tr>\n",
       "      <th>0</th>\n",
       "      <td>Boniface</td>\n",
       "      <td>2928</td>\n",
       "      <td>Making Peace With Suburbia</td>\n",
       "    </tr>\n",
       "    <tr>\n",
       "      <th>1</th>\n",
       "      <td>Boniface</td>\n",
       "      <td>3039</td>\n",
       "      <td>Stay Home</td>\n",
       "    </tr>\n",
       "    <tr>\n",
       "      <th>2</th>\n",
       "      <td>Boniface</td>\n",
       "      <td>3153</td>\n",
       "      <td>It's A Joke</td>\n",
       "    </tr>\n",
       "    <tr>\n",
       "      <th>3</th>\n",
       "      <td>Boniface</td>\n",
       "      <td>3040</td>\n",
       "      <td>Wake Me Back Up</td>\n",
       "    </tr>\n",
       "    <tr>\n",
       "      <th>4</th>\n",
       "      <td>Boniface</td>\n",
       "      <td>2810</td>\n",
       "      <td>Ghosts</td>\n",
       "    </tr>\n",
       "    <tr>\n",
       "      <th>...</th>\n",
       "      <td>...</td>\n",
       "      <td>...</td>\n",
       "      <td>...</td>\n",
       "    </tr>\n",
       "    <tr>\n",
       "      <th>2564902</th>\n",
       "      <td>Killswitch Engage</td>\n",
       "      <td>219446</td>\n",
       "      <td>Never Again</td>\n",
       "    </tr>\n",
       "    <tr>\n",
       "      <th>2564903</th>\n",
       "      <td>Kings of Leon</td>\n",
       "      <td>5193</td>\n",
       "      <td>The Runner</td>\n",
       "    </tr>\n",
       "    <tr>\n",
       "      <th>2564904</th>\n",
       "      <td>Kings of Leon</td>\n",
       "      <td>508</td>\n",
       "      <td>Use Somebody</td>\n",
       "    </tr>\n",
       "    <tr>\n",
       "      <th>2564905</th>\n",
       "      <td>Kiss</td>\n",
       "      <td>8884</td>\n",
       "      <td>Love Gun</td>\n",
       "    </tr>\n",
       "    <tr>\n",
       "      <th>2564906</th>\n",
       "      <td>Kittie</td>\n",
       "      <td>170124</td>\n",
       "      <td>Charlotte</td>\n",
       "    </tr>\n",
       "  </tbody>\n",
       "</table>\n",
       "<p>2564907 rows × 3 columns</p>\n",
       "</div>"
      ],
      "text/plain": [
       "                    Artist  Song_ID                   Song_Name\n",
       "0                 Boniface     2928  Making Peace With Suburbia\n",
       "1                 Boniface     3039                   Stay Home\n",
       "2                 Boniface     3153                 It's A Joke\n",
       "3                 Boniface     3040             Wake Me Back Up\n",
       "4                 Boniface     2810                      Ghosts\n",
       "...                    ...      ...                         ...\n",
       "2564902  Killswitch Engage   219446                 Never Again\n",
       "2564903      Kings of Leon     5193                  The Runner\n",
       "2564904      Kings of Leon      508                Use Somebody\n",
       "2564905               Kiss     8884                    Love Gun\n",
       "2564906             Kittie   170124                   Charlotte\n",
       "\n",
       "[2564907 rows x 3 columns]"
      ]
     },
     "execution_count": 44,
     "metadata": {},
     "output_type": "execute_result"
    }
   ],
   "source": [
    "train_graph_df[[\"Artist\",\"Song_ID\",\"Song_Name\"]]"
   ]
  },
  {
   "cell_type": "code",
   "execution_count": 45,
   "id": "dc121d2f-dd0f-44db-87d4-ff95a2c39459",
   "metadata": {},
   "outputs": [],
   "source": [
    "def artist_to_song(df):\n",
    "    # Initialize an empty dictionary to store the mapping of artists to songs\n",
    "    artist_to_songs = {}\n",
    "    \n",
    "    # Iterate through the DataFrame rows\n",
    "    for index, row in df.iterrows():\n",
    "        artist = row['Artist']\n",
    "        song_name = row['Song_Name']\n",
    "        song_id = row['Song_ID']\n",
    "        \n",
    "        # Check if the artist is already in the dictionary\n",
    "        if artist in artist_to_songs:\n",
    "            # Add the song to the nested dictionary\n",
    "            artist_to_songs[artist][song_id] = song_name\n",
    "        else:\n",
    "            # Create a new nested dictionary with the song and add it to the dictionary\n",
    "            artist_to_songs[artist] = {song_id: song_name}\n",
    "\n",
    "\n",
    "    return artist_to_songs"
   ]
  },
  {
   "cell_type": "code",
   "execution_count": 46,
   "id": "b1435d65-96b8-436e-81a8-f227e632f96f",
   "metadata": {
    "scrolled": true
   },
   "outputs": [],
   "source": [
    "artist_to_songs_dic = artist_to_song(train_graph_df)\n"
   ]
  },
  {
   "cell_type": "code",
   "execution_count": null,
   "id": "b7872c70-a36b-4bcc-b0ca-6fbdd357d462",
   "metadata": {
    "scrolled": true
   },
   "outputs": [],
   "source": [
    "artist_to_songs_dic"
   ]
  },
  {
   "cell_type": "code",
   "execution_count": 48,
   "id": "8cf920aa-9a0f-47eb-bfb3-6213a4b74c94",
   "metadata": {
    "scrolled": true
   },
   "outputs": [],
   "source": [
    "def create_song_artist_edge_index(artist_tracks_mapping_dic):\n",
    "    # init artist and songs dict from mapping df\n",
    "    #artist_tracks_mapping_dic = dict(zip(artist_tracks_mapping['Artist'], artist_tracks_mapping['Song_ID']))\n",
    "    \n",
    "    # Initialize variables to store edge index and attributes\n",
    "    artist_song_edge_index = []\n",
    "\n",
    "     \n",
    "    # Iterate over each artist and their songs\n",
    "    for artist, songs in artist_tracks_mapping_dic.items():\n",
    "        # Get the node ID of the current artist\n",
    "        artist_node_id = artist_nodes_dic[artist]\n",
    "        \n",
    "        #print(artist, songs)\n",
    "        #print(artist)\n",
    "        #print(songs)\n",
    "        \n",
    "        # Iterate over each song and its node ID\n",
    "        for song_node_id, song_name  in songs.items():\n",
    "            \n",
    "            # Create directed edges from artist to song\n",
    "            #print(artist, song_node_id)\n",
    "            #print(artist, song_node_id, song_name)\n",
    "            artist_song_edge_index.append([artist_node_id, song_node_id])#, song_name, artist])\n",
    "            \n",
    "            # Optional: Create directed edges from song to artist\n",
    "            #artist_song_edge_index.append([song_node_id, artist_node_id])\n",
    "    return artist_song_edge_index\n",
    "            \n",
    "artist_song_edge_index = create_song_artist_edge_index(artist_to_songs_dic)\n",
    "#artist_song_edge_index"
   ]
  },
  {
   "cell_type": "code",
   "execution_count": 49,
   "id": "8ef68fa2-3a93-43c7-9633-dba329ed10aa",
   "metadata": {},
   "outputs": [
    {
     "data": {
      "text/plain": [
       "torch.Size([2, 252013])"
      ]
     },
     "execution_count": 49,
     "metadata": {},
     "output_type": "execute_result"
    }
   ],
   "source": [
    "artist_song_edge_index = torch.tensor(artist_song_edge_index , dtype=torch.long)\n",
    "artist_song_edge_index.t().size()"
   ]
  },
  {
   "cell_type": "code",
   "execution_count": 50,
   "id": "7ec1c768-2d65-42e7-83b5-dfcd183a6dc6",
   "metadata": {},
   "outputs": [
    {
     "data": {
      "text/plain": [
       "tensor([[     0,   2928],\n",
       "        [     0,   3039],\n",
       "        [     0,   3153],\n",
       "        ...,\n",
       "        [ 28117, 117102],\n",
       "        [ 28118, 115993],\n",
       "        [ 28119,  98291]])"
      ]
     },
     "execution_count": 50,
     "metadata": {},
     "output_type": "execute_result"
    }
   ],
   "source": [
    "artist_song_edge_index"
   ]
  },
  {
   "cell_type": "markdown",
   "id": "9b7c8529-68bd-4e8d-a195-f7e61850c60b",
   "metadata": {},
   "source": [
    "## Check All Edges\n",
    "Edges are undirected:"
   ]
  },
  {
   "cell_type": "code",
   "execution_count": 51,
   "id": "7df23b38-3504-4980-a442-44b7621b2408",
   "metadata": {},
   "outputs": [
    {
     "name": "stdout",
     "output_type": "stream",
     "text": [
      "2564907\n",
      "142919\n",
      "252013\n"
     ]
    }
   ],
   "source": [
    "print(len(user_song_edge_index))\n",
    "print(len(user_user_edge_index))\n",
    "print(len(artist_song_edge_index))"
   ]
  },
  {
   "cell_type": "code",
   "execution_count": 52,
   "id": "2919b459-ca10-47d2-8d3d-49141a5c1a84",
   "metadata": {},
   "outputs": [
    {
     "name": "stdout",
     "output_type": "stream",
     "text": [
      "The Edge tensor([[     0,   2928],\n",
      "        [     0,   3039],\n",
      "        [     0,   3153],\n",
      "        ...,\n",
      "        [  3306,    508],\n",
      "        [  3306,   8884],\n",
      "        [  3306, 170124]]) is undirected: False.\n",
      "The Edge tensor([[   0,  763],\n",
      "        [   0, 1435],\n",
      "        [   0,  122],\n",
      "        ...,\n",
      "        [3306,  326],\n",
      "        [3306,  926],\n",
      "        [3306,  700]]) is undirected: False.\n",
      "The Edge tensor([[     0,   2928],\n",
      "        [     0,   3039],\n",
      "        [     0,   3153],\n",
      "        ...,\n",
      "        [ 28117, 117102],\n",
      "        [ 28118, 115993],\n",
      "        [ 28119,  98291]]) is undirected: False.\n"
     ]
    }
   ],
   "source": [
    "print(f\"The Edge {user_song_edge_index} is undirected: {is_undirected(user_song_edge_index)}.\")\n",
    "print(f\"The Edge {user_user_edge_index} is undirected: {is_undirected(user_user_edge_index)}.\")\n",
    "print(f\"The Edge {artist_song_edge_index} is undirected: {is_undirected(artist_song_edge_index)}.\")"
   ]
  },
  {
   "cell_type": "markdown",
   "id": "50d36d9c",
   "metadata": {},
   "source": [
    "# Traing Graph\n",
    "## Prepare Data \n",
    "For Graph Creation. Full Graph needs information like Song Tags and Audio features, which are not present in base graph\n",
    "Could also be called \"Rich\" Graph"
   ]
  },
  {
   "cell_type": "markdown",
   "id": "76ac2fab",
   "metadata": {},
   "source": [
    "## load tags and audio features"
   ]
  },
  {
   "cell_type": "markdown",
   "id": "ee48919b",
   "metadata": {},
   "source": [
    "## Clean Audio df from missing ID"
   ]
  },
  {
   "cell_type": "code",
   "execution_count": 53,
   "id": "b1ab68bd",
   "metadata": {},
   "outputs": [],
   "source": [
    "# Load Track Tag\n",
    "audio_df = pd.read_csv('data/final_audio_df.csv')\n",
    "train_graph_df = pd.read_csv('data/train_graph_df_clean.csv')\n"
   ]
  },
  {
   "cell_type": "code",
   "execution_count": 54,
   "id": "ea2ab31c",
   "metadata": {},
   "outputs": [
    {
     "name": "stdout",
     "output_type": "stream",
     "text": [
      "Missing Song_IDs in audio_df: {68691}\n",
      "Missing Song_IDs in train_graph_df: set()\n",
      "Removing missing Song_IDs from audio_df and resetting its other IDS starting from 0, so they are consecutive...\n",
      "Missing Song_IDs in audio_df: set()\n",
      "Missing Song_IDs in train_graph_df: set()\n",
      "Number of unique Song_IDs in audio_df: 252013\n",
      "Number of unique Song_IDs in train_graph_df: 252013\n"
     ]
    }
   ],
   "source": [
    "# Check if any Song_ID is missing in audio_df\n",
    "audio_missing_ids = set(range(audio_df['Song_ID'].min(), audio_df['Song_ID'].max() + 1)) - set(audio_df['Song_ID'])\n",
    "print(f\"Missing Song_IDs in audio_df: {audio_missing_ids}\")\n",
    "\n",
    "# Check if any Song_ID is missing in train_graph_df\n",
    "train_graph_missing_ids = set(range(train_graph_df['Song_ID'].min(), train_graph_df['Song_ID'].max() + 1)) - set(train_graph_df['Song_ID'])\n",
    "print(f\"Missing Song_IDs in train_graph_df: {train_graph_missing_ids}\")\n",
    "\n",
    "# Remove the missing Song_IDs from audio_df and reset its other IDS starting from 0, so they are consecutive\n",
    "print(\"Removing missing Song_IDs from audio_df and resetting its other IDS starting from 0, so they are consecutive...\")\n",
    "audio_df = audio_df.sort_values('Song_ID').reset_index(drop=True)\n",
    "audio_df['Song_ID'] = range(len(audio_df))\n",
    "\n",
    "# Check if any Song_ID is missing in audio_df after resetting\n",
    "audio_missing_ids = set(range(audio_df['Song_ID'].min(), audio_df['Song_ID'].max() + 1)) - set(audio_df['Song_ID'])\n",
    "print(f\"Missing Song_IDs in audio_df: {audio_missing_ids}\")\n",
    "\n",
    "# Check if any Song_ID is missing in train_graph_df after resetting\n",
    "train_graph_missing_ids = set(range(train_graph_df['Song_ID'].min(), train_graph_df['Song_ID'].max() + 1)) - set(train_graph_df['Song_ID'])\n",
    "print(f\"Missing Song_IDs in train_graph_df: {train_graph_missing_ids}\")\n",
    "\n",
    "# Print the number of unique Song_IDs in both dfs\n",
    "print(f\"Number of unique Song_IDs in audio_df: {audio_df['Song_ID'].nunique()}\")\n",
    "print(f\"Number of unique Song_IDs in train_graph_df: {train_graph_df['Song_ID'].nunique()}\")\n"
   ]
  },
  {
   "cell_type": "markdown",
   "id": "13009319",
   "metadata": {},
   "source": [
    "## Process Tags\n",
    "Remove NaN tags, and make a dict that assigns the tags correctly to their according SongIDs Songs\n"
   ]
  },
  {
   "cell_type": "code",
   "execution_count": 55,
   "id": "b9d2d92f",
   "metadata": {},
   "outputs": [],
   "source": [
    "# show all values were tags are nan in \"Song Tags\"\n",
    "audio_df[audio_df['Song_Tags'].isnull()]\n",
    "\n",
    "# convert these values to a string with \"Unknown\"\n",
    "audio_df.loc[audio_df['Song_Tags'].isnull(), 'Song_Tags'] = 'Unknown'"
   ]
  },
  {
   "cell_type": "code",
   "execution_count": 56,
   "id": "a1f925f2",
   "metadata": {},
   "outputs": [
    {
     "name": "stdout",
     "output_type": "stream",
     "text": [
      "Number of unique tags: 29103\n"
     ]
    }
   ],
   "source": [
    "# Sort the DataFrame by Song_ID in ascending order\n",
    "audio_df = audio_df.sort_values(by='Song_ID', ascending=True)\n",
    "\n",
    "# Replace \"None\" with a special token\n",
    "audio_df['Song_Tags'] = audio_df['Song_Tags'].str.replace('None', 'unknown')\n",
    "\n",
    "# Ensure all entries in 'Song_Tags' are strings\n",
    "audio_df['Song_Tags'] = audio_df['Song_Tags'].astype(str)\n",
    "\n",
    "# Extract and process tags\n",
    "tags = audio_df['Song_Tags'].str.split(',')\n",
    "\n",
    "# Flatten the list of tags and count unique tags\n",
    "all_tags = [tag for sublist in tags for tag in sublist]\n",
    "unique_tags = set(all_tags)\n",
    "print(f\"Number of unique tags: {len(unique_tags)}\")"
   ]
  },
  {
   "cell_type": "code",
   "execution_count": 57,
   "id": "1a7455b9",
   "metadata": {},
   "outputs": [],
   "source": [
    "from sklearn.preprocessing import LabelEncoder\n",
    "\n",
    "audio_df = audio_df.sort_values(by='Song_ID', ascending=True)\n",
    "\n",
    "# Extract and process tags\n",
    "tags = audio_df['Song_Tags'].str.split(',')\n",
    "\n",
    "# Flatten the list of tags and create a mapping from tags to indices\n",
    "all_tags = [tag for sublist in tags for tag in sublist]\n",
    "label_encoder = LabelEncoder()\n",
    "label_encoder.fit(all_tags)\n",
    "tag_to_index = {tag: idx for idx, tag in enumerate(label_encoder.classes_)}"
   ]
  },
  {
   "cell_type": "code",
   "execution_count": 58,
   "id": "d68f9ed6",
   "metadata": {},
   "outputs": [],
   "source": [
    "# Convert tags to indices\n",
    "tags_indices = tags.apply(lambda x: [tag_to_index[tag] for tag in x])\n",
    "\n",
    "# Pad the sequences to ensure they have the same length\n",
    "from torch.nn.utils.rnn import pad_sequence\n",
    "\n",
    "tags_indices_padded = pad_sequence([torch.tensor(t) for t in tags_indices], batch_first=True, padding_value=-1)"
   ]
  },
  {
   "cell_type": "code",
   "execution_count": 59,
   "id": "b711e373",
   "metadata": {},
   "outputs": [],
   "source": [
    "tags_indices_tensor = tags_indices_padded"
   ]
  },
  {
   "cell_type": "code",
   "execution_count": 60,
   "id": "5fe547ff",
   "metadata": {},
   "outputs": [
    {
     "data": {
      "text/plain": [
       "torch.Size([252013, 3])"
      ]
     },
     "execution_count": 60,
     "metadata": {},
     "output_type": "execute_result"
    }
   ],
   "source": [
    "tags_indices_tensor.shape"
   ]
  },
  {
   "cell_type": "code",
   "execution_count": 61,
   "id": "2215a6a2",
   "metadata": {},
   "outputs": [],
   "source": [
    "from collections import Counter\n",
    "\n",
    "# Create a dictionary to store tags for each artist\n",
    "artist_tags = {}\n",
    "\n",
    "# Iterate over each song and its tags, ensuring Song_ID ascending order is kept\n",
    "for idx, row in audio_df.sort_values(by='Song_ID', ascending=True).iterrows():\n",
    "    artist = row['Artist']\n",
    "    song_tags = row['Song_Tags'].split(',')\n",
    "    \n",
    "    if artist not in artist_tags:\n",
    "        artist_tags[artist] = []\n",
    "    \n",
    "    artist_tags[artist].extend(song_tags)\n",
    "\n",
    "# For each artist, find the top 3 most common tags\n",
    "artist_top_tags = {}\n",
    "for artist, tags in artist_tags.items():\n",
    "    most_common_tags = [tag for tag, count in Counter(tags).most_common(3)]\n",
    "    artist_top_tags[artist] = most_common_tags\n",
    "\n",
    "# Convert artist tags to indices\n",
    "artist_tags_indices = {artist: [tag_to_index[tag] for tag in tags] for artist, tags in artist_top_tags.items()}\n",
    "\n",
    "# Create a tensor for artist tags, padding sequences to ensure they have the same length\n",
    "artist_tags_indices_padded = pad_sequence([torch.tensor(tags) for tags in artist_tags_indices.values()], batch_first=True, padding_value=-1)\n",
    "\n",
    "# Convert to tensor\n",
    "artist_tags_tensor = artist_tags_indices_padded\n"
   ]
  },
  {
   "cell_type": "code",
   "execution_count": 62,
   "id": "e34864a2",
   "metadata": {},
   "outputs": [
    {
     "data": {
      "text/plain": [
       "torch.Size([28120, 3])"
      ]
     },
     "execution_count": 62,
     "metadata": {},
     "output_type": "execute_result"
    }
   ],
   "source": [
    "artist_tags_tensor.shape"
   ]
  },
  {
   "cell_type": "code",
   "execution_count": 63,
   "id": "3a7e7e26",
   "metadata": {},
   "outputs": [],
   "source": [
    "import torch\n",
    "import torch.nn as nn\n",
    "import torch.nn.functional as F\n",
    "from torch_geometric.nn import GCNConv, to_hetero\n",
    "from torch_geometric.data import HeteroData\n",
    "\n",
    "# Convert to torch tensors\n",
    "audio_features_tensor = torch.tensor(audio_df.iloc[:, 5:16].values, dtype=torch.float)\n",
    "tags_indices_tensor = tags_indices_padded"
   ]
  },
  {
   "cell_type": "code",
   "execution_count": 64,
   "id": "4fb1ce33",
   "metadata": {},
   "outputs": [
    {
     "data": {
      "text/plain": [
       "(torch.Size([252013, 11]), torch.Size([252013, 3]))"
      ]
     },
     "execution_count": 64,
     "metadata": {},
     "output_type": "execute_result"
    }
   ],
   "source": [
    "audio_features_tensor.shape, tags_indices_tensor.shape"
   ]
  },
  {
   "cell_type": "markdown",
   "id": "d2673b0e",
   "metadata": {},
   "source": [
    "# Create Training Graph\n",
    "Including Audio features and  Track Tags Data"
   ]
  },
  {
   "cell_type": "code",
   "execution_count": 65,
   "id": "b8821a89",
   "metadata": {},
   "outputs": [],
   "source": [
    "from torch_geometric.data import HeteroData\n",
    "import torch_geometric.transforms as T"
   ]
  },
  {
   "cell_type": "code",
   "execution_count": 66,
   "id": "68254c1b",
   "metadata": {},
   "outputs": [],
   "source": [
    "# Create HeteroData object\n",
    "data = HeteroData()\n",
    "\n",
    "\n",
    "################### NODES ###################\n",
    "\n",
    "# Save node indices:\n",
    "data[\"users\"].node_id = torch.arange(user_ids)\n",
    "data[\"songs\"].node_id = torch.arange(song_ids)\n",
    "data[\"artists\"].node_id = torch.arange(artist_ids)\n",
    "\n",
    "# Add song nodes with audio and tag features\n",
    "data['songs'].x_audio = audio_features_tensor\n",
    "data['songs'].x_tag = tags_indices_tensor\n",
    "\n",
    "# Add artist nodes with tag features\n",
    "data['artists'].x_tag = artist_tags_tensor\n",
    "\n",
    "\n",
    "################### EDGES ###################\n",
    "\n",
    "# Add Edge Indices and Edge Attributes\n",
    "data['users', 'listens_to', 'songs'].edge_index = user_song_edge_index.t().contiguous()\n",
    "data['users', 'is_friends_with', 'users'].edge_index = user_user_edge_index.t().contiguous()\n",
    "data['artists', 'makes', 'songs'].edge_index = artist_song_edge_index.t().contiguous()\n",
    "\n",
    "# Add Edge Attributes\n",
    "data['users', 'listens_to', 'songs'].edge_attr = user_song_edge_attr_tensor\n",
    "\n",
    "# enable undirected edges for message passing\n",
    "data = T.ToUndirected(merge = False)(data)\n"
   ]
  },
  {
   "cell_type": "code",
   "execution_count": 67,
   "id": "aa626b28",
   "metadata": {},
   "outputs": [
    {
     "name": "stdout",
     "output_type": "stream",
     "text": [
      "========================Nodes==============================\n",
      "Number of total nodes: 283440\n",
      "Number of user nodes: 3307\n",
      "Number of song nodes: 252013\n",
      "Number of artist nodes: 28120\n",
      "========================Edges==============================\n",
      "Number of total edges: 5919678\n",
      "Number of Listening edges: 2564907\n",
      "Number of Friends edges: 142919\n",
      "Number of Artist Makes Songs edges: 252013\n",
      "========================Reverse_Edges==============================\n",
      "Number of total edges: 5919678\n",
      "Number of Listening edges: 2564907\n",
      "Number of Friends edges: 142919\n",
      "Number of Artist Makes Songs edges: 252013\n",
      "========================Degree==============================\n",
      "Average node degree: 20.89\n",
      "Has isolated nodes: False\n",
      "Has self-loops: False\n",
      "========================Directed==============================\n",
      "Is undirected: True\n"
     ]
    }
   ],
   "source": [
    "print('========================Nodes==============================')\n",
    "\n",
    "# Gather some statistics about the graph.\n",
    "print(f'Number of total nodes: {data.num_nodes}')\n",
    "print(f'Number of user nodes: {data['users'].num_nodes}')\n",
    "print(f'Number of song nodes: {data['songs'].num_nodes}')\n",
    "print(f'Number of artist nodes: {data['artists'].num_nodes}')\n",
    "\n",
    "print('========================Edges==============================')\n",
    "\n",
    "\n",
    "print(f'Number of total edges: {data.num_edges}')\n",
    "print(f'Number of Listening edges: {data['rev_listens_to'].num_edges}')\n",
    "print(f'Number of Friends edges: {data['rev_is_friends_with'].num_edges}')\n",
    "print(f'Number of Artist Makes Songs edges: {data['rev_makes'].num_edges}')\n",
    "\n",
    "print('========================Reverse_Edges==============================')\n",
    "\n",
    "\n",
    "print(f'Number of total edges: {data.num_edges}')\n",
    "print(f'Number of Listening edges: {data['listens_to'].num_edges}')\n",
    "print(f'Number of Friends edges: {data['is_friends_with'].num_edges}')\n",
    "print(f'Number of Artist Makes Songs edges: {data['makes'].num_edges}')\n",
    "\n",
    "print('========================Degree==============================')\n",
    "\n",
    "\n",
    "print(f'Average node degree: {data.num_edges / data.num_nodes:.2f}')\n",
    "print(f'Has isolated nodes: {data.has_isolated_nodes()}')\n",
    "print(f'Has self-loops: {data.has_self_loops()}')\n",
    "\n",
    "print('========================Directed==============================')\n",
    "\n",
    "\n",
    "print(f'Is undirected: {data.is_undirected()}')"
   ]
  },
  {
   "cell_type": "code",
   "execution_count": 68,
   "id": "a152d5a9",
   "metadata": {},
   "outputs": [],
   "source": [
    "import os\n",
    "\n",
    "# Check if the file exists\n",
    "file_path = 'data/pyg_data/train_hetero_data_3_nodes_rich.pt'\n",
    "if not os.path.exists(file_path):\n",
    "    # Save your HeteroData object if the file does not exist\n",
    "    torch.save(data, file_path)\n",
    "else:\n",
    "    # Load the HeteroData object if the file exists\n",
    "    data = torch.load(file_path)"
   ]
  },
  {
   "cell_type": "markdown",
   "id": "7718e706",
   "metadata": {},
   "source": [
    "# Co-Listening Graph 2 Nodes\n",
    "For structural and content-based embeddings / community creation"
   ]
  },
  {
   "cell_type": "code",
   "execution_count": 70,
   "id": "689a797a",
   "metadata": {},
   "outputs": [],
   "source": [
    "# Create HeteroData object\n",
    "data = HeteroData()\n",
    "\n",
    "\n",
    "################### NODES ###################\n",
    "data[\"users\"].node_id = torch.arange(user_ids)\n",
    "data[\"songs\"].node_id = torch.arange(song_ids)\n",
    "\n",
    "################### EDGES ###################\n",
    "\n",
    "# Add Edge Indices and Edge Attributes\n",
    "data['users', 'listens_to', 'songs'].edge_index = user_song_edge_index.t().contiguous()\n",
    "data['users', 'is_friends_with', 'users'].edge_index = user_user_edge_index.t().contiguous()\n",
    "\n",
    "# enable undirected edges for message passing\n",
    "data = T.ToUndirected(merge = False)(data)\n"
   ]
  },
  {
   "cell_type": "code",
   "execution_count": 71,
   "id": "8e0fd95e",
   "metadata": {},
   "outputs": [
    {
     "name": "stdout",
     "output_type": "stream",
     "text": [
      "Saving HeteroData object to file...\n",
      "HeteroData object saved.\n"
     ]
    }
   ],
   "source": [
    "file_path = 'data/pyg_data/train_hetero_data_2_nodes_co.pt'\n",
    "if not os.path.exists(file_path):\n",
    "    print('Saving HeteroData object to file...')\n",
    "    torch.save(data, file_path)\n",
    "    print('HeteroData object saved.')\n",
    "else:\n",
    "    print('Loading HeteroData object from file...')\n",
    "    data = torch.load(file_path)\n",
    "    print('HeteroData object loaded.')\n",
    "\n"
   ]
  },
  {
   "cell_type": "markdown",
   "id": "84ea6315",
   "metadata": {},
   "source": [
    "# Base Graph 3 Nodes - Shallow:\n",
    "Build Graph - 3 Node Graph\n",
    "\n",
    "\n",
    "This graph has no information on node features = missing: audio features, tags and Artist Tags. \n",
    "\n",
    "Is for debugging and Plotting Purposes only. Data not needed from this point on."
   ]
  },
  {
   "cell_type": "code",
   "execution_count": null,
   "id": "73d47520",
   "metadata": {},
   "outputs": [],
   "source": [
    "from torch_geometric.data import HeteroData\n",
    "import torch_geometric.transforms as T\n",
    "\n",
    "data = HeteroData()\n",
    "\n",
    "# Save node indices:\n",
    "data[\"users\"].node_id = torch.arange(user_ids)\n",
    "data[\"songs\"].node_id = torch.arange(song_ids)\n",
    "data[\"artists\"].node_id = torch.arange(artist_ids)\n",
    "\n",
    "# Add Edge Indices and Edge Attributes\n",
    "# IT seems Like I will have to input ALL edges here as some kind of torch object as in tutorial 9\n",
    "data['users', 'listens_to', 'songs'].edge_index = user_song_edge_index.t().contiguous()\n",
    "data['users', 'is_friends_with', 'users'].edge_index = user_user_edge_index.t().contiguous()\n",
    "data['artists', 'makes', 'songs'].edge_index = artist_song_edge_index.t().contiguous()\n",
    "\n",
    "# Correcting the edge attribute assignment\n",
    "data['users', 'listens_to', 'songs'].edge_attr = user_song_edge_attr_tensor\n",
    "#data['users', 'listens_to', 'songs'].edge_attr  =\n",
    "#data['users', 'listens_to', 'songs'].edge_attr  = [5, 1]\n",
    "#data['users', 'is_friends_with', 'users'].edge_attr  = ... # [2, num_edges_cites]\n",
    "#data['artists', 'makes', 'songs'].edge_attr  = ... # [2, num_edges_cites]\n",
    "\n",
    "# enable undirected edges for message passing\n",
    "data = T.ToUndirected(merge = False)(data)"
   ]
  },
  {
   "cell_type": "markdown",
   "id": "a644c87b",
   "metadata": {},
   "source": [
    "#### Graph Inspection"
   ]
  },
  {
   "cell_type": "code",
   "execution_count": null,
   "id": "aba63f3a",
   "metadata": {},
   "outputs": [
    {
     "name": "stdout",
     "output_type": "stream",
     "text": [
      "========================Nodes==============================\n",
      "Number of total nodes: 283440\n",
      "Number of user nodes: 3307\n",
      "Number of song nodes: 252013\n",
      "Number of artist nodes: 28120\n",
      "========================Edges==============================\n",
      "Number of total edges: 5919678\n",
      "Number of Listening edges: 2564907\n",
      "Number of Friends edges: 142919\n",
      "Number of Artist Makes Songs edges: 252013\n",
      "========================Reverse_Edges==============================\n",
      "Number of total edges: 5919678\n",
      "Number of Listening edges: 2564907\n",
      "Number of Friends edges: 142919\n",
      "Number of Artist Makes Songs edges: 252013\n",
      "========================Degree==============================\n",
      "Average node degree: 20.89\n",
      "Has isolated nodes: False\n",
      "Has self-loops: False\n",
      "========================Directed==============================\n",
      "Is undirected: True\n"
     ]
    }
   ],
   "source": [
    "print('========================Nodes==============================')\n",
    "\n",
    "# Gather some statistics about the graph.\n",
    "print(f'Number of total nodes: {data.num_nodes}')\n",
    "print(f'Number of user nodes: {data['users'].num_nodes}')\n",
    "print(f'Number of song nodes: {data['songs'].num_nodes}')\n",
    "print(f'Number of artist nodes: {data['artists'].num_nodes}')\n",
    "\n",
    "print('========================Edges==============================')\n",
    "\n",
    "\n",
    "print(f'Number of total edges: {data.num_edges}')\n",
    "print(f'Number of Listening edges: {data['rev_listens_to'].num_edges}')\n",
    "print(f'Number of Friends edges: {data['rev_is_friends_with'].num_edges}')\n",
    "print(f'Number of Artist Makes Songs edges: {data['rev_makes'].num_edges}')\n",
    "\n",
    "print('========================Reverse_Edges==============================')\n",
    "\n",
    "\n",
    "print(f'Number of total edges: {data.num_edges}')\n",
    "print(f'Number of Listening edges: {data['listens_to'].num_edges}')\n",
    "print(f'Number of Friends edges: {data['is_friends_with'].num_edges}')\n",
    "print(f'Number of Artist Makes Songs edges: {data['makes'].num_edges}')\n",
    "\n",
    "print('========================Degree==============================')\n",
    "\n",
    "\n",
    "print(f'Average node degree: {data.num_edges / data.num_nodes:.2f}')\n",
    "print(f'Has isolated nodes: {data.has_isolated_nodes()}')\n",
    "print(f'Has self-loops: {data.has_self_loops()}')\n",
    "\n",
    "print('========================Directed==============================')\n",
    "\n",
    "\n",
    "print(f'Is undirected: {data.is_undirected()}')"
   ]
  },
  {
   "cell_type": "markdown",
   "id": "0d71a2a8",
   "metadata": {},
   "source": [
    "#### Sub Graph Selection"
   ]
  },
  {
   "cell_type": "code",
   "execution_count": null,
   "id": "d25a0e8a",
   "metadata": {},
   "outputs": [],
   "source": [
    "# Create Dummy Nodes Features so NetworkX can use them as node attributes\n",
    "import torch\n",
    "\n",
    "# Create dummy node features for each node type\n",
    "num_users = data['users'].num_nodes\n",
    "num_songs = data['songs'].num_nodes\n",
    "num_artists = data['artists'].num_nodes\n",
    "\n",
    "user_features = torch.full((num_users, 1),1)\n",
    "song_features = torch.full((num_songs, 1), 2)\n",
    "artist_features = torch.full((num_artists, 1), 3)\n",
    "\n",
    "# Assign the dummy features to the PyG HeteroData object\n",
    "data['users'].x = user_features\n",
    "data['songs'].x = song_features\n",
    "data['artists'].x = artist_features"
   ]
  },
  {
   "cell_type": "code",
   "execution_count": null,
   "id": "86bc2082",
   "metadata": {},
   "outputs": [],
   "source": [
    "nx_graph = to_networkx(data)"
   ]
  },
  {
   "cell_type": "code",
   "execution_count": null,
   "id": "92f4411a",
   "metadata": {},
   "outputs": [
    {
     "data": {
      "text/plain": [
       "283440"
      ]
     },
     "execution_count": 87,
     "metadata": {},
     "output_type": "execute_result"
    }
   ],
   "source": [
    "len(nx_graph.nodes)"
   ]
  },
  {
   "cell_type": "code",
   "execution_count": null,
   "id": "7a77c31a",
   "metadata": {},
   "outputs": [],
   "source": [
    "import random\n",
    "import networkx as nx\n",
    "from torch_geometric.utils import to_networkx\n",
    "\n",
    "# Convert PyG graph to NetworkX graph\n",
    "#nx_graph = to_networkx(data)\n",
    "\n",
    "# Initialize an empty list to store the selected nodes\n",
    "selected_nodes = []\n",
    "\n",
    "# Get the set of unique node types\n",
    "node_types = set(nx.get_node_attributes(nx_graph, 'type').values())\n",
    "\n",
    "# Select a random subset of nodes for each node type\n",
    "for node_type in node_types:\n",
    "    type_nodes = [n for n, d in nx_graph.nodes(data=True) if d['type'] == node_type]\n",
    "    #print(selected_nodes)\n",
    "    num_nodes = len(type_nodes)\n",
    "    num_to_select = min(150, num_nodes)  # Select up to 2000 nodes, or all nodes if less than 2000\n",
    "    selected_nodes.extend(random.sample(type_nodes, num_to_select))\n",
    "\n",
    "# Create the subgraph induced by the selected nodes\n",
    "subgraph = nx.Graph(nx_graph.subgraph(selected_nodes))"
   ]
  },
  {
   "cell_type": "code",
   "execution_count": null,
   "id": "9d1dcc08",
   "metadata": {},
   "outputs": [
    {
     "name": "stderr",
     "output_type": "stream",
     "text": [
      "Selecting nodes: 100%|██████████| 3/3 [00:00<00:00, 87.23node_type/s]"
     ]
    },
    {
     "name": "stdout",
     "output_type": "stream",
     "text": [
      "Number of songs nodes: 35\n",
      "Number of artists nodes: 10\n",
      "Number of users nodes: 36\n",
      "Total number of nodes: 81\n",
      "Total number of edges: 177\n"
     ]
    },
    {
     "name": "stderr",
     "output_type": "stream",
     "text": [
      "\n"
     ]
    }
   ],
   "source": [
    "import random\n",
    "from tqdm import tqdm\n",
    "import networkx as nx\n",
    "\n",
    "# Get the set of unique node types\n",
    "node_types = set(nx.get_node_attributes(nx_graph, 'type').values())\n",
    "\n",
    "# Initialize an empty list to store the selected nodes\n",
    "selected_nodes = []\n",
    "\n",
    "# Set the number of nodes to sample for each type\n",
    "nodes_per_type = {\n",
    "    'users': 1,\n",
    "    'songs': 20,  # Increased number of song nodes\n",
    "    'artists': 10\n",
    "}\n",
    "\n",
    "# Sample nodes for each type\n",
    "for node_type in tqdm(node_types, desc=\"Selecting nodes\", unit=\"node_type\"):\n",
    "    type_nodes = [n for n, d in nx_graph.nodes(data=True) if d['type'] == node_type]\n",
    "    num_nodes = len(type_nodes)\n",
    "    num_to_select = min(nodes_per_type[node_type], num_nodes)\n",
    "    selected_nodes.extend(random.sample(type_nodes, num_to_select))\n",
    "\n",
    "# Create a subgraph with the selected nodes\n",
    "subgraph = nx.Graph(nx_graph.subgraph(selected_nodes))\n",
    "\n",
    "# If we want to ensure connectivity, we can add additional nodes to connect the subgraph\n",
    "connected_components = list(nx.connected_components(subgraph))\n",
    "\n",
    "if len(connected_components) > 1:\n",
    "    # Find the largest connected component\n",
    "    largest_component = max(connected_components, key=len)\n",
    "    \n",
    "    # For each smaller component, find a path to the largest component and add the nodes in the path\n",
    "    for component in connected_components:\n",
    "        if component != largest_component:\n",
    "            for node in component:\n",
    "                path = nx.shortest_path(nx_graph, node, random.choice(list(largest_component)))\n",
    "                selected_nodes.extend(path)\n",
    "\n",
    "# Create the final subgraph\n",
    "subgraph = nx.Graph(nx_graph.subgraph(selected_nodes))\n",
    "\n",
    "# Print the number of nodes for each type in the subgraph\n",
    "for node_type in node_types:\n",
    "    type_count = len([n for n, d in subgraph.nodes(data=True) if d['type'] == node_type])\n",
    "    print(f\"Number of {node_type} nodes: {type_count}\")\n",
    "\n",
    "print(f\"Total number of nodes: {subgraph.number_of_nodes()}\")\n",
    "print(f\"Total number of edges: {subgraph.number_of_edges()}\")"
   ]
  },
  {
   "cell_type": "code",
   "execution_count": null,
   "id": "a32d4260",
   "metadata": {},
   "outputs": [
    {
     "data": {
      "text/plain": [
       "81"
      ]
     },
     "execution_count": 90,
     "metadata": {},
     "output_type": "execute_result"
    }
   ],
   "source": [
    "len(subgraph.nodes)"
   ]
  },
  {
   "cell_type": "code",
   "execution_count": null,
   "id": "4e9d31ac",
   "metadata": {},
   "outputs": [
    {
     "name": "stdout",
     "output_type": "stream",
     "text": [
      "CPU times: total: 0 ns\n",
      "Wall time: 0 ns\n"
     ]
    }
   ],
   "source": [
    "%%time\n",
    "largest_cc = max(nx.connected_components(subgraph), key=len)\n",
    "subgraph = nx.Graph(subgraph.subgraph(largest_cc))"
   ]
  },
  {
   "cell_type": "code",
   "execution_count": null,
   "id": "13bb90fd",
   "metadata": {},
   "outputs": [],
   "source": [
    "## Remove nodes that didnt get an attribute (I dont know why) and delete those, otherwise plotting will get stuck on those that have no attribute\n",
    "\n",
    "nodes_to_remove = []\n",
    "\n",
    "for (id, attr) in subgraph.nodes(data=True):\n",
    "    if 'type' not in attr:\n",
    "        print(f\"Node {id} does not have a 'node_type' attribute.\")\n",
    "        nodes_to_remove.append(id)\n",
    "\n",
    "for node in nodes_to_remove:\n",
    "    subgraph.remove_node(node)\n"
   ]
  },
  {
   "cell_type": "code",
   "execution_count": null,
   "id": "74054fc9",
   "metadata": {},
   "outputs": [
    {
     "name": "stdout",
     "output_type": "stream",
     "text": [
      "35\n",
      "36\n",
      "10\n",
      "81\n",
      "177\n"
     ]
    }
   ],
   "source": [
    "print(len([id for id, attr in subgraph.nodes(data=True) if attr['type'] == 'songs']))\n",
    "print(len([id for id, attr in subgraph.nodes(data=True) if attr['type'] == 'users']))\n",
    "print(len([id for id, attr in subgraph.nodes(data=True) if attr['type'] == 'artists']))\n",
    "print(len(subgraph.nodes))\n",
    "print(len(subgraph.edges))"
   ]
  },
  {
   "cell_type": "markdown",
   "id": "0a899b64",
   "metadata": {},
   "source": [
    "#### Visualization"
   ]
  },
  {
   "cell_type": "code",
   "execution_count": null,
   "id": "23fb10b4",
   "metadata": {},
   "outputs": [
    {
     "data": {
      "application/vnd.plotly.v1+json": {
       "config": {
        "plotlyServerURL": "https://plot.ly"
       },
       "data": [
        {
         "hoverinfo": "none",
         "line": {
          "color": "#888",
          "width": 0.5
         },
         "mode": "lines",
         "type": "scatter",
         "x": [
          0.02282726717715724,
          0.3282266176747372,
          null,
          0.02282726717715724,
          -0.10355114225854715,
          null,
          0.02282726717715724,
          0.12685640450955724,
          null,
          0.02282726717715724,
          0.003067612695142288,
          null,
          0.02282726717715724,
          0.1502312995057703,
          null,
          0.02282726717715724,
          0.007053774333661724,
          null,
          0.02282726717715724,
          0.13289261666800822,
          null,
          0.02282726717715724,
          0.22854105425460428,
          null,
          0.02282726717715724,
          -0.10389179148035464,
          null,
          0.02282726717715724,
          0.03970898937323058,
          null,
          0.02282726717715724,
          -0.2284237932019038,
          null,
          0.02282726717715724,
          -0.12829348800125354,
          null,
          0.02282726717715724,
          -0.1874143505806888,
          null,
          0.02282726717715724,
          -0.14742548812876247,
          null,
          0.02282726717715724,
          -0.12509210912181978,
          null,
          0.02282726717715724,
          0.18479004246393033,
          null,
          0.09738067306388483,
          0.1502312995057703,
          null,
          0.09738067306388483,
          0.2627061250875283,
          null,
          0.09738067306388483,
          -0.10355114225854715,
          null,
          0.09738067306388483,
          0.032958375584047114,
          null,
          0.09738067306388483,
          -0.12829348800125354,
          null,
          -0.021334574103201748,
          -0.10355114225854715,
          null,
          -0.021334574103201748,
          -0.16943993030266674,
          null,
          -0.021334574103201748,
          0.1502312995057703,
          null,
          -0.021334574103201748,
          0.1745384757025958,
          null,
          -0.021334574103201748,
          -0.10456548270940606,
          null,
          -0.021334574103201748,
          -0.06823842346069539,
          null,
          -0.021334574103201748,
          0.032958375584047114,
          null,
          -0.021334574103201748,
          0.09539546320423448,
          null,
          -0.021334574103201748,
          -0.10389179148035464,
          null,
          -0.021334574103201748,
          -0.12829348800125354,
          null,
          0.07016218708481056,
          -0.10355114225854715,
          null,
          0.07016218708481056,
          0.1502312995057703,
          null,
          0.07016218708481056,
          0.007053774333661724,
          null,
          0.07016218708481056,
          0.08562721083105601,
          null,
          0.07016218708481056,
          0.13289261666800822,
          null,
          0.07016218708481056,
          0.22854105425460428,
          null,
          0.07016218708481056,
          0.19953132146244185,
          null,
          0.07016218708481056,
          0.03552420911866328,
          null,
          0.07016218708481056,
          -0.061875552277068216,
          null,
          0.07016218708481056,
          0.09539546320423448,
          null,
          0.07016218708481056,
          -0.08996567791149693,
          null,
          0.07016218708481056,
          -0.003646120558807376,
          null,
          0.43760271933434364,
          0.1502312995057703,
          null,
          0.43760271933434364,
          0.43164227208035066,
          null,
          0.43760271933434364,
          0.6859489860176364,
          null,
          -0.1874143505806888,
          -0.47355875282283383,
          null,
          -0.1874143505806888,
          -0.23508062795472845,
          null,
          -0.1874143505806888,
          -0.06823842346069539,
          null,
          -0.1874143505806888,
          0.032958375584047114,
          null,
          -0.1874143505806888,
          -0.061875552277068216,
          null,
          -0.1874143505806888,
          -0.10389179148035464,
          null,
          -0.09997981230424374,
          -0.04314912179353281,
          null,
          -0.09997981230424374,
          -0.165364322358462,
          null,
          -0.23508062795472845,
          -0.32600228684211835,
          null,
          -0.23508062795472845,
          0.03552420911866328,
          null,
          -0.23508062795472845,
          -0.061875552277068216,
          null,
          0.2815312302110236,
          0.14864632262769165,
          null,
          0.2815312302110236,
          0.40627017014688316,
          null,
          0.3282266176747372,
          0.2386316932461574,
          null,
          0.007053774333661724,
          0.2386316932461574,
          null,
          0.007053774333661724,
          -0.06823842346069539,
          null,
          0.007053774333661724,
          0.032958375584047114,
          null,
          0.007053774333661724,
          -0.061875552277068216,
          null,
          0.007053774333661724,
          -0.3488624384113081,
          null,
          0.13289261666800822,
          0.03552420911866328,
          null,
          0.13289261666800822,
          0.09539546320423448,
          null,
          0.13289261666800822,
          0.28268276372473256,
          null,
          0.13289261666800822,
          -0.14742548812876247,
          null,
          0.22854105425460428,
          0.41263749500595565,
          null,
          0.2386316932461574,
          0.4905015616990712,
          null,
          0.2386316932461574,
          0.2627061250875283,
          null,
          0.2386316932461574,
          0.1502312995057703,
          null,
          0.2386316932461574,
          0.35794808294572156,
          null,
          0.2386316932461574,
          0.003067612695142288,
          null,
          0.2386316932461574,
          0.032958375584047114,
          null,
          0.2386316932461574,
          0.21921861837652326,
          null,
          0.03552420911866328,
          0.1502312995057703,
          null,
          0.03552420911866328,
          0.12685640450955724,
          null,
          0.03552420911866328,
          -0.10355114225854715,
          null,
          0.03552420911866328,
          0.18633881572160943,
          null,
          0.03552420911866328,
          0.032958375584047114,
          null,
          0.03552420911866328,
          0.21921861837652326,
          null,
          0.03552420911866328,
          0.09539546320423448,
          null,
          0.03552420911866328,
          -0.061875552277068216,
          null,
          0.03552420911866328,
          -0.08389617147458694,
          null,
          0.03552420911866328,
          -0.08996567791149693,
          null,
          0.03552420911866328,
          -0.12509210912181978,
          null,
          -0.06823842346069539,
          0.1502312995057703,
          null,
          -0.06823842346069539,
          -0.10355114225854715,
          null,
          -0.06823842346069539,
          0.12685640450955724,
          null,
          -0.06823842346069539,
          -0.32600228684211835,
          null,
          -0.06823842346069539,
          -0.2833618326517021,
          null,
          -0.06823842346069539,
          0.003067612695142288,
          null,
          -0.06823842346069539,
          0.032958375584047114,
          null,
          -0.06823842346069539,
          0.21921861837652326,
          null,
          -0.06823842346069539,
          0.09539546320423448,
          null,
          -0.06823842346069539,
          0.03970898937323058,
          null,
          -0.06823842346069539,
          -0.08996567791149693,
          null,
          -0.06823842346069539,
          -0.2284237932019038,
          null,
          -0.06823842346069539,
          -0.12829348800125354,
          null,
          -0.06823842346069539,
          -0.10456548270940606,
          null,
          -0.06823842346069539,
          -0.10389179148035464,
          null,
          -0.06823842346069539,
          -0.3127670406486983,
          null,
          -0.06823842346069539,
          -0.18659367893770287,
          null,
          -0.10355114225854715,
          -0.18659367893770287,
          null,
          -0.10355114225854715,
          -0.4264977663380778,
          null,
          -0.10355114225854715,
          0.032958375584047114,
          null,
          -0.10355114225854715,
          -0.061875552277068216,
          null,
          0.032958375584047114,
          0.12685640450955724,
          null,
          0.032958375584047114,
          0.1502312995057703,
          null,
          0.032958375584047114,
          0.045113352946023186,
          null,
          0.032958375584047114,
          -0.061875552277068216,
          null,
          0.032958375584047114,
          0.21921861837652326,
          null,
          0.032958375584047114,
          0.09539546320423448,
          null,
          0.032958375584047114,
          -0.10389179148035464,
          null,
          0.032958375584047114,
          0.03970898937323058,
          null,
          0.032958375584047114,
          -0.12829348800125354,
          null,
          0.032958375584047114,
          -0.10456548270940606,
          null,
          0.032958375584047114,
          0.14101567975978427,
          null,
          0.032958375584047114,
          0.18479004246393033,
          null,
          0.032958375584047114,
          -0.18659367893770287,
          null,
          0.2600843804276539,
          0.19953132146244185,
          null,
          -0.061875552277068216,
          0.12685640450955724,
          null,
          -0.061875552277068216,
          -0.21598824253935672,
          null,
          -0.061875552277068216,
          0.09539546320423448,
          null,
          -0.061875552277068216,
          -0.08389617147458694,
          null,
          -0.061875552277068216,
          -0.08996567791149693,
          null,
          -0.061875552277068216,
          -0.2284237932019038,
          null,
          -0.061875552277068216,
          -0.12829348800125354,
          null,
          -0.061875552277068216,
          -0.12509210912181978,
          null,
          -0.061875552277068216,
          -0.003646120558807376,
          null,
          0.1502312995057703,
          0.21921861837652326,
          null,
          -0.18659367893770287,
          -0.3975976042278012,
          null,
          -0.18659367893770287,
          -0.10389179148035464,
          null,
          -0.18659367893770287,
          -0.2284237932019038,
          null,
          -0.18659367893770287,
          0.14101567975978427,
          null,
          -0.14742548812876247,
          -0.39322507663887846,
          null,
          -0.14742548812876247,
          -0.003646120558807376,
          null,
          -0.14742548812876247,
          -0.2284237932019038,
          null,
          0.21921861837652326,
          0.4980936531428945,
          null,
          0.21921861837652326,
          0.28268276372473256,
          null,
          0.1745384757025958,
          0.35794808294572156,
          null,
          0.1745384757025958,
          0.09539546320423448,
          null,
          0.1745384757025958,
          -0.10456548270940606,
          null,
          -0.3395464250934452,
          -0.16943993030266674,
          null,
          0.09539546320423448,
          -0.08996567791149693,
          null,
          0.09539546320423448,
          0.40041032665504905,
          null,
          -0.6832931227449855,
          -0.4264977663380778,
          null,
          -0.6832931227449855,
          -0.9013278193534623,
          null,
          -0.780507557779986,
          -0.5658114676044649,
          null,
          0.14864632262769165,
          0.03970898937323058,
          null,
          -0.10389179148035464,
          -0.12829348800125354,
          null,
          -0.10389179148035464,
          -0.10456548270940606,
          null,
          -0.10389179148035464,
          0.18479004246393033,
          null,
          -0.5658114676044649,
          -0.3127670406486983,
          null,
          -0.038158448998233244,
          -0.003646120558807376,
          null,
          -0.27284675754456766,
          -0.10456548270940606,
          null,
          -0.39322507663887846,
          -0.2284237932019038,
          null,
          -0.08389617147458694,
          -0.16609107926339228,
          null,
          -0.08389617147458694,
          -0.08996567791149693,
          null,
          -0.3127670406486983,
          -0.12509210912181978,
          null,
          -0.502331273508831,
          -0.2284237932019038,
          null,
          0.40041032665504905,
          0.642145043089065,
          null,
          -0.04314912179353281,
          0.003067612695142288,
          null,
          -0.46457120755887954,
          -0.3152667970276817,
          null,
          -0.08996567791149693,
          -0.3152667970276817,
          null,
          -0.08996567791149693,
          -0.003646120558807376,
          null,
          -0.2284237932019038,
          -0.12829348800125354,
          null,
          -0.12509210912181978,
          0.28268276372473256,
          null,
          0.3849080608640824,
          0.12685640450955724,
          null,
          0.3849080608640824,
          0.5898663194468534,
          null,
          0.7455773892544664,
          0.4980936531428945,
          null,
          0.43164227208035066,
          0.14101567975978427,
          null,
          0.18479004246393033,
          0.12685640450955724,
          null,
          0.18479004246393033,
          0.14101567975978427,
          null,
          -0.003646120558807376,
          0.12685640450955724,
          null
         ],
         "y": [
          -0.00783866856147817,
          0.048885901390950684,
          null,
          -0.00783866856147817,
          -0.04768479741318171,
          null,
          -0.00783866856147817,
          -0.13250355438449127,
          null,
          -0.00783866856147817,
          0.27672925843003493,
          null,
          -0.00783866856147817,
          -0.004371973826739848,
          null,
          -0.00783866856147817,
          -0.0860655935178369,
          null,
          -0.00783866856147817,
          -0.22666524872803404,
          null,
          -0.00783866856147817,
          -0.2732241559758363,
          null,
          -0.00783866856147817,
          0.15568039689120536,
          null,
          -0.00783866856147817,
          0.23447869569370727,
          null,
          -0.00783866856147817,
          -0.08437985327039982,
          null,
          -0.00783866856147817,
          0.03211123355214287,
          null,
          -0.00783866856147817,
          -0.020072629435909616,
          null,
          -0.00783866856147817,
          -0.26487634050842446,
          null,
          -0.00783866856147817,
          -0.14291745389720942,
          null,
          -0.00783866856147817,
          0.07804010704159507,
          null,
          0.16274659740890474,
          -0.004371973826739848,
          null,
          0.16274659740890474,
          0.38978285584816513,
          null,
          0.16274659740890474,
          -0.04768479741318171,
          null,
          0.16274659740890474,
          0.0652392518692871,
          null,
          0.16274659740890474,
          0.03211123355214287,
          null,
          0.1678176045331341,
          -0.04768479741318171,
          null,
          0.1678176045331341,
          0.43881182227792703,
          null,
          0.1678176045331341,
          -0.004371973826739848,
          null,
          0.1678176045331341,
          0.21079142772528311,
          null,
          0.1678176045331341,
          0.272588715735276,
          null,
          0.1678176045331341,
          0.05072699415010222,
          null,
          0.1678176045331341,
          0.0652392518692871,
          null,
          0.1678176045331341,
          -0.07586626856393996,
          null,
          0.1678176045331341,
          0.15568039689120536,
          null,
          0.1678176045331341,
          0.03211123355214287,
          null,
          -0.2892371601021651,
          -0.04768479741318171,
          null,
          -0.2892371601021651,
          -0.004371973826739848,
          null,
          -0.2892371601021651,
          -0.0860655935178369,
          null,
          -0.2892371601021651,
          -0.5411365586486294,
          null,
          -0.2892371601021651,
          -0.22666524872803404,
          null,
          -0.2892371601021651,
          -0.2732241559758363,
          null,
          -0.2892371601021651,
          -0.527735875064404,
          null,
          -0.2892371601021651,
          -0.1873446255313728,
          null,
          -0.2892371601021651,
          -0.19073440372509765,
          null,
          -0.2892371601021651,
          -0.07586626856393996,
          null,
          -0.2892371601021651,
          -0.26038443074574597,
          null,
          -0.2892371601021651,
          -0.39524501589048083,
          null,
          0.08613891624308131,
          -0.004371973826739848,
          null,
          0.08613891624308131,
          0.3245405071211678,
          null,
          0.08613891624308131,
          0.13231971824273633,
          null,
          -0.020072629435909616,
          0.0431249556107371,
          null,
          -0.020072629435909616,
          -0.2409593378999614,
          null,
          -0.020072629435909616,
          0.05072699415010222,
          null,
          -0.020072629435909616,
          0.0652392518692871,
          null,
          -0.020072629435909616,
          -0.19073440372509765,
          null,
          -0.020072629435909616,
          0.15568039689120536,
          null,
          0.7875878382144371,
          0.5529786131298019,
          null,
          0.7875878382144371,
          1,
          null,
          -0.2409593378999614,
          0.007832424607798696,
          null,
          -0.2409593378999614,
          -0.1873446255313728,
          null,
          -0.2409593378999614,
          -0.19073440372509765,
          null,
          0.7243215306539725,
          0.5169979882308783,
          null,
          0.7243215306539725,
          0.9098242809828126,
          null,
          0.048885901390950684,
          0.16330921656465666,
          null,
          -0.0860655935178369,
          0.16330921656465666,
          null,
          -0.0860655935178369,
          0.05072699415010222,
          null,
          -0.0860655935178369,
          0.0652392518692871,
          null,
          -0.0860655935178369,
          -0.19073440372509765,
          null,
          -0.0860655935178369,
          -0.20645660888465703,
          null,
          -0.22666524872803404,
          -0.1873446255313728,
          null,
          -0.22666524872803404,
          -0.07586626856393996,
          null,
          -0.22666524872803404,
          -0.20432652589232944,
          null,
          -0.22666524872803404,
          -0.26487634050842446,
          null,
          -0.2732241559758363,
          -0.47008835871731003,
          null,
          0.16330921656465666,
          0.25722163642457524,
          null,
          0.16330921656465666,
          0.38978285584816513,
          null,
          0.16330921656465666,
          -0.004371973826739848,
          null,
          0.16330921656465666,
          0.3412626314215412,
          null,
          0.16330921656465666,
          0.27672925843003493,
          null,
          0.16330921656465666,
          0.0652392518692871,
          null,
          0.16330921656465666,
          -0.02053009586499372,
          null,
          -0.1873446255313728,
          -0.004371973826739848,
          null,
          -0.1873446255313728,
          -0.13250355438449127,
          null,
          -0.1873446255313728,
          -0.04768479741318171,
          null,
          -0.1873446255313728,
          -0.4184442384599563,
          null,
          -0.1873446255313728,
          0.0652392518692871,
          null,
          -0.1873446255313728,
          -0.02053009586499372,
          null,
          -0.1873446255313728,
          -0.07586626856393996,
          null,
          -0.1873446255313728,
          -0.19073440372509765,
          null,
          -0.1873446255313728,
          -0.4144164646541619,
          null,
          -0.1873446255313728,
          -0.26038443074574597,
          null,
          -0.1873446255313728,
          -0.14291745389720942,
          null,
          0.05072699415010222,
          -0.004371973826739848,
          null,
          0.05072699415010222,
          -0.04768479741318171,
          null,
          0.05072699415010222,
          -0.13250355438449127,
          null,
          0.05072699415010222,
          0.007832424607798696,
          null,
          0.05072699415010222,
          0.22888000177447834,
          null,
          0.05072699415010222,
          0.27672925843003493,
          null,
          0.05072699415010222,
          0.0652392518692871,
          null,
          0.05072699415010222,
          -0.02053009586499372,
          null,
          0.05072699415010222,
          -0.07586626856393996,
          null,
          0.05072699415010222,
          0.23447869569370727,
          null,
          0.05072699415010222,
          -0.26038443074574597,
          null,
          0.05072699415010222,
          -0.08437985327039982,
          null,
          0.05072699415010222,
          0.03211123355214287,
          null,
          0.05072699415010222,
          0.272588715735276,
          null,
          0.05072699415010222,
          0.15568039689120536,
          null,
          0.05072699415010222,
          0.0957521092848926,
          null,
          0.05072699415010222,
          0.14551927011600255,
          null,
          -0.04768479741318171,
          0.14551927011600255,
          null,
          -0.04768479741318171,
          -0.1028426105442343,
          null,
          -0.04768479741318171,
          0.0652392518692871,
          null,
          -0.04768479741318171,
          -0.19073440372509765,
          null,
          0.0652392518692871,
          -0.13250355438449127,
          null,
          0.0652392518692871,
          -0.004371973826739848,
          null,
          0.0652392518692871,
          0.3513332326792419,
          null,
          0.0652392518692871,
          -0.19073440372509765,
          null,
          0.0652392518692871,
          -0.02053009586499372,
          null,
          0.0652392518692871,
          -0.07586626856393996,
          null,
          0.0652392518692871,
          0.15568039689120536,
          null,
          0.0652392518692871,
          0.23447869569370727,
          null,
          0.0652392518692871,
          0.03211123355214287,
          null,
          0.0652392518692871,
          0.272588715735276,
          null,
          0.0652392518692871,
          0.265665642568649,
          null,
          0.0652392518692871,
          0.07804010704159507,
          null,
          0.0652392518692871,
          0.14551927011600255,
          null,
          -0.7587202689948596,
          -0.527735875064404,
          null,
          -0.19073440372509765,
          -0.13250355438449127,
          null,
          -0.19073440372509765,
          -0.4165832216852434,
          null,
          -0.19073440372509765,
          -0.07586626856393996,
          null,
          -0.19073440372509765,
          -0.4144164646541619,
          null,
          -0.19073440372509765,
          -0.26038443074574597,
          null,
          -0.19073440372509765,
          -0.08437985327039982,
          null,
          -0.19073440372509765,
          0.03211123355214287,
          null,
          -0.19073440372509765,
          -0.14291745389720942,
          null,
          -0.19073440372509765,
          -0.39524501589048083,
          null,
          -0.004371973826739848,
          -0.02053009586499372,
          null,
          0.14551927011600255,
          0.3168784906248377,
          null,
          0.14551927011600255,
          0.15568039689120536,
          null,
          0.14551927011600255,
          -0.08437985327039982,
          null,
          0.14551927011600255,
          0.265665642568649,
          null,
          -0.26487634050842446,
          -0.288291204208205,
          null,
          -0.26487634050842446,
          -0.39524501589048083,
          null,
          -0.26487634050842446,
          -0.08437985327039982,
          null,
          -0.02053009586499372,
          -0.03712531192699146,
          null,
          -0.02053009586499372,
          -0.20432652589232944,
          null,
          0.21079142772528311,
          0.3412626314215412,
          null,
          0.21079142772528311,
          -0.07586626856393996,
          null,
          0.21079142772528311,
          0.272588715735276,
          null,
          0.6339091457144599,
          0.43881182227792703,
          null,
          -0.07586626856393996,
          -0.26038443074574597,
          null,
          -0.07586626856393996,
          -0.15801857293054508,
          null,
          -0.16900221062547138,
          -0.1028426105442343,
          null,
          -0.16900221062547138,
          -0.22650513985197884,
          null,
          0.28461807938658995,
          0.20003158605882274,
          null,
          0.5169979882308783,
          0.23447869569370727,
          null,
          0.15568039689120536,
          0.03211123355214287,
          null,
          0.15568039689120536,
          0.272588715735276,
          null,
          0.15568039689120536,
          0.07804010704159507,
          null,
          0.20003158605882274,
          0.0957521092848926,
          null,
          -0.6524763111468034,
          -0.39524501589048083,
          null,
          0.4678168896024594,
          0.272588715735276,
          null,
          -0.288291204208205,
          -0.08437985327039982,
          null,
          -0.4144164646541619,
          -0.6568114704704547,
          null,
          -0.4144164646541619,
          -0.26038443074574597,
          null,
          0.0957521092848926,
          -0.14291745389720942,
          null,
          -0.10675716660739808,
          -0.08437985327039982,
          null,
          -0.15801857293054508,
          -0.2561943641690967,
          null,
          0.5529786131298019,
          0.27672925843003493,
          null,
          -0.6406955272198264,
          -0.4574431694190544,
          null,
          -0.26038443074574597,
          -0.4574431694190544,
          null,
          -0.26038443074574597,
          -0.39524501589048083,
          null,
          -0.08437985327039982,
          0.03211123355214287,
          null,
          -0.14291745389720942,
          -0.20432652589232944,
          null,
          -0.2842909323919197,
          -0.13250355438449127,
          null,
          -0.2842909323919197,
          -0.43578497933001736,
          null,
          -0.041246868119500665,
          -0.03712531192699146,
          null,
          0.3245405071211678,
          0.265665642568649,
          null,
          0.07804010704159507,
          -0.13250355438449127,
          null,
          0.07804010704159507,
          0.265665642568649,
          null,
          -0.39524501589048083,
          -0.13250355438449127,
          null
         ]
        },
        {
         "hoverinfo": "text",
         "marker": {
          "color": [
           "rgb(255,0,0)",
           "rgb(255,0,0)",
           "rgb(255,0,0)",
           "rgb(255,0,0)",
           "rgb(255,0,0)",
           "rgb(255,0,0)",
           "rgb(255,255,0)",
           "rgb(255,0,0)",
           "rgb(255,255,0)",
           "rgb(255,255,0)",
           "rgb(255,255,0)",
           "rgb(255,255,0)",
           "rgb(255,255,0)",
           "rgb(255,0,0)",
           "rgb(255,0,0)",
           "rgb(255,0,0)",
           "rgb(255,255,0)",
           "rgb(255,0,0)",
           "rgb(0,0,255)",
           "rgb(255,0,0)",
           "rgb(255,255,0)",
           "rgb(255,0,0)",
           "rgb(255,0,0)",
           "rgb(255,0,0)",
           "rgb(255,255,0)",
           "rgb(255,0,0)",
           "rgb(0,0,255)",
           "rgb(255,255,0)",
           "rgb(0,0,255)",
           "rgb(0,0,255)",
           "rgb(255,0,0)",
           "rgb(255,255,0)",
           "rgb(0,0,255)",
           "rgb(255,0,0)",
           "rgb(255,255,0)",
           "rgb(255,255,0)",
           "rgb(255,0,0)",
           "rgb(0,0,255)",
           "rgb(255,255,0)",
           "rgb(255,255,0)",
           "rgb(255,255,0)",
           "rgb(255,0,0)",
           "rgb(255,0,0)",
           "rgb(255,0,0)",
           "rgb(255,0,0)",
           "rgb(255,255,0)",
           "rgb(255,255,0)",
           "rgb(255,255,0)",
           "rgb(255,0,0)",
           "rgb(255,0,0)",
           "rgb(255,255,0)",
           "rgb(255,0,0)",
           "rgb(255,255,0)",
           "rgb(0,0,255)",
           "rgb(0,0,255)",
           "rgb(255,0,0)",
           "rgb(255,255,0)",
           "rgb(255,255,0)",
           "rgb(255,0,0)",
           "rgb(255,0,0)",
           "rgb(255,255,0)",
           "rgb(255,255,0)",
           "rgb(0,0,255)",
           "rgb(255,0,0)",
           "rgb(255,0,0)",
           "rgb(255,255,0)",
           "rgb(255,255,0)",
           "rgb(255,0,0)",
           "rgb(0,0,255)",
           "rgb(255,255,0)",
           "rgb(255,255,0)",
           "rgb(255,255,0)",
           "rgb(255,0,0)",
           "rgb(255,255,0)",
           "rgb(255,0,0)",
           "rgb(255,0,0)",
           "rgb(255,255,0)",
           "rgb(255,0,0)",
           "rgb(255,255,0)",
           "rgb(255,255,0)",
           "rgb(255,255,0)"
          ],
          "line": {
           "width": 2
          },
          "showscale": false,
          "size": 12
         },
         "mode": "markers",
         "text": [],
         "type": "scatter",
         "x": [
          0.02282726717715724,
          0.09738067306388483,
          -0.021334574103201748,
          0.07016218708481056,
          0.43760271933434364,
          -0.1874143505806888,
          -0.09997981230424374,
          -0.23508062795472845,
          0.2815312302110236,
          0.3282266176747372,
          0.007053774333661724,
          0.13289261666800822,
          0.22854105425460428,
          0.2386316932461574,
          0.03552420911866328,
          -0.06823842346069539,
          -0.10355114225854715,
          0.032958375584047114,
          0.2600843804276539,
          -0.061875552277068216,
          0.1502312995057703,
          -0.18659367893770287,
          -0.14742548812876247,
          0.21921861837652326,
          -0.21598824253935672,
          0.1745384757025958,
          -0.165364322358462,
          0.045113352946023186,
          -0.3395464250934452,
          -0.3488624384113081,
          0.09539546320423448,
          -0.6832931227449855,
          -0.780507557779986,
          0.14864632262769165,
          0.6859489860176364,
          0.35794808294572156,
          -0.10389179148035464,
          0.41263749500595565,
          -0.5658114676044649,
          -0.038158448998233244,
          -0.27284675754456766,
          -0.39322507663887846,
          -0.10456548270940606,
          -0.08389617147458694,
          -0.3127670406486983,
          -0.32600228684211835,
          -0.16943993030266674,
          -0.502331273508831,
          0.03970898937323058,
          0.40041032665504905,
          -0.2833618326517021,
          -0.04314912179353281,
          -0.3975976042278012,
          -0.9013278193534623,
          -0.46457120755887954,
          -0.08996567791149693,
          -0.47355875282283383,
          0.4905015616990712,
          -0.2284237932019038,
          -0.12509210912181978,
          0.003067612695142288,
          0.2627061250875283,
          0.40627017014688316,
          0.3849080608640824,
          -0.4264977663380778,
          0.18633881572160943,
          -0.16609107926339228,
          -0.12829348800125354,
          0.7455773892544664,
          0.08562721083105601,
          0.19953132146244185,
          0.43164227208035066,
          0.18479004246393033,
          0.4980936531428945,
          -0.003646120558807376,
          0.28268276372473256,
          0.12685640450955724,
          0.14101567975978427,
          -0.3152667970276817,
          0.642145043089065,
          0.5898663194468534
         ],
         "y": [
          -0.00783866856147817,
          0.16274659740890474,
          0.1678176045331341,
          -0.2892371601021651,
          0.08613891624308131,
          -0.020072629435909616,
          0.7875878382144371,
          -0.2409593378999614,
          0.7243215306539725,
          0.048885901390950684,
          -0.0860655935178369,
          -0.22666524872803404,
          -0.2732241559758363,
          0.16330921656465666,
          -0.1873446255313728,
          0.05072699415010222,
          -0.04768479741318171,
          0.0652392518692871,
          -0.7587202689948596,
          -0.19073440372509765,
          -0.004371973826739848,
          0.14551927011600255,
          -0.26487634050842446,
          -0.02053009586499372,
          -0.4165832216852434,
          0.21079142772528311,
          1,
          0.3513332326792419,
          0.6339091457144599,
          -0.20645660888465703,
          -0.07586626856393996,
          -0.16900221062547138,
          0.28461807938658995,
          0.5169979882308783,
          0.13231971824273633,
          0.3412626314215412,
          0.15568039689120536,
          -0.47008835871731003,
          0.20003158605882274,
          -0.6524763111468034,
          0.4678168896024594,
          -0.288291204208205,
          0.272588715735276,
          -0.4144164646541619,
          0.0957521092848926,
          0.007832424607798696,
          0.43881182227792703,
          -0.10675716660739808,
          0.23447869569370727,
          -0.15801857293054508,
          0.22888000177447834,
          0.5529786131298019,
          0.3168784906248377,
          -0.22650513985197884,
          -0.6406955272198264,
          -0.26038443074574597,
          0.0431249556107371,
          0.25722163642457524,
          -0.08437985327039982,
          -0.14291745389720942,
          0.27672925843003493,
          0.38978285584816513,
          0.9098242809828126,
          -0.2842909323919197,
          -0.1028426105442343,
          -0.4184442384599563,
          -0.6568114704704547,
          0.03211123355214287,
          -0.041246868119500665,
          -0.5411365586486294,
          -0.527735875064404,
          0.3245405071211678,
          0.07804010704159507,
          -0.03712531192699146,
          -0.39524501589048083,
          -0.20432652589232944,
          -0.13250355438449127,
          0.265665642568649,
          -0.4574431694190544,
          -0.2561943641690967,
          -0.43578497933001736
         ]
        }
       ],
       "layout": {
        "annotations": [
         {
          "showarrow": false,
          "text": "Python code: <a href='https://plotly.com/'>Plotly</a>",
          "x": 0.005,
          "xref": "paper",
          "y": -0.002,
          "yref": "paper"
         }
        ],
        "height": 1000,
        "hovermode": "closest",
        "legend": {
         "bgcolor": "LightSteelBlue",
         "bordercolor": "Black",
         "borderwidth": 2,
         "font": {
          "color": "black",
          "family": "sans-serif",
          "size": 12
         },
         "title": {
          "text": "Node Types"
         },
         "traceorder": "normal",
         "x": 0,
         "y": 1
        },
        "margin": {
         "b": 30,
         "l": 20,
         "r": 50,
         "t": 40
        },
        "showlegend": false,
        "template": {
         "data": {
          "bar": [
           {
            "error_x": {
             "color": "#2a3f5f"
            },
            "error_y": {
             "color": "#2a3f5f"
            },
            "marker": {
             "line": {
              "color": "#E5ECF6",
              "width": 0.5
             },
             "pattern": {
              "fillmode": "overlay",
              "size": 10,
              "solidity": 0.2
             }
            },
            "type": "bar"
           }
          ],
          "barpolar": [
           {
            "marker": {
             "line": {
              "color": "#E5ECF6",
              "width": 0.5
             },
             "pattern": {
              "fillmode": "overlay",
              "size": 10,
              "solidity": 0.2
             }
            },
            "type": "barpolar"
           }
          ],
          "carpet": [
           {
            "aaxis": {
             "endlinecolor": "#2a3f5f",
             "gridcolor": "white",
             "linecolor": "white",
             "minorgridcolor": "white",
             "startlinecolor": "#2a3f5f"
            },
            "baxis": {
             "endlinecolor": "#2a3f5f",
             "gridcolor": "white",
             "linecolor": "white",
             "minorgridcolor": "white",
             "startlinecolor": "#2a3f5f"
            },
            "type": "carpet"
           }
          ],
          "choropleth": [
           {
            "colorbar": {
             "outlinewidth": 0,
             "ticks": ""
            },
            "type": "choropleth"
           }
          ],
          "contour": [
           {
            "colorbar": {
             "outlinewidth": 0,
             "ticks": ""
            },
            "colorscale": [
             [
              0,
              "#0d0887"
             ],
             [
              0.1111111111111111,
              "#46039f"
             ],
             [
              0.2222222222222222,
              "#7201a8"
             ],
             [
              0.3333333333333333,
              "#9c179e"
             ],
             [
              0.4444444444444444,
              "#bd3786"
             ],
             [
              0.5555555555555556,
              "#d8576b"
             ],
             [
              0.6666666666666666,
              "#ed7953"
             ],
             [
              0.7777777777777778,
              "#fb9f3a"
             ],
             [
              0.8888888888888888,
              "#fdca26"
             ],
             [
              1,
              "#f0f921"
             ]
            ],
            "type": "contour"
           }
          ],
          "contourcarpet": [
           {
            "colorbar": {
             "outlinewidth": 0,
             "ticks": ""
            },
            "type": "contourcarpet"
           }
          ],
          "heatmap": [
           {
            "colorbar": {
             "outlinewidth": 0,
             "ticks": ""
            },
            "colorscale": [
             [
              0,
              "#0d0887"
             ],
             [
              0.1111111111111111,
              "#46039f"
             ],
             [
              0.2222222222222222,
              "#7201a8"
             ],
             [
              0.3333333333333333,
              "#9c179e"
             ],
             [
              0.4444444444444444,
              "#bd3786"
             ],
             [
              0.5555555555555556,
              "#d8576b"
             ],
             [
              0.6666666666666666,
              "#ed7953"
             ],
             [
              0.7777777777777778,
              "#fb9f3a"
             ],
             [
              0.8888888888888888,
              "#fdca26"
             ],
             [
              1,
              "#f0f921"
             ]
            ],
            "type": "heatmap"
           }
          ],
          "heatmapgl": [
           {
            "colorbar": {
             "outlinewidth": 0,
             "ticks": ""
            },
            "colorscale": [
             [
              0,
              "#0d0887"
             ],
             [
              0.1111111111111111,
              "#46039f"
             ],
             [
              0.2222222222222222,
              "#7201a8"
             ],
             [
              0.3333333333333333,
              "#9c179e"
             ],
             [
              0.4444444444444444,
              "#bd3786"
             ],
             [
              0.5555555555555556,
              "#d8576b"
             ],
             [
              0.6666666666666666,
              "#ed7953"
             ],
             [
              0.7777777777777778,
              "#fb9f3a"
             ],
             [
              0.8888888888888888,
              "#fdca26"
             ],
             [
              1,
              "#f0f921"
             ]
            ],
            "type": "heatmapgl"
           }
          ],
          "histogram": [
           {
            "marker": {
             "pattern": {
              "fillmode": "overlay",
              "size": 10,
              "solidity": 0.2
             }
            },
            "type": "histogram"
           }
          ],
          "histogram2d": [
           {
            "colorbar": {
             "outlinewidth": 0,
             "ticks": ""
            },
            "colorscale": [
             [
              0,
              "#0d0887"
             ],
             [
              0.1111111111111111,
              "#46039f"
             ],
             [
              0.2222222222222222,
              "#7201a8"
             ],
             [
              0.3333333333333333,
              "#9c179e"
             ],
             [
              0.4444444444444444,
              "#bd3786"
             ],
             [
              0.5555555555555556,
              "#d8576b"
             ],
             [
              0.6666666666666666,
              "#ed7953"
             ],
             [
              0.7777777777777778,
              "#fb9f3a"
             ],
             [
              0.8888888888888888,
              "#fdca26"
             ],
             [
              1,
              "#f0f921"
             ]
            ],
            "type": "histogram2d"
           }
          ],
          "histogram2dcontour": [
           {
            "colorbar": {
             "outlinewidth": 0,
             "ticks": ""
            },
            "colorscale": [
             [
              0,
              "#0d0887"
             ],
             [
              0.1111111111111111,
              "#46039f"
             ],
             [
              0.2222222222222222,
              "#7201a8"
             ],
             [
              0.3333333333333333,
              "#9c179e"
             ],
             [
              0.4444444444444444,
              "#bd3786"
             ],
             [
              0.5555555555555556,
              "#d8576b"
             ],
             [
              0.6666666666666666,
              "#ed7953"
             ],
             [
              0.7777777777777778,
              "#fb9f3a"
             ],
             [
              0.8888888888888888,
              "#fdca26"
             ],
             [
              1,
              "#f0f921"
             ]
            ],
            "type": "histogram2dcontour"
           }
          ],
          "mesh3d": [
           {
            "colorbar": {
             "outlinewidth": 0,
             "ticks": ""
            },
            "type": "mesh3d"
           }
          ],
          "parcoords": [
           {
            "line": {
             "colorbar": {
              "outlinewidth": 0,
              "ticks": ""
             }
            },
            "type": "parcoords"
           }
          ],
          "pie": [
           {
            "automargin": true,
            "type": "pie"
           }
          ],
          "scatter": [
           {
            "fillpattern": {
             "fillmode": "overlay",
             "size": 10,
             "solidity": 0.2
            },
            "type": "scatter"
           }
          ],
          "scatter3d": [
           {
            "line": {
             "colorbar": {
              "outlinewidth": 0,
              "ticks": ""
             }
            },
            "marker": {
             "colorbar": {
              "outlinewidth": 0,
              "ticks": ""
             }
            },
            "type": "scatter3d"
           }
          ],
          "scattercarpet": [
           {
            "marker": {
             "colorbar": {
              "outlinewidth": 0,
              "ticks": ""
             }
            },
            "type": "scattercarpet"
           }
          ],
          "scattergeo": [
           {
            "marker": {
             "colorbar": {
              "outlinewidth": 0,
              "ticks": ""
             }
            },
            "type": "scattergeo"
           }
          ],
          "scattergl": [
           {
            "marker": {
             "colorbar": {
              "outlinewidth": 0,
              "ticks": ""
             }
            },
            "type": "scattergl"
           }
          ],
          "scattermapbox": [
           {
            "marker": {
             "colorbar": {
              "outlinewidth": 0,
              "ticks": ""
             }
            },
            "type": "scattermapbox"
           }
          ],
          "scatterpolar": [
           {
            "marker": {
             "colorbar": {
              "outlinewidth": 0,
              "ticks": ""
             }
            },
            "type": "scatterpolar"
           }
          ],
          "scatterpolargl": [
           {
            "marker": {
             "colorbar": {
              "outlinewidth": 0,
              "ticks": ""
             }
            },
            "type": "scatterpolargl"
           }
          ],
          "scatterternary": [
           {
            "marker": {
             "colorbar": {
              "outlinewidth": 0,
              "ticks": ""
             }
            },
            "type": "scatterternary"
           }
          ],
          "surface": [
           {
            "colorbar": {
             "outlinewidth": 0,
             "ticks": ""
            },
            "colorscale": [
             [
              0,
              "#0d0887"
             ],
             [
              0.1111111111111111,
              "#46039f"
             ],
             [
              0.2222222222222222,
              "#7201a8"
             ],
             [
              0.3333333333333333,
              "#9c179e"
             ],
             [
              0.4444444444444444,
              "#bd3786"
             ],
             [
              0.5555555555555556,
              "#d8576b"
             ],
             [
              0.6666666666666666,
              "#ed7953"
             ],
             [
              0.7777777777777778,
              "#fb9f3a"
             ],
             [
              0.8888888888888888,
              "#fdca26"
             ],
             [
              1,
              "#f0f921"
             ]
            ],
            "type": "surface"
           }
          ],
          "table": [
           {
            "cells": {
             "fill": {
              "color": "#EBF0F8"
             },
             "line": {
              "color": "white"
             }
            },
            "header": {
             "fill": {
              "color": "#C8D4E3"
             },
             "line": {
              "color": "white"
             }
            },
            "type": "table"
           }
          ]
         },
         "layout": {
          "annotationdefaults": {
           "arrowcolor": "#2a3f5f",
           "arrowhead": 0,
           "arrowwidth": 1
          },
          "autotypenumbers": "strict",
          "coloraxis": {
           "colorbar": {
            "outlinewidth": 0,
            "ticks": ""
           }
          },
          "colorscale": {
           "diverging": [
            [
             0,
             "#8e0152"
            ],
            [
             0.1,
             "#c51b7d"
            ],
            [
             0.2,
             "#de77ae"
            ],
            [
             0.3,
             "#f1b6da"
            ],
            [
             0.4,
             "#fde0ef"
            ],
            [
             0.5,
             "#f7f7f7"
            ],
            [
             0.6,
             "#e6f5d0"
            ],
            [
             0.7,
             "#b8e186"
            ],
            [
             0.8,
             "#7fbc41"
            ],
            [
             0.9,
             "#4d9221"
            ],
            [
             1,
             "#276419"
            ]
           ],
           "sequential": [
            [
             0,
             "#0d0887"
            ],
            [
             0.1111111111111111,
             "#46039f"
            ],
            [
             0.2222222222222222,
             "#7201a8"
            ],
            [
             0.3333333333333333,
             "#9c179e"
            ],
            [
             0.4444444444444444,
             "#bd3786"
            ],
            [
             0.5555555555555556,
             "#d8576b"
            ],
            [
             0.6666666666666666,
             "#ed7953"
            ],
            [
             0.7777777777777778,
             "#fb9f3a"
            ],
            [
             0.8888888888888888,
             "#fdca26"
            ],
            [
             1,
             "#f0f921"
            ]
           ],
           "sequentialminus": [
            [
             0,
             "#0d0887"
            ],
            [
             0.1111111111111111,
             "#46039f"
            ],
            [
             0.2222222222222222,
             "#7201a8"
            ],
            [
             0.3333333333333333,
             "#9c179e"
            ],
            [
             0.4444444444444444,
             "#bd3786"
            ],
            [
             0.5555555555555556,
             "#d8576b"
            ],
            [
             0.6666666666666666,
             "#ed7953"
            ],
            [
             0.7777777777777778,
             "#fb9f3a"
            ],
            [
             0.8888888888888888,
             "#fdca26"
            ],
            [
             1,
             "#f0f921"
            ]
           ]
          },
          "colorway": [
           "#636efa",
           "#EF553B",
           "#00cc96",
           "#ab63fa",
           "#FFA15A",
           "#19d3f3",
           "#FF6692",
           "#B6E880",
           "#FF97FF",
           "#FECB52"
          ],
          "font": {
           "color": "#2a3f5f"
          },
          "geo": {
           "bgcolor": "white",
           "lakecolor": "white",
           "landcolor": "#E5ECF6",
           "showlakes": true,
           "showland": true,
           "subunitcolor": "white"
          },
          "hoverlabel": {
           "align": "left"
          },
          "hovermode": "closest",
          "mapbox": {
           "style": "light"
          },
          "paper_bgcolor": "white",
          "plot_bgcolor": "#E5ECF6",
          "polar": {
           "angularaxis": {
            "gridcolor": "white",
            "linecolor": "white",
            "ticks": ""
           },
           "bgcolor": "#E5ECF6",
           "radialaxis": {
            "gridcolor": "white",
            "linecolor": "white",
            "ticks": ""
           }
          },
          "scene": {
           "xaxis": {
            "backgroundcolor": "#E5ECF6",
            "gridcolor": "white",
            "gridwidth": 2,
            "linecolor": "white",
            "showbackground": true,
            "ticks": "",
            "zerolinecolor": "white"
           },
           "yaxis": {
            "backgroundcolor": "#E5ECF6",
            "gridcolor": "white",
            "gridwidth": 2,
            "linecolor": "white",
            "showbackground": true,
            "ticks": "",
            "zerolinecolor": "white"
           },
           "zaxis": {
            "backgroundcolor": "#E5ECF6",
            "gridcolor": "white",
            "gridwidth": 2,
            "linecolor": "white",
            "showbackground": true,
            "ticks": "",
            "zerolinecolor": "white"
           }
          },
          "shapedefaults": {
           "line": {
            "color": "#2a3f5f"
           }
          },
          "ternary": {
           "aaxis": {
            "gridcolor": "white",
            "linecolor": "white",
            "ticks": ""
           },
           "baxis": {
            "gridcolor": "white",
            "linecolor": "white",
            "ticks": ""
           },
           "bgcolor": "#E5ECF6",
           "caxis": {
            "gridcolor": "white",
            "linecolor": "white",
            "ticks": ""
           }
          },
          "title": {
           "x": 0.05
          },
          "xaxis": {
           "automargin": true,
           "gridcolor": "white",
           "linecolor": "white",
           "ticks": "",
           "title": {
            "standoff": 15
           },
           "zerolinecolor": "white",
           "zerolinewidth": 2
          },
          "yaxis": {
           "automargin": true,
           "gridcolor": "white",
           "linecolor": "white",
           "ticks": "",
           "title": {
            "standoff": 15
           },
           "zerolinecolor": "white",
           "zerolinewidth": 2
          }
         }
        },
        "title": {
         "font": {
          "size": 10
         },
         "text": "<br>Network graph made with Plotly"
        },
        "width": 1200,
        "xaxis": {
         "showgrid": false,
         "showticklabels": false,
         "zeroline": false
        },
        "yaxis": {
         "showgrid": false,
         "showticklabels": false,
         "zeroline": false
        }
       }
      }
     },
     "metadata": {},
     "output_type": "display_data"
    }
   ],
   "source": [
    "import plotly.graph_objects as go\n",
    "import networkx as nx\n",
    "\n",
    "# Assuming you have already defined your graph 'subgraph'\n",
    "color_map = {'users': 'rgb(255,0,0)', 'songs': 'rgb(255,255,0)', 'artists': 'rgb(0,0,255)'}\n",
    "\n",
    "# Extracting node types and colors\n",
    "node_types = nx.get_node_attributes(subgraph, 'type')\n",
    "node_colors = [color_map[node_types[node]] for node in subgraph.nodes()]\n",
    "\n",
    "# Creating node trace\n",
    "node_trace = go.Scatter(\n",
    "    x=[],\n",
    "    y=[],\n",
    "    text=[],\n",
    "    mode='markers',\n",
    "    hoverinfo='text',\n",
    "    marker=dict(\n",
    "        showscale=False,\n",
    "        color=node_colors,\n",
    "        size=12,\n",
    "        line_width=2))\n",
    "\n",
    "# Creating edge trace\n",
    "edge_trace = go.Scatter(\n",
    "    x=[],\n",
    "    y=[],\n",
    "    line=dict(width=0.5, color='#888'),\n",
    "    hoverinfo='none',\n",
    "    mode='lines')\n",
    "\n",
    "# Adding node positions to the trace using Kamada-Kawai layout\n",
    "pos = nx.kamada_kawai_layout(subgraph)\n",
    "for node, (x, y) in pos.items():\n",
    "    node_trace['x'] += tuple([x])\n",
    "    node_trace['y'] += tuple([y])\n",
    "\n",
    "# Adding edge positions to the trace\n",
    "for edge in subgraph.edges():\n",
    "    x0, y0 = pos[edge[0]]\n",
    "    x1, y1 = pos[edge[1]]\n",
    "    edge_trace['x'] += tuple([x0, x1, None])\n",
    "    edge_trace['y'] += tuple([y0, y1, None])\n",
    "\n",
    "# Creating figure\n",
    "fig = go.Figure(data=[edge_trace, node_trace],\n",
    "                layout=go.Layout(\n",
    "                    title='<br>Network graph made with Plotly',\n",
    "                    titlefont_size=10,\n",
    "                    showlegend=False,\n",
    "                    hovermode='closest',\n",
    "                    margin=dict(b=30, l=20, r=50, t=40),\n",
    "                    annotations=[dict(\n",
    "                        text=\"Python code: <a href='https://plotly.com/'>Plotly</a>\",\n",
    "                        showarrow=False,\n",
    "                        xref=\"paper\", yref=\"paper\",\n",
    "                        x=0.005, y=-0.002)],\n",
    "                    xaxis=dict(showgrid=False, zeroline=False, showticklabels=False),\n",
    "                    yaxis=dict(showgrid=False, zeroline=False, showticklabels=False),\n",
    "                    width=1200,  # Adjust width of the plot\n",
    "                    height=1000,  # Adjust height of the plot\n",
    "                    legend=dict(\n",
    "                        x=0,\n",
    "                        y=1,\n",
    "                        traceorder=\"normal\",\n",
    "                        font=dict(\n",
    "                            family=\"sans-serif\",\n",
    "                            size=12,\n",
    "                            color=\"black\"\n",
    "                        ),\n",
    "                        bgcolor=\"LightSteelBlue\",\n",
    "                        bordercolor=\"Black\",\n",
    "                        borderwidth=2,\n",
    "                        title=\"Node Types\",)\n",
    "                    ))\n",
    "\n",
    "# Show plot\n",
    "fig.show()\n"
   ]
  },
  {
   "cell_type": "code",
   "execution_count": null,
   "id": "94e76475",
   "metadata": {},
   "outputs": [
    {
     "data": {
      "application/vnd.plotly.v1+json": {
       "config": {
        "plotlyServerURL": "https://plot.ly"
       },
       "data": [
        {
         "hoverinfo": "none",
         "line": {
          "color": "#888",
          "width": 0.5
         },
         "mode": "lines",
         "name": "Edges",
         "type": "scatter",
         "x": [
          0.02282726717715724,
          0.3282266176747372,
          null,
          0.02282726717715724,
          -0.10355114225854715,
          null,
          0.02282726717715724,
          0.12685640450955724,
          null,
          0.02282726717715724,
          0.003067612695142288,
          null,
          0.02282726717715724,
          0.1502312995057703,
          null,
          0.02282726717715724,
          0.007053774333661724,
          null,
          0.02282726717715724,
          0.13289261666800822,
          null,
          0.02282726717715724,
          0.22854105425460428,
          null,
          0.02282726717715724,
          -0.10389179148035464,
          null,
          0.02282726717715724,
          0.03970898937323058,
          null,
          0.02282726717715724,
          -0.2284237932019038,
          null,
          0.02282726717715724,
          -0.12829348800125354,
          null,
          0.02282726717715724,
          -0.1874143505806888,
          null,
          0.02282726717715724,
          -0.14742548812876247,
          null,
          0.02282726717715724,
          -0.12509210912181978,
          null,
          0.02282726717715724,
          0.18479004246393033,
          null,
          0.09738067306388483,
          0.1502312995057703,
          null,
          0.09738067306388483,
          0.2627061250875283,
          null,
          0.09738067306388483,
          -0.10355114225854715,
          null,
          0.09738067306388483,
          0.032958375584047114,
          null,
          0.09738067306388483,
          -0.12829348800125354,
          null,
          -0.021334574103201748,
          -0.10355114225854715,
          null,
          -0.021334574103201748,
          -0.16943993030266674,
          null,
          -0.021334574103201748,
          0.1502312995057703,
          null,
          -0.021334574103201748,
          0.1745384757025958,
          null,
          -0.021334574103201748,
          -0.10456548270940606,
          null,
          -0.021334574103201748,
          -0.06823842346069539,
          null,
          -0.021334574103201748,
          0.032958375584047114,
          null,
          -0.021334574103201748,
          0.09539546320423448,
          null,
          -0.021334574103201748,
          -0.10389179148035464,
          null,
          -0.021334574103201748,
          -0.12829348800125354,
          null,
          0.07016218708481056,
          -0.10355114225854715,
          null,
          0.07016218708481056,
          0.1502312995057703,
          null,
          0.07016218708481056,
          0.007053774333661724,
          null,
          0.07016218708481056,
          0.08562721083105601,
          null,
          0.07016218708481056,
          0.13289261666800822,
          null,
          0.07016218708481056,
          0.22854105425460428,
          null,
          0.07016218708481056,
          0.19953132146244185,
          null,
          0.07016218708481056,
          0.03552420911866328,
          null,
          0.07016218708481056,
          -0.061875552277068216,
          null,
          0.07016218708481056,
          0.09539546320423448,
          null,
          0.07016218708481056,
          -0.08996567791149693,
          null,
          0.07016218708481056,
          -0.003646120558807376,
          null,
          0.43760271933434364,
          0.1502312995057703,
          null,
          0.43760271933434364,
          0.43164227208035066,
          null,
          0.43760271933434364,
          0.6859489860176364,
          null,
          -0.1874143505806888,
          -0.47355875282283383,
          null,
          -0.1874143505806888,
          -0.23508062795472845,
          null,
          -0.1874143505806888,
          -0.06823842346069539,
          null,
          -0.1874143505806888,
          0.032958375584047114,
          null,
          -0.1874143505806888,
          -0.061875552277068216,
          null,
          -0.1874143505806888,
          -0.10389179148035464,
          null,
          -0.09997981230424374,
          -0.04314912179353281,
          null,
          -0.09997981230424374,
          -0.165364322358462,
          null,
          -0.23508062795472845,
          -0.32600228684211835,
          null,
          -0.23508062795472845,
          0.03552420911866328,
          null,
          -0.23508062795472845,
          -0.061875552277068216,
          null,
          0.2815312302110236,
          0.14864632262769165,
          null,
          0.2815312302110236,
          0.40627017014688316,
          null,
          0.3282266176747372,
          0.2386316932461574,
          null,
          0.007053774333661724,
          0.2386316932461574,
          null,
          0.007053774333661724,
          -0.06823842346069539,
          null,
          0.007053774333661724,
          0.032958375584047114,
          null,
          0.007053774333661724,
          -0.061875552277068216,
          null,
          0.007053774333661724,
          -0.3488624384113081,
          null,
          0.13289261666800822,
          0.03552420911866328,
          null,
          0.13289261666800822,
          0.09539546320423448,
          null,
          0.13289261666800822,
          0.28268276372473256,
          null,
          0.13289261666800822,
          -0.14742548812876247,
          null,
          0.22854105425460428,
          0.41263749500595565,
          null,
          0.2386316932461574,
          0.4905015616990712,
          null,
          0.2386316932461574,
          0.2627061250875283,
          null,
          0.2386316932461574,
          0.1502312995057703,
          null,
          0.2386316932461574,
          0.35794808294572156,
          null,
          0.2386316932461574,
          0.003067612695142288,
          null,
          0.2386316932461574,
          0.032958375584047114,
          null,
          0.2386316932461574,
          0.21921861837652326,
          null,
          0.03552420911866328,
          0.1502312995057703,
          null,
          0.03552420911866328,
          0.12685640450955724,
          null,
          0.03552420911866328,
          -0.10355114225854715,
          null,
          0.03552420911866328,
          0.18633881572160943,
          null,
          0.03552420911866328,
          0.032958375584047114,
          null,
          0.03552420911866328,
          0.21921861837652326,
          null,
          0.03552420911866328,
          0.09539546320423448,
          null,
          0.03552420911866328,
          -0.061875552277068216,
          null,
          0.03552420911866328,
          -0.08389617147458694,
          null,
          0.03552420911866328,
          -0.08996567791149693,
          null,
          0.03552420911866328,
          -0.12509210912181978,
          null,
          -0.06823842346069539,
          0.1502312995057703,
          null,
          -0.06823842346069539,
          -0.10355114225854715,
          null,
          -0.06823842346069539,
          0.12685640450955724,
          null,
          -0.06823842346069539,
          -0.32600228684211835,
          null,
          -0.06823842346069539,
          -0.2833618326517021,
          null,
          -0.06823842346069539,
          0.003067612695142288,
          null,
          -0.06823842346069539,
          0.032958375584047114,
          null,
          -0.06823842346069539,
          0.21921861837652326,
          null,
          -0.06823842346069539,
          0.09539546320423448,
          null,
          -0.06823842346069539,
          0.03970898937323058,
          null,
          -0.06823842346069539,
          -0.08996567791149693,
          null,
          -0.06823842346069539,
          -0.2284237932019038,
          null,
          -0.06823842346069539,
          -0.12829348800125354,
          null,
          -0.06823842346069539,
          -0.10456548270940606,
          null,
          -0.06823842346069539,
          -0.10389179148035464,
          null,
          -0.06823842346069539,
          -0.3127670406486983,
          null,
          -0.06823842346069539,
          -0.18659367893770287,
          null,
          -0.10355114225854715,
          -0.18659367893770287,
          null,
          -0.10355114225854715,
          -0.4264977663380778,
          null,
          -0.10355114225854715,
          0.032958375584047114,
          null,
          -0.10355114225854715,
          -0.061875552277068216,
          null,
          0.032958375584047114,
          0.12685640450955724,
          null,
          0.032958375584047114,
          0.1502312995057703,
          null,
          0.032958375584047114,
          0.045113352946023186,
          null,
          0.032958375584047114,
          -0.061875552277068216,
          null,
          0.032958375584047114,
          0.21921861837652326,
          null,
          0.032958375584047114,
          0.09539546320423448,
          null,
          0.032958375584047114,
          -0.10389179148035464,
          null,
          0.032958375584047114,
          0.03970898937323058,
          null,
          0.032958375584047114,
          -0.12829348800125354,
          null,
          0.032958375584047114,
          -0.10456548270940606,
          null,
          0.032958375584047114,
          0.14101567975978427,
          null,
          0.032958375584047114,
          0.18479004246393033,
          null,
          0.032958375584047114,
          -0.18659367893770287,
          null,
          0.2600843804276539,
          0.19953132146244185,
          null,
          -0.061875552277068216,
          0.12685640450955724,
          null,
          -0.061875552277068216,
          -0.21598824253935672,
          null,
          -0.061875552277068216,
          0.09539546320423448,
          null,
          -0.061875552277068216,
          -0.08389617147458694,
          null,
          -0.061875552277068216,
          -0.08996567791149693,
          null,
          -0.061875552277068216,
          -0.2284237932019038,
          null,
          -0.061875552277068216,
          -0.12829348800125354,
          null,
          -0.061875552277068216,
          -0.12509210912181978,
          null,
          -0.061875552277068216,
          -0.003646120558807376,
          null,
          0.1502312995057703,
          0.21921861837652326,
          null,
          -0.18659367893770287,
          -0.3975976042278012,
          null,
          -0.18659367893770287,
          -0.10389179148035464,
          null,
          -0.18659367893770287,
          -0.2284237932019038,
          null,
          -0.18659367893770287,
          0.14101567975978427,
          null,
          -0.14742548812876247,
          -0.39322507663887846,
          null,
          -0.14742548812876247,
          -0.003646120558807376,
          null,
          -0.14742548812876247,
          -0.2284237932019038,
          null,
          0.21921861837652326,
          0.4980936531428945,
          null,
          0.21921861837652326,
          0.28268276372473256,
          null,
          0.1745384757025958,
          0.35794808294572156,
          null,
          0.1745384757025958,
          0.09539546320423448,
          null,
          0.1745384757025958,
          -0.10456548270940606,
          null,
          -0.3395464250934452,
          -0.16943993030266674,
          null,
          0.09539546320423448,
          -0.08996567791149693,
          null,
          0.09539546320423448,
          0.40041032665504905,
          null,
          -0.6832931227449855,
          -0.4264977663380778,
          null,
          -0.6832931227449855,
          -0.9013278193534623,
          null,
          -0.780507557779986,
          -0.5658114676044649,
          null,
          0.14864632262769165,
          0.03970898937323058,
          null,
          -0.10389179148035464,
          -0.12829348800125354,
          null,
          -0.10389179148035464,
          -0.10456548270940606,
          null,
          -0.10389179148035464,
          0.18479004246393033,
          null,
          -0.5658114676044649,
          -0.3127670406486983,
          null,
          -0.038158448998233244,
          -0.003646120558807376,
          null,
          -0.27284675754456766,
          -0.10456548270940606,
          null,
          -0.39322507663887846,
          -0.2284237932019038,
          null,
          -0.08389617147458694,
          -0.16609107926339228,
          null,
          -0.08389617147458694,
          -0.08996567791149693,
          null,
          -0.3127670406486983,
          -0.12509210912181978,
          null,
          -0.502331273508831,
          -0.2284237932019038,
          null,
          0.40041032665504905,
          0.642145043089065,
          null,
          -0.04314912179353281,
          0.003067612695142288,
          null,
          -0.46457120755887954,
          -0.3152667970276817,
          null,
          -0.08996567791149693,
          -0.3152667970276817,
          null,
          -0.08996567791149693,
          -0.003646120558807376,
          null,
          -0.2284237932019038,
          -0.12829348800125354,
          null,
          -0.12509210912181978,
          0.28268276372473256,
          null,
          0.3849080608640824,
          0.12685640450955724,
          null,
          0.3849080608640824,
          0.5898663194468534,
          null,
          0.7455773892544664,
          0.4980936531428945,
          null,
          0.43164227208035066,
          0.14101567975978427,
          null,
          0.18479004246393033,
          0.12685640450955724,
          null,
          0.18479004246393033,
          0.14101567975978427,
          null,
          -0.003646120558807376,
          0.12685640450955724,
          null
         ],
         "y": [
          -0.00783866856147817,
          0.048885901390950684,
          null,
          -0.00783866856147817,
          -0.04768479741318171,
          null,
          -0.00783866856147817,
          -0.13250355438449127,
          null,
          -0.00783866856147817,
          0.27672925843003493,
          null,
          -0.00783866856147817,
          -0.004371973826739848,
          null,
          -0.00783866856147817,
          -0.0860655935178369,
          null,
          -0.00783866856147817,
          -0.22666524872803404,
          null,
          -0.00783866856147817,
          -0.2732241559758363,
          null,
          -0.00783866856147817,
          0.15568039689120536,
          null,
          -0.00783866856147817,
          0.23447869569370727,
          null,
          -0.00783866856147817,
          -0.08437985327039982,
          null,
          -0.00783866856147817,
          0.03211123355214287,
          null,
          -0.00783866856147817,
          -0.020072629435909616,
          null,
          -0.00783866856147817,
          -0.26487634050842446,
          null,
          -0.00783866856147817,
          -0.14291745389720942,
          null,
          -0.00783866856147817,
          0.07804010704159507,
          null,
          0.16274659740890474,
          -0.004371973826739848,
          null,
          0.16274659740890474,
          0.38978285584816513,
          null,
          0.16274659740890474,
          -0.04768479741318171,
          null,
          0.16274659740890474,
          0.0652392518692871,
          null,
          0.16274659740890474,
          0.03211123355214287,
          null,
          0.1678176045331341,
          -0.04768479741318171,
          null,
          0.1678176045331341,
          0.43881182227792703,
          null,
          0.1678176045331341,
          -0.004371973826739848,
          null,
          0.1678176045331341,
          0.21079142772528311,
          null,
          0.1678176045331341,
          0.272588715735276,
          null,
          0.1678176045331341,
          0.05072699415010222,
          null,
          0.1678176045331341,
          0.0652392518692871,
          null,
          0.1678176045331341,
          -0.07586626856393996,
          null,
          0.1678176045331341,
          0.15568039689120536,
          null,
          0.1678176045331341,
          0.03211123355214287,
          null,
          -0.2892371601021651,
          -0.04768479741318171,
          null,
          -0.2892371601021651,
          -0.004371973826739848,
          null,
          -0.2892371601021651,
          -0.0860655935178369,
          null,
          -0.2892371601021651,
          -0.5411365586486294,
          null,
          -0.2892371601021651,
          -0.22666524872803404,
          null,
          -0.2892371601021651,
          -0.2732241559758363,
          null,
          -0.2892371601021651,
          -0.527735875064404,
          null,
          -0.2892371601021651,
          -0.1873446255313728,
          null,
          -0.2892371601021651,
          -0.19073440372509765,
          null,
          -0.2892371601021651,
          -0.07586626856393996,
          null,
          -0.2892371601021651,
          -0.26038443074574597,
          null,
          -0.2892371601021651,
          -0.39524501589048083,
          null,
          0.08613891624308131,
          -0.004371973826739848,
          null,
          0.08613891624308131,
          0.3245405071211678,
          null,
          0.08613891624308131,
          0.13231971824273633,
          null,
          -0.020072629435909616,
          0.0431249556107371,
          null,
          -0.020072629435909616,
          -0.2409593378999614,
          null,
          -0.020072629435909616,
          0.05072699415010222,
          null,
          -0.020072629435909616,
          0.0652392518692871,
          null,
          -0.020072629435909616,
          -0.19073440372509765,
          null,
          -0.020072629435909616,
          0.15568039689120536,
          null,
          0.7875878382144371,
          0.5529786131298019,
          null,
          0.7875878382144371,
          1,
          null,
          -0.2409593378999614,
          0.007832424607798696,
          null,
          -0.2409593378999614,
          -0.1873446255313728,
          null,
          -0.2409593378999614,
          -0.19073440372509765,
          null,
          0.7243215306539725,
          0.5169979882308783,
          null,
          0.7243215306539725,
          0.9098242809828126,
          null,
          0.048885901390950684,
          0.16330921656465666,
          null,
          -0.0860655935178369,
          0.16330921656465666,
          null,
          -0.0860655935178369,
          0.05072699415010222,
          null,
          -0.0860655935178369,
          0.0652392518692871,
          null,
          -0.0860655935178369,
          -0.19073440372509765,
          null,
          -0.0860655935178369,
          -0.20645660888465703,
          null,
          -0.22666524872803404,
          -0.1873446255313728,
          null,
          -0.22666524872803404,
          -0.07586626856393996,
          null,
          -0.22666524872803404,
          -0.20432652589232944,
          null,
          -0.22666524872803404,
          -0.26487634050842446,
          null,
          -0.2732241559758363,
          -0.47008835871731003,
          null,
          0.16330921656465666,
          0.25722163642457524,
          null,
          0.16330921656465666,
          0.38978285584816513,
          null,
          0.16330921656465666,
          -0.004371973826739848,
          null,
          0.16330921656465666,
          0.3412626314215412,
          null,
          0.16330921656465666,
          0.27672925843003493,
          null,
          0.16330921656465666,
          0.0652392518692871,
          null,
          0.16330921656465666,
          -0.02053009586499372,
          null,
          -0.1873446255313728,
          -0.004371973826739848,
          null,
          -0.1873446255313728,
          -0.13250355438449127,
          null,
          -0.1873446255313728,
          -0.04768479741318171,
          null,
          -0.1873446255313728,
          -0.4184442384599563,
          null,
          -0.1873446255313728,
          0.0652392518692871,
          null,
          -0.1873446255313728,
          -0.02053009586499372,
          null,
          -0.1873446255313728,
          -0.07586626856393996,
          null,
          -0.1873446255313728,
          -0.19073440372509765,
          null,
          -0.1873446255313728,
          -0.4144164646541619,
          null,
          -0.1873446255313728,
          -0.26038443074574597,
          null,
          -0.1873446255313728,
          -0.14291745389720942,
          null,
          0.05072699415010222,
          -0.004371973826739848,
          null,
          0.05072699415010222,
          -0.04768479741318171,
          null,
          0.05072699415010222,
          -0.13250355438449127,
          null,
          0.05072699415010222,
          0.007832424607798696,
          null,
          0.05072699415010222,
          0.22888000177447834,
          null,
          0.05072699415010222,
          0.27672925843003493,
          null,
          0.05072699415010222,
          0.0652392518692871,
          null,
          0.05072699415010222,
          -0.02053009586499372,
          null,
          0.05072699415010222,
          -0.07586626856393996,
          null,
          0.05072699415010222,
          0.23447869569370727,
          null,
          0.05072699415010222,
          -0.26038443074574597,
          null,
          0.05072699415010222,
          -0.08437985327039982,
          null,
          0.05072699415010222,
          0.03211123355214287,
          null,
          0.05072699415010222,
          0.272588715735276,
          null,
          0.05072699415010222,
          0.15568039689120536,
          null,
          0.05072699415010222,
          0.0957521092848926,
          null,
          0.05072699415010222,
          0.14551927011600255,
          null,
          -0.04768479741318171,
          0.14551927011600255,
          null,
          -0.04768479741318171,
          -0.1028426105442343,
          null,
          -0.04768479741318171,
          0.0652392518692871,
          null,
          -0.04768479741318171,
          -0.19073440372509765,
          null,
          0.0652392518692871,
          -0.13250355438449127,
          null,
          0.0652392518692871,
          -0.004371973826739848,
          null,
          0.0652392518692871,
          0.3513332326792419,
          null,
          0.0652392518692871,
          -0.19073440372509765,
          null,
          0.0652392518692871,
          -0.02053009586499372,
          null,
          0.0652392518692871,
          -0.07586626856393996,
          null,
          0.0652392518692871,
          0.15568039689120536,
          null,
          0.0652392518692871,
          0.23447869569370727,
          null,
          0.0652392518692871,
          0.03211123355214287,
          null,
          0.0652392518692871,
          0.272588715735276,
          null,
          0.0652392518692871,
          0.265665642568649,
          null,
          0.0652392518692871,
          0.07804010704159507,
          null,
          0.0652392518692871,
          0.14551927011600255,
          null,
          -0.7587202689948596,
          -0.527735875064404,
          null,
          -0.19073440372509765,
          -0.13250355438449127,
          null,
          -0.19073440372509765,
          -0.4165832216852434,
          null,
          -0.19073440372509765,
          -0.07586626856393996,
          null,
          -0.19073440372509765,
          -0.4144164646541619,
          null,
          -0.19073440372509765,
          -0.26038443074574597,
          null,
          -0.19073440372509765,
          -0.08437985327039982,
          null,
          -0.19073440372509765,
          0.03211123355214287,
          null,
          -0.19073440372509765,
          -0.14291745389720942,
          null,
          -0.19073440372509765,
          -0.39524501589048083,
          null,
          -0.004371973826739848,
          -0.02053009586499372,
          null,
          0.14551927011600255,
          0.3168784906248377,
          null,
          0.14551927011600255,
          0.15568039689120536,
          null,
          0.14551927011600255,
          -0.08437985327039982,
          null,
          0.14551927011600255,
          0.265665642568649,
          null,
          -0.26487634050842446,
          -0.288291204208205,
          null,
          -0.26487634050842446,
          -0.39524501589048083,
          null,
          -0.26487634050842446,
          -0.08437985327039982,
          null,
          -0.02053009586499372,
          -0.03712531192699146,
          null,
          -0.02053009586499372,
          -0.20432652589232944,
          null,
          0.21079142772528311,
          0.3412626314215412,
          null,
          0.21079142772528311,
          -0.07586626856393996,
          null,
          0.21079142772528311,
          0.272588715735276,
          null,
          0.6339091457144599,
          0.43881182227792703,
          null,
          -0.07586626856393996,
          -0.26038443074574597,
          null,
          -0.07586626856393996,
          -0.15801857293054508,
          null,
          -0.16900221062547138,
          -0.1028426105442343,
          null,
          -0.16900221062547138,
          -0.22650513985197884,
          null,
          0.28461807938658995,
          0.20003158605882274,
          null,
          0.5169979882308783,
          0.23447869569370727,
          null,
          0.15568039689120536,
          0.03211123355214287,
          null,
          0.15568039689120536,
          0.272588715735276,
          null,
          0.15568039689120536,
          0.07804010704159507,
          null,
          0.20003158605882274,
          0.0957521092848926,
          null,
          -0.6524763111468034,
          -0.39524501589048083,
          null,
          0.4678168896024594,
          0.272588715735276,
          null,
          -0.288291204208205,
          -0.08437985327039982,
          null,
          -0.4144164646541619,
          -0.6568114704704547,
          null,
          -0.4144164646541619,
          -0.26038443074574597,
          null,
          0.0957521092848926,
          -0.14291745389720942,
          null,
          -0.10675716660739808,
          -0.08437985327039982,
          null,
          -0.15801857293054508,
          -0.2561943641690967,
          null,
          0.5529786131298019,
          0.27672925843003493,
          null,
          -0.6406955272198264,
          -0.4574431694190544,
          null,
          -0.26038443074574597,
          -0.4574431694190544,
          null,
          -0.26038443074574597,
          -0.39524501589048083,
          null,
          -0.08437985327039982,
          0.03211123355214287,
          null,
          -0.14291745389720942,
          -0.20432652589232944,
          null,
          -0.2842909323919197,
          -0.13250355438449127,
          null,
          -0.2842909323919197,
          -0.43578497933001736,
          null,
          -0.041246868119500665,
          -0.03712531192699146,
          null,
          0.3245405071211678,
          0.265665642568649,
          null,
          0.07804010704159507,
          -0.13250355438449127,
          null,
          0.07804010704159507,
          0.265665642568649,
          null,
          -0.39524501589048083,
          -0.13250355438449127,
          null
         ]
        },
        {
         "hoverinfo": "text",
         "marker": {
          "color": "rgb(255,0,0)",
          "line": {
           "width": 2
          },
          "size": 12
         },
         "mode": "markers",
         "name": "Users",
         "text": [
          "Node: 5<br>Type: users",
          "Node: 10<br>Type: users",
          "Node: 2059<br>Type: users",
          "Node: 14<br>Type: users",
          "Node: 1073<br>Type: users",
          "Node: 2099<br>Type: users",
          "Node: 2119<br>Type: users",
          "Node: 1667<br>Type: users",
          "Node: 1668<br>Type: users",
          "Node: 1669<br>Type: users",
          "Node: 1671<br>Type: users",
          "Node: 1676<br>Type: users",
          "Node: 654<br>Type: users",
          "Node: 2192<br>Type: users",
          "Node: 1706<br>Type: users",
          "Node: 195<br>Type: users",
          "Node: 1750<br>Type: users",
          "Node: 3304<br>Type: users",
          "Node: 1785<br>Type: users",
          "Node: 2328<br>Type: users",
          "Node: 2330<br>Type: users",
          "Node: 1820<br>Type: users",
          "Node: 288<br>Type: users",
          "Node: 1839<br>Type: users",
          "Node: 828<br>Type: users",
          "Node: 1864<br>Type: users",
          "Node: 1879<br>Type: users",
          "Node: 1896<br>Type: users",
          "Node: 2415<br>Type: users",
          "Node: 382<br>Type: users",
          "Node: 897<br>Type: users",
          "Node: 1954<br>Type: users",
          "Node: 3012<br>Type: users",
          "Node: 3014<br>Type: users",
          "Node: 1990<br>Type: users",
          "Node: 2531<br>Type: users"
         ],
         "type": "scatter",
         "x": [
          0.02282726717715724,
          0.09738067306388483,
          -0.021334574103201748,
          0.07016218708481056,
          0.43760271933434364,
          -0.1874143505806888,
          -0.23508062795472845,
          0.2386316932461574,
          0.03552420911866328,
          -0.06823842346069539,
          0.032958375584047114,
          -0.061875552277068216,
          -0.18659367893770287,
          -0.14742548812876247,
          0.21921861837652326,
          0.1745384757025958,
          0.09539546320423448,
          0.14864632262769165,
          -0.10389179148035464,
          -0.39322507663887846,
          -0.10456548270940606,
          -0.08389617147458694,
          -0.3127670406486983,
          0.03970898937323058,
          0.40041032665504905,
          -0.04314912179353281,
          -0.08996567791149693,
          -0.2284237932019038,
          -0.12509210912181978,
          0.3849080608640824,
          -0.4264977663380778,
          -0.12829348800125354,
          0.18479004246393033,
          -0.003646120558807376,
          0.28268276372473256,
          0.14101567975978427
         ],
         "y": [
          -0.00783866856147817,
          0.16274659740890474,
          0.1678176045331341,
          -0.2892371601021651,
          0.08613891624308131,
          -0.020072629435909616,
          -0.2409593378999614,
          0.16330921656465666,
          -0.1873446255313728,
          0.05072699415010222,
          0.0652392518692871,
          -0.19073440372509765,
          0.14551927011600255,
          -0.26487634050842446,
          -0.02053009586499372,
          0.21079142772528311,
          -0.07586626856393996,
          0.5169979882308783,
          0.15568039689120536,
          -0.288291204208205,
          0.272588715735276,
          -0.4144164646541619,
          0.0957521092848926,
          0.23447869569370727,
          -0.15801857293054508,
          0.5529786131298019,
          -0.26038443074574597,
          -0.08437985327039982,
          -0.14291745389720942,
          -0.2842909323919197,
          -0.1028426105442343,
          0.03211123355214287,
          0.07804010704159507,
          -0.39524501589048083,
          -0.20432652589232944,
          0.265665642568649
         ]
        },
        {
         "hoverinfo": "text",
         "marker": {
          "color": "rgb(255,255,0)",
          "line": {
           "width": 2
          },
          "size": 12
         },
         "mode": "markers",
         "name": "Songs",
         "text": [
          "Node: 122940<br>Type: songs",
          "Node: 248428<br>Type: songs",
          "Node: 206447<br>Type: songs",
          "Node: 129659<br>Type: songs",
          "Node: 250496<br>Type: songs",
          "Node: 100993<br>Type: songs",
          "Node: 9350<br>Type: songs",
          "Node: 12941<br>Type: songs",
          "Node: 179393<br>Type: songs",
          "Node: 246478<br>Type: songs",
          "Node: 195798<br>Type: songs",
          "Node: 103146<br>Type: songs",
          "Node: 173292<br>Type: songs",
          "Node: 116485<br>Type: songs",
          "Node: 117004<br>Type: songs",
          "Node: 114448<br>Type: songs",
          "Node: 169766<br>Type: songs",
          "Node: 25382<br>Type: songs",
          "Node: 254248<br>Type: songs",
          "Node: 68926<br>Type: songs",
          "Node: 93513<br>Type: songs",
          "Node: 106854<br>Type: songs",
          "Node: 81768<br>Type: songs",
          "Node: 139635<br>Type: songs",
          "Node: 63867<br>Type: songs",
          "Node: 190347<br>Type: songs",
          "Node: 154011<br>Type: songs",
          "Node: 9135<br>Type: songs",
          "Node: 94133<br>Type: songs",
          "Node: 79289<br>Type: songs",
          "Node: 86981<br>Type: songs",
          "Node: 10711<br>Type: songs",
          "Node: 250342<br>Type: songs",
          "Node: 81384<br>Type: songs",
          "Node: 18431<br>Type: songs"
         ],
         "type": "scatter",
         "x": [
          -0.09997981230424374,
          0.2815312302110236,
          0.3282266176747372,
          0.007053774333661724,
          0.13289261666800822,
          0.22854105425460428,
          -0.10355114225854715,
          0.1502312995057703,
          -0.21598824253935672,
          0.045113352946023186,
          -0.6832931227449855,
          0.6859489860176364,
          0.35794808294572156,
          -0.5658114676044649,
          -0.038158448998233244,
          -0.27284675754456766,
          -0.32600228684211835,
          -0.16943993030266674,
          -0.502331273508831,
          -0.2833618326517021,
          -0.3975976042278012,
          -0.47355875282283383,
          0.4905015616990712,
          0.003067612695142288,
          0.2627061250875283,
          0.18633881572160943,
          -0.16609107926339228,
          0.08562721083105601,
          0.19953132146244185,
          0.43164227208035066,
          0.4980936531428945,
          0.12685640450955724,
          -0.3152667970276817,
          0.642145043089065,
          0.5898663194468534
         ],
         "y": [
          0.7875878382144371,
          0.7243215306539725,
          0.048885901390950684,
          -0.0860655935178369,
          -0.22666524872803404,
          -0.2732241559758363,
          -0.04768479741318171,
          -0.004371973826739848,
          -0.4165832216852434,
          0.3513332326792419,
          -0.16900221062547138,
          0.13231971824273633,
          0.3412626314215412,
          0.20003158605882274,
          -0.6524763111468034,
          0.4678168896024594,
          0.007832424607798696,
          0.43881182227792703,
          -0.10675716660739808,
          0.22888000177447834,
          0.3168784906248377,
          0.0431249556107371,
          0.25722163642457524,
          0.27672925843003493,
          0.38978285584816513,
          -0.4184442384599563,
          -0.6568114704704547,
          -0.5411365586486294,
          -0.527735875064404,
          0.3245405071211678,
          -0.03712531192699146,
          -0.13250355438449127,
          -0.4574431694190544,
          -0.2561943641690967,
          -0.43578497933001736
         ]
        },
        {
         "hoverinfo": "text",
         "marker": {
          "color": "rgb(0,0,255)",
          "line": {
           "width": 2
          },
          "size": 12
         },
         "mode": "markers",
         "name": "Artists",
         "text": [
          "Node: 258186<br>Type: artists",
          "Node: 273610<br>Type: artists",
          "Node: 271568<br>Type: artists",
          "Node: 256210<br>Type: artists",
          "Node: 273116<br>Type: artists",
          "Node: 260869<br>Type: artists",
          "Node: 276297<br>Type: artists",
          "Node: 282452<br>Type: artists",
          "Node: 267134<br>Type: artists",
          "Node: 274852<br>Type: artists"
         ],
         "type": "scatter",
         "x": [
          0.2600843804276539,
          -0.165364322358462,
          -0.3395464250934452,
          -0.3488624384113081,
          -0.780507557779986,
          0.41263749500595565,
          -0.9013278193534623,
          -0.46457120755887954,
          0.40627017014688316,
          0.7455773892544664
         ],
         "y": [
          -0.7587202689948596,
          1,
          0.6339091457144599,
          -0.20645660888465703,
          0.28461807938658995,
          -0.47008835871731003,
          -0.22650513985197884,
          -0.6406955272198264,
          0.9098242809828126,
          -0.041246868119500665
         ]
        }
       ],
       "layout": {
        "annotations": [
         {
          "showarrow": false,
          "text": "Python code: <a href='https://plotly.com/'>Plotly</a>",
          "x": 0.005,
          "xref": "paper",
          "y": -0.002,
          "yref": "paper"
         }
        ],
        "height": 1000,
        "hovermode": "closest",
        "legend": {
         "bgcolor": "rgba(255, 255, 255, 0.5)",
         "bordercolor": "Black",
         "borderwidth": 1,
         "x": 0.01,
         "xanchor": "left",
         "y": 0.99,
         "yanchor": "top"
        },
        "margin": {
         "b": 20,
         "l": 5,
         "r": 5,
         "t": 40
        },
        "showlegend": true,
        "template": {
         "data": {
          "bar": [
           {
            "error_x": {
             "color": "#2a3f5f"
            },
            "error_y": {
             "color": "#2a3f5f"
            },
            "marker": {
             "line": {
              "color": "#E5ECF6",
              "width": 0.5
             },
             "pattern": {
              "fillmode": "overlay",
              "size": 10,
              "solidity": 0.2
             }
            },
            "type": "bar"
           }
          ],
          "barpolar": [
           {
            "marker": {
             "line": {
              "color": "#E5ECF6",
              "width": 0.5
             },
             "pattern": {
              "fillmode": "overlay",
              "size": 10,
              "solidity": 0.2
             }
            },
            "type": "barpolar"
           }
          ],
          "carpet": [
           {
            "aaxis": {
             "endlinecolor": "#2a3f5f",
             "gridcolor": "white",
             "linecolor": "white",
             "minorgridcolor": "white",
             "startlinecolor": "#2a3f5f"
            },
            "baxis": {
             "endlinecolor": "#2a3f5f",
             "gridcolor": "white",
             "linecolor": "white",
             "minorgridcolor": "white",
             "startlinecolor": "#2a3f5f"
            },
            "type": "carpet"
           }
          ],
          "choropleth": [
           {
            "colorbar": {
             "outlinewidth": 0,
             "ticks": ""
            },
            "type": "choropleth"
           }
          ],
          "contour": [
           {
            "colorbar": {
             "outlinewidth": 0,
             "ticks": ""
            },
            "colorscale": [
             [
              0,
              "#0d0887"
             ],
             [
              0.1111111111111111,
              "#46039f"
             ],
             [
              0.2222222222222222,
              "#7201a8"
             ],
             [
              0.3333333333333333,
              "#9c179e"
             ],
             [
              0.4444444444444444,
              "#bd3786"
             ],
             [
              0.5555555555555556,
              "#d8576b"
             ],
             [
              0.6666666666666666,
              "#ed7953"
             ],
             [
              0.7777777777777778,
              "#fb9f3a"
             ],
             [
              0.8888888888888888,
              "#fdca26"
             ],
             [
              1,
              "#f0f921"
             ]
            ],
            "type": "contour"
           }
          ],
          "contourcarpet": [
           {
            "colorbar": {
             "outlinewidth": 0,
             "ticks": ""
            },
            "type": "contourcarpet"
           }
          ],
          "heatmap": [
           {
            "colorbar": {
             "outlinewidth": 0,
             "ticks": ""
            },
            "colorscale": [
             [
              0,
              "#0d0887"
             ],
             [
              0.1111111111111111,
              "#46039f"
             ],
             [
              0.2222222222222222,
              "#7201a8"
             ],
             [
              0.3333333333333333,
              "#9c179e"
             ],
             [
              0.4444444444444444,
              "#bd3786"
             ],
             [
              0.5555555555555556,
              "#d8576b"
             ],
             [
              0.6666666666666666,
              "#ed7953"
             ],
             [
              0.7777777777777778,
              "#fb9f3a"
             ],
             [
              0.8888888888888888,
              "#fdca26"
             ],
             [
              1,
              "#f0f921"
             ]
            ],
            "type": "heatmap"
           }
          ],
          "heatmapgl": [
           {
            "colorbar": {
             "outlinewidth": 0,
             "ticks": ""
            },
            "colorscale": [
             [
              0,
              "#0d0887"
             ],
             [
              0.1111111111111111,
              "#46039f"
             ],
             [
              0.2222222222222222,
              "#7201a8"
             ],
             [
              0.3333333333333333,
              "#9c179e"
             ],
             [
              0.4444444444444444,
              "#bd3786"
             ],
             [
              0.5555555555555556,
              "#d8576b"
             ],
             [
              0.6666666666666666,
              "#ed7953"
             ],
             [
              0.7777777777777778,
              "#fb9f3a"
             ],
             [
              0.8888888888888888,
              "#fdca26"
             ],
             [
              1,
              "#f0f921"
             ]
            ],
            "type": "heatmapgl"
           }
          ],
          "histogram": [
           {
            "marker": {
             "pattern": {
              "fillmode": "overlay",
              "size": 10,
              "solidity": 0.2
             }
            },
            "type": "histogram"
           }
          ],
          "histogram2d": [
           {
            "colorbar": {
             "outlinewidth": 0,
             "ticks": ""
            },
            "colorscale": [
             [
              0,
              "#0d0887"
             ],
             [
              0.1111111111111111,
              "#46039f"
             ],
             [
              0.2222222222222222,
              "#7201a8"
             ],
             [
              0.3333333333333333,
              "#9c179e"
             ],
             [
              0.4444444444444444,
              "#bd3786"
             ],
             [
              0.5555555555555556,
              "#d8576b"
             ],
             [
              0.6666666666666666,
              "#ed7953"
             ],
             [
              0.7777777777777778,
              "#fb9f3a"
             ],
             [
              0.8888888888888888,
              "#fdca26"
             ],
             [
              1,
              "#f0f921"
             ]
            ],
            "type": "histogram2d"
           }
          ],
          "histogram2dcontour": [
           {
            "colorbar": {
             "outlinewidth": 0,
             "ticks": ""
            },
            "colorscale": [
             [
              0,
              "#0d0887"
             ],
             [
              0.1111111111111111,
              "#46039f"
             ],
             [
              0.2222222222222222,
              "#7201a8"
             ],
             [
              0.3333333333333333,
              "#9c179e"
             ],
             [
              0.4444444444444444,
              "#bd3786"
             ],
             [
              0.5555555555555556,
              "#d8576b"
             ],
             [
              0.6666666666666666,
              "#ed7953"
             ],
             [
              0.7777777777777778,
              "#fb9f3a"
             ],
             [
              0.8888888888888888,
              "#fdca26"
             ],
             [
              1,
              "#f0f921"
             ]
            ],
            "type": "histogram2dcontour"
           }
          ],
          "mesh3d": [
           {
            "colorbar": {
             "outlinewidth": 0,
             "ticks": ""
            },
            "type": "mesh3d"
           }
          ],
          "parcoords": [
           {
            "line": {
             "colorbar": {
              "outlinewidth": 0,
              "ticks": ""
             }
            },
            "type": "parcoords"
           }
          ],
          "pie": [
           {
            "automargin": true,
            "type": "pie"
           }
          ],
          "scatter": [
           {
            "fillpattern": {
             "fillmode": "overlay",
             "size": 10,
             "solidity": 0.2
            },
            "type": "scatter"
           }
          ],
          "scatter3d": [
           {
            "line": {
             "colorbar": {
              "outlinewidth": 0,
              "ticks": ""
             }
            },
            "marker": {
             "colorbar": {
              "outlinewidth": 0,
              "ticks": ""
             }
            },
            "type": "scatter3d"
           }
          ],
          "scattercarpet": [
           {
            "marker": {
             "colorbar": {
              "outlinewidth": 0,
              "ticks": ""
             }
            },
            "type": "scattercarpet"
           }
          ],
          "scattergeo": [
           {
            "marker": {
             "colorbar": {
              "outlinewidth": 0,
              "ticks": ""
             }
            },
            "type": "scattergeo"
           }
          ],
          "scattergl": [
           {
            "marker": {
             "colorbar": {
              "outlinewidth": 0,
              "ticks": ""
             }
            },
            "type": "scattergl"
           }
          ],
          "scattermapbox": [
           {
            "marker": {
             "colorbar": {
              "outlinewidth": 0,
              "ticks": ""
             }
            },
            "type": "scattermapbox"
           }
          ],
          "scatterpolar": [
           {
            "marker": {
             "colorbar": {
              "outlinewidth": 0,
              "ticks": ""
             }
            },
            "type": "scatterpolar"
           }
          ],
          "scatterpolargl": [
           {
            "marker": {
             "colorbar": {
              "outlinewidth": 0,
              "ticks": ""
             }
            },
            "type": "scatterpolargl"
           }
          ],
          "scatterternary": [
           {
            "marker": {
             "colorbar": {
              "outlinewidth": 0,
              "ticks": ""
             }
            },
            "type": "scatterternary"
           }
          ],
          "surface": [
           {
            "colorbar": {
             "outlinewidth": 0,
             "ticks": ""
            },
            "colorscale": [
             [
              0,
              "#0d0887"
             ],
             [
              0.1111111111111111,
              "#46039f"
             ],
             [
              0.2222222222222222,
              "#7201a8"
             ],
             [
              0.3333333333333333,
              "#9c179e"
             ],
             [
              0.4444444444444444,
              "#bd3786"
             ],
             [
              0.5555555555555556,
              "#d8576b"
             ],
             [
              0.6666666666666666,
              "#ed7953"
             ],
             [
              0.7777777777777778,
              "#fb9f3a"
             ],
             [
              0.8888888888888888,
              "#fdca26"
             ],
             [
              1,
              "#f0f921"
             ]
            ],
            "type": "surface"
           }
          ],
          "table": [
           {
            "cells": {
             "fill": {
              "color": "#EBF0F8"
             },
             "line": {
              "color": "white"
             }
            },
            "header": {
             "fill": {
              "color": "#C8D4E3"
             },
             "line": {
              "color": "white"
             }
            },
            "type": "table"
           }
          ]
         },
         "layout": {
          "annotationdefaults": {
           "arrowcolor": "#2a3f5f",
           "arrowhead": 0,
           "arrowwidth": 1
          },
          "autotypenumbers": "strict",
          "coloraxis": {
           "colorbar": {
            "outlinewidth": 0,
            "ticks": ""
           }
          },
          "colorscale": {
           "diverging": [
            [
             0,
             "#8e0152"
            ],
            [
             0.1,
             "#c51b7d"
            ],
            [
             0.2,
             "#de77ae"
            ],
            [
             0.3,
             "#f1b6da"
            ],
            [
             0.4,
             "#fde0ef"
            ],
            [
             0.5,
             "#f7f7f7"
            ],
            [
             0.6,
             "#e6f5d0"
            ],
            [
             0.7,
             "#b8e186"
            ],
            [
             0.8,
             "#7fbc41"
            ],
            [
             0.9,
             "#4d9221"
            ],
            [
             1,
             "#276419"
            ]
           ],
           "sequential": [
            [
             0,
             "#0d0887"
            ],
            [
             0.1111111111111111,
             "#46039f"
            ],
            [
             0.2222222222222222,
             "#7201a8"
            ],
            [
             0.3333333333333333,
             "#9c179e"
            ],
            [
             0.4444444444444444,
             "#bd3786"
            ],
            [
             0.5555555555555556,
             "#d8576b"
            ],
            [
             0.6666666666666666,
             "#ed7953"
            ],
            [
             0.7777777777777778,
             "#fb9f3a"
            ],
            [
             0.8888888888888888,
             "#fdca26"
            ],
            [
             1,
             "#f0f921"
            ]
           ],
           "sequentialminus": [
            [
             0,
             "#0d0887"
            ],
            [
             0.1111111111111111,
             "#46039f"
            ],
            [
             0.2222222222222222,
             "#7201a8"
            ],
            [
             0.3333333333333333,
             "#9c179e"
            ],
            [
             0.4444444444444444,
             "#bd3786"
            ],
            [
             0.5555555555555556,
             "#d8576b"
            ],
            [
             0.6666666666666666,
             "#ed7953"
            ],
            [
             0.7777777777777778,
             "#fb9f3a"
            ],
            [
             0.8888888888888888,
             "#fdca26"
            ],
            [
             1,
             "#f0f921"
            ]
           ]
          },
          "colorway": [
           "#636efa",
           "#EF553B",
           "#00cc96",
           "#ab63fa",
           "#FFA15A",
           "#19d3f3",
           "#FF6692",
           "#B6E880",
           "#FF97FF",
           "#FECB52"
          ],
          "font": {
           "color": "#2a3f5f"
          },
          "geo": {
           "bgcolor": "white",
           "lakecolor": "white",
           "landcolor": "#E5ECF6",
           "showlakes": true,
           "showland": true,
           "subunitcolor": "white"
          },
          "hoverlabel": {
           "align": "left"
          },
          "hovermode": "closest",
          "mapbox": {
           "style": "light"
          },
          "paper_bgcolor": "white",
          "plot_bgcolor": "#E5ECF6",
          "polar": {
           "angularaxis": {
            "gridcolor": "white",
            "linecolor": "white",
            "ticks": ""
           },
           "bgcolor": "#E5ECF6",
           "radialaxis": {
            "gridcolor": "white",
            "linecolor": "white",
            "ticks": ""
           }
          },
          "scene": {
           "xaxis": {
            "backgroundcolor": "#E5ECF6",
            "gridcolor": "white",
            "gridwidth": 2,
            "linecolor": "white",
            "showbackground": true,
            "ticks": "",
            "zerolinecolor": "white"
           },
           "yaxis": {
            "backgroundcolor": "#E5ECF6",
            "gridcolor": "white",
            "gridwidth": 2,
            "linecolor": "white",
            "showbackground": true,
            "ticks": "",
            "zerolinecolor": "white"
           },
           "zaxis": {
            "backgroundcolor": "#E5ECF6",
            "gridcolor": "white",
            "gridwidth": 2,
            "linecolor": "white",
            "showbackground": true,
            "ticks": "",
            "zerolinecolor": "white"
           }
          },
          "shapedefaults": {
           "line": {
            "color": "#2a3f5f"
           }
          },
          "ternary": {
           "aaxis": {
            "gridcolor": "white",
            "linecolor": "white",
            "ticks": ""
           },
           "baxis": {
            "gridcolor": "white",
            "linecolor": "white",
            "ticks": ""
           },
           "bgcolor": "#E5ECF6",
           "caxis": {
            "gridcolor": "white",
            "linecolor": "white",
            "ticks": ""
           }
          },
          "title": {
           "x": 0.05
          },
          "xaxis": {
           "automargin": true,
           "gridcolor": "white",
           "linecolor": "white",
           "ticks": "",
           "title": {
            "standoff": 15
           },
           "zerolinecolor": "white",
           "zerolinewidth": 2
          },
          "yaxis": {
           "automargin": true,
           "gridcolor": "white",
           "linecolor": "white",
           "ticks": "",
           "title": {
            "standoff": 15
           },
           "zerolinecolor": "white",
           "zerolinewidth": 2
          }
         }
        },
        "title": {
         "font": {
          "size": 16
         },
         "text": "<br>Network graph with selectable node types"
        },
        "updatemenus": [
         {
          "active": 0,
          "buttons": [
           {
            "args": [
             {
              "visible": [
               true,
               true,
               true,
               true
              ]
             },
             {
              "title": "All node types"
             }
            ],
            "label": "All",
            "method": "update"
           },
           {
            "args": [
             {
              "visible": [
               true,
               true,
               false,
               false
              ]
             },
             {
              "title": "Users only"
             }
            ],
            "label": "Users",
            "method": "update"
           },
           {
            "args": [
             {
              "visible": [
               true,
               false,
               true,
               false
              ]
             },
             {
              "title": "Songs only"
             }
            ],
            "label": "Songs",
            "method": "update"
           },
           {
            "args": [
             {
              "visible": [
               true,
               false,
               false,
               true
              ]
             },
             {
              "title": "Artists only"
             }
            ],
            "label": "Artists",
            "method": "update"
           }
          ],
          "direction": "right",
          "type": "buttons",
          "x": 0.57,
          "y": 1.2
         }
        ],
        "width": 1200,
        "xaxis": {
         "showgrid": false,
         "showticklabels": false,
         "zeroline": false
        },
        "yaxis": {
         "showgrid": false,
         "showticklabels": false,
         "zeroline": false
        }
       }
      }
     },
     "metadata": {},
     "output_type": "display_data"
    }
   ],
   "source": [
    "import plotly.graph_objects as go\n",
    "import networkx as nx\n",
    "\n",
    "# Assuming you have already defined your graph 'subgraph'\n",
    "color_map = {'users': 'rgb(255,0,0)', 'songs': 'rgb(255,255,0)', 'artists': 'rgb(0,0,255)'}\n",
    "\n",
    "# Extracting node types and colors\n",
    "node_types = nx.get_node_attributes(subgraph, 'type')\n",
    "\n",
    "# Creating separate traces for each node type\n",
    "traces = []\n",
    "for node_type in color_map:\n",
    "    node_x = []\n",
    "    node_y = []\n",
    "    for node, data in subgraph.nodes(data=True):\n",
    "        if data['type'] == node_type:\n",
    "            x, y = pos[node]\n",
    "            node_x.append(x)\n",
    "            node_y.append(y)\n",
    "    \n",
    "    node_trace = go.Scatter(\n",
    "        x=node_x, y=node_y,\n",
    "        mode='markers',\n",
    "        name=node_type.capitalize(),\n",
    "        marker=dict(\n",
    "            color=color_map[node_type],\n",
    "            size=12,\n",
    "            line_width=2\n",
    "        ),\n",
    "        text=[f\"Node: {node}<br>Type: {node_type}\" for node in subgraph.nodes() if subgraph.nodes[node]['type'] == node_type],\n",
    "        hoverinfo='text'\n",
    "    )\n",
    "    traces.append(node_trace)\n",
    "\n",
    "# Creating edge trace\n",
    "edge_x = []\n",
    "edge_y = []\n",
    "for edge in subgraph.edges():\n",
    "    x0, y0 = pos[edge[0]]\n",
    "    x1, y1 = pos[edge[1]]\n",
    "    edge_x.extend([x0, x1, None])\n",
    "    edge_y.extend([y0, y1, None])\n",
    "\n",
    "edge_trace = go.Scatter(\n",
    "    x=edge_x, y=edge_y,\n",
    "    line=dict(width=0.5, color='#888'),\n",
    "    hoverinfo='none',\n",
    "    mode='lines',\n",
    "    name='Edges'\n",
    ")\n",
    "\n",
    "# Add edge trace to the beginning of traces list\n",
    "traces.insert(0, edge_trace)\n",
    "\n",
    "# Creating figure\n",
    "fig = go.Figure(data=traces,\n",
    "                layout=go.Layout(\n",
    "                    title='<br>Network graph with selectable node types',\n",
    "                    titlefont_size=16,\n",
    "                    showlegend=True,\n",
    "                    hovermode='closest',\n",
    "                    margin=dict(b=20, l=5, r=5, t=40),\n",
    "                    annotations=[dict(\n",
    "                        text=\"Python code: <a href='https://plotly.com/'>Plotly</a>\",\n",
    "                        showarrow=False,\n",
    "                        xref=\"paper\", yref=\"paper\",\n",
    "                        x=0.005, y=-0.002\n",
    "                    )],\n",
    "                    xaxis=dict(showgrid=False, zeroline=False, showticklabels=False),\n",
    "                    yaxis=dict(showgrid=False, zeroline=False, showticklabels=False),\n",
    "                    width=1200,\n",
    "                    height=1000,\n",
    "                    legend=dict(\n",
    "                        yanchor=\"top\",\n",
    "                        y=0.99,\n",
    "                        xanchor=\"left\",\n",
    "                        x=0.01,\n",
    "                        bgcolor=\"rgba(255, 255, 255, 0.5)\",\n",
    "                        bordercolor=\"Black\",\n",
    "                        borderwidth=1\n",
    "                    )\n",
    "                ))\n",
    "\n",
    "# Update layout to have a toggle for each trace\n",
    "fig.update_layout(\n",
    "    updatemenus=[\n",
    "        dict(\n",
    "            type=\"buttons\",\n",
    "            direction=\"right\",\n",
    "            active=0,\n",
    "            x=0.57,\n",
    "            y=1.2,\n",
    "            buttons=list([\n",
    "                dict(label=\"All\",\n",
    "                     method=\"update\",\n",
    "                     args=[{\"visible\": [True] * len(traces)},\n",
    "                           {\"title\": \"All node types\"}]),\n",
    "                dict(label=\"Users\",\n",
    "                     method=\"update\",\n",
    "                     args=[{\"visible\": [True, True, False, False]},\n",
    "                           {\"title\": \"Users only\"}]),\n",
    "                dict(label=\"Songs\",\n",
    "                     method=\"update\",\n",
    "                     args=[{\"visible\": [True, False, True, False]},\n",
    "                           {\"title\": \"Songs only\"}]),\n",
    "                dict(label=\"Artists\",\n",
    "                     method=\"update\",\n",
    "                     args=[{\"visible\": [True, False, False, True]},\n",
    "                           {\"title\": \"Artists only\"}]),\n",
    "            ]),\n",
    "        )\n",
    "    ]\n",
    ")\n",
    "\n",
    "# Show plot\n",
    "fig.show()"
   ]
  },
  {
   "cell_type": "code",
   "execution_count": null,
   "id": "366c61d0",
   "metadata": {},
   "outputs": [
    {
     "name": "stdout",
     "output_type": "stream",
     "text": [
      "Warning: When  cdn_resources is 'local' jupyter notebook has issues displaying graphics on chrome/safari. Use cdn_resources='in_line' or cdn_resources='remote' if you have issues viewing graphics in a notebook.\n"
     ]
    }
   ],
   "source": [
    "from pyvis.network import Network\n",
    "import networkx as nx\n",
    "import random\n",
    "from IPython.display import IFrame, display, HTML\n",
    "\n",
    "\n",
    "# Create a Pyvis network\n",
    "net = Network(height=\"750px\", width=\"100%\", bgcolor=\"#222222\", font_color=\"white\", notebook=True)\n",
    "\n",
    "# Set some display options\n",
    "net.toggle_hide_edges_on_drag(True)\n",
    "net.barnes_hut()\n",
    "net.show_buttons(filter_=['physics'])\n",
    "\n",
    "# Define node colors and sizes\n",
    "color_map = {'users': '#ff6b6b', 'songs': '#feca57', 'artists': '#48dbfb'}\n",
    "size_map = {'users': 30, 'songs': 25, 'artists': 35}  # Increased sizes\n",
    "\n",
    "# Define edge colors\n",
    "edge_color_map = {\n",
    "    ('users', 'songs'): '#ff9ff3',  # User-Song connections\n",
    "    ('artists', 'songs'): '#54a0ff',  # Artist-Song connections\n",
    "    ('users', 'users'): '#5f27cd'  # User-User connections\n",
    "}\n",
    "\n",
    "# Add nodes to the network\n",
    "for node, data in subgraph.nodes(data=True):\n",
    "    node_type = data['type']\n",
    "    net.add_node(node, \n",
    "                 label=f\"{node_type}: {node}\", \n",
    "                 color=color_map[node_type], \n",
    "                 size=size_map[node_type],\n",
    "                 title=f\"Node: {node}<br>Type: {node_type}\")\n",
    "\n",
    "# Add edges to the network\n",
    "for edge in subgraph.edges(data=True):\n",
    "    source_type = subgraph.nodes[edge[0]]['type']\n",
    "    target_type = subgraph.nodes[edge[1]]['type']\n",
    "    edge_type = tuple(sorted([source_type, target_type]))\n",
    "    color = edge_color_map.get(edge_type, '#888888')  # Default color if not in map\n",
    "    net.add_edge(edge[0], edge[1], color=color)\n",
    "\n",
    "# Generate the HTML file\n",
    "net.save_graph(\"data/beautiful_graph.html\")\n",
    "\n",
    "# Create a legend\n",
    "legend_html = \"\"\"\n",
    "<div style=\"position: absolute; top: 10px; left: 10px; background-color: rgba(255,255,255,0.7); padding: 10px; border-radius: 5px;\">\n",
    "    <h3 style=\"margin-top: 0;\">Legend</h3>\n",
    "    <h4>Node Types:</h4>\n",
    "    <ul style=\"list-style-type: none; padding-left: 0;\">\n",
    "\"\"\"\n",
    "\n",
    "for node_type, color in color_map.items():\n",
    "    legend_html += f'<li><span style=\"display: inline-block; width: 20px; height: 20px; background-color: {color}; margin-right: 5px;\"></span>{node_type.capitalize()}</li>'\n",
    "\n",
    "legend_html += \"\"\"\n",
    "    </ul>\n",
    "    <h4>Edge Types:</h4>\n",
    "    <ul style=\"list-style-type: none; padding-left: 0;\">\n",
    "\"\"\"\n",
    "\n",
    "for edge_type, color in edge_color_map.items():\n",
    "    legend_html += f'<li><span style=\"display: inline-block; width: 20px; height: 20px; background-color: {color}; margin-right: 5px;\"></span>{edge_type[0].capitalize()} - {edge_type[1].capitalize()}</li>'\n",
    "\n",
    "legend_html += \"\"\"\n",
    "    </ul>\n",
    "</div>\n",
    "\"\"\"\n",
    "\n",
    "# Add the legend to the HTML file\n",
    "with open(\"data/beautiful_graph.html\", \"r\") as file:\n",
    "    content = file.read()\n",
    "    content = content.replace(\"</body>\", legend_html + \"</body>\")\n",
    "\n",
    "with open(\"data/beautiful_graph.html\", \"w\") as file:\n",
    "    file.write(content)\n"
   ]
  }
 ],
 "metadata": {
  "kernelspec": {
   "display_name": "Python 3 (ipykernel)",
   "language": "python",
   "name": "python3"
  },
  "language_info": {
   "codemirror_mode": {
    "name": "ipython",
    "version": 3
   },
   "file_extension": ".py",
   "mimetype": "text/x-python",
   "name": "python",
   "nbconvert_exporter": "python",
   "pygments_lexer": "ipython3",
   "version": "3.12.2"
  }
 },
 "nbformat": 4,
 "nbformat_minor": 5
}
